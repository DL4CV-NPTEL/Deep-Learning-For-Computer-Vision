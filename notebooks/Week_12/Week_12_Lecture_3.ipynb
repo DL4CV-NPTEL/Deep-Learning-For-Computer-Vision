{
  "nbformat": 4,
  "nbformat_minor": 0,
  "metadata": {
    "colab": {
      "name": "Week_12_Lecture_3.ipynb",
      "provenance": [],
      "gpuType": "T4",
      "include_colab_link": true
    },
    "kernelspec": {
      "name": "python3",
      "display_name": "Python 3"
    },
    "language_info": {
      "name": "python"
    },
    "widgets": {
      "application/vnd.jupyter.widget-state+json": {
        "8216693fefac4f848cb174a0cfc6ecff": {
          "model_module": "@jupyter-widgets/output",
          "model_name": "OutputModel",
          "model_module_version": "1.0.0",
          "state": {
            "_dom_classes": [],
            "_model_module": "@jupyter-widgets/output",
            "_model_module_version": "1.0.0",
            "_model_name": "OutputModel",
            "_view_count": null,
            "_view_module": "@jupyter-widgets/output",
            "_view_module_version": "1.0.0",
            "_view_name": "OutputView",
            "layout": "IPY_MODEL_c45e13c7bb1b4a6f97e66df59205170e",
            "msg_id": "",
            "outputs": [
              {
                "output_type": "stream",
                "name": "stdout",
                "text": [
                  "Video available at https://youtube.com/watch?v=hTroTWINb5w\n"
                ]
              },
              {
                "output_type": "display_data",
                "data": {
                  "text/plain": "<IPython.lib.display.YouTubeVideo at 0x7fbb05e77ac0>",
                  "text/html": "\n        <iframe\n            width=\"854\"\n            height=\"480\"\n            src=\"https://www.youtube.com/embed/hTroTWINb5w?fs=1&rel=0\"\n            frameborder=\"0\"\n            allowfullscreen\n            \n        ></iframe>\n        ",
                  "image/jpeg": "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\n"
                },
                "metadata": {}
              }
            ]
          }
        },
        "c45e13c7bb1b4a6f97e66df59205170e": {
          "model_module": "@jupyter-widgets/base",
          "model_name": "LayoutModel",
          "model_module_version": "1.2.0",
          "state": {
            "_model_module": "@jupyter-widgets/base",
            "_model_module_version": "1.2.0",
            "_model_name": "LayoutModel",
            "_view_count": null,
            "_view_module": "@jupyter-widgets/base",
            "_view_module_version": "1.2.0",
            "_view_name": "LayoutView",
            "align_content": null,
            "align_items": null,
            "align_self": null,
            "border": null,
            "bottom": null,
            "display": null,
            "flex": null,
            "flex_flow": null,
            "grid_area": null,
            "grid_auto_columns": null,
            "grid_auto_flow": null,
            "grid_auto_rows": null,
            "grid_column": null,
            "grid_gap": null,
            "grid_row": null,
            "grid_template_areas": null,
            "grid_template_columns": null,
            "grid_template_rows": null,
            "height": null,
            "justify_content": null,
            "justify_items": null,
            "left": null,
            "margin": null,
            "max_height": null,
            "max_width": null,
            "min_height": null,
            "min_width": null,
            "object_fit": null,
            "object_position": null,
            "order": null,
            "overflow": null,
            "overflow_x": null,
            "overflow_y": null,
            "padding": null,
            "right": null,
            "top": null,
            "visibility": null,
            "width": null
          }
        }
      }
    },
    "accelerator": "GPU"
  },
  "cells": [
    {
      "cell_type": "markdown",
      "metadata": {
        "id": "view-in-github",
        "colab_type": "text"
      },
      "source": [
        "<a href=\"https://colab.research.google.com/github/DL4CV-NPTEL/Deep-Learning-For-Computer-Vision/blob/main/notebooks/Week_12/Week_12_Lecture_3.ipynb\" target=\"_parent\"><img src=\"https://colab.research.google.com/assets/colab-badge.svg\" alt=\"Open In Colab\"/></a>"
      ]
    },
    {
      "cell_type": "markdown",
      "source": [
        "# Lecture 3: Self-Supervised Learning"
      ],
      "metadata": {
        "id": "vvHsCf7AvJw2"
      }
    },
    {
      "cell_type": "code",
      "source": [
        "#@title \n",
        "from ipywidgets import widgets\n",
        "out1 = widgets.Output()\n",
        "with out1:\n",
        "  from IPython.display import YouTubeVideo\n",
        "  video = YouTubeVideo(id=f\"hTroTWINb5w\", width=854, height=480, fs=1, rel=0)\n",
        "  print(\"Video available at https://youtube.com/watch?v=\" + video.id)\n",
        "  display(video)\n",
        "display(out1)"
      ],
      "metadata": {
        "colab": {
          "base_uri": "https://localhost:8080/",
          "height": 539,
          "referenced_widgets": [
            "8216693fefac4f848cb174a0cfc6ecff",
            "c45e13c7bb1b4a6f97e66df59205170e"
          ]
        },
        "cellView": "form",
        "id": "nso-7mLsvLai",
        "outputId": "36b23968-bf31-46c3-92f2-b3aee6b19f91"
      },
      "execution_count": 1,
      "outputs": [
        {
          "output_type": "display_data",
          "data": {
            "text/plain": [
              "Output()"
            ],
            "application/vnd.jupyter.widget-view+json": {
              "version_major": 2,
              "version_minor": 0,
              "model_id": "8216693fefac4f848cb174a0cfc6ecff"
            }
          },
          "metadata": {}
        }
      ]
    },
    {
      "cell_type": "code",
      "source": [
        "#@title \n",
        "from IPython import display as IPyDisplay\n",
        "IPyDisplay.HTML(\n",
        "    f\"\"\"\n",
        "  <div>\n",
        "    <a href= \"https://github.com/DL4CV-NPTEL/Deep-Learning-For-Computer-Vision/blob/main/Slides/Week_12/DL4CV_Week12_Part02.pdf\" target=\"_blank\">\n",
        "    <img src=\"https://github.com/DL4CV-NPTEL/Deep-Learning-For-Computer-Vision/blob/main/Data/Slides_Logo.png?raw=1\"\n",
        "  alt=\"button link to Airtable\" style=\"width:200px\"></a>\n",
        "    </div>\"\"\" )\n"
      ],
      "metadata": {
        "colab": {
          "base_uri": "https://localhost:8080/",
          "height": 100
        },
        "cellView": "form",
        "id": "AazBUxWkvOoZ",
        "outputId": "1e398249-31f0-4a0e-b0a8-c56fd6d3be3c"
      },
      "execution_count": 2,
      "outputs": [
        {
          "output_type": "execute_result",
          "data": {
            "text/plain": [
              "<IPython.core.display.HTML object>"
            ],
            "text/html": [
              "\n",
              "  <div>\n",
              "    <a href= \"https://github.com/DL4CV-NPTEL/Deep-Learning-For-Computer-Vision/blob/main/Slides/Week_12/DL4CV_Week12_Part02.pdf\" target=\"_blank\">\n",
              "    <img src=\"https://github.com/DL4CV-NPTEL/Deep-Learning-For-Computer-Vision/blob/main/Data/Slides_Logo.png?raw=1\"\n",
              "  alt=\"button link to Airtable\" style=\"width:200px\"></a>\n",
              "    </div>"
            ]
          },
          "metadata": {},
          "execution_count": 2
        }
      ]
    },
    {
      "cell_type": "markdown",
      "source": [
        "## Image Inpainting"
      ],
      "metadata": {
        "id": "PU_60JBP3IOU"
      }
    },
    {
      "cell_type": "code",
      "source": [
        "import torch\n",
        "import torch.nn as nn\n",
        "import torch.optim as optim\n",
        "from torchvision import datasets, transforms\n",
        "from torch.autograd import Variable\n",
        "from torch.utils.data import Subset, DataLoader"
      ],
      "metadata": {
        "id": "dqrYNK2vvRWP"
      },
      "execution_count": 3,
      "outputs": []
    },
    {
      "cell_type": "code",
      "source": [
        "# Define the Context Encoder model\n",
        "class ContextEncoder(nn.Module):\n",
        "    def __init__(self):\n",
        "        super(ContextEncoder, self).__init__()\n",
        "\n",
        "        # Encoder layers\n",
        "        self.encoder = nn.Sequential(\n",
        "            nn.Conv2d(3, 64, kernel_size=4, stride=2, padding=1),\n",
        "            nn.ReLU(inplace=True),\n",
        "            nn.Conv2d(64, 128, kernel_size=4, stride=2, padding=1),\n",
        "            nn.ReLU(inplace=True),\n",
        "            nn.Conv2d(128, 256, kernel_size=4, stride=2, padding=1),\n",
        "            nn.ReLU(inplace=True),\n",
        "            nn.Conv2d(256, 512, kernel_size=4, stride=2, padding=1),\n",
        "            nn.ReLU(inplace=True)\n",
        "        )\n",
        "\n",
        "        # Decoder layers\n",
        "        self.decoder = nn.Sequential(\n",
        "            nn.ConvTranspose2d(512, 256, kernel_size=4, stride=2, padding=1),\n",
        "            nn.ReLU(inplace=True),\n",
        "            nn.ConvTranspose2d(256, 128, kernel_size=4, stride=2, padding=1),\n",
        "            nn.ReLU(inplace=True),\n",
        "            nn.ConvTranspose2d(128, 64, kernel_size=4, stride=2, padding=1),\n",
        "            nn.ReLU(inplace=True),\n",
        "            nn.ConvTranspose2d(64, 3, kernel_size=4, stride=2, padding=1),\n",
        "            nn.Sigmoid()\n",
        "        )\n",
        "\n",
        "    def forward(self, x):\n",
        "        x = self.encoder(x)\n",
        "        x = self.decoder(x)\n",
        "        return x"
      ],
      "metadata": {
        "id": "oKlahDtQ3N9n"
      },
      "execution_count": 4,
      "outputs": []
    },
    {
      "cell_type": "code",
      "source": [
        "# Define the Discriminator model\n",
        "class Discriminator(nn.Module):\n",
        "    def __init__(self):\n",
        "        super(Discriminator, self).__init__()\n",
        "\n",
        "        self.features = nn.Sequential(\n",
        "            nn.Conv2d(3, 64, kernel_size=4, stride=2, padding=1),\n",
        "            nn.LeakyReLU(0.2, inplace=True),\n",
        "            nn.Conv2d(64, 128, kernel_size=4, stride=2, padding=1),\n",
        "            nn.BatchNorm2d(128),\n",
        "            nn.LeakyReLU(0.2, inplace=True),\n",
        "            nn.Conv2d(128, 256, kernel_size=4, stride=2, padding=1),\n",
        "            nn.BatchNorm2d(256),\n",
        "            nn.LeakyReLU(0.2, inplace=True),\n",
        "            nn.Conv2d(256, 512, kernel_size=4, stride=2, padding=1),\n",
        "            nn.BatchNorm2d(512),\n",
        "            nn.LeakyReLU(0.2, inplace=True)\n",
        "        )\n",
        "\n",
        "        self.classifier = nn.Sequential(\n",
        "            nn.Linear(512 * 2 * 2, 1),\n",
        "            nn.Sigmoid()\n",
        "        )\n",
        "\n",
        "    def forward(self, x):\n",
        "        x = self.features(x)\n",
        "        x = x.view(x.size(0), -1)\n",
        "        x = self.classifier(x)\n",
        "        return x"
      ],
      "metadata": {
        "id": "dULzrCU_3SC3"
      },
      "execution_count": 5,
      "outputs": []
    },
    {
      "cell_type": "code",
      "source": [
        "# Define the training loop\n",
        "def train(model, discriminator, optimizer_g, optimizer_d, dataloader, num_epochs):\n",
        "    criterion = nn.MSELoss()\n",
        "    adversarial_loss = nn.BCELoss()\n",
        "    for epoch in range(num_epochs):\n",
        "        for data in dataloader:\n",
        "            img, _ = data\n",
        "            img = Variable(img)\n",
        "            \n",
        "            # Generate a mask for inpainting\n",
        "            mask = torch.zeros_like(img)\n",
        "            mask[:, :, 16:48, 16:48] = 1\n",
        "\n",
        "            # Generate masked image\n",
        "            masked_img = img * (1 - mask)\n",
        "\n",
        "            # Forward pass through generator\n",
        "            generated_img = model(masked_img)\n",
        "\n",
        "            # Train Discriminator\n",
        "            real_labels = Variable(torch.ones(img.size(0), 1))\n",
        "            fake_labels = Variable(torch.zeros(img.size(0), 1))\n",
        "\n",
        "            # Discriminator on real images\n",
        "            optimizer_d.zero_grad()\n",
        "            real_outputs = discriminator(img)\n",
        "            real_loss = adversarial_loss(real_outputs, real_labels)\n",
        "\n",
        "            # Discriminator on generated images\n",
        "            fake_outputs = discriminator(generated_img.detach())\n",
        "            fake_loss = adversarial_loss(fake_outputs, fake_labels)\n",
        "\n",
        "            d_loss = real_loss + fake_loss\n",
        "            d_loss.backward()\n",
        "            optimizer_d.step()\n",
        "\n",
        "            # Train Generator\n",
        "            optimizer_g.zero_grad()\n",
        "\n",
        "            # Forward pass through generator\n",
        "            generated_img = model(masked_img)\n",
        "\n",
        "            # Discriminator on generated images\n",
        "            outputs = discriminator(generated_img)\n",
        "            g_loss = adversarial_loss(outputs, real_labels)\n",
        "\n",
        "            # Reconstruction loss\n",
        "            recon_loss = criterion(generated_img * mask, img * mask)\n",
        "\n",
        "            total_loss = g_loss + 0.1 * recon_loss\n",
        "            total_loss.backward()\n",
        "            optimizer_g.step()\n",
        "            \n",
        "\n",
        "\n",
        "        # Print epoch loss\n",
        "        print('Epoch [{}/{}], Generator Loss: {:.4f}, Discriminator Loss: {:.4f}'\n",
        "              .format(epoch + 1, num_epochs, g_loss.item(), d_loss.item()))\n"
      ],
      "metadata": {
        "id": "MThR03gO3ZBQ"
      },
      "execution_count": 6,
      "outputs": []
    },
    {
      "cell_type": "code",
      "source": [
        "# Hyperparameters\n",
        "learning_rate = 0.001\n",
        "batch_size = 100\n",
        "num_epochs = 5\n",
        "subset_size = 50"
      ],
      "metadata": {
        "id": "M2KFWYlQ3bhs"
      },
      "execution_count": 7,
      "outputs": []
    },
    {
      "cell_type": "code",
      "source": [
        "# Load the dataset\n",
        "transform = transforms.Compose([\n",
        "    transforms.ToTensor(),\n",
        "    transforms.Normalize((0.5, 0.5, 0.5), (0.5, 0.5, 0.5))\n",
        "])\n",
        "train_dataset = datasets.CIFAR10(root='./data', train=True, download=True, transform=transform)"
      ],
      "metadata": {
        "id": "oX5JUHhJ3fOl",
        "outputId": "9ac651ea-bc15-42b5-f092-1aa1441c4656",
        "colab": {
          "base_uri": "https://localhost:8080/"
        }
      },
      "execution_count": 8,
      "outputs": [
        {
          "output_type": "stream",
          "name": "stdout",
          "text": [
            "Downloading https://www.cs.toronto.edu/~kriz/cifar-10-python.tar.gz to ./data/cifar-10-python.tar.gz\n"
          ]
        },
        {
          "output_type": "stream",
          "name": "stderr",
          "text": [
            "100%|██████████| 170498071/170498071 [00:01<00:00, 103549893.38it/s]\n"
          ]
        },
        {
          "output_type": "stream",
          "name": "stdout",
          "text": [
            "Extracting ./data/cifar-10-python.tar.gz to ./data\n"
          ]
        }
      ]
    },
    {
      "cell_type": "code",
      "source": [
        "# Create a balanced subset of the dataset\n",
        "class_counts = [0] * 10  # Count the number of samples per class\n",
        "subset_indices = []\n",
        "for idx, (data, target) in enumerate(train_dataset):\n",
        "    if class_counts[target] < subset_size:\n",
        "        subset_indices.append(idx)\n",
        "        class_counts[target] += 1\n",
        "    if all(count == subset_size for count in class_counts):\n",
        "        break\n",
        "\n",
        "subset_dataset = Subset(train_dataset, subset_indices)\n",
        "train_dataloader = DataLoader(subset_dataset, batch_size=batch_size, shuffle=True)"
      ],
      "metadata": {
        "id": "UcLigT7b5ylj"
      },
      "execution_count": 9,
      "outputs": []
    },
    {
      "cell_type": "code",
      "source": [
        "# Create an instance of the ContextEncoder model and the Discriminator model\n",
        "model = ContextEncoder()\n",
        "discriminator = Discriminator()\n"
      ],
      "metadata": {
        "id": "UlvfXnpY3h8S"
      },
      "execution_count": 10,
      "outputs": []
    },
    {
      "cell_type": "code",
      "source": [
        "# Define optimizers for generator and discriminator\n",
        "optimizer_g = optim.Adam(model.parameters(), lr=learning_rate)\n",
        "optimizer_d = optim.Adam(discriminator.parameters(), lr=learning_rate)"
      ],
      "metadata": {
        "id": "1CzbfJXG3lEH"
      },
      "execution_count": 11,
      "outputs": []
    },
    {
      "cell_type": "code",
      "source": [
        "# Train the model\n",
        "train(model, discriminator, optimizer_g, optimizer_d, train_dataloader, num_epochs)"
      ],
      "metadata": {
        "id": "E6cex15O3nVd",
        "outputId": "bad6280d-f380-435f-e1e2-bef6633a525c",
        "colab": {
          "base_uri": "https://localhost:8080/"
        }
      },
      "execution_count": 12,
      "outputs": [
        {
          "output_type": "stream",
          "name": "stdout",
          "text": [
            "Epoch [1/5], Generator Loss: 7.4896, Discriminator Loss: 0.0178\n",
            "Epoch [2/5], Generator Loss: 7.3318, Discriminator Loss: 0.0062\n",
            "Epoch [3/5], Generator Loss: 8.6788, Discriminator Loss: 0.0016\n",
            "Epoch [4/5], Generator Loss: 9.1010, Discriminator Loss: 0.0011\n",
            "Epoch [5/5], Generator Loss: 8.3456, Discriminator Loss: 0.0008\n"
          ]
        }
      ]
    }
  ]
}