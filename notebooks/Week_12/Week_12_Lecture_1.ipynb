{
  "nbformat": 4,
  "nbformat_minor": 0,
  "metadata": {
    "colab": {
      "name": "Week_12_Lecture_1.ipynb",
      "provenance": [],
      "authorship_tag": "ABX9TyPWFcqjCMwghQgggQuxKKDX",
      "include_colab_link": true
    },
    "kernelspec": {
      "name": "python3",
      "display_name": "Python 3"
    },
    "language_info": {
      "name": "python"
    },
    "widgets": {
      "application/vnd.jupyter.widget-state+json": {
        "4b189b419c7f4c8b886efaf75b9bb05e": {
          "model_module": "@jupyter-widgets/output",
          "model_name": "OutputModel",
          "model_module_version": "1.0.0",
          "state": {
            "_dom_classes": [],
            "_model_module": "@jupyter-widgets/output",
            "_model_module_version": "1.0.0",
            "_model_name": "OutputModel",
            "_view_count": null,
            "_view_module": "@jupyter-widgets/output",
            "_view_module_version": "1.0.0",
            "_view_name": "OutputView",
            "layout": "IPY_MODEL_27b5f103607c43399213b98b8244c812",
            "msg_id": "",
            "outputs": [
              {
                "output_type": "stream",
                "name": "stdout",
                "text": [
                  "Video available at https://youtube.com/watch?v=ppC9ruaVuQQ\n"
                ]
              },
              {
                "output_type": "display_data",
                "data": {
                  "text/plain": "<IPython.lib.display.YouTubeVideo at 0x7f3f968440d0>",
                  "text/html": "\n        <iframe\n            width=\"854\"\n            height=\"480\"\n            src=\"https://www.youtube.com/embed/ppC9ruaVuQQ?fs=1&rel=0\"\n            frameborder=\"0\"\n            allowfullscreen\n        ></iframe>\n        ",
                  "image/jpeg": "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\n"
                },
                "metadata": {}
              }
            ]
          }
        },
        "27b5f103607c43399213b98b8244c812": {
          "model_module": "@jupyter-widgets/base",
          "model_name": "LayoutModel",
          "model_module_version": "1.2.0",
          "state": {
            "_model_module": "@jupyter-widgets/base",
            "_model_module_version": "1.2.0",
            "_model_name": "LayoutModel",
            "_view_count": null,
            "_view_module": "@jupyter-widgets/base",
            "_view_module_version": "1.2.0",
            "_view_name": "LayoutView",
            "align_content": null,
            "align_items": null,
            "align_self": null,
            "border": null,
            "bottom": null,
            "display": null,
            "flex": null,
            "flex_flow": null,
            "grid_area": null,
            "grid_auto_columns": null,
            "grid_auto_flow": null,
            "grid_auto_rows": null,
            "grid_column": null,
            "grid_gap": null,
            "grid_row": null,
            "grid_template_areas": null,
            "grid_template_columns": null,
            "grid_template_rows": null,
            "height": null,
            "justify_content": null,
            "justify_items": null,
            "left": null,
            "margin": null,
            "max_height": null,
            "max_width": null,
            "min_height": null,
            "min_width": null,
            "object_fit": null,
            "object_position": null,
            "order": null,
            "overflow": null,
            "overflow_x": null,
            "overflow_y": null,
            "padding": null,
            "right": null,
            "top": null,
            "visibility": null,
            "width": null
          }
        }
      }
    }
  },
  "cells": [
    {
      "cell_type": "markdown",
      "metadata": {
        "id": "view-in-github",
        "colab_type": "text"
      },
      "source": [
        "<a href=\"https://colab.research.google.com/github/DL4CV-NPTEL/Deep-Learning-For-Computer-Vision/blob/main/notebooks/Week_12/Week_12_Lecture_1.ipynb\" target=\"_parent\"><img src=\"https://colab.research.google.com/assets/colab-badge.svg\" alt=\"Open In Colab\"/></a>"
      ]
    },
    {
      "cell_type": "markdown",
      "source": [
        "#Lecture 1: Few-shot and Zero-shot Learning - Part 1"
      ],
      "metadata": {
        "id": "3JdIPfdtt2TU"
      }
    },
    {
      "cell_type": "code",
      "source": [
        "#@title \n",
        "from ipywidgets import widgets\n",
        "out1 = widgets.Output()\n",
        "with out1:\n",
        "  from IPython.display import YouTubeVideo\n",
        "  video = YouTubeVideo(id=f\"ppC9ruaVuQQ\", width=854, height=480, fs=1, rel=0)\n",
        "  print(\"Video available at https://youtube.com/watch?v=\" + video.id)\n",
        "  display(video)\n",
        "display(out1)"
      ],
      "metadata": {
        "colab": {
          "base_uri": "https://localhost:8080/",
          "height": 519,
          "referenced_widgets": [
            "4b189b419c7f4c8b886efaf75b9bb05e",
            "27b5f103607c43399213b98b8244c812"
          ]
        },
        "cellView": "form",
        "id": "rA0FZ1_3t3nO",
        "outputId": "3826a963-f008-418f-f034-f48b0730a73a"
      },
      "execution_count": 1,
      "outputs": [
        {
          "output_type": "display_data",
          "data": {
            "text/plain": [
              "Output()"
            ],
            "application/vnd.jupyter.widget-view+json": {
              "version_major": 2,
              "version_minor": 0,
              "model_id": "4b189b419c7f4c8b886efaf75b9bb05e"
            }
          },
          "metadata": {}
        }
      ]
    },
    {
      "cell_type": "code",
      "source": [
        "#@title \n",
        "from IPython import display as IPyDisplay\n",
        "IPyDisplay.HTML(\n",
        "    f\"\"\"\n",
        "  <div>\n",
        "    <a href= \"https://github.com/DL4CV-NPTEL/Deep-Learning-For-Computer-Vision/blob/main/Slides/Week_12/DL4CV_Week12_Part01.pdf\" target=\"_blank\">\n",
        "    <img src=\"https://github.com/DL4CV-NPTEL/Deep-Learning-For-Computer-Vision/blob/main/Data/Slides_Logo.png?raw=1\"\n",
        "  alt=\"button link to Airtable\" style=\"width:200px\"></a>\n",
        "    </div>\"\"\" )"
      ],
      "metadata": {
        "colab": {
          "base_uri": "https://localhost:8080/",
          "height": 100
        },
        "cellView": "form",
        "id": "WrHo4zh4t_Km",
        "outputId": "01c54749-d9f4-4428-b2e4-4ef2d41cf3ef"
      },
      "execution_count": 2,
      "outputs": [
        {
          "output_type": "execute_result",
          "data": {
            "text/plain": [
              "<IPython.core.display.HTML object>"
            ],
            "text/html": [
              "\n",
              "  <div>\n",
              "    <a href= \"https://github.com/DL4CV-NPTEL/Deep-Learning-For-Computer-Vision/blob/main/Slides/Week_12/DL4CV_Week12_Part01.pdf\" target=\"_blank\">\n",
              "    <img src=\"https://github.com/DL4CV-NPTEL/Deep-Learning-For-Computer-Vision/blob/main/Data/Slides_Logo.png?raw=1\"\n",
              "  alt=\"button link to Airtable\" style=\"width:200px\"></a>\n",
              "    </div>"
            ]
          },
          "metadata": {},
          "execution_count": 2
        }
      ]
    },
    {
      "cell_type": "code",
      "source": [
        ""
      ],
      "metadata": {
        "id": "wvT7F0cyuLI4"
      },
      "execution_count": null,
      "outputs": []
    }
  ]
}