{
  "nbformat": 4,
  "nbformat_minor": 0,
  "metadata": {
    "colab": {
      "name": "Week_12_Lecture_2.ipynb",
      "provenance": [],
      "authorship_tag": "ABX9TyNWuPi1KOkTAVpOQ90nCBcY",
      "include_colab_link": true
    },
    "kernelspec": {
      "name": "python3",
      "display_name": "Python 3"
    },
    "language_info": {
      "name": "python"
    },
    "widgets": {
      "application/vnd.jupyter.widget-state+json": {
        "59616cb12c124cedaeb7c67ae77a6f92": {
          "model_module": "@jupyter-widgets/output",
          "model_name": "OutputModel",
          "model_module_version": "1.0.0",
          "state": {
            "_dom_classes": [],
            "_model_module": "@jupyter-widgets/output",
            "_model_module_version": "1.0.0",
            "_model_name": "OutputModel",
            "_view_count": null,
            "_view_module": "@jupyter-widgets/output",
            "_view_module_version": "1.0.0",
            "_view_name": "OutputView",
            "layout": "IPY_MODEL_d0d5fc2c2ee24a1c81f15b49493e021a",
            "msg_id": "",
            "outputs": [
              {
                "output_type": "stream",
                "name": "stdout",
                "text": [
                  "Video available at https://youtube.com/watch?v=Ex3FwzOGIkY\n"
                ]
              },
              {
                "output_type": "display_data",
                "data": {
                  "text/plain": "<IPython.lib.display.YouTubeVideo at 0x7f08fe895d90>",
                  "text/html": "\n        <iframe\n            width=\"854\"\n            height=\"480\"\n            src=\"https://www.youtube.com/embed/Ex3FwzOGIkY?fs=1&rel=0\"\n            frameborder=\"0\"\n            allowfullscreen\n        ></iframe>\n        ",
                  "image/jpeg": "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\n"
                },
                "metadata": {}
              }
            ]
          }
        },
        "d0d5fc2c2ee24a1c81f15b49493e021a": {
          "model_module": "@jupyter-widgets/base",
          "model_name": "LayoutModel",
          "model_module_version": "1.2.0",
          "state": {
            "_model_module": "@jupyter-widgets/base",
            "_model_module_version": "1.2.0",
            "_model_name": "LayoutModel",
            "_view_count": null,
            "_view_module": "@jupyter-widgets/base",
            "_view_module_version": "1.2.0",
            "_view_name": "LayoutView",
            "align_content": null,
            "align_items": null,
            "align_self": null,
            "border": null,
            "bottom": null,
            "display": null,
            "flex": null,
            "flex_flow": null,
            "grid_area": null,
            "grid_auto_columns": null,
            "grid_auto_flow": null,
            "grid_auto_rows": null,
            "grid_column": null,
            "grid_gap": null,
            "grid_row": null,
            "grid_template_areas": null,
            "grid_template_columns": null,
            "grid_template_rows": null,
            "height": null,
            "justify_content": null,
            "justify_items": null,
            "left": null,
            "margin": null,
            "max_height": null,
            "max_width": null,
            "min_height": null,
            "min_width": null,
            "object_fit": null,
            "object_position": null,
            "order": null,
            "overflow": null,
            "overflow_x": null,
            "overflow_y": null,
            "padding": null,
            "right": null,
            "top": null,
            "visibility": null,
            "width": null
          }
        }
      }
    }
  },
  "cells": [
    {
      "cell_type": "markdown",
      "metadata": {
        "id": "view-in-github",
        "colab_type": "text"
      },
      "source": [
        "<a href=\"https://colab.research.google.com/github/DL4CV-NPTEL/Deep-Learning-For-Computer-Vision/blob/main/notebooks/Week_12/Week_12_Lecture_2.ipynb\" target=\"_parent\"><img src=\"https://colab.research.google.com/assets/colab-badge.svg\" alt=\"Open In Colab\"/></a>"
      ]
    },
    {
      "cell_type": "markdown",
      "source": [
        "Lecture 2: Few-shot and Zero-shot Learning - Part 2"
      ],
      "metadata": {
        "id": "J4-Keee2uqAO"
      }
    },
    {
      "cell_type": "code",
      "source": [
        "#@title \n",
        "from ipywidgets import widgets\n",
        "out1 = widgets.Output()\n",
        "with out1:\n",
        "  from IPython.display import YouTubeVideo\n",
        "  video = YouTubeVideo(id=f\"Ex3FwzOGIkY\", width=854, height=480, fs=1, rel=0)\n",
        "  print(\"Video available at https://youtube.com/watch?v=\" + video.id)\n",
        "  display(video)\n",
        "display(out1)"
      ],
      "metadata": {
        "colab": {
          "base_uri": "https://localhost:8080/",
          "height": 519,
          "referenced_widgets": [
            "59616cb12c124cedaeb7c67ae77a6f92",
            "d0d5fc2c2ee24a1c81f15b49493e021a"
          ]
        },
        "id": "b4HNhy-Fus67",
        "outputId": "cf707c5d-82fa-417c-ac32-9da0a09f9b45"
      },
      "execution_count": 1,
      "outputs": [
        {
          "output_type": "display_data",
          "data": {
            "text/plain": [
              "Output()"
            ],
            "application/vnd.jupyter.widget-view+json": {
              "version_major": 2,
              "version_minor": 0,
              "model_id": "59616cb12c124cedaeb7c67ae77a6f92"
            }
          },
          "metadata": {}
        }
      ]
    },
    {
      "cell_type": "code",
      "source": [
        "#@title \n",
        "from IPython import display as IPyDisplay\n",
        "IPyDisplay.HTML(\n",
        "    f\"\"\"\n",
        "  <div>\n",
        "    <a href= \"https://github.com/DL4CV-NPTEL/Deep-Learning-For-Computer-Vision/blob/main/Slides/Week_12/DL4CV_Week12_Part01.pdf\" target=\"_blank\">\n",
        "    <img src=\"https://github.com/DL4CV-NPTEL/Deep-Learning-For-Computer-Vision/blob/main/Data/Slides_Logo.png?raw=1\"\n",
        "  alt=\"button link to Airtable\" style=\"width:200px\"></a>\n",
        "    </div>\"\"\" )"
      ],
      "metadata": {
        "colab": {
          "base_uri": "https://localhost:8080/",
          "height": 100
        },
        "id": "fLQCNZbCu0YY",
        "outputId": "75cc0d11-4cf6-4329-d2cd-2d70869c781a"
      },
      "execution_count": 2,
      "outputs": [
        {
          "output_type": "execute_result",
          "data": {
            "text/plain": [
              "<IPython.core.display.HTML object>"
            ],
            "text/html": [
              "\n",
              "  <div>\n",
              "    <a href= \"https://github.com/DL4CV-NPTEL/Deep-Learning-For-Computer-Vision/blob/main/Slides/Week_12/DL4CV_Week12_Part01.pdf\" target=\"_blank\">\n",
              "    <img src=\"https://github.com/DL4CV-NPTEL/Deep-Learning-For-Computer-Vision/blob/main/Data/Slides_Logo.png?raw=1\"\n",
              "  alt=\"button link to Airtable\" style=\"width:200px\"></a>\n",
              "    </div>"
            ]
          },
          "metadata": {},
          "execution_count": 2
        }
      ]
    },
    {
      "cell_type": "code",
      "source": [
        ""
      ],
      "metadata": {
        "id": "uQD321uNu3uu"
      },
      "execution_count": null,
      "outputs": []
    }
  ]
}