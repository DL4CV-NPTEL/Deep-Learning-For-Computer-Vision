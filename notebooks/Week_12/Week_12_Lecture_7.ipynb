{
  "nbformat": 4,
  "nbformat_minor": 0,
  "metadata": {
    "colab": {
      "name": "Week_12_Lecture_7.ipynb",
      "provenance": [],
      "include_colab_link": true
    },
    "kernelspec": {
      "name": "python3",
      "display_name": "Python 3"
    },
    "language_info": {
      "name": "python"
    },
    "widgets": {
      "application/vnd.jupyter.widget-state+json": {
        "c7776ae16a6547dab5361137d8596f51": {
          "model_module": "@jupyter-widgets/output",
          "model_name": "OutputModel",
          "model_module_version": "1.0.0",
          "state": {
            "_dom_classes": [],
            "_model_module": "@jupyter-widgets/output",
            "_model_module_version": "1.0.0",
            "_model_name": "OutputModel",
            "_view_count": null,
            "_view_module": "@jupyter-widgets/output",
            "_view_module_version": "1.0.0",
            "_view_name": "OutputView",
            "layout": "IPY_MODEL_29e150cf51de43f8b3ae2d85a03c34ec",
            "msg_id": "",
            "outputs": [
              {
                "output_type": "stream",
                "name": "stdout",
                "text": [
                  "Video available at https://youtube.com/watch?v=4-EMqgdJmK4\n"
                ]
              },
              {
                "output_type": "display_data",
                "data": {
                  "text/plain": "<IPython.lib.display.YouTubeVideo at 0x7f33cdd20fd0>",
                  "text/html": "\n        <iframe\n            width=\"854\"\n            height=\"480\"\n            src=\"https://www.youtube.com/embed/4-EMqgdJmK4?fs=1&rel=0\"\n            frameborder=\"0\"\n            allowfullscreen\n        ></iframe>\n        ",
                  "image/jpeg": "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\n"
                },
                "metadata": {}
              }
            ]
          }
        },
        "29e150cf51de43f8b3ae2d85a03c34ec": {
          "model_module": "@jupyter-widgets/base",
          "model_name": "LayoutModel",
          "model_module_version": "1.2.0",
          "state": {
            "_model_module": "@jupyter-widgets/base",
            "_model_module_version": "1.2.0",
            "_model_name": "LayoutModel",
            "_view_count": null,
            "_view_module": "@jupyter-widgets/base",
            "_view_module_version": "1.2.0",
            "_view_name": "LayoutView",
            "align_content": null,
            "align_items": null,
            "align_self": null,
            "border": null,
            "bottom": null,
            "display": null,
            "flex": null,
            "flex_flow": null,
            "grid_area": null,
            "grid_auto_columns": null,
            "grid_auto_flow": null,
            "grid_auto_rows": null,
            "grid_column": null,
            "grid_gap": null,
            "grid_row": null,
            "grid_template_areas": null,
            "grid_template_columns": null,
            "grid_template_rows": null,
            "height": null,
            "justify_content": null,
            "justify_items": null,
            "left": null,
            "margin": null,
            "max_height": null,
            "max_width": null,
            "min_height": null,
            "min_width": null,
            "object_fit": null,
            "object_position": null,
            "order": null,
            "overflow": null,
            "overflow_x": null,
            "overflow_y": null,
            "padding": null,
            "right": null,
            "top": null,
            "visibility": null,
            "width": null
          }
        }
      }
    }
  },
  "cells": [
    {
      "cell_type": "markdown",
      "metadata": {
        "id": "view-in-github",
        "colab_type": "text"
      },
      "source": [
        "<a href=\"https://colab.research.google.com/github/DL4CV-NPTEL/Deep-Learning-For-Computer-Vision/blob/main/notebooks/Week_12/Week_12_Lecture_7.ipynb\" target=\"_parent\"><img src=\"https://colab.research.google.com/assets/colab-badge.svg\" alt=\"Open In Colab\"/></a>"
      ]
    },
    {
      "cell_type": "markdown",
      "source": [
        "# Lecture 7 : Course Conclusion "
      ],
      "metadata": {
        "id": "578FkOSYxka_"
      }
    },
    {
      "cell_type": "code",
      "source": [
        "#@title \n",
        "from ipywidgets import widgets\n",
        "out1 = widgets.Output()\n",
        "with out1:\n",
        "  from IPython.display import YouTubeVideo\n",
        "  video = YouTubeVideo(id=f\"4-EMqgdJmK4\", width=854, height=480, fs=1, rel=0)\n",
        "  print(\"Video available at https://youtube.com/watch?v=\" + video.id)\n",
        "  display(video)\n",
        "display(out1)"
      ],
      "metadata": {
        "colab": {
          "base_uri": "https://localhost:8080/",
          "height": 519,
          "referenced_widgets": [
            "c7776ae16a6547dab5361137d8596f51",
            "29e150cf51de43f8b3ae2d85a03c34ec"
          ]
        },
        "cellView": "form",
        "id": "9PfyB8olxmAn",
        "outputId": "1d7ac84e-b469-4522-cb9b-d7edec7c5d25"
      },
      "execution_count": null,
      "outputs": [
        {
          "output_type": "display_data",
          "data": {
            "text/plain": [
              "Output()"
            ],
            "application/vnd.jupyter.widget-view+json": {
              "version_major": 2,
              "version_minor": 0,
              "model_id": "c7776ae16a6547dab5361137d8596f51"
            }
          },
          "metadata": {}
        }
      ]
    },
    {
      "cell_type": "code",
      "source": [
        "#@title \n",
        "from IPython import display as IPyDisplay\n",
        "IPyDisplay.HTML(\n",
        "    f\"\"\"\n",
        "  <div>\n",
        "    <a href= \"https://github.com/DL4CV-NPTEL/Deep-Learning-For-Computer-Vision/blob/main/Slides/Week_12/DL4CV_Week12_Part06.pdf\" target=\"_blank\">\n",
        "    <img src=\"https://github.com/DL4CV-NPTEL/Deep-Learning-For-Computer-Vision/blob/main/Data/Slides_Logo.png?raw=1\"\n",
        "  alt=\"button link to Airtable\" style=\"width:200px\"></a>\n",
        "    </div>\"\"\" )"
      ],
      "metadata": {
        "colab": {
          "base_uri": "https://localhost:8080/",
          "height": 100
        },
        "cellView": "form",
        "id": "9AJBsIl3xrB5",
        "outputId": "46803544-281a-456c-f9e4-2ab9a8b412c5"
      },
      "execution_count": null,
      "outputs": [
        {
          "output_type": "execute_result",
          "data": {
            "text/plain": [
              "<IPython.core.display.HTML object>"
            ],
            "text/html": [
              "\n",
              "  <div>\n",
              "    <a href= \"https://github.com/DL4CV-NPTEL/Deep-Learning-For-Computer-Vision/blob/main/Slides/Week_12/DL4CV_Week12_Part06.pdf\" target=\"_blank\">\n",
              "    <img src=\"https://github.com/DL4CV-NPTEL/Deep-Learning-For-Computer-Vision/blob/main/Data/Slides_Logo.png?raw=1\"\n",
              "  alt=\"button link to Airtable\" style=\"width:200px\"></a>\n",
              "    </div>"
            ]
          },
          "metadata": {},
          "execution_count": 2
        }
      ]
    },
    {
      "cell_type": "code",
      "source": [
        ""
      ],
      "metadata": {
        "id": "TZI4-8MYxtVQ"
      },
      "execution_count": null,
      "outputs": []
    }
  ]
}