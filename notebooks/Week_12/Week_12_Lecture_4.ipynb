{
  "nbformat": 4,
  "nbformat_minor": 0,
  "metadata": {
    "colab": {
      "name": "Week_12_Lecture_4.ipynb",
      "provenance": [],
      "include_colab_link": true
    },
    "kernelspec": {
      "name": "python3",
      "display_name": "Python 3"
    },
    "language_info": {
      "name": "python"
    },
    "widgets": {
      "application/vnd.jupyter.widget-state+json": {
        "3994e86369b346baa49d9405a790c266": {
          "model_module": "@jupyter-widgets/output",
          "model_name": "OutputModel",
          "model_module_version": "1.0.0",
          "state": {
            "_dom_classes": [],
            "_model_module": "@jupyter-widgets/output",
            "_model_module_version": "1.0.0",
            "_model_name": "OutputModel",
            "_view_count": null,
            "_view_module": "@jupyter-widgets/output",
            "_view_module_version": "1.0.0",
            "_view_name": "OutputView",
            "layout": "IPY_MODEL_2e2887d2205d47ce839ddfa16c1cfeb9",
            "msg_id": "",
            "outputs": [
              {
                "output_type": "stream",
                "name": "stdout",
                "text": [
                  "Video available at https://youtube.com/watch?v=Rn-OsIOnCI4\n"
                ]
              },
              {
                "output_type": "display_data",
                "data": {
                  "text/plain": "<IPython.lib.display.YouTubeVideo at 0x7f3e65824310>",
                  "text/html": "\n        <iframe\n            width=\"854\"\n            height=\"480\"\n            src=\"https://www.youtube.com/embed/Rn-OsIOnCI4?fs=1&rel=0\"\n            frameborder=\"0\"\n            allowfullscreen\n        ></iframe>\n        ",
                  "image/jpeg": "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\n"
                },
                "metadata": {}
              }
            ]
          }
        },
        "2e2887d2205d47ce839ddfa16c1cfeb9": {
          "model_module": "@jupyter-widgets/base",
          "model_name": "LayoutModel",
          "model_module_version": "1.2.0",
          "state": {
            "_model_module": "@jupyter-widgets/base",
            "_model_module_version": "1.2.0",
            "_model_name": "LayoutModel",
            "_view_count": null,
            "_view_module": "@jupyter-widgets/base",
            "_view_module_version": "1.2.0",
            "_view_name": "LayoutView",
            "align_content": null,
            "align_items": null,
            "align_self": null,
            "border": null,
            "bottom": null,
            "display": null,
            "flex": null,
            "flex_flow": null,
            "grid_area": null,
            "grid_auto_columns": null,
            "grid_auto_flow": null,
            "grid_auto_rows": null,
            "grid_column": null,
            "grid_gap": null,
            "grid_row": null,
            "grid_template_areas": null,
            "grid_template_columns": null,
            "grid_template_rows": null,
            "height": null,
            "justify_content": null,
            "justify_items": null,
            "left": null,
            "margin": null,
            "max_height": null,
            "max_width": null,
            "min_height": null,
            "min_width": null,
            "object_fit": null,
            "object_position": null,
            "order": null,
            "overflow": null,
            "overflow_x": null,
            "overflow_y": null,
            "padding": null,
            "right": null,
            "top": null,
            "visibility": null,
            "width": null
          }
        }
      }
    }
  },
  "cells": [
    {
      "cell_type": "markdown",
      "metadata": {
        "id": "view-in-github",
        "colab_type": "text"
      },
      "source": [
        "<a href=\"https://colab.research.google.com/github/DL4CV-NPTEL/Deep-Learning-For-Computer-Vision/blob/main/notebooks/Week_12/Week_12_Lecture_4.ipynb\" target=\"_parent\"><img src=\"https://colab.research.google.com/assets/colab-badge.svg\" alt=\"Open In Colab\"/></a>"
      ]
    },
    {
      "cell_type": "markdown",
      "source": [
        "# Lecture 4: Adversarial Robustness"
      ],
      "metadata": {
        "id": "FpQ0ELexvuot"
      }
    },
    {
      "cell_type": "code",
      "source": [
        "#@title \n",
        "from ipywidgets import widgets\n",
        "out1 = widgets.Output()\n",
        "with out1:\n",
        "  from IPython.display import YouTubeVideo\n",
        "  video = YouTubeVideo(id=f\"Rn-OsIOnCI4\", width=854, height=480, fs=1, rel=0)\n",
        "  print(\"Video available at https://youtube.com/watch?v=\" + video.id)\n",
        "  display(video)\n",
        "display(out1)"
      ],
      "metadata": {
        "colab": {
          "base_uri": "https://localhost:8080/",
          "height": 519,
          "referenced_widgets": [
            "3994e86369b346baa49d9405a790c266",
            "2e2887d2205d47ce839ddfa16c1cfeb9"
          ]
        },
        "cellView": "form",
        "id": "5ptX5x5tvwca",
        "outputId": "59057c1d-f0bc-400f-f437-d651697777a1"
      },
      "execution_count": null,
      "outputs": [
        {
          "output_type": "display_data",
          "data": {
            "text/plain": [
              "Output()"
            ],
            "application/vnd.jupyter.widget-view+json": {
              "version_major": 2,
              "version_minor": 0,
              "model_id": "3994e86369b346baa49d9405a790c266"
            }
          },
          "metadata": {}
        }
      ]
    },
    {
      "cell_type": "code",
      "source": [
        "#@title \n",
        "from IPython import display as IPyDisplay\n",
        "IPyDisplay.HTML(\n",
        "    f\"\"\"\n",
        "  <div>\n",
        "    <a href= \"https://github.com/DL4CV-NPTEL/Deep-Learning-For-Computer-Vision/blob/main/Slides/Week_12/DL4CV_Week12_Part03.pdf\" target=\"_blank\">\n",
        "    <img src=\"https://github.com/DL4CV-NPTEL/Deep-Learning-For-Computer-Vision/blob/main/Data/Slides_Logo.png?raw=1\"\n",
        "  alt=\"button link to Airtable\" style=\"width:200px\"></a>\n",
        "    </div>\"\"\" )"
      ],
      "metadata": {
        "cellView": "form",
        "colab": {
          "base_uri": "https://localhost:8080/",
          "height": 100
        },
        "id": "hdHuyGybvz3N",
        "outputId": "2dd1b054-05a3-46aa-c48a-465a2be371b0"
      },
      "execution_count": null,
      "outputs": [
        {
          "output_type": "execute_result",
          "data": {
            "text/plain": [
              "<IPython.core.display.HTML object>"
            ],
            "text/html": [
              "\n",
              "  <div>\n",
              "    <a href= \"https://github.com/DL4CV-NPTEL/Deep-Learning-For-Computer-Vision/blob/main/Slides/Week_12/DL4CV_Week12_Part03.pdf\" target=\"_blank\">\n",
              "    <img src=\"https://github.com/DL4CV-NPTEL/Deep-Learning-For-Computer-Vision/blob/main/Data/Slides_Logo.png?raw=1\"\n",
              "  alt=\"button link to Airtable\" style=\"width:200px\"></a>\n",
              "    </div>"
            ]
          },
          "metadata": {},
          "execution_count": 2
        }
      ]
    },
    {
      "cell_type": "code",
      "source": [
        ""
      ],
      "metadata": {
        "id": "70mB4YDkv3L-"
      },
      "execution_count": null,
      "outputs": []
    }
  ]
}