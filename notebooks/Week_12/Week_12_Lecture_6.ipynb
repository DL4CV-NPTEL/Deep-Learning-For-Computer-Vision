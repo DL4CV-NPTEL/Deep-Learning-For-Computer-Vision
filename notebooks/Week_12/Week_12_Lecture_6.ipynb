{
  "nbformat": 4,
  "nbformat_minor": 0,
  "metadata": {
    "colab": {
      "name": "Week_12_Lecture_6.ipynb",
      "provenance": [],
      "include_colab_link": true
    },
    "kernelspec": {
      "name": "python3",
      "display_name": "Python 3"
    },
    "language_info": {
      "name": "python"
    },
    "widgets": {
      "application/vnd.jupyter.widget-state+json": {
        "932261045a8345ea8a1b0f5abcf866a3": {
          "model_module": "@jupyter-widgets/output",
          "model_name": "OutputModel",
          "model_module_version": "1.0.0",
          "state": {
            "_dom_classes": [],
            "_model_module": "@jupyter-widgets/output",
            "_model_module_version": "1.0.0",
            "_model_name": "OutputModel",
            "_view_count": null,
            "_view_module": "@jupyter-widgets/output",
            "_view_module_version": "1.0.0",
            "_view_name": "OutputView",
            "layout": "IPY_MODEL_f3da584d99874ad9825b0931bab9a651",
            "msg_id": "",
            "outputs": [
              {
                "output_type": "stream",
                "name": "stdout",
                "text": [
                  "Video available at https://youtube.com/watch?v=8_Tb1pjtjRE\n"
                ]
              },
              {
                "output_type": "display_data",
                "data": {
                  "text/plain": "<IPython.lib.display.YouTubeVideo at 0x7f4b08412610>",
                  "text/html": "\n        <iframe\n            width=\"854\"\n            height=\"480\"\n            src=\"https://www.youtube.com/embed/8_Tb1pjtjRE?fs=1&rel=0\"\n            frameborder=\"0\"\n            allowfullscreen\n        ></iframe>\n        ",
                  "image/jpeg": "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\n"
                },
                "metadata": {}
              }
            ]
          }
        },
        "f3da584d99874ad9825b0931bab9a651": {
          "model_module": "@jupyter-widgets/base",
          "model_name": "LayoutModel",
          "model_module_version": "1.2.0",
          "state": {
            "_model_module": "@jupyter-widgets/base",
            "_model_module_version": "1.2.0",
            "_model_name": "LayoutModel",
            "_view_count": null,
            "_view_module": "@jupyter-widgets/base",
            "_view_module_version": "1.2.0",
            "_view_name": "LayoutView",
            "align_content": null,
            "align_items": null,
            "align_self": null,
            "border": null,
            "bottom": null,
            "display": null,
            "flex": null,
            "flex_flow": null,
            "grid_area": null,
            "grid_auto_columns": null,
            "grid_auto_flow": null,
            "grid_auto_rows": null,
            "grid_column": null,
            "grid_gap": null,
            "grid_row": null,
            "grid_template_areas": null,
            "grid_template_columns": null,
            "grid_template_rows": null,
            "height": null,
            "justify_content": null,
            "justify_items": null,
            "left": null,
            "margin": null,
            "max_height": null,
            "max_width": null,
            "min_height": null,
            "min_width": null,
            "object_fit": null,
            "object_position": null,
            "order": null,
            "overflow": null,
            "overflow_x": null,
            "overflow_y": null,
            "padding": null,
            "right": null,
            "top": null,
            "visibility": null,
            "width": null
          }
        }
      }
    }
  },
  "cells": [
    {
      "cell_type": "markdown",
      "metadata": {
        "id": "view-in-github",
        "colab_type": "text"
      },
      "source": [
        "<a href=\"https://colab.research.google.com/github/DL4CV-NPTEL/Deep-Learning-For-Computer-Vision/blob/main/notebooks/Week_12/Week_12_Lecture_6.ipynb\" target=\"_parent\"><img src=\"https://colab.research.google.com/assets/colab-badge.svg\" alt=\"Open In Colab\"/></a>"
      ]
    },
    {
      "cell_type": "markdown",
      "source": [
        "# Lecture 6: Neural Architecture Search"
      ],
      "metadata": {
        "id": "JhAc66htw_U0"
      }
    },
    {
      "cell_type": "code",
      "source": [
        "#@title \n",
        "from ipywidgets import widgets\n",
        "out1 = widgets.Output()\n",
        "with out1:\n",
        "  from IPython.display import YouTubeVideo\n",
        "  video = YouTubeVideo(id=f\"8_Tb1pjtjRE\", width=854, height=480, fs=1, rel=0)\n",
        "  print(\"Video available at https://youtube.com/watch?v=\" + video.id)\n",
        "  display(video)\n",
        "display(out1)"
      ],
      "metadata": {
        "colab": {
          "base_uri": "https://localhost:8080/",
          "height": 519,
          "referenced_widgets": [
            "932261045a8345ea8a1b0f5abcf866a3",
            "f3da584d99874ad9825b0931bab9a651"
          ]
        },
        "cellView": "form",
        "id": "t_HIlky7xBey",
        "outputId": "2efb5127-65db-4e7d-ede7-c6a404694ce5"
      },
      "execution_count": null,
      "outputs": [
        {
          "output_type": "display_data",
          "data": {
            "text/plain": [
              "Output()"
            ],
            "application/vnd.jupyter.widget-view+json": {
              "version_major": 2,
              "version_minor": 0,
              "model_id": "932261045a8345ea8a1b0f5abcf866a3"
            }
          },
          "metadata": {}
        }
      ]
    },
    {
      "cell_type": "code",
      "source": [
        "#@title \n",
        "from IPython import display as IPyDisplay\n",
        "IPyDisplay.HTML(\n",
        "    f\"\"\"\n",
        "  <div>\n",
        "    <a href= \"https://github.com/DL4CV-NPTEL/Deep-Learning-For-Computer-Vision/blob/main/Slides/Week_12/DL4CV_Week12_Part05.pdf\" target=\"_blank\">\n",
        "    <img src=\"https://github.com/DL4CV-NPTEL/Deep-Learning-For-Computer-Vision/blob/main/Data/Slides_Logo.png?raw=1\"\n",
        "  alt=\"button link to Airtable\" style=\"width:200px\"></a>\n",
        "    </div>\"\"\" )"
      ],
      "metadata": {
        "colab": {
          "base_uri": "https://localhost:8080/",
          "height": 100
        },
        "cellView": "form",
        "id": "erHf07TCxEd9",
        "outputId": "bda0d580-6ef5-442b-c02f-758345bc4cfb"
      },
      "execution_count": null,
      "outputs": [
        {
          "output_type": "execute_result",
          "data": {
            "text/plain": [
              "<IPython.core.display.HTML object>"
            ],
            "text/html": [
              "\n",
              "  <div>\n",
              "    <a href= \"https://github.com/DL4CV-NPTEL/Deep-Learning-For-Computer-Vision/blob/main/Slides/Week_12/DL4CV_Week12_Part05.pdf\" target=\"_blank\">\n",
              "    <img src=\"https://github.com/DL4CV-NPTEL/Deep-Learning-For-Computer-Vision/blob/main/Data/Slides_Logo.png?raw=1\"\n",
              "  alt=\"button link to Airtable\" style=\"width:200px\"></a>\n",
              "    </div>"
            ]
          },
          "metadata": {},
          "execution_count": 2
        }
      ]
    },
    {
      "cell_type": "code",
      "source": [
        ""
      ],
      "metadata": {
        "id": "Oq998U9ZxG53"
      },
      "execution_count": null,
      "outputs": []
    }
  ]
}