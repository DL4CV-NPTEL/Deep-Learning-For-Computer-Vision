{
  "nbformat": 4,
  "nbformat_minor": 0,
  "metadata": {
    "colab": {
      "name": "Week_12_Lecture_5.ipynb",
      "provenance": [],
      "authorship_tag": "ABX9TyMMncXLvpg9SmqUhnVlXdnI",
      "include_colab_link": true
    },
    "kernelspec": {
      "name": "python3",
      "display_name": "Python 3"
    },
    "language_info": {
      "name": "python"
    },
    "widgets": {
      "application/vnd.jupyter.widget-state+json": {
        "c77efd2c550f4a1b8229897961fed809": {
          "model_module": "@jupyter-widgets/output",
          "model_name": "OutputModel",
          "model_module_version": "1.0.0",
          "state": {
            "_dom_classes": [],
            "_model_module": "@jupyter-widgets/output",
            "_model_module_version": "1.0.0",
            "_model_name": "OutputModel",
            "_view_count": null,
            "_view_module": "@jupyter-widgets/output",
            "_view_module_version": "1.0.0",
            "_view_name": "OutputView",
            "layout": "IPY_MODEL_25923e0ac6fb49188dfed75b15f44ad9",
            "msg_id": "",
            "outputs": [
              {
                "output_type": "stream",
                "name": "stdout",
                "text": [
                  "Video available at https://youtube.com/watch?v=AgezOkBTV90\n"
                ]
              },
              {
                "output_type": "display_data",
                "data": {
                  "text/plain": "<IPython.lib.display.YouTubeVideo at 0x7f470accd6d0>",
                  "text/html": "\n        <iframe\n            width=\"854\"\n            height=\"480\"\n            src=\"https://www.youtube.com/embed/AgezOkBTV90?fs=1&rel=0\"\n            frameborder=\"0\"\n            allowfullscreen\n        ></iframe>\n        ",
                  "image/jpeg": "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\n"
                },
                "metadata": {}
              }
            ]
          }
        },
        "25923e0ac6fb49188dfed75b15f44ad9": {
          "model_module": "@jupyter-widgets/base",
          "model_name": "LayoutModel",
          "model_module_version": "1.2.0",
          "state": {
            "_model_module": "@jupyter-widgets/base",
            "_model_module_version": "1.2.0",
            "_model_name": "LayoutModel",
            "_view_count": null,
            "_view_module": "@jupyter-widgets/base",
            "_view_module_version": "1.2.0",
            "_view_name": "LayoutView",
            "align_content": null,
            "align_items": null,
            "align_self": null,
            "border": null,
            "bottom": null,
            "display": null,
            "flex": null,
            "flex_flow": null,
            "grid_area": null,
            "grid_auto_columns": null,
            "grid_auto_flow": null,
            "grid_auto_rows": null,
            "grid_column": null,
            "grid_gap": null,
            "grid_row": null,
            "grid_template_areas": null,
            "grid_template_columns": null,
            "grid_template_rows": null,
            "height": null,
            "justify_content": null,
            "justify_items": null,
            "left": null,
            "margin": null,
            "max_height": null,
            "max_width": null,
            "min_height": null,
            "min_width": null,
            "object_fit": null,
            "object_position": null,
            "order": null,
            "overflow": null,
            "overflow_x": null,
            "overflow_y": null,
            "padding": null,
            "right": null,
            "top": null,
            "visibility": null,
            "width": null
          }
        }
      }
    }
  },
  "cells": [
    {
      "cell_type": "markdown",
      "metadata": {
        "id": "view-in-github",
        "colab_type": "text"
      },
      "source": [
        "<a href=\"https://colab.research.google.com/github/DL4CV-NPTEL/Deep-Learning-For-Computer-Vision/blob/main/notebooks/Week_12/Week_12_Lecture_5.ipynb\" target=\"_parent\"><img src=\"https://colab.research.google.com/assets/colab-badge.svg\" alt=\"Open In Colab\"/></a>"
      ]
    },
    {
      "cell_type": "markdown",
      "source": [
        "#Lecture 5: Pruning and Model Compression\n"
      ],
      "metadata": {
        "id": "q4EFxpjMwPCy"
      }
    },
    {
      "cell_type": "code",
      "source": [
        "#@title \n",
        "from ipywidgets import widgets\n",
        "out1 = widgets.Output()\n",
        "with out1:\n",
        "  from IPython.display import YouTubeVideo\n",
        "  video = YouTubeVideo(id=f\"AgezOkBTV90\", width=854, height=480, fs=1, rel=0)\n",
        "  print(\"Video available at https://youtube.com/watch?v=\" + video.id)\n",
        "  display(video)\n",
        "display(out1)"
      ],
      "metadata": {
        "colab": {
          "base_uri": "https://localhost:8080/",
          "height": 519,
          "referenced_widgets": [
            "c77efd2c550f4a1b8229897961fed809",
            "25923e0ac6fb49188dfed75b15f44ad9"
          ]
        },
        "cellView": "form",
        "id": "h8JwyG9pwQvN",
        "outputId": "580e1b42-b4a5-4dee-9719-ac99bbc20538"
      },
      "execution_count": 1,
      "outputs": [
        {
          "output_type": "display_data",
          "data": {
            "text/plain": [
              "Output()"
            ],
            "application/vnd.jupyter.widget-view+json": {
              "version_major": 2,
              "version_minor": 0,
              "model_id": "c77efd2c550f4a1b8229897961fed809"
            }
          },
          "metadata": {}
        }
      ]
    },
    {
      "cell_type": "code",
      "source": [
        "#@title \n",
        "from IPython import display as IPyDisplay\n",
        "IPyDisplay.HTML(\n",
        "    f\"\"\"\n",
        "  <div>\n",
        "    <a href= \"https://github.com/DL4CV-NPTEL/Deep-Learning-For-Computer-Vision/blob/main/Slides/Week_12/DL4CV_Week12_Part04.pdf\" target=\"_blank\">\n",
        "    <img src=\"https://github.com/DL4CV-NPTEL/Deep-Learning-For-Computer-Vision/blob/main/Data/Slides_Logo.png?raw=1\"\n",
        "  alt=\"button link to Airtable\" style=\"width:200px\"></a>\n",
        "    </div>\"\"\" )"
      ],
      "metadata": {
        "colab": {
          "base_uri": "https://localhost:8080/",
          "height": 100
        },
        "cellView": "form",
        "id": "b6Z95q2awUOh",
        "outputId": "a9098475-020d-4ca6-c578-0c018e6f2d28"
      },
      "execution_count": 2,
      "outputs": [
        {
          "output_type": "execute_result",
          "data": {
            "text/plain": [
              "<IPython.core.display.HTML object>"
            ],
            "text/html": [
              "\n",
              "  <div>\n",
              "    <a href= \"https://github.com/DL4CV-NPTEL/Deep-Learning-For-Computer-Vision/blob/main/Slides/Week_12/DL4CV_Week12_Part04.pdf\" target=\"_blank\">\n",
              "    <img src=\"https://github.com/DL4CV-NPTEL/Deep-Learning-For-Computer-Vision/blob/main/Data/Slides_Logo.png?raw=1\"\n",
              "  alt=\"button link to Airtable\" style=\"width:200px\"></a>\n",
              "    </div>"
            ]
          },
          "metadata": {},
          "execution_count": 2
        }
      ]
    },
    {
      "cell_type": "code",
      "source": [
        ""
      ],
      "metadata": {
        "id": "Ha7upAlCwWXb"
      },
      "execution_count": null,
      "outputs": []
    }
  ]
}