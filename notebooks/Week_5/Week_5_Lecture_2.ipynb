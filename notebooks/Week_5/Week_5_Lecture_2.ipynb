{
  "nbformat": 4,
  "nbformat_minor": 0,
  "metadata": {
    "colab": {
      "name": "Week_5_Lecture_2.ipynb",
      "provenance": [],
      "include_colab_link": true
    },
    "kernelspec": {
      "name": "python3",
      "display_name": "Python 3"
    },
    "language_info": {
      "name": "python"
    },
    "widgets": {
      "application/vnd.jupyter.widget-state+json": {
        "feea3aca2faf49f49b65838d0c8a9875": {
          "model_module": "@jupyter-widgets/output",
          "model_name": "OutputModel",
          "model_module_version": "1.0.0",
          "state": {
            "_dom_classes": [],
            "_model_module": "@jupyter-widgets/output",
            "_model_module_version": "1.0.0",
            "_model_name": "OutputModel",
            "_view_count": null,
            "_view_module": "@jupyter-widgets/output",
            "_view_module_version": "1.0.0",
            "_view_name": "OutputView",
            "layout": "IPY_MODEL_65c5631be8ea4c30a4df917411f80c5a",
            "msg_id": "",
            "outputs": [
              {
                "output_type": "stream",
                "name": "stdout",
                "text": [
                  "Video available at https://youtube.com/watch?v=H_JtjeSNhA0\n"
                ]
              },
              {
                "output_type": "display_data",
                "data": {
                  "text/plain": "<IPython.lib.display.YouTubeVideo at 0x7f2eb1272350>",
                  "text/html": "\n        <iframe\n            width=\"854\"\n            height=\"480\"\n            src=\"https://www.youtube.com/embed/H_JtjeSNhA0?fs=1&rel=0\"\n            frameborder=\"0\"\n            allowfullscreen\n        ></iframe>\n        ",
                  "image/jpeg": "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\n"
                },
                "metadata": {}
              }
            ]
          }
        },
        "65c5631be8ea4c30a4df917411f80c5a": {
          "model_module": "@jupyter-widgets/base",
          "model_name": "LayoutModel",
          "model_module_version": "1.2.0",
          "state": {
            "_model_module": "@jupyter-widgets/base",
            "_model_module_version": "1.2.0",
            "_model_name": "LayoutModel",
            "_view_count": null,
            "_view_module": "@jupyter-widgets/base",
            "_view_module_version": "1.2.0",
            "_view_name": "LayoutView",
            "align_content": null,
            "align_items": null,
            "align_self": null,
            "border": null,
            "bottom": null,
            "display": null,
            "flex": null,
            "flex_flow": null,
            "grid_area": null,
            "grid_auto_columns": null,
            "grid_auto_flow": null,
            "grid_auto_rows": null,
            "grid_column": null,
            "grid_gap": null,
            "grid_row": null,
            "grid_template_areas": null,
            "grid_template_columns": null,
            "grid_template_rows": null,
            "height": null,
            "justify_content": null,
            "justify_items": null,
            "left": null,
            "margin": null,
            "max_height": null,
            "max_width": null,
            "min_height": null,
            "min_width": null,
            "object_fit": null,
            "object_position": null,
            "order": null,
            "overflow": null,
            "overflow_x": null,
            "overflow_y": null,
            "padding": null,
            "right": null,
            "top": null,
            "visibility": null,
            "width": null
          }
        }
      }
    }
  },
  "cells": [
    {
      "cell_type": "markdown",
      "metadata": {
        "id": "view-in-github",
        "colab_type": "text"
      },
      "source": [
        "<a href=\"https://colab.research.google.com/github/DL4CV-NPTEL/Deep-Learning-For-Computer-Vision/blob/main/notebooks/Week_5/Week_5_Lecture_2.ipynb\" target=\"_parent\"><img src=\"https://colab.research.google.com/assets/colab-badge.svg\" alt=\"Open In Colab\"/></a>"
      ]
    },
    {
      "cell_type": "markdown",
      "source": [
        "# Lecture 2: Convolutional Neural Networks: An Introduction - Part 02"
      ],
      "metadata": {
        "id": "5p8aGbdxc1Nz"
      }
    },
    {
      "cell_type": "code",
      "execution_count": 1,
      "metadata": {
        "colab": {
          "base_uri": "https://localhost:8080/",
          "height": 519,
          "referenced_widgets": [
            "feea3aca2faf49f49b65838d0c8a9875",
            "65c5631be8ea4c30a4df917411f80c5a"
          ]
        },
        "cellView": "form",
        "id": "W5BZQI44cxz_",
        "outputId": "0527c898-f928-477b-d823-0104f3db4174"
      },
      "outputs": [
        {
          "output_type": "display_data",
          "data": {
            "text/plain": [
              "Output()"
            ],
            "application/vnd.jupyter.widget-view+json": {
              "version_major": 2,
              "version_minor": 0,
              "model_id": "feea3aca2faf49f49b65838d0c8a9875"
            }
          },
          "metadata": {}
        }
      ],
      "source": [
        "#@title \n",
        "from ipywidgets import widgets\n",
        "out1 = widgets.Output()\n",
        "with out1:\n",
        "  from IPython.display import YouTubeVideo\n",
        "  video = YouTubeVideo(id=f\"H_JtjeSNhA0\", width=854, height=480, fs=1, rel=0)\n",
        "  print(\"Video available at https://youtube.com/watch?v=\" + video.id)\n",
        "  display(video)\n",
        "display(out1)"
      ]
    },
    {
      "cell_type": "code",
      "source": [
        "#@title \n",
        "from IPython import display as IPyDisplay\n",
        "IPyDisplay.HTML(\n",
        "    f\"\"\"\n",
        "  <div>\n",
        "    <a href= \"https://github.com/DL4CV-NPTEL/Deep-Learning-For-Computer-Vision/blob/main/Slides/Week_5/DL4CV_Week05_Part01.pdf\" target=\"_blank\">\n",
        "    <img src=\"https://github.com/DL4CV-NPTEL/Deep-Learning-For-Computer-Vision/blob/main/Data/Slides_Logo.png?raw=1\"\n",
        "  alt=\"button link to Airtable\" style=\"width:200px\"></a>\n",
        "    </div>\"\"\" )"
      ],
      "metadata": {
        "colab": {
          "base_uri": "https://localhost:8080/",
          "height": 100
        },
        "cellView": "form",
        "id": "bJQjZzwxdQch",
        "outputId": "25dc19bd-a289-4531-f7d6-301524812d18"
      },
      "execution_count": null,
      "outputs": [
        {
          "output_type": "execute_result",
          "data": {
            "text/plain": [
              "<IPython.core.display.HTML object>"
            ],
            "text/html": [
              "\n",
              "  <div>\n",
              "    <a href= \"https://github.com/DL4CV-NPTEL/Deep-Learning-For-Computer-Vision/blob/main/Slides/Week_5/DL4CV_Week05_Part01.pdf\" target=\"_blank\">\n",
              "    <img src=\"https://github.com/DL4CV-NPTEL/Deep-Learning-For-Computer-Vision/blob/main/Data/Slides_Logo.png?raw=1\"\n",
              "  alt=\"button link to Airtable\" style=\"width:200px\"></a>\n",
              "    </div>"
            ]
          },
          "metadata": {},
          "execution_count": 2
        }
      ]
    }
  ]
}