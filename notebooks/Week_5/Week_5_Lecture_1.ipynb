{
  "nbformat": 4,
  "nbformat_minor": 0,
  "metadata": {
    "colab": {
      "name": "Week_5_Lecture_1.ipynb",
      "provenance": [],
      "include_colab_link": true
    },
    "kernelspec": {
      "name": "python3",
      "display_name": "Python 3"
    },
    "language_info": {
      "name": "python"
    },
    "widgets": {
      "application/vnd.jupyter.widget-state+json": {
        "6cf227831ea64d54a374a7df8ffded5c": {
          "model_module": "@jupyter-widgets/output",
          "model_name": "OutputModel",
          "model_module_version": "1.0.0",
          "state": {
            "_dom_classes": [],
            "_model_module": "@jupyter-widgets/output",
            "_model_module_version": "1.0.0",
            "_model_name": "OutputModel",
            "_view_count": null,
            "_view_module": "@jupyter-widgets/output",
            "_view_module_version": "1.0.0",
            "_view_name": "OutputView",
            "layout": "IPY_MODEL_bbf37304202e4ccfa81c5682143ffe21",
            "msg_id": "",
            "outputs": [
              {
                "output_type": "stream",
                "name": "stdout",
                "text": [
                  "Video available at https://youtube.com/watch?v=tH6uRl6f3bc\n"
                ]
              },
              {
                "output_type": "display_data",
                "data": {
                  "text/plain": "<IPython.lib.display.YouTubeVideo at 0x7f61dd850510>",
                  "text/html": "\n        <iframe\n            width=\"854\"\n            height=\"480\"\n            src=\"https://www.youtube.com/embed/tH6uRl6f3bc?fs=1&rel=0\"\n            frameborder=\"0\"\n            allowfullscreen\n        ></iframe>\n        ",
                  "image/jpeg": "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\n"
                },
                "metadata": {}
              }
            ]
          }
        },
        "bbf37304202e4ccfa81c5682143ffe21": {
          "model_module": "@jupyter-widgets/base",
          "model_name": "LayoutModel",
          "model_module_version": "1.2.0",
          "state": {
            "_model_module": "@jupyter-widgets/base",
            "_model_module_version": "1.2.0",
            "_model_name": "LayoutModel",
            "_view_count": null,
            "_view_module": "@jupyter-widgets/base",
            "_view_module_version": "1.2.0",
            "_view_name": "LayoutView",
            "align_content": null,
            "align_items": null,
            "align_self": null,
            "border": null,
            "bottom": null,
            "display": null,
            "flex": null,
            "flex_flow": null,
            "grid_area": null,
            "grid_auto_columns": null,
            "grid_auto_flow": null,
            "grid_auto_rows": null,
            "grid_column": null,
            "grid_gap": null,
            "grid_row": null,
            "grid_template_areas": null,
            "grid_template_columns": null,
            "grid_template_rows": null,
            "height": null,
            "justify_content": null,
            "justify_items": null,
            "left": null,
            "margin": null,
            "max_height": null,
            "max_width": null,
            "min_height": null,
            "min_width": null,
            "object_fit": null,
            "object_position": null,
            "order": null,
            "overflow": null,
            "overflow_x": null,
            "overflow_y": null,
            "padding": null,
            "right": null,
            "top": null,
            "visibility": null,
            "width": null
          }
        }
      }
    }
  },
  "cells": [
    {
      "cell_type": "markdown",
      "metadata": {
        "id": "view-in-github",
        "colab_type": "text"
      },
      "source": [
        "<a href=\"https://colab.research.google.com/github/DL4CV-NPTEL/Deep-Learning-For-Computer-Vision/blob/main/notebooks/Week_5/Week_5_Lecture_1.ipynb\" target=\"_parent\"><img src=\"https://colab.research.google.com/assets/colab-badge.svg\" alt=\"Open In Colab\"/></a>"
      ]
    },
    {
      "cell_type": "markdown",
      "source": [
        "# Lecture 1: Convolutional Neural Networks: An Introduction"
      ],
      "metadata": {
        "id": "5p8aGbdxc1Nz"
      }
    },
    {
      "cell_type": "code",
      "execution_count": 1,
      "metadata": {
        "colab": {
          "base_uri": "https://localhost:8080/",
          "height": 519,
          "referenced_widgets": [
            "6cf227831ea64d54a374a7df8ffded5c",
            "bbf37304202e4ccfa81c5682143ffe21"
          ]
        },
        "cellView": "form",
        "id": "W5BZQI44cxz_",
        "outputId": "20908b50-2dae-407a-f7a7-caf377f550e1"
      },
      "outputs": [
        {
          "output_type": "display_data",
          "data": {
            "text/plain": [
              "Output()"
            ],
            "application/vnd.jupyter.widget-view+json": {
              "version_major": 2,
              "version_minor": 0,
              "model_id": "6cf227831ea64d54a374a7df8ffded5c"
            }
          },
          "metadata": {}
        }
      ],
      "source": [
        "#@title \n",
        "from ipywidgets import widgets\n",
        "out1 = widgets.Output()\n",
        "with out1:\n",
        "  from IPython.display import YouTubeVideo\n",
        "  video = YouTubeVideo(id=f\"tH6uRl6f3bc\", width=854, height=480, fs=1, rel=0)\n",
        "  print(\"Video available at https://youtube.com/watch?v=\" + video.id)\n",
        "  display(video)\n",
        "display(out1)"
      ]
    },
    {
      "cell_type": "code",
      "source": [
        "#@title \n",
        "from IPython import display as IPyDisplay\n",
        "IPyDisplay.HTML(\n",
        "    f\"\"\"\n",
        "  <div>\n",
        "    <a href= \"https://github.com/DL4CV-NPTEL/Deep-Learning-For-Computer-Vision/blob/main/Slides/Week_5/DL4CV_Week05_Part01.pdf\" target=\"_blank\">\n",
        "    <img src=\"https://github.com/DL4CV-NPTEL/Deep-Learning-For-Computer-Vision/blob/main/Data/Slides_Logo.png?raw=1\"\n",
        "  alt=\"button link to Airtable\" style=\"width:200px\"></a>\n",
        "    </div>\"\"\" )"
      ],
      "metadata": {
        "colab": {
          "base_uri": "https://localhost:8080/",
          "height": 100
        },
        "cellView": "form",
        "id": "bJQjZzwxdQch",
        "outputId": "25dc19bd-a289-4531-f7d6-301524812d18"
      },
      "execution_count": 2,
      "outputs": [
        {
          "output_type": "execute_result",
          "data": {
            "text/plain": [
              "<IPython.core.display.HTML object>"
            ],
            "text/html": [
              "\n",
              "  <div>\n",
              "    <a href= \"https://github.com/DL4CV-NPTEL/Deep-Learning-For-Computer-Vision/blob/main/Slides/Week_5/DL4CV_Week05_Part01.pdf\" target=\"_blank\">\n",
              "    <img src=\"https://github.com/DL4CV-NPTEL/Deep-Learning-For-Computer-Vision/blob/main/Data/Slides_Logo.png?raw=1\"\n",
              "  alt=\"button link to Airtable\" style=\"width:200px\"></a>\n",
              "    </div>"
            ]
          },
          "metadata": {},
          "execution_count": 2
        }
      ]
    }
  ]
}