{
  "nbformat": 4,
  "nbformat_minor": 0,
  "metadata": {
    "colab": {
      "name": "Week_5_Lecture_3.ipynb",
      "provenance": [],
      "include_colab_link": true
    },
    "kernelspec": {
      "name": "python3",
      "display_name": "Python 3"
    },
    "language_info": {
      "name": "python"
    },
    "widgets": {
      "application/vnd.jupyter.widget-state+json": {
        "216cdd2f0af2443bba61d0ad1248fe55": {
          "model_module": "@jupyter-widgets/output",
          "model_name": "OutputModel",
          "model_module_version": "1.0.0",
          "state": {
            "_dom_classes": [],
            "_model_module": "@jupyter-widgets/output",
            "_model_module_version": "1.0.0",
            "_model_name": "OutputModel",
            "_view_count": null,
            "_view_module": "@jupyter-widgets/output",
            "_view_module_version": "1.0.0",
            "_view_name": "OutputView",
            "layout": "IPY_MODEL_2f63617ceaf04b6d8eef2b98774d551c",
            "msg_id": "",
            "outputs": [
              {
                "output_type": "stream",
                "name": "stdout",
                "text": [
                  "Video available at https://youtube.com/watch?v=pUCCd2-17vI\n"
                ]
              },
              {
                "output_type": "display_data",
                "data": {
                  "text/plain": "<IPython.lib.display.YouTubeVideo at 0x7f2eac543b10>",
                  "text/html": "\n        <iframe\n            width=\"854\"\n            height=\"480\"\n            src=\"https://www.youtube.com/embed/pUCCd2-17vI?fs=1&rel=0\"\n            frameborder=\"0\"\n            allowfullscreen\n        ></iframe>\n        ",
                  "image/jpeg": "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\n"
                },
                "metadata": {}
              }
            ]
          }
        },
        "2f63617ceaf04b6d8eef2b98774d551c": {
          "model_module": "@jupyter-widgets/base",
          "model_name": "LayoutModel",
          "model_module_version": "1.2.0",
          "state": {
            "_model_module": "@jupyter-widgets/base",
            "_model_module_version": "1.2.0",
            "_model_name": "LayoutModel",
            "_view_count": null,
            "_view_module": "@jupyter-widgets/base",
            "_view_module_version": "1.2.0",
            "_view_name": "LayoutView",
            "align_content": null,
            "align_items": null,
            "align_self": null,
            "border": null,
            "bottom": null,
            "display": null,
            "flex": null,
            "flex_flow": null,
            "grid_area": null,
            "grid_auto_columns": null,
            "grid_auto_flow": null,
            "grid_auto_rows": null,
            "grid_column": null,
            "grid_gap": null,
            "grid_row": null,
            "grid_template_areas": null,
            "grid_template_columns": null,
            "grid_template_rows": null,
            "height": null,
            "justify_content": null,
            "justify_items": null,
            "left": null,
            "margin": null,
            "max_height": null,
            "max_width": null,
            "min_height": null,
            "min_width": null,
            "object_fit": null,
            "object_position": null,
            "order": null,
            "overflow": null,
            "overflow_x": null,
            "overflow_y": null,
            "padding": null,
            "right": null,
            "top": null,
            "visibility": null,
            "width": null
          }
        }
      }
    }
  },
  "cells": [
    {
      "cell_type": "markdown",
      "metadata": {
        "id": "view-in-github",
        "colab_type": "text"
      },
      "source": [
        "<a href=\"https://colab.research.google.com/github/DL4CV-NPTEL/Deep-Learning-For-Computer-Vision/blob/main/notebooks/Week_5/Week_5_Lecture_3.ipynb\" target=\"_parent\"><img src=\"https://colab.research.google.com/assets/colab-badge.svg\" alt=\"Open In Colab\"/></a>"
      ]
    },
    {
      "cell_type": "markdown",
      "source": [
        "# Lecture 3: Backpropagation in CNNs"
      ],
      "metadata": {
        "id": "5p8aGbdxc1Nz"
      }
    },
    {
      "cell_type": "code",
      "execution_count": 2,
      "metadata": {
        "colab": {
          "base_uri": "https://localhost:8080/",
          "height": 519,
          "referenced_widgets": [
            "216cdd2f0af2443bba61d0ad1248fe55",
            "2f63617ceaf04b6d8eef2b98774d551c"
          ]
        },
        "cellView": "form",
        "id": "W5BZQI44cxz_",
        "outputId": "c080bf45-6396-416f-db04-f6ab592ccb56"
      },
      "outputs": [
        {
          "output_type": "display_data",
          "data": {
            "text/plain": [
              "Output()"
            ],
            "application/vnd.jupyter.widget-view+json": {
              "version_major": 2,
              "version_minor": 0,
              "model_id": "216cdd2f0af2443bba61d0ad1248fe55"
            }
          },
          "metadata": {}
        }
      ],
      "source": [
        "#@title \n",
        "from ipywidgets import widgets\n",
        "out1 = widgets.Output()\n",
        "with out1:\n",
        "  from IPython.display import YouTubeVideo\n",
        "  video = YouTubeVideo(id=f\"pUCCd2-17vI\", width=854, height=480, fs=1, rel=0)\n",
        "  print(\"Video available at https://youtube.com/watch?v=\" + video.id)\n",
        "  display(video)\n",
        "display(out1)"
      ]
    },
    {
      "cell_type": "code",
      "source": [
        "#@title \n",
        "from IPython import display as IPyDisplay\n",
        "IPyDisplay.HTML(\n",
        "    f\"\"\"\n",
        "  <div>\n",
        "    <a href= \"https://github.com/DL4CV-NPTEL/Deep-Learning-For-Computer-Vision/blob/main/Slides/Week_5/DL4CV_Week05_Part02.pdf\" target=\"_blank\">\n",
        "    <img src=\"https://github.com/DL4CV-NPTEL/Deep-Learning-For-Computer-Vision/blob/main/Data/Slides_Logo.png?raw=1\"\n",
        "  alt=\"button link to Airtable\" style=\"width:200px\"></a>\n",
        "    </div>\"\"\" )"
      ],
      "metadata": {
        "colab": {
          "base_uri": "https://localhost:8080/",
          "height": 100
        },
        "cellView": "form",
        "id": "bJQjZzwxdQch",
        "outputId": "6e563713-4ce4-4096-e4c4-68c7e8fe3891"
      },
      "execution_count": 3,
      "outputs": [
        {
          "output_type": "execute_result",
          "data": {
            "text/plain": [
              "<IPython.core.display.HTML object>"
            ],
            "text/html": [
              "\n",
              "  <div>\n",
              "    <a href= \"https://github.com/DL4CV-NPTEL/Deep-Learning-For-Computer-Vision/blob/main/Slides/Week_5/DL4CV_Week05_Part02.pdf\" target=\"_blank\">\n",
              "    <img src=\"https://github.com/DL4CV-NPTEL/Deep-Learning-For-Computer-Vision/blob/main/Data/Slides_Logo.png?raw=1\"\n",
              "  alt=\"button link to Airtable\" style=\"width:200px\"></a>\n",
              "    </div>"
            ]
          },
          "metadata": {},
          "execution_count": 3
        }
      ]
    }
  ]
}