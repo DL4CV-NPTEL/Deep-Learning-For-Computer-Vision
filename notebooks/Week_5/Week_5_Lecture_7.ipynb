{
  "nbformat": 4,
  "nbformat_minor": 0,
  "metadata": {
    "colab": {
      "name": "Week_5_Lecture_7.ipynb",
      "provenance": [],
      "include_colab_link": true
    },
    "kernelspec": {
      "name": "python3",
      "display_name": "Python 3"
    },
    "language_info": {
      "name": "python"
    },
    "widgets": {
      "application/vnd.jupyter.widget-state+json": {
        "9d9caffba80248448a7ade657b2878cd": {
          "model_module": "@jupyter-widgets/output",
          "model_name": "OutputModel",
          "model_module_version": "1.0.0",
          "state": {
            "_dom_classes": [],
            "_model_module": "@jupyter-widgets/output",
            "_model_module_version": "1.0.0",
            "_model_name": "OutputModel",
            "_view_count": null,
            "_view_module": "@jupyter-widgets/output",
            "_view_module_version": "1.0.0",
            "_view_name": "OutputView",
            "layout": "IPY_MODEL_efe3cd29b0a148198b5daeef04d54122",
            "msg_id": "",
            "outputs": [
              {
                "output_type": "stream",
                "name": "stdout",
                "text": [
                  "Video available at https://youtube.com/watch?v=cDvkwPBOWdo\n"
                ]
              },
              {
                "output_type": "display_data",
                "data": {
                  "text/plain": "<IPython.lib.display.YouTubeVideo at 0x7f2eac55c8d0>",
                  "text/html": "\n        <iframe\n            width=\"854\"\n            height=\"480\"\n            src=\"https://www.youtube.com/embed/cDvkwPBOWdo?fs=1&rel=0\"\n            frameborder=\"0\"\n            allowfullscreen\n        ></iframe>\n        ",
                  "image/jpeg": "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\n"
                },
                "metadata": {}
              }
            ]
          }
        },
        "efe3cd29b0a148198b5daeef04d54122": {
          "model_module": "@jupyter-widgets/base",
          "model_name": "LayoutModel",
          "model_module_version": "1.2.0",
          "state": {
            "_model_module": "@jupyter-widgets/base",
            "_model_module_version": "1.2.0",
            "_model_name": "LayoutModel",
            "_view_count": null,
            "_view_module": "@jupyter-widgets/base",
            "_view_module_version": "1.2.0",
            "_view_name": "LayoutView",
            "align_content": null,
            "align_items": null,
            "align_self": null,
            "border": null,
            "bottom": null,
            "display": null,
            "flex": null,
            "flex_flow": null,
            "grid_area": null,
            "grid_auto_columns": null,
            "grid_auto_flow": null,
            "grid_auto_rows": null,
            "grid_column": null,
            "grid_gap": null,
            "grid_row": null,
            "grid_template_areas": null,
            "grid_template_columns": null,
            "grid_template_rows": null,
            "height": null,
            "justify_content": null,
            "justify_items": null,
            "left": null,
            "margin": null,
            "max_height": null,
            "max_width": null,
            "min_height": null,
            "min_width": null,
            "object_fit": null,
            "object_position": null,
            "order": null,
            "overflow": null,
            "overflow_x": null,
            "overflow_y": null,
            "padding": null,
            "right": null,
            "top": null,
            "visibility": null,
            "width": null
          }
        }
      }
    }
  },
  "cells": [
    {
      "cell_type": "markdown",
      "metadata": {
        "id": "view-in-github",
        "colab_type": "text"
      },
      "source": [
        "<a href=\"https://colab.research.google.com/github/DL4CV-NPTEL/Deep-Learning-For-Computer-Vision/blob/main/notebooks/Week_5/Week_5_Lecture_7.ipynb\" target=\"_parent\"><img src=\"https://colab.research.google.com/assets/colab-badge.svg\" alt=\"Open In Colab\"/></a>"
      ]
    },
    {
      "cell_type": "markdown",
      "source": [
        "# Lecture 7: Finetuning in CNNs"
      ],
      "metadata": {
        "id": "5p8aGbdxc1Nz"
      }
    },
    {
      "cell_type": "code",
      "execution_count": null,
      "metadata": {
        "colab": {
          "base_uri": "https://localhost:8080/",
          "height": 519,
          "referenced_widgets": [
            "9d9caffba80248448a7ade657b2878cd",
            "efe3cd29b0a148198b5daeef04d54122"
          ]
        },
        "id": "W5BZQI44cxz_",
        "outputId": "df83c9cf-931b-4f10-c4c2-c2a909a2bc6c",
        "cellView": "form"
      },
      "outputs": [
        {
          "output_type": "display_data",
          "data": {
            "text/plain": [
              "Output()"
            ],
            "application/vnd.jupyter.widget-view+json": {
              "version_major": 2,
              "version_minor": 0,
              "model_id": "9d9caffba80248448a7ade657b2878cd"
            }
          },
          "metadata": {}
        }
      ],
      "source": [
        "#@title \n",
        "from ipywidgets import widgets\n",
        "out1 = widgets.Output()\n",
        "with out1:\n",
        "  from IPython.display import YouTubeVideo\n",
        "  video = YouTubeVideo(id=f\"cDvkwPBOWdo\", width=854, height=480, fs=1, rel=0)\n",
        "  print(\"Video available at https://youtube.com/watch?v=\" + video.id)\n",
        "  display(video)\n",
        "display(out1)"
      ]
    },
    {
      "cell_type": "code",
      "source": [
        "#@title \n",
        "from IPython import display as IPyDisplay\n",
        "IPyDisplay.HTML(\n",
        "    f\"\"\"\n",
        "  <div>\n",
        "    <a href= \"https://github.com/DL4CV-NPTEL/Deep-Learning-For-Computer-Vision/blob/main/Slides/Week_5/DL4CV_Week05_Part05.pdf\" target=\"_blank\">\n",
        "    <img src=\"https://github.com/DL4CV-NPTEL/Deep-Learning-For-Computer-Vision/blob/main/Data/Slides_Logo.png?raw=1\"\n",
        "  alt=\"button link to Airtable\" style=\"width:200px\"></a>\n",
        "    </div>\"\"\" )"
      ],
      "metadata": {
        "colab": {
          "base_uri": "https://localhost:8080/",
          "height": 100
        },
        "id": "bJQjZzwxdQch",
        "outputId": "ecbe0a38-02b2-4c7b-b4f1-5daffcc380fe",
        "cellView": "form"
      },
      "execution_count": null,
      "outputs": [
        {
          "output_type": "execute_result",
          "data": {
            "text/plain": [
              "<IPython.core.display.HTML object>"
            ],
            "text/html": [
              "\n",
              "  <div>\n",
              "    <a href= \"https://github.com/DL4CV-NPTEL/Deep-Learning-For-Computer-Vision/blob/main/Slides/Week_5/DL4CV_Week05_Part05.pdf\" target=\"_blank\">\n",
              "    <img src=\"https://github.com/DL4CV-NPTEL/Deep-Learning-For-Computer-Vision/blob/main/Data/Slides_Logo.png?raw=1\"\n",
              "  alt=\"button link to Airtable\" style=\"width:200px\"></a>\n",
              "    </div>"
            ]
          },
          "metadata": {},
          "execution_count": 9
        }
      ]
    }
  ]
}