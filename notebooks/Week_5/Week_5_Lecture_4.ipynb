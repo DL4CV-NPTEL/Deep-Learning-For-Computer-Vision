{
  "nbformat": 4,
  "nbformat_minor": 0,
  "metadata": {
    "colab": {
      "name": "Week_5_Lecture_4.ipynb",
      "provenance": [],
      "include_colab_link": true
    },
    "kernelspec": {
      "name": "python3",
      "display_name": "Python 3"
    },
    "language_info": {
      "name": "python"
    },
    "widgets": {
      "application/vnd.jupyter.widget-state+json": {
        "e3763d90d56747d291cb9d63be7c3f3e": {
          "model_module": "@jupyter-widgets/output",
          "model_name": "OutputModel",
          "model_module_version": "1.0.0",
          "state": {
            "_dom_classes": [],
            "_model_module": "@jupyter-widgets/output",
            "_model_module_version": "1.0.0",
            "_model_name": "OutputModel",
            "_view_count": null,
            "_view_module": "@jupyter-widgets/output",
            "_view_module_version": "1.0.0",
            "_view_name": "OutputView",
            "layout": "IPY_MODEL_2e707cb15e1b43348c344bf8b81ea0ad",
            "msg_id": "",
            "outputs": [
              {
                "output_type": "stream",
                "name": "stdout",
                "text": [
                  "Video available at https://youtube.com/watch?v=rEFTKAXEBgY\n"
                ]
              },
              {
                "output_type": "display_data",
                "data": {
                  "text/plain": "<IPython.lib.display.YouTubeVideo at 0x7f2eb2c76190>",
                  "text/html": "\n        <iframe\n            width=\"854\"\n            height=\"480\"\n            src=\"https://www.youtube.com/embed/rEFTKAXEBgY?fs=1&rel=0\"\n            frameborder=\"0\"\n            allowfullscreen\n        ></iframe>\n        ",
                  "image/jpeg": "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\n"
                },
                "metadata": {}
              }
            ]
          }
        },
        "2e707cb15e1b43348c344bf8b81ea0ad": {
          "model_module": "@jupyter-widgets/base",
          "model_name": "LayoutModel",
          "model_module_version": "1.2.0",
          "state": {
            "_model_module": "@jupyter-widgets/base",
            "_model_module_version": "1.2.0",
            "_model_name": "LayoutModel",
            "_view_count": null,
            "_view_module": "@jupyter-widgets/base",
            "_view_module_version": "1.2.0",
            "_view_name": "LayoutView",
            "align_content": null,
            "align_items": null,
            "align_self": null,
            "border": null,
            "bottom": null,
            "display": null,
            "flex": null,
            "flex_flow": null,
            "grid_area": null,
            "grid_auto_columns": null,
            "grid_auto_flow": null,
            "grid_auto_rows": null,
            "grid_column": null,
            "grid_gap": null,
            "grid_row": null,
            "grid_template_areas": null,
            "grid_template_columns": null,
            "grid_template_rows": null,
            "height": null,
            "justify_content": null,
            "justify_items": null,
            "left": null,
            "margin": null,
            "max_height": null,
            "max_width": null,
            "min_height": null,
            "min_width": null,
            "object_fit": null,
            "object_position": null,
            "order": null,
            "overflow": null,
            "overflow_x": null,
            "overflow_y": null,
            "padding": null,
            "right": null,
            "top": null,
            "visibility": null,
            "width": null
          }
        }
      }
    }
  },
  "cells": [
    {
      "cell_type": "markdown",
      "metadata": {
        "id": "view-in-github",
        "colab_type": "text"
      },
      "source": [
        "<a href=\"https://colab.research.google.com/github/DL4CV-NPTEL/Deep-Learning-For-Computer-Vision/blob/main/notebooks/Week_5/Week_5_Lecture_4.ipynb\" target=\"_parent\"><img src=\"https://colab.research.google.com/assets/colab-badge.svg\" alt=\"Open In Colab\"/></a>"
      ]
    },
    {
      "cell_type": "markdown",
      "source": [
        "# Lecture 4: Evolution of CNN Architectures for Image Classification - Part01"
      ],
      "metadata": {
        "id": "5p8aGbdxc1Nz"
      }
    },
    {
      "cell_type": "code",
      "execution_count": null,
      "metadata": {
        "colab": {
          "base_uri": "https://localhost:8080/",
          "height": 519,
          "referenced_widgets": [
            "e3763d90d56747d291cb9d63be7c3f3e",
            "2e707cb15e1b43348c344bf8b81ea0ad"
          ]
        },
        "id": "W5BZQI44cxz_",
        "outputId": "0db95dce-232d-4d58-8d08-22106d0af1e3"
      },
      "outputs": [
        {
          "output_type": "display_data",
          "data": {
            "text/plain": [
              "Output()"
            ],
            "application/vnd.jupyter.widget-view+json": {
              "version_major": 2,
              "version_minor": 0,
              "model_id": "e3763d90d56747d291cb9d63be7c3f3e"
            }
          },
          "metadata": {}
        }
      ],
      "source": [
        "#@title \n",
        "from ipywidgets import widgets\n",
        "out1 = widgets.Output()\n",
        "with out1:\n",
        "  from IPython.display import YouTubeVideo\n",
        "  video = YouTubeVideo(id=f\"rEFTKAXEBgY\", width=854, height=480, fs=1, rel=0)\n",
        "  print(\"Video available at https://youtube.com/watch?v=\" + video.id)\n",
        "  display(video)\n",
        "display(out1)"
      ]
    },
    {
      "cell_type": "code",
      "source": [
        "#@title \n",
        "from IPython import display as IPyDisplay\n",
        "IPyDisplay.HTML(\n",
        "    f\"\"\"\n",
        "  <div>\n",
        "    <a href= \"https://github.com/DL4CV-NPTEL/Deep-Learning-For-Computer-Vision/blob/main/Slides/Week_5/DL4CV_Week05_Part03.pdf\" target=\"_blank\">\n",
        "    <img src=\"https://github.com/DL4CV-NPTEL/Deep-Learning-For-Computer-Vision/blob/main/Data/Slides_Logo.png?raw=1\"\n",
        "  alt=\"button link to Airtable\" style=\"width:200px\"></a>\n",
        "    </div>\"\"\" )"
      ],
      "metadata": {
        "colab": {
          "base_uri": "https://localhost:8080/",
          "height": 100
        },
        "id": "bJQjZzwxdQch",
        "outputId": "786251e1-3bc6-4ed3-8dd3-49cae95bfc25"
      },
      "execution_count": 5,
      "outputs": [
        {
          "output_type": "execute_result",
          "data": {
            "text/plain": [
              "<IPython.core.display.HTML object>"
            ],
            "text/html": [
              "\n",
              "  <div>\n",
              "    <a href= \"https://github.com/DL4CV-NPTEL/Deep-Learning-For-Computer-Vision/blob/main/Slides/Week_5/DL4CV_Week05_Part03.pdf\" target=\"_blank\">\n",
              "    <img src=\"https://github.com/DL4CV-NPTEL/Deep-Learning-For-Computer-Vision/blob/main/Data/Slides_Logo.png?raw=1\"\n",
              "  alt=\"button link to Airtable\" style=\"width:200px\"></a>\n",
              "    </div>"
            ]
          },
          "metadata": {},
          "execution_count": 5
        }
      ]
    }
  ]
}