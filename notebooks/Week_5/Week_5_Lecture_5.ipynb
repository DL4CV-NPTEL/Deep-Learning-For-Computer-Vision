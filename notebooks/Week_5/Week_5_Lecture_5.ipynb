{
  "nbformat": 4,
  "nbformat_minor": 0,
  "metadata": {
    "colab": {
      "name": "Week_5_Lecture_5.ipynb",
      "provenance": [],
      "include_colab_link": true
    },
    "kernelspec": {
      "name": "python3",
      "display_name": "Python 3"
    },
    "language_info": {
      "name": "python"
    },
    "widgets": {
      "application/vnd.jupyter.widget-state+json": {
        "9ceb790d031f49ae97e22b0c75a5fdf7": {
          "model_module": "@jupyter-widgets/output",
          "model_name": "OutputModel",
          "model_module_version": "1.0.0",
          "state": {
            "_dom_classes": [],
            "_model_module": "@jupyter-widgets/output",
            "_model_module_version": "1.0.0",
            "_model_name": "OutputModel",
            "_view_count": null,
            "_view_module": "@jupyter-widgets/output",
            "_view_module_version": "1.0.0",
            "_view_name": "OutputView",
            "layout": "IPY_MODEL_2abdebf560854f0dbc050010cdc4104f",
            "msg_id": "",
            "outputs": [
              {
                "output_type": "stream",
                "name": "stdout",
                "text": [
                  "Video available at https://youtube.com/watch?v=YizB_RoGrMs\n"
                ]
              },
              {
                "output_type": "display_data",
                "data": {
                  "text/plain": "<IPython.lib.display.YouTubeVideo at 0x7f8615b46b90>",
                  "text/html": "\n        <iframe\n            width=\"854\"\n            height=\"480\"\n            src=\"https://www.youtube.com/embed/YizB_RoGrMs?fs=1&rel=0\"\n            frameborder=\"0\"\n            allowfullscreen\n        ></iframe>\n        ",
                  "image/jpeg": "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\n"
                },
                "metadata": {}
              }
            ]
          }
        },
        "2abdebf560854f0dbc050010cdc4104f": {
          "model_module": "@jupyter-widgets/base",
          "model_name": "LayoutModel",
          "model_module_version": "1.2.0",
          "state": {
            "_model_module": "@jupyter-widgets/base",
            "_model_module_version": "1.2.0",
            "_model_name": "LayoutModel",
            "_view_count": null,
            "_view_module": "@jupyter-widgets/base",
            "_view_module_version": "1.2.0",
            "_view_name": "LayoutView",
            "align_content": null,
            "align_items": null,
            "align_self": null,
            "border": null,
            "bottom": null,
            "display": null,
            "flex": null,
            "flex_flow": null,
            "grid_area": null,
            "grid_auto_columns": null,
            "grid_auto_flow": null,
            "grid_auto_rows": null,
            "grid_column": null,
            "grid_gap": null,
            "grid_row": null,
            "grid_template_areas": null,
            "grid_template_columns": null,
            "grid_template_rows": null,
            "height": null,
            "justify_content": null,
            "justify_items": null,
            "left": null,
            "margin": null,
            "max_height": null,
            "max_width": null,
            "min_height": null,
            "min_width": null,
            "object_fit": null,
            "object_position": null,
            "order": null,
            "overflow": null,
            "overflow_x": null,
            "overflow_y": null,
            "padding": null,
            "right": null,
            "top": null,
            "visibility": null,
            "width": null
          }
        }
      }
    },
    "accelerator": "GPU",
    "gpuClass": "standard"
  },
  "cells": [
    {
      "cell_type": "markdown",
      "metadata": {
        "id": "view-in-github",
        "colab_type": "text"
      },
      "source": [
        "<a href=\"https://colab.research.google.com/github/DL4CV-NPTEL/Deep-Learning-For-Computer-Vision/blob/main/notebooks/Week_5/Week_5_Lecture_5.ipynb\" target=\"_parent\"><img src=\"https://colab.research.google.com/assets/colab-badge.svg\" alt=\"Open In Colab\"/></a>"
      ]
    },
    {
      "cell_type": "markdown",
      "source": [
        "# Lecture 5: Evolution of CNN Architectures for Image Classification - Part02 <sup><mark style=\"background-color:gold\">Code</mark> </sup>"
      ],
      "metadata": {
        "id": "5p8aGbdxc1Nz"
      }
    },
    {
      "cell_type": "code",
      "execution_count": 1,
      "metadata": {
        "colab": {
          "base_uri": "https://localhost:8080/",
          "height": 518,
          "referenced_widgets": [
            "9ceb790d031f49ae97e22b0c75a5fdf7",
            "2abdebf560854f0dbc050010cdc4104f"
          ]
        },
        "id": "W5BZQI44cxz_",
        "outputId": "a20bba36-808b-4345-a653-d892299f4c9a",
        "cellView": "form"
      },
      "outputs": [
        {
          "output_type": "display_data",
          "data": {
            "text/plain": [
              "Output()"
            ],
            "application/vnd.jupyter.widget-view+json": {
              "version_major": 2,
              "version_minor": 0,
              "model_id": "9ceb790d031f49ae97e22b0c75a5fdf7"
            }
          },
          "metadata": {}
        }
      ],
      "source": [
        "#@title \n",
        "from ipywidgets import widgets\n",
        "out1 = widgets.Output()\n",
        "with out1:\n",
        "  from IPython.display import YouTubeVideo\n",
        "  video = YouTubeVideo(id=f\"YizB_RoGrMs\", width=854, height=480, fs=1, rel=0)\n",
        "  print(\"Video available at https://youtube.com/watch?v=\" + video.id)\n",
        "  display(video)\n",
        "display(out1)"
      ]
    },
    {
      "cell_type": "code",
      "source": [
        "#@title \n",
        "from IPython import display as IPyDisplay\n",
        "IPyDisplay.HTML(\n",
        "    f\"\"\"\n",
        "  <div>\n",
        "    <a href= \"https://github.com/DL4CV-NPTEL/Deep-Learning-For-Computer-Vision/blob/main/Slides/Week_5/DL4CV_Week05_Part03.pdf\" target=\"_blank\">\n",
        "    <img src=\"https://github.com/DL4CV-NPTEL/Deep-Learning-For-Computer-Vision/blob/main/Data/Slides_Logo.png?raw=1\"\n",
        "  alt=\"button link to Airtable\" style=\"width:200px\"></a>\n",
        "    </div>\"\"\" )"
      ],
      "metadata": {
        "colab": {
          "base_uri": "https://localhost:8080/",
          "height": 100
        },
        "id": "bJQjZzwxdQch",
        "outputId": "6657a1b9-5c23-49ca-9152-d9616b47291e",
        "cellView": "form"
      },
      "execution_count": 2,
      "outputs": [
        {
          "output_type": "execute_result",
          "data": {
            "text/plain": [
              "<IPython.core.display.HTML object>"
            ],
            "text/html": [
              "\n",
              "  <div>\n",
              "    <a href= \"https://github.com/DL4CV-NPTEL/Deep-Learning-For-Computer-Vision/blob/main/Slides/Week_5/DL4CV_Week05_Part03.pdf\" target=\"_blank\">\n",
              "    <img src=\"https://github.com/DL4CV-NPTEL/Deep-Learning-For-Computer-Vision/blob/main/Data/Slides_Logo.png?raw=1\"\n",
              "  alt=\"button link to Airtable\" style=\"width:200px\"></a>\n",
              "    </div>"
            ]
          },
          "metadata": {},
          "execution_count": 2
        }
      ]
    },
    {
      "cell_type": "markdown",
      "source": [
        "**Imports**"
      ],
      "metadata": {
        "id": "EKIbi8QRtpaS"
      }
    },
    {
      "cell_type": "code",
      "source": [
        "import torch\n",
        "from torch.utils.data import sampler\n",
        "import torchvision\n",
        "from torchvision import datasets\n",
        "from torch.utils.data import DataLoader\n",
        "from torch.utils.data import SubsetRandomSampler\n",
        "from torchvision import transforms\n",
        "import os\n",
        "import numpy as np\n",
        "import random\n",
        "from distutils.version import LooseVersion as Version\n",
        "from itertools import product\n",
        "import time\n",
        "import matplotlib.pyplot as plt"
      ],
      "metadata": {
        "id": "xg1MnJz6tTR8"
      },
      "execution_count": 3,
      "outputs": []
    },
    {
      "cell_type": "markdown",
      "source": [
        "**Helper function for Dataloading**"
      ],
      "metadata": {
        "id": "LKaUxEH3tZAC"
      }
    },
    {
      "cell_type": "code",
      "source": [
        "class UnNormalize(object):\n",
        "    def __init__(self, mean, std):\n",
        "        self.mean = mean\n",
        "        self.std = std\n",
        "\n",
        "    def __call__(self, tensor):\n",
        "        \"\"\"\n",
        "        Parameters:\n",
        "        ------------\n",
        "        tensor (Tensor): Tensor image of size (C, H, W) to be normalized.\n",
        "        \n",
        "        Returns:\n",
        "        ------------\n",
        "        Tensor: Normalized image.\n",
        "        \"\"\"\n",
        "        for t, m, s in zip(tensor, self.mean, self.std):\n",
        "            t.mul_(s).add_(m)\n",
        "        return tensor\n",
        "\n",
        "\n",
        "def get_dataloaders_mnist(batch_size, num_workers=0,\n",
        "                          validation_fraction=None,\n",
        "                          train_transforms=None,\n",
        "                          test_transforms=None):\n",
        "\n",
        "    if train_transforms is None:\n",
        "        train_transforms = transforms.ToTensor()\n",
        "\n",
        "    if test_transforms is None:\n",
        "        test_transforms = transforms.ToTensor()\n",
        "\n",
        "    train_dataset = datasets.MNIST(root='data',\n",
        "                                   train=True,\n",
        "                                   transform=train_transforms,\n",
        "                                   download=True)\n",
        "\n",
        "    valid_dataset = datasets.MNIST(root='data',\n",
        "                                   train=True,\n",
        "                                   transform=test_transforms)\n",
        "\n",
        "    test_dataset = datasets.MNIST(root='data',\n",
        "                                  train=False,\n",
        "                                  transform=test_transforms)\n",
        "\n",
        "    if validation_fraction is not None:\n",
        "        num = int(validation_fraction * 60000)\n",
        "        train_indices = torch.arange(0, 60000 - num)\n",
        "        valid_indices = torch.arange(60000 - num, 60000)\n",
        "\n",
        "        train_sampler = SubsetRandomSampler(train_indices)\n",
        "        valid_sampler = SubsetRandomSampler(valid_indices)\n",
        "\n",
        "        valid_loader = DataLoader(dataset=valid_dataset,\n",
        "                                  batch_size=batch_size,\n",
        "                                  num_workers=num_workers,\n",
        "                                  sampler=valid_sampler)\n",
        "\n",
        "        train_loader = DataLoader(dataset=train_dataset,\n",
        "                                  batch_size=batch_size,\n",
        "                                  num_workers=num_workers,\n",
        "                                  drop_last=True,\n",
        "                                  sampler=train_sampler)\n",
        "\n",
        "    else:\n",
        "        train_loader = DataLoader(dataset=train_dataset,\n",
        "                                  batch_size=batch_size,\n",
        "                                  num_workers=num_workers,\n",
        "                                  drop_last=True,\n",
        "                                  shuffle=True)\n",
        "\n",
        "    test_loader = DataLoader(dataset=test_dataset,\n",
        "                             batch_size=batch_size,\n",
        "                             num_workers=num_workers,\n",
        "                             shuffle=False)\n",
        "\n",
        "    if validation_fraction is None:\n",
        "        return train_loader, test_loader\n",
        "    else:\n",
        "        return train_loader, valid_loader, test_loader\n",
        "\n",
        "\n",
        "def get_dataloaders_cifar10(batch_size, num_workers=0,\n",
        "                            validation_fraction=None,\n",
        "                            train_transforms=None,\n",
        "                            test_transforms=None):\n",
        "\n",
        "    if train_transforms is None:\n",
        "        train_transforms = transforms.ToTensor()\n",
        "\n",
        "    if test_transforms is None:\n",
        "        test_transforms = transforms.ToTensor()\n",
        "\n",
        "    train_dataset = datasets.CIFAR10(root='data',\n",
        "                                     train=True,\n",
        "                                     transform=train_transforms,\n",
        "                                     download=True)\n",
        "\n",
        "    valid_dataset = datasets.CIFAR10(root='data',\n",
        "                                     train=True,\n",
        "                                     transform=test_transforms)\n",
        "\n",
        "    test_dataset = datasets.CIFAR10(root='data',\n",
        "                                    train=False,\n",
        "                                    transform=test_transforms)\n",
        "\n",
        "    if validation_fraction is not None:\n",
        "        num = int(validation_fraction * 50000)\n",
        "        train_indices = torch.arange(0, 50000 - num)\n",
        "        valid_indices = torch.arange(50000 - num, 50000)\n",
        "\n",
        "        train_sampler = SubsetRandomSampler(train_indices)\n",
        "        valid_sampler = SubsetRandomSampler(valid_indices)\n",
        "\n",
        "        valid_loader = DataLoader(dataset=valid_dataset,\n",
        "                                  batch_size=batch_size,\n",
        "                                  num_workers=num_workers,\n",
        "                                  sampler=valid_sampler)\n",
        "\n",
        "        train_loader = DataLoader(dataset=train_dataset,\n",
        "                                  batch_size=batch_size,\n",
        "                                  num_workers=num_workers,\n",
        "                                  drop_last=True,\n",
        "                                  sampler=train_sampler)\n",
        "\n",
        "    else:\n",
        "        train_loader = DataLoader(dataset=train_dataset,\n",
        "                                  batch_size=batch_size,\n",
        "                                  num_workers=num_workers,\n",
        "                                  drop_last=True,\n",
        "                                  shuffle=True)\n",
        "\n",
        "    test_loader = DataLoader(dataset=test_dataset,\n",
        "                             batch_size=batch_size,\n",
        "                             num_workers=num_workers,\n",
        "                             shuffle=False)\n",
        "\n",
        "    if validation_fraction is None:\n",
        "        return train_loader, test_loader\n",
        "    else:\n",
        "        return train_loader, valid_loader, test_loader\n"
      ],
      "metadata": {
        "id": "8GENNdBqtTND"
      },
      "execution_count": 4,
      "outputs": []
    },
    {
      "cell_type": "markdown",
      "source": [
        "**Helper function for evaluation**"
      ],
      "metadata": {
        "id": "MJXDZlLftj0L"
      }
    },
    {
      "cell_type": "code",
      "source": [
        "def set_all_seeds(seed):\n",
        "    os.environ[\"PL_GLOBAL_SEED\"] = str(seed)\n",
        "    random.seed(seed)\n",
        "    np.random.seed(seed)\n",
        "    torch.manual_seed(seed)\n",
        "    torch.cuda.manual_seed_all(seed)\n",
        "\n",
        "\n",
        "def set_deterministic(use_tensorcores=False):\n",
        "    if torch.cuda.is_available():\n",
        "        torch.backends.cudnn.benchmark = False\n",
        "        torch.backends.cudnn.deterministic = True\n",
        "\n",
        "    if torch.__version__ <= Version(\"1.7\"):\n",
        "        torch.set_deterministic(True)\n",
        "    else:\n",
        "        torch.use_deterministic_algorithms(True)\n",
        "        \n",
        "        # The following are set to True by default and allow cards\n",
        "        # like the Ampere and newer to utilize tensorcores for\n",
        "        # convolutions and matrix multiplications, which can result\n",
        "        # in a significant speed-up. However, results may differ compared\n",
        "        # to card how don't use mixed precision via tensor cores.\n",
        "        torch.backends.cuda.matmul.allow_tf32 = use_tensorcores\n",
        "        torch.backends.cudnn.allow_tf32 = use_tensorcores\n",
        "\n",
        "\n",
        "def compute_accuracy(model, data_loader, device):\n",
        "\n",
        "    with torch.no_grad():\n",
        "\n",
        "        correct_pred, num_examples = 0, 0\n",
        "\n",
        "        for i, (features, targets) in enumerate(data_loader):\n",
        "\n",
        "            features = features.to(device)\n",
        "            targets = targets.float().to(device)\n",
        "\n",
        "            logits = model(features)\n",
        "            _, predicted_labels = torch.max(logits, 1)\n",
        "\n",
        "            num_examples += targets.size(0)\n",
        "            correct_pred += (predicted_labels == targets).sum()\n",
        "    return correct_pred.float()/num_examples * 100\n",
        "\n",
        "\n",
        "def compute_confusion_matrix(model, data_loader, device):\n",
        "\n",
        "    all_targets, all_predictions = [], []\n",
        "    with torch.no_grad():\n",
        "\n",
        "        for i, (features, targets) in enumerate(data_loader):\n",
        "\n",
        "            features = features.to(device)\n",
        "            targets = targets\n",
        "            logits = model(features)\n",
        "            _, predicted_labels = torch.max(logits, 1)\n",
        "            all_targets.extend(targets.to('cpu'))\n",
        "            all_predictions.extend(predicted_labels.to('cpu'))\n",
        "\n",
        "    all_predictions = all_predictions\n",
        "    all_predictions = np.array(all_predictions)\n",
        "    all_targets = np.array(all_targets)\n",
        "        \n",
        "    class_labels = np.unique(np.concatenate((all_targets, all_predictions)))\n",
        "    if class_labels.shape[0] == 1:\n",
        "        if class_labels[0] != 0:\n",
        "            class_labels = np.array([0, class_labels[0]])\n",
        "        else:\n",
        "            class_labels = np.array([class_labels[0], 1])\n",
        "    n_labels = class_labels.shape[0]\n",
        "    lst = []\n",
        "    z = list(zip(all_targets, all_predictions))\n",
        "    for combi in product(class_labels, repeat=2):\n",
        "        lst.append(z.count(combi))\n",
        "    mat = np.asarray(lst)[:, None].reshape(n_labels, n_labels)\n",
        "    return mat"
      ],
      "metadata": {
        "id": "zGeT8LUztkWa"
      },
      "execution_count": 5,
      "outputs": []
    },
    {
      "cell_type": "markdown",
      "source": [
        "**Helper function for training**"
      ],
      "metadata": {
        "id": "rNYKwpxZuL3M"
      }
    },
    {
      "cell_type": "code",
      "source": [
        "import time\n",
        "import torch\n",
        "\n",
        "\n",
        "def train_model(model, num_epochs, train_loader,\n",
        "                valid_loader, test_loader, optimizer,\n",
        "                device, logging_interval=50,\n",
        "                scheduler=None,\n",
        "                scheduler_on='valid_acc'):\n",
        "\n",
        "    start_time = time.time()\n",
        "    minibatch_loss_list, train_acc_list, valid_acc_list = [], [], []\n",
        "    \n",
        "    for epoch in range(num_epochs):\n",
        "\n",
        "        model.train()\n",
        "        for batch_idx, (features, targets) in enumerate(train_loader):\n",
        "\n",
        "            features = features.to(device)\n",
        "            targets = targets.to(device)\n",
        "\n",
        "            # ## FORWARD AND BACK PROP\n",
        "            logits = model(features)\n",
        "            loss = torch.nn.functional.cross_entropy(logits, targets)\n",
        "            optimizer.zero_grad()\n",
        "\n",
        "            loss.backward()\n",
        "\n",
        "            # ## UPDATE MODEL PARAMETERS\n",
        "            optimizer.step()\n",
        "\n",
        "            # ## LOGGING\n",
        "            minibatch_loss_list.append(loss.item())\n",
        "            if not batch_idx % logging_interval:\n",
        "                print(f'Epoch: {epoch+1:03d}/{num_epochs:03d} '\n",
        "                      f'| Batch {batch_idx:04d}/{len(train_loader):04d} '\n",
        "                      f'| Loss: {loss:.4f}')\n",
        "\n",
        "        model.eval()\n",
        "        with torch.no_grad():  # save memory during inference\n",
        "            train_acc = compute_accuracy(model, train_loader, device=device)\n",
        "            valid_acc = compute_accuracy(model, valid_loader, device=device)\n",
        "            print(f'Epoch: {epoch+1:03d}/{num_epochs:03d} '\n",
        "                  f'| Train: {train_acc :.2f}% '\n",
        "                  f'| Validation: {valid_acc :.2f}%')\n",
        "            train_acc_list.append(train_acc.item())\n",
        "            valid_acc_list.append(valid_acc.item())\n",
        "\n",
        "        elapsed = (time.time() - start_time)/60\n",
        "        print(f'Time elapsed: {elapsed:.2f} min')\n",
        "        \n",
        "        if scheduler is not None:\n",
        "\n",
        "            if scheduler_on == 'valid_acc':\n",
        "                scheduler.step(valid_acc_list[-1])\n",
        "            elif scheduler_on == 'minibatch_loss':\n",
        "                scheduler.step(minibatch_loss_list[-1])\n",
        "            else:\n",
        "                raise ValueError(f'Invalid `scheduler_on` choice.')\n",
        "        \n",
        "\n",
        "    elapsed = (time.time() - start_time)/60\n",
        "    print(f'Total Training Time: {elapsed:.2f} min')\n",
        "\n",
        "    test_acc = compute_accuracy(model, test_loader, device=device)\n",
        "    print(f'Test accuracy {test_acc :.2f}%')\n",
        "\n",
        "    return minibatch_loss_list, train_acc_list, valid_acc_list"
      ],
      "metadata": {
        "id": "owDCpKxouJkf"
      },
      "execution_count": 6,
      "outputs": []
    },
    {
      "cell_type": "markdown",
      "source": [
        "**Helper function for Plotting**"
      ],
      "metadata": {
        "id": "2Dm7heanuZiZ"
      }
    },
    {
      "cell_type": "code",
      "source": [
        "def plot_training_loss(minibatch_loss_list, num_epochs, iter_per_epoch,\n",
        "                       results_dir=None, averaging_iterations=100):\n",
        "\n",
        "    plt.figure()\n",
        "    ax1 = plt.subplot(1, 1, 1)\n",
        "    ax1.plot(range(len(minibatch_loss_list)),\n",
        "             (minibatch_loss_list), label='Minibatch Loss')\n",
        "\n",
        "    if len(minibatch_loss_list) > 1000:\n",
        "        ax1.set_ylim([\n",
        "            0, np.max(minibatch_loss_list[1000:])*1.5\n",
        "            ])\n",
        "    ax1.set_xlabel('Iterations')\n",
        "    ax1.set_ylabel('Loss')\n",
        "\n",
        "    ax1.plot(np.convolve(minibatch_loss_list,\n",
        "                         np.ones(averaging_iterations,)/averaging_iterations,\n",
        "                         mode='valid'),\n",
        "             label='Running Average')\n",
        "    ax1.legend()\n",
        "\n",
        "    ###################\n",
        "    # Set scond x-axis\n",
        "    ax2 = ax1.twiny()\n",
        "    newlabel = list(range(num_epochs+1))\n",
        "\n",
        "    newpos = [e*iter_per_epoch for e in newlabel]\n",
        "\n",
        "    ax2.set_xticks(newpos[::10])\n",
        "    ax2.set_xticklabels(newlabel[::10])\n",
        "\n",
        "    ax2.xaxis.set_ticks_position('bottom')\n",
        "    ax2.xaxis.set_label_position('bottom')\n",
        "    ax2.spines['bottom'].set_position(('outward', 45))\n",
        "    ax2.set_xlabel('Epochs')\n",
        "    ax2.set_xlim(ax1.get_xlim())\n",
        "    ###################\n",
        "\n",
        "    plt.tight_layout()\n",
        "\n",
        "    if results_dir is not None:\n",
        "        image_path = os.path.join(results_dir, 'plot_training_loss.pdf')\n",
        "        plt.savefig(image_path)\n",
        "\n",
        "\n",
        "def plot_accuracy(train_acc_list, valid_acc_list, results_dir):\n",
        "\n",
        "    num_epochs = len(train_acc_list)\n",
        "\n",
        "    plt.plot(np.arange(1, num_epochs+1),\n",
        "             train_acc_list, label='Training')\n",
        "    plt.plot(np.arange(1, num_epochs+1),\n",
        "             valid_acc_list, label='Validation')\n",
        "\n",
        "    plt.xlabel('Epoch')\n",
        "    plt.ylabel('Accuracy')\n",
        "    plt.legend()\n",
        "\n",
        "    plt.tight_layout()\n",
        "\n",
        "    if results_dir is not None:\n",
        "        image_path = os.path.join(\n",
        "            results_dir, 'plot_acc_training_validation.pdf')\n",
        "        plt.savefig(image_path)\n",
        "\n",
        "\n",
        "def show_examples(model, data_loader, unnormalizer=None, class_dict=None):\n",
        "    \n",
        "        \n",
        "    for batch_idx, (features, targets) in enumerate(data_loader):\n",
        "\n",
        "        with torch.no_grad():\n",
        "            features = features\n",
        "            targets = targets\n",
        "            logits = model(features)\n",
        "            predictions = torch.argmax(logits, dim=1)\n",
        "        break\n",
        "\n",
        "    fig, axes = plt.subplots(nrows=3, ncols=5,\n",
        "                             sharex=True, sharey=True)\n",
        "    \n",
        "    if unnormalizer is not None:\n",
        "        for idx in range(features.shape[0]):\n",
        "            features[idx] = unnormalizer(features[idx])\n",
        "    nhwc_img = np.transpose(features, axes=(0, 2, 3, 1))\n",
        "    \n",
        "    if nhwc_img.shape[-1] == 1:\n",
        "        nhw_img = np.squeeze(nhwc_img.numpy(), axis=3)\n",
        "\n",
        "        for idx, ax in enumerate(axes.ravel()):\n",
        "            ax.imshow(nhw_img[idx], cmap='binary')\n",
        "            if class_dict is not None:\n",
        "                ax.title.set_text(f'P: {class_dict[predictions[idx].item()]}'\n",
        "                                  f'\\nT: {class_dict[targets[idx].item()]}')\n",
        "            else:\n",
        "                ax.title.set_text(f'P: {predictions[idx]} | T: {targets[idx]}')\n",
        "            ax.axison = False\n",
        "\n",
        "    else:\n",
        "\n",
        "        for idx, ax in enumerate(axes.ravel()):\n",
        "            ax.imshow(nhwc_img[idx])\n",
        "            if class_dict is not None:\n",
        "                ax.title.set_text(f'P: {class_dict[predictions[idx].item()]}'\n",
        "                                  f'\\nT: {class_dict[targets[idx].item()]}')\n",
        "            else:\n",
        "                ax.title.set_text(f'P: {predictions[idx]} | T: {targets[idx]}')\n",
        "            ax.axison = False\n",
        "    plt.tight_layout()\n",
        "    plt.show()\n",
        "\n",
        "\n",
        "def plot_confusion_matrix(conf_mat,\n",
        "                          hide_spines=False,\n",
        "                          hide_ticks=False,\n",
        "                          figsize=None,\n",
        "                          cmap=None,\n",
        "                          colorbar=False,\n",
        "                          show_absolute=True,\n",
        "                          show_normed=False,\n",
        "                          class_names=None):\n",
        "\n",
        "    if not (show_absolute or show_normed):\n",
        "        raise AssertionError('Both show_absolute and show_normed are False')\n",
        "    if class_names is not None and len(class_names) != len(conf_mat):\n",
        "        raise AssertionError('len(class_names) should be equal to number of'\n",
        "                             'classes in the dataset')\n",
        "\n",
        "    total_samples = conf_mat.sum(axis=1)[:, np.newaxis]\n",
        "    normed_conf_mat = conf_mat.astype('float') / total_samples\n",
        "\n",
        "    fig, ax = plt.subplots(figsize=figsize)\n",
        "    ax.grid(False)\n",
        "    if cmap is None:\n",
        "        cmap = plt.cm.Blues\n",
        "\n",
        "    if figsize is None:\n",
        "        figsize = (len(conf_mat)*1.25, len(conf_mat)*1.25)\n",
        "\n",
        "    if show_normed:\n",
        "        matshow = ax.matshow(normed_conf_mat, cmap=cmap)\n",
        "    else:\n",
        "        matshow = ax.matshow(conf_mat, cmap=cmap)\n",
        "\n",
        "    if colorbar:\n",
        "        fig.colorbar(matshow)\n",
        "\n",
        "    for i in range(conf_mat.shape[0]):\n",
        "        for j in range(conf_mat.shape[1]):\n",
        "            cell_text = \"\"\n",
        "            if show_absolute:\n",
        "                cell_text += format(conf_mat[i, j], 'd')\n",
        "                if show_normed:\n",
        "                    cell_text += \"\\n\" + '('\n",
        "                    cell_text += format(normed_conf_mat[i, j], '.2f') + ')'\n",
        "            else:\n",
        "                cell_text += format(normed_conf_mat[i, j], '.2f')\n",
        "            ax.text(x=j,\n",
        "                    y=i,\n",
        "                    s=cell_text,\n",
        "                    va='center',\n",
        "                    ha='center',\n",
        "                    color=\"white\" if normed_conf_mat[i, j] > 0.5 else \"black\")\n",
        "    \n",
        "    if class_names is not None:\n",
        "        tick_marks = np.arange(len(class_names))\n",
        "        plt.xticks(tick_marks, class_names, rotation=90)\n",
        "        plt.yticks(tick_marks, class_names)\n",
        "        \n",
        "    if hide_spines:\n",
        "        ax.spines['right'].set_visible(False)\n",
        "        ax.spines['top'].set_visible(False)\n",
        "        ax.spines['left'].set_visible(False)\n",
        "        ax.spines['bottom'].set_visible(False)\n",
        "    ax.yaxis.set_ticks_position('left')\n",
        "    ax.xaxis.set_ticks_position('bottom')\n",
        "    if hide_ticks:\n",
        "        ax.axes.get_yaxis().set_ticks([])\n",
        "        ax.axes.get_xaxis().set_ticks([])\n",
        "\n",
        "    plt.xlabel('predicted label')\n",
        "    plt.ylabel('true label')\n",
        "    return fig, ax"
      ],
      "metadata": {
        "id": "dfpdkuNNuWIx"
      },
      "execution_count": 7,
      "outputs": []
    },
    {
      "cell_type": "markdown",
      "source": [
        "## ResNet-34 on Cifar-10"
      ],
      "metadata": {
        "id": "KrGvV93d4wRs"
      }
    },
    {
      "cell_type": "markdown",
      "source": [
        "**Setting and Dataset**"
      ],
      "metadata": {
        "id": "pSTaZtR_vAV6"
      }
    },
    {
      "cell_type": "code",
      "source": [
        "RANDOM_SEED = 123\n",
        "BATCH_SIZE = 256\n",
        "NUM_EPOCHS = 5\n",
        "DEVICE = torch.device('cuda:0' if torch.cuda.is_available() else 'cpu')"
      ],
      "metadata": {
        "id": "iYhSzwWku8Bp"
      },
      "execution_count": 8,
      "outputs": []
    },
    {
      "cell_type": "code",
      "source": [
        "set_all_seeds(RANDOM_SEED)"
      ],
      "metadata": {
        "id": "a3V0AavnvJlh"
      },
      "execution_count": 9,
      "outputs": []
    },
    {
      "cell_type": "code",
      "source": [
        "##########################\n",
        "### CIFAR-10 DATASET\n",
        "##########################\n",
        "\n",
        "\n",
        "train_transforms = torchvision.transforms.Compose([\n",
        "    torchvision.transforms.Resize((120, 120)),\n",
        "    torchvision.transforms.RandomCrop((110, 110)),\n",
        "    torchvision.transforms.ToTensor(),\n",
        "    torchvision.transforms.Normalize((0.5, 0.5, 0.5), (0.5, 0.5, 0.5))\n",
        "                                      ])\n",
        "\n",
        "test_transforms = torchvision.transforms.Compose([\n",
        "    torchvision.transforms.Resize((120, 120)),        \n",
        "    torchvision.transforms.CenterCrop((110, 110)),            \n",
        "    torchvision.transforms.ToTensor(),                \n",
        "    torchvision.transforms.Normalize((0.5, 0.5, 0.5), (0.5, 0.5, 0.5))])\n",
        "\n",
        "\n",
        "train_loader, valid_loader, test_loader = get_dataloaders_cifar10(\n",
        "    batch_size=BATCH_SIZE,\n",
        "    validation_fraction=0.1,\n",
        "    train_transforms=train_transforms,\n",
        "    test_transforms=test_transforms,\n",
        "    num_workers=1)\n",
        "\n",
        "# Checking the dataset\n",
        "for images, labels in train_loader:  \n",
        "    print('Image batch dimensions:', images.shape)\n",
        "    print('Image label dimensions:', labels.shape)\n",
        "    print('Class labels of 10 examples:', labels[:10])\n",
        "    break"
      ],
      "metadata": {
        "colab": {
          "base_uri": "https://localhost:8080/"
        },
        "id": "hVgNIuNTvOFR",
        "outputId": "62f98205-7598-41b2-ebdc-495fa92abb13"
      },
      "execution_count": 10,
      "outputs": [
        {
          "output_type": "stream",
          "name": "stdout",
          "text": [
            "Files already downloaded and verified\n",
            "Image batch dimensions: torch.Size([256, 3, 110, 110])\n",
            "Image label dimensions: torch.Size([256])\n",
            "Class labels of 10 examples: tensor([4, 7, 4, 6, 2, 6, 9, 7, 3, 0])\n"
          ]
        }
      ]
    },
    {
      "cell_type": "markdown",
      "source": [
        "### Model"
      ],
      "metadata": {
        "id": "zpkfzYUz5jVz"
      }
    },
    {
      "cell_type": "code",
      "source": [
        "# Code taken & adjusted from: https://github.com/pytorch/vision/blob/master/torchvision/models/resnet.py\n",
        "\n",
        "def conv3x3(in_planes, out_planes, stride=1, groups=1, dilation=1):\n",
        "    \"\"\"3x3 convolution with padding\"\"\"\n",
        "    return torch.nn.Conv2d(in_planes, out_planes, kernel_size=3, stride=stride,\n",
        "                     padding=dilation, groups=groups, bias=False, dilation=dilation)\n",
        "\n",
        "\n",
        "def conv1x1(in_planes, out_planes, stride=1):\n",
        "    \"\"\"1x1 convolution\"\"\"\n",
        "    return torch.nn.Conv2d(in_planes, out_planes, kernel_size=1, stride=stride, bias=False)\n",
        "\n",
        "\n",
        "class BasicBlock(torch.nn.Module):\n",
        "    expansion: int = 1\n",
        "\n",
        "    def __init__(self, inplanes, planes, stride=1, downsample=None,\n",
        "                 groups=1, base_width=64, dilation=1, norm_layer=None):\n",
        "        \n",
        "        super().__init__()\n",
        "        if norm_layer is None:\n",
        "            norm_layer = torch.nn.BatchNorm2d\n",
        "        if groups != 1 or base_width != 64:\n",
        "            raise ValueError('BasicBlock only supports groups=1 and base_width=64')\n",
        "        if dilation > 1:\n",
        "            raise NotImplementedError(\"Dilation > 1 not supported in BasicBlock\")\n",
        "        # Both self.conv1 and self.downsample layers downsample the input when stride != 1\n",
        "        self.conv1 = conv3x3(inplanes, planes, stride)\n",
        "        self.bn1 = norm_layer(planes)\n",
        "        self.relu = torch.nn.ReLU(inplace=True)\n",
        "        self.conv2 = conv3x3(planes, planes)\n",
        "        self.bn2 = norm_layer(planes)\n",
        "        self.downsample = downsample\n",
        "        self.stride = stride\n",
        "\n",
        "    def forward(self, x):\n",
        "        identity = x\n",
        "\n",
        "        out = self.conv1(x)\n",
        "        out = self.bn1(out)\n",
        "        out = self.relu(out)\n",
        "\n",
        "        out = self.conv2(out)\n",
        "        out = self.bn2(out)\n",
        "\n",
        "        if self.downsample is not None:\n",
        "            identity = self.downsample(x)\n",
        "\n",
        "        out += identity\n",
        "        out = self.relu(out)\n",
        "\n",
        "        return out\n",
        "\n",
        "\n",
        "class Bottleneck(torch.nn.Module):\n",
        "    # Bottleneck in torchvision places the stride for downsampling at 3x3 convolution(self.conv2)\n",
        "    # while original implementation places the stride at the first 1x1 convolution(self.conv1)\n",
        "    # according to \"Deep residual learning for image recognition\"https://arxiv.org/abs/1512.03385.\n",
        "    # This variant is also known as ResNet V1.5 and improves accuracy according to\n",
        "    # https://ngc.nvidia.com/catalog/model-scripts/nvidia:resnet_50_v1_5_for_pytorch.\n",
        "\n",
        "    expansion=4\n",
        "\n",
        "    def __init__(self, inplanes, planes, stride=1, downsample=None,\n",
        "                 groups=1, base_width=64, dilation=1, norm_layer=None):\n",
        "        \n",
        "        super().__init__()\n",
        "        if norm_layer is None:\n",
        "            norm_layer = torch.nn.BatchNorm2d\n",
        "        width = int(planes * (base_width / 64.)) * groups\n",
        "        # Both self.conv2 and self.downsample layers downsample the input when stride != 1\n",
        "        self.conv1 = conv1x1(inplanes, width)\n",
        "        self.bn1 = norm_layer(width)\n",
        "        self.conv2 = conv3x3(width, width, stride, groups, dilation)\n",
        "        self.bn2 = norm_layer(width)\n",
        "        self.conv3 = conv1x1(width, planes * self.expansion)\n",
        "        self.bn3 = norm_layer(planes * self.expansion)\n",
        "        self.relu = torch.nn.ReLU(inplace=True)\n",
        "        self.downsample = downsample\n",
        "        self.stride = stride\n",
        "\n",
        "    def forward(self, x):\n",
        "        identity = x\n",
        "\n",
        "        out = self.conv1(x)\n",
        "        out = self.bn1(out)\n",
        "        out = self.relu(out)\n",
        "\n",
        "        out = self.conv2(out)\n",
        "        out = self.bn2(out)\n",
        "        out = self.relu(out)\n",
        "\n",
        "        out = self.conv3(out)\n",
        "        out = self.bn3(out)\n",
        "\n",
        "        if self.downsample is not None:\n",
        "            identity = self.downsample(x)\n",
        "\n",
        "        out += identity\n",
        "        out = self.relu(out)\n",
        "\n",
        "        return out\n",
        "\n",
        "\n",
        "class ResNet(torch.nn.Module):\n",
        "\n",
        "    def __init__(self, block, layers, num_classes, zero_init_residual=False, groups=1,\n",
        "                 width_per_group=64, replace_stride_with_dilation=None, norm_layer=None):\n",
        "        \n",
        "        super().__init__()\n",
        "        if norm_layer is None:\n",
        "            norm_layer = torch.nn.BatchNorm2d\n",
        "        self._norm_layer = norm_layer\n",
        "\n",
        "        self.inplanes = 64\n",
        "        self.dilation = 1\n",
        "        if replace_stride_with_dilation is None:\n",
        "            # each element in the tuple indicates if we should replace\n",
        "            # the 2x2 stride with a dilated convolution instead\n",
        "            replace_stride_with_dilation = [False, False, False]\n",
        "        if len(replace_stride_with_dilation) != 3:\n",
        "            raise ValueError(\"replace_stride_with_dilation should be None \"\n",
        "                             \"or a 3-element tuple, got {}\".format(replace_stride_with_dilation))\n",
        "        self.groups = groups\n",
        "        self.base_width = width_per_group\n",
        "        self.conv1 = torch.nn.Conv2d(3, self.inplanes, kernel_size=7, stride=2, padding=3,\n",
        "                                     bias=False)\n",
        "        self.bn1 = norm_layer(self.inplanes)\n",
        "        self.relu = torch.nn.ReLU(inplace=True)\n",
        "        self.maxpool = torch.nn.MaxPool2d(kernel_size=3, stride=2, padding=1)\n",
        "        self.layer1 = self._make_layer(block, 64, layers[0])\n",
        "        self.layer2 = self._make_layer(block, 128, layers[1], stride=2,\n",
        "                                       dilate=replace_stride_with_dilation[0])\n",
        "        self.layer3 = self._make_layer(block, 256, layers[2], stride=2,\n",
        "                                       dilate=replace_stride_with_dilation[1])\n",
        "        self.layer4 = self._make_layer(block, 512, layers[3], stride=2,\n",
        "                                       dilate=replace_stride_with_dilation[2])\n",
        "        self.avgpool = torch.nn.AdaptiveAvgPool2d((1, 1))\n",
        "        self.fc = torch.nn.Linear(512 * block.expansion, num_classes)\n",
        "\n",
        "        for m in self.modules():\n",
        "            if isinstance(m, torch.nn.Conv2d):\n",
        "                torch.nn.init.kaiming_normal_(m.weight, mode='fan_out', nonlinearity='relu')\n",
        "            elif isinstance(m, (torch.nn.BatchNorm2d, torch.nn.GroupNorm)):\n",
        "                torch.nn.init.constant_(m.weight, 1)\n",
        "                torch.nn.init.constant_(m.bias, 0)\n",
        "\n",
        "        # Zero-initialize the last BN in each residual branch,\n",
        "        # so that the residual branch starts with zeros, and each residual block behaves like an identity.\n",
        "        # This improves the model by 0.2~0.3% according to https://arxiv.org/abs/1706.02677\n",
        "        if zero_init_residual:\n",
        "            for m in self.modules():\n",
        "                if isinstance(m, Bottleneck):\n",
        "                    torch.nn.init.constant_(m.bn3.weight, 0)\n",
        "                elif isinstance(m, BasicBlock):\n",
        "                    torch.nn.init.constant_(m.bn2.weight, 0)\n",
        "\n",
        "    def _make_layer(self, block, planes, blocks,\n",
        "                    stride=1, dilate=False):\n",
        "        norm_layer = self._norm_layer\n",
        "        downsample = None\n",
        "        previous_dilation = self.dilation\n",
        "        if dilate:\n",
        "            self.dilation *= stride\n",
        "            stride = 1\n",
        "        if stride != 1 or self.inplanes != planes * block.expansion:\n",
        "            downsample = torch.nn.Sequential(\n",
        "                conv1x1(self.inplanes, planes * block.expansion, stride),\n",
        "                norm_layer(planes * block.expansion),\n",
        "            )\n",
        "\n",
        "        layers = []\n",
        "        layers.append(block(self.inplanes, planes, stride, downsample, self.groups,\n",
        "                            self.base_width, previous_dilation, norm_layer))\n",
        "        self.inplanes = planes * block.expansion\n",
        "        for _ in range(1, blocks):\n",
        "            layers.append(block(self.inplanes, planes, groups=self.groups,\n",
        "                                base_width=self.base_width, dilation=self.dilation,\n",
        "                                norm_layer=norm_layer))\n",
        "\n",
        "        return torch.nn.Sequential(*layers)\n",
        "\n",
        "    def forward(self, x):\n",
        "        x = self.conv1(x)\n",
        "        x = self.bn1(x)\n",
        "        x = self.relu(x)\n",
        "        x = self.maxpool(x)\n",
        "\n",
        "        x = self.layer1(x)\n",
        "        x = self.layer2(x)\n",
        "        x = self.layer3(x)\n",
        "        x = self.layer4(x)\n",
        "\n",
        "        x = self.avgpool(x)\n",
        "        x = torch.flatten(x, 1)\n",
        "        x = self.fc(x)\n",
        "        return x"
      ],
      "metadata": {
        "id": "Ll4BE1xM5lvD"
      },
      "execution_count": 11,
      "outputs": []
    },
    {
      "cell_type": "code",
      "source": [
        "model = ResNet(BasicBlock, layers=[3, 4, 6, 3], num_classes=10) # ResNet34\n",
        "\n",
        "model = model.to(DEVICE)\n",
        "\n",
        "optimizer = torch.optim.SGD(model.parameters(), momentum=0.9, lr=0.1)\n",
        "scheduler = torch.optim.lr_scheduler.ReduceLROnPlateau(optimizer,\n",
        "                                                       factor=0.1,\n",
        "                                                       mode='max',\n",
        "                                                       verbose=True)\n",
        "\n",
        "minibatch_loss_list, train_acc_list, valid_acc_list = train_model(\n",
        "    model=model,\n",
        "    num_epochs=NUM_EPOCHS,\n",
        "    train_loader=train_loader,\n",
        "    valid_loader=valid_loader,\n",
        "    test_loader=test_loader,\n",
        "    optimizer=optimizer,\n",
        "    device=DEVICE,\n",
        "    scheduler=scheduler,\n",
        "    scheduler_on='valid_acc',\n",
        "    logging_interval=100)\n",
        "\n",
        "plot_training_loss(minibatch_loss_list=minibatch_loss_list,\n",
        "                   num_epochs=NUM_EPOCHS,\n",
        "                   iter_per_epoch=len(train_loader),\n",
        "                   results_dir=None,\n",
        "                   averaging_iterations=200)\n",
        "plt.show()\n",
        "\n",
        "plot_accuracy(train_acc_list=train_acc_list,\n",
        "              valid_acc_list=valid_acc_list,\n",
        "              results_dir=None)\n",
        "plt.show()"
      ],
      "metadata": {
        "id": "fTN2KO9s5omi",
        "outputId": "4a7d61e6-d598-46c5-f038-1fcc6a77d495",
        "colab": {
          "base_uri": "https://localhost:8080/",
          "height": 959
        }
      },
      "execution_count": 12,
      "outputs": [
        {
          "output_type": "stream",
          "name": "stdout",
          "text": [
            "Epoch: 001/005 | Batch 0000/0175 | Loss: 2.5130\n",
            "Epoch: 001/005 | Batch 0100/0175 | Loss: 2.3001\n",
            "Epoch: 001/005 | Train: 17.45% | Validation: 17.56%\n",
            "Time elapsed: 2.24 min\n",
            "Epoch: 002/005 | Batch 0000/0175 | Loss: 2.1887\n",
            "Epoch: 002/005 | Batch 0100/0175 | Loss: 1.8777\n",
            "Epoch: 002/005 | Train: 31.32% | Validation: 32.44%\n",
            "Time elapsed: 4.33 min\n",
            "Epoch: 003/005 | Batch 0000/0175 | Loss: 1.7489\n",
            "Epoch: 003/005 | Batch 0100/0175 | Loss: 1.5437\n",
            "Epoch: 003/005 | Train: 44.63% | Validation: 44.32%\n",
            "Time elapsed: 6.42 min\n",
            "Epoch: 004/005 | Batch 0000/0175 | Loss: 1.4416\n",
            "Epoch: 004/005 | Batch 0100/0175 | Loss: 1.3023\n",
            "Epoch: 004/005 | Train: 50.10% | Validation: 50.18%\n",
            "Time elapsed: 8.51 min\n",
            "Epoch: 005/005 | Batch 0000/0175 | Loss: 1.2633\n",
            "Epoch: 005/005 | Batch 0100/0175 | Loss: 1.1889\n",
            "Epoch: 005/005 | Train: 58.36% | Validation: 59.04%\n",
            "Time elapsed: 10.73 min\n",
            "Total Training Time: 10.73 min\n",
            "Test accuracy 56.98%\n"
          ]
        },
        {
          "output_type": "display_data",
          "data": {
            "text/plain": [
              "<Figure size 432x288 with 2 Axes>"
            ],
            "image/png": "[encoded data removed]"
          },
          "metadata": {
            "needs_background": "light"
          }
        },
        {
          "output_type": "display_data",
          "data": {
            "text/plain": [
              "<Figure size 432x288 with 1 Axes>"
            ],
            "image/png": "[encoded data removed]"
          },
          "metadata": {
            "needs_background": "light"
          }
        }
      ]
    },
    {
      "cell_type": "code",
      "source": [
        "model.cpu()\n",
        "unnormalizer = UnNormalize((0.5, 0.5, 0.5), (0.5, 0.5, 0.5))\n",
        "class_dict = {0: 'airplane',\n",
        "              1: 'automobile',\n",
        "              2: 'bird',\n",
        "              3: 'cat',\n",
        "              4: 'deer',\n",
        "              5: 'dog',\n",
        "              6: 'frog',\n",
        "              7: 'horse',\n",
        "              8: 'ship',\n",
        "              9: 'truck'}\n",
        "\n",
        "show_examples(model=model, data_loader=test_loader, unnormalizer=unnormalizer, class_dict=class_dict)"
      ],
      "metadata": {
        "id": "qnW9cFrB5rxS",
        "outputId": "5ac59c7d-7fd6-4b07-a9f7-b5a043a08438",
        "colab": {
          "base_uri": "https://localhost:8080/",
          "height": 300
        }
      },
      "execution_count": 13,
      "outputs": [
        {
          "output_type": "display_data",
          "data": {
            "text/plain": [
              "<Figure size 432x288 with 15 Axes>"
            ],
            "image/png": "[encoded data removed]"
          },
          "metadata": {
            "needs_background": "light"
          }
        }
      ]
    },
    {
      "cell_type": "markdown",
      "source": [
        "**Acknowledgements**"
      ],
      "metadata": {
        "id": "eTXGXwbzvyxR"
      }
    },
    {
      "cell_type": "markdown",
      "source": [
        "Code adopted from the excellent lectures of Sebastian Raschka\n",
        "\n",
        "https://sebastianraschka.com/blog/2021/dl-course.html"
      ],
      "metadata": {
        "id": "b7nnKNLIv2XY"
      }
    }
  ]
}