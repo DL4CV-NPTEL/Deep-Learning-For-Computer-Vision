{
  "nbformat": 4,
  "nbformat_minor": 0,
  "metadata": {
    "colab": {
      "name": "Week_5_Lecture_5.ipynb",
      "provenance": [],
      "include_colab_link": true
    },
    "kernelspec": {
      "name": "python3",
      "display_name": "Python 3"
    },
    "language_info": {
      "name": "python"
    },
    "widgets": {
      "application/vnd.jupyter.widget-state+json": {
        "f6182d7a34bc4a56b849b4de0e6e76ea": {
          "model_module": "@jupyter-widgets/output",
          "model_name": "OutputModel",
          "model_module_version": "1.0.0",
          "state": {
            "_dom_classes": [],
            "_model_module": "@jupyter-widgets/output",
            "_model_module_version": "1.0.0",
            "_model_name": "OutputModel",
            "_view_count": null,
            "_view_module": "@jupyter-widgets/output",
            "_view_module_version": "1.0.0",
            "_view_name": "OutputView",
            "layout": "IPY_MODEL_fcc481165a8d4b34b4e557d22ecc2059",
            "msg_id": "",
            "outputs": [
              {
                "output_type": "stream",
                "name": "stdout",
                "text": [
                  "Video available at https://youtube.com/watch?v=YizB_RoGrMs\n"
                ]
              },
              {
                "output_type": "display_data",
                "data": {
                  "text/plain": "<IPython.lib.display.YouTubeVideo at 0x7f2eac539e90>",
                  "text/html": "\n        <iframe\n            width=\"854\"\n            height=\"480\"\n            src=\"https://www.youtube.com/embed/YizB_RoGrMs?fs=1&rel=0\"\n            frameborder=\"0\"\n            allowfullscreen\n        ></iframe>\n        ",
                  "image/jpeg": "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\n"
                },
                "metadata": {}
              }
            ]
          }
        },
        "fcc481165a8d4b34b4e557d22ecc2059": {
          "model_module": "@jupyter-widgets/base",
          "model_name": "LayoutModel",
          "model_module_version": "1.2.0",
          "state": {
            "_model_module": "@jupyter-widgets/base",
            "_model_module_version": "1.2.0",
            "_model_name": "LayoutModel",
            "_view_count": null,
            "_view_module": "@jupyter-widgets/base",
            "_view_module_version": "1.2.0",
            "_view_name": "LayoutView",
            "align_content": null,
            "align_items": null,
            "align_self": null,
            "border": null,
            "bottom": null,
            "display": null,
            "flex": null,
            "flex_flow": null,
            "grid_area": null,
            "grid_auto_columns": null,
            "grid_auto_flow": null,
            "grid_auto_rows": null,
            "grid_column": null,
            "grid_gap": null,
            "grid_row": null,
            "grid_template_areas": null,
            "grid_template_columns": null,
            "grid_template_rows": null,
            "height": null,
            "justify_content": null,
            "justify_items": null,
            "left": null,
            "margin": null,
            "max_height": null,
            "max_width": null,
            "min_height": null,
            "min_width": null,
            "object_fit": null,
            "object_position": null,
            "order": null,
            "overflow": null,
            "overflow_x": null,
            "overflow_y": null,
            "padding": null,
            "right": null,
            "top": null,
            "visibility": null,
            "width": null
          }
        }
      }
    }
  },
  "cells": [
    {
      "cell_type": "markdown",
      "metadata": {
        "id": "view-in-github",
        "colab_type": "text"
      },
      "source": [
        "<a href=\"https://colab.research.google.com/github/DL4CV-NPTEL/Deep-Learning-For-Computer-Vision/blob/main/notebooks/Week_5/Week_5_Lecture_5.ipynb\" target=\"_parent\"><img src=\"https://colab.research.google.com/assets/colab-badge.svg\" alt=\"Open In Colab\"/></a>"
      ]
    },
    {
      "cell_type": "markdown",
      "source": [
        "# Lecture 5: Evolution of CNN Architectures for Image Classification - Part02"
      ],
      "metadata": {
        "id": "5p8aGbdxc1Nz"
      }
    },
    {
      "cell_type": "code",
      "execution_count": 6,
      "metadata": {
        "colab": {
          "base_uri": "https://localhost:8080/",
          "height": 519,
          "referenced_widgets": [
            "f6182d7a34bc4a56b849b4de0e6e76ea",
            "fcc481165a8d4b34b4e557d22ecc2059"
          ]
        },
        "id": "W5BZQI44cxz_",
        "outputId": "cf7d5088-2351-4fb2-9e3f-f1891b35887e"
      },
      "outputs": [
        {
          "output_type": "display_data",
          "data": {
            "text/plain": [
              "Output()"
            ],
            "application/vnd.jupyter.widget-view+json": {
              "version_major": 2,
              "version_minor": 0,
              "model_id": "f6182d7a34bc4a56b849b4de0e6e76ea"
            }
          },
          "metadata": {}
        }
      ],
      "source": [
        "#@title \n",
        "from ipywidgets import widgets\n",
        "out1 = widgets.Output()\n",
        "with out1:\n",
        "  from IPython.display import YouTubeVideo\n",
        "  video = YouTubeVideo(id=f\"YizB_RoGrMs\", width=854, height=480, fs=1, rel=0)\n",
        "  print(\"Video available at https://youtube.com/watch?v=\" + video.id)\n",
        "  display(video)\n",
        "display(out1)"
      ]
    },
    {
      "cell_type": "code",
      "source": [
        "#@title \n",
        "from IPython import display as IPyDisplay\n",
        "IPyDisplay.HTML(\n",
        "    f\"\"\"\n",
        "  <div>\n",
        "    <a href= \"https://github.com/DL4CV-NPTEL/Deep-Learning-For-Computer-Vision/blob/main/Slides/Week_5/DL4CV_Week05_Part03.pdf\" target=\"_blank\">\n",
        "    <img src=\"https://github.com/DL4CV-NPTEL/Deep-Learning-For-Computer-Vision/blob/main/Data/Slides_Logo.png?raw=1\"\n",
        "  alt=\"button link to Airtable\" style=\"width:200px\"></a>\n",
        "    </div>\"\"\" )"
      ],
      "metadata": {
        "colab": {
          "base_uri": "https://localhost:8080/",
          "height": 100
        },
        "id": "bJQjZzwxdQch",
        "outputId": "786251e1-3bc6-4ed3-8dd3-49cae95bfc25"
      },
      "execution_count": 5,
      "outputs": [
        {
          "output_type": "execute_result",
          "data": {
            "text/plain": [
              "<IPython.core.display.HTML object>"
            ],
            "text/html": [
              "\n",
              "  <div>\n",
              "    <a href= \"https://github.com/DL4CV-NPTEL/Deep-Learning-For-Computer-Vision/blob/main/Slides/Week_5/DL4CV_Week05_Part03.pdf\" target=\"_blank\">\n",
              "    <img src=\"https://github.com/DL4CV-NPTEL/Deep-Learning-For-Computer-Vision/blob/main/Data/Slides_Logo.png?raw=1\"\n",
              "  alt=\"button link to Airtable\" style=\"width:200px\"></a>\n",
              "    </div>"
            ]
          },
          "metadata": {},
          "execution_count": 5
        }
      ]
    }
  ]
}