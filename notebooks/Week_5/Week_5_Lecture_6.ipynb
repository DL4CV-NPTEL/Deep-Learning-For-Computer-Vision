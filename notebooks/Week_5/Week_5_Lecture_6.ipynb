{
  "nbformat": 4,
  "nbformat_minor": 0,
  "metadata": {
    "colab": {
      "name": "Week_5_Lecture_6.ipynb",
      "provenance": [],
      "include_colab_link": true
    },
    "kernelspec": {
      "name": "python3",
      "display_name": "Python 3"
    },
    "language_info": {
      "name": "python"
    },
    "widgets": {
      "application/vnd.jupyter.widget-state+json": {
        "846e8b665b2f4d0d838cfb41010695e4": {
          "model_module": "@jupyter-widgets/output",
          "model_name": "OutputModel",
          "model_module_version": "1.0.0",
          "state": {
            "_dom_classes": [],
            "_model_module": "@jupyter-widgets/output",
            "_model_module_version": "1.0.0",
            "_model_name": "OutputModel",
            "_view_count": null,
            "_view_module": "@jupyter-widgets/output",
            "_view_module_version": "1.0.0",
            "_view_name": "OutputView",
            "layout": "IPY_MODEL_6a1a3531e16847f396ea83a4b002bcf7",
            "msg_id": "",
            "outputs": [
              {
                "output_type": "stream",
                "name": "stdout",
                "text": [
                  "Video available at https://youtube.com/watch?v=p047WxBf-qA\n"
                ]
              },
              {
                "output_type": "display_data",
                "data": {
                  "text/plain": "<IPython.lib.display.YouTubeVideo at 0x7fbb7ce39110>",
                  "text/html": "\n        <iframe\n            width=\"854\"\n            height=\"480\"\n            src=\"https://www.youtube.com/embed/p047WxBf-qA?fs=1&rel=0\"\n            frameborder=\"0\"\n            allowfullscreen\n        ></iframe>\n        ",
                  "image/jpeg": "/9j/4AAQSkZJRgABAQAAAQABAAD/2wCEABALDBoYFhsaGRoeHRsfJCslIyEiIjgqLScyMicyMC0rMTA1PVBCNThLOSstRGFFS1NWW11bMkJlbWVYbFBZW1cBERISGRYZMBsbL1c/Nz1XXVdXV11fXVddV1dXV1dXV1dXV1ddXVdXV1dXXVdXV1dXXVdXV1dXV1dXV1dXV1dXV//AABEIAWgB4AMBIgACEQEDEQH/xAAbAAEAAgMBAQAAAAAAAAAAAAAABAUBAgMGB//EAEsQAAEDAQQECQcKBAUEAwEAAAEAAhEDBBIhMQUTQVEUIlJTYXGRktIVFhcygaHRBiMzQmJjgpOisXLBwuEkVLLi8DRDc/FEdJRk/8QAGQEBAQEBAQEAAAAAAAAAAAAAAAIBAwQF/8QAKxEBAAIBAgUDBQADAQEAAAAAAAECEQMTEhQhMVFBYZEEUqGx4SKB8EIy/9oADAMBAAIRAxEAPwD5+iIgIiICIiAiIgIiICIiAiIgIiICIiAiIgIiICIiAiIgIiICIiAiIgIiICIiAiIgIiICIiAiIgIiICIiAiIgIiICIiAiIgIiICIiAiIgIiICIiAiIgIiICIiAiIgIiICIiAiIgIiICIiAiIgIiICIiAiIgIiICIiAiIgIiICIiAiIgIiICIiAiIgIiICIiAiIgIiICIiAi9h6OLbztn7zvAno4tvO2fvO8CDx6L2Ho4tvO2fvO8Ceji287Z+87wIPHovYeji287Z+87wJ6OLbztn7zvAg8ei9h6OLbztn7zvAno4tvO2fvO8CDx6L2Ho4tvO2fvO8CjeYdt+67x8KDzCL0/mHbfuu8fCnmHbfuu8fCg8wi9P5h237rvHwp5h237rvHwoPMIvT+Ydt+67x8KeYdt+67x8KDzCL0/mHbfuu8fCnmHbfuu8fCg8wi9P5h237rvHwp5h237rvHwoPMIvT+Ydt+67x8KeYdt+67x8KDzCL0/mHbfuu8fCnmHbfuu8fCg8wi9P5h237rvHwp5h237rvHwoPMIvT+Ydt+67x8KeYdt+67x8KDzCL0/mHbfuu8fCnmHbfuu8fCg8wi9P5h237rvHwp5h237rvHwoPMIvT+Ydt+67x8KeYdt+67x8KDzCL1DfkFbTtpD8R8Kz5gW3lUe87woPLIvU+YFt5VHvO8KeYFt5VHvO8KDyyL1PmBbeVR7zvCnmBbeVR7zvCg8si9T5gW3lUe87wp5gW3lUe87woPLIvU+YFt5VHvO8KeYFt5VHvO8KDyyL1PmBbeVR7zvCnmBbeVR7zvCg8si9T5gW3lUe87wp5g23lUe87woPLIvU+YFt5VHvO8KeYFt5VHvO8KDyyL1PmBbeVR7zvCnmBbeVR7zvCg8si9T5gW3lUe87wp5gW3lUe87woPLIvU+YFt5VHvO8KeYFt5VHvO8KDyyL1PmBbeVR7zvCnmBbeVR7zvCg8si9T5gW3lUe87wp5gW3lUe87woPq6IiDCj2u2spDjHHYBn/AG6yu1WoGtc45AErz1koOtNZz6klrIdExeON1uOIGE4GDlvUWtOcQqsesp9DSlSrjSoOc3lEwMpzOfW2R0qXZrYHuLSLrxm28J7M1GqW8EMDOKQ6HDKAJnMZYHs2LS10m2sODAQ5g4lUSCDgQBkYPX/JbDcRPstVlU/yf0qa7XU6ka2ng6NuyczjOeKuFTLVms4kUdSFHRLm2uxxLQ9pcMwHAnsXRefBp8Dwu67WVNXHrX9c67EY9fRM4LpW0rXGvcAwCnrQASJFxhIMXpJJExGRWZd50Zz0XiKndba4vNljiBSdIAaYeHyGhzoJ4m/KVrZ9KVKlQXLpp/N4uhpcHDF2LpGeAAORTLNmy5DgRIII3hZJVFZLZUp0qFNoBNSmzVGMjeh89TTe9hU3TPqU730WsbrZyu45/Zm7PQmWTpzFsJtKs14ljmuG9pB/ZbqBabQ1hY2k6m0veGudgboukiY2mIEqFU0nWLC5rqfEp1Xl12Q/VvgEY4AhMkaU26wvEVVw2qajiC242pTZdu4m+xpOM73blGp6Wrll8hgDoGJHzc1A2SA6SADjMYjYmW7Nl8iq31Xi0URr2lpbUmAIJBZhnnBUWlpauabXm40VLokx82S8AyA6SADGMYjpwZZszMZiV6CDkVq6sxrg0vaHHIEgE9QUTRRkVpcHfPO4wyODVw0aacVNdc12udfvRPr/ADeey7dhMs4MZ9lqipKmlagp3w5hLm1TqwMaZY1xE47CAD0kLfyhVY5weWFrBRe8hscWpeDtuwgGd0plWzZcLAIMwcs1SnSlQtLi5lOKRrNDh64LnXW57Ghs9Lgs2e1ltY5NFW0Q69s/wodHQZARm1PVdIDOSpLHbalSpRc6o0B9FzrsYE3wMMVzo6UeKN4aturpUnCmG/SXhMNxwH1RG1MmzK/WC4DMgKoo6RqXwXuZqzVrMi7iBTvEGZxPFXJ1tdVF1xkNq2cgwATefuBO7rxTLY0pXjngRJAkwJOZ3JImJxGxVmnKAqiz0ySL1WJGYOrfBHSDBUNukagdUddAqTSpPyhplwccSBjsk/WCZK6XFXMf91egRUor13VGfOMa806kNwIc4PAbkc8RllitGabqPgtaIqQaQiSQ0TVB7CB0kJk2bei9WA4GRIwz6FR1dK1QGXH03mo2m6Q3BhdVayDBxBDjG3ilbUbQ9lrqsMBrntvVCMCRRbDBySc5O6MymTZnqu1o6q0EguAIEmTkN5ULRVrfUvNqEaxoaSABGM4tIJkGD04KHpATZbc45lxB6mhoA/n7UyyNP/Lhlc06rXiWua4b2mf2W6p7dWbTrNfQDXPbTqOqBm1oYS29H2oj29Kwy3Vzqxep/OVGi9g7Asc44NceTgZTLdqZjMLlYc4NEkgDeTAVLS0pU+ac8tDDDXFoBN7WFmLSZAMCInGdyjV7ZUr2U60MuP1ZuyJHzzQWwCTtgyBiEyRoz6vRyJiROcLK82bU+jWLTxqlnoVGgna2/TuOP4c+lpUh1qrF9C9Uawa0tkXTI1JdxocRnPuKZbOjPldPeGiXEAZSekwFoLQ3WGnjeAk8UwPbkq+jaDWNajWgy12AALS2SJBBOyJBjFZ0fQdVFntDrodq2uMNhxJZEF0+rxiYjOETwRHdaIiLXIREQEREBERAREQEREEhERBxtbC6k9ozLT+yptBscadZrHXHaycgcCwAYbMQdgy9qvlW1bEadQ1KYlrxFSmDGBzcOnPtKiY65VE9MKa30qlQ8R96JBI38rpyPF+ttyE22jmuMxVyPGbE4zJMnfj0+1SnUG1GsuYBrgcjPTO2etQdM6UpWeQ2DXcIABynacejZJVLjNsVhW6JJOk6jmmWk1BMSInfiMxlI6l6tUHyZ0SaU16jYqPECQJDTiZN1pkmMCJwXoFrNWYm3QXCF3RHNEZZ2NcXBjQ45kNAPahoNLi4sBcRBN3GN07lLRG5RH0GuBDmBwMSC2cskNBpLTcEt9U3cR1blLRDKDwUaxr8YYCGtgQJzOWcYe1di3oUhEJnKG2ysDSwU2hpzaGiD1hbaoRF0REZbN3UpSIZRtWOSM5y3ZFaig2XG42XesbufXvUtEZlDFmYA0Cm2GmWi6MDvG5Z4MzjcRvG9bijjde9S0RuZRmUw0Q1oA3AQtXUGucHFjS4ZEtkjqKlojETUNlxuCXYOMZ9e9bGkMeKMRBwzG5SUQRX0Wui8wG7iJEx1bkfQa7BzAcZxE47+tSkQyiGg3i8QcX1cMurchoNlpuCW+qbuXVuUtEMo2rHJG05b8ytWWdjRDWNaNwaBlkpaIZRyyYkZZYLU0Wm9LRxvWwz696lIgiCzsF3iN4vq8X1ercthSAiGgRMYZTmpKIZRG0GiYY0SZMNzO89K2NMGeKMTJw2jI+5SUQyi06DWSGMDZMmBErk2yAPqHNtSLzSJEgRPZGHQp6I3MotOi1ghjA0bmiP2WGUGt9VjRjODYx39alrCMyi8HZINxstyN3EdW5BZ2yTcbLszdz696kU6jXCWkESRI6DB94W6NyjasTN3GImMY3LQWVgbd1bbszF0RO+N6mIjMoFaxtLHtaAw1MHOa2Cd+O+JxXdrIAAEAYBSERuZcISF3RGOEJC7rEoOMJC7SkoOMJC7SkoOMJC7SkoOMJC7SsoCIiDCh+U6UEycL04ZXRJUxV50RT3uBhzScMb0/tKi3F/5VXh9XC01aD5cXWgYgENc8QcIyOEzszWLFZ7JSfxKRDxiSW5SL0ncVPfYWGmKYF0SDxQBJBB/ktHaPBqOqXiC7MQ07IzIkdqn/NfFGMJNGoHta9uThIXRR7JZtU27fc4CAL0YR1BSF0jOOrnPfoIiLWCLCIMoub67GkBz2tJyBIC3QZRYRBlFrfGOIwzxy61kEHEZIMotS4SBOJyWUGUWEBBEgyEGUWEQZRYQOB25IMosAjHHLNEGUWEBBEjEIMoiICIiAiIgLCysIOFS1Bri2HEgAmBv/8AS14YOQ/s/uuVT6Z/U3+pZXn47T6u0Urh04YOQ/s/unDByH9n91we4jISsF5Gzas3Lefw3gqWB7aNO42m5ovPMAb3k7+lSOGDkP7P7qMKh5JQvdMRhIWbs+fwcEJPDByH9n91h1uaASWvAGJMLmuVs+iqfwn9ltr3iJnJFKrMLK1bkFsvRHZwERFoKj0tZ2VLS0VGNcBTMXgD9bpV4qnSlNr6rWmhSqkNJmpsxiBgVNuy9PUjTnilB8nWfmaXcC5WmwUQwltGlOH1AduOxSOAM/ydl7T4U4Az/J2XtPhUZq7x9XXzKu4O0xFlpDK9NMf86Vs6zsGdkpbMmT17FNdY6YibHZff4EbY2HKx2X3j+hM1XztPdzo2Gg5oLrPTaTm26MOhb+TrPzNLuBb8AZ/k7L2nwpwBn+TsvafCmao5uvmW+hqLKdrrBjWtGqpmGiBN5+5XyqdFMaypUYKFKkbrXTT2glwg4Dce1Wy6V7OF9SNS3FAiItQLCIgIvJfKfSVopWgMa91NgaC2ML28z/Jej0XVe+z0n1BD3NBOz2xsUxeJmYd76FqUi8z3S0WEVODKIiDChWZtfXPv/RwYxmTOBA2YKcsIKPSFnPC6j3Wd1am6ztYIDTxg95I4xwwIUezULdTFOmXu4lNgF0BzXEMIeCTtmMegdKvKttpscWuJF0XnGDDRE8Y5DI5rk7StEes4g4yCx0iLskiMALzTJ3rtvTjGBTOGkG0hjUc67ScRDcXat19sj1Reu4wceiVP0dwrXuNYuDZfxboLYkXCHb4meknoUt2lKILgX+rP1TiQ8MIGGJvEDDaQtaulqTWOeLzg1hebrCYgEwcMDgcCsnVzHaBT2iyWkV7Rq2vuVahJyuuZwe71zeAC3srLcxzGgOF2AAburuCht23tZ/yFcO0nRBhzi3CTLSIwmDhnGMZpSt4dTq1C0htMkRBkgNByImcclu70xiGqOrRtjqdBzBVNZkmoX3ZBLIeKeyZmJwnoVnYDaOE1L980iJaXQIygRtOeI9oUqnpGm4tEuBcBm0iJyBMYE7is2jSFKm6690EC8cCYEE4kZZHsWW1eKMYhiCDa9bdM6u9dmG5A373tabnWJXClRtdOjTYHPADWSbrSW/NwQABkHAf+lav0jSa64X8abuAJg4Z7hxm49KxT0lRcJDsMIkETLroiRjjguQg1W2uJvvEvfk1pugTcgbjmcZy6VJ0hr71PVktbjeLWyZkXQRyfW9ykVrYxjg1xMmNhIEmBJGUnDFRG6ZplzJDmsc15ktMi69rcRGXGzQRxUtRe+W1G0pacLpeMX3g3DLCnsOBMErrYqNZtdziX6t7ySHXeapgOwxmQR2qSdKUQSLxkOu4NJkyRAwxxBGG0LavbLlZjC0kOY95IknilggADGb/uQQLaLQx1Y0WOlzw5pBEGKbAAQQcJB3ZZ5LWpVtTi4MfxWVCwua0EuEOcCOqabT0h2CsPKdC7eNQAdII2E5fhd2Hcs0LdSc5rGE3nSbt0iIOM4YY7943oMWFtWXmq4mXcUQAAIGUY4mcyVF0bwgPYKgdGrF4QGhroGGGBxnLLcpNbSdKmX6xwAYSDAJiGNeScMIDp6lMQZREQEREBERAWFlEEKvZ6msLm3YIAxJGU9HStdRW3U+0/BT1hcZ0Yz3lfHKDqK26n2n4JqK26n2n4KOLVWcXEPaAHuaBcnAOIG3oWOFVudb+X/dNj3lO/7NrHUqVmX2hoF5zcZB4ri07Ohd9RW3U+0/BRKdeo0QKzYkn1N5J39K6Nr1iJFVsH7v8Aut2I8yb3s76itup9p+C0q2Ws5rm/Ni8CMzt9i0p6coMZTFavTFV2F2cSZj1c1aKZ0I7TMqjUnuAYLKwsrugREQFXW6k/Wh7DT9W6Q913bO4qxVRpAN1/Gu+oIn+JyqtOOcSi/Y+d+4/NPhT537j80+FcbtLcz3Jdpbme5Vy8eZcsuj6dR2Ys5j70+FGtqjbRPXVPhUdzWzIDI6huRl0nFtMCOjNby0eTKV879x+afCnzv3H5p8K43aW5nYEu0tzOwJy8eZMplgov1r6jzTxa1oDHXsi444DlKxVXosN1tW7EXWZdblaLnNeGcQ7U7CIixTCorba6jXwHkCQPe4K9XnNIev8AiH+py8f1Npi1cPR9PETM5QbLp6tdIeGVIaSC4Yg+xZs+l7RUeS6oRi3AYDNVdDJ38B/ku+j/AFva391yte2O76ttHTjMxEPY6NqOcyXEk4Z9QU1QNE/R9n+kKevV9NMzpRMvi6n/ANSIiLugWFlYQRK9hY9zrxcBUbDmgwHYRO+YOY6FodE0zeLi5znNc1zi7Eh12csPqN7FEt9Os20VarL0auk0G6Dd49S+W8UmYu7DnkcFpwm1y6Z9URFM4iG3niW+ti7ikzh6qCdU0XRdnObox2uqCoT3mgrPkxkObefde0te2QA6W3ZMDON0ZBVLKNcObUaHm7riLzBPGrNh0EetcvEDCY6VLZWtJvOBeWMbeaHUwHVIccCIEEgREDMHBBKdoqmZkuJcIcZEnCA6YkGIyjILvSsjWse2XOvklxccTIg/sqmra7WGOlrw4RdLGTJIc7EQ7AC62YznLNdK9S0XXFxeGucRDKckC5hhBOLjE9GzNBMbo6m2CXPIF0mXYOLfVLsMxh2Dcuj7Ew1dbjeiDlBiYmR0nJRq9mc6hZmQcHU74gHANxBBG+FD4ZabpIFUC+IaafHIIMs9SBBjE4fa2oLCnoqk3V3bwuTBmSZMwSZ2+1ZGjm3qEDi0QbsnHGBHVgD1gblAosrsF26XNNQODXMEN/xJmPwmZ2ZrNGtan3WzUaCW33GmAWksqF7WyIIBFPHHPM7Asq9hZUfeJcMg4AwHBpkA9RntXPyXTgglxEObicg5wcQPa0KRY3vdSpuqCHljS4biRiO1dkEOno2m114T618DYDjOyfrHNbWuwMrEF0yGloIOwlpOGRxYM+lSkQVjdDU5AI+bbTcwCc7xkk9WIH8RUqz2NtMyCSYiTGUzkAApKIIVbRdJ5qFwPzl69jyqbaZ6uK0KYFlEBERAREQEREBEWEGVhRa1peHlrQ3AA4k7Z6Oha8Iq8lnafguW7VfBKMLHXaXXRSIL3OBLyDi4nK6d6wbFWObKX5jvApXCKvJZ2n4JwiryWdp+C3fjxPwnYlW2Rj67L7GU7t5zcajhi0lpwudClCy1x9Sl+Y7wLpRqVGCIYcXHM7XE7uldOEVeSztPwTfjxPwbEoFb5L2auynwik01GEEubhOM3SfrDZiq+1/J+tZDrLDaKzaYzpTfDRva0+sOjPdORv8AhFXks7T8FpVtlRrXOLWYAnM/BTOtXv1+FRpT2V9g07UF1toYDLbwqUsQRtcG5luWLZInFrVe0qrXtDmODmuEhwMg9RVTXsbG1QwiKVclzSDBp1QCZafq3hJ6weUVxoMqUqzmsgVgLzmeqy0NnF7RkypjjG0icCCOyF+i4WS1NrMvNnOC0iC0jNpGwhd0BU+kq9TX6tjaRhgcTUaTmSIEdSuFT6Ss7tdrGVaTJYGkVAdhJkQRvVVtWs5sqkZlFfVrNEllm2DCkTmYG1aC1v8A/wCTqLCD1ZrapRquEG0WXYcLwyMj6y5NsBBJFay45+t7frrrGrpetodopHrDfhVSCf8ACEAFxhhyGZzWG2x5/wAoOumR/Nat0eRMVrLxgQfWxBz+snk84/PWXHPF2PXx1u7ofdDeCvh0FpqkEgWUxnFMn+fStmVKzgCG2WCJHzZ+K5iyPEkV7NLszxpPWb66MpVQABaLLA6D4lM6ul6Whk0j0hN0TaHmpUpvbTBa1rppiJkuGM/wq1VVomzubUqVHVaby5rW/N5CC44yTylarnaYmc1cbxET0ERFKWFV2nRbnum+BiDl0k/zU+0NcRDQ0g53iR+yiGwZ8RmIg8Z2P/CotpVvibeiq3mvZBsnyZptB1lRznERxcAFrT+TZY4ltQFsiJGOB6FYDR8GRTpzEes7aMVjgRxGrpwRy3bMR7wk6OnMYduZ1evVJsVnNNsEzl+0KQoNKyvYbzWUwf43FTgtrSKRw17OEzmcyyiIqYwiKFZqFZtZ7nuBYQYAJM4yCQcoGGCCVUqtaWhzgC8w0E5mJgb8AVhtZhN0OBOOAO4wewqu0nYq1V5ewsBptBphwzcHXjiDxQbrRkdq5VbDXkuZgSX5HEh1VroGIxLQdo60Fy94aC5xAAxJJgBZVO6zWm6Wh7ouFwJdxr9wsDTnh9aZzWlosloqOqy1wYS0hrahxu1ARBvYS0HY0TvzQXaKlrWW0k1Ic/H1YMiJF0Hjg4CQYuzjiVMtTK5pUzTgVRAcL0jFsHE5wSD0x0oJyxfE3ZF6JicY3+5U1SzWo1XBpc2nETrJJioyHTOBuB+QGe3NYdZLVccLziQTd40yNbULQeM0+oWbQcNqC41zIJvNgGCZwB3FbqmbYrQ0uLSRevkgPkSXMLYnqfj0rS2Nr0mPeXOIccZqYD56RjPFFwxOCC8RU767ho9rml5dxQXOMF3HAeS6cAccZiDgVpZWVX077TUeNWGgOqES6+4Pdg7HCCMYOGIzQXNSo1olxDQSBJMYkwB7SQFmm8OaHNILTiCDIKouBWpwpipedddTPrwGhtcudeE4m4Gxnl7SqWS2XCA92s1MNIdgHasjHHO9jMHZigvllVLLHUbXY833Ma6oG/OHAODCJk4iQ7fsVnSfea1xaWkgG6cxIyPSg3REQEREBERAREQFhZWEEGp9M/qb/Ui7VrHeeXB7mkgAxGzrHStOA/e1P0+FeXhvGejtFow5PB2FYIdsO1duA/e1P0+FOA/e1P0/BZw38T8w3jhwAfvCFrpzwkLWwUKlSneqOex154gFpwDyActwUngP3tT9PhWcFvE/LeOGi5Wz6Kp/Cf2UjgP3tT9PhWH6PvAg1ahBwPq/Bbat5iY4f0yL1c9Lj5gHa2pSI6xUau2kLKarAWENqsN6m7c7p6DkRuKj2givXZRbiyi5tSqekY02dcw47gBvVkvVHZwVAqOe1troNN/KtS2uumHN/jaQYO2I2gi0oVm1GNewy1wkFQmfNWtzfqV23x0PbAd2tIP4SsUxwe0XP+1XJLfs1Ilw6nAF3WHb1oslX2p7W1jeIHEESY2lT1AtloqCrdYWgXQcWzmSN43Kbac6nSGxfg6y019Pls7wTX0+WzvBacIr8un+X/uThFbl0/yz4lnLX8x8N36+Jamu3Y9veHsWW2hs4vpx/EFqbbVBgvZ+X/uWW2yqTAqU9/0Z8Snk79+JvMV8OvCKfLZ3gnCKfLZ3gtOEVuXT/LPiThFbl0/yz4lXLX8x8G/XxLvYXh1R5aQRdbkZ2uU9QbBXe572vLTAaQQ2M56TuU5bWk06SmbcXUREVMEREBERAREQFq14JIGzNbLUNEkxiUGywsrCCBbdKtpGoLjnupsvkAgSOiTPtiEr6Xp07wcHAghuMDjFt4NkmJiT7F2tGj6dUkvDnS0ti+6IIgwJgGDmMUNgpkRBzBvXzekNug3pmYETO/eg4jTFIyeNdAm9dwPED4G2brgVo7S0+pSf6tQ3nRANMwQcd+HsXW0aNpvpubiC4HjSScWhpOeOAhaWbRTWtAe5z4vXeM4BrXAAszJIwnEnH2QGh05Sa0F95rpggiDg1ric8RD25Y45St6mmKbQ4kP4pjEAA8csMEmMxthd3aPpEzBBmZa4tPqhuYMxDW4dAR1gpkEQ4TOLXuacXXjiDvKDnb7Y5go3B9K+6SRN0XHOJIkT6u/tXNmm6LqesF65eAJwwkSDnuOWfQpGpojVU4aLn0bJyhpbgNoDSQubtE0SACHECYGsdgDGAxywGGWCDDNJthxcxzIc9omDNwEk4dAWlbTVJl6b2Dg3KJN2/AkiYaZ92a61NGUnTIdi4uPHcMSCDEHAEE4BbvsNMiIIxvS1xaQYuyCDIwEIM2i2tphhhzr/AKoaJJ4pd+wK4N0vTd6jXvxwhvrcW8SJIwAI7YzwXW12FtbV3i4BhJ4riCZaW5gg7Udo6kWht26AZF1xaRhGBBBAjCEHNmlqbnQ0OOwOjAnVipAJ23SDuWBpimQ0gON4xAgwb12DjHrYYStW6Go3qpcCQ84NkgNGrbTgAGAYbmMcVpU0K3WMfTe5l2YxcSCXXnGb2JM/Wke+Q6P0s0OuBj3OD2sIBGF6YdnlxThmss0oyYMnjXS4NgNmoWNBxnEiMOvBbM0TRaCGtcJLTg90i6SWgGcAJOA3rY6Mo3g65iDMXjBN4uBImDDiSJyOSDaxW5labocMGu4wiQ7I+49ilKMyxMbduS27dGBOIaCAD0cYqQgyiIgIiICLBMKvfpZrpFBjq0ZuECmOkvOB/DJQWKwSBicFQNtFstP0TmtZy2CGex7hef1hrR0ran8laLjetL6tpdnFR7i0dTZ/eUE6tpuyUzddaKQduvgnsCr7X8rrNSrU6RbWdrBg5tM79xAJ9kq4s1jpURFKkymNzGhv7LqWNvXoF6ImMY3SgpaLjUvOv1RL3wLzmwLxAEbMEc6JmpV2/wDcOzPCVM8muBddqwC5zougxJJP7p5Ofz36Aqy5cMoIc0DB9UCeWduJ29MrqxhIB1lXH7w/FRKVoc4QS81pcNUym1xADiASZutmPrEKTRsdrc4Eup0mbiLz/dAHaUzBwysLDViztc92QMucdxOJJXB9qqWji2aWUznXI2fdtPrH7R4v8WSzQ0NSEGperFpkawy1pmQWs9UHpielWKl0js42SysosDGCBnvJJxJJ2knau6wso1XaY4raNXbTrUyPxHVn3VCu+kbLrqLmAw7AsdyXNMtd7CAuWmz/AIZ/SWAdZe0D3lTkHCw2nXUmVIguGI3EYOHsII9ii2+mNYHa1rDdiC2dpxzG9baP4le00pwvNqtG4PGP62PPtS0vDaxJwlo/cqL6k0jMKrWLTiUW6P8AMM/LPiS6P8wz8s+JSOEN3+4pwhu/3Fc+Zv8AdHx/V7FfEoxpg/8AyGflnxLDaLRlXZ+WfEuprbnfv7MFltfHF2HV/ZTzmp2zHx/Tl6ud0f5hn5Z8SXR/mGflnxKRwhu/3FOEN3+4quZv90fH9NiviW2jqYDnu1geSGjBsRE9PSVOc8CJ2mFDsTpqPIyutHvcphaDHRkulLzeOKXO1YrOIbIiK2CIiAiIgIiICIiAsIiCpt7bVrXmmTduG4ABE3XZknA3ruw7OlNXaGvAcarqYc71S29ky7OXFnWe7YrB9rYKgp8YuMZNJAnKSBAy2rpRqh7Q5plrhIKCpp8KBBIqGC2+JaZN7G5j6sb+jbKMZarhc/WE3KYuBzRBJ47pG0CNvUrhYe4AEnIYlB50Wq0aymx7y14Y0RIxeWugFoxIm6S4YYEb1Js7LUHUi41HC9xgQGwOLJJDjMcbfOyMFbte0hrgRxsjvnFZpVQ9t5pkYjsMH9kFZpCzVta+pSLhLKbdmQeS+BIxg79q4VadrdxIfBY5rnEgTNMwYnim9A2q7DhMTiNiw+oGloJxcYHSYJ/YFBVs4QHMaG1LnExcW4CHXgcc5u/8la2elam1KN97nNuMvSAeNjrJggD6sQDlgrWtVbTY57jDWguJ3ACSVmlVa8EtMwS09YMH3oK63UrSX1DTc4Nu0w0CI9Y6wjIzdjb1Yrl/i8G/OYgccBuHzb9hOd65h/dXC4OtlMOc0uALRLtzcJxOQwxQVlnba9ZTvFwYInCZ45vF0uwBbEZxirpcWWpjmOeHcVszgQRAnEHEYLs0yARkUGUWEQZREQEREGFEtdvFNwY1pqVXerTbnHKccmt6T7zgtbfanAtpUQDWfiJyY3a93RuG04byOtisTaLTBLnOxe92LnneT/LIbEEV1hLwX2x4cBjqwYpN6+X+LDoC1oUDartSqCKGdOiRAI2PePeGnAbROXXTscFfPqS2/OVy+L89F2Z6FPCBCLKwgg13vNVwD3NADcBG2d46FrD+df8Ap+C2qfTP/hb/AFIvJ3zmfWfX3eiOzWH86/8AT8E4/Ov/AE/BbLV7J2rJjx+2udCzasODHvF5xcfVxJMknBdOPzr/ANPwWopdJXRIjPf9nRrx+df+n4LSu6o1jnCq+QCcm7updVytf0VT+E/ssvGKz1/JGMrJuQWy1bkFkr2R2eZA0px32ejE36ge7obT4894MHtU9V2jzrqj7T9Ui5R/gBku/EceoNVktEAiLcDy6Jn8LxH+s9qjaQrVuEGmyqabQwOwa0yS5w+sDuUkmbcByKJn8TxH+g9ij6SswNa+Kz6bi0AhrL0gExsMZlVW9a9bLp3RqlS0NE8JecQIuU9pjk9K4tt9Q4cLqSMCNUwxGeTV1dZJEG01SNxoDwrUWEc+/d/048K6R9Ro+to/7/TvHv8Ar+NOHVIcRa3m60uI1bJw/CsNt9XEG1VG3c5pMw/T/wAldBYGiYr1MRB/w4y7qx5Pbz7/AP8AOPCt5jQ8x/3+m9PH4/jItVY34tVSWZg02D924f2XRj7QWg8JqCRMGmzwrnwERHCKkf8A1x4ehbCzEf8Ayqv5A8KmfqNH0tHx/EzHj9fxL0VXqmtVp1KhqBrWOBLQCJLgcgOSFbKr0VZ2tfUdrX1HkNBvMuwBejCBvKtFFrVtOa9nG/cREUoEREBERAREQEREGFCs1ieys+oXgtIIAAgmTPG3xkpywgr7VZXurtexobF2agqEEtBktcyIcIkCTtOW2HT0TVYGgXHNAp3qZeQHkCoHYxh6zDl9SNyn2jSTadXVljoAaS/CBevRtn6h2bQo7dMF1wtoVIIcTOBgNDhAOefag5N0XaAQNdIF0HjOyIAqe3igg9JWnkqtcgkPzkOqEBxLSA/BuBxyx68ApY01TJusa5xLrrYgTiBMk5S7PoK4WnTfELmsc0MfTD3EAgTX1b2gAyTg7IbkEq0WJzqVAQ1zqTmmCSAYaQcYO/cordGVWNcG3De9YOJg/OudOWcFWDraBRbUunj3Q1siZcQBjMbVwr6VFMw9hBulxAIJENLoidwKDTRlgqUnh1S65xo02OfeJJc0EHMYg7+jJcRop5qOvXdWahfi4lxkVNsDDjNgYxiJgBTqduaadV7muZqpvAwTg0O2dBC4v0u1gffpvaWNc4jA4NZe37vePagh1tF2h7XNLqeNF1O9eMuJpBvGwx40nq2TK7P0bVvGC0gucQbxBpzULrwEYkgxsy3ErsNJOvOGqcTrNW2HDH5u/Jk4Ln5epljntp1HMay+SG/Yv3d0wRtzKDFi0fWZUYX1LzGzIvEnigsp572mXfaAzzS3aNqVKjyyGB4dedfJvzSLACyIGN0z9npWzbfU1zgWOzDGMludy+STOYAIzj91mnpkPEspVCC4NaeKJJp6zfsHv3oMssVUiuXODTVJNwYj6JrBLon6s4b1FtFjrtqOqSA1rCGhhJL3A0zTkR9lwOOTutWNht4rAkMczBrodGThIOBKgt02dYZpvuuZSdTaACTf1pJME4XaY7EGtTRNY3/nCS5hAdfLYJZBEXSYvcbAjPoxuqbA0BoyGAVb5Zab0UqpAIE3YklzWxjkZf7iss0y1zg0U6kyQ7CbsPczGOlp9mKCzRcLFaNbSZUuOYHgODXRMESJgkLugLSrUDGue4w1oJJ3ACSt1A03/wBLV3FsHqJE+6UDRVE3DWqD52tx3fZH1WfhEDrk7VPWFlBq5oIIIkHAgqsYX2TikOqWceq4YvpDc4ZuaN4xGEg5q0RBpQrsqMD6bmvYcQ5pkH2rdQq2jKZcXsLqNQ4l9MxJ3uGTvaCoVfSr7OS17qVogerTMVerV4gn2hBa1bLTeZcxrjvIWnAKPNs7FW1flIxhaHWe0NvCZewU2joLnOAnqlcK+lrca9MWey06lJzZcdaIGOd8YDqxUTp0nrMQ3inytTQswMFtIH2LGps26l7lX2amCHFzW3r75243ztjFZcyDhTB/CPZit2aeI+EbtnXRtnoimdY6k919+MAYX3QInYFK1Nm3Uvcq8j7pvYurKTYEsbMY4Js08R8G7ZPbYqJEimwjqCzwCjzbOxa6LH+HZ7f3K71qzKbS97g1ozJMALNqn2wuLTMd26rbS82l5oUzFJuFZ42/dN6TtOwYZnA59W1YMvUaBzeeK94+wM2D7Rx3AYFT6FFtNjWMaGtaIAGQVsbtaAAAIAyAWUUTSVpNKlxMajyGUxvccvYMSegFBy0fx61orbC4Umne2mDP63VB7Fm1Ou1ZhxBaMmk7TuUix2YUaTKbcQ0RJzO8npJxUW3VHiqGteWi7OEb+kLJ051OkThsX4erXXDkv7jvgmuHJf3HfBcr9Tnn9jfgl+pzz+xvwWctf7o+G78eGS8zgH9dx3wWW1CDjfI/gd8FydXqB0a2ps2N2/hRtoeSAK1TETk34KeSt34jmI8JGuHJf3HfBNcOS/uO+C5X6nPP7G/BL9Tnn9jfgq5a/wB0fBvx4SrEZqPMEC60Ygjad/WpyrrBVeaj2ueXANaRMbS6ch0BWK2NPb/xmU8XF1ERFoIiICIiAiIgIiICIiCO8UdZDrmsIDoMXoacD1AuPaorHWNrGuBpBgdLSCIBjZ7Pct7TRe6003BksFOo0mQMXFsf6feojbLWbSNMMcWHigOqBz2suAOhx3kez3IJzrJZ2hrDTpgOAY0QMQ2XBo6oJC6tslICBTaBxcI5JlvYcVEtdlqkU7l03C4huLYGqe0CQd7hjgolOhaA5jL5aXElwvE3Wg3mnM7ZaROR6EFubOwsuFgucmMM5/dRKtOyMfDmsDruMjIEFsk5CQCJO5cbDYawdT1j6kNvFwNSZdDQDhmMHGD2La36PfUqVXA4Op02ht6A+655c13QQ4CelBYik0XoaONi7DPCMfYAoWosZa5l2kWtfcc2MnOAAaesECOpRKlhtHzhvVCS4lsPhpBcS0RIIABAMEZbVl+jKt4Pbdl1VpqY5ta5rgRvILSOpxQT6+jaL3AloxdeMfWIYWifYfcujrDSOdNuLbuWyIiOrBVdHR1YGk6oXvLKgJ+cz4rgXCDlJGB3Zb7tBxq2Sm+bzGmSCZG0CJ7MFltmpiIY0QZEDI3bs93DqXZEHOlRYz1WhuAGA2DIexcRo2gAQKTBMTA3THZePaVKRBDr6NpPBFwCS2SBndcCB+kLoLDSF2KbeLlhlt/fHrUhEGrGBoDWgAAQANgGxbIiAuVpoCrTfTdk9pafaIXVEELRdpNSlD/paZuVB9obeoiHDocFMUC2UHsqcIoi8YipTH/caMiPtjZvy3ESrNaWVWB9Nwc07f3BGwg4EbEHVQa+kCXmlQZrag9bGGM/idv6BJ6IxWdJ1XwylTcWvrOuBwzaLpc5w6YBjpIUizWdlJgZTbdaMh/Mnaek5oInk11TG0VXVPsMJYwdEAy78RPUplns1Ok27TY1jdzWgD3LqsIBIUKrouzOJcaTA45ubxHd5sFc69Nrqz7wBhrc/wASxwdnIb2LhuW9IdY048uD9AMBmnXrM2waheD13sffK0NiqU8XUxXbvp1HMf3XOg94dSlcHZyG9iwaNMfUb2Ju29vlmzVW6Nr2d1PjGtWeXPxYyrgL5hp2NIECCQVKLQTDLHaD0uqho9s1J9y7No0sg1nYFvwdnIb2Ju2ntj5NmpSp2m6GN1NBgygmq73wAe1dKOjaYcH1HOrVBk+oZg72tENaeoBc+Ds5DexcrTQYKbyGtBDTs6Fk6tojOFRpx5W6ytW5BYqVA1pc4hrQJJJgAbyV3jq4svcGgkkAASSdir7E016nCXghoBFFp5JzqEbC7ZuG6SFqGutbgXAtswMhpEGsdhI2M2xtw2YGzWjKrrexhe0l1QOu/UE4TtwKsVBtcioDdcRdjiidqjUvNIzEqrWLTiUTVt5do7g8KatnLtHcHhXfWHkVO4U1p5up3CuPMX+78L2aeEc0mcuv3B4UFJnLr9weFbm9Jhj+4Z6llpcD6tQ7+IVHNann8N2aNNWzl2juDwpq28u0dweFd9YeRU7hTWHkVO4VfMX+78M2aeG2j2MD3w6oXQJviMJMRgOlWCgWME1XuuuAutGIjafip666d7XjNkWrFZxAiIuiRERAREQEREBERBhYDhJE4jNZUOz6PuVnVL5MggCIiTJk7cUG1ot7abi265xa2866JutMwT2HAScCpGsF28OMIkRjPUoFus1cOfUszmB72tBDxhxZxHWDHsHTPDyKQCxrgKccUESR8xqgD+6C2bVaZgjAweg7veFsSqivoW8XepBqX4gi9LC0h0dZK6aUsJqii0NY8NLpvi80TSc2SNuaCznGNqAqh0hoV5oVgwh7jTeGmOO4mjqwwkmInHs3St6mhHEuLXU2321GlobxWh+rxH5Xa5BbULS2oJafrObjhixxa73grIrtNQ0/rBod7CSB+xVYdEPvN+cbAqOqerjxqznxOeTo2e9aHQ5pUmikQHtZTY0tbk5pMvPQbxnoJQXLnRGBMmMFkFRKlhFykxphtMgjqDSP5rTRejhZ2lrbsFrBDRGLWBpPthBNLgMzCyD7lRjQb7jW3mFzGU2MMHC417b0ZGQ/I4fupuj9HalzySCXE8bGTLi7EZfWQTGVWuEhwIkiZ2gwR2grV9paKjaZPGc1zhuhpaDJ/GFVP0IbhYDTAOtA4mWsdevj7Qy+C2doZ+sc9rqcxUElkl197HcYncGQPZuhBcArkbQNYWQZDbxOwAzE9cHsVZZNFuZVpgmWsBc7CAXXjq46g93Y3cu9r0ZfqOqC5JuYObIN0uwd0cYHoLQgsZWVA0do0UC5xulxAEhsQB9UfZ3DdCnoCIiDCg2iwuDzVs7gyofWafUqfxAZGMLwx3yBCnogprTatYWC7qrVTdfZSeYvwCHBrsnAhxxGUiQFZWS1MrMvMO2CDgWkZtcNhG5bWizMqtLKjGvadjhI6Cqi06EqNdrLLXLagEfOcaQMml2ZH8V6NkILxYVHS0zaKOFssj2x/wB2h84w9MDjN7CrGx6Vs9f6Ksx53B2I6xmEHK0PDazpnFrYwJ5S14Q3p7p+CslhzgASchiVw2rek/j+um57K7hDenun4LV1Zhznun4KV5Rpco9x3wTyhS5R7jvgs2rz6x8f1u57IjatPMb9x/5sW/CG9PdPwUOw28UWup06FS6HvMuOd55MiZO3auztL1fq0GfiqOH7UykaVo7THx/Tc9nbhDenun4LnaKwNN4EklpA4p3dS2oV7VWBumz04wyfUjtDF18muf8ATV6j/stOrb2NxPtJSdK8xjMfH9Nz2bVtJMYdW2alWB82zFw/i2NHSYWjLE+q4PtRaQDLaLcWNO9xPrn2AdG1TLPZqdJoZTY1jR9Voge5dV6I6OTCyiICqNJFxrtaHva25MNdGN5W6q9JUGOqNJFW9dP0bruE7cQtretOtl07oVe8xpdrauYGNUgYkD+ajNtmJGsryJmKmGAkkHaIUzgjN1q/N/3JwRm61/m/7l0j6vS9Zn4dox6ojbWDeipXkNLvpDsEx7lzZb+M4OqVhdAOFUnMn+yn8Ep7rV+b/uTgbN1q/N/3Leb0fM/DejhSrF5c0VK0t+9wOA2+1dqbXOaDra2IB+kO0LPBGbrX+b/uTgjN1r/N/wBymfqtL0mfhMx4ddFveLTVpl73NFNjgHOmCXPB/YK5VXoyhTbUeWirfLWgmo69hJiMTtlWiib1vOauV+4iIsQIiICIiAiIgIiICwsrCCvtNucytq2NvOdcADnQ0SKhnAE/9tRvLp1OtNNolrXht8klrmF+xp40A4ZdKuCwTMCd8f8AN57Vo6zscACxpAiAWjZkgraumSHPu0pazM3jMm6BIiMS7ecAepSH29zbOKppw4uDLs4SagYCTGDZIOUxs2LZmjKQqGpdxM7vrZ9JHQTCkiiwNuBrQyIuxhG6EFXaNKOo6xzrhLQ03A4keq4uukNk+rtAStplzS/5ocXES4+rBl5hpwwGDZOOICsjZaZAaabLoyF0QIyWHWSkZmmwyQTLRiRkSgqn6QeXtIJ1cVp4+JLazWD6uWPvXeppUimal2nBcQxpebzovTIDTB4pwx2zEKy1beSOzeZPvWjrLTMzTYbxBMtGJGRO8oK5mlHEuc5sMFRgbddxiDSa/ER07CsHTL8hTaXEBwipxYLHOHGu58Q4RtG9Wgosm9dbOGMY4ZIygxogMaBJOAAxOZQRrTbS1lItaCapht510DiOfiYPJUSlpl1QAtpAXnNa0ufAk0hVMwDAjDpPRirG0WRlS4HtDgw3gDl6pbiNuDit30WOBa5rS05giQfZ7AgpHaYeWVXAQ1w4nG4zCaAeMIxEg4ypHld0uApSA4MDi6JN9rTOGHrSInAbFZmgyb1xt6ImBMbpTUMvF1xt4xJgThligqxpipdJ1IkCYDycnlriYbObdgJ6laUage1rgQQ4AgjLESsPs7HCHMaRuLQRnP7roAgyiIgIiICIiAsLKIMKNatHUK30tGnU6XMBPaVKRBW+RKIMsdWp9DK7wO7ej3JW0a644NtFc4GAS0zhli1WKim3APcCx11rgwvwiTEbZ+sNiCuFJ/Nv7Fwr2Ss5xLQ9vFgCDnJ+Kujb6IE61kdft/bFbG2UhPzjcM8emP3wQefFjtGEh8S0kY7MxPSpeqfzb+xWVe2BoZdBff8AVukZRMySAtaWkqThJddy9bDMA/zGKDXRjHAPvNIl2E9QU5Rzbad66HAmYIByzmexdmPDgCDIOII2oNkREBERAUK1NdrA5rC4XYwjf0lTVT6Sp37Q1pc8AU5hr3NxvfZIlRevFGFVticu0v5l/a3xLMv5l/6fEoXAm8qr+dU8ScCZyqv59TxLntT936VueyQWVOaf+nxLLWVAfo6na3H9Srnsa1xB10AgTr6gGP4lmnTY5wA1w3zXqYZ/a6FPL9c5buz4Wk1OZf2t+KTU5l/a34qFwJvKq/n1PEnAm8qr+fU8Sran7v0zc9lhZGO1jnOYWgtAxjedx6VNVRopl20VWhzy3VsMOe52Jc8E8YmMgrhdKU4Ywi05nIijcPo87T7wTyhQ56n3wrYkooh0nZxnXpd8LPlKhz1PvhBKRRfKVn56n3wseU7Pz9LvhBLRRPKdn5+l3wnlSz8/S74+KCWiieU7Pz9Lvj4p5Us/P0u+Pig7OqkGNW89Ij4rXXnmn/p+KULZSqGKdRjyMYa4H9li00XOdTLXRddJxwI24bf5e5BnXnmn/p+Ka880/wDT8VWULdaGta6rTJmmwmJ9YhxJIu4GQ0R0ro/SdWXBtnJunbInivJjDEywD8Q9oT9eeaf+n4przzT/ANPxUWz6SNQVy1kmneutBxfBIByyMYFbWK11KjnX2Bouhwid7gcY6Bh0oJGvPNP/AE/FNeeaf+n4qLYrc+o6XNLGkQAQcTIg4jcfcuda0VRWfdvuhzbrLvFLbgLjMZzO3PBBO155p/6fimvPNP8A0/FQBpOsQDwfMbzgYeeT9gD8QWG6RrPIiiWgY44XvmyYOGGMD2ILDXnmn/p+Ka880/8AT8VHq2h7qNN4DmNe7jECXNaZgxGfqzhhJ3Lnw6oHXG0y4YAOdImS0XjxY+scuSfYEzXnmn/p+Ka880/9PxVf5UrXb3BziARicMGTOH2yPwlbu0hVzFLIuBbxpwa4tExGMDtQTdeeaf8Ap+Ka880/9PxUKz26rUq02mncbjezMi6YMxAEgbZWTaajS8m+XBxAZd4gbeAD5DSThjnv3YBYU3k5tLeuP5FbKrbpOrm6zuAicJJyZhEb3nula1NIVp+hIul14CTMMfAmNpa0gjeEFsiqzpCqS4ik4gCWgAy6HvbmRGIa0/iWRpGpnqSWjMi9jg4yBdn6oHtQWaKto2qq9tZ1xzYpywR9aXjDfMNMdK5UbbaGuDH0y8gtYXRdGXrDDaCMNhkILdFUs0nWutmzlzi0E3ZAk7MRhk/sG9H6QrkOuUCbtwgiePLoIAcBAgGSUFsih2S2l73Nc27B4uBhw9o93So5rVfnDL9Y1xIp3eKWB+EGMS5vTmehBaIqqm+0vqgglrLrXwRAAL3S2IkuuBozEFZ0ZVrljzWJBuNcJbJktMnADbhdzEZ4hBaKHUsN4vBebj3B5aBjIAwndxQodC11i9uLrhyJZjHHm9hgQAzt2rvYatWpqHOLhNIOqAtAF6AIxEgzJz2dKDNDRYZm4k3SwYbIgT0+7oC1OicZFQ4GWiMJ3uAInMjCOmVZogg1NHgtptlp1c+swOBkbsFybokNBDahEtLTxRkQAYGz1cNg3FWaIK52i2uaGOcTSBJDI3kmCczn8ZzU6k0taASXECJOZ6VuiAiIgIiICjWmwU6rg54MgQCHubh7CFJRBA8kUNz/AM1/iTyRQ3P/ADX+JT0QQPI9Dc/81/iTyRQ3P/Nf4lPWEFDoilRtLak0qrHU3uYQalSDBwIN7IiD7VYeR6G5/wCa/wASmNpgEuAAJzMZxlK3QRrNYadIuLAQXAAkuLsBMDEneVJREHgHNWjguzlyckthBteQG/8AsP5reo8AS4gda5258EHdj+oKPo7RL7aTVe8sZ9XDPq6FkQqbYbm30Zi+F3BBEjELq75P2dgjjO6SVXW6xGiC+g4gDNpTBFpTFx+s7r/ks0Kt+m128LH1ndTf5qVtlgpuWpRq3+TtodTqvLYktjEdIXoPKtXe3sVN8kKLX16geJFz+oL1vk6jyB2lVDlbuq/KtXe3sTyrV3t7FaeT6PIHaU8n0eQO0rUqJ2mn03kBrQTiSG5jIk+2B7QsecjsBOJ+x0q+8nUeQO0rHk6jzY96Cjb8oKjmvIAlomCBjxQc/asP+UVQMDwAQXEREZTP7K+8nUeQO0p5Oo8ge9BT1tNVWRkczlu/9hcm6cqvkFrLpaDvmZERHQVeHRtEx82MOkrPk6jyB2lBR0NPVXxgBO8fZa7+r3KR5Vq729is/JtGZ1Yn2/8ANiz5Oo8gdpQVflWrvb2J5Vq729itPJ1HkDtKeTqPIHaUFX5Vq729ieVau9vYrTydR5A7Snk6jyB2lBA8o1d47E8o1d47FYcBpcgdpTgNLkDtKCv8o1d47FrU0nVa0nAwJiFZcBpcgdpQ2ClyB70gUvl58POHFAIAEl0hKunnscARgWh0xvBP9KuW6PojJgCzwGlyB710zTwKXzhOGOeXF9nsx3rPlx5ZebGLrvGwHWTjAVzwClyAnAKXICzNfAoX/KN7SQW5Eg9XG43VxSutTTr2loORbMgTGEge2D2K54DS5ATgNLkD3reKngUp+UDpjq2dJEe4rHnEYMbBMXRunfCu+AUuQE4BS5ATNPApnfKAjbMGDDZ2gfzXajpZ723mkR1bjCs+AUuQE4DS5A96mZrjpAr/ACjV3jsTyjV3jsVjwGlyB2lOA0uQO0qRXeUau8di6cOqbx2KbwGlyB2lZ4JT5IQQuHVN47E4dU3jsU3glPkhOCU+SEELh1TeOxOHVN47FN4JT5ITglPkhBC4dU3jsTh1TeOxTeCU+SE4JT5IQQuHVN47E4dU3jsU3glPkhOCU+SEELh1TeOxOHVN47FN4JT5ITglPkhBC4dU3jsTh1TeOxTeCU+SE4JT5IQQuHVN47FrU0hUDSZbgJxwU/glPkhOCU+SEFYdK1A2SGji3jOQ6z29ixZtLvqThER+5GPTgfcrPgVPkDFZFjp8kIPFOXKoVlzlxqOgE7BikkIGkqZeC0ZkYe8/yU92leD0mMaxphrQbx6NgUN7pqjqH7O+Ku2UqTmAkAkAYb9yVbMK+3aRe2kxwa0F+/GFAZanVWua+CSDiBCstJV2ktYWGYyIwUcU2AS1a1A0aIoNnp/ddj6x6h+5WSLogbAtamFQjcPgua46MysOScFlyKeh+RX/AFFX/wAf9QXtF4v5Ff8AUVP/AB/1Be0VQ5W7iIi1IiIgIiICIiAiIgIiICIiAiIgIiICIiAiIgIiICIiAiIgIiICIiAiIgIiICIiAiIgIiICIiAiIgIiIPnTnLRzoa8/ZI7cP5rLslytFNzmw04n4rMt9EGi6anV8B8VZ0bThd+sMlwo6OLSXOIjcM8h8EqUw19MnAVGEA7nTI937KuCY6yncrM8MONr1l7Fz/4bmHatadTC7t2rjan1gYJJC4h8XRtc4fvKT1VlNdkuFZ9517Like4fBdBPZIWlXNvWf2UTWY7qi8W7O1Z3zjunHtC1JXJpM49AWb2CzKo7PTfIj/qKn/j/AKgvarxHyGM2ir/4/wCoL26qEW7iIi1IiIgIiICIiAiIgIiICIiAiIgIiICIiAiIgIiICIiAiIgIiICIiAiIgIiICIiAiIgIiICIiAiIgIiIPndGleBJ9Ue9bB+Ib049UrzTflLXDbt2nERkfitGfKGs1167TnqPxXWk1rDhet7S9Uw8ct2AFVmmLXec2zhsAQb52HZCqW/KKsDN2nPUfisVPlBVd6zKR9h+KqbxMYTXTtE5XdlYKgAcZUPSNEUXtc1t4g7csuhVdDTNWm680MyyIJHXms19N1agF5rMDOAPxXKOGHa02lbseXjEQYxHStmNJGKp2abqjJtPsPxWRp6ryKfYfiunFDnwWWdejAvNyGY3KNeUM6bq48VmPQd3Wo/D37m/89q43iM9HopaYjFnuvkC6bTV/wDH/UF7xfGND/KWvY6jqlJtMlzbpvgkZzsIVv6R7bzVn7rvGsgnu+oIvl/pHtvNWfuu8aeke281Z+67xrWPqCL5f6R7bzVn7rvGnpHtvNWfuu8aD6gi+X+ke281Z+67xp6R7bzVn7rvGg+oIvl/pHtvNWfuu8aeke281Z+67xoPqCL5f6R7bzVn7rvGnpHtvNWfuu8aD6gi+X+ke281Z+67xp6R7bzVn7rvGg+oIvl/pHtvNWfuu8aeke281Z+67xoPqCL5f6R7bzVn7rvGnpHtvNWfuu8aD6gi+X+ke281Z+67xp6R7bzVn7rvGg+oIvl/pHtvNWfuu8aeke281Z+67xoPqCL5f6R7bzVn7rvGnpHtvNWfuu8aD6gi+X+ke281Z+67xp6R7bzVn7rvGg+oIvl/pHtvNWfuu8aeke281Z+67xoPqCL5f6R7bzVn7rvGnpHtvNWfuu8aD6gi+X+ke281Z+67xp6R7bzVn7rvGg+oIvl/pHtvNWfuu8aeke281Z+67xoPqCL5f6R7bzVn7rvGnpHtvNWfuu8aD6gi+X+ke281Z+67xp6R7bzVn7rvGg+oIvl/pHtvNWfuu8aeke281Z+67xoPqCL5f6R7bzVn7rvGnpHtvNWfuu8aD6gi+X+ke281Z+67xp6R7bzVn7rvGg+oIvl/pHtvNWfuu8aeke281Z+67xoPqCL5f6R7bzVn7rvGnpHtvNWfuu8aD6gi+X+ke281Z+67xp6R7bzVn7rvGg8eiIgIiICIiAiIgIiICIiAiIgIiICIiAiIgIiICIiAiIgIiICIiAiIgIiICIiAiIgIiICIiAiIgIiICIiAiIgIiICIiAiIgIiICIiAiIgIiICIiAiIgIiICIiAiIgIiICIiAiIgIiICIiAiIgIiICIiAiIgIiICIiAiIgIiICIiAiIgIiICIiAiIgIiICIiAiIgIiICIiAiIgIiICIiAiIgIiICIiAiIgIiICIiAiIgIiICIiAiIgIiICIiAiIgIiICIiAiIgIiICIiAiIgIiICIiAiIgIiICIiAiIgIiICIiD/9k=\n"
                },
                "metadata": {}
              }
            ]
          }
        },
        "6a1a3531e16847f396ea83a4b002bcf7": {
          "model_module": "@jupyter-widgets/base",
          "model_name": "LayoutModel",
          "model_module_version": "1.2.0",
          "state": {
            "_model_module": "@jupyter-widgets/base",
            "_model_module_version": "1.2.0",
            "_model_name": "LayoutModel",
            "_view_count": null,
            "_view_module": "@jupyter-widgets/base",
            "_view_module_version": "1.2.0",
            "_view_name": "LayoutView",
            "align_content": null,
            "align_items": null,
            "align_self": null,
            "border": null,
            "bottom": null,
            "display": null,
            "flex": null,
            "flex_flow": null,
            "grid_area": null,
            "grid_auto_columns": null,
            "grid_auto_flow": null,
            "grid_auto_rows": null,
            "grid_column": null,
            "grid_gap": null,
            "grid_row": null,
            "grid_template_areas": null,
            "grid_template_columns": null,
            "grid_template_rows": null,
            "height": null,
            "justify_content": null,
            "justify_items": null,
            "left": null,
            "margin": null,
            "max_height": null,
            "max_width": null,
            "min_height": null,
            "min_width": null,
            "object_fit": null,
            "object_position": null,
            "order": null,
            "overflow": null,
            "overflow_x": null,
            "overflow_y": null,
            "padding": null,
            "right": null,
            "top": null,
            "visibility": null,
            "width": null
          }
        }
      }
    }
  },
  "cells": [
    {
      "cell_type": "markdown",
      "metadata": {
        "id": "view-in-github",
        "colab_type": "text"
      },
      "source": [
        "<a href=\"https://colab.research.google.com/github/DL4CV-NPTEL/Deep-Learning-For-Computer-Vision/blob/main/notebooks/Week_5/Week_5_Lecture_6.ipynb\" target=\"_parent\"><img src=\"https://colab.research.google.com/assets/colab-badge.svg\" alt=\"Open In Colab\"/></a>"
      ]
    },
    {
      "cell_type": "markdown",
      "source": [
        "# Lecture 6: Recent CNN Architectures"
      ],
      "metadata": {
        "id": "5p8aGbdxc1Nz"
      }
    },
    {
      "cell_type": "code",
      "execution_count": 1,
      "metadata": {
        "colab": {
          "base_uri": "https://localhost:8080/",
          "height": 519,
          "referenced_widgets": [
            "846e8b665b2f4d0d838cfb41010695e4",
            "6a1a3531e16847f396ea83a4b002bcf7"
          ]
        },
        "id": "W5BZQI44cxz_",
        "outputId": "924b2c11-2355-4ca8-9502-d9bccbf440ba",
        "cellView": "form"
      },
      "outputs": [
        {
          "output_type": "display_data",
          "data": {
            "text/plain": [
              "Output()"
            ],
            "application/vnd.jupyter.widget-view+json": {
              "version_major": 2,
              "version_minor": 0,
              "model_id": "846e8b665b2f4d0d838cfb41010695e4"
            }
          },
          "metadata": {}
        }
      ],
      "source": [
        "#@title \n",
        "from ipywidgets import widgets\n",
        "out1 = widgets.Output()\n",
        "with out1:\n",
        "  from IPython.display import YouTubeVideo\n",
        "  video = YouTubeVideo(id=f\"p047WxBf-qA\", width=854, height=480, fs=1, rel=0)\n",
        "  print(\"Video available at https://youtube.com/watch?v=\" + video.id)\n",
        "  display(video)\n",
        "display(out1)"
      ]
    },
    {
      "cell_type": "code",
      "source": [
        "#@title \n",
        "from IPython import display as IPyDisplay\n",
        "IPyDisplay.HTML(\n",
        "    f\"\"\"\n",
        "  <div>\n",
        "    <a href= \"https://github.com/DL4CV-NPTEL/Deep-Learning-For-Computer-Vision/blob/main/Slides/Week_5/DL4CV_Week05_Part04.pdf\" target=\"_blank\">\n",
        "    <img src=\"https://github.com/DL4CV-NPTEL/Deep-Learning-For-Computer-Vision/blob/main/Data/Slides_Logo.png?raw=1\"\n",
        "  alt=\"button link to Airtable\" style=\"width:200px\"></a>\n",
        "    </div>\"\"\" )"
      ],
      "metadata": {
        "colab": {
          "base_uri": "https://localhost:8080/",
          "height": 100
        },
        "id": "bJQjZzwxdQch",
        "outputId": "6774e063-79bb-4df2-f5f4-5ed4b1cbf798",
        "cellView": "form"
      },
      "execution_count": 2,
      "outputs": [
        {
          "output_type": "execute_result",
          "data": {
            "text/plain": [
              "<IPython.core.display.HTML object>"
            ],
            "text/html": [
              "\n",
              "  <div>\n",
              "    <a href= \"https://github.com/DL4CV-NPTEL/Deep-Learning-For-Computer-Vision/blob/main/Slides/Week_5/DL4CV_Week05_Part04.pdf\" target=\"_blank\">\n",
              "    <img src=\"https://github.com/DL4CV-NPTEL/Deep-Learning-For-Computer-Vision/blob/main/Data/Slides_Logo.png?raw=1\"\n",
              "  alt=\"button link to Airtable\" style=\"width:200px\"></a>\n",
              "    </div>"
            ]
          },
          "metadata": {},
          "execution_count": 2
        }
      ]
    }
  ]
}