{
  "nbformat": 4,
  "nbformat_minor": 0,
  "metadata": {
    "colab": {
      "name": "Week_8_Lecture_4.ipynb",
      "provenance": [],
      "include_colab_link": true
    },
    "kernelspec": {
      "name": "python3",
      "display_name": "Python 3"
    },
    "language_info": {
      "name": "python"
    },
    "widgets": {
      "application/vnd.jupyter.widget-state+json": {
        "00f06d4edc3440aa8cc284d4503fda1c": {
          "model_module": "@jupyter-widgets/output",
          "model_name": "OutputModel",
          "model_module_version": "1.0.0",
          "state": {
            "_dom_classes": [],
            "_model_module": "@jupyter-widgets/output",
            "_model_module_version": "1.0.0",
            "_model_name": "OutputModel",
            "_view_count": null,
            "_view_module": "@jupyter-widgets/output",
            "_view_module_version": "1.0.0",
            "_view_name": "OutputView",
            "layout": "IPY_MODEL_73ec2d762ac348608267eca85e04b2b9",
            "msg_id": "",
            "outputs": [
              {
                "output_type": "stream",
                "name": "stdout",
                "text": [
                  "Video available at https://youtube.com/watch?v=P84OW5GovBE\n"
                ]
              },
              {
                "output_type": "display_data",
                "data": {
                  "text/plain": "<IPython.lib.display.YouTubeVideo at 0x7f2eac55c510>",
                  "text/html": "\n        <iframe\n            width=\"854\"\n            height=\"480\"\n            src=\"https://www.youtube.com/embed/P84OW5GovBE?fs=1&rel=0\"\n            frameborder=\"0\"\n            allowfullscreen\n        ></iframe>\n        ",
                  "image/jpeg": "/9j/4AAQSkZJRgABAQAAAQABAAD/2wCEABALDBoYFhsaGRoeHRwfIjAlIiIhIjEuKycqLicyNS0yLTM1PVBCNzpLOTItRWFFS1NWW1xbMkFlbWRYbFBZW1cBERISGRYZMBsbMF1DNz9XV1dYXWBXV1dfV1dXV11XV11XWFdXV19XV1dXV1dXV1ddV1ddV1dXV1dXV1dXV1dXV//AABEIAWgB4AMBIgACEQEDEQH/xAAbAAEAAgMBAQAAAAAAAAAAAAAABQYBAwQHAv/EAEgQAAIBAgMCCgYIBQMCBgMAAAABAgMRBBIhMVEFExdBU2FxkZLSIjJSgaGxBhQVIzNCwdFicoKi8GOy4TV0FjRDRMLxByTi/8QAGQEBAQEBAQEAAAAAAAAAAAAAAAECAwQF/8QAMBEBAQACAQIDBQgBBQAAAAAAAAECEQMhMQQSQRMyUXHwIoGRobHB0eFhFCMzUvH/2gAMAwEAAhEDEQA/APPwAAAAAAAAAAAAAAAAAAAAAAAAAAAAAAAAAAAAAAAAAAAAAAAAAAAAAAAAAAAAAAAAAAAAAAAAAAAAAAAAAAAAAAAAAAAAAAAAAAAAAAAAAAAAAAAAAAAAAAAAAAAAAAAAAAAAAAAAAAAAAAAAAAAAAAAAAAAAAAAAXDk4xvS4fxT8g5OMb0uH8U/IBTwXDk4xvS4fxT8g5OMb0uH8U/IBTwXDk4xvS4fxT8h8y/8Ax3jF/wCph/FPyAVEFt5PMZ0mH8U/IOTzGdJh/FPyAVIFt5PMZ0mH8U/IOTzGdJh/FPyAVIFt5PMZ0mH8U/IOTzGdJh/FPyAVIFt5PMZ0mH8U/IOTzGdJh/FPyAVIFt5PMZ0mH8U/IOTzGdJh/FPyAVIFt5PMZ0mH8U/IOTzGdJh/FPyAVIFt5PMZ0mH8U/IOTzGdJh/FPyAVIFt5PMZ0mH8U/IOTzGdJh/FPyAVIFt5PMZ0mH8U/IOTzGdJh/FPyAVIFt5PMZ0mH8U/IOTzGdJh/FPyAVIFt5PMZ0mH8U/IOTzGdJh/FPyAVIFt5PMZ0mH8U/IOTzGdJh/FPyAVIFt5PMZ0mH8U/IOTzGdJh/FPyAVIFt5PMZ0mH8U/IOTzGdJh/FPyAVIFt5PMZ0mH8U/IOTzGdJh/FPyAVIFt5PMZ0mH8U/IOTzGdJh/FPyAVIFt5PMZ0mH8U/IOTzGdJh/FPyAVIFt5PMZ0mH8U/IOTzGdJh/FPyAVIFt5PMZ0mH8U/IOTzGdJh/FPyAVIFt5PMZ0mH8U/IOTzGdJh/FPyAVIFt5PMZ0mH8U/IOTzGdJh/FPyAVIFt5PMZ0mH8U/IOTzGdJh/FPyAVIFt5PMZ0mH8U/IOTzGdJh/FPyAVIFt5PMZ0mH8U/IOTzGdJh/FPyAVIFt5PMZ0mH8U/IOTzGdJh/FPyAVIFt5PMZ0mH8U/IOTzGdJh/FPyAVIFt5PMZ0mH8U/IOTzGdJh/FPyAepmDJzYzFcUk7XM5ZTGbqyW3UfHCHCVLDRUqsmruySV2zfhsRGrCNSDvGSumVrH43D4xqFVVKUou8ZRs9q1R0cH8M0qcFRo05uEFo5NJva2zn7bHvvo9V8NfJ0l83r8NLCaqm0+qNTNFSta581Np1llm48nZqdSKkotrNJNpc7S2270IVIyclFpuLtK3M7J2fuaI3hBTeMw3FyjGXF1dZRcl+TmTRyUK1SE68ZVIxc8UozqKNlH7iLVlK6TbSWt9o26zj3Ny+n7rACA+0q98kJKbm5U6M8qyuUZq8nbT1ZPq9BkjwVjHiIyqbINpQVt0Vm/ubXuGzLiyxm67gQLxM6TxT45tqtGNpZbQjJU052tsSfZpqSHB1eUp1abnxsabVqml3eN2nl0uureiplx2Tf19dXcCKlwhJTcM0b/Wo00tL5HCLfzepojjq0cs3LPmVa0MqX4d8tra30sybX2VTXGRzZbrNa9ue17XPork8XOE51I1o1pfV4PN6No5qqu9OZJt67tWdFPEV26dLjo+lVlHOskpZVSza2WVSvs02W0Y2t4b32mwVzGYqo6WJjKtLNxc5RyODhljLmaWZOzSd+ux0cJ8IukvQrynKnFSf4eWScmlmbtfY1aO4bX2FupPVNnzKaTSbScti3222Iv6zV46b4z0IYhUsmVWcZRi9XtvdmjCYiVWthpzqJyk6jdOyXF2i1bf235xtPZXvfrptOgjeGMXxaSjUlCeWUkoqFmo29Zz0tqtmup0ynUnh81NpVJU80dLrM1cbY8l1L8W+c4xtmaV3ZXe1vYu0OpFNRbScr2XO7bbERHhOdXLUhpSlVpwimld3V5++7S/pZyvGTcqNbOqk8laapJL0GoerprzWd+cbbnDVjNOJxdOkk6k4wvsu9ttpDU8fWsk60HGpKC4xODcMyld2Ssk7JRvfV850wxNSdGrGM05KqqUarssybinLc2rtabXHZzDZ7Ky9UrFppNO6exo+I4im5OCnFyjtipK67UZoUY04RhFWjCKiuxKyIqcorE0csqcqcuMUI01rF5bylJ31V01zWbQZxxmVrvocIUajywqwk2rpJq77N50t2K/TqweAwsFJOralkjF+kpJq7ttsle/VckeG4t4eVk3HNFzSV701JZ1bn9G42uXHrKT/ADptp8JUJKTjVg1FZpNPYt/Z1m5V4PJaUXn9TX1tL6b9NSO4axNOWCr5Jwk+Jk1lknpvXVsOamuKxeHw72RnOdP+SVKen9Luuyw21jxTKb+f5RMRxVNwzqcXC9s19L3tbv0M062aU42acLbba32NalZqLicPC3qYh0/dUjVi33xX9vWWWnRcak55r5raW2W2aiUz45jN/Xp/bcACuAAAAAAAAAAAAAAAAAAAAAAAAAAAAAAAADoI3hj1F2/qiSODhB05WhKrGDXM33fI48+FzwsjfHZjlLVNp/jf57J98G7X/nMybo8F4WFS86+aV7KN7c1jFPgrDQblDEJR0WrTs3e2p574fk8vZ9TLxfFZYncH+HH/ADnM1Np84OcHG0JqaWjaZ0Hr48bjhJfg+Tld2udw1TtqtjsfMqKaacU1L1k1t7d51A2jmVJK3or0dmmzsMxhZWSsupHQAOXiVdyyK7Vm7atdZmnSUUoxiopbElZHSAbcvERzZsizb8uumzUyqSVvRWmzTZfadIBtyQw8Y3ywSvttG23aZhQjFJRgopbEo2t2HUAbciw8VmtCKzet6K9Lt3mPqkNPu4+irL0VotyOwBd1zcUvZW2+zn39phUIqTkoJSe15dX7zqATblqUIytmgpW1V1e3YfSjbRL4HQYbA51SSVsqte+zn3mI0IpuSglJ6tqOr950ZlvQzLegOZYaCUkoRSl6yyrXt3n0qKSUVFWWxW0VtljfmW9DMt6Btqyvca44eKk5KCUpbWo6vtZ05lvQzLegOanhoQd404xb25YpfI2We43GQOOOFgs1qcVm9a0Vr27z7dO7Ty6rY7arsOkA25XRVksqstitoj7s9xvAGiz3Cz3G8AaLPcLPcbwBos9ws9xvAGiz3Cz3G8AaLPcLPcbwBos9ws9xvAGiz3Cz3G8AaLPcLPcbwBos9ws9xvAGiz3Cz3G8AaLPcLPcbwBos9ws9xvAGiz3CzN4AwaXh7/mn3m8+ZzUU22kltbA1LDfxT7zH1b+Ofev2OaHCynJxpU51GtrSsl2t7Nqdtp00MUptxacZLbFtX7kyTLfZbLH1ToZXfNJ9TehtBkqAAAAAAAAAAAAAAAAAAAHBwz+D/UjvODhj8H+pAQQMkROlWqZpwrTilOacUr6KTS0KzbpLAhs+IU7Qk5+ipXUk/zNPSVrdhvXCUoO08je6+SXdLT4gmUt0kgcq4Qp/nzU/wCdWXi9X4nTGSaummt61DS00PUj/KvkbDXQ9SP8q+RsIAAAAAAAAAAAAAAAAAAAAAAAAAAAAAAAAAAAAAAAABC8NTlOpToxdszXxdvgr8/eTRFcLUWp066Tapv0kt3V7mzGc3Gse74xOKjh6bppwhFJZZX69b67duvWYxS+tU5Si1CcNaUk1mutXruewY/BxnByirU0k45ZPXZqrPTT5H3VUcNRnKai1CPoPnvayjqaanpru28BcI/WaCm7Zk8srbG1z+8kSC+idCUcPKUlbPO6WuxJK+tt25E6VM5JlZAABgAAAwZMAAQ1OhGeNr6U2lxbd43lseqfM72NK4VqqlSm5wbms1lCyspwi9bvmcn/APWoT4K7PhaulN5oaRxDSydDVyx5/wA0f+CQweNnUryi3FKN7ws81tMkr2tZrt29TAkjJHYeX/71dX/9KlpfnzVb/p8CRAAAAcHDH4P9SO84OGPwf6kBBkZVqV6F1CnCcZSlK7nl9aTdnp1kmYKzZfRDSxFaNTjOJcZNJNJNp67W0jdLhClPapKS0ulm+W1Hbxbh6mq9l/o+bsNNXDwqp2Sv+aMlz9e59fzK8+Usvb7v4aKKoTbStTnz5G4392nc0ZlwZJawmu1rK3/VCy70z5jhqPqVIZextL3pae/Ya58GcW3lqSpp7JJaLqdrd403hyyz6/NYaVbHUYRunUjbniqmluZwyyXgkb6H0khfLUg4yte0Hmfgdp/2milhOEqcIuniKdVWWlRW5uy/xMV8bjLZcTwfGtHncWmvD6Rl3TWH4Ro1XlhVi5LbG9pLti9UdJS6+M4PkstWGIwvVKN4rsi7pdyN+GnL/wBpwhSqboSllduyWb4KIFtMle+18ZR/HwrnHnnT/ZZl3tHThfpNhKm2pxb51PS3v2fECYB8U6kZK8WpJ86d0fYAwc2PxDpQzJJu9tSO+2Knsx+IE2CE+2Knsx+I+2Knsx+IE2CE+2Knsx+I+2Knsx+IE0CF+2Knsx+JMwd4p70B9AAAAAAAAAAAAAAAAAAAAAB8TnFbWl29W0+zlxuCVa121a9rda2ku9dFmvVrnNQT4qdJb1KWi7EvlocFTAcfUUsTiYyitVTpuy97vfdssd64MhlqK7vNNZtyaWzuMVODU5TedrOrNW3JL9DG8/g3LJ2rthFRSSSSSsktiR9HxTTSs3d77WPs6OYAAAAAGDIAwDJgDjhwth3WdBVYuqtMvWtqvsudhU8NwDCPCsnnk1Fcel1ylLS+5MthJv1duXHDGzyX0DIBXEAAA4OGPwf6kd5wcMfg/wBSAgwAUDXUpKWuxrY1tX+bjYAlkvSuWpuqrsmv80+RrvKjo/Sp/wCd3Zs+R2ml0nH1NVzwez3buzYXbz58d7z6/lN4Sbp04zot1aNtYL1ob8vl7txJ0a0ZxUoNNPnRA0aDX3mEk1OKWejLR7Nz5t3waN+FxKqScqP3df8APSlpGdvk+vbvQsZ4+XXS/Xy/hMyimrNJrrI7E/R/B1fXw1Jt86ik+9HXhcXGpdaxnH1oS2x/461obzL1SyzcQH/hKjD/AMvWxGH3KnVdu53NGJ4Axb/9xQxFtixFBX8UdUWcwFUafAmLovNDDyg+eWFxH/xnZvvML6QY/DfiRlOK5q9GUH4oXiXoAUmr9NqNaGSpTnTldXaanHvWvwNmHxtKr+HUjLqT17iW+kNHCun95Gjmv+ZRv+5UMRhOD2/Rvm5uLzfDmG9N48WeXuyrCCsUPrEasY4eVZxv6SrW0/ZFnKxZq6AABhlpo+pHsXyKsy00fUj2L5EH2AAAAAAAAAAAAAAAAAAAAAAAAAAAAAAAAAAAAAGDJgCKpf8AU6n/AG8P98iVIql/1Op/28P98iVDpyenyjIADmAAAaMXh1Vjlba1vobzk4TqONJuLad1qu0Dn+xoe3L4D7Gh7cvgRv1yr0ku8fXKvSS7yiS+xoe3L4D7Gh7cvgRv1yr0ku8+KnCUoetWy9srEJLeyV+xoe3L4D7Gh7cvgQVTh9R/9ab7L279hp/8Q1Zfhxqz9+nwuNu08Py3r5f2WytgozUdqlFWjOOkl/m56EZjsNdrj/QkvVxENF1Z1zdvxRqpYrhKrCLhSp01Za1Hdvr2/ofNfBYn1sTwhGlF7Ukkvc9BvTGfhJl0uUn5/o+3iJRlGOK9Ca/DxEdj7ea2/wDTadMOH6MM0a1Wmpx2uDzKXNpa7XY9UVytTwcJQVOdXFSjpxaT1X8Lja1veZhh6kVX4vCwsuaqlKpBb7KzsN77OPsrwX7e9fh/789bnrKnn9KKMnajTrVn/p03+pz4j6QYhL/y8KK5nXqqL8O004enKcYyrYupOg0lelaEU91RL0l237icwnBWHpWdOlFP2nrLxPUmq9ePLwa6Tf1936IBY3hCulxctvPSotLxVLLuufS+juLrNOvi5pc8VJt/Cy+DLUQnCn0ihSfF0VxtVuytsT9219SLMPN0TPxns5uST7kdjvo7hMNSzzzTlf1py2+5bThoxdRWpx4mlvStKXZu7SQq8F1ZRWIxcnKo36MPyxT/AM2fMwakxx7PNlycvN79uvg+KVGMFlirL/NpsAIsmukAAFYZaaPqR7F8irMtNH1I9i+RB9gAAAAAAAAAAAAAAAAAAAAAAAAAAAAAAAAAAAYAyYPh1Y3tmV919T7ApmG4QxT4XknDRvi2suymm2nf43LmgCSadeXkmetTWppkHypK9r6o+iuQAABxcLfgvtXzO04uFvwX2r5gQJxfeVoKUKnFateqpbJNfodpwRValTUYU1N3b9ZLbJvZ7zHJZ63Tpx730fEMDKTlCpVlJpJ3T5nfRxvZbNpsjwXRhq2/e8v+2xphQrylObvFtJWuobL7Ws2mvNqdEMHLTPNWve1s2vbO/wAEjy+e+b7Ocvz+v009kzymPXLXyfMpUKTdqfpLbaH/AMnp8T4+0Kk/wqd9Nt7/AP8AP9x2xoxV9L3d/Sbevv2G06e1yx9/H8HLzcfzv+a30cBjq0I58QqUbKyhtat1Wt4mdGH+i+Gi8081WW+b/RbfeduFxaUIpp6RWzXm3bTqhVjLY0zphy4Z9qxebknSdPl0Yo4eFNZYQjBbopJfA+MThI1LN3Uo+rOOko9j/Q3mJSSV3ojq82U83dX8VhJ0ZuomoSejqJfdz6qsfyvr2dhihwnxOji476D1av8AmpPY49XN1HRwhw1FRfF2yvTO1fN1U4/m7fV6yBpcG1cS3khlituZ/N226+qtFz2Okx6brwZ3y5f7fV0YvhSvjJ8TQi7PmWy38b5+zZ2k3wPwJDDLM/TqvbJrZ1R3IiMHN4VtJZGtrknZ66KqtbblON0WTCYyNVezJbYvar/Nda0GWXTU7N8GsrvP3mjhn8H+pfqQhPcK05SpWim3mWwh/qlXo5dxh7WkG76pV6OXcPqlXo5dwGkG76pV6OXcPqlXo5dwGhlpo+pHsXyK48JV6OXcWOkvRj2L5EH2AAAAAAAAAAAAAAAAAAAAAAAAAAAAAAAAAABgyYAiqdFyxld6KP3bd4etZPY3udjlWLxEaVKWatKclmf3SsrTgmnaF1pd2e97kT4Ark8XilGbz1bqOIaXFLbTrWpL1fzR71sJDB4irOvJSzRUb+i6TUWnbJJTej05rva9lhT4ew0sQ8Op/eXtsdrrmvvJMbayxuPeIugqUsY5RhKM4xlFvi5JTu023JqztbTXnZKmDIZAAAOLhb8F9q+Z2nFwv+C+1fMCBABQOarjoQrQpSdpTTcXzOz2HSa6lCMpRk16UXdPn5/hqznlxYZe9Isys7NlxoYBy/0uE922fKte0vqmqdb0IqdK6yqzt1B8TLZJxfXql73+500qsYUIynJRioJtt2S0I7GYpTjm0pUuklH059VOO33vuOeXhc8vWX5z94zeXHHu21MTKnKMYz4xy2Rjr73uXXcjcXjJVsyvGo1shf7uPXK3rO659Pea4zc7TS4ug9Ff0p1X/D7TdubTtJHDcFSyJtRh6WZQ27Nmbmb+C5jM4+bh7b+67n4XV/Nz82PN0/pxYDgzjamepUu+eTdpS6oL8sevbusWOlSjCKjFKMVsS5jgqYef5qUZdcXZ/wCe418bKGyU4dU43XeL43Of8mP7fr/Lrh4fHH3Xdi8HCqvSWq2SW1dj/TYV/FYOrhWpK7px1Uo6ON9tt3Wn6L6iYp8IvnSl1wf6bTphi6c9MyT3PR/E78fiuPPpK483hfN17X4oyhw8nBXScr2utE9Pg+p+66Nv21/p/wB3/BwcPcEQjadL0XJ6x/K+f3EVQxji8lXR73+vV1np1L2cceXLC+Xl/FZPtr/T/u/4H21/p/3f8ESZI9SV+2v9P+7/AIH21/p/3f8ABFACV+2f9P8Au/4JUqqLWQAAAAAAAAAAAAAAAAAAAAAAAAAAAAAAAAAAAAAAwZAFWw/AdGPCs5LNaMFWSvpmlKS7tLloIql/1Op/28P98iVJJp25srlZv4RkAFcQAADi4W/BfavmdpzY6g6lNxja91tAroJD7Hqe1Dvf7D7Hqe1Dvf7FEeDv+x6ntQ73+xrxHB7pRzTnCK62+5aasJejjNVSvZ5YrNPcubtfMdEsDVlBznJUKf8AE7Tfw9H59hy0sHVqviqEVGK2vVW65Pmvu9bfY3MXHPk+DuniIwUMz4+srKMUvu6btpZLbL49iH1WUql6646u1pSvpFPnqNaKPUt35jfgMLl9DD2ckss67StHfGmtjfw33ZL4XCxpRtFbXeTbu5Pe3zsty12c8eO59b9fy1YTBZXxk5Z6rVs1rJLdBcyOwwGzlvb1SSdIyYsc1fhKhT9etCPbJHFL6RYfZT4yq91Om2NNTG1I1MNCXrRT9xonwbB7G179CPr8P1Iq6wzgt9apGHw1ZzrhLHVfwoQtvhCTXinlRyz8Nx5+9jHSeeerpx+FdKMbycot6LcRtejCa9LvfN7zOPwOMlGLr4iyb0jH/hL9TkhwZT2yzTf8TMY+Fxw9zKz8/wBTK45TWer9zjrcIfVpxhfjVJ2SjtX+biZNdOjGPqxS7EbD0Teurhjjjj0x7AAK0ItZVEWsgAAAAAAAAAAAAAAAAAAAAAAAAAAAAAAAAAAAAAABgCKpf9Tqf9vD/fIlSnYaWO+1m5QnlcnFvL6HFJtrXZ19pcUSXbvz4eWzr6RkAFcAAADl4QrShScouzuvmdRxcL/gPtXzAjPtOt7S7kPtOt7S7kchG1p1qt+LjHIpONnKzbTs725iyJd+iXlw1WbcabUnzuyyrtf6I5p8ISpzzylxlVLa0rQXVzRXxfWRkqtdSVNJRdrpQ1Vr23aH28CoL05ttu6jHW76r7X1m5I52fHL+nVPFVKrz1qqSWzma/lX5e31uwPhe8OLUuLor8sY2cu120XxZohg6cfSqta7It7P3ZsdelD1YfC3xe0trWHFj36pvD8NehGNHDVJWikrRtHZzWvY2fWcfP1aFOmt85X+T/Q+KGOxU4RVKjZWSzST3deX4XPv7NxNT8bEOK9mH7q3yZh31I1V6WIWtfHQpLdFJdzdmR0vqknbPisZLcs1v0JyhwDh4O7hnlvm7/DZ8CQhTUVaKSW5Kw2eaRXcPwfUf4WCoUF7VZ55dy/c74cEVJL77E1GvZp2px/t1+JKmSbZuVceG4LoUneFKKl7TV5d71OsyCM7RnDfqQ/m/QhyY4b9SH836EOUAAAAABFrKoi1kAAAAAAAAAAAAAAAAAAAAAAAAAAAAAAAAAAADBkwBoljaSk4OcVJNJq+xvZftN5G0sPN4utN54w9C2zLO0Wn185xcXiY06Vo13O15tzvZqcdGnLnin1bedgT4K7OjirTf398te1p8/G3oc/s/syQwarOvJ1FUSV7O8eLlF2cdL3utmxc+3QDthiacpypxnFzjrKKauk96NxwQpzeKVSzUFCUGpJbcyacLa6637Ed4AAADi4X/AfavmdpxcL/AID7V8wIEiPrvF5qdpJupNuWW9k5Nq3uJcFiWbQ1OtLjG6MLtxSbd3rd6t6anVHCzbcm3d7XKXwSjsXvO8F2s1O0csMEltb92ny1+JuhRjH1YpGwwRbbVmwv4UP5V8jcacL+FD+VfI3EQAAAAAAABGcNJuELL836ERke59xagBVcj3PuGR7n3FqAFVyPc+4ZHufcWoAVZQe59xaDIAAAAAAAAAAAAAAAAAAAAAAAAAAAAAAAAAAAAYMgDAMgDAMgDBkAAAABxcL/AID7V8ztOLhf8B9q+YECACgAABgyYAs2F/Ch/KvkbjThfwofyr5G4gAAAAAAAAAAAAAAAAAAAAAAAAAAAAAAAAAAAAAAAAAAAAAAAAAAAAAAAAAAAAAAAAAAAcvCNGU6TjFXd18zqAFf+zK3s/FD7Mrez8UWAAV/7Mrez8UPsyt7PxRYABX/ALMrez8UPsyt7PxRYABrw8XGEU9qik+42AAAAAAAAAAAAAAAAAAAAAAAAAAAAAAAAAAAAAAAAAAfOdb13jOt67ygzijU4oUeh8Yt67zHGR3rvPOZxRw0HGMJSdkr/oibXT1TjI713jjI713nkrx8XfLTnJLnSNtLEQm7Lbuasx1NR6nOSa0nl61b9TXl/wBaX9n7HmtluNUIq2znfzZNr5XpkJpptV5aPLqorW9ueO82RptpNVZNPY0o/seecE0c+KoR2feRd+x3/QvVbB1nRowVVqULZ2pWzWjbbZ8+tucsqWOriZdLPuj5TCpt3tVlpo9I6fA544SpGhKnFrM5tpuc9jnfbtTtuPrAYapSuptTcrOUr63VOEffdxbKj7lOKvfEWs7O7ho9z0PrL6ObjpZbXv6Frb72OOpwfUdbjY5FaUWlmeuXP1aevs15zb9nviOLus3GcZ/DfjM+Xs5gN9OOZKUa0pJ86yNfI+uJl0s+6PlOPEYTEVHdTVNuLXozlaLtLmsk73Tu9VbQPAVkmo1mlaW1yb58mr159exAdfFu9uNlfba0f26mOLd0uNld7F6H7HAuD66vKNRKTSVnOTslxmmZ6uzmnruPr7PrLNae1t+vL0r5br+HZJab7gd3Ey6WfdHymHB6/fS02+pp26HEsBXSvxt5WtZzna2XZ2p/m2n3RwFRUqsZzUpThlzavXK1d7wOmMb7K0nonpk2PY9h9cTLpZ90fKRj4Iqxk+Lq5Y+ioqLcWorO7Xs9E56LckjfHBV3O8qvop6JSlrbjLXtb2oafwgdfFu9uNlfdaP7GILNbLXbve1sj2Oz5t5o4OwdWm81Wak7NbW7elfa9Wca4Gqx/DqKKyW9FtPM5xcrPmTUe9t84E2gRP2dXTk4VrNtO7nJ3tCO1bF6UebamzMODq+ZZq8nHTM1OV5ap7Py2s1ptvqBKRkmrp3XUY4yObLdZrXtfW3YRtHg+tB0/vbqMrv0mll00ypa2tps263PrE8H1HOc6dTK5tP15K1oJJ6bnrbY+cCRlJLVu3aFJO9mnZ2fUzingZOhxbm3JzUnJt81RS03aK2hqjwfVhUbhU9GVTM7yd7Xp97tCS/qAkwRFPg2vGP4zlLLZ5pzs3kSfPp6SbuthvwuCqxlCU6rk42Ulmk01la2PS97O+3QDvzq+W6va9ue2/5hyStd2voiNrcG1HUnVjVyzlmjs2RcUopPbtin75WMfZ9W7cZ5G4pX4yc7NZva27U79QEofDrwUsjnHM/y3V+4j6WArJxbqtWkmo8ZOSSurpt+tont2X6j6xPB0p1XUU7XcLLm9HNq+tNprriBIgiafB+ISs6zbytJupL0Xrrolmvpo9ltDRUwmK4xRUpZMjSaqStGTz7W9ZJXjt10VtgE5mV7X122EZJq6d0+dEbLg6pdfeNpSUopzneynfV7XozC4Pr89V2sk2pyWml1bYtjebbrYCUbNP1uldrjIXSu/SWy179ltT4w9Kcabpyd7Kyk223dvbfXRW1IqPAlVUsRSUoWrU8t80lZ/V40/VtZ6xve/OBMfXaWn3sNdnpLX/LrvM1cTTg7TnCL3Skl8yPlgq2enP0bxUotcbPZJxad8uvqvQ7MVhnUnRkmvu6md351xc42XiA6bgiZcH4j0EqzVoNSeed3Jxkr7tri1zqxmWArp+jVurNWlUnsc21s1vZpXu9mwCVMRknqnddRE/ZtdwtOpnfoNPjJx1i43Vlvak8230jNbg/EPNlrWupWeaWl81lbZtaebarWAlgR+FwdaFXNKo5QtJWcpPRzbjo+dJpXbew1VODq8s33zSbeyctfRnZ/w2bjotPRAkqleELZpRjfZdpX7DLqxV7ySto9dl9l/gcmLwHGzg5Saiqc4SS0cs+X4eizllwPJ58001VS4xNc6qKSt2JyWv8ADuAleNjfLmV919db2+T7hOpGNszSu7K72vciLhwVUjUjVc4zmpRlJ2tmcYVIr4Sj3M6sdh51FBKMHr6eZtO2jtF2fOvgB0qtF7JJ622rbu7TMKkZXytOzs7PY9zIuHBlSKj+G3GVPneyDbzbPWd7fqdeCw0oTqSnGCcrJZG7ZU3ZWsrbXv29gHYDAAyDAAoMzUz6lI1SYpGuo9GcXBmGjiKzhP1KWslvb/8Ao6a0vRl/K/kfXBWDU+MaeXPZO3U3+6Jj3WpeToxham6ajH2WrfAr3C6pzi6tOUXKGt47iTng6VGlUg53b26nAsDHLJqV7pr4Ghpw1fjKalzvb2mY8/axTpqEYxStbQwtslul+iObbr4Pf39P+b9CycY/afeQPAKvjaC/j/RnovFR9ldxqM1WOMftPvOXjq667O23br63c9nUXHio+yu4cVH2V3FZU14qv7Ftv5m+w+uNrOD1tLNo+rNz+4uHFR9ldw4qPsruAps61fLBq6et1db9EbcVWqJeg3dqVu3K7LvLbxUfZXcOKj7K7gKfCdXMm5St6Wl1b1vR5r7DEa1a6zPS+lnt9J7f6dS48VH2V3Dio+yu4CsZ3vfeM73vvLPxUfZXcOKj7K7gKxne994zve+8s/FR9ldw4qPsruArGd733n3Tm77X3lk4qPsruHFx9ldwFfzve+8Z3vfeWDi4+yu4cXH2V3AV/O977xne995YOLj7K7hxcfZXcBWcRVmsuVvWST7GaoVq+SF/WzLNd/lvrYtfFx9ldw4uPsruNzLU1oVWpVrKUst2lqtUr3tp7vS70fEcVX54X1dnfmu7ady+JbeLj7K7hxcfZXcWZzXaCr1KtVS9G7V9+lsv7mpYmvf1NNNM2zbf9C28XH2V3Di4+yu4TOfAVN4mun6mxPY9r0tz9vcJ4mu9kLa7c1/zbO7W5bOLj7K7hxcfZXcPPP8ArBU1jKqnCMo2zNq929L9XP8A5zHZne995YOLjuXcOLj7K7jOVl7QV/O977xne995YOLj7K7hxcfZXcZFfzve+8zGbutX3k/xcfZXcOLj7K7gIbM9/wARme/4k1kW5dwyLcu4CFzPf8Rme/4k1kW5dwyLcu4CFzPf8Rme/wCJNZFuXcMi3LuAhcz3/EZnv+JNZFuXcMi3LuAhcz3/ABGZ7/iTWRbl3DIty7gIXM9/xGZ7/iTWRbl3DIty7gIXM9/xGZ7/AIk1kW5dwyLcu4CFzPf8TRi51FD7t3lu/wA67e65Yci3LuGRbl3AV6rVnaTi3o0klz6rN+vcMLUqNS4zR5tOwsORbl3DIty7gPOpyNUpCT1Mxg5NJJvsMbVz42Vqcd95fJI++Da+W253N8uCnOazzyrZZK500eD1CnVyatK0W+fS51nFlWbnHLjM8l6L9H+TN+pyUptJp7RXhKSUqcnkettxytNShHW7kr9hN7adMzXB5qst0nfvTt8Tc6L5utW59Dmm2pbmkre5s52XHussqT+j0r4zD/z/AKM9KPMvo67Y3Dr+P9GemliUABpAAAAAAAAAAAAAAAAAAAAAAAAAAAAAAAAAAAAAAAAAAAAAAAAAAAAAAAAAAAAAAAAHmkIuUlFatuyJqOFVOm4L1ravfqUnD/SSrTnnjTpXW9S8x0y+mOIbvxdHun5jfF5cetYzlvZaraTn7Mr9ysRuNjiJqEIZowyJ+i7XfaQb+lldxceLo2d76S5/6jP/AItr6fd0dFbZLzHb2uLHkqZoYNwkoNLVapvS/O0auEsOqTyQ1qSXrX9VPd1kPiPpRXqKzhSXWlK/+40w4dqJ34uk3vefzGN4b239pNYKM3F5tbc/OddbA5luklo91/0IFfSiso5VSopdkvMZf0qrtt8XR1VtkvMaueNmqz5ckl9H7rhDDp7VUt8GeonitDh+pTrxrxp0s8ZZl61r23Zia5R8b0WH8M/OeaTTtt6gDy/lHxvRYfwz845R8b0WH8M/OVHqAPL+UfG9Fh/DPzjlHxvRYfwz84HqAPL+UfG9Fh/DPzjlHxvRYfwz84HqAPL+UfG9Fh/DPzjlHxvRYfwz84HqAPL+UfG9Fh/DPzjlHxvRYfwz84HqAPL+UfG9Fh/DPzjlHxvRYfwz84HqAPL+UfG9Fh/DPzjlHxvRYfwz84HqAPL+UfG9Fh/DPzjlHxvRYfwz84HqAPL+UfG9Fh/DPzjlHxvRYfwz84HqAPL+UfG9Fh/DPzjlHxvRYfwz84HqAPL+UfG9Fh/DPzjlHxvRYfwz84HqAPL+UfG9Fh/DPzjlHxvRYfwz84HqAPL+UfG9Fh/DPzjlHxvRYfwz84HqAPL+UfG9Fh/DPzjlHxvRYfwz84HqAPL+UfG9Fh/DPzjlHxvRYfwz84HqAPL+UfG9Fh/DPzjlHxvRYfwz84HqAPL+UfG9Fh/DPzjlHxvRYfwz84HqAPL+UfG9Fh/DPzjlHxvRYfwz84HqAPL+UfG9Fh/DPzjlHxvRYfwz84HqAPL+UfG9Fh/DPzjlHxvRYfwz84HqAPL+UfG9Fh/DPzjlHxvRYfwz84HqAPL+UfG9Fh/DPzjlHxvRYfwz84HqAPL+UfG9Fh/DPzjlHxvRYfwz84HqAPL+UfG9Fh/DPzjlHxvRYfwz84HqAPL+UfG9Fh/DPzjlHxvRYfwz84FPAAAAAAAAAAAAAAAAAAAAAAAAAAAAAAAAAAAAAAAAAAAAAAAAAAAAAAAAAAAAAAAAAAAAAAAAAAAAAAAAAAAAAAAAAAAAAAAAAAAAAAAAAAAAAAAAAAAAAAAAAAAAAAAAAAAAAAAAAAAAAAAAAAAAAAAAAAAAAAAAAAAAAAAAAAAAAAAAAAAAAAAAAAAAAAAAAAAAAAAAAAAAAAAAAAAAAAAAAAAAAAAAAAAAAAAAAAAAAAAB/9k=\n"
                },
                "metadata": {}
              }
            ]
          }
        },
        "73ec2d762ac348608267eca85e04b2b9": {
          "model_module": "@jupyter-widgets/base",
          "model_name": "LayoutModel",
          "model_module_version": "1.2.0",
          "state": {
            "_model_module": "@jupyter-widgets/base",
            "_model_module_version": "1.2.0",
            "_model_name": "LayoutModel",
            "_view_count": null,
            "_view_module": "@jupyter-widgets/base",
            "_view_module_version": "1.2.0",
            "_view_name": "LayoutView",
            "align_content": null,
            "align_items": null,
            "align_self": null,
            "border": null,
            "bottom": null,
            "display": null,
            "flex": null,
            "flex_flow": null,
            "grid_area": null,
            "grid_auto_columns": null,
            "grid_auto_flow": null,
            "grid_auto_rows": null,
            "grid_column": null,
            "grid_gap": null,
            "grid_row": null,
            "grid_template_areas": null,
            "grid_template_columns": null,
            "grid_template_rows": null,
            "height": null,
            "justify_content": null,
            "justify_items": null,
            "left": null,
            "margin": null,
            "max_height": null,
            "max_width": null,
            "min_height": null,
            "min_width": null,
            "object_fit": null,
            "object_position": null,
            "order": null,
            "overflow": null,
            "overflow_x": null,
            "overflow_y": null,
            "padding": null,
            "right": null,
            "top": null,
            "visibility": null,
            "width": null
          }
        }
      }
    }
  },
  "cells": [
    {
      "cell_type": "markdown",
      "metadata": {
        "id": "view-in-github",
        "colab_type": "text"
      },
      "source": [
        "<a href=\"https://colab.research.google.com/github/DL4CV-NPTEL/Deep-Learning-For-Computer-Vision/blob/main/notebooks/Week_8/Week_8_Lecture_4.ipynb\" target=\"_parent\"><img src=\"https://colab.research.google.com/assets/colab-badge.svg\" alt=\"Open In Colab\"/></a>"
      ]
    },
    {
      "cell_type": "markdown",
      "source": [
        "# Lecture 4: Video Understanding using CNNs and RNNs \n",
        "\n"
      ],
      "metadata": {
        "id": "5p8aGbdxc1Nz"
      }
    },
    {
      "cell_type": "code",
      "execution_count": 40,
      "metadata": {
        "colab": {
          "base_uri": "https://localhost:8080/",
          "height": 539,
          "referenced_widgets": [
            "00f06d4edc3440aa8cc284d4503fda1c",
            "73ec2d762ac348608267eca85e04b2b9"
          ]
        },
        "id": "W5BZQI44cxz_",
        "outputId": "646e601c-41ab-4702-baa2-ebf92d068cab",
        "cellView": "form"
      },
      "outputs": [
        {
          "output_type": "display_data",
          "data": {
            "text/plain": [
              "Output()"
            ],
            "application/vnd.jupyter.widget-view+json": {
              "version_major": 2,
              "version_minor": 0,
              "model_id": "00f06d4edc3440aa8cc284d4503fda1c"
            }
          },
          "metadata": {}
        }
      ],
      "source": [
        "#@title \n",
        "from ipywidgets import widgets\n",
        "out1 = widgets.Output()\n",
        "with out1:\n",
        "  from IPython.display import YouTubeVideo\n",
        "  video = YouTubeVideo(id=f\"P84OW5GovBE\", width=854, height=480, fs=1, rel=0)\n",
        "  print(\"Video available at https://youtube.com/watch?v=\" + video.id)\n",
        "  display(video)\n",
        "display(out1)"
      ]
    },
    {
      "cell_type": "code",
      "source": [
        "#@title \n",
        "from IPython import display as IPyDisplay\n",
        "IPyDisplay.HTML(\n",
        "    f\"\"\"\n",
        "  <div>\n",
        "    <a href= \"https://github.com/DL4CV-NPTEL/Deep-Learning-For-Computer-Vision/blob/main/Slides/Week_8/DL4CV_Week08_Part04.pdf\" target=\"_blank\">\n",
        "    <img src=\"https://github.com/DL4CV-NPTEL/Deep-Learning-For-Computer-Vision/blob/main/Data/Slides_Logo.png?raw=1\"\n",
        "  alt=\"button link to Airtable\" style=\"width:200px\"></a>\n",
        "    </div>\"\"\" )"
      ],
      "metadata": {
        "colab": {
          "base_uri": "https://localhost:8080/",
          "height": 100
        },
        "id": "bJQjZzwxdQch",
        "outputId": "243f5ef2-d1cf-4a1c-fd2a-614d810040c7",
        "cellView": "form"
      },
      "execution_count": 41,
      "outputs": [
        {
          "output_type": "execute_result",
          "data": {
            "text/plain": [
              "<IPython.core.display.HTML object>"
            ],
            "text/html": [
              "\n",
              "  <div>\n",
              "    <a href= \"https://github.com/DL4CV-NPTEL/Deep-Learning-For-Computer-Vision/blob/main/Slides/Week_8/DL4CV_Week08_Part04.pdf\" target=\"_blank\">\n",
              "    <img src=\"https://github.com/DL4CV-NPTEL/Deep-Learning-For-Computer-Vision/blob/main/Data/Slides_Logo.png?raw=1\"\n",
              "  alt=\"button link to Airtable\" style=\"width:200px\"></a>\n",
              "    </div>"
            ]
          },
          "metadata": {},
          "execution_count": 41
        }
      ]
    }
  ]
}