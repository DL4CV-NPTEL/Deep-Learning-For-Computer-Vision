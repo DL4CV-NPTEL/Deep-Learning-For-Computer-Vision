{
  "nbformat": 4,
  "nbformat_minor": 0,
  "metadata": {
    "colab": {
      "name": "Week_8_Lecture_3.ipynb",
      "provenance": [],
      "include_colab_link": true
    },
    "kernelspec": {
      "name": "python3",
      "display_name": "Python 3"
    },
    "language_info": {
      "name": "python"
    },
    "widgets": {
      "application/vnd.jupyter.widget-state+json": {
        "daad4b777c2e47f489966da88efe5adb": {
          "model_module": "@jupyter-widgets/output",
          "model_name": "OutputModel",
          "model_module_version": "1.0.0",
          "state": {
            "_dom_classes": [],
            "_model_module": "@jupyter-widgets/output",
            "_model_module_version": "1.0.0",
            "_model_name": "OutputModel",
            "_view_count": null,
            "_view_module": "@jupyter-widgets/output",
            "_view_module_version": "1.0.0",
            "_view_name": "OutputView",
            "layout": "IPY_MODEL_9790ae0addad4e0b862cbab05a53bc96",
            "msg_id": "",
            "outputs": [
              {
                "output_type": "stream",
                "name": "stdout",
                "text": [
                  "Video available at https://youtube.com/watch?v=4vryB1QhBNc\n"
                ]
              },
              {
                "output_type": "display_data",
                "data": {
                  "text/plain": "<IPython.lib.display.YouTubeVideo at 0x7f2eac52d7d0>",
                  "text/html": "\n        <iframe\n            width=\"854\"\n            height=\"480\"\n            src=\"https://www.youtube.com/embed/4vryB1QhBNc?fs=1&rel=0\"\n            frameborder=\"0\"\n            allowfullscreen\n        ></iframe>\n        ",
                  "image/jpeg": "/9j/4AAQSkZJRgABAQAAAQABAAD/2wCEABALDBoYFhsaGRoeHRsfIislIyIfICctJyctLjM6Mi0vLis1QFBCNURLOi0tRmFFS1NWW1xbMkFlbWRYbFBZX1cBERISGRYZMBsbMF8/Nz9XV1dXV1dXV11XV1hXV1dXV1dXV1dXV1dXV1dXV1ddXVdXV11XV1ddXV1XV1ddV1dXV//AABEIAWgB4AMBIgACEQEDEQH/xAAbAAEAAgMBAQAAAAAAAAAAAAAABAUBAwYCB//EAEsQAAIBAgMCCwUFBQUHAwUAAAABAgMRBBIhMVEFExQXIkFSU5GS0jJhcYHRBqGiscEjM0JjchVUYpPhFkNzgrLC0zSz8AeDhJTx/8QAGQEBAQEBAQEAAAAAAAAAAAAAAAIBAwUE/8QAIhEBAQACAgMAAwADAAAAAAAAAAECERITAyExQVFhBCKh/9oADAMBAAIRAxEAPwD5+AAAAAAAAAAAAAAAAAAAAAAAAAAAAAAAAAAAAAAAAAAAAAAAAAAAAAAAAAAAAAAAAAAAAAAAAAAAAAAAAAAAAAAAAAAAAAAAAAAAAAAAAAAAAAAAAAAAAAAAAAAAAAAAAAAAAAAAAAAAAAAAAAAAAAAAAAAAAAAAADsObjG97h/PU9A5uMb3uH89T0AceDsObjG97h/PU9A5uMb3uH89T0AceDsObjG97h/PU9A5uMb3uH89T0AceDsObjG97h/PU9B5l/8ATrGL/e4fzT9AHIg63m8xneYfzT9I5vMZ3mH80/SByQOt5vMZ3mH80/SObzGd5h/NP0gckDrebzGd5h/NP0jm8xneYfzT9IHJA63m8xneYfzT9I5vMZ3mH80/SByQOt5vMZ3mH80/SObzGd5h/NP0gckDrebzGd5h/NP0jm8xneYfzT9IHJA63m8xneYfzT9I5vMZ3mH80/SByQOt5vMZ3mH80/SObzGd5h/NP0gckDrebzGd5h/NP0jm8xneYfzT9IHJA63m8xneYfzT9I5vMZ3mH80/SByQOt5vMZ3mH80/SObzGd5h/NP0gckDrebzGd5h/NP0jm8xneYfzT9IHJA63m8xneYfzT9I5vMZ3mH80/SByQOt5vMZ3mH80/SObzGd5h/NP0gckDrebzGd5h/NP0jm8xneYfzT9IHJA63m8xneYfzT9I5vMZ3mH80/SByQOt5vMZ3mH80/SObzGd5h/NP0gckDrebzGd5h/NP0jm8xneYfzT9IHJA63m8xneYfzT9I5vMZ3mH80/SByQOt5vMZ3mH80/SObzGd5h/NP0gckDrebzGd5h/NP0jm8xneYfzT9IHJA63m8xneYfzT9I5vMZ3mH80/SByQOt5vMZ3mH80/SObzGd5h/NP0gckDrebzGd5h/NP0jm8xneYfzT9IHJA63m8xneYfzT9I5vMZ3mH80/SByQOt5vMZ3mH80/SObzGd5h/NP0gfUwDAGQYKb7Q8MTwqpqnFOU76yvZWt9TLZJur8fjy8mUxx+roELgnGvEUIVXHK3e66tHbQmCXftOWNxtl/DJrq9RsNdXqNYj1a8YOCk7OcssdHq7N28EzxicZCk0pZnKV2owjKUmltdop6arX3kXheWV4aTTyxrpyaTdllkr6fFGvHVaM3Coq1SlJKSjUjB7NLxalFrqWm3TQOmOEuqlVuE6VNJzc0mk0+KqNdLZqo6P3bT0uEKV4JuUXUk4xUoTi20rvRpEHGOrUwMHOL4xyouSSfeR1t1aa26jZwzhpVZ0lFdJKpKLa0UllcG/mkZ7XMMPl/v8AxNeKhxqo5v2jjny2fs3te+zabjn8lSdTj2p0p1KVazcG5U0signHbfRu3vZY8EVXKnK6lpKyk5TkpaLWLlrb9biVmfj4zcTwAa4gAAAAAAAAAAAAAAAAAAAAAAAAAAAAAAAAAAAAAAAAAAAAAAAAAAAAAAAAAAkGDJgCu4VxU6fsO2l9nxKN8LupN069KnWhfS6s0W3Duz/l+py6/f8Azf5Hn3yZdmU3+Xp/43jxyw3Ys8Lw5VlJRioU4KyUYx0SujouD60pwvJ3en5HF8He34fmjseCf3S+X5I3xZ5XyyWp/wAzx44T/WJxrqK5sB97zmjK9xnKzcANGR7jOV7jceJ1FG12ld2V3te5AeMr3DK9x6VaLllzLNuvrpZvT5rxR5eLpqfFupBT7OZX8AMZHuGR7j1HEQeycX0nHRr2le6+Ks9PcZp14SUXGUWpaxs0723bwPGR7hke42zmoq7aS9/v0RkDTke4ZHuN5gDTke4ZHuNsJqSummt6MVasYRcpyUYra27JAa8j3DI9xuTvqjIGjI9wyPcbjxGtFylFSTlG2ZJ6q+y6A8ZHuGR7jeeJ1IxcU2k5Oyu9r22XyTA15HuGR7jc2eaVSM4qUWpRaumndNe5ga8j3DI9xuNccRBzdNTi5xV3FNXS96A85HuGR7jcZA0ZHuGR7jcealWMFeUlFXSu3ZXei+8DXke4ZHuNxkDRke4ZHuN5gDTke4ZHuNkKkZXytOzadnsa2oQqRlfK08rs7PY9zA15HuGR7jeealRRTlJpRWrbdkgNWR7hke42wkpJNO6aumutHoDRke4ZHuN55zq+W6va9uu3/wAYGrI9wyPcbgBpyPcMj3G4xKSVrtK7sviBqyPcMj3G4yBoyPcMj3G8AaMj3DI9xvAGjI9wyPcbwAMGTzJXTV2vetoFfjo0ajyyqWfs6b9fqQ6HB+DhPM5Ocm9M17K+i0SLXkr7yp4r6GeTfzJ+K+hPXhvenSeXOTUqnjwZhFLPCo4rTRO62rfqWuBdNLJCea3ielhX3lR/OP0CwrTT42o7e+Ov3CePCXlJ7Zl5M8vWV2kGTBkpAYMmAIOGp11Xk5v9nZ26V769Gy6rLQ0cL4OtWl0MqVOOaDmm71L3TVnpbKtf8TLCGIhKbgpdJdXw0dt+pDx/Cqo1Mjyexn6VTK5atZYK2r0+9AasJh6nKXVlBxjKUnq1penSXU98ZL5HnEYKq6tWXSdN1acnBZenFRjqntTUknt1y26ye8fSV801Fpap9WzT46rxRmOPovLaonmbS+Ts77tdNevQCpo8H1YVKTUOhKtUnPVdF/tFGXvzKUV8l7zxh+D69KNOMYuMVRbvHK3TqNRUopXW1py+LlrsLaXCNJOKze1PItHts3r8ltMx4QpXUZTgpt6JSvtk4rX3tNfHQCPUpVamEUXGSqZo6Zruymne79yuabYlSpxyzdpu8sys4cY1qv6LO+353LKhi6dRtQkpNbbfU1LhOhmy8bG97Wv13y/np8dAK+cMY4K7ksssjtlcpKMXapZNe1Jp29y0tcmY2lOUsNJZ3kqXnlaWjhJaq+y7Ru5fR6X7SPR2+NtN+umnXoeMJwlTqwzXUenKNm91R04v5uP3gVtPDYqnDLFzy2hdXi2ulPMo2aezJ17NmpNxOHqVKFGLcnNTpOT0i9Gszdmb8Pj4TyptRnK/R+bS8cr8HuM1cbCE3Gcoxso211blmssv/K7b7PcBX06eKk4pupHVcY7x231ybo2/OPXcxxOLu3mqbajSvG2lX9mvhxf+upa8ohxaqKV4NJpx1unsattMqvDLGeZZZWyu+jvs8QIfCfHacUptZZWyOKefTJe/Vt/U94KjOmqzldylOUkr7dFs3G7llK6WdXd7btL312fwvT3M01OE6eRzpyjNJP8Aite0XNW33S8NQPHBfHZKnGRlHVZFNpu2VX1/qvtKqOCxFSOFzxrcZCopVZSnG18k03Cz0V2tm9e8uqXCEHmzdG08ivseie3q9pI88I49UHTT4tZ21epPJFWV9tmXjncfgqKUcffD5o1M0VTVR54uMk0891e107dTZ5wtDHpUs2dZeT3SlC1teO0Xy/QsY8MrOoum0nS4xNvr6Vo/NQk0zL4ZSdROm1kjGUXf2rqLkvdbPHxL7v5Bq4cjiXJcSqjjxU8vFySaq3WRyu1dWv7t5u4Iwk6c8TKomuMq5lrdNZIptbtU/Am18RGnbM0k73bdti6l1nrj45M+uX4O/htJ7Lx4jnp4fHcXC86t5OrnyuLlF3fFNJNXVuq+1q+h5oVcZUq1eLlNyhUqxvNx4tLi1lVt+dp/C50MsVTVNVHJZHaz33dkl722lbeanwhSjdylGKvprq+jm1VtHa7+CL7v5BSOnjeIslWcnr7SUoyyb8+qcvfZbmjKwuKvVeSbqTeHldyi4aZOMVm9ukuouMXwpSpxnaSlOMJTyp7bK+34NeK3kiniISk4KScltXw2+HXuM7r+oOZxcsbRpOpOc0nGSleUXq66VNLdeDav1X12FnwLXlUwk3mlKopTTzO9ntjFPY7JxV/j13JscdTaanaN5ygr7HaWXb73bxMvG0IJdOKTSkrbndp6dWj19wy8u8da/IpqWHxyytyqNrk7d5xtdt8fdfC2ngeIQ4QyS/eZskeMvKPSnxizcVrosmbdtXXc6GGJpyz5ZJ5G1K3U1tTNVXH0oxk1ODa3ysr5c6TfV0dfgO6/qCgjQxtKFRUoVFn5S4rNC+aUk6Tbb3XM1cHjIzquCnGM6lSV4OLk5OEFCVsyurqWjdt6sW9XhilGUVrZ1XSk3dZWoSlf3+zb5krEYynTpqpKSyNpJrW+bZ+Zvff1BB4LjiFXrcbncHrFya37ElJrZ1q3v1NFahial4tTtdOTzRtdVYuOS3VkUr/LrLXldK8Y51eSulvTvb8n4GifC1BRU4zjOLlGLcWujm0TfuvocssuV2McKU60klRclaM/ZaV5Zehe/vIs1i1ObvLamklGzjmjsd9uXP1b/cWvHwyKoneDSaa1unstbaapY+krdNO8c2l3prrps2PwJEGKxPSnJVNI1LQUoK7c5ZNVf+Gx74PpVuMjOrGStGrHpNXs5pw6+yvqSqGPp1HG0laUYuN3aTzZtMv/ACvwe4T4RoqLlnulBz0Td0lfTfoBCr08VmqOEpa51FNxsl0ctlv9q33mvisQnnXGykoPLqkm4yclGSbe1aX8bFguEKe1ySjaLW3M81/4bX/hfg9x7hjqMpqCqRcnsSe26zK3/Lr8AKyMcXf9pncE1myOKlLMnJ290W4x32TMcmxkqd5S/aqcMuazhG0FmlZbelf/APheADXhm+LhmUk8qupNNp9d2tH8jaYMgAAAAAAAAAABg8zqxj7Ukvi0iDwvjZUopQ9uTsv9PeyLSwtOkpSqWqVlZtSvZXtbLvtv/LYTy96itetrqMk9juCoxdR0c9ShaUYa1KdtLf4X1NbthZYXExq041IezJXX0ZRcfW24ABIYMgCLRwFOFV1FfM77Xoru7suq7MYjAQqSm5N3lBR06rNtSW5pu/yRLAFTW4HXTlCXTlJO7jG6eaMpO9r/AMN7bPutsXA8M0ZuTck223GDveWbrWlnssWQArKHBChZ8bUc1KLzSyt9FOOumt1J3M/2RDXpS1cH1f7uq6q6t8rfAsgBV8DYKrQTjNpxsuu7utztpG1rI2rguFrZpde7rnxm7eTwBW/2PHT9pPo6U/Z6CzKVlprrGK16l8zzDgWKt+0qe1nl7PSfGuru06TezqLQAV1LginGpGom7reovY21ra69p7DbUwEZVlWblmWXTS3RU0v/AHH4ImACEsAlh6dCM5pU4wipK12o22/G2plcHxWGWHzSsopKWmZNaqS0tdNJ7OomACtlwRFyg888sEko6W0i47v8XiZlwRBq2aWy3V2HT3bnf4liQOFeEo4eCds05O0Y3st12+parxQGuvwPGf8AvKiTlmaVrN9Hqt/gXiyXXwsakoSlrlzK2lnmVncqqfDNWPSqKEqe1uCacVv1bzfd+heJ3NuNn1txs+q6pwPCUJRc6nSpxgpXWaORycWnbb0uvbb4itwPTnGUXKavKMrq11lio2WmxpWfxLIGMRsXg41bXdrKS2JrpKzumtTWsBagqKqTWt8yevtZrfDqtu0JoAhR4PisPxF2475KLvrfVWsa4cEQSXTm7dbau+hk3bmWIAo/7GnxlRZlxdSLg3e7UHBR6KtpK8Y3ezTwn4Xg2FKpOpHbJyeyO2TzS6Vr7eq/6E0wBX1uCYzafGTSU+Mypqzamprq3q3wNMeBIyj09JZpSt0ZJKWmXpK1kkvgeuFOFuJkoQSctLylfLHM7R0W1t9WnxPOB4Vm5xhWUHm0jOF0m9zi27e53ZXG62rjdbWOHw6pppXd5Slrvk23+ZXw4BpKLipTs6cqe1bHsezaleK9xamSUoEuDIuak5y0qOolpZOUJQfVe1pNm14JcRGipSSiopS0v0bWe7qRKAFbW4KU5wm6tTNDLZvI9Ytu+q0vfW25HinwNly2rVNFTWyH+7bcer/Ey1AEJYC2HjRVSay26aspaO9nZW6rP3HjDcFqlZRqTtlyyXR6Vm3u09p7CwAFY+B4uDi6lS7hCCmsqlHi23FrS1+l9x6nwRBzvnnlUXGMNLRTjkstNNPvLAqMbww1VnRoqLnBLPKd7JyvZJL2tjvqvpslvqNkt9RI/svWM+NmqkVFKVo/wqS2Wtsm/BChwVCm4uMpdGakrtbVT4vXTc7/ABNWB4UlKcadZRTl7M43s2ldpxezRPrezxtRZZ6pZZ9AAYwAAAAAAAAAAAAAU/DELVqFR+ypRTe7pJ//AD4GjhWjUk5JVLuKV5NWS3K68fn72XdalGcXGSvF7UyNNcXDJNTqRtpli3L4O35k61VzL4h0E4UamebWWLzRcEuprq/Tdoa/sgmsK92d20S6lfRe+5jG08TjHxap8Th/4pVLZpfCH13lxhcPGlTjTgrRirI1WV1jr81uABrkAAAAAAAAAAAAAAAAAAAAABR/aTAyqqnNLNGGk1a7tmjK9uv2LfP3F4YezTabLpsunGUKUmpU6ElOUpNxUVpHNJvV9Ss/u0OwoU8kIxvfKkvBWKf7MRxSjX5TUjU/bTs430d+ktercXhWWXJuWXIABCQAAAAAMGTAHNcPYN8ZKUl+znOnNyauk4Wunuuoqz2bTTwVhJTnGEHmhGpnckujFKbmkn1vYrHT4hTyS4vLns8ubZfquVn2XjXWEjyioqkrytJXu1frv77/ACsXzutL53WluZMGSEAAAAAAAAMHIcK8HOniatSdlGbhKnNrRWk5STfU9be9W952BE4TjVeHqKjKMaji1GUr2Xv0KxurtuN1VHwbSqVq1NqzpweaU1sutiT623u6jpys+zjqvA4d1pKc3Ti8yvqmrxvfrta5ZjLLldtyy5XYACUgAAAAAAAAAAAACJjqVSSjxUsrTbe56PTxIywNbJO9SWZq0UpO17Kzb+Ny0BFwlu1TKxWTwlVSnlbtplvUl1WvfwZYwbaV1Z9avf7z0DZjpluwAFMAAAAAAAAAAANdWrGCvJ+5b29yXWbCHiP30PdCX5ozK6m2W6j3yv8Alz8F9Ryv+XP8P1MA49lRyrPK/wCXP8P1HK/5c/w/UwB2U5Vnlf8ALn+H6jlf8uf4fqYA7Kcqzyv+XP8AD9Ryv+XP8P1MAdlOVReD6nFcbxkZRUqs5JvZZvS7WwsyLFbfibMF+6h8LeBeGW1Y3b1VrRha71exJXb+SNfLP5dTwX1PE/30vdGK/M9GZZ2Vly9s8s/l1PBfUcs/l1PBfUwCeys5Vnln8up4L6jln8up4L6mAOynKs8s/l1PBfUcs/l1PBfUwB2U5Vnlf8ufgvqQuA8VHk9NO8buSV1o+k9L7CYis4LV8F/m/wDXI2Z05VeGqriFF21cn1Ja/wChsg7xT9xEj+8q/wBSX4V9TpllqKt1GzlT7uf4fqOVPu5/h+pgHLsqOVZ5U+7n+H6jlT7uf4fqYA7Kcqzyp93P8P1HKn3c/wAP1MAdlOVZ5U+7n+H6nmeJbi1xc9U+z9TIHZTlWjgifF4fD0aicZxpQi9zcYpOz+RYECv+7b3JP5rVE86YZbXjdsgAtQAAAAAAAAAAAAAAAAAAAAAAAAAAAAAAAAQsRfj4/wDDl+aJpDr/AL+P9EvzRGfxOXxnXf8AcLPf9xkHByYTMmI7Cq+0dZ8TGhB2qYiapJrak9Zv5RT8RJtq1Y193gVP2dqOMKuGk254eo4Xbu3B6034O3yLcWaGNd68BrvXgZAY8pPf9xWYnC46eGkqGIpRbXQXFSUlrp08/wB+X5FqesF+6idPH9XgqKWHxqdpYig5qEc0nQk7vXZaa/I28RjP7xQ//Wl/5SdL99P+mP6nonK+2W+1ZVjjIRlPjqE8qby8RKN7a2zcY7eDLChVU4RmtkoqS+auecT+7n/S/wAjVwV/6Wh/wof9KM/DEorKdfE1050nSp08zUc8ZTlJJ2zO0kle2zXQ3YrETjKWXVK2ijd7G9/uS+ZGwtSdOChFNQja2eG28tVt95PKT0qY3W27isb32H/yJ/8AkHFY3v8AD/5E/wDyFgCtpVzo43+8Ydf/AI8//IaKeAxdKhkWIouMYvV4eV31tv8AadepcHiv7Ev6X+Q2bVnCGD4RnRiqOKoqd4tONGUGl16ucvC2pOwsaizqpKMpprNJRsm8sdbXdifT9mPwRFj7dX+r/tidfJ8Xl8QOGMZWoKlOnDjI8YlVWy0Hpmv1WbRYO6PRiexnFDIBzf2ipyxVeOFhNw4qnKs2nbp7KS8bs2TZHR6jXevAicE45YnDUq3XOKzLdJaSXyaZMMYxrvXgYs9/3HoAaMWnxU7NJ200/wBSDwlguEp8VxWKopqonJqjKPRs73vOWb4W+aLDE/u5fAnHXxumDFNNRWZpytq0rJv4dR6AOqwAAAAAAAAAAAAAAAAAAAAAAAAAAAAAAAAh1/38f6JfmiYQ6/7+P9EvzRGfxOXx6FzzFGcq3HByYi9CsxvA0cTio1K6jOjCm4wpu/tSd5SfySRaWW4zYS6aqcJwLHD4rjcOo06UqeSpBX1ad4yX3r5lsALdgAAwPeC/dRPB6wX7qPwOnj+rwa5fvp/0x/UxKtFOzlFP3tGKztUqtdUE/wAyu4K4OoPDUZSo05SlTjKUpQi3JtXbbe3UnL7WX6nVa0HGSzw1TXtIicDYym8JQXGQvGnGMlmV4yikpJ/Bokf2bh+4pf5cfoZ/s6h3FL/Lj9DPTGrG1aOSc70HNRdnUlHLfqu+pEP7M0KjwsJYmFOU7txnGKu4vVN6Kz/SxZRwFFO6o00/dCP0JA36NgAMYHiv7Ev6X+R7PFf2Jf0v8gJVP2Y/BEWPt1f6v+2JKp+zH4IifxVf6v8AtR28nx0y+NlzEtjCitwstxxcxMp6X2epTqVquKhTrVKlRtNx9mNrRir7ki4sjIl01X8E8G8l46EWuJlPPTgv4LrpL4X2FgALdgAAxqxP7uXwJxBxP7uXwJx18bpgyADqsAAAAAAAAAAAAAAAAAAAAAAAAAAAAAAAAIuKoycozhZuKacW7XTt179CUYMs2WbVuHxLnDNGnUau1/DtTafXvTNueXdVPw/U88CfuP8A7lX/ANyRPI64jhELjJd1U/D9Rnl3VT8P1JoHXDhELPLuqn4fqM8u6n+H6k0DrhwiFnl3VT8P1GeXdT/D9SaB1w4RCvUeiptPfJqy8G2SqNPJFRWtlY9mSscZFSaQ8ZSl0pxV7xs116Xs14kPgiUuSYf9nN/sobuyveW1T2X8CHwL/wCjw/8Awof9KMuErLjKzml3c/u+ozS7uf3fUmAzrjOEQ80u7n931GaXdz+76kwDrhwiHml3c/u+ozS7uf3fUmAdcOEQ80u7n931MSjOacVFxT0cpW0XXZJ7SaB1xvGCWhX49uiqlW2anlzTS2qy1a36L7iwInC6vhMQv5U/+ll2bbZtrjWk0mqNT8HqM8bPuan4PUS6HsR/pX5GwjrieEQONn3NT8HqHGz7mp+D1E8DrhwiBxs+5qfg9Q42fc1PweongdcOEQONn3NT8HqHGz7mp+D1E8wOuHCIOSdRpODhG6zOTV3bqSVycDJUxkVJoABTQAAAAAAAAAAAAAAAAAAAAAAAAAAAAAAAAo/tDwg6fRvJQUc1RwdpWbsknt3vTXRF2QOE+D+NcJxtxkNmbY1ue73Pq13mzW/bMt69KSjiuKiqsJOLWsoZ3JPTM4vqvbrXX1vr6pO6KKjwNOTUakKcKaabUXdu3UtFZdXw8S9Kzst9I8csntkAEOgAAAAAAACh4axcs043ap0opyUZZXJ7Xd7kuq+t9SLwdjcuScHJQk4pwcm+jJ5Yys/ZfXp70/da8JcGupLPDK5NJSjP2ZWd079TXwNGD4JlnUqihCKebLB3cpJ3Tbstj1+P39JceLlZlyXJkwZObqAAAAAAAAwctjuEXUxDhPNlvJQSnaNoNqUpW2u8dj+WxnUlNjOB3xkp04wkpvM4y0alvTs970973lY2b9ozls9NXB2KdOtCmpOUKl1lbbytJyum+rotW+BfFVwfwW41FVqKKlFPLGOqV9rbsrv6vaWoyst9GEsntkAErAAAAAAAAAAAAAAAAAAAAAAAAAAAAAAAADXKtBOzlFP3tGw1Uts/6v0QDlEO3HzIcoh24+ZETGznx0IQqOCcJydlFttOKW1PtM8ZKv8AeJ+Wn6Tln5scLqt0ncoh24+KHKIduPmRByVf7xPy0/SSODqkpQlnlmcZyjdpJtJ6bNBh5cc7qFmm7lEO3HzIcoh24+ZGwHVjXyiHbj4ocoh24+ZGwrMRiKkqk4xm4Rg7dFK7dk+tPTVBslt1E/lEO3HzIcoh24+ZEfg/ESlnhN3lC3Sta6ey636MmAs16a+UQ7cfFDlEO3HzI9zkoptuySu2+pFb/tHgf73Q/wAxBifyiHbj5kOUQ7cfMiB/tHgf73Q/zEQMf9s8HQqU1xiqQnfNKlJSyWta6XU7vwAvuUQ7cfMhyiHbj5kYwuJhWhGpSkpwlslF6M2ga+UQ7cfMhyiHbj5kV2IxGNpTk1Rp4ijfRU5ZasV8JaS8UeY/abCrStKeHl2a8JQ+96P5MCz5RDtx8yHKIduPmRVcIfajCUaLqqtCqk0nGnOLlq7XSvrbaTuDeE6GKp8ZQqRnHrttXua2oDfyiHbj5kOUQ7cfMjYealWMNZSjFe9pAeeUQ7cfMhyiHbj5kaavCeHgryr0or3zj9SDP7R0pdHDQqYqf8qPR+dR2ivEC05RDtx8Ue4TUldNNe5nGcG8CY/+0c9erUjh1+1yRrzlG7elO7te3X7jsKO2f9X6IDaAAAAAAAAAAAAAAAAAAAAAAAAAAAAAAAAAAAAAAAAAABqpbZ/1fojaVuIr1oVP2cM8G+lpre8ev4ZvFPqA24vDVJVIVKbhpGUWpX63F9X9Jr4nEfyfGZinjqzUf2DUnbbmsk3Zt6dW4LFV5wquNPJJReTNF2b0s7fP7jnl4sMruxu2eJxH8nxkSMDQlTg1NpycpSeW9tX7yHHHYhuzo5ddW03pns9nu+pmPCFdrXDSWuy97+C00e33NbjcfHjj7kNrQETB1qsnNVIZbNWfU01+j0JRbAhYjAOU3OE8jftJxunbrtdanieIrxqS/ZqVPMoxte+xa/nq9x5WMxFk3R6tVZ3ej09zul4hsuviXhMKqSerlKTvKT6/l1I3lasdX0bw8l1Zdu/r+KWr6miZhKsp01Kccsne613+8MbjxxEOxHyo9kHG4mtCX7OnnjZO6Wy2jXx1i18JAS+Ih2I+VEHH8BYbE1Kc61NS4u+WP8LvbauvYHja23irbbrLJvqtrbXS7+VtpKwlWc43nDI+pdewDdCKikkkktiWxGTJqrV1C17tydkkm2+vqArsRhcZWqSTrxoUb9HiY3qyXvlLSPyT+JiH2bwm2pTdeXarzlUf4nYn8upXtxkevrXVtMSx1JNJzSb/AFTfy0TAgY/7NYStRdJUadJNpt0qcIy0d7JpaXtYm8H8G0cLT4uhTjTj7lq/e3tb+J6WPo2vxkbJXevVsM08ZTk1GM05NtJdbtt/J+AEgj4zA0a6Ua1KFRJ3SnFNJ/MkACpqfZnASVnhKPyil+RqXAMqKXI8TVo22U5ydSl8MstV8mi1q4iMZKLvdq+ieiXW31I8xxtJtJVI3fv99vzA5Pg37W1pcI8RXjFUn+zzQUsmdP2k2r2ezwOvo7Z/1foj3FppNWaeqPFHbP8Aq/RAbQAAAAAAAAAAAAAAAAAAAAAAAAAAAAAAAAAAAAAAAAAAI8KsU5pySebrfuRtqVFCLlJ2jFNt7ktpGWOjFJ1VxSavHM1ey23S2W08QN/KIduPiiunXrK2WcLJzbeZO6bbhZe7QkT4UpXiovO3fZ1aN632dStt1RIw+JjUV4XtrtTWx26/gBApVazknOrTUXZtLLppdq/x0+Fiw5RDtx8URp8IpJzyPi1LJmutXmy6Lbt/Iy+E6Nk1OLWl2nsurr43utPegJHKIduPihyiHbj4o0x4RpNtZrNSy6xa1092zVa+88vhSjeKUr5na6vpss/hqtfeBDqTrKTcKkdZPbNNdbi7P2UtE9/3np1MRaX7anfW1nG21W230tcnUsfSnJRhNSbvZL3Wv+a196NFfhSMOk4vJmlFS01lBNtW3dGSvvXzA0RnXX+9g9dbyjvbts2WaW/TaS8JWajarUhKW9NblfZ77/Kwq8JU4NJvVyyvT2dG7v3aWv7yWBr5RDtx8UVlTjY8Y6daOrWVSndLbtv8tm9luAKitKu9FWik82qlFNXWlnbq/XabsJUqKX7WrBxWayWX3W/UsQBr5RDtx8Ua6zpTtmktHdNSs180yQAIXJ8NZroa/wCL/X3Iw8Nhm3J5W2rNubbelt+4nACC8LhnHK8tv63+dz1TpYeMlKOVSWieb/X3vxZMAGvlEO3HxQ5RDtx8UbABGrKjNpylF2TXtW0e1Oz1XuZHngcM1JZvaVn07/Hb1u712liANfKKfbj4oxQknnad1m6vgjaAMgAAAAAAAAAAAAAAAAAAAAAAAAAAAAAAA5F/aDEb4eU8v7RYnfDyldM8MykWMvtJid8PKR6H2pxck7uGj7HuRAqvR/Aq54tU4WWsm9F9xk2p0z+0+K7UPIP9p8Vvh5DlqeDxdWV7TXXfYj1OniqCcprNFG2Vm46b/ajFb4eQ8S+1WLzWzQ2dj/UpMPXVSKkvmtxmT6S+D/NE+1ai6n9p8TJOMnTaas04aNEaXDda1nllo0s2ZtJ2ejbvtjHwK/ceTdmn0SnSw2ksyv0XrN7Vld7X29CPgb6FSjTioxqKyVknNv8AN+8pYYOrZfs5bNxnkdXu5eBSFsoYdN2mtXmtxjyp70r2Wrb0PMqOFcct4pWa0m1o7X2P/Cir5HV7uXgRVwXiUlbNdXV8t9P4dvw1+IF7Khhn/Ela9um7K9uq9rXSdtl0YpYfCwikpRdraym29HFra/8ADHwKP+zcV1uVv6bdfw3CfBWIdOMelmjfpWeujSvb4gdDh1h6XsSitLazvpu1Z44rDXbzR1bdnN2Tbu7K9lfrsUj4Mr8bGeWVkkrWfVf6rwPOJ4MrzbtGUdNHZ7pL/uT+QF5Tw+Fjezjq7u8277Pf/hRL5XS7yPijmnwXWtNRjJZnf2Xps/1M4fg6vFu8Zvbq1tvKT+5NIDpOV0u8j4ocrpd5HxRRcjq93LwHI6vdy8AL3ldLvI+KHK6XeR8UUXI6vdy8ByOr3cvAC95XS7yPijPKafbj4ooOR1e7l4G7ktTsS8ALnlNPtx8UOU0+3HxRTclqdiXgOS1OxLwAueU0+3HxQ5VT7cfFFNyWp2JeA5LU7EvAC55TT7cfEcpp9uPic5W4Oryk8qkleL6+pWaPU+D6z4xqLWZKy10a/IvjP2Oh5TT7cfEcqp9uPijnJ8GVpOTcX0nF21exq+tl1XXz6jxLgrEXbi5LWTimnZXf+i+82YY/sdNyqn24+KHKafbj4nPVcDiXJuN4x3Zdev8AWx5/s6vkaknKWa+qdnpaz+epnGfsdHymn24+I5VT7cfFHMrgmunfVvV2s0tVJf8Actu4k4fBVopqactdHbq6kxljJ8oveVU+3HxQ5VT7cfEpuS1OxLwHJanYl4EC55TT7cfFDlVPtx8UU3JanYl4DktTsS8ALpYmn24+I5RDtR8Sop4ap2JeB75PPsPwAtOUQ7UfEcoh2o+JV8nn2H4Dk8+w/AC05RDtR8RyiHaj4lXyefYfgOTz7D8ALTlEO1HxHKIdqPiVfJ59h+A5PPsPwAtOUQ7UfEcoh2o+JV8nn2H4Dk8+w/AC05RDtR8RyiHaj4lXyefYfgOTz7D8ALTlEO1HxHKIdqPiVfJ59h+A5PPsPwAtOUQ7UfEcoh2l4lXyefYfgasTg6s4OMVKLdtfg02vmtALnlEO0vEcoh2o+JR1MFWlGSyvNZJPVL3vTZ/obKGEqxzXi3eV1tellv8AmBzc2a2xKRrmzK2NVZ9GXwf5EPg3DZsXeavTyyfg7fqScRK0Wn1xuvGxK4IjGSebc18m7/oMW1P5fSbUI5lu00fwIGJxlNycU2/loTYYelCpKTleVut6LTYrlQsLeUnGejeqKrFZg+jiK0EtL/r/AKk2XtL4P9DPFqMpNdbuzxPbT96f6r9Ec79VHu54kZuJhr6rS9mPwR7PFL2Y/BHstzAAAAAAAAAAAAAAAAYBkAAAAAAAAAAAAAAAAAAAAAAGDIAAAAAAAAAAAAAAAAAAAAAAB81k7niW0Jm6hh5TezR9b2Ee7dRu9IGPn7C3RS/E3+pt4PquCjLq0T/5thOpcE0nPp5m5WejstD1j6EaeGcI5YyzZoq6u8r0+Ow7TxX7Udk+RHr5rO04qL7Sbv8AO5XUqrhdya91thKVebhek+i+prYVeNzPR7W0Ttae2aKt+jppF28b/U30lGasnqtH8ev8jxiKTSvtV1+ZOXjyhMpWJP2ffCP3K36GJvQ1RdntMynoQp9bpezH4I9nij7Efgj2dEAAAAAAAAAAAAAAAAAAAAAAAAAAAAAAAAAAAAAAAAAAAAAAAAAAAAAAAAAAAAAAAAPnfB+F42aX8K9r6FvOKvGyskmkjicN9q69KOWMKW293GV3+I9r7X4hW6FHT/DL1HXx3HGf1zzmVrroQ/ZqS2wb8HtKyvwQ61aVScld7LdS6kUcPtdiIppQo6/4ZeoL7XYhfwUvLL1HTsxTwydLHDKlO7TcXtyrW/wSNXCjoNZaVnK61tdr57/gc7V+1eIkrONJfBS+pFwvDtalKUkoScnfpJu3w1J54b23jk6DDcGSjLNqTlhrRfuOc/2txHYo+WXqMP7V4jsUvLL1FdmLOOSXwhh8jUl7L6txBlPQ0V+HatSLjKMLPcn9SI8ZJ9S+8+bOS3cdsbde33Wj7Efgj2fLo/8A1FxiSXFYfTT2J+szzj43usP5KnrA+oA+X84+N7rD+Sp6xzj43usP5KnrA+oA+X84+N7rD+Sp6xzj43usP5KnrA+oA+X84+N7rD+Sp6xzj43usP5KnrA+oA+X84+N7rD+Sp6xzj43usP5KnrA+oA+X84+N7rD+Sp6xzj43usP5KnrA+oA+X84+N7rD+Sp6xzj43usP5KnrA+oA+X84+N7rD+Sp6xzj43usP5KnrA+oA+X84+N7rD+Sp6xzj43usP5KnrA+oA+X84+N7rD+Sp6xzj43usP5KnrA+oA+X84+N7rD+Sp6xzj43usP5KnrA+oA+X84+N7rD+Sp6xzj43usP5KnrA+oA+X84+N7rD+Sp6xzj43usP5KnrA+oA+X84+N7rD+Sp6xzj43usP5KnrA+oA+X84+N7rD+Sp6xzj43usP5KnrA+oA+X84+N7rD+Sp6xzj43usP5KnrA+oA+X84+N7rD+Sp6xzj43usP5KnrA+oA+X84+N7rD+Sp6xzj43usP5KnrA+oA+X84+N7rD+Sp6xzj43usP5KnrA+oA+X84+N7rD+Sp6xzj43usP5KnrA+oA+X84+N7rD+Sp6xzj43usP5KnrA+oA+X84+N7rD+Sp6xzj43usP5KnrA+oA+X84+N7rD+Sp6xzj43usP5KnrA+oA+X84+N7rD+Sp6xzj43usP5KnrA+oA+X84+N7rD+Sp6xzj43usP5KnrA48AAAAAAAAAAAAAAAAAAAAAAAAAAAAAAAAAAAAAAAAAAAAAAAAAAAAAAAAAAAAAAAAAAAAAAAAAAAAAAAAAAAAAAAAAAAAAAAAAAAAAAAAAAAAAAAAAAAAAAAAAAAAAAAAAAAAAAAAAAAAAAAAAAAAAAAAAAAAAAAAAAAAAAAAAAAAAAAAAAAAAAAAAAAAAAAAAAAAAAAAAAAAAAAAAAAAAAAAAAAAAAAAAAAAAAAAAAAAAAAH//2Q==\n"
                },
                "metadata": {}
              }
            ]
          }
        },
        "9790ae0addad4e0b862cbab05a53bc96": {
          "model_module": "@jupyter-widgets/base",
          "model_name": "LayoutModel",
          "model_module_version": "1.2.0",
          "state": {
            "_model_module": "@jupyter-widgets/base",
            "_model_module_version": "1.2.0",
            "_model_name": "LayoutModel",
            "_view_count": null,
            "_view_module": "@jupyter-widgets/base",
            "_view_module_version": "1.2.0",
            "_view_name": "LayoutView",
            "align_content": null,
            "align_items": null,
            "align_self": null,
            "border": null,
            "bottom": null,
            "display": null,
            "flex": null,
            "flex_flow": null,
            "grid_area": null,
            "grid_auto_columns": null,
            "grid_auto_flow": null,
            "grid_auto_rows": null,
            "grid_column": null,
            "grid_gap": null,
            "grid_row": null,
            "grid_template_areas": null,
            "grid_template_columns": null,
            "grid_template_rows": null,
            "height": null,
            "justify_content": null,
            "justify_items": null,
            "left": null,
            "margin": null,
            "max_height": null,
            "max_width": null,
            "min_height": null,
            "min_width": null,
            "object_fit": null,
            "object_position": null,
            "order": null,
            "overflow": null,
            "overflow_x": null,
            "overflow_y": null,
            "padding": null,
            "right": null,
            "top": null,
            "visibility": null,
            "width": null
          }
        }
      }
    }
  },
  "cells": [
    {
      "cell_type": "markdown",
      "metadata": {
        "id": "view-in-github",
        "colab_type": "text"
      },
      "source": [
        "<a href=\"https://colab.research.google.com/github/DL4CV-NPTEL/Deep-Learning-For-Computer-Vision/blob/main/notebooks/Week_8/Week_8_Lecture_3.ipynb\" target=\"_parent\"><img src=\"https://colab.research.google.com/assets/colab-badge.svg\" alt=\"Open In Colab\"/></a>"
      ]
    },
    {
      "cell_type": "markdown",
      "source": [
        "# Lecture 3: LSTMs and GRUs \n",
        "\n"
      ],
      "metadata": {
        "id": "5p8aGbdxc1Nz"
      }
    },
    {
      "cell_type": "code",
      "execution_count": 38,
      "metadata": {
        "colab": {
          "base_uri": "https://localhost:8080/",
          "height": 539,
          "referenced_widgets": [
            "daad4b777c2e47f489966da88efe5adb",
            "9790ae0addad4e0b862cbab05a53bc96"
          ]
        },
        "id": "W5BZQI44cxz_",
        "outputId": "fa497cef-5b1c-4016-fe36-9101594789cc",
        "cellView": "form"
      },
      "outputs": [
        {
          "output_type": "display_data",
          "data": {
            "text/plain": [
              "Output()"
            ],
            "application/vnd.jupyter.widget-view+json": {
              "version_major": 2,
              "version_minor": 0,
              "model_id": "daad4b777c2e47f489966da88efe5adb"
            }
          },
          "metadata": {}
        }
      ],
      "source": [
        "#@title \n",
        "from ipywidgets import widgets\n",
        "out1 = widgets.Output()\n",
        "with out1:\n",
        "  from IPython.display import YouTubeVideo\n",
        "  video = YouTubeVideo(id=f\"4vryB1QhBNc\", width=854, height=480, fs=1, rel=0)\n",
        "  print(\"Video available at https://youtube.com/watch?v=\" + video.id)\n",
        "  display(video)\n",
        "display(out1)"
      ]
    },
    {
      "cell_type": "code",
      "source": [
        "#@title \n",
        "from IPython import display as IPyDisplay\n",
        "IPyDisplay.HTML(\n",
        "    f\"\"\"\n",
        "  <div>\n",
        "    <a href= \"https://github.com/DL4CV-NPTEL/Deep-Learning-For-Computer-Vision/blob/main/Slides/Week_8/DL4CV_Week08_Part03.pdf\" target=\"_blank\">\n",
        "    <img src=\"https://github.com/DL4CV-NPTEL/Deep-Learning-For-Computer-Vision/blob/main/Data/Slides_Logo.png?raw=1\"\n",
        "  alt=\"button link to Airtable\" style=\"width:200px\"></a>\n",
        "    </div>\"\"\" )"
      ],
      "metadata": {
        "colab": {
          "base_uri": "https://localhost:8080/",
          "height": 100
        },
        "id": "bJQjZzwxdQch",
        "outputId": "a44e2b20-4996-4e55-bbff-5c6f55ace1c6",
        "cellView": "form"
      },
      "execution_count": 39,
      "outputs": [
        {
          "output_type": "execute_result",
          "data": {
            "text/plain": [
              "<IPython.core.display.HTML object>"
            ],
            "text/html": [
              "\n",
              "  <div>\n",
              "    <a href= \"https://github.com/DL4CV-NPTEL/Deep-Learning-For-Computer-Vision/blob/main/Slides/Week_8/DL4CV_Week08_Part03.pdf\" target=\"_blank\">\n",
              "    <img src=\"https://github.com/DL4CV-NPTEL/Deep-Learning-For-Computer-Vision/blob/main/Data/Slides_Logo.png?raw=1\"\n",
              "  alt=\"button link to Airtable\" style=\"width:200px\"></a>\n",
              "    </div>"
            ]
          },
          "metadata": {},
          "execution_count": 39
        }
      ]
    }
  ]
}