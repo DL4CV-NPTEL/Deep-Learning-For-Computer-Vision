{
  "nbformat": 4,
  "nbformat_minor": 0,
  "metadata": {
    "colab": {
      "name": "Week_8_Lecture_2.ipynb",
      "provenance": [],
      "include_colab_link": true
    },
    "kernelspec": {
      "name": "python3",
      "display_name": "Python 3"
    },
    "language_info": {
      "name": "python"
    },
    "widgets": {
      "application/vnd.jupyter.widget-state+json": {
        "d566085ec66c49c7bc6d79be0fedf3d8": {
          "model_module": "@jupyter-widgets/output",
          "model_name": "OutputModel",
          "model_module_version": "1.0.0",
          "state": {
            "_dom_classes": [],
            "_model_module": "@jupyter-widgets/output",
            "_model_module_version": "1.0.0",
            "_model_name": "OutputModel",
            "_view_count": null,
            "_view_module": "@jupyter-widgets/output",
            "_view_module_version": "1.0.0",
            "_view_name": "OutputView",
            "layout": "IPY_MODEL_78fa71225c304f7ab7d8eb4dba4954f3",
            "msg_id": "",
            "outputs": [
              {
                "output_type": "stream",
                "name": "stdout",
                "text": [
                  "Video available at https://youtube.com/watch?v=I4_lyJVnpMg\n"
                ]
              },
              {
                "output_type": "display_data",
                "data": {
                  "text/plain": "<IPython.lib.display.YouTubeVideo at 0x7f2eb2844050>",
                  "text/html": "\n        <iframe\n            width=\"854\"\n            height=\"480\"\n            src=\"https://www.youtube.com/embed/I4_lyJVnpMg?fs=1&rel=0\"\n            frameborder=\"0\"\n            allowfullscreen\n        ></iframe>\n        ",
                  "image/jpeg": "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\n"
                },
                "metadata": {}
              }
            ]
          }
        },
        "78fa71225c304f7ab7d8eb4dba4954f3": {
          "model_module": "@jupyter-widgets/base",
          "model_name": "LayoutModel",
          "model_module_version": "1.2.0",
          "state": {
            "_model_module": "@jupyter-widgets/base",
            "_model_module_version": "1.2.0",
            "_model_name": "LayoutModel",
            "_view_count": null,
            "_view_module": "@jupyter-widgets/base",
            "_view_module_version": "1.2.0",
            "_view_name": "LayoutView",
            "align_content": null,
            "align_items": null,
            "align_self": null,
            "border": null,
            "bottom": null,
            "display": null,
            "flex": null,
            "flex_flow": null,
            "grid_area": null,
            "grid_auto_columns": null,
            "grid_auto_flow": null,
            "grid_auto_rows": null,
            "grid_column": null,
            "grid_gap": null,
            "grid_row": null,
            "grid_template_areas": null,
            "grid_template_columns": null,
            "grid_template_rows": null,
            "height": null,
            "justify_content": null,
            "justify_items": null,
            "left": null,
            "margin": null,
            "max_height": null,
            "max_width": null,
            "min_height": null,
            "min_width": null,
            "object_fit": null,
            "object_position": null,
            "order": null,
            "overflow": null,
            "overflow_x": null,
            "overflow_y": null,
            "padding": null,
            "right": null,
            "top": null,
            "visibility": null,
            "width": null
          }
        }
      }
    }
  },
  "cells": [
    {
      "cell_type": "markdown",
      "metadata": {
        "id": "view-in-github",
        "colab_type": "text"
      },
      "source": [
        "<a href=\"https://colab.research.google.com/github/DL4CV-NPTEL/Deep-Learning-For-Computer-Vision/blob/main/notebooks/Week_8/Week_8_Lecture_2.ipynb\" target=\"_parent\"><img src=\"https://colab.research.google.com/assets/colab-badge.svg\" alt=\"Open In Colab\"/></a>"
      ]
    },
    {
      "cell_type": "markdown",
      "source": [
        "# Lecture 2: Backpropagation in RNNs\n",
        "\n"
      ],
      "metadata": {
        "id": "5p8aGbdxc1Nz"
      }
    },
    {
      "cell_type": "code",
      "execution_count": 36,
      "metadata": {
        "colab": {
          "base_uri": "https://localhost:8080/",
          "height": 539,
          "referenced_widgets": [
            "d566085ec66c49c7bc6d79be0fedf3d8",
            "78fa71225c304f7ab7d8eb4dba4954f3"
          ]
        },
        "id": "W5BZQI44cxz_",
        "outputId": "13c0da3b-06f9-4a7b-d49d-b290b45eda83",
        "cellView": "form"
      },
      "outputs": [
        {
          "output_type": "display_data",
          "data": {
            "text/plain": [
              "Output()"
            ],
            "application/vnd.jupyter.widget-view+json": {
              "version_major": 2,
              "version_minor": 0,
              "model_id": "d566085ec66c49c7bc6d79be0fedf3d8"
            }
          },
          "metadata": {}
        }
      ],
      "source": [
        "#@title \n",
        "from ipywidgets import widgets\n",
        "out1 = widgets.Output()\n",
        "with out1:\n",
        "  from IPython.display import YouTubeVideo\n",
        "  video = YouTubeVideo(id=f\"I4_lyJVnpMg\", width=854, height=480, fs=1, rel=0)\n",
        "  print(\"Video available at https://youtube.com/watch?v=\" + video.id)\n",
        "  display(video)\n",
        "display(out1)"
      ]
    },
    {
      "cell_type": "code",
      "source": [
        "#@title \n",
        "from IPython import display as IPyDisplay\n",
        "IPyDisplay.HTML(\n",
        "    f\"\"\"\n",
        "  <div>\n",
        "    <a href= \"https://github.com/DL4CV-NPTEL/Deep-Learning-For-Computer-Vision/blob/main/Slides/Week_8/DL4CV_Week08_Part02.pdf\" target=\"_blank\">\n",
        "    <img src=\"https://github.com/DL4CV-NPTEL/Deep-Learning-For-Computer-Vision/blob/main/Data/Slides_Logo.png?raw=1\"\n",
        "  alt=\"button link to Airtable\" style=\"width:200px\"></a>\n",
        "    </div>\"\"\" )"
      ],
      "metadata": {
        "colab": {
          "base_uri": "https://localhost:8080/",
          "height": 100
        },
        "id": "bJQjZzwxdQch",
        "outputId": "4f904d4c-fcc5-481f-9360-8ebe155612d8",
        "cellView": "form"
      },
      "execution_count": 37,
      "outputs": [
        {
          "output_type": "execute_result",
          "data": {
            "text/plain": [
              "<IPython.core.display.HTML object>"
            ],
            "text/html": [
              "\n",
              "  <div>\n",
              "    <a href= \"https://github.com/DL4CV-NPTEL/Deep-Learning-For-Computer-Vision/blob/main/Slides/Week_8/DL4CV_Week08_Part02.pdf\" target=\"_blank\">\n",
              "    <img src=\"https://github.com/DL4CV-NPTEL/Deep-Learning-For-Computer-Vision/blob/main/Data/Slides_Logo.png?raw=1\"\n",
              "  alt=\"button link to Airtable\" style=\"width:200px\"></a>\n",
              "    </div>"
            ]
          },
          "metadata": {},
          "execution_count": 37
        }
      ]
    }
  ]
}