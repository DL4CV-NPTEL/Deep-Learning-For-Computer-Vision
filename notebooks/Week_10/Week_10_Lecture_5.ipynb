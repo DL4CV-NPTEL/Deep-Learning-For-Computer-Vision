{
  "nbformat": 4,
  "nbformat_minor": 0,
  "metadata": {
    "colab": {
      "name": "Week_10_Lecture_5.ipynb",
      "provenance": [],
      "authorship_tag": "ABX9TyN9GP+g2cuuDKZcTACVFULR",
      "include_colab_link": true
    },
    "kernelspec": {
      "name": "python3",
      "display_name": "Python 3"
    },
    "language_info": {
      "name": "python"
    },
    "widgets": {
      "application/vnd.jupyter.widget-state+json": {
        "cc605377a92f46969d26fa0adf7253ac": {
          "model_module": "@jupyter-widgets/output",
          "model_name": "OutputModel",
          "model_module_version": "1.0.0",
          "state": {
            "_dom_classes": [],
            "_model_module": "@jupyter-widgets/output",
            "_model_module_version": "1.0.0",
            "_model_name": "OutputModel",
            "_view_count": null,
            "_view_module": "@jupyter-widgets/output",
            "_view_module_version": "1.0.0",
            "_view_name": "OutputView",
            "layout": "IPY_MODEL_af2cdb0ab1f84162ada0b2399eec40a6",
            "msg_id": "",
            "outputs": [
              {
                "output_type": "stream",
                "name": "stdout",
                "text": [
                  "Video available at https://youtube.com/watch?v=0OgFW2W9LRY\n"
                ]
              },
              {
                "output_type": "display_data",
                "data": {
                  "text/plain": "<IPython.lib.display.YouTubeVideo at 0x7f20289bec50>",
                  "text/html": "\n        <iframe\n            width=\"854\"\n            height=\"480\"\n            src=\"https://www.youtube.com/embed/0OgFW2W9LRY?fs=1&rel=0\"\n            frameborder=\"0\"\n            allowfullscreen\n        ></iframe>\n        ",
                  "image/jpeg": "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\n"
                },
                "metadata": {}
              }
            ]
          }
        },
        "af2cdb0ab1f84162ada0b2399eec40a6": {
          "model_module": "@jupyter-widgets/base",
          "model_name": "LayoutModel",
          "model_module_version": "1.2.0",
          "state": {
            "_model_module": "@jupyter-widgets/base",
            "_model_module_version": "1.2.0",
            "_model_name": "LayoutModel",
            "_view_count": null,
            "_view_module": "@jupyter-widgets/base",
            "_view_module_version": "1.2.0",
            "_view_name": "LayoutView",
            "align_content": null,
            "align_items": null,
            "align_self": null,
            "border": null,
            "bottom": null,
            "display": null,
            "flex": null,
            "flex_flow": null,
            "grid_area": null,
            "grid_auto_columns": null,
            "grid_auto_flow": null,
            "grid_auto_rows": null,
            "grid_column": null,
            "grid_gap": null,
            "grid_row": null,
            "grid_template_areas": null,
            "grid_template_columns": null,
            "grid_template_rows": null,
            "height": null,
            "justify_content": null,
            "justify_items": null,
            "left": null,
            "margin": null,
            "max_height": null,
            "max_width": null,
            "min_height": null,
            "min_width": null,
            "object_fit": null,
            "object_position": null,
            "order": null,
            "overflow": null,
            "overflow_x": null,
            "overflow_y": null,
            "padding": null,
            "right": null,
            "top": null,
            "visibility": null,
            "width": null
          }
        }
      }
    }
  },
  "cells": [
    {
      "cell_type": "markdown",
      "metadata": {
        "id": "view-in-github",
        "colab_type": "text"
      },
      "source": [
        "<a href=\"https://colab.research.google.com/github/DL4CV-NPTEL/Deep-Learning-For-Computer-Vision/blob/main/notebooks/Week_10/Week_10_Lecture_5.ipynb\" target=\"_parent\"><img src=\"https://colab.research.google.com/assets/colab-badge.svg\" alt=\"Open In Colab\"/></a>"
      ]
    },
    {
      "cell_type": "code",
      "execution_count": null,
      "metadata": {
        "id": "S7B2PkIHpLRl"
      },
      "outputs": [],
      "source": [
        ""
      ]
    },
    {
      "cell_type": "markdown",
      "source": [
        "# Lecture 5: Combining VAEs and GANs"
      ],
      "metadata": {
        "id": "fIrGflEMpSBD"
      }
    },
    {
      "cell_type": "code",
      "source": [
        "#@title \n",
        "from ipywidgets import widgets\n",
        "out1 = widgets.Output()\n",
        "with out1:\n",
        "  from IPython.display import YouTubeVideo\n",
        "  video = YouTubeVideo(id=f\"0OgFW2W9LRY\", width=854, height=480, fs=1, rel=0)\n",
        "  print(\"Video available at https://youtube.com/watch?v=\" + video.id)\n",
        "  display(video)\n",
        "display(out1)"
      ],
      "metadata": {
        "colab": {
          "base_uri": "https://localhost:8080/",
          "height": 519,
          "referenced_widgets": [
            "cc605377a92f46969d26fa0adf7253ac",
            "af2cdb0ab1f84162ada0b2399eec40a6"
          ]
        },
        "cellView": "form",
        "id": "lB5SN2aJpTpV",
        "outputId": "903860db-9725-457f-f7d2-f50ecd904b37"
      },
      "execution_count": 1,
      "outputs": [
        {
          "output_type": "display_data",
          "data": {
            "text/plain": [
              "Output()"
            ],
            "application/vnd.jupyter.widget-view+json": {
              "version_major": 2,
              "version_minor": 0,
              "model_id": "cc605377a92f46969d26fa0adf7253ac"
            }
          },
          "metadata": {}
        }
      ]
    },
    {
      "cell_type": "code",
      "source": [
        "#@title \n",
        "from IPython import display as IPyDisplay\n",
        "IPyDisplay.HTML(\n",
        "    f\"\"\"\n",
        "  <div>\n",
        "    <a href= \"https://github.com/DL4CV-NPTEL/Deep-Learning-For-Computer-Vision/blob/main/Slides/Week_10/DL4CV_Week10_Part04 .pdf\" target=\"_blank\">\n",
        "    <img src=\"https://github.com/DL4CV-NPTEL/Deep-Learning-For-Computer-Vision/blob/main/Data/Slides_Logo.png?raw=1\"\n",
        "  alt=\"button link to Airtable\" style=\"width:200px\"></a>\n",
        "    </div>\"\"\" )"
      ],
      "metadata": {
        "colab": {
          "base_uri": "https://localhost:8080/",
          "height": 100
        },
        "cellView": "form",
        "id": "J9D2e1zApYSl",
        "outputId": "e1140001-d75b-4f23-fd9c-8585d0478126"
      },
      "execution_count": 3,
      "outputs": [
        {
          "output_type": "execute_result",
          "data": {
            "text/plain": [
              "<IPython.core.display.HTML object>"
            ],
            "text/html": [
              "\n",
              "  <div>\n",
              "    <a href= \"https://github.com/DL4CV-NPTEL/Deep-Learning-For-Computer-Vision/blob/main/Slides/Week_10/DL4CV_Week10_Part04 .pdf\" target=\"_blank\">\n",
              "    <img src=\"https://github.com/DL4CV-NPTEL/Deep-Learning-For-Computer-Vision/blob/main/Data/Slides_Logo.png?raw=1\"\n",
              "  alt=\"button link to Airtable\" style=\"width:200px\"></a>\n",
              "    </div>"
            ]
          },
          "metadata": {},
          "execution_count": 3
        }
      ]
    },
    {
      "cell_type": "code",
      "source": [
        ""
      ],
      "metadata": {
        "id": "W2EL-EgrpbPI"
      },
      "execution_count": 3,
      "outputs": []
    }
  ]
}