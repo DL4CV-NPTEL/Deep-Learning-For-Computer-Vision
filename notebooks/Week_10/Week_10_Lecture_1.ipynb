{
  "nbformat": 4,
  "nbformat_minor": 0,
  "metadata": {
    "colab": {
      "name": "Week_10_Lecture_1.ipynb",
      "provenance": [],
      "authorship_tag": "ABX9TyPq4YkKc/OBL3mEDSXhgSlJ",
      "include_colab_link": true
    },
    "kernelspec": {
      "name": "python3",
      "display_name": "Python 3"
    },
    "language_info": {
      "name": "python"
    },
    "widgets": {
      "application/vnd.jupyter.widget-state+json": {
        "e11bfe290f184ffa8ad3a60a42812ca4": {
          "model_module": "@jupyter-widgets/output",
          "model_name": "OutputModel",
          "model_module_version": "1.0.0",
          "state": {
            "_dom_classes": [],
            "_model_module": "@jupyter-widgets/output",
            "_model_module_version": "1.0.0",
            "_model_name": "OutputModel",
            "_view_count": null,
            "_view_module": "@jupyter-widgets/output",
            "_view_module_version": "1.0.0",
            "_view_name": "OutputView",
            "layout": "IPY_MODEL_ff718c58fe41436eb50fc89073a61454",
            "msg_id": "",
            "outputs": [
              {
                "output_type": "stream",
                "name": "stdout",
                "text": [
                  "Video available at https://youtube.com/watch?v=v_ksUIpToGk\n"
                ]
              },
              {
                "output_type": "display_data",
                "data": {
                  "text/plain": "<IPython.lib.display.YouTubeVideo at 0x7f4f31657e90>",
                  "text/html": "\n        <iframe\n            width=\"854\"\n            height=\"480\"\n            src=\"https://www.youtube.com/embed/v_ksUIpToGk?fs=1&rel=0\"\n            frameborder=\"0\"\n            allowfullscreen\n        ></iframe>\n        ",
                  "image/jpeg": "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\n"
                },
                "metadata": {}
              }
            ]
          }
        },
        "ff718c58fe41436eb50fc89073a61454": {
          "model_module": "@jupyter-widgets/base",
          "model_name": "LayoutModel",
          "model_module_version": "1.2.0",
          "state": {
            "_model_module": "@jupyter-widgets/base",
            "_model_module_version": "1.2.0",
            "_model_name": "LayoutModel",
            "_view_count": null,
            "_view_module": "@jupyter-widgets/base",
            "_view_module_version": "1.2.0",
            "_view_name": "LayoutView",
            "align_content": null,
            "align_items": null,
            "align_self": null,
            "border": null,
            "bottom": null,
            "display": null,
            "flex": null,
            "flex_flow": null,
            "grid_area": null,
            "grid_auto_columns": null,
            "grid_auto_flow": null,
            "grid_auto_rows": null,
            "grid_column": null,
            "grid_gap": null,
            "grid_row": null,
            "grid_template_areas": null,
            "grid_template_columns": null,
            "grid_template_rows": null,
            "height": null,
            "justify_content": null,
            "justify_items": null,
            "left": null,
            "margin": null,
            "max_height": null,
            "max_width": null,
            "min_height": null,
            "min_width": null,
            "object_fit": null,
            "object_position": null,
            "order": null,
            "overflow": null,
            "overflow_x": null,
            "overflow_y": null,
            "padding": null,
            "right": null,
            "top": null,
            "visibility": null,
            "width": null
          }
        }
      }
    }
  },
  "cells": [
    {
      "cell_type": "markdown",
      "metadata": {
        "id": "view-in-github",
        "colab_type": "text"
      },
      "source": [
        "<a href=\"https://colab.research.google.com/github/DL4CV-NPTEL/Deep-Learning-For-Computer-Vision/blob/main/notebooks/Week_10/Week_10_Lecture_1.ipynb\" target=\"_parent\"><img src=\"https://colab.research.google.com/assets/colab-badge.svg\" alt=\"Open In Colab\"/></a>"
      ]
    },
    {
      "cell_type": "markdown",
      "source": [
        "# Lecture 10: Deep Generative Models: An Introduction"
      ],
      "metadata": {
        "id": "Q3XtUTaUkrZ7"
      }
    },
    {
      "cell_type": "code",
      "source": [
        "#@title \n",
        "from ipywidgets import widgets\n",
        "out1 = widgets.Output()\n",
        "with out1:\n",
        "  from IPython.display import YouTubeVideo\n",
        "  video = YouTubeVideo(id=f\"v_ksUIpToGk\", width=854, height=480, fs=1, rel=0)\n",
        "  print(\"Video available at https://youtube.com/watch?v=\" + video.id)\n",
        "  display(video)\n",
        "display(out1)"
      ],
      "metadata": {
        "colab": {
          "base_uri": "https://localhost:8080/",
          "height": 519,
          "referenced_widgets": [
            "e11bfe290f184ffa8ad3a60a42812ca4",
            "ff718c58fe41436eb50fc89073a61454"
          ]
        },
        "cellView": "form",
        "id": "wmRAB5kBkwij",
        "outputId": "258ff207-b35b-41c6-b8d1-268848291005"
      },
      "execution_count": 1,
      "outputs": [
        {
          "output_type": "display_data",
          "data": {
            "text/plain": [
              "Output()"
            ],
            "application/vnd.jupyter.widget-view+json": {
              "version_major": 2,
              "version_minor": 0,
              "model_id": "e11bfe290f184ffa8ad3a60a42812ca4"
            }
          },
          "metadata": {}
        }
      ]
    },
    {
      "cell_type": "code",
      "source": [
        "#@title \n",
        "from IPython import display as IPyDisplay\n",
        "IPyDisplay.HTML(\n",
        "    f\"\"\"\n",
        "  <div>\n",
        "    <a href= \"https://github.com/DL4CV-NPTEL/Deep-Learning-For-Computer-Vision/blob/main/Slides/Week_10/DL4CV_Week10_Part01.pdf\" target=\"_blank\">\n",
        "    <img src=\"https://github.com/DL4CV-NPTEL/Deep-Learning-For-Computer-Vision/blob/main/Data/Slides_Logo.png?raw=1\"\n",
        "  alt=\"button link to Airtable\" style=\"width:200px\"></a>\n",
        "    </div>\"\"\" )"
      ],
      "metadata": {
        "colab": {
          "base_uri": "https://localhost:8080/",
          "height": 100
        },
        "cellView": "form",
        "id": "0tT6a1j_k1gC",
        "outputId": "af12f3e5-af7c-4830-982f-636157c7af3b"
      },
      "execution_count": 2,
      "outputs": [
        {
          "output_type": "execute_result",
          "data": {
            "text/plain": [
              "<IPython.core.display.HTML object>"
            ],
            "text/html": [
              "\n",
              "  <div>\n",
              "    <a href= \"https://github.com/DL4CV-NPTEL/Deep-Learning-For-Computer-Vision/blob/main/Slides/Week_10/DL4CV_Week10_Part01.pdf\" target=\"_blank\">\n",
              "    <img src=\"https://github.com/DL4CV-NPTEL/Deep-Learning-For-Computer-Vision/blob/main/Data/Slides_Logo.png?raw=1\"\n",
              "  alt=\"button link to Airtable\" style=\"width:200px\"></a>\n",
              "    </div>"
            ]
          },
          "metadata": {},
          "execution_count": 2
        }
      ]
    },
    {
      "cell_type": "code",
      "source": [
        ""
      ],
      "metadata": {
        "id": "2za1rpRTk6Fd"
      },
      "execution_count": null,
      "outputs": []
    }
  ]
}