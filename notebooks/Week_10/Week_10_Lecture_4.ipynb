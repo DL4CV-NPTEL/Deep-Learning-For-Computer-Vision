{
  "nbformat": 4,
  "nbformat_minor": 0,
  "metadata": {
    "colab": {
      "name": "Week_10_Lecture_4.ipynb",
      "provenance": [],
      "authorship_tag": "ABX9TyNe/MY6xqtYKApsZh4GjL0F",
      "include_colab_link": true
    },
    "kernelspec": {
      "name": "python3",
      "display_name": "Python 3"
    },
    "language_info": {
      "name": "python"
    },
    "widgets": {
      "application/vnd.jupyter.widget-state+json": {
        "101a032baaed461f8d9a0136e25e4ff1": {
          "model_module": "@jupyter-widgets/output",
          "model_name": "OutputModel",
          "model_module_version": "1.0.0",
          "state": {
            "_dom_classes": [],
            "_model_module": "@jupyter-widgets/output",
            "_model_module_version": "1.0.0",
            "_model_name": "OutputModel",
            "_view_count": null,
            "_view_module": "@jupyter-widgets/output",
            "_view_module_version": "1.0.0",
            "_view_name": "OutputView",
            "layout": "IPY_MODEL_6cc888c0612647279f28f76eacc81a1f",
            "msg_id": "",
            "outputs": [
              {
                "output_type": "stream",
                "name": "stdout",
                "text": [
                  "Video available at https://youtube.com/watch?v=psaDtRj_8oA\n"
                ]
              },
              {
                "output_type": "display_data",
                "data": {
                  "text/plain": "<IPython.lib.display.YouTubeVideo at 0x7efd687b8f50>",
                  "text/html": "\n        <iframe\n            width=\"854\"\n            height=\"480\"\n            src=\"https://www.youtube.com/embed/psaDtRj_8oA?fs=1&rel=0\"\n            frameborder=\"0\"\n            allowfullscreen\n        ></iframe>\n        ",
                  "image/jpeg": "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\n"
                },
                "metadata": {}
              }
            ]
          }
        },
        "6cc888c0612647279f28f76eacc81a1f": {
          "model_module": "@jupyter-widgets/base",
          "model_name": "LayoutModel",
          "model_module_version": "1.2.0",
          "state": {
            "_model_module": "@jupyter-widgets/base",
            "_model_module_version": "1.2.0",
            "_model_name": "LayoutModel",
            "_view_count": null,
            "_view_module": "@jupyter-widgets/base",
            "_view_module_version": "1.2.0",
            "_view_name": "LayoutView",
            "align_content": null,
            "align_items": null,
            "align_self": null,
            "border": null,
            "bottom": null,
            "display": null,
            "flex": null,
            "flex_flow": null,
            "grid_area": null,
            "grid_auto_columns": null,
            "grid_auto_flow": null,
            "grid_auto_rows": null,
            "grid_column": null,
            "grid_gap": null,
            "grid_row": null,
            "grid_template_areas": null,
            "grid_template_columns": null,
            "grid_template_rows": null,
            "height": null,
            "justify_content": null,
            "justify_items": null,
            "left": null,
            "margin": null,
            "max_height": null,
            "max_width": null,
            "min_height": null,
            "min_width": null,
            "object_fit": null,
            "object_position": null,
            "order": null,
            "overflow": null,
            "overflow_x": null,
            "overflow_y": null,
            "padding": null,
            "right": null,
            "top": null,
            "visibility": null,
            "width": null
          }
        }
      }
    }
  },
  "cells": [
    {
      "cell_type": "markdown",
      "metadata": {
        "id": "view-in-github",
        "colab_type": "text"
      },
      "source": [
        "<a href=\"https://colab.research.google.com/github/DL4CV-NPTEL/Deep-Learning-For-Computer-Vision/blob/main/notebooks/Week_10/Week_10_Lecture_4.ipynb\" target=\"_parent\"><img src=\"https://colab.research.google.com/assets/colab-badge.svg\" alt=\"Open In Colab\"/></a>"
      ]
    },
    {
      "cell_type": "markdown",
      "source": [
        "# Lecture 4: Variational Autoencoders"
      ],
      "metadata": {
        "id": "e9BP6yUhoneY"
      }
    },
    {
      "cell_type": "code",
      "source": [
        "#@title \n",
        "from ipywidgets import widgets\n",
        "out1 = widgets.Output()\n",
        "with out1:\n",
        "  from IPython.display import YouTubeVideo\n",
        "  video = YouTubeVideo(id=f\"psaDtRj_8oA\", width=854, height=480, fs=1, rel=0)\n",
        "  print(\"Video available at https://youtube.com/watch?v=\" + video.id)\n",
        "  display(video)\n",
        "display(out1)"
      ],
      "metadata": {
        "colab": {
          "base_uri": "https://localhost:8080/",
          "height": 519,
          "referenced_widgets": [
            "101a032baaed461f8d9a0136e25e4ff1",
            "6cc888c0612647279f28f76eacc81a1f"
          ]
        },
        "cellView": "form",
        "id": "HmjNBBJXoskt",
        "outputId": "56f3c815-269e-44b7-8c87-8ffafe0145f2"
      },
      "execution_count": 1,
      "outputs": [
        {
          "output_type": "display_data",
          "data": {
            "text/plain": [
              "Output()"
            ],
            "application/vnd.jupyter.widget-view+json": {
              "version_major": 2,
              "version_minor": 0,
              "model_id": "101a032baaed461f8d9a0136e25e4ff1"
            }
          },
          "metadata": {}
        }
      ]
    },
    {
      "cell_type": "code",
      "source": [
        "#@title \n",
        "from IPython import display as IPyDisplay\n",
        "IPyDisplay.HTML(\n",
        "    f\"\"\"\n",
        "  <div>\n",
        "    <a href= \"https://github.com/DL4CV-NPTEL/Deep-Learning-For-Computer-Vision/blob/main/Slides/Week_10/DL4CV_Week10_Part03.pdf\" target=\"_blank\">\n",
        "    <img src=\"https://github.com/DL4CV-NPTEL/Deep-Learning-For-Computer-Vision/blob/main/Data/Slides_Logo.png?raw=1\"\n",
        "  alt=\"button link to Airtable\" style=\"width:200px\"></a>\n",
        "    </div>\"\"\" )"
      ],
      "metadata": {
        "colab": {
          "base_uri": "https://localhost:8080/",
          "height": 100
        },
        "cellView": "form",
        "id": "wtZfsm_EowNz",
        "outputId": "c88e36b6-c01f-4036-d3ce-cf9211d18a02"
      },
      "execution_count": 2,
      "outputs": [
        {
          "output_type": "execute_result",
          "data": {
            "text/plain": [
              "<IPython.core.display.HTML object>"
            ],
            "text/html": [
              "\n",
              "  <div>\n",
              "    <a href= \"https://github.com/DL4CV-NPTEL/Deep-Learning-For-Computer-Vision/blob/main/Slides/Week_10/DL4CV_Week10_Part03.pdf\" target=\"_blank\">\n",
              "    <img src=\"https://github.com/DL4CV-NPTEL/Deep-Learning-For-Computer-Vision/blob/main/Data/Slides_Logo.png?raw=1\"\n",
              "  alt=\"button link to Airtable\" style=\"width:200px\"></a>\n",
              "    </div>"
            ]
          },
          "metadata": {},
          "execution_count": 2
        }
      ]
    },
    {
      "cell_type": "code",
      "source": [
        ""
      ],
      "metadata": {
        "id": "E8jxx2cEoy3V"
      },
      "execution_count": null,
      "outputs": []
    }
  ]
}