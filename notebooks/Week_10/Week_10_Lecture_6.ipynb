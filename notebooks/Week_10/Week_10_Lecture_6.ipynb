{
  "nbformat": 4,
  "nbformat_minor": 0,
  "metadata": {
    "colab": {
      "name": "Week_10_Lecture_6.ipynb",
      "provenance": [],
      "authorship_tag": "ABX9TyPonuYo1IevopAMuLVL95fI",
      "include_colab_link": true
    },
    "kernelspec": {
      "name": "python3",
      "display_name": "Python 3"
    },
    "language_info": {
      "name": "python"
    },
    "widgets": {
      "application/vnd.jupyter.widget-state+json": {
        "e397aac939d549fbbaca3633365973ba": {
          "model_module": "@jupyter-widgets/output",
          "model_name": "OutputModel",
          "model_module_version": "1.0.0",
          "state": {
            "_dom_classes": [],
            "_model_module": "@jupyter-widgets/output",
            "_model_module_version": "1.0.0",
            "_model_name": "OutputModel",
            "_view_count": null,
            "_view_module": "@jupyter-widgets/output",
            "_view_module_version": "1.0.0",
            "_view_name": "OutputView",
            "layout": "IPY_MODEL_67f1e4f65bf44f739c37e3175f019a11",
            "msg_id": "",
            "outputs": [
              {
                "output_type": "stream",
                "name": "stdout",
                "text": [
                  "Video available at https://youtube.com/watch?v=RPkf516rXgw\n"
                ]
              },
              {
                "output_type": "display_data",
                "data": {
                  "text/plain": "<IPython.lib.display.YouTubeVideo at 0x7f9bba6192d0>",
                  "text/html": "\n        <iframe\n            width=\"854\"\n            height=\"480\"\n            src=\"https://www.youtube.com/embed/RPkf516rXgw?fs=1&rel=0\"\n            frameborder=\"0\"\n            allowfullscreen\n        ></iframe>\n        ",
                  "image/jpeg": "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\n"
                },
                "metadata": {}
              }
            ]
          }
        },
        "67f1e4f65bf44f739c37e3175f019a11": {
          "model_module": "@jupyter-widgets/base",
          "model_name": "LayoutModel",
          "model_module_version": "1.2.0",
          "state": {
            "_model_module": "@jupyter-widgets/base",
            "_model_module_version": "1.2.0",
            "_model_name": "LayoutModel",
            "_view_count": null,
            "_view_module": "@jupyter-widgets/base",
            "_view_module_version": "1.2.0",
            "_view_name": "LayoutView",
            "align_content": null,
            "align_items": null,
            "align_self": null,
            "border": null,
            "bottom": null,
            "display": null,
            "flex": null,
            "flex_flow": null,
            "grid_area": null,
            "grid_auto_columns": null,
            "grid_auto_flow": null,
            "grid_auto_rows": null,
            "grid_column": null,
            "grid_gap": null,
            "grid_row": null,
            "grid_template_areas": null,
            "grid_template_columns": null,
            "grid_template_rows": null,
            "height": null,
            "justify_content": null,
            "justify_items": null,
            "left": null,
            "margin": null,
            "max_height": null,
            "max_width": null,
            "min_height": null,
            "min_width": null,
            "object_fit": null,
            "object_position": null,
            "order": null,
            "overflow": null,
            "overflow_x": null,
            "overflow_y": null,
            "padding": null,
            "right": null,
            "top": null,
            "visibility": null,
            "width": null
          }
        }
      }
    }
  },
  "cells": [
    {
      "cell_type": "markdown",
      "metadata": {
        "id": "view-in-github",
        "colab_type": "text"
      },
      "source": [
        "<a href=\"https://colab.research.google.com/github/DL4CV-NPTEL/Deep-Learning-For-Computer-Vision/blob/main/notebooks/Week_10/Week_10_Lecture_6.ipynb\" target=\"_parent\"><img src=\"https://colab.research.google.com/assets/colab-badge.svg\" alt=\"Open In Colab\"/></a>"
      ]
    },
    {
      "cell_type": "markdown",
      "source": [
        "# Lecture 6: Beyond VAEs and GANs: Other Deep Generative Models - Part 1"
      ],
      "metadata": {
        "id": "dfQtZZOxqEUP"
      }
    },
    {
      "cell_type": "code",
      "source": [
        "#@title \n",
        "from ipywidgets import widgets\n",
        "out1 = widgets.Output()\n",
        "with out1:\n",
        "  from IPython.display import YouTubeVideo\n",
        "  video = YouTubeVideo(id=f\"RPkf516rXgw\", width=854, height=480, fs=1, rel=0)\n",
        "  print(\"Video available at https://youtube.com/watch?v=\" + video.id)\n",
        "  display(video)\n",
        "display(out1)"
      ],
      "metadata": {
        "colab": {
          "base_uri": "https://localhost:8080/",
          "height": 519,
          "referenced_widgets": [
            "e397aac939d549fbbaca3633365973ba",
            "67f1e4f65bf44f739c37e3175f019a11"
          ]
        },
        "cellView": "form",
        "id": "td38LR-_qIJv",
        "outputId": "b3f8b036-a251-48ea-c32b-578a59b4e60b"
      },
      "execution_count": 1,
      "outputs": [
        {
          "output_type": "display_data",
          "data": {
            "text/plain": [
              "Output()"
            ],
            "application/vnd.jupyter.widget-view+json": {
              "version_major": 2,
              "version_minor": 0,
              "model_id": "e397aac939d549fbbaca3633365973ba"
            }
          },
          "metadata": {}
        }
      ]
    },
    {
      "cell_type": "code",
      "source": [
        "#@title \n",
        "from IPython import display as IPyDisplay\n",
        "IPyDisplay.HTML(\n",
        "    f\"\"\"\n",
        "  <div>\n",
        "    <a href= \"https://github.com/DL4CV-NPTEL/Deep-Learning-For-Computer-Vision/blob/main/Slides/Week_10/DL4CV_Week10_Part05.pdf\" target=\"_blank\">\n",
        "    <img src=\"https://github.com/DL4CV-NPTEL/Deep-Learning-For-Computer-Vision/blob/main/Data/Slides_Logo.png?raw=1\"\n",
        "  alt=\"button link to Airtable\" style=\"width:200px\"></a>\n",
        "    </div>\"\"\" )"
      ],
      "metadata": {
        "colab": {
          "base_uri": "https://localhost:8080/",
          "height": 100
        },
        "cellView": "form",
        "id": "-w8DUKc5qMXJ",
        "outputId": "9ca6b47c-dfeb-4914-bc53-686ecea59b47"
      },
      "execution_count": 2,
      "outputs": [
        {
          "output_type": "execute_result",
          "data": {
            "text/plain": [
              "<IPython.core.display.HTML object>"
            ],
            "text/html": [
              "\n",
              "  <div>\n",
              "    <a href= \"https://github.com/DL4CV-NPTEL/Deep-Learning-For-Computer-Vision/blob/main/Slides/Week_10/DL4CV_Week10_Part05.pdf\" target=\"_blank\">\n",
              "    <img src=\"https://github.com/DL4CV-NPTEL/Deep-Learning-For-Computer-Vision/blob/main/Data/Slides_Logo.png?raw=1\"\n",
              "  alt=\"button link to Airtable\" style=\"width:200px\"></a>\n",
              "    </div>"
            ]
          },
          "metadata": {},
          "execution_count": 2
        }
      ]
    },
    {
      "cell_type": "code",
      "source": [
        ""
      ],
      "metadata": {
        "id": "eacT3cxWqQr1"
      },
      "execution_count": null,
      "outputs": []
    }
  ]
}