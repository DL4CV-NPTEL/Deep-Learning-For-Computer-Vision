{
  "nbformat": 4,
  "nbformat_minor": 0,
  "metadata": {
    "colab": {
      "name": "Week_10_Lecture_7.ipynb",
      "provenance": [],
      "authorship_tag": "ABX9TyPBCUA8y+49SLpQh6Aa1ome",
      "include_colab_link": true
    },
    "kernelspec": {
      "name": "python3",
      "display_name": "Python 3"
    },
    "language_info": {
      "name": "python"
    },
    "widgets": {
      "application/vnd.jupyter.widget-state+json": {
        "260db251a432474ab582ddef2d06c13d": {
          "model_module": "@jupyter-widgets/output",
          "model_name": "OutputModel",
          "model_module_version": "1.0.0",
          "state": {
            "_dom_classes": [],
            "_model_module": "@jupyter-widgets/output",
            "_model_module_version": "1.0.0",
            "_model_name": "OutputModel",
            "_view_count": null,
            "_view_module": "@jupyter-widgets/output",
            "_view_module_version": "1.0.0",
            "_view_name": "OutputView",
            "layout": "IPY_MODEL_370ebeeb713f4a818d0c351433aa3453",
            "msg_id": "",
            "outputs": [
              {
                "output_type": "stream",
                "name": "stdout",
                "text": [
                  "Video available at https://youtube.com/watch?v=Lcpqkh1Y9wQ\n"
                ]
              },
              {
                "output_type": "display_data",
                "data": {
                  "text/plain": "<IPython.lib.display.YouTubeVideo at 0x7f6466366410>",
                  "text/html": "\n        <iframe\n            width=\"854\"\n            height=\"480\"\n            src=\"https://www.youtube.com/embed/Lcpqkh1Y9wQ?fs=1&rel=0\"\n            frameborder=\"0\"\n            allowfullscreen\n        ></iframe>\n        ",
                  "image/jpeg": "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\n"
                },
                "metadata": {}
              }
            ]
          }
        },
        "370ebeeb713f4a818d0c351433aa3453": {
          "model_module": "@jupyter-widgets/base",
          "model_name": "LayoutModel",
          "model_module_version": "1.2.0",
          "state": {
            "_model_module": "@jupyter-widgets/base",
            "_model_module_version": "1.2.0",
            "_model_name": "LayoutModel",
            "_view_count": null,
            "_view_module": "@jupyter-widgets/base",
            "_view_module_version": "1.2.0",
            "_view_name": "LayoutView",
            "align_content": null,
            "align_items": null,
            "align_self": null,
            "border": null,
            "bottom": null,
            "display": null,
            "flex": null,
            "flex_flow": null,
            "grid_area": null,
            "grid_auto_columns": null,
            "grid_auto_flow": null,
            "grid_auto_rows": null,
            "grid_column": null,
            "grid_gap": null,
            "grid_row": null,
            "grid_template_areas": null,
            "grid_template_columns": null,
            "grid_template_rows": null,
            "height": null,
            "justify_content": null,
            "justify_items": null,
            "left": null,
            "margin": null,
            "max_height": null,
            "max_width": null,
            "min_height": null,
            "min_width": null,
            "object_fit": null,
            "object_position": null,
            "order": null,
            "overflow": null,
            "overflow_x": null,
            "overflow_y": null,
            "padding": null,
            "right": null,
            "top": null,
            "visibility": null,
            "width": null
          }
        }
      }
    }
  },
  "cells": [
    {
      "cell_type": "markdown",
      "metadata": {
        "id": "view-in-github",
        "colab_type": "text"
      },
      "source": [
        "<a href=\"https://colab.research.google.com/github/DL4CV-NPTEL/Deep-Learning-For-Computer-Vision/blob/main/notebooks/Week_10/Week_10_Lecture_7.ipynb\" target=\"_parent\"><img src=\"https://colab.research.google.com/assets/colab-badge.svg\" alt=\"Open In Colab\"/></a>"
      ]
    },
    {
      "cell_type": "code",
      "execution_count": null,
      "metadata": {
        "id": "Z88nOHg9qhxy"
      },
      "outputs": [],
      "source": [
        ""
      ]
    },
    {
      "cell_type": "markdown",
      "source": [
        "# Lecture 7 : Beyond VAEs and GANs: Other Deep Generative Models - Part 2"
      ],
      "metadata": {
        "id": "M4ynWFZWqj_V"
      }
    },
    {
      "cell_type": "code",
      "source": [
        "#@title \n",
        "from ipywidgets import widgets\n",
        "out1 = widgets.Output()\n",
        "with out1:\n",
        "  from IPython.display import YouTubeVideo\n",
        "  video = YouTubeVideo(id=f\"Lcpqkh1Y9wQ\", width=854, height=480, fs=1, rel=0)\n",
        "  print(\"Video available at https://youtube.com/watch?v=\" + video.id)\n",
        "  display(video)\n",
        "display(out1)"
      ],
      "metadata": {
        "colab": {
          "base_uri": "https://localhost:8080/",
          "height": 519,
          "referenced_widgets": [
            "260db251a432474ab582ddef2d06c13d",
            "370ebeeb713f4a818d0c351433aa3453"
          ]
        },
        "cellView": "form",
        "id": "V-uvNTygqoK7",
        "outputId": "30122e86-af90-4197-a034-72db3c27c81b"
      },
      "execution_count": 1,
      "outputs": [
        {
          "output_type": "display_data",
          "data": {
            "text/plain": [
              "Output()"
            ],
            "application/vnd.jupyter.widget-view+json": {
              "version_major": 2,
              "version_minor": 0,
              "model_id": "260db251a432474ab582ddef2d06c13d"
            }
          },
          "metadata": {}
        }
      ]
    },
    {
      "cell_type": "code",
      "source": [
        "#@title \n",
        "from IPython import display as IPyDisplay\n",
        "IPyDisplay.HTML(\n",
        "    f\"\"\"\n",
        "  <div>\n",
        "    <a href= \"https://github.com/DL4CV-NPTEL/Deep-Learning-For-Computer-Vision/blob/main/Slides/Week_10/DL4CV_Week10_Part05.pdf\" target=\"_blank\">\n",
        "    <img src=\"https://github.com/DL4CV-NPTEL/Deep-Learning-For-Computer-Vision/blob/main/Data/Slides_Logo.png?raw=1\"\n",
        "  alt=\"button link to Airtable\" style=\"width:200px\"></a>\n",
        "    </div>\"\"\" )"
      ],
      "metadata": {
        "cellView": "form",
        "colab": {
          "base_uri": "https://localhost:8080/",
          "height": 100
        },
        "id": "Wbex8OMcqscJ",
        "outputId": "d993d3fb-bee9-487b-cf41-7f4942e1cfbf"
      },
      "execution_count": 2,
      "outputs": [
        {
          "output_type": "execute_result",
          "data": {
            "text/plain": [
              "<IPython.core.display.HTML object>"
            ],
            "text/html": [
              "\n",
              "  <div>\n",
              "    <a href= \"https://github.com/DL4CV-NPTEL/Deep-Learning-For-Computer-Vision/blob/main/Slides/Week_10/DL4CV_Week10_Part05.pdf\" target=\"_blank\">\n",
              "    <img src=\"https://github.com/DL4CV-NPTEL/Deep-Learning-For-Computer-Vision/blob/main/Data/Slides_Logo.png?raw=1\"\n",
              "  alt=\"button link to Airtable\" style=\"width:200px\"></a>\n",
              "    </div>"
            ]
          },
          "metadata": {},
          "execution_count": 2
        }
      ]
    },
    {
      "cell_type": "code",
      "source": [
        ""
      ],
      "metadata": {
        "id": "G2GwMBh4quu-"
      },
      "execution_count": null,
      "outputs": []
    }
  ]
}