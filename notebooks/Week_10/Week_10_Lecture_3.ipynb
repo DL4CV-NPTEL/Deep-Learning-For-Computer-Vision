{
  "nbformat": 4,
  "nbformat_minor": 0,
  "metadata": {
    "colab": {
      "name": "Week_10_Lecture_3.ipynb",
      "provenance": [],
      "authorship_tag": "ABX9TyPGNJEgHjJxWmvsQmZTApJL",
      "include_colab_link": true
    },
    "kernelspec": {
      "name": "python3",
      "display_name": "Python 3"
    },
    "language_info": {
      "name": "python"
    },
    "widgets": {
      "application/vnd.jupyter.widget-state+json": {
        "cc202d76aa2841f1add0caeff4092a82": {
          "model_module": "@jupyter-widgets/output",
          "model_name": "OutputModel",
          "model_module_version": "1.0.0",
          "state": {
            "_dom_classes": [],
            "_model_module": "@jupyter-widgets/output",
            "_model_module_version": "1.0.0",
            "_model_name": "OutputModel",
            "_view_count": null,
            "_view_module": "@jupyter-widgets/output",
            "_view_module_version": "1.0.0",
            "_view_name": "OutputView",
            "layout": "IPY_MODEL_ea927a936e7b419d95e87b71a3805d8b",
            "msg_id": "",
            "outputs": [
              {
                "output_type": "stream",
                "name": "stdout",
                "text": [
                  "Video available at https://youtube.com/watch?v=X3SJ2mRodF0\n"
                ]
              },
              {
                "output_type": "display_data",
                "data": {
                  "text/plain": "<IPython.lib.display.YouTubeVideo at 0x7fbce3f17890>",
                  "text/html": "\n        <iframe\n            width=\"854\"\n            height=\"480\"\n            src=\"https://www.youtube.com/embed/X3SJ2mRodF0?fs=1&rel=0\"\n            frameborder=\"0\"\n            allowfullscreen\n        ></iframe>\n        ",
                  "image/jpeg": "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\n"
                },
                "metadata": {}
              }
            ]
          }
        },
        "ea927a936e7b419d95e87b71a3805d8b": {
          "model_module": "@jupyter-widgets/base",
          "model_name": "LayoutModel",
          "model_module_version": "1.2.0",
          "state": {
            "_model_module": "@jupyter-widgets/base",
            "_model_module_version": "1.2.0",
            "_model_name": "LayoutModel",
            "_view_count": null,
            "_view_module": "@jupyter-widgets/base",
            "_view_module_version": "1.2.0",
            "_view_name": "LayoutView",
            "align_content": null,
            "align_items": null,
            "align_self": null,
            "border": null,
            "bottom": null,
            "display": null,
            "flex": null,
            "flex_flow": null,
            "grid_area": null,
            "grid_auto_columns": null,
            "grid_auto_flow": null,
            "grid_auto_rows": null,
            "grid_column": null,
            "grid_gap": null,
            "grid_row": null,
            "grid_template_areas": null,
            "grid_template_columns": null,
            "grid_template_rows": null,
            "height": null,
            "justify_content": null,
            "justify_items": null,
            "left": null,
            "margin": null,
            "max_height": null,
            "max_width": null,
            "min_height": null,
            "min_width": null,
            "object_fit": null,
            "object_position": null,
            "order": null,
            "overflow": null,
            "overflow_x": null,
            "overflow_y": null,
            "padding": null,
            "right": null,
            "top": null,
            "visibility": null,
            "width": null
          }
        }
      }
    }
  },
  "cells": [
    {
      "cell_type": "markdown",
      "metadata": {
        "id": "view-in-github",
        "colab_type": "text"
      },
      "source": [
        "<a href=\"https://colab.research.google.com/github/DL4CV-NPTEL/Deep-Learning-For-Computer-Vision/blob/main/notebooks/Week_10/Week_10_Lecture_3.ipynb\" target=\"_parent\"><img src=\"https://colab.research.google.com/assets/colab-badge.svg\" alt=\"Open In Colab\"/></a>"
      ]
    },
    {
      "cell_type": "markdown",
      "source": [
        "# Lecture 3: Generative Adversarial Networks - Part 2"
      ],
      "metadata": {
        "id": "2540iwNCmO6Y"
      }
    },
    {
      "cell_type": "code",
      "source": [
        "#@title \n",
        "from ipywidgets import widgets\n",
        "out1 = widgets.Output()\n",
        "with out1:\n",
        "  from IPython.display import YouTubeVideo\n",
        "  video = YouTubeVideo(id=f\"X3SJ2mRodF0\", width=854, height=480, fs=1, rel=0)\n",
        "  print(\"Video available at https://youtube.com/watch?v=\" + video.id)\n",
        "  display(video)\n",
        "display(out1)"
      ],
      "metadata": {
        "colab": {
          "base_uri": "https://localhost:8080/",
          "height": 519,
          "referenced_widgets": [
            "cc202d76aa2841f1add0caeff4092a82",
            "ea927a936e7b419d95e87b71a3805d8b"
          ]
        },
        "cellView": "form",
        "id": "T6hViRi-mQdU",
        "outputId": "007568e5-86c6-481b-e086-1fda34a33837"
      },
      "execution_count": 7,
      "outputs": [
        {
          "output_type": "display_data",
          "data": {
            "text/plain": [
              "Output()"
            ],
            "application/vnd.jupyter.widget-view+json": {
              "version_major": 2,
              "version_minor": 0,
              "model_id": "cc202d76aa2841f1add0caeff4092a82"
            }
          },
          "metadata": {}
        }
      ]
    },
    {
      "cell_type": "code",
      "source": [
        "#@title \n",
        "from IPython import display as IPyDisplay\n",
        "IPyDisplay.HTML(\n",
        "    f\"\"\"\n",
        "  <div>\n",
        "    <a href= \"https://github.com/DL4CV-NPTEL/Deep-Learning-For-Computer-Vision/blob/main/Slides/Week_10/DL4CV_Week10_Part02.pdf\" target=\"_blank\">\n",
        "    <img src=\"https://github.com/DL4CV-NPTEL/Deep-Learning-For-Computer-Vision/blob/main/Data/Slides_Logo.png?raw=1\"\n",
        "  alt=\"button link to Airtable\" style=\"width:200px\"></a>\n",
        "    </div>\"\"\" )"
      ],
      "metadata": {
        "colab": {
          "base_uri": "https://localhost:8080/",
          "height": 100
        },
        "cellView": "form",
        "id": "3oyU48FJmVY-",
        "outputId": "32aa4e3e-f57a-43b6-c6fc-9a6ba3ec840d"
      },
      "execution_count": 8,
      "outputs": [
        {
          "output_type": "execute_result",
          "data": {
            "text/plain": [
              "<IPython.core.display.HTML object>"
            ],
            "text/html": [
              "\n",
              "  <div>\n",
              "    <a href= \"https://github.com/DL4CV-NPTEL/Deep-Learning-For-Computer-Vision/blob/main/Slides/Week_10/DL4CV_Week10_Part02.pdf\" target=\"_blank\">\n",
              "    <img src=\"https://github.com/DL4CV-NPTEL/Deep-Learning-For-Computer-Vision/blob/main/Data/Slides_Logo.png?raw=1\"\n",
              "  alt=\"button link to Airtable\" style=\"width:200px\"></a>\n",
              "    </div>"
            ]
          },
          "metadata": {},
          "execution_count": 8
        }
      ]
    },
    {
      "cell_type": "code",
      "source": [
        ""
      ],
      "metadata": {
        "id": "kJ-AgRX0m7_2"
      },
      "execution_count": null,
      "outputs": []
    }
  ]
}