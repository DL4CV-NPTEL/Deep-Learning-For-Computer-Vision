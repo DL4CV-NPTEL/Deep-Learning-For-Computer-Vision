{
  "nbformat": 4,
  "nbformat_minor": 0,
  "metadata": {
    "colab": {
      "name": "Week_10_Lecture_2.ipynb",
      "provenance": [],
      "authorship_tag": "ABX9TyOW6qu+p9ibSev1CxMhfhdW",
      "include_colab_link": true
    },
    "kernelspec": {
      "name": "python3",
      "display_name": "Python 3"
    },
    "language_info": {
      "name": "python"
    },
    "widgets": {
      "application/vnd.jupyter.widget-state+json": {
        "93fb1eab39994d089fb27627904b4c83": {
          "model_module": "@jupyter-widgets/output",
          "model_name": "OutputModel",
          "model_module_version": "1.0.0",
          "state": {
            "_dom_classes": [],
            "_model_module": "@jupyter-widgets/output",
            "_model_module_version": "1.0.0",
            "_model_name": "OutputModel",
            "_view_count": null,
            "_view_module": "@jupyter-widgets/output",
            "_view_module_version": "1.0.0",
            "_view_name": "OutputView",
            "layout": "IPY_MODEL_7b5a369399e94184abeb610fa5214c78",
            "msg_id": "",
            "outputs": [
              {
                "output_type": "stream",
                "name": "stdout",
                "text": [
                  "Video available at https://youtube.com/watch?v=LMpyYPzxQ9w\n"
                ]
              },
              {
                "output_type": "display_data",
                "data": {
                  "text/plain": "<IPython.lib.display.YouTubeVideo at 0x7f9dedb38250>",
                  "text/html": "\n        <iframe\n            width=\"854\"\n            height=\"480\"\n            src=\"https://www.youtube.com/embed/LMpyYPzxQ9w?fs=1&rel=0\"\n            frameborder=\"0\"\n            allowfullscreen\n        ></iframe>\n        ",
                  "image/jpeg": "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\n"
                },
                "metadata": {}
              }
            ]
          }
        },
        "7b5a369399e94184abeb610fa5214c78": {
          "model_module": "@jupyter-widgets/base",
          "model_name": "LayoutModel",
          "model_module_version": "1.2.0",
          "state": {
            "_model_module": "@jupyter-widgets/base",
            "_model_module_version": "1.2.0",
            "_model_name": "LayoutModel",
            "_view_count": null,
            "_view_module": "@jupyter-widgets/base",
            "_view_module_version": "1.2.0",
            "_view_name": "LayoutView",
            "align_content": null,
            "align_items": null,
            "align_self": null,
            "border": null,
            "bottom": null,
            "display": null,
            "flex": null,
            "flex_flow": null,
            "grid_area": null,
            "grid_auto_columns": null,
            "grid_auto_flow": null,
            "grid_auto_rows": null,
            "grid_column": null,
            "grid_gap": null,
            "grid_row": null,
            "grid_template_areas": null,
            "grid_template_columns": null,
            "grid_template_rows": null,
            "height": null,
            "justify_content": null,
            "justify_items": null,
            "left": null,
            "margin": null,
            "max_height": null,
            "max_width": null,
            "min_height": null,
            "min_width": null,
            "object_fit": null,
            "object_position": null,
            "order": null,
            "overflow": null,
            "overflow_x": null,
            "overflow_y": null,
            "padding": null,
            "right": null,
            "top": null,
            "visibility": null,
            "width": null
          }
        }
      }
    }
  },
  "cells": [
    {
      "cell_type": "markdown",
      "metadata": {
        "id": "view-in-github",
        "colab_type": "text"
      },
      "source": [
        "<a href=\"https://colab.research.google.com/github/DL4CV-NPTEL/Deep-Learning-For-Computer-Vision/blob/main/notebooks/Week_10/Week_10_Lecture_2.ipynb\" target=\"_parent\"><img src=\"https://colab.research.google.com/assets/colab-badge.svg\" alt=\"Open In Colab\"/></a>"
      ]
    },
    {
      "cell_type": "code",
      "execution_count": null,
      "metadata": {
        "id": "Z-Axk_HRlRsy"
      },
      "outputs": [],
      "source": [
        ""
      ]
    },
    {
      "cell_type": "markdown",
      "source": [
        "# Lecture 2: Generative Adversarial Networks - Part 1"
      ],
      "metadata": {
        "id": "FM9bpi4_lWw-"
      }
    },
    {
      "cell_type": "code",
      "source": [
        "#@title \n",
        "from ipywidgets import widgets\n",
        "out1 = widgets.Output()\n",
        "with out1:\n",
        "  from IPython.display import YouTubeVideo\n",
        "  video = YouTubeVideo(id=f\"LMpyYPzxQ9w\", width=854, height=480, fs=1, rel=0)\n",
        "  print(\"Video available at https://youtube.com/watch?v=\" + video.id)\n",
        "  display(video)\n",
        "display(out1)"
      ],
      "metadata": {
        "colab": {
          "base_uri": "https://localhost:8080/",
          "height": 519,
          "referenced_widgets": [
            "93fb1eab39994d089fb27627904b4c83",
            "7b5a369399e94184abeb610fa5214c78"
          ]
        },
        "cellView": "form",
        "id": "J94Gw2sGlZZu",
        "outputId": "b585738c-2e70-4c46-8a54-046d8a012d26"
      },
      "execution_count": 1,
      "outputs": [
        {
          "output_type": "display_data",
          "data": {
            "text/plain": [
              "Output()"
            ],
            "application/vnd.jupyter.widget-view+json": {
              "version_major": 2,
              "version_minor": 0,
              "model_id": "93fb1eab39994d089fb27627904b4c83"
            }
          },
          "metadata": {}
        }
      ]
    },
    {
      "cell_type": "code",
      "source": [
        "#@title \n",
        "from IPython import display as IPyDisplay\n",
        "IPyDisplay.HTML(\n",
        "    f\"\"\"\n",
        "  <div>\n",
        "    <a href= \"https://github.com/DL4CV-NPTEL/Deep-Learning-For-Computer-Vision/blob/main/Slides/Week_10/DL4CV_Week10_Part02.pdf\" target=\"_blank\">\n",
        "    <img src=\"https://github.com/DL4CV-NPTEL/Deep-Learning-For-Computer-Vision/blob/main/Data/Slides_Logo.png?raw=1\"\n",
        "  alt=\"button link to Airtable\" style=\"width:200px\"></a>\n",
        "    </div>\"\"\" )"
      ],
      "metadata": {
        "colab": {
          "base_uri": "https://localhost:8080/",
          "height": 100
        },
        "cellView": "form",
        "id": "fUcNKBBEljul",
        "outputId": "3c2b72bd-1b8f-4fc8-c386-bc2b237f8ed2"
      },
      "execution_count": 2,
      "outputs": [
        {
          "output_type": "execute_result",
          "data": {
            "text/plain": [
              "<IPython.core.display.HTML object>"
            ],
            "text/html": [
              "\n",
              "  <div>\n",
              "    <a href= \"https://github.com/DL4CV-NPTEL/Deep-Learning-For-Computer-Vision/blob/main/Slides/Week_10/DL4CV_Week10_Part02.pdf\" target=\"_blank\">\n",
              "    <img src=\"https://github.com/DL4CV-NPTEL/Deep-Learning-For-Computer-Vision/blob/main/Data/Slides_Logo.png?raw=1\"\n",
              "  alt=\"button link to Airtable\" style=\"width:200px\"></a>\n",
              "    </div>"
            ]
          },
          "metadata": {},
          "execution_count": 2
        }
      ]
    },
    {
      "cell_type": "code",
      "source": [
        ""
      ],
      "metadata": {
        "id": "lyBxVI1-lt-k"
      },
      "execution_count": null,
      "outputs": []
    }
  ]
}