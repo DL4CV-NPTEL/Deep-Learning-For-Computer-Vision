{
  "nbformat": 4,
  "nbformat_minor": 0,
  "metadata": {
    "colab": {
      "name": "Week_9_Lecture_2.ipynb",
      "provenance": [],
      "authorship_tag": "ABX9TyMYPupLHNFsh+XPH6yYvx47",
      "include_colab_link": true
    },
    "kernelspec": {
      "name": "python3",
      "display_name": "Python 3"
    },
    "language_info": {
      "name": "python"
    },
    "widgets": {
      "application/vnd.jupyter.widget-state+json": {
        "805e8bcb12054580950ecdccc26b1635": {
          "model_module": "@jupyter-widgets/output",
          "model_name": "OutputModel",
          "model_module_version": "1.0.0",
          "state": {
            "_dom_classes": [],
            "_model_module": "@jupyter-widgets/output",
            "_model_module_version": "1.0.0",
            "_model_name": "OutputModel",
            "_view_count": null,
            "_view_module": "@jupyter-widgets/output",
            "_view_module_version": "1.0.0",
            "_view_name": "OutputView",
            "layout": "IPY_MODEL_3bc8e2773dd24cb492effdbae8299abe",
            "msg_id": "",
            "outputs": [
              {
                "output_type": "stream",
                "name": "stdout",
                "text": [
                  "Video available at https://youtube.com/watch?v=BPL3hHNvJmU\n"
                ]
              },
              {
                "output_type": "display_data",
                "data": {
                  "text/plain": "<IPython.lib.display.YouTubeVideo at 0x7f50699f0590>",
                  "text/html": "\n        <iframe\n            width=\"854\"\n            height=\"480\"\n            src=\"https://www.youtube.com/embed/BPL3hHNvJmU?fs=1&rel=0\"\n            frameborder=\"0\"\n            allowfullscreen\n        ></iframe>\n        ",
                  "image/jpeg": "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\n"
                },
                "metadata": {}
              }
            ]
          }
        },
        "3bc8e2773dd24cb492effdbae8299abe": {
          "model_module": "@jupyter-widgets/base",
          "model_name": "LayoutModel",
          "model_module_version": "1.2.0",
          "state": {
            "_model_module": "@jupyter-widgets/base",
            "_model_module_version": "1.2.0",
            "_model_name": "LayoutModel",
            "_view_count": null,
            "_view_module": "@jupyter-widgets/base",
            "_view_module_version": "1.2.0",
            "_view_name": "LayoutView",
            "align_content": null,
            "align_items": null,
            "align_self": null,
            "border": null,
            "bottom": null,
            "display": null,
            "flex": null,
            "flex_flow": null,
            "grid_area": null,
            "grid_auto_columns": null,
            "grid_auto_flow": null,
            "grid_auto_rows": null,
            "grid_column": null,
            "grid_gap": null,
            "grid_row": null,
            "grid_template_areas": null,
            "grid_template_columns": null,
            "grid_template_rows": null,
            "height": null,
            "justify_content": null,
            "justify_items": null,
            "left": null,
            "margin": null,
            "max_height": null,
            "max_width": null,
            "min_height": null,
            "min_width": null,
            "object_fit": null,
            "object_position": null,
            "order": null,
            "overflow": null,
            "overflow_x": null,
            "overflow_y": null,
            "padding": null,
            "right": null,
            "top": null,
            "visibility": null,
            "width": null
          }
        }
      }
    }
  },
  "cells": [
    {
      "cell_type": "markdown",
      "metadata": {
        "id": "view-in-github",
        "colab_type": "text"
      },
      "source": [
        "<a href=\"https://colab.research.google.com/github/DL4CV-NPTEL/Deep-Learning-For-Computer-Vision/blob/main/notebooks/Week_9/Week_9_Lecture_2.ipynb\" target=\"_parent\"><img src=\"https://colab.research.google.com/assets/colab-badge.svg\" alt=\"Open In Colab\"/></a>"
      ]
    },
    {
      "cell_type": "markdown",
      "source": [
        "Lecture 2: Vision and Language: Image Captioning"
      ],
      "metadata": {
        "id": "FXZ1MW-cftMZ"
      }
    },
    {
      "cell_type": "code",
      "source": [
        "#@title \n",
        "from ipywidgets import widgets\n",
        "out1 = widgets.Output()\n",
        "with out1:\n",
        "  from IPython.display import YouTubeVideo\n",
        "  video = YouTubeVideo(id=f\"BPL3hHNvJmU\", width=854, height=480, fs=1, rel=0)\n",
        "  print(\"Video available at https://youtube.com/watch?v=\" + video.id)\n",
        "  display(video)\n",
        "display(out1)"
      ],
      "metadata": {
        "colab": {
          "base_uri": "https://localhost:8080/",
          "height": 519,
          "referenced_widgets": [
            "805e8bcb12054580950ecdccc26b1635",
            "3bc8e2773dd24cb492effdbae8299abe"
          ]
        },
        "id": "UGz2iJnZfw1C",
        "outputId": "430263d3-556b-45d4-90d2-7603c2c7ed01"
      },
      "execution_count": 1,
      "outputs": [
        {
          "output_type": "display_data",
          "data": {
            "text/plain": [
              "Output()"
            ],
            "application/vnd.jupyter.widget-view+json": {
              "version_major": 2,
              "version_minor": 0,
              "model_id": "805e8bcb12054580950ecdccc26b1635"
            }
          },
          "metadata": {}
        }
      ]
    },
    {
      "cell_type": "code",
      "source": [
        "#@title \n",
        "from IPython import display as IPyDisplay\n",
        "IPyDisplay.HTML(\n",
        "    f\"\"\"\n",
        "  <div>\n",
        "    <a href= \"https://github.com/DL4CV-NPTEL/Deep-Learning-For-Computer-Vision/blob/main/Slides/Week_9/DL4CV_Week09_Part02.pdf\" target=\"_blank\">\n",
        "    <img src=\"https://github.com/DL4CV-NPTEL/Deep-Learning-For-Computer-Vision/blob/main/Data/Slides_Logo.png?raw=1\"\n",
        "  alt=\"button link to Airtable\" style=\"width:200px\"></a>\n",
        "    </div>\"\"\" )"
      ],
      "metadata": {
        "colab": {
          "base_uri": "https://localhost:8080/",
          "height": 100
        },
        "id": "zcssBeJRf2Q-",
        "outputId": "137ff2d3-1e6c-4184-c9b9-d17abe010287"
      },
      "execution_count": 3,
      "outputs": [
        {
          "output_type": "execute_result",
          "data": {
            "text/plain": [
              "<IPython.core.display.HTML object>"
            ],
            "text/html": [
              "\n",
              "  <div>\n",
              "    <a href= \"https://github.com/DL4CV-NPTEL/Deep-Learning-For-Computer-Vision/blob/main/Slides/Week_9/DL4CV_Week09_Part02.pdf\" target=\"_blank\">\n",
              "    <img src=\"https://github.com/DL4CV-NPTEL/Deep-Learning-For-Computer-Vision/blob/main/Data/Slides_Logo.png?raw=1\"\n",
              "  alt=\"button link to Airtable\" style=\"width:200px\"></a>\n",
              "    </div>"
            ]
          },
          "metadata": {},
          "execution_count": 3
        }
      ]
    },
    {
      "cell_type": "code",
      "source": [
        ""
      ],
      "metadata": {
        "id": "cX5r3SbhgAJS"
      },
      "execution_count": null,
      "outputs": []
    }
  ]
}