{
  "nbformat": 4,
  "nbformat_minor": 0,
  "metadata": {
    "colab": {
      "name": "Week_9_Lecture_1.ipynb",
      "provenance": [],
      "authorship_tag": "ABX9TyPPx05+TBCV13Z0WYiA2zRP",
      "include_colab_link": true
    },
    "kernelspec": {
      "name": "python3",
      "display_name": "Python 3"
    },
    "language_info": {
      "name": "python"
    },
    "widgets": {
      "application/vnd.jupyter.widget-state+json": {
        "892e1849868b4c25be86ded9d22af177": {
          "model_module": "@jupyter-widgets/output",
          "model_name": "OutputModel",
          "model_module_version": "1.0.0",
          "state": {
            "_dom_classes": [],
            "_model_module": "@jupyter-widgets/output",
            "_model_module_version": "1.0.0",
            "_model_name": "OutputModel",
            "_view_count": null,
            "_view_module": "@jupyter-widgets/output",
            "_view_module_version": "1.0.0",
            "_view_name": "OutputView",
            "layout": "IPY_MODEL_81fe116710ff40c4b34b97cb968175d4",
            "msg_id": "",
            "outputs": [
              {
                "output_type": "stream",
                "name": "stdout",
                "text": [
                  "Video available at https://youtube.com/watch?v=msiQiqXgOkk\n"
                ]
              },
              {
                "output_type": "display_data",
                "data": {
                  "text/plain": "<IPython.lib.display.YouTubeVideo at 0x7f1ec98ea810>",
                  "text/html": "\n        <iframe\n            width=\"854\"\n            height=\"480\"\n            src=\"https://www.youtube.com/embed/msiQiqXgOkk?fs=1&rel=0\"\n            frameborder=\"0\"\n            allowfullscreen\n        ></iframe>\n        ",
                  "image/jpeg": "/9j/4AAQSkZJRgABAQAAAQABAAD/2wCEABALDBoYFhsaGRoeHRwfIi0mIiIiIzIvKScyNi01MjczNzI3P1BFNzhLOTUyRGFFS1NWW2BbNkFlbWRYbFBZW1cBERISGRYZMBsbMFdCOT1XV1dXV1dXV1dXV1ddV1dXV1dXXVdXV1dXV1dXV1dXV1dXV1ddV1dXV1dXV1dXV1dXV//AABEIAWgB4AMBIgACEQEDEQH/xAAbAAEAAgMBAQAAAAAAAAAAAAAAAwQBAgUGB//EAEoQAAEDAgMDCQYEAgYJBAMAAAEAAhEDIQQSMQVBURMXIlNhcZGS0hQVMlKBoQZCsdEjwRYzYnLh8DRDY3OCorLC8Qckk+JUg6P/xAAZAQEBAQEBAQAAAAAAAAAAAAAAAQIDBAX/xAAnEQEBAAIBBAIBAwUAAAAAAAAAAQIRIQMSEzFBUVIEYXEUIjKh8P/aAAwDAQACEQMRAD8A+foiICIiAiIgIiICIiAiIgIiICIiAiIgIiICIiAiIgIiICIiAiIgIiICIiAiIgIiICIiAiIgIiICIiAiIgIiICIiAiIgIiICIiAiIgIiICIiAiIgIiICIiAiIgIiICIiAiIgIiICIiAiIgIiICIiAiIgIiICIiAiIgIiICIiAiIgIiICIiAiIgIiICIiAiIgIiICIiAiIgIvYc3GN63D+Z/oTm4xvW4fzP8AQg8ei9hzcY3rcP5n+hObjG9bh/M/0IPHovYc3GN63D+Z/oTm4xvW4fzP9CDx6L17v/TnGj/W4fzP9C15vMZ1mH8z/Qg8ki9bzeYzrMP5n+hObzGdZh/M/wBCDySL1vN5jOsw/mf6E5vMZ1mH8z/Qg8ki9bzeYzrMP5n+hObzGdZh/M/0IPJIvW83mM6zD+Z/oTm8xnWYfzP9CDySL1vN5jOsw/mf6E5vMZ1mH8z/AEIPJIvW83mM6zD+Z/oTm8xnWYfzP9CDySL1vN5jOsw/mf6E5vMZ1mH8z/Qg8ki9bzeYzrMP5n+hObzGdZh/M/0IPJIvW83mM6zD+Z/oTm8xnWYfzP8AQg8ki9bzeYzrMP5n+hObzGdZh/M/0IPJIvW83mM6zD+Z/oTm8xnWYfzP9CDySL1vN5jOsw/mf6E5vMZ1mH8z/Qg8ki9bzeYzrMP5n+hObzGdZh/M/wBCDySL1vN5jOsw/mf6E5vMZ1mH8z/Qg8ki9bzeYzrMP5n+hObzGdZh/M/0IPJIvW83mM6zD+Z/oTm8xnWYfzP9CDySL1vN5jOsw/mf6E5vMZ1mH8z/AEIPJIvW83mM6zD+Z/oTm8xnWYfzP9CDySL1vN5jOsw/mf6E5vMZ1mH8z/Qg8ki9bzeYzrMP5n+hObzGdZh/M/0IPJIvW83mM6zD+Z/oTm8xnWYfzP8AQg8ki9bzeYzrMP5n+hObzGdZh/M/0IPJIvW83mM6zD+Z/oTm8xnWYfzP9CDySL1vN5jOsw/mf6E5vMZ1mH8z/Qg8ki9bzeYzrMP5n+hObzGdZh/M/wBCDySL1vN5jOsw/mf6E5vMZ1mH8z/Qg+poiwSgyi5p2mX1MlBnKRq6YaO2eH+RKlONNOOWytafzgnLPad31Ull9L21dRYlZVRpU0USlqaKltCuadF7m3fEMHFxs37kIsm7pvQxLKgcabg7K4tMbiNQpV5+m2thuUZly58Ochac3TptidBcgjyrTFYs1mVoqk0206DpaRAOc579wE8IU27eHd49PRouHicaQ6plrOzAM9naIIrW106UmQeAvbVZZiapxDw6q1pDnRSJuW5bENj65p4jsTaeGu2i4HtFdjP6x7s1Ck9ziAS2Xw9wtubeOxTVMWzMwDEu5Ah81Q4HpDLDc0cCT2m26E2eGutWqtYxz3GGtBJPABbrzW0MU91B7a1RzCcNLGxl5RxmZBGsAdHdJVv2mr7SWmq1sPAbTJu5mXc3Le8nNNiITa+G627SLzr8TVp4ehUfXcS9mZzC4Mc4kAgM6NyL9HfK9ECm2M8O0REVcxERAREQEREBERAREQEREBERAREQEREBERAREQEREBERAREQEREBERAREQEREBERAREQWFT2q4jDvjhHiYVxaVaYe0tdoRBUs3NLLquLQqclhqbmB0kZ3dEkOzCfHQDuhZ2fiBWYGua4sILcsSLk3J/z9lboYUtDaVSS1s5DuIO49o04Kri8VTwjR0s1ciA0H4idJta/Z4qSNzniez8M13FlWi8k8i+ATvF4/Qrtrkfh3ZzqFJxqf1lQ5nW04A9uu/euutJ1NXK6aVBZR5TwU6IwgyngmU8FOiCDKeBTKeCnRBBlPBMp4KdEEGU8Eyngp0QQZTwTKeCnRBBlPBMp4KdEEGU8Eyngp0QQZTwTKeCnRBBlPBMp4KdEEGU8Eyngp0QQZTwTKeCnRBBlPBMp4KdEEGU8Eyngp0QQZTwTKeCnRBBlPBMp4KdEEGU8Eyngp0QQZTwTKeCnRBBlPBMp4KdEEGU8Eyngp0QQZTwTKeCnRBBlPBMp4KdEEGU8Eyngp0QQZTwTKeCnRBBlPBMp4KdEEGU8Eyngp0QQZTwTKeCnRAUdZxaxxAkgEgcbKRYQcwYirVOR1FsTfMLWy38SfBRUCaZaW0KbCQ4ktpxoYj6rsIufbftvu/ZHhqudgdBBIuCCL/VSrCyukYEREBERARFhAJAubLSnWY/4XNd3EFVWUxWe97xmaxxaxp0tq6N5mR9O1AylXYHssdWvaIcN093YbFVF1ZUGDrF9MExmu10aSCWn7gqdRRERAREQFhZUWIeWttqSAPqYS3Q2dUaNSB3lbAqlXIpOpjo9N0EukucYmAdxgE8LH6b1HNpQ8ENpk9K8NvoeAvHis7vyuotoqvvGh19Lzt/dYp7SoOqCk2qwvIkAOF+McVpFtERAREQEREBERAREQEWEQZRFhBlFhZQERYQZRYWUBERARYRBlEWEGUWEQZRYRBlERAREQFhZVbHuIpkgwexYzy7Mbl9LJu6Q7axb6GGqVKYlwjUTF4J+mqqfhraVXE03mrByuADgIns+n81xsVtWvTfLahOtnXBvwWau1q5qlofka2YawQNCuHnl/ufQn6W+Pt1N3nb2KKhsqo5wdmJOmveVfXbp9SdTHujwZY9t0yiIujIiIgLCysIKWfkXPDweTeS4OizSdQeAm89q0biKIcTQIqOIgMpwRqTJI011KsVsTDsjG53xMTAA4k7v1WhxNRl6tMBu9zH5o7SCBbulVHLwLnYTFvovdNOqBVng8mHkdhdH1cO1d9cnbdIHkqwGYNJBG4tcLjtmwHaVbwNY/wBW45iBLXfOw6Hv3Hx3qKuIiICIiDC8ttJrsXtOgynUcwUWuqWPRcWuAEjSCSRPYV3sdVP9W12UuEud8jBqe/cPHcuV+H6c18TXIythlNo+UAEx9AWj/hQdd9am7+shpG50W7pWtJgIYxsljIufzQLf+VIKrnXawRuLjE/SCt6daTlcMruHHuKxvbWtN8o4BaigzPnyjNEZovHBbrK2yIiICIiAiIgIiIMKjT2kHYjkYvffcRvI4HcryQg5m28VUYGspZuUMv6LS4kNExYGAXZRPAlZZtbM9gayWOydLNfpgkWjs4710cgmYExE71o2gwaMaPoP87ygobT2v7O9rcod8GYSZAc/IDpGvE3gqji/xE4UXup0wHinWcMzpA5J4ZpF51+i7lTC03uDnMY5w0JaCRv1WowVKXHkmS6c3RF51njK7Y5dOSbg5z9tOa/KabYa6k15D7zUMDKIuB9N/BRN/ELiw1BQ6JcGtOYiZqinfo63m08F1hgqQLSKTJYIacolo7OC1ZhaJc8imzNmGc5RJIhwnjuKd3T/ABHPw2231XhjaTA7+IXZqkABlTIYOW/HcoT+JYYXml0Sx72Q6/QeGQ4R0bkcd67D8FSdGamw5SXCWixNye9RsZh8vKBtOK0S4NHTzaTxmU7un+I49PbdZlStTNPlH8q8NaCYaG02GAQ2TJO8byups3aLq76o5PK2m7LJdJJytdpHB3FTHZ9DJk5GnlmcuQROkwp6dJrZytAkyYETuUyzws4g4df8S8mX5qPRaawkOuTSAJtFgZ4qT385pDalHKS2o6cxghjGutIBvMXG5dRtKmXGGtkEz0d7hfxC0GzqAaGijTygyBkEA8Ve7p/iObR2+54eRSa1rTTaC55u57WODQA0nRx8B9MbI2q7E4mbtYaE5NQHCq9hMx/ZXWdhKZaWmmwtMSMogxp+gW1PDsZ8LGttFgBaZ/UkqXLDV1Bx6/4i5N9QGlLGVH05DukSylymkcLarX31Wc7DgUmt5SoGnMTBaaZdYlo4axu7bddraXKFoDM4h5ECelLQ765SPoo6eEw5DmNpU4a+XNDBAdAM98H7q9/T/Ecpv4paXZOSOfTLm/MHQ9otctEH6rLfxG8mk0UGl9YU3MAqWh4cRJixGW664p0s4hrM93iwm9iZ7VlmDpM+GmxvSzWaBfSe+6vf0vx/2OZsPar6tWtReL03v6RMSOUcAGiLgAQSpn7TLKrm5SW8rkLiei3o0yNG2nNvtIN7hdBtBgIIa0ETBgTcyfFYfhabiHOpsJBkEtEg2v32HgFzzst3JoV8dtAUXMEB2YtBgmRmcGgwBpJ3kJgseary0sy2Jac0yA8tva2k79VLiW0czXVWsLhJaXNkiLmPCVMym0XDQO4dsrA3REQFU2j/AFRVtVMVXEZcrX8QXAfqsdTC543GfLWN1dvF7S+LxWHf17/+L9CvWN5NpL20KeZu/M2b6wd11tWLKhbmo03GNS5pi2i4T9Lda2+hP10nGmNj/C76fqV0lSw1dg0axgPB7eE7leXXo9O9PDtv/cvBnl3ZWiIi6sCIiAsLKwgqYL/XH83KOnj2f8sJg6tQ9CqBmDZJGmp7OHat6uHdnz03ZXEQQRLXcJHHtC0dSrVBle5rG78kyfqdFUcvD49j6VWgQWGmSKbnRkic1MzuFhrGisYQGpSAZZ9OH0p3tcJDT/Z1Z/wzuW2Pw/J1aVWm0acmWjQjUNPZqB2lqp0G8m7lKBhoflLXTlLKl2wNWQ85eAg2UV3cPXFRgcJvqDqDoQe0FSLkVdoMw7y+oDSa7+sa7SdA9p0dwO/4SQLq9TaaoD3Ehpu1oMW4mN6lqyLKjxFYU2FztBuGpOgA7SbKN7DTGZpMDVpM27J3qm7FipW6INQUzDWt3u0LidABcCe2AbJKWNcWMlI8pd9WXVY+RoktHZEN73E71yMPtqnQdQw7wScTUJNQfCTmg6iDNtCdVPtHM9tSrVOaCQymycpbT6Rtq+X9G9jayl2VhM+Ke57bUaQpAHQTqPoGgd5clSOtjabiaZa1pDXS7MNB/Z4GY+k74WKlRzqdJ4ADyQQDO8X3TpKlDKjbNLXDdmmfHetqdIzmcZO7gO5S88Nekc4jhS8Xfso6ZxPLjMKfI5bwTM7o/nPZG9XUWmWUREBERAREQEREBYWVhBztpUqznDkpg03Ns6IJc0g+Ad4qvVwNbpHNU6ReSGv/ANqHMABMRlkRaxIVvGbQFGq1rgchpue4gExlLRJjdBK3ftGm1zmnMHNi2Uy6TlEcb/5hBRbQxILJkAEOdD7ACk5pEEk/FB/moKOExDqTCDUDTyZcw1CXu6Dg4gk2lxYYkfCT2HpN2k3lTTdY5Q5rY6UQcxI3AWv2jisM2vRcWgZ5cRALHAwQXA6WEA3PAoK5weIaHPY9zqoc0tD6hykZA0ggW1zO01AWr8FXa4Q57wKgyy+2XJTBLrg6tebTqbGVbG1aRAjPeMoyGXB0kEDgYP8ANbDalLoGXAPBLXFpAsCSOwwD4IOfRwWIAbnNR8EZwKkZjDuk0gzEkWtoLWvbZg3jC4enbNT5LNw6MT+i2O1qYY+oQ8NYemSw9G2b9IP1WfeTS5wMsDKmQlwMHoZrHdZBzXYLFDDlgLjUIu4v/OGnpiHCxdx8qtOwFVxkufeq4u/iOHRyODQINukQYCnO16Qic8uMNbkOYy1zgY4Q1x+iuUqge1rmmWuAIPEG4Qck4HEOaA97t0xUI/1OXcfnv91FhKj/AG0NqmoSOiAHWnI25E/DIdBjVyunbmHDA8uIa6YJGoESe4SO3sWzNqAlo5Op0qrqWm9ua/d0UEeKwVR9bNmcGSywqOAgB2awO+QoaODxIyS52YZIfnJDQPiBbPSJvft7ArdLalMlrSSSctww5ekSG33SQQpcJjmVicmawBktIBBuIniLoOOzZ2IkuOYSyk145SXPLTUzQZsCXNMSNDoups7DPYKmck5i0yTcxTa0yRvkFat2szknVXNexjXODiW6BpILu6yVNr0Wh5OeGFwJyH8s5o4gRqg59DZVVtKgAHMdSohn9YbuDmX1uIabHwW1fA16hq5mnKXscGiob5auYwc29v8Ad3DcrlbbVJucDM5zBJaBfdI7xI/yCrj8Q1uTNIzmBI3wTfhogq7VpVX0Q2k2516RBb0TBs4TeN/bdc2ozEE1nTUBYTLs5iPZ29FrZ1zmZA3G6v4va7GUXPaDPJOqU8wIDoaXR4KertKkwOzOjLM2P5QCfsQg5owVdzXFuZsh2QOqEuBNOJmTEu7e3etqmCrk1JdUJJJBa4ZSM4LRBcNBY6b73V7D7UpVHhjCS4g2jSCRfw3T9ws1tosZUexwcMrWuzRY5iWgDtkR9UFjDBwpsD4Dg0ZoJImL3N1KocPXbUBLZEGCCIII3EKZAWpYOAWyINcg4BYNNp1A8FuiDTk28B4LdEQEREBERAWFlYQUyDWe+XFtJhyw0wXEayReBpbgVgYVsZqDyDuIcXNPYRMfzWaDxTe+m4xmcXMPzTcjvBm3CFqKbMNcOIZGVrLkkzNr3KqMV8RTqUOm4Uy8WBNw4HcN5Dh9lyRWLnhwpltPEtNJ4ecobUk6bxfMNBfvVnD4Sph6uYETXJcQ64zmSW5hcdhuLG1wodo1x/Eomm7PUiqxhH5mRmg6ZYANjNzvKiuZ+KGVMRhmUn1Zrco2mWtaA0OLsomZMn4tdL8F6zZ7iKTGVCOUY0B0byBEjsK8thWZtpUabn5g0l5cf9Y5oP8AE7zYQNOS4QvV1zTJhwzHgBJH7KXhYziX9HILucIA/n3LzWyqlShSfh2VMtSnUdSYHDM1xnok6EOylrjeIvuMekoGmDDRldwIgn915/arR7dDXZc7Wy75H/CH97QWiDrnCk55L9IcZWPKsBZmZh3NptDCXB1QQ+DadRT0BuTwXU2RiaTaRDKjXveS6Ju64aCe+xP95chlQyxjWkVKbCcoFuUrOimSdwAvf9QpMRs+rV2hQfTLB7M3pNExFgGA7zE3gCyt9Ed+sA3LnzPc4x8QAHcCR4C6mE03ASS1xi9yD38Fh9NlYNdqWGW/2XRGnGCR9SouRDmsok8oGxnJ7NJ7ZhZ4+F5+V1aio3MWyMwEkTeOMKv7sodTT8oWKey6DaoqtptDwIaQNJ1jvW2VxERAREQEREBERARFhBVxWAp1XAvzfCWkBxALSQSCN4MBRDZFEFxGaXGZzGQc2a31/bSyr7WfUZWa+nmzCi8NhhcHOzMhp4TCmwOIrOr1G1AA0ZobBtBhpBygXF9T9IKCZ2zqZOa+eIzk3sCL8R0jZa4TZjKYaTLntAGYknRuWO658VRfjMSHVJ6LQ+LMLi1ucAOHRg9G+p7rEJS2jWIbYuzFoBFM3/jFrp4QyNUFp2yGDJkc5uVzb5iSGtDgGg7gJWKmxaUSzM1waQ0yTByls31sSq1OvVq1ILX5G1GOBcyCLvBGmggcddVPtCrWZWmmXH+C4tZllpcDvjfG6ROiDSlsJhpmnVMsvla06AiHX7ftuV07PplziQTmdmIJtOXLp3KLCVnup1Zl4BIY5zILhlBuIG+RoFT9qxDGh0Q0CMuSAByBfPnEcLwgvM2XSBaek5zTILnEkdFzAO4BzvGVPhsOKYygnKAA0E/CAIXJp7RrAA9J7Cfi5IgzyTnREaBwF+2Fg4nENbVcXODv4ZDSwwAWNnKQ0wc06g/zQXxsmlJdL85PxZulcARP0Hgt/d7JkFwioagh2jjM/Qybdqixr35KDmuqM6bc8NkwWmxEHfCpCpiaTHBgJBLzdvwDloJ0M9Ek6HTRB0m7NpgWBHwxf5SXD7kqHZOznYcFpeC2BYDUjV31tbsVdtfFOc3pQP4YkU5nMXBxkgaANOg7oUbsdihHRLnGlMBhEGDJcMvZaDrAhBdxGxqNRpY7MWkvMZj+f4u6StMdsoPDMhgNc58H5nGZnsvbtVanXrNmsQX5WNmGklzQ90x0RLst7C8dqy7FYsOIOVpyT8LiJyzNmnR1tdBoZCC8NmMyuDnOOcQ+DAJtLgBoTEqbEYRlWkaT5LTE3M2vMjfZRbNxRqU2h+YPgkhwvGYgHQWMWsLbgoX16jaNXIz+JneWjKYjNGawuYM9vag3rbHovc9zgemCCMxi7Mhjh0f3W9TZdJznOdmOaZGYxcAEjtsFts+s51MZzLrmYNxJA1Av9AqWKxddmNp0RHJVBnzRdoZOcfUmnHeexBcGz2ZmOJe4sMiXb73+62xGAp1HFzpu0AwY0OZp7wbgrZ1VzqQfTuXAEWmx7yN3asYZ1Uk8oIG7ogf97kG+Hw7aYIbJkkkkySTvJUy4mBx1bPU5bNkzBtImnlzAvLcx7dBFrCYvbtoCIiAiIgIiICIiAiIgLCysIK+Lq04yPbnLtGBsk/Th2lV6JpUnSaBozbMWtjulpMfVS4O5qvPxF5B7A2wHdv8AqVjC4rlf4dVmV+WXMNxBMR2/4qokx+TkncpMGNNZm0f2piO1cbFUy6i91ZofimubAif7oaOBGa/HNwW+Dq1X1Q05W8mXMomoScwBIzgfmMW1kCeKj2lhnOc+rndUdRhjQbNc99ssCJgOESTcmd6ivM43F+zUXVKNUPNFzWUi7UNBnT8wLcp+puvoOBH8JhmS4BxPEkarxWEwza1RmGawihVeKgB/MxpPSPe0ZR/dJ4L2dKmaLQxrZptENAN2jhfcFKsSYpssJ3t6QPAheMqVBWwxq1ajabq9Tpj8/JuOVwvYBjJNpu2ZGi9g7NUtlLW75iT2WXm9rU20q9Sk4ThyHVqgH5QZzOj6OB7KgO5Sey+kOAY45TSDRiH1aj43ANDacO7PzX/N3r0OxAw0uUZo82nUAWAPbqT2uK85srCVA0GTSdiDyEAg5cg6UzvP8TSL5VaxeNrUto0cOMnJ1rVCyRcAxIk5TED6DgtVI9A8seZFLP8A2oH6nVS0Ht+Foyx+WIj6KDHyOTgOyh3SLSRlA321G6O3sR9cOp0qzGl0xAESQd2sduu5Y1rlre+FxFV9qf8A/j1fGn61pTxtQ1xTOHqNZlnOS2AeBgmZ7LrbLFZ1Wm97wC9h0YNdABH1laOxj6kBrHt0dPiIPAzlJHeuiiCrguVl3K6w2Y0zXmOyMqtrCygIiICIiAiwtRVbmy5hmG6b+CDdFA7EAVW0oOZzXOB3Q0gH/qC2diKYzS9oyxmlw6M6TwQSLDGBohoAFzA7TJ+60OIYNXtFp+IacfuEGJpktAe0lwlozDpd3FBKijNZubJmbmInLN44woX41orCj+bLmNwIBMDUyZPBBaWrmgggiQbEHetDXYCAXtBJgCRc6Qo6uPoss6qwHMGkZhYnQHggsNAAgWAWVC3EttmIaS4taHOEmDFoP+PGFsys1xIa5pI1AIJHegkRV6uKDajKcEucCbRYCLmT2hToMooqlYNLRvdP0A1J7P3C1fimAAhwcJbMGYzWae4mEE6KOpWY0gOc1pdYAkCe5ZdVaASXAAaknTvQbQsrRtVpMBwJvYHhr+oUZxLQXZyGBpiXOEGwPHt3wgnUIw1MPc8MbneIc6LkDcSt6lVrG5nODWjeTA8VXrbRpMLhnBc3LmaCJAcYB7kFmmwNaGtEACAFsohiGHLD29P4ekOl3cVsyo1wlrg4dhlBlzQdQDvutkRAREQEREBERAREQEREBYWVhBVfRex5fTgh3xMJiTpIO4xb6DRYc6s+wZyXFxIJHcBae9HvfUe5rHZGts5wALidYE2EWvdHUKjL06jnkfkfEH6gSD9uxVDFMp08OWlgc1oAa03k6NHfMXXAx9N7Wmgx5qMpjPUkxL3dENDt8udJnhE8OnXxfL1WMpGMreUcT+SQQCe0CbHfB3Fc6u+m8ClTl7XVZdl6ulrLjYy/UzPTlRVHlWUa7MU05KdN7WuaRBptf0YINwMuV/CS7ivW0qhrND2PimRLS2JcOMncvKfiTBVsRhGMDKfK1X5gw3fDj81g2BlG/RetwJHJMAGXK0NLflgaKX6WDi6ncuLm75Akdtl4/aWIa818S67W1w1jd9RtMgPaBvbDXOO6cvAr2WKdDCN7hAHEleTOHdhX0sO1rXmn072c8Aw3pXmScsQLk8QVJ7KYLDEPfTqPNKmW5qRkQHw0v6Q0GYNNu0Su5szDsrUxVdTDcw6DIg0417nTJP04LkZmDJhqoLG0XgPLrZhUggS2wh19dGjiulS2g3D1zRrOGapBp/7Q6W7Ta3EOO8LVR0w6o2xbn7QQPELLKZLg50CPhaN3b3qKoXCM7nydzGyG95j7qRrnMcGuOYO0O+eBWP5a/hOiItssoiICIiAiIgIiIMKmzZ4Fflc7jqQ20AnXtV1EFPE4Wo6qyrTc1pa1zYc0kHMWncR8qqDZDmue5lQAucSCQ4npPDnD4oHCQAdFPj9pig4NLCcwBEGLA9M/8Lel2qBu25Dnin0GuyzmuSW5mkCLgtLTPaeCBR2KGsylzSYpAuy7qbpjXQrejsosqte14ABcXQDLgXOdl1iBm1ideKjrbSqEsAYGdOln6cnpu0Ai9tT274VzZ2NNZhJbkcDBYZltgbyBx7u1BHXwD34inV5QZGOzBuW/wuabz/a3rOM2fyjnuDgCWsAkTGV+ZQV9oupVajQ01CXANaJt0Mx0BWau2Mri0U82gbDtSXtYQSRAILhoTodEGBseZLnguOYyG6TV5S1/otvdj8mQPZDXh7CWGfizdK9/spKG0XOrcmaYAlzcwdN2hpNo06X2WMXtQUqhblDgGuMgmQQzPBtAsOM6WQQu2OelFQQ8uzS24DqrqnRvY9KJ7AdysYPZwpPzAj88wInNUL/tKkwONNUVMzQw03AHpSLsa8XgbnKozbDnQ1tNpcX5W9MhpmmXgyW6QOCDbF4epU9ocGw7kslOSJJGYzI3GW+C3pUajHVHOGaaksg/M1oJ7ADP3Vf37LOUFLoQPz3k084tGm6Z7VN70fvpAQWB0vuC/wCHdcXEnv1hAwuGqsFIuuWtdTvcwQ25jW7d3FQ4PZBw9N9Nrg7lHtcegGwbZtPy2sN2mmmXbZBZyrWOyhryG5hfKAb2Mdl9L6EKQbVcHOD6bWZS8TylpaA75dCDr9kFvE4UVNXEWi0feRfuNlGcCfZ30gWy4ESWDKJ/s7/qqjNq1H1GNFMBpbVzySHAsLRaW/2t4/xDbOVmYslo6Ml3SLhS5S4jSN/2hBY2bgDhmspNLXU25oJEPuQRJ3n4pO+y0rbJD31HEjpvLoLZiaIpfyn6wrGDxbqgfLA1zDEZpBlocLxwI3KlS2u/kmufTbPJCo+H2DSY6Mi5sbd17oLlfCOcykGuAdSIIzCWnoltxPb4qozYxALc7S0tpg9C8sfm4xB0jcrG0MbyL2WJljiBIAJlgE2td2u6+qq0tqVA8sNMvcXukNJIa0FosQ2+u+EGw2JDw7OD0nOIOYATVNQRDgLTvnQK/gMKKNGnSEdBoEgRJAuY7Vzqm2KhaclJsyyMzzBBq8mdBY/v2QpDj6oq5GMDxNSQXQZaGwG9HS+9B1UVbA4wV2l7R0Jhp+awJ8CSO8FWUBERAREQEREBERAREQFhZWEFTCGHVaZ+LMXDta4zPjI+i0w9D2cGX/wWt/MbgyTw/wA2U2NFKAapAj4TMEHsIvPcq9AUC8dJznatFQu8QHb+1VFVmz6dKjUqmnNSo4vh9xneeiINgRLQqUgF5EuDhTw1Jo1Lbud9XNvPAjgultmsM1KlOWZe48GgXP3kdoCp7OcZqYk3aG/wqYt8ZGQX/MWimOzNHfFX8HQJrue6C5nxEaZyNB2NaYH9529W67WDpOdlPEGCf3WcNS5OmATJuXHiTcnxlRte1lPlqhAJEkncOAWb9LPtvQawnM12c8SZI/ZecxRdW2hWdT+Ojkp0p0Lsua/9npEnf0LXhd59QO5RzQQ6lvt0hlDt2og71xPwzSqPY+u0Bprve/O78oc6YDd5gAEmBYawk+i/a1iXUm0GlxIPSp1Wn4zm+O28gw7u7CqdPY5q18PjSxtM0gSabYkuFjMDWc3HQcV2KuBFMmqwGo4jLVzXdUb+4vAFtR3R7FrdKrSzZssPa75muFj2zEntJWqi5icOKwY4OIynM0g6mN/Efzg7lo9hcynSe4l9i4tJBEb577LLxTDjDnA7wwn7gKbDhkSyDxOp+qxvfDWtcovYG/PW/wDld+6jpbMa2vywqVCQ3LlLyQe+dezhdXllbZEREBERAREQEREBEWEENd1PM1rwC50hoiT29w/dPZKeYO5NmYNyg5RIHDuVPaWDqPeX0yQ4UKjGkOI6TssfobqrisHiqgqlpewltU0xykQ4sYGTBj4g48LoOu/DUy4Pcxhc2wcWiR3FaYfDUWn+GxrchIhogAmJ/kuficFUeKoc17nF2YOFSGloeCGgSIIAjQDtusYjC4glxGctObK0VILSWsDSTOgIfOuswUHUq4Wm8EPY1wJBMtBkjRYbhKQcXCmwOJBJyiTBB/UDwVGnQrU6hqkueIqS0OJn4coDSYGh8VY2jSe4MyhzmgnO1r8rjYxeRoe39IQWeSaDOUTczHHVaHC0i4vNNhcRBdlEkRGvcuZTwuJMMqOLrgueHwCORyEcfjvp2qGnh62anTa2o0sp0tahytIecxN+lIERfdog7oY1swAJ1tru/YKniNnYYNbmpsDGuzZQ0QSWltxF7EqjWwVd7C14ecvJwOU+ItrZiRf5YiY+kKztrDVqtJjaBLKkzmzlsCDIMTM6dkzqAgtN2fSD3VMjS51pIBgZQ2BwEBZNGjUeSWMc5nQJLQSJEx4H7qHFUnupUw1roBGdgfDiINs03MxvvCpVMFWzOIa7I4k5BUh2bk6bWuLpvBa6ddQbwg67sOwzLGmbGwvu/RH0KZBzNaQZmQLzY+Oi478HiZddxbILjmhz9ZDelETBvl0i8q3jMI9+Gpthz3MdTcRmhxyuBNwQJid6C0MFSAaBTYA0kt6IsTqRwWfZKWbNybM2XLOUTHDu7FTwdCsKxL5jp5nF8hwLpYA3dAsdPrMrSjha4xrqpzcgZAZyhMGB08ukGIjdE/mMB1GsAmABOsDW0fooRgqIy/wmdElzeiLE6kdqnWUEdSk13xNDrEXE2Oo7io/YqMNHJMhployix4jtVhEELsLTcC0sYQRBBaIImY8brD8Kwx0Wggy05RLTESJ3qdEEWHoimwMboPvvJ7ybqVEQEREBERAREQEREBERAWFlYQU8M0OfUquuQ4sbP5Q2x7pMme7glKvTxLMpBuJLT8TbwD2G3eskOpPc4NLqbzJDfiad9t4PZeeM205bM4upUncoRGZ7HNAHbmifoqjjspVHuxGIrWDIo0p/MWuy5iNwzmY7BwC6GzqWYsEdFv8AEPeRDAf7rI/5VFtjLTpUKEkhzulxLWguce+b966eColjOl8bjmd3nd9BA7gFFWFWa7I3I8HKLAxII7eCsopYsqnla4u5Nvx/G6COzfqYspKmBpuM5crvmYS131I1+qsIkhaq8lWZ8NQVBwqCD5mj+S85i6ldm0qIo0HsbUBbUdZzGhzgSQQbaSJi5Nrr1q0rU8zSNOB4FKkVcXV5Hkg05Wl0G0j/AIjuHbxjjfarVa0NrNmDEw0kkHSwE6wtzVsW1GOuIMNLgfD+axSpTlAblYzQHUlZtl4jXPuse8afy1f/AIKnpWlLajH1xRDakluYE03AfWRb66q6kLbLKIiAiIgIiICIiAiwoG4xhqcnPSvFrGNRPYgnRV34gjEMpQIcx7p39EtH/co37VotLpcbGJymCQQ0gGIJkxZBcRV6GNZUeWNzSAJlpESAYMixgiygp7RBrPY45QH8m2WOlzsmc30iAfDW6C+iot2vQJAz6iZLXBvwcp8UQOjdZG02FzGhtTph0E03ACI1kaXCC6ipU9qUiBLr5QSQ12WcuaJjWLxqo6+0s1Jz6JBLSAWvY4EkgZQBY3kX7UHRRVdoYl9Kg6oxoLxENJsSSBE/VVnbXHKMEAUjSNR7z+W0gR3TP0QdNFUbtOkQCC6C7LOR1jIEOtbUa8VthsfTquc1hMt4tI3kWJF7g6ILKLms2kRVqCq5tNrM3Rc1wcQPzB2jhF4AtPFTDatGHEuc3LmzBzHAjK0ONiJ0cD9UFxFUq7SpMJDy5sNzXa64sLWv8Q04rU7XogkFxBAkjI6d1gIu646Ot0F1ZVCljy7D1aob8BqQCCPgJFwbjRR4baXQD6rgQ4tADKb5kiYi8/RB00VH3tRgmXGC4GGO/KYcdNAbE6KfD4plUuyEnKYJggT2E2P0QToiICIiAiIgIiICIiAiIgIiICwsrCCtVrvLyykBI+JzvhbOggansstXOrs6RyVG7w1pa76XM91lrhpy1mtgVA9xv23ae6I8FvQ5QVHF85cjLyMuYZs0CZGo8FUcsxitpNi9KhSa6dxLzmA/5Wn6dq7y5+xcK2nTc5o/rajqkngT0fBuULoqK1e8NBcTAAklamuy4zNka3FlmrTD2ua7RwIP1VV2zKRdmIJJmZJMyIQWBiGEgBwJJgQZ3T+glSKv7EwAASIdmEHfGX9FNSZlaGzMCJ4oN1q54ESYnTwn+S2UVagHxJIgyIMbiP0KDIrMgHM2DpcXWWVWuMAg2m3C/wCxVRmyqQMwdQfrf9ZKldgxbKS2A1tuDTI/z2oLKLCygIiICIiAiIgIiIMKBmCpiqaob0zvk/W2isLCCticGKj2vD3sc0FoLY0ME6g8AojspnS6TxOaBYhpcZcQCN54zvWu1MQGupMcYY501DBjKAYBI0l0a2IlS0minQa2g2GtADWxu7iQg1w2y6dJ7XtLjkZkaDFh9BO7SY4ALNbZ7Hmczmu5TlJad+Tkz9MpIUmGfUJOdscOjH/cVQr1X06bnU/jAflGXNJ5WwgcdJ3TKCw3Y9ENDYJaIsTr/C5L/pUgwA6BNSo4tJgki4IAym2lh29q12bXq1MO172jlTOZpBaGmTLd8xpO+J3qy1z4OYBttQZ/kEFQbIpCBL8sfDNicmTNxnLbh2LenRpNcWh3ScWuiZ+ECPsAubsivVeByrMh5UEDIW5gWuh997tY1GhVnCfHQk25MBoyb8lzM8N8dk3uHRr0BUbldMSDbsII/RVjsmiQ4ZTDi8uEm+cQf87leRBznbHpksLnPOQyPhv0g4aNtcDSO2VYw+CZTMtmYIueLi79SrKIKNbZjahJqPqPaZhpIhpIIJECZgnUmJVf3KHcqKlR7s7jcEBxa6m1jgTG/LujcusiDnHY1I1HVCXEntFrtPCdWDX6Lepsum5z3S4ZzMCLOkHMDEzIG+OxXkQVqeCa2k+lLiH5i4k3OYkn9StKWzwMs1KjwwgtzEWgEbgOKuIgo1Nl0y0AOe345LTch7szh3E/UbirOHw7abcrbCSfEypUQEREBERAREQEREBERAREQEREBYWUQV6+GDnBwcWPAjM3hwINiO9RnCOfarUL2/KAGg9+892izisK95cWVMmZobMGRBmRftUTcDU/NWfvsCdJt9Yie1Nml8LKrU6T2vNwWlxOlxb73VhBlERAREQEREBERAREQEREBERAREQEREBERBhFlEGFoyi1pkDj9zJ+6kRBhFlEHJqUMQNoNfIOGcyC25LXtmD2SDH07leZhGNeHDMC1uUDMYjumFOiDKIiAiIgIiICIiAiIgIiICIiAiIgIiICIiAiIgIiwgyiqDHtu4iKYOXOSACZywBrrZYqbTotBIeHGYABuTYW+pA+oQXEVahjWVCQ03EfcSL6aXSvjGsqU2EEl5i35bGCe8iEFlFSftSiGZg8O4Bpu42sPEeIUg2hRJAFRt9L9sf57igsoq7sYzk3VGuDg1uY5TO6VDS2pSIBcck5fi1k/l7xYd5CC8ihxFcUwLElxytaNSf8yfooBtD+JyZYQ/LmLcwn6D826/aEF1FzmbYpktBDmySCTEAgOPG9mONuxbs2mwmkA138UmJHw6wTwmLf+UF5FWxuMbRaHO0JiSQAO8mwH+CMx1M74IdkM/Nwn6wgsoqJ2rR6GV4cHHUGwEAzPCCO+Qt37ToNBJqNsJN77z/I+B4ILaKq/GtbkzAjMxz+4NAmfELUbSpZZzAERmBIBbxnuv4ILiLVjw6YIMGD3rZAREQEREBERAREQEREBERAREQEREBERAREQEREBERAREQEREBERAREQeeP4n/2P/P/AILX+lH+w/5/8FwnqNyVY7tT8W5QTyGg+f8AwUY/GYy5jQA//Z2/3V5/E/CVy69F1Z1KlTEkguPADipFr1b/AP1BpgxyBMcH/wCCko/jym/SiO41I/7VRobBw1Nglge4i5ddUsVsigQQ1uU8RuVZei/pf/sP/wCn/wBVr/TLX/2+hj+s/wDqvEbPqPZUfRcZy6H6q7vd3/yCjckr0bPxIxpthjGbNHKnKDJMgRAvdd3Z2Co1KNGoGFoLWuDQ8wNCB2gEBeAK9bs7aNRuHpNBEBgAt2JEymnfw+DZS+AEaWzGLNDRbuA8FirgKT3ZnMBdIObeMukHUDs7TxK5XvWrxb4J71q8W+CrLpDZlEEENIiNHGLZYkTf4W+Cwdl0YjJbIGRJ0Fh/5XGqbfqNcWmLQdNxgT42+hWP6RumJvMfAdUHfZgqbWOYGw1zi4iTckz4dnC2iqv2QzlW1GEsh5eQLySQSb8YH8oXKZ+Iajg4j8rc0EajKD/MJ/SGrkzQPiyxG+JOngg9BUwrXNa10nLBDsxDpFpkb9fFRv2dTd8RebReo61ote1v1PErkHbVXK026URbiJ/RRU9v1nZbNAM/SADw7UHcOzqRILmZoblGa9vqtW7KoNADaYGWMpGrcukHd3dp4lcUfiGpMQNTeODg3+as+9avFvgg61bCNe0NcXEAQekRIiLxqo3bMpEglps4uHSMAkzIE8VzfetXi3wT3rV4t8EHS92Ufli0CCREZY/6G+Cwdl0S0tymCSTDjJJblMmbyNVzvetXi3wT3rV4t8EHWxGDZUILxNi3UiQYkHiLBa+76Uzlk31J35p/63ePYFzWbTqnePBb+8anEeCDq0KLabGsaIa0QN/33ntUi43vGpxHgnvGpxHgg7KLgVts1GGLGxOiUttPcWAR02lwtwj91rsutjvovNN/ETjPfawuJAB7jP2K2/pAdxJmPy8TA1WvFn9D0aLzrfxATAzCSQPh4rWp+IHteWkaGCY3ZZn+UKePL1oekReb/pCcwE62+Hfa33WzNvuNPPIAGttLSnjz+h6JF59+23jKdc0gW/NOn6+CjH4i/tDy9k+EJOnlfgekRcKjth7xLSImPh7Af0IUnvGpxHgs2a4o7KLje8anEeCe8anEeCg7KLksx9QjUeC29uqdngg6iLl+3VOzwT26p2eCDqIuX7dU7PBPbqnZ4IOoi5ft1Ts8E9uqdngg6iLl+3VOzwT26p2eCDqIuX7dU7PBPbqnZ4IOoi5ft1Ts8E9uqdngg6iLl+3VOzwUWI2o+mwusbgRHEx/NB2UXEqbWeGlwggNB4a7v89i2o7TqPzWAgxx3IPMvURWXuUbylWIMSeifp+qxszDuDzVYJdyQAnTULTEv6J7CP3V3ZlXLbsCkW+m+Hq4ol5qkZWzlsuczaNUvIe0R3XC6uMxsNIzNBO42VGnUBE2J4rRJw5dCiRiarjpMAq1+Y9w/mt6hFyO9Rus8jsH7/zWK1OGy97sbAUnYSg4tkmm0m54d68DwX0fYf8AoeH/AN039FYmST3bR+T7n90920fk+5/dW0VYU/dlH5Puf3T3XQ6seJ/dXEQUxsuh8n3P7odl0Pk+5/dXEQUzsugdWfc/unuyj8n3P7q4iCkdlUDqzt1P7rb3bR+T7n91bRBU920fk+5/dPdtH5Puf3VtEFT3bR+T7n90920fk+5/dW0QVRs6iPyfc/unsFL5fuf3VpEFX2Cl8v3P7p7BS+X7n91aRBUds2iTJZMdpWfd1HXJ9yrSJsVTs6j8g8Sse7qPyDxKtogq+7qPyfcp7vpfJ9yrSIKnu2j8g8Ss+7qPyDxKtImxV930vk+5WPd1H5B4lW0QVfd9L5PuU9gpfL9z+6tIgrewUvl+5/dPYKXy/c/urKIK4wVMfl+5T2On8v3KsIgr+x0/l+5T2On8v3KsIgr+x0/l+5T2On8v3KsIgr+x0/l+5T2On8v3KsIgr+x0/l+5T2On8v3KsIgr+x0/l+5T2On8v3KsIgr+x0/l+5T2On8v3KsIgr+x0/l+5Q4KmdW/cqwiCt7BSv0NdblZGCp/L9yrCIPm7nKNzrpKhq1YnvVxxuXpnPq49P2g2g/pmOA+zFNSqZS0g6EXVd5EOzEC+qiq4tsFrQXA2toF2nRk915b+pyy4xjrYhjCCXBhcbHNquc+uKbDGgjRWMG0VxkfGdvHUhVNqYVzAGC+8rlq26eu5zt3tPmDhI0Khq1JdP8AZjwhUqdbcDBH3Uwrl0Zu1L0r8M49eX/LhdqmHvA0DjHdK+kbD/0PD/7pv6L5g1x1JmV9O2Af/ZYb/dN/RYjtfToIiKsCIiAiIgIiICIiAiIgIiICIiAiIgIiICIiAiIgIiICIiAiIgIiICIiAiIgIiICIiAiIgIiICIiAiIgIiIPl1R27tVSpJY3vC5btsVCNGazof3WvvWpwZ4H916Mc8cZp4M+j1Msu6uxVEn7ouP71qTMN8D+6e9anBvgf3W/Liz/AE2bqVKhpkPaS0jQjcon1quIcXPdObVcytj3vEGI7EpY57NA37/us+XHbrOhlMf3dVuGaFnkguZ70qcG+B/dDtOpwb4H91fLix4eov5oML6l+Hf9Awv+5Z/0hfGjjXEzAXoMF+PcXQo06TadAtptDQS10wBF+kvPnZbuPZ05Zjqvq6L5fzj43qsP5X+tOcfG9Vh/K/1rLb6gi+X84+N6rD+V/rTnHxvVYfyv9aD6gi+X84+N6rD+V/rTnHxvVYfyv9aD6gi+X84+N6rD+V/rTnHxvVYfyv8AWg+oIvl/OPjeqw/lf605x8b1WH8r/Wg+oIvl/OPjeqw/lf605x8b1WH8r/Wg+oIvl/OPjeqw/lf605x8b1WH8r/Wg+oIvl/OPjeqw/lf605x8b1WH8r/AFoPqCL5fzj43qsP5X+tOcfG9Vh/K/1oPqCL5fzj43qsP5X+tOcfG9Vh/K/1oPqCL5fzj43qsP5X+tOcfG9Vh/K/1oPqCL5fzj43qsP5X+tOcfG9Vh/K/wBaD6gi+X84+N6rD+V/rTnHxvVYfyv9aD6gi+X84+N6rD+V/rTnHxvVYfyv9aD6gi+X84+N6rD+V/rTnHxvVYfyv9aD6gi+X84+N6rD+V/rTnHxvVYfyv8AWg+oIvl/OPjeqw/lf605x8b1WH8r/Wg+oIvl/OPjeqw/lf605x8b1WH8r/Wg+oIvl/OPjeqw/lf605x8b1WH8r/Wg+oIvl/OPjeqw/lf605x8b1WH8r/AFoPqCL5fzj43qsP5X+tOcfG9Vh/K/1oPqCL5fzj43qsP5X+tOcfG9Vh/K/1oPqCL5fzj43qsP5X+tOcfG9Vh/K/1oPqCL5fzj43qsP5X+tOcfG9Vh/K/wBaD6gi+X84+N6rD+V/rTnHxvVYfyv9aDx6IiAiIgIiICIiAiIgIiICIiAiIgIiICIiAiIgIiICIiAiIgIiICIiAiIgIiICIiAiIgIiICIiAiIgIiICIiAiIgIiICIiAiIgIiICIiAiIgIiICIiAiIgIiICIiAiIgIiICIiAiIgIiICIiAiIgIiICIiAiIgIiICIiAiIgIiICIiAiIgIiICIiAiIgIiICIiAiIgIiICIiAiIgIiICIiAiIgIiICIiAiIgIiICIiAiIgIiICIiAiIgIiICIiAiIgIiICIiAiIgIiICIiAiIgIiICIiAiIgIiICIiAiIgIiIP/9k=\n"
                },
                "metadata": {}
              }
            ]
          }
        },
        "81fe116710ff40c4b34b97cb968175d4": {
          "model_module": "@jupyter-widgets/base",
          "model_name": "LayoutModel",
          "model_module_version": "1.2.0",
          "state": {
            "_model_module": "@jupyter-widgets/base",
            "_model_module_version": "1.2.0",
            "_model_name": "LayoutModel",
            "_view_count": null,
            "_view_module": "@jupyter-widgets/base",
            "_view_module_version": "1.2.0",
            "_view_name": "LayoutView",
            "align_content": null,
            "align_items": null,
            "align_self": null,
            "border": null,
            "bottom": null,
            "display": null,
            "flex": null,
            "flex_flow": null,
            "grid_area": null,
            "grid_auto_columns": null,
            "grid_auto_flow": null,
            "grid_auto_rows": null,
            "grid_column": null,
            "grid_gap": null,
            "grid_row": null,
            "grid_template_areas": null,
            "grid_template_columns": null,
            "grid_template_rows": null,
            "height": null,
            "justify_content": null,
            "justify_items": null,
            "left": null,
            "margin": null,
            "max_height": null,
            "max_width": null,
            "min_height": null,
            "min_width": null,
            "object_fit": null,
            "object_position": null,
            "order": null,
            "overflow": null,
            "overflow_x": null,
            "overflow_y": null,
            "padding": null,
            "right": null,
            "top": null,
            "visibility": null,
            "width": null
          }
        }
      }
    }
  },
  "cells": [
    {
      "cell_type": "markdown",
      "metadata": {
        "id": "view-in-github",
        "colab_type": "text"
      },
      "source": [
        "<a href=\"https://colab.research.google.com/github/DL4CV-NPTEL/Deep-Learning-For-Computer-Vision/blob/main/notebooks/Week_9/Week_9_Lecture_1.ipynb\" target=\"_parent\"><img src=\"https://colab.research.google.com/assets/colab-badge.svg\" alt=\"Open In Colab\"/></a>"
      ]
    },
    {
      "cell_type": "markdown",
      "source": [
        "# Lecture 1: Attention in Vision Models: An Introduction"
      ],
      "metadata": {
        "id": "6JBHHJ35r4uJ"
      }
    },
    {
      "cell_type": "code",
      "source": [
        "#@title \n",
        "from ipywidgets import widgets\n",
        "out1 = widgets.Output()\n",
        "with out1:\n",
        "  from IPython.display import YouTubeVideo\n",
        "  video = YouTubeVideo(id=f\"msiQiqXgOkk\", width=854, height=480, fs=1, rel=0)\n",
        "  print(\"Video available at https://youtube.com/watch?v=\" + video.id)\n",
        "  display(video)\n",
        "display(out1)"
      ],
      "metadata": {
        "colab": {
          "base_uri": "https://localhost:8080/",
          "height": 519,
          "referenced_widgets": [
            "892e1849868b4c25be86ded9d22af177",
            "81fe116710ff40c4b34b97cb968175d4"
          ]
        },
        "cellView": "form",
        "id": "NnhOJ6b2sOgL",
        "outputId": "aade0a0f-5fa4-4a85-cf52-0169f42d71b2"
      },
      "execution_count": 1,
      "outputs": [
        {
          "output_type": "display_data",
          "data": {
            "text/plain": [
              "Output()"
            ],
            "application/vnd.jupyter.widget-view+json": {
              "version_major": 2,
              "version_minor": 0,
              "model_id": "892e1849868b4c25be86ded9d22af177"
            }
          },
          "metadata": {}
        }
      ]
    },
    {
      "cell_type": "code",
      "source": [
        "#@title \n",
        "from IPython import display as IPyDisplay\n",
        "IPyDisplay.HTML(\n",
        "    f\"\"\"\n",
        "  <div>\n",
        "    <a href= \"https://github.com/DL4CV-NPTEL/Deep-Learning-For-Computer-Vision/blob/main/Slides/Week_9/DL4CV_Week09_Part01.pdf\" target=\"_blank\">\n",
        "    <img src=\"https://github.com/DL4CV-NPTEL/Deep-Learning-For-Computer-Vision/blob/main/Data/Slides_Logo.png?raw=1\"\n",
        "  alt=\"button link to Airtable\" style=\"width:200px\"></a>\n",
        "    </div>\"\"\" )"
      ],
      "metadata": {
        "colab": {
          "base_uri": "https://localhost:8080/",
          "height": 100
        },
        "cellView": "form",
        "id": "pzeiufYzsaP7",
        "outputId": "4aadf9a3-365c-4230-f6af-df3c576d172a"
      },
      "execution_count": 2,
      "outputs": [
        {
          "output_type": "execute_result",
          "data": {
            "text/plain": [
              "<IPython.core.display.HTML object>"
            ],
            "text/html": [
              "\n",
              "  <div>\n",
              "    <a href= \"https://github.com/DL4CV-NPTEL/Deep-Learning-For-Computer-Vision/blob/main/Slides/Week_9/DL4CV_Week09_Part01.pdf\" target=\"_blank\">\n",
              "    <img src=\"https://github.com/DL4CV-NPTEL/Deep-Learning-For-Computer-Vision/blob/main/Data/Slides_Logo.png?raw=1\"\n",
              "  alt=\"button link to Airtable\" style=\"width:200px\"></a>\n",
              "    </div>"
            ]
          },
          "metadata": {},
          "execution_count": 2
        }
      ]
    },
    {
      "cell_type": "code",
      "source": [
        ""
      ],
      "metadata": {
        "id": "9iS4yTp2s2mb"
      },
      "execution_count": null,
      "outputs": []
    }
  ]
}