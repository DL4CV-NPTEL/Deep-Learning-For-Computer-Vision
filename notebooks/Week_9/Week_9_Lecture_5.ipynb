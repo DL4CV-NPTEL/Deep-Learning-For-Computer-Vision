{
  "nbformat": 4,
  "nbformat_minor": 0,
  "metadata": {
    "colab": {
      "name": "Week_9_Lecture_5.ipynb",
      "provenance": [],
      "include_colab_link": true
    },
    "kernelspec": {
      "name": "python3",
      "display_name": "Python 3"
    },
    "language_info": {
      "name": "python"
    },
    "widgets": {
      "application/vnd.jupyter.widget-state+json": {
        "40808c85464c4468b92f858badee600e": {
          "model_module": "@jupyter-widgets/output",
          "model_name": "OutputModel",
          "model_module_version": "1.0.0",
          "state": {
            "_dom_classes": [],
            "_model_module": "@jupyter-widgets/output",
            "_model_module_version": "1.0.0",
            "_model_name": "OutputModel",
            "_view_count": null,
            "_view_module": "@jupyter-widgets/output",
            "_view_module_version": "1.0.0",
            "_view_name": "OutputView",
            "layout": "IPY_MODEL_c1919c35733a4a2e915b7d5bd95b0ce0",
            "msg_id": "",
            "outputs": [
              {
                "output_type": "stream",
                "name": "stdout",
                "text": [
                  "Video available at https://youtube.com/watch?v=phOc25QfNS0\n"
                ]
              },
              {
                "output_type": "display_data",
                "data": {
                  "text/plain": "<IPython.lib.display.YouTubeVideo at 0x7f82e48aa3d0>",
                  "text/html": "\n        <iframe\n            width=\"854\"\n            height=\"480\"\n            src=\"https://www.youtube.com/embed/phOc25QfNS0?fs=1&rel=0\"\n            frameborder=\"0\"\n            allowfullscreen\n        ></iframe>\n        ",
                  "image/jpeg": "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\n"
                },
                "metadata": {}
              }
            ]
          }
        },
        "c1919c35733a4a2e915b7d5bd95b0ce0": {
          "model_module": "@jupyter-widgets/base",
          "model_name": "LayoutModel",
          "model_module_version": "1.2.0",
          "state": {
            "_model_module": "@jupyter-widgets/base",
            "_model_module_version": "1.2.0",
            "_model_name": "LayoutModel",
            "_view_count": null,
            "_view_module": "@jupyter-widgets/base",
            "_view_module_version": "1.2.0",
            "_view_name": "LayoutView",
            "align_content": null,
            "align_items": null,
            "align_self": null,
            "border": null,
            "bottom": null,
            "display": null,
            "flex": null,
            "flex_flow": null,
            "grid_area": null,
            "grid_auto_columns": null,
            "grid_auto_flow": null,
            "grid_auto_rows": null,
            "grid_column": null,
            "grid_gap": null,
            "grid_row": null,
            "grid_template_areas": null,
            "grid_template_columns": null,
            "grid_template_rows": null,
            "height": null,
            "justify_content": null,
            "justify_items": null,
            "left": null,
            "margin": null,
            "max_height": null,
            "max_width": null,
            "min_height": null,
            "min_width": null,
            "object_fit": null,
            "object_position": null,
            "order": null,
            "overflow": null,
            "overflow_x": null,
            "overflow_y": null,
            "padding": null,
            "right": null,
            "top": null,
            "visibility": null,
            "width": null
          }
        }
      }
    }
  },
  "cells": [
    {
      "cell_type": "markdown",
      "metadata": {
        "id": "view-in-github",
        "colab_type": "text"
      },
      "source": [
        "<a href=\"https://colab.research.google.com/github/DL4CV-NPTEL/Deep-Learning-For-Computer-Vision/blob/main/notebooks/Week_9/Week_9_Lecture_5.ipynb\" target=\"_parent\"><img src=\"https://colab.research.google.com/assets/colab-badge.svg\" alt=\"Open In Colab\"/></a>"
      ]
    },
    {
      "cell_type": "markdown",
      "source": [
        "# Lecture 5: Self-Attention and Transformers"
      ],
      "metadata": {
        "id": "OzhWzDLijFuM"
      }
    },
    {
      "cell_type": "code",
      "source": [
        "#@title \n",
        "from ipywidgets import widgets\n",
        "out1 = widgets.Output()\n",
        "with out1:\n",
        "  from IPython.display import YouTubeVideo\n",
        "  video = YouTubeVideo(id=f\"phOc25QfNS0\", width=854, height=480, fs=1, rel=0)\n",
        "  print(\"Video available at https://youtube.com/watch?v=\" + video.id)\n",
        "  display(video)\n",
        "display(out1)"
      ],
      "metadata": {
        "colab": {
          "base_uri": "https://localhost:8080/",
          "height": 519,
          "referenced_widgets": [
            "40808c85464c4468b92f858badee600e",
            "c1919c35733a4a2e915b7d5bd95b0ce0"
          ]
        },
        "cellView": "form",
        "id": "45g3WC-YjI3F",
        "outputId": "4aec1a3b-9233-429e-ff05-569659d979fd"
      },
      "execution_count": null,
      "outputs": [
        {
          "output_type": "display_data",
          "data": {
            "text/plain": [
              "Output()"
            ],
            "application/vnd.jupyter.widget-view+json": {
              "version_major": 2,
              "version_minor": 0,
              "model_id": "40808c85464c4468b92f858badee600e"
            }
          },
          "metadata": {}
        }
      ]
    },
    {
      "cell_type": "code",
      "source": [
        "#@title \n",
        "from IPython import display as IPyDisplay\n",
        "IPyDisplay.HTML(\n",
        "    f\"\"\"\n",
        "  <div>\n",
        "    <a href= \"https://github.com/DL4CV-NPTEL/Deep-Learning-For-Computer-Vision/blob/main/Slides/Week_9/DL4CV_Week09_Part05.pdf\" target=\"_blank\">\n",
        "    <img src=\"https://github.com/DL4CV-NPTEL/Deep-Learning-For-Computer-Vision/blob/main/Data/Slides_Logo.png?raw=1\"\n",
        "  alt=\"button link to Airtable\" style=\"width:200px\"></a>\n",
        "    </div>\"\"\" )"
      ],
      "metadata": {
        "colab": {
          "base_uri": "https://localhost:8080/",
          "height": 100
        },
        "cellView": "form",
        "id": "3K1xbrykjQ1t",
        "outputId": "2bb76dda-f052-4621-845b-9cfe3dd48364"
      },
      "execution_count": null,
      "outputs": [
        {
          "output_type": "execute_result",
          "data": {
            "text/plain": [
              "<IPython.core.display.HTML object>"
            ],
            "text/html": [
              "\n",
              "  <div>\n",
              "    <a href= \"https://github.com/DL4CV-NPTEL/Deep-Learning-For-Computer-Vision/blob/main/Slides/Week_9/DL4CV_Week09_Part05.pdf\" target=\"_blank\">\n",
              "    <img src=\"https://github.com/DL4CV-NPTEL/Deep-Learning-For-Computer-Vision/blob/main/Data/Slides_Logo.png?raw=1\"\n",
              "  alt=\"button link to Airtable\" style=\"width:200px\"></a>\n",
              "    </div>"
            ]
          },
          "metadata": {},
          "execution_count": 2
        }
      ]
    },
    {
      "cell_type": "code",
      "source": [
        ""
      ],
      "metadata": {
        "id": "bI4ZqpIsjZNc"
      },
      "execution_count": null,
      "outputs": []
    }
  ]
}