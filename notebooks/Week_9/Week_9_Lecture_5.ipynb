{
  "nbformat": 4,
  "nbformat_minor": 0,
  "metadata": {
    "colab": {
      "name": "Week_9_Lecture_5.ipynb",
      "provenance": [],
      "include_colab_link": true
    },
    "kernelspec": {
      "name": "python3",
      "display_name": "Python 3"
    },
    "language_info": {
      "name": "python"
    },
    "widgets": {
      "application/vnd.jupyter.widget-state+json": {
        "3fb69562aff24124ab6d925336f7dd46": {
          "model_module": "@jupyter-widgets/output",
          "model_name": "OutputModel",
          "model_module_version": "1.0.0",
          "state": {
            "_dom_classes": [],
            "_model_module": "@jupyter-widgets/output",
            "_model_module_version": "1.0.0",
            "_model_name": "OutputModel",
            "_view_count": null,
            "_view_module": "@jupyter-widgets/output",
            "_view_module_version": "1.0.0",
            "_view_name": "OutputView",
            "layout": "IPY_MODEL_aefb54f3796b4c5aa11532ab99149d13",
            "msg_id": "",
            "outputs": [
              {
                "output_type": "stream",
                "name": "stdout",
                "text": [
                  "Video available at https://youtube.com/watch?v=phOc25QfNS0\n"
                ]
              },
              {
                "output_type": "display_data",
                "data": {
                  "text/plain": "<IPython.lib.display.YouTubeVideo at 0x7f9ae1ead850>",
                  "text/html": "\n        <iframe\n            width=\"854\"\n            height=\"480\"\n            src=\"https://www.youtube.com/embed/phOc25QfNS0?fs=1&rel=0\"\n            frameborder=\"0\"\n            allowfullscreen\n        ></iframe>\n        ",
                  "image/jpeg": "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\n"
                },
                "metadata": {}
              }
            ]
          }
        },
        "aefb54f3796b4c5aa11532ab99149d13": {
          "model_module": "@jupyter-widgets/base",
          "model_name": "LayoutModel",
          "model_module_version": "1.2.0",
          "state": {
            "_model_module": "@jupyter-widgets/base",
            "_model_module_version": "1.2.0",
            "_model_name": "LayoutModel",
            "_view_count": null,
            "_view_module": "@jupyter-widgets/base",
            "_view_module_version": "1.2.0",
            "_view_name": "LayoutView",
            "align_content": null,
            "align_items": null,
            "align_self": null,
            "border": null,
            "bottom": null,
            "display": null,
            "flex": null,
            "flex_flow": null,
            "grid_area": null,
            "grid_auto_columns": null,
            "grid_auto_flow": null,
            "grid_auto_rows": null,
            "grid_column": null,
            "grid_gap": null,
            "grid_row": null,
            "grid_template_areas": null,
            "grid_template_columns": null,
            "grid_template_rows": null,
            "height": null,
            "justify_content": null,
            "justify_items": null,
            "left": null,
            "margin": null,
            "max_height": null,
            "max_width": null,
            "min_height": null,
            "min_width": null,
            "object_fit": null,
            "object_position": null,
            "order": null,
            "overflow": null,
            "overflow_x": null,
            "overflow_y": null,
            "padding": null,
            "right": null,
            "top": null,
            "visibility": null,
            "width": null
          }
        }
      }
    },
    "accelerator": "GPU"
  },
  "cells": [
    {
      "cell_type": "markdown",
      "metadata": {
        "id": "view-in-github",
        "colab_type": "text"
      },
      "source": [
        "<a href=\"https://colab.research.google.com/github/DL4CV-NPTEL/Deep-Learning-For-Computer-Vision/blob/main/notebooks/Week_9/Week_9_Lecture_5.ipynb\" target=\"_parent\"><img src=\"https://colab.research.google.com/assets/colab-badge.svg\" alt=\"Open In Colab\"/></a>"
      ]
    },
    {
      "cell_type": "markdown",
      "source": [
        "# Lecture 5: Self-Attention and Transformers <sup><mark style=\"background-color:gold\">Code</mark> </sup>"
      ],
      "metadata": {
        "id": "OzhWzDLijFuM"
      }
    },
    {
      "cell_type": "code",
      "source": [
        "#@title \n",
        "from ipywidgets import widgets\n",
        "out1 = widgets.Output()\n",
        "with out1:\n",
        "  from IPython.display import YouTubeVideo\n",
        "  video = YouTubeVideo(id=f\"phOc25QfNS0\", width=854, height=480, fs=1, rel=0)\n",
        "  print(\"Video available at https://youtube.com/watch?v=\" + video.id)\n",
        "  display(video)\n",
        "display(out1)"
      ],
      "metadata": {
        "colab": {
          "base_uri": "https://localhost:8080/",
          "height": 519,
          "referenced_widgets": [
            "3fb69562aff24124ab6d925336f7dd46",
            "aefb54f3796b4c5aa11532ab99149d13"
          ]
        },
        "cellView": "form",
        "id": "45g3WC-YjI3F",
        "outputId": "3158adb1-c924-4152-b2e5-a7547a52bf0e"
      },
      "execution_count": 9,
      "outputs": [
        {
          "output_type": "display_data",
          "data": {
            "text/plain": [
              "Output()"
            ],
            "application/vnd.jupyter.widget-view+json": {
              "version_major": 2,
              "version_minor": 0,
              "model_id": "3fb69562aff24124ab6d925336f7dd46"
            }
          },
          "metadata": {}
        }
      ]
    },
    {
      "cell_type": "code",
      "source": [],
      "metadata": {
        "id": "4z6H2ginfbin"
      },
      "execution_count": 9,
      "outputs": []
    },
    {
      "cell_type": "markdown",
      "source": [
        "## Transformers"
      ],
      "metadata": {
        "id": "6Ig09OgShdzH"
      }
    },
    {
      "cell_type": "markdown",
      "metadata": {
        "papermill": {
          "duration": 0.021031,
          "end_time": "2022-09-20T10:01:27.028047",
          "exception": false,
          "start_time": "2022-09-20T10:01:27.007016",
          "status": "completed"
        },
        "tags": [],
        "id": "c48b07e9"
      },
      "source": [
        "\n",
        "![](https://theaisummer.com/static/6122618d7e1466853e88473ba375cdc7/40ffe/transformer.png)\n",
        "\n",
        "\n",
        "<a class=\"anchor\" id=\"section1\"></a>\n",
        "<h2 style=\"color:green;font-size: 2em;\">1. Introduction</h2>\n",
        "\n",
        "In this tutorial, we will explain the try to implement transformers in \"Attention is all you need paper\" from scratch using Pytorch. Basically transformer have an encoder-decoder architecture. It is common for language translation models. \n",
        "\n",
        "\n",
        "\n",
        "Note: Here we are  not going to a indepth explaination of transformers. For that please refer [blog](http://jalammar.github.io/illustrated-transformer/.) by Jay alammar. He has given a indepth explanation about the inner working of the transformers. We will just focus on the coding part.\n"
      ]
    },
    {
      "cell_type": "markdown",
      "metadata": {
        "papermill": {
          "duration": 0.018366,
          "end_time": "2022-09-20T10:01:27.065722",
          "exception": false,
          "start_time": "2022-09-20T10:01:27.047356",
          "status": "completed"
        },
        "tags": [],
        "id": "e384e98f"
      },
      "source": [
        "![](https://jalammar.github.io/images/t/The_transformer_encoders_decoders.png)"
      ]
    },
    {
      "cell_type": "markdown",
      "metadata": {
        "papermill": {
          "duration": 0.019236,
          "end_time": "2022-09-20T10:01:27.103677",
          "exception": false,
          "start_time": "2022-09-20T10:01:27.084441",
          "status": "completed"
        },
        "tags": [],
        "id": "04f38a50"
      },
      "source": [
        "The above image shows a language translation model from French to English. Actually we can use stack of encoder(one in top of each) and stack of decoders as below:\n",
        "\n",
        "\n",
        "![](https://jalammar.github.io/images/t/The_transformer_encoder_decoder_stack.png)\n",
        "\n",
        "Before going further Let us see a full fledged image of our attention model.\n",
        "\n",
        "![](https://miro.medium.com/max/760/1*2vyKzFlzIHfSmOU_lnQE4A.png)"
      ]
    },
    {
      "cell_type": "markdown",
      "metadata": {
        "papermill": {
          "duration": 0.018538,
          "end_time": "2022-09-20T10:01:27.141827",
          "exception": false,
          "start_time": "2022-09-20T10:01:27.123289",
          "status": "completed"
        },
        "tags": [],
        "id": "a040b70b"
      },
      "source": [
        "### Import Libraries"
      ]
    },
    {
      "cell_type": "code",
      "execution_count": 10,
      "metadata": {
        "execution": {
          "iopub.execute_input": "2022-09-20T10:01:27.186475Z",
          "iopub.status.busy": "2022-09-20T10:01:27.184670Z",
          "iopub.status.idle": "2022-09-20T10:01:29.804063Z",
          "shell.execute_reply": "2022-09-20T10:01:29.803243Z",
          "shell.execute_reply.started": "2022-09-20T09:58:01.799830Z"
        },
        "papermill": {
          "duration": 2.642914,
          "end_time": "2022-09-20T10:01:29.804225",
          "exception": false,
          "start_time": "2022-09-20T10:01:27.161311",
          "status": "completed"
        },
        "tags": [],
        "id": "aef4fff7",
        "outputId": "00d10f87-4f99-48b9-f59d-23ffc272ab26",
        "colab": {
          "base_uri": "https://localhost:8080/"
        }
      },
      "outputs": [
        {
          "output_type": "stream",
          "name": "stdout",
          "text": [
            "1.12.1+cu113\n"
          ]
        }
      ],
      "source": [
        "# importing required libraries\n",
        "import torch.nn as nn\n",
        "import torch\n",
        "import torch.nn.functional as F\n",
        "import math,copy,re\n",
        "import warnings\n",
        "import pandas as pd\n",
        "import numpy as np\n",
        "import seaborn as sns\n",
        "import torchtext\n",
        "import matplotlib.pyplot as plt\n",
        "warnings.simplefilter(\"ignore\")\n",
        "print(torch.__version__)"
      ]
    },
    {
      "cell_type": "markdown",
      "source": [
        "We know that transformer has an encoder decoder architecture for language translation. Before getting in to encoder pr decoder, let us discuss some common components.\n"
      ],
      "metadata": {
        "id": "Nty2ZhKbh3oN"
      }
    },
    {
      "cell_type": "markdown",
      "source": [
        "### Basic components\n"
      ],
      "metadata": {
        "id": "aGq-epMxiB86"
      }
    },
    {
      "cell_type": "markdown",
      "source": [
        "#### Create Word Embeddings"
      ],
      "metadata": {
        "id": "RoN3V36ciC8D"
      }
    },
    {
      "cell_type": "markdown",
      "metadata": {
        "papermill": {
          "duration": 0.018997,
          "end_time": "2022-09-20T10:01:29.843197",
          "exception": false,
          "start_time": "2022-09-20T10:01:29.824200",
          "status": "completed"
        },
        "tags": [],
        "id": "8d353e37"
      },
      "source": [
        "\n",
        "\n",
        "\n",
        "First of all we need to convert each word in the input sequence to an embedding vector. Embedding vectors will create a more semantic representation of each word.\n",
        "\n",
        "Suppoese each embedding vector is of 512 dimension and suppose our vocab size is 100, then our embedding matrix will be of size 100x512. These marix will be learned on training and during inference each word will be mapped to corresponding 512 d vector. Suppose we have batch size of 32 and sequence length of 10(10 words). The the output will be 32x10x512.\n",
        "\n"
      ]
    },
    {
      "cell_type": "code",
      "execution_count": 11,
      "metadata": {
        "execution": {
          "iopub.execute_input": "2022-09-20T10:01:29.885584Z",
          "iopub.status.busy": "2022-09-20T10:01:29.884948Z",
          "iopub.status.idle": "2022-09-20T10:01:29.890399Z",
          "shell.execute_reply": "2022-09-20T10:01:29.890939Z",
          "shell.execute_reply.started": "2022-09-20T09:58:01.813091Z"
        },
        "papermill": {
          "duration": 0.028125,
          "end_time": "2022-09-20T10:01:29.891117",
          "exception": false,
          "start_time": "2022-09-20T10:01:29.862992",
          "status": "completed"
        },
        "tags": [],
        "id": "87d0eac4"
      },
      "outputs": [],
      "source": [
        "class Embedding(nn.Module):\n",
        "    def __init__(self, vocab_size, embed_dim):\n",
        "        \"\"\"\n",
        "        Args:\n",
        "            vocab_size: size of vocabulary\n",
        "            embed_dim: dimension of embeddings\n",
        "        \"\"\"\n",
        "        super(Embedding, self).__init__()\n",
        "        self.embed = nn.Embedding(vocab_size, embed_dim)\n",
        "    def forward(self, x):\n",
        "        \"\"\"\n",
        "        Args:\n",
        "            x: input vector\n",
        "        Returns:\n",
        "            out: embedding vector\n",
        "        \"\"\"\n",
        "        out = self.embed(x)\n",
        "        return out"
      ]
    },
    {
      "cell_type": "markdown",
      "metadata": {
        "papermill": {
          "duration": 0.018904,
          "end_time": "2022-09-20T10:01:29.929469",
          "exception": false,
          "start_time": "2022-09-20T10:01:29.910565",
          "status": "completed"
        },
        "tags": [],
        "id": "6390d38a"
      },
      "source": [
        "#### Positional Encoding\n",
        "\n",
        "\n",
        "Next step is to generate positional encoding. Inorder for the model to make \n",
        "sense of the sentence, it needs to know two things about the each word.\n",
        "* what does the word mean?\n",
        "* what is the position of the word in the sentence.\n",
        "\n",
        "In \"attention is all you need paper\" author used the following functions to create positional encoding. On odd time steps a cosine function is used and in even time steps a sine function is used.\n",
        "\n",
        "![](https://miro.medium.com/max/524/1*yWGV9ck-0ltfV2wscUeo7Q.png)\n",
        "\n",
        "![](https://miro.medium.com/max/564/1*SgNlyFaHH8ljBbpCupDhSQ.png)\n",
        "\n",
        "```\n",
        "pos -> refers to order in the sentence\n",
        "i -> refers to position along embedding vector dimension\n",
        "```\n",
        "\n",
        "Positinal embedding will generate a matrix of similar to embedding matrix. It will create a matrix of dimension sequence length x embedding dimension. For each token(word) in sequence, we will find the embedding vector which is of dimension 1 x 512 and it is added with the correspondng positional vector which is of dimension 1 x 512 to get 1 x 512 dim out for each word/token.\n",
        "\n",
        "for eg: if we have batch size of 32 and seq length of 10 and let embedding dimension be 512. Then we will have embedding vector of dimension 32 x 10 x 512. Similarly we will have positional encoding vector of dimension 32 x 10 x 512. Then we add both.\n",
        "![](https://miro.medium.com/max/906/1*B-VR6R5vJl3Y7jbMNf5Fpw.png)"
      ]
    },
    {
      "cell_type": "code",
      "execution_count": 12,
      "metadata": {
        "execution": {
          "iopub.execute_input": "2022-09-20T10:01:29.971008Z",
          "iopub.status.busy": "2022-09-20T10:01:29.970306Z",
          "iopub.status.idle": "2022-09-20T10:01:29.979222Z",
          "shell.execute_reply": "2022-09-20T10:01:29.979852Z",
          "shell.execute_reply.started": "2022-09-20T09:58:01.822609Z"
        },
        "papermill": {
          "duration": 0.031439,
          "end_time": "2022-09-20T10:01:29.980056",
          "exception": false,
          "start_time": "2022-09-20T10:01:29.948617",
          "status": "completed"
        },
        "tags": [],
        "id": "56c30440"
      },
      "outputs": [],
      "source": [
        "# register buffer in Pytorch ->\n",
        "# If you have parameters in your model, which should be saved and restored in the state_dict,\n",
        "# but not trained by the optimizer, you should register them as buffers.\n",
        "\n",
        "\n",
        "class PositionalEmbedding(nn.Module):\n",
        "    def __init__(self,max_seq_len,embed_model_dim):\n",
        "        \"\"\"\n",
        "        Args:\n",
        "            seq_len: length of input sequence\n",
        "            embed_model_dim: demension of embedding\n",
        "        \"\"\"\n",
        "        super(PositionalEmbedding, self).__init__()\n",
        "        self.embed_dim = embed_model_dim\n",
        "\n",
        "        pe = torch.zeros(max_seq_len,self.embed_dim)\n",
        "        for pos in range(max_seq_len):\n",
        "            for i in range(0,self.embed_dim,2):\n",
        "                pe[pos, i] = math.sin(pos / (10000 ** ((2 * i)/self.embed_dim)))\n",
        "                pe[pos, i + 1] = math.cos(pos / (10000 ** ((2 * (i + 1))/self.embed_dim)))\n",
        "        pe = pe.unsqueeze(0)\n",
        "        self.register_buffer('pe', pe)\n",
        "\n",
        "\n",
        "    def forward(self, x):\n",
        "        \"\"\"\n",
        "        Args:\n",
        "            x: input vector\n",
        "        Returns:\n",
        "            x: output\n",
        "        \"\"\"\n",
        "      \n",
        "        # make embeddings relatively larger\n",
        "        x = x * math.sqrt(self.embed_dim)\n",
        "        #add constant to embedding\n",
        "        seq_len = x.size(1)\n",
        "        x = x + torch.autograd.Variable(self.pe[:,:seq_len], requires_grad=False)\n",
        "        return x\n",
        "               \n"
      ]
    },
    {
      "cell_type": "markdown",
      "source": [
        "#### Self Attention"
      ],
      "metadata": {
        "id": "FG4ZnwmniUru"
      }
    },
    {
      "cell_type": "markdown",
      "metadata": {
        "papermill": {
          "duration": 0.019475,
          "end_time": "2022-09-20T10:01:30.018934",
          "exception": false,
          "start_time": "2022-09-20T10:01:29.999459",
          "status": "completed"
        },
        "tags": [],
        "id": "a88ae543"
      },
      "source": [
        "\n",
        "\n",
        "Let me give a glimpse on Self Attention and Multihead attention\n",
        "\n",
        "***What is self attention?***\n",
        "\n",
        "Suppose we have a sentence \"Dog is crossing the street because it saw the kitchen\".What does it refers to here? It's easy to understand for the humans that it is Dog. But not for the machines.\n",
        "\n",
        "As model proceeses each word, self attention allows it to look at other positions in the input sequence for clues. It will creates a vector based on dependency of each word with the other.\n",
        "\n",
        "\n",
        "Let us go through a step by step illustration of self attention.\n",
        "\n",
        "* **Step 1:** The first step in calculating self-attention is to create three vectors from each of the encoder’s input vectors (in this case, the embedding of each word). So for each word, we create a Query vector, a Key vector, and a Value vector. Each of the vector will be of dimension 1x64.\n",
        "\n",
        "Since we have a multihead attention we will have 8 self attention heads.I will explain the code with 8 attention head in mind.\n",
        "\n",
        "**How key,queries and values can be created?**\n",
        "\n",
        "We will have a key matrix,query matrix and a value matrix to generate key, query and value.\n",
        "These matrixes are learned during training.\n",
        "\n",
        "```\n",
        "code hint:\n",
        "Suppose we have batch_size=32,sequence_length=10, embedding dimension=512. So after embedding and positional encoding our output will be of dimension 32x10x512.\n",
        "We will resize it to 32x10x8x16.(About 8, it is the number of heads in multihead attention.Dont worry you will get to know about it once you go through the code.).\n",
        "\n",
        "```\n",
        "\n",
        "\n",
        "* **Step 2:**  Second step is to calculate the score. ie, we will multiply query marix with key matrix. [Q x K.t]\n",
        "\n",
        "```\n",
        "code hint:\n",
        "Suppose our key,query and value dimension be 32x10x8x64. Before proceeding further, we will transpose each of them for multiplication convinience (32x8x10x64). Now multiply query matrix with transpose key matrix. ie (32x8x10x64) x (32x8x64x10) -> (32x8x10x10).\n",
        "```\n",
        "\n",
        "\n",
        "* **Step 3:** Now divide the output matrix with square root of dimension of key matrix and then apply Softmax over it. \n",
        "\n",
        "```\n",
        "code hint: we will divide 32x8x10x10 vector by 8 ie, by square root of 64 (dimension of key matrix)\n",
        "```\n",
        "\n",
        "\n",
        "* **Step 4:** Then this gets multiply it with value matrix.\n",
        "\n",
        "```\n",
        "code hint:\n",
        "After step 3 our output will be of dimension 32x8x10x10. Now muliply it with value matrix (32x8x10x64) to get output of dimension (32x8x10x64).Here 8 is the number of attention heads and 10 is the sequence length.Thus for each word we have 64 dim vector.\n",
        "```\n",
        "\n",
        "* **Step 5:** Once we have this we will pass this through a linear layer. This forms the output of multihead attention.\n",
        "\n",
        "```\n",
        "code hint:\n",
        "(32x8x10x64) vector gets transposed to (32x10x8x64) and then reshaped as (32x10x512).Then it is passed through a linear layer to get output of (32x10x512).\n",
        "```\n",
        "\n",
        "\n",
        "Now you got an idea on how multihead attention works. You will be more clear once you go through the implementation part of it."
      ]
    },
    {
      "cell_type": "code",
      "execution_count": 13,
      "metadata": {
        "execution": {
          "iopub.execute_input": "2022-09-20T10:01:30.072679Z",
          "iopub.status.busy": "2022-09-20T10:01:30.071940Z",
          "iopub.status.idle": "2022-09-20T10:01:30.074595Z",
          "shell.execute_reply": "2022-09-20T10:01:30.075157Z",
          "shell.execute_reply.started": "2022-09-20T09:58:01.919181Z"
        },
        "papermill": {
          "duration": 0.036804,
          "end_time": "2022-09-20T10:01:30.075336",
          "exception": false,
          "start_time": "2022-09-20T10:01:30.038532",
          "status": "completed"
        },
        "tags": [],
        "id": "c1e54a24"
      },
      "outputs": [],
      "source": [
        "class MultiHeadAttention(nn.Module):\n",
        "    def __init__(self, embed_dim=512, n_heads=8):\n",
        "        \"\"\"\n",
        "        Args:\n",
        "            embed_dim: dimension of embeding vector output\n",
        "            n_heads: number of self attention heads\n",
        "        \"\"\"\n",
        "        super(MultiHeadAttention, self).__init__()\n",
        "\n",
        "        self.embed_dim = embed_dim    #512 dim\n",
        "        self.n_heads = n_heads   #8\n",
        "        self.single_head_dim = int(self.embed_dim / self.n_heads)   #512/8 = 64  . each key,query, value will be of 64d\n",
        "       \n",
        "        #key,query and value matrixes    #64 x 64   \n",
        "        self.query_matrix = nn.Linear(self.single_head_dim , self.single_head_dim ,bias=False)  # single key matrix for all 8 keys #512x512\n",
        "        self.key_matrix = nn.Linear(self.single_head_dim  , self.single_head_dim, bias=False)\n",
        "        self.value_matrix = nn.Linear(self.single_head_dim ,self.single_head_dim , bias=False)\n",
        "        self.out = nn.Linear(self.n_heads*self.single_head_dim ,self.embed_dim) \n",
        "\n",
        "    def forward(self,key,query,value,mask=None):    #batch_size x sequence_length x embedding_dim    # 32 x 10 x 512\n",
        "        \n",
        "        \"\"\"\n",
        "        Args:\n",
        "           key : key vector\n",
        "           query : query vector\n",
        "           value : value vector\n",
        "           mask: mask for decoder\n",
        "        \n",
        "        Returns:\n",
        "           output vector from multihead attention\n",
        "        \"\"\"\n",
        "        batch_size = key.size(0)\n",
        "        seq_length = key.size(1)\n",
        "        \n",
        "        # query dimension can change in decoder during inference. \n",
        "        # so we cant take general seq_length\n",
        "        seq_length_query = query.size(1)\n",
        "        \n",
        "        # 32x10x512\n",
        "        key = key.view(batch_size, seq_length, self.n_heads, self.single_head_dim)  #batch_size x sequence_length x n_heads x single_head_dim = (32x10x8x64)\n",
        "        query = query.view(batch_size, seq_length_query, self.n_heads, self.single_head_dim) #(32x10x8x64)\n",
        "        value = value.view(batch_size, seq_length, self.n_heads, self.single_head_dim) #(32x10x8x64)\n",
        "       \n",
        "        k = self.key_matrix(key)       # (32x10x8x64)\n",
        "        q = self.query_matrix(query)   \n",
        "        v = self.value_matrix(value)\n",
        "\n",
        "        q = q.transpose(1,2)  # (batch_size, n_heads, seq_len, single_head_dim)    # (32 x 8 x 10 x 64)\n",
        "        k = k.transpose(1,2)  # (batch_size, n_heads, seq_len, single_head_dim)\n",
        "        v = v.transpose(1,2)  # (batch_size, n_heads, seq_len, single_head_dim)\n",
        "       \n",
        "        # computes attention\n",
        "        # adjust key for matrix multiplication\n",
        "        k_adjusted = k.transpose(-1,-2)  #(batch_size, n_heads, single_head_dim, seq_ken)  #(32 x 8 x 64 x 10)\n",
        "        product = torch.matmul(q, k_adjusted)  #(32 x 8 x 10 x 64) x (32 x 8 x 64 x 10) = #(32x8x10x10)\n",
        "      \n",
        "        \n",
        "        # fill those positions of product matrix as (-1e20) where mask positions are 0\n",
        "        if mask is not None:\n",
        "             product = product.masked_fill(mask == 0, float(\"-1e20\"))\n",
        "\n",
        "        #divising by square root of key dimension\n",
        "        product = product / math.sqrt(self.single_head_dim) # / sqrt(64)\n",
        "\n",
        "        #applying softmax\n",
        "        scores = F.softmax(product, dim=-1)\n",
        " \n",
        "        #mutiply with value matrix\n",
        "        scores = torch.matmul(scores, v)  ##(32x8x 10x 10) x (32 x 8 x 10 x 64) = (32 x 8 x 10 x 64) \n",
        "        \n",
        "        #concatenated output\n",
        "        concat = scores.transpose(1,2).contiguous().view(batch_size, seq_length_query, self.single_head_dim*self.n_heads)  # (32x8x10x64) -> (32x10x8x64)  -> (32,10,512)\n",
        "        \n",
        "        output = self.out(concat) #(32,10,512) -> (32,10,512)\n",
        "       \n",
        "        return output\n"
      ]
    },
    {
      "cell_type": "markdown",
      "source": [
        "Ok, now a sudden question can strike your mind. What is this mask used for? Don't worry we will go through it once we are talking about the decoder.\n"
      ],
      "metadata": {
        "id": "jEHhkcqQihVG"
      }
    },
    {
      "cell_type": "markdown",
      "source": [
        "### Encoder"
      ],
      "metadata": {
        "id": "ZphDEIw5ife1"
      }
    },
    {
      "cell_type": "markdown",
      "metadata": {
        "papermill": {
          "duration": 0.019799,
          "end_time": "2022-09-20T10:01:30.114872",
          "exception": false,
          "start_time": "2022-09-20T10:01:30.095073",
          "status": "completed"
        },
        "tags": [],
        "id": "4681bf36"
      },
      "source": [
        "\n",
        "\n",
        "\n",
        "<img src=\"https://www.researchgate.net/profile/Ehsan-Amjadian/publication/352239001/figure/fig1/AS:1033334390013952@1623377525434/Detailed-view-of-a-transformer-encoder-block-It-first-passes-the-input-through-an.jpg\" width=300 height=600>\n",
        "\n",
        "\n",
        "\n",
        "In the encoder section -\n",
        "\n",
        "**Step 1:** First input(padded tokens corresponding to the sentence) get passes through embedding layer and positional encoding layer.\n",
        "\n",
        "```\n",
        "code hint\n",
        "suppose we have input of 32x10 (batch size=32 and sequence length=10). Once it passes through embedding layer it becomes 32x10x512. Then it gets added with correspondng positional encoding vector and produces output of 32x10x512. This gets passed to the multihead attention\n",
        "```\n",
        "\n",
        "**Step 2:** As discussed above it will passed through the multihead attention layer and creates useful representational matrix as output.\n",
        "\n",
        "```\n",
        "code hint\n",
        "input to multihead attention will be a 32x10x512 from which key,query and value vectors are generated as above and finally produces a 32x10x512 output.\n",
        "```\n",
        "\n",
        "**Step 3:** Next we have a normalization and residual connection. The output from multihead attention is added with its input and then normalized. \n",
        "\n",
        "```\n",
        "code hint\n",
        "output of multihead attention which is 32x10x512 gets added with 32x10x512 input(which is output created by embedding vector) and then the layer is normalized.\n",
        "\n",
        "```\n",
        "\n",
        "**Step 4:** Next we have a feed forward layer and a then normalization layer with residual connection from input(input of feed forward layer) where we passes the output after normalization though it and finally gets the output of encoder.\n",
        "\n",
        "```\n",
        "code hint\n",
        "The normalized output will be of dimension 32x10x512. This gets passed through 2 linear layers: 32x10x512 -> 32x10x2048 -> 32x10x512. Finally we have a residual connection which gets added with the output and the layer is normalized. Thus a 32x10x512 dimensional vector is created as output for the encoder.\n",
        "\n",
        "```"
      ]
    },
    {
      "cell_type": "code",
      "execution_count": 14,
      "metadata": {
        "execution": {
          "iopub.execute_input": "2022-09-20T10:01:30.167255Z",
          "iopub.status.busy": "2022-09-20T10:01:30.166454Z",
          "iopub.status.idle": "2022-09-20T10:01:30.169563Z",
          "shell.execute_reply": "2022-09-20T10:01:30.169056Z",
          "shell.execute_reply.started": "2022-09-20T09:58:01.938997Z"
        },
        "papermill": {
          "duration": 0.035445,
          "end_time": "2022-09-20T10:01:30.169723",
          "exception": false,
          "start_time": "2022-09-20T10:01:30.134278",
          "status": "completed"
        },
        "tags": [],
        "id": "bf08e6dc"
      },
      "outputs": [],
      "source": [
        "class TransformerBlock(nn.Module):\n",
        "    def __init__(self, embed_dim, expansion_factor=4, n_heads=8):\n",
        "        super(TransformerBlock, self).__init__()\n",
        "        \n",
        "        \"\"\"\n",
        "        Args:\n",
        "           embed_dim: dimension of the embedding\n",
        "           expansion_factor: fator ehich determines output dimension of linear layer\n",
        "           n_heads: number of attention heads\n",
        "        \n",
        "        \"\"\"\n",
        "        self.attention = MultiHeadAttention(embed_dim, n_heads)\n",
        "        \n",
        "        self.norm1 = nn.LayerNorm(embed_dim) \n",
        "        self.norm2 = nn.LayerNorm(embed_dim)\n",
        "        \n",
        "        self.feed_forward = nn.Sequential(\n",
        "                          nn.Linear(embed_dim, expansion_factor*embed_dim),\n",
        "                          nn.ReLU(),\n",
        "                          nn.Linear(expansion_factor*embed_dim, embed_dim)\n",
        "        )\n",
        "\n",
        "        self.dropout1 = nn.Dropout(0.2)\n",
        "        self.dropout2 = nn.Dropout(0.2)\n",
        "\n",
        "    def forward(self,key,query,value):\n",
        "        \n",
        "        \"\"\"\n",
        "        Args:\n",
        "           key: key vector\n",
        "           query: query vector\n",
        "           value: value vector\n",
        "           norm2_out: output of transformer block\n",
        "        \n",
        "        \"\"\"\n",
        "        \n",
        "        attention_out = self.attention(key,query,value)  #32x10x512\n",
        "        attention_residual_out = attention_out + value  #32x10x512\n",
        "        norm1_out = self.dropout1(self.norm1(attention_residual_out)) #32x10x512\n",
        "\n",
        "        feed_fwd_out = self.feed_forward(norm1_out) #32x10x512 -> #32x10x2048 -> 32x10x512\n",
        "        feed_fwd_residual_out = feed_fwd_out + norm1_out #32x10x512\n",
        "        norm2_out = self.dropout2(self.norm2(feed_fwd_residual_out)) #32x10x512\n",
        "\n",
        "        return norm2_out\n",
        "\n",
        "\n",
        "\n",
        "class TransformerEncoder(nn.Module):\n",
        "    \"\"\"\n",
        "    Args:\n",
        "        seq_len : length of input sequence\n",
        "        embed_dim: dimension of embedding\n",
        "        num_layers: number of encoder layers\n",
        "        expansion_factor: factor which determines number of linear layers in feed forward layer\n",
        "        n_heads: number of heads in multihead attention\n",
        "        \n",
        "    Returns:\n",
        "        out: output of the encoder\n",
        "    \"\"\"\n",
        "    def __init__(self, seq_len, vocab_size, embed_dim, num_layers=2, expansion_factor=4, n_heads=8):\n",
        "        super(TransformerEncoder, self).__init__()\n",
        "        \n",
        "        self.embedding_layer = Embedding(vocab_size, embed_dim)\n",
        "        self.positional_encoder = PositionalEmbedding(seq_len, embed_dim)\n",
        "\n",
        "        self.layers = nn.ModuleList([TransformerBlock(embed_dim, expansion_factor, n_heads) for i in range(num_layers)])\n",
        "    \n",
        "    def forward(self, x):\n",
        "        embed_out = self.embedding_layer(x)\n",
        "        out = self.positional_encoder(embed_out)\n",
        "        for layer in self.layers:\n",
        "            out = layer(out,out,out)\n",
        "\n",
        "        return out  #32x10x512\n"
      ]
    },
    {
      "cell_type": "markdown",
      "source": [
        "### Decoder"
      ],
      "metadata": {
        "id": "a1muBMArimG9"
      }
    },
    {
      "cell_type": "markdown",
      "metadata": {
        "papermill": {
          "duration": 0.020646,
          "end_time": "2022-09-20T10:01:30.209788",
          "exception": false,
          "start_time": "2022-09-20T10:01:30.189142",
          "status": "completed"
        },
        "tags": [],
        "id": "c670849c"
      },
      "source": [
        "\n",
        "\n",
        "![](https://discuss.pytorch.org/uploads/default/optimized/3X/8/e/8e5d039948b8970e6b25395cb207febc82ba320a_2_177x500.png) \n",
        "\n",
        "\n",
        "Now we have gone through most parts of the encoder.Let us get in to the components of the decoder. We will use the output of encoder to generate key and query vectors for the decoder.There are two kinds of multi head attention in the decoder.One is the decoder attention and other is the encoder decoder attention. Don't worry we will go step by step."
      ]
    },
    {
      "cell_type": "markdown",
      "metadata": {
        "papermill": {
          "duration": 0.01899,
          "end_time": "2022-09-20T10:01:30.248170",
          "exception": false,
          "start_time": "2022-09-20T10:01:30.229180",
          "status": "completed"
        },
        "tags": [],
        "id": "c87197db"
      },
      "source": [
        "Let us explain with respect to the training phase. Firt\n",
        "\n",
        "**Step 1:**\n",
        "\n",
        "First the output  gets passed through the embeddin and positional encoding to create a embedding vector of dimension 1x512 corresponding to each word in the target sequence.\n",
        "\n",
        "```\n",
        "code hint\n",
        "Suppose we have a sequence length of 10. batch size of 32 and embedding vector dimension of 512. we have input of size 32x10 to the embedding matrix which produces and output of dimension 32x10x512 which gets added with the positional encoding of same dimension and produces a 32x10x512 out\n",
        "\n",
        "```\n",
        "\n",
        "**Step 2:**\n",
        "\n",
        "The embeddig output gets passed through a multihead attention layers as before(creating key,query and value matrixes from the target input) and produces an output vector. This time the major difference is that we uses a mask with multihead attention. \n",
        "\n",
        "**Why mask?**\n",
        "\n",
        "Mask is used because while creating attention of target words, we donot need a word to look in to the future words to check the dependency. ie, we already learned that why we create attention because we need to know contribution of each word with the other word. Since we are creating attention for words in target sequnce, we donot need a particular word to see the future words. For eg: in word \"I am a strudent\", we donot need the word \"a\" to look word \"student\".\n",
        "\n",
        "\n",
        "```\n",
        "code hint\n",
        "For creating attention we created a triangular matrix with 1 and 0.eg:traingular matrix for seq length 5 looks as below:\n",
        "\n",
        "1 0 0 0 0\n",
        "1 1 0 0 0\n",
        "1 1 1 0 0\n",
        "1 1 1 1 0\n",
        "1 1 1 1 1\n",
        "\n",
        "After the key gets multiplied with query, we fill all zero positions with negative inifinity, In code we will fill it with a very small number to avoid division errors.\n",
        "(with -1e 20)\n",
        "\n",
        "\n",
        "```\n",
        "\n",
        "**Step 3:**\n",
        "\n",
        "As before we have a add and norm layer where we add with output of embedding with attention out and normalized it.\n",
        "\n",
        "\n",
        "**Step 4:**\n",
        "\n",
        "\n",
        "Next we have another multihead attention and then a add and norm layer. This multihead attention is called encoder-decorder multihead attention. For this multihead attention we create we create key and value vectors from the encoder output. Query is created from the output of previous decoder layer.\n",
        "\n",
        "```\n",
        "code hint:\n",
        "Thus we have 32x10x512 out from encoder out. key and value for all words are generated from it. Similary query matrix is generated from otput from previous layer of decoder(32x10x512).\n",
        "\n",
        "```\n",
        "\n",
        "Thus it is passed through a multihead atention (we used number of heads = 8) the through a Add and Norm layer. Here the output from previous encoder layer(ie previoud add and norm layer) gets added with encoder-decoder attention output and then normalized.\n",
        "\n",
        "**Step 5:**\n",
        "Next we have a feed forward layer(linear layer) with add and nom which is similar to that of present in the encoder.\n",
        "\n",
        "\n",
        "**Step 6:**\n",
        "Finally we create a linear layer with length equal to number of words in total target corpus and a softmax function with it to get probablity of each word."
      ]
    },
    {
      "cell_type": "code",
      "execution_count": 15,
      "metadata": {
        "execution": {
          "iopub.execute_input": "2022-09-20T10:01:30.299651Z",
          "iopub.status.busy": "2022-09-20T10:01:30.289421Z",
          "iopub.status.idle": "2022-09-20T10:01:30.302375Z",
          "shell.execute_reply": "2022-09-20T10:01:30.301824Z",
          "shell.execute_reply.started": "2022-09-20T09:58:01.956171Z"
        },
        "papermill": {
          "duration": 0.035234,
          "end_time": "2022-09-20T10:01:30.302525",
          "exception": false,
          "start_time": "2022-09-20T10:01:30.267291",
          "status": "completed"
        },
        "tags": [],
        "id": "c9e3b82e"
      },
      "outputs": [],
      "source": [
        "class DecoderBlock(nn.Module):\n",
        "    def __init__(self, embed_dim, expansion_factor=4, n_heads=8):\n",
        "        super(DecoderBlock, self).__init__()\n",
        "\n",
        "        \"\"\"\n",
        "        Args:\n",
        "           embed_dim: dimension of the embedding\n",
        "           expansion_factor: fator ehich determines output dimension of linear layer\n",
        "           n_heads: number of attention heads\n",
        "        \n",
        "        \"\"\"\n",
        "        self.attention = MultiHeadAttention(embed_dim, n_heads=8)\n",
        "        self.norm = nn.LayerNorm(embed_dim)\n",
        "        self.dropout = nn.Dropout(0.2)\n",
        "        self.transformer_block = TransformerBlock(embed_dim, expansion_factor, n_heads)\n",
        "        \n",
        "    \n",
        "    def forward(self, key, query, x,mask):\n",
        "        \n",
        "        \"\"\"\n",
        "        Args:\n",
        "           key: key vector\n",
        "           query: query vector\n",
        "           value: value vector\n",
        "           mask: mask to be given for multi head attention \n",
        "        Returns:\n",
        "           out: output of transformer block\n",
        "    \n",
        "        \"\"\"\n",
        "        \n",
        "        #we need to pass mask mask only to fst attention\n",
        "        attention = self.attention(x,x,x,mask=mask) #32x10x512\n",
        "        value = self.dropout(self.norm(attention + x))\n",
        "        \n",
        "        out = self.transformer_block(key, query, value)\n",
        "\n",
        "        \n",
        "        return out\n",
        "\n",
        "\n",
        "class TransformerDecoder(nn.Module):\n",
        "    def __init__(self, target_vocab_size, embed_dim, seq_len, num_layers=2, expansion_factor=4, n_heads=8):\n",
        "        super(TransformerDecoder, self).__init__()\n",
        "        \"\"\"  \n",
        "        Args:\n",
        "           target_vocab_size: vocabulary size of taget\n",
        "           embed_dim: dimension of embedding\n",
        "           seq_len : length of input sequence\n",
        "           num_layers: number of encoder layers\n",
        "           expansion_factor: factor which determines number of linear layers in feed forward layer\n",
        "           n_heads: number of heads in multihead attention\n",
        "        \n",
        "        \"\"\"\n",
        "        self.word_embedding = nn.Embedding(target_vocab_size, embed_dim)\n",
        "        self.position_embedding = PositionalEmbedding(seq_len, embed_dim)\n",
        "\n",
        "        self.layers = nn.ModuleList(\n",
        "            [\n",
        "                DecoderBlock(embed_dim, expansion_factor=4, n_heads=8) \n",
        "                for _ in range(num_layers)\n",
        "            ]\n",
        "\n",
        "        )\n",
        "        self.fc_out = nn.Linear(embed_dim, target_vocab_size)\n",
        "        self.dropout = nn.Dropout(0.2)\n",
        "\n",
        "    def forward(self, x, enc_out, mask):\n",
        "        \n",
        "        \"\"\"\n",
        "        Args:\n",
        "            x: input vector from target\n",
        "            enc_out : output from encoder layer\n",
        "            trg_mask: mask for decoder self attention\n",
        "        Returns:\n",
        "            out: output vector\n",
        "        \"\"\"\n",
        "            \n",
        "        \n",
        "        x = self.word_embedding(x)  #32x10x512\n",
        "        x = self.position_embedding(x) #32x10x512\n",
        "        x = self.dropout(x)\n",
        "     \n",
        "        for layer in self.layers:\n",
        "            x = layer(enc_out, x, enc_out, mask) \n",
        "\n",
        "        out = F.softmax(self.fc_out(x))\n",
        "\n",
        "        return out\n"
      ]
    },
    {
      "cell_type": "markdown",
      "metadata": {
        "papermill": {
          "duration": 0.018987,
          "end_time": "2022-09-20T10:01:30.341708",
          "exception": false,
          "start_time": "2022-09-20T10:01:30.322721",
          "status": "completed"
        },
        "tags": [],
        "id": "24f58673"
      },
      "source": [
        "Finally we will arrange all submodules and creates the entire tranformer architecture."
      ]
    },
    {
      "cell_type": "code",
      "execution_count": 16,
      "metadata": {
        "execution": {
          "iopub.execute_input": "2022-09-20T10:01:30.392775Z",
          "iopub.status.busy": "2022-09-20T10:01:30.392031Z",
          "iopub.status.idle": "2022-09-20T10:01:30.394894Z",
          "shell.execute_reply": "2022-09-20T10:01:30.394369Z",
          "shell.execute_reply.started": "2022-09-20T09:58:01.974730Z"
        },
        "papermill": {
          "duration": 0.03432,
          "end_time": "2022-09-20T10:01:30.395062",
          "exception": false,
          "start_time": "2022-09-20T10:01:30.360742",
          "status": "completed"
        },
        "tags": [],
        "id": "2d6d99ce"
      },
      "outputs": [],
      "source": [
        "\n",
        "\n",
        "class Transformer(nn.Module):\n",
        "    def __init__(self, embed_dim, src_vocab_size, target_vocab_size, seq_length,num_layers=2, expansion_factor=4, n_heads=8):\n",
        "        super(Transformer, self).__init__()\n",
        "        \n",
        "        \"\"\"  \n",
        "        Args:\n",
        "           embed_dim:  dimension of embedding \n",
        "           src_vocab_size: vocabulary size of source\n",
        "           target_vocab_size: vocabulary size of target\n",
        "           seq_length : length of input sequence\n",
        "           num_layers: number of encoder layers\n",
        "           expansion_factor: factor which determines number of linear layers in feed forward layer\n",
        "           n_heads: number of heads in multihead attention\n",
        "        \n",
        "        \"\"\"\n",
        "        \n",
        "        self.target_vocab_size = target_vocab_size\n",
        "\n",
        "        self.encoder = TransformerEncoder(seq_length, src_vocab_size, embed_dim, num_layers=num_layers, expansion_factor=expansion_factor, n_heads=n_heads)\n",
        "        self.decoder = TransformerDecoder(target_vocab_size, embed_dim, seq_length, num_layers=num_layers, expansion_factor=expansion_factor, n_heads=n_heads)\n",
        "        \n",
        "    \n",
        "    def make_trg_mask(self, trg):\n",
        "        \"\"\"\n",
        "        Args:\n",
        "            trg: target sequence\n",
        "        Returns:\n",
        "            trg_mask: target mask\n",
        "        \"\"\"\n",
        "        batch_size, trg_len = trg.shape\n",
        "        # returns the lower triangular part of matrix filled with ones\n",
        "        trg_mask = torch.tril(torch.ones((trg_len, trg_len))).expand(\n",
        "            batch_size, 1, trg_len, trg_len\n",
        "        )\n",
        "        return trg_mask    \n",
        "\n",
        "    def decode(self,src,trg):\n",
        "        \"\"\"\n",
        "        for inference\n",
        "        Args:\n",
        "            src: input to encoder \n",
        "            trg: input to decoder\n",
        "        out:\n",
        "            out_labels : returns final prediction of sequence\n",
        "        \"\"\"\n",
        "        trg_mask = self.make_trg_mask(trg)\n",
        "        enc_out = self.encoder(src)\n",
        "        out_labels = []\n",
        "        batch_size,seq_len = src.shape[0],src.shape[1]\n",
        "        #outputs = torch.zeros(seq_len, batch_size, self.target_vocab_size)\n",
        "        out = trg\n",
        "        for i in range(seq_len): #10\n",
        "            out = self.decoder(out,enc_out,trg_mask) #bs x seq_len x vocab_dim\n",
        "            # taking the last token\n",
        "            out = out[:,-1,:]\n",
        "     \n",
        "            out = out.argmax(-1)\n",
        "            out_labels.append(out.item())\n",
        "            out = torch.unsqueeze(out,axis=0)\n",
        "          \n",
        "        \n",
        "        return out_labels\n",
        "    \n",
        "    def forward(self, src, trg):\n",
        "        \"\"\"\n",
        "        Args:\n",
        "            src: input to encoder \n",
        "            trg: input to decoder\n",
        "        out:\n",
        "            out: final vector which returns probabilities of each target word\n",
        "        \"\"\"\n",
        "        trg_mask = self.make_trg_mask(trg)\n",
        "        enc_out = self.encoder(src)\n",
        "   \n",
        "        outputs = self.decoder(trg, enc_out, trg_mask)\n",
        "        return outputs\n",
        "\n",
        "\n"
      ]
    },
    {
      "cell_type": "markdown",
      "source": [
        "### Testing Our code "
      ],
      "metadata": {
        "id": "mQjQ_P9Iiq9p"
      }
    },
    {
      "cell_type": "markdown",
      "metadata": {
        "papermill": {
          "duration": 0.01957,
          "end_time": "2022-09-20T10:01:30.433990",
          "exception": false,
          "start_time": "2022-09-20T10:01:30.414420",
          "status": "completed"
        },
        "tags": [],
        "id": "d5d1098a"
      },
      "source": [
        "\n",
        "\n",
        "Suppose we have input sequence oflength 10 and target sequence of length 10."
      ]
    },
    {
      "cell_type": "code",
      "execution_count": 17,
      "metadata": {
        "execution": {
          "iopub.execute_input": "2022-09-20T10:01:30.486451Z",
          "iopub.status.busy": "2022-09-20T10:01:30.485559Z",
          "iopub.status.idle": "2022-09-20T10:01:30.941864Z",
          "shell.execute_reply": "2022-09-20T10:01:30.942387Z",
          "shell.execute_reply.started": "2022-09-20T09:58:01.994090Z"
        },
        "papermill": {
          "duration": 0.489281,
          "end_time": "2022-09-20T10:01:30.942563",
          "exception": false,
          "start_time": "2022-09-20T10:01:30.453282",
          "status": "completed"
        },
        "tags": [],
        "id": "6f33a4e4",
        "outputId": "3361f800-5f31-41a9-eaea-e3b6748f0268",
        "colab": {
          "base_uri": "https://localhost:8080/"
        }
      },
      "outputs": [
        {
          "output_type": "stream",
          "name": "stdout",
          "text": [
            "torch.Size([2, 12]) torch.Size([2, 12])\n"
          ]
        },
        {
          "output_type": "execute_result",
          "data": {
            "text/plain": [
              "Transformer(\n",
              "  (encoder): TransformerEncoder(\n",
              "    (embedding_layer): Embedding(\n",
              "      (embed): Embedding(11, 512)\n",
              "    )\n",
              "    (positional_encoder): PositionalEmbedding()\n",
              "    (layers): ModuleList(\n",
              "      (0): TransformerBlock(\n",
              "        (attention): MultiHeadAttention(\n",
              "          (query_matrix): Linear(in_features=64, out_features=64, bias=False)\n",
              "          (key_matrix): Linear(in_features=64, out_features=64, bias=False)\n",
              "          (value_matrix): Linear(in_features=64, out_features=64, bias=False)\n",
              "          (out): Linear(in_features=512, out_features=512, bias=True)\n",
              "        )\n",
              "        (norm1): LayerNorm((512,), eps=1e-05, elementwise_affine=True)\n",
              "        (norm2): LayerNorm((512,), eps=1e-05, elementwise_affine=True)\n",
              "        (feed_forward): Sequential(\n",
              "          (0): Linear(in_features=512, out_features=2048, bias=True)\n",
              "          (1): ReLU()\n",
              "          (2): Linear(in_features=2048, out_features=512, bias=True)\n",
              "        )\n",
              "        (dropout1): Dropout(p=0.2, inplace=False)\n",
              "        (dropout2): Dropout(p=0.2, inplace=False)\n",
              "      )\n",
              "      (1): TransformerBlock(\n",
              "        (attention): MultiHeadAttention(\n",
              "          (query_matrix): Linear(in_features=64, out_features=64, bias=False)\n",
              "          (key_matrix): Linear(in_features=64, out_features=64, bias=False)\n",
              "          (value_matrix): Linear(in_features=64, out_features=64, bias=False)\n",
              "          (out): Linear(in_features=512, out_features=512, bias=True)\n",
              "        )\n",
              "        (norm1): LayerNorm((512,), eps=1e-05, elementwise_affine=True)\n",
              "        (norm2): LayerNorm((512,), eps=1e-05, elementwise_affine=True)\n",
              "        (feed_forward): Sequential(\n",
              "          (0): Linear(in_features=512, out_features=2048, bias=True)\n",
              "          (1): ReLU()\n",
              "          (2): Linear(in_features=2048, out_features=512, bias=True)\n",
              "        )\n",
              "        (dropout1): Dropout(p=0.2, inplace=False)\n",
              "        (dropout2): Dropout(p=0.2, inplace=False)\n",
              "      )\n",
              "      (2): TransformerBlock(\n",
              "        (attention): MultiHeadAttention(\n",
              "          (query_matrix): Linear(in_features=64, out_features=64, bias=False)\n",
              "          (key_matrix): Linear(in_features=64, out_features=64, bias=False)\n",
              "          (value_matrix): Linear(in_features=64, out_features=64, bias=False)\n",
              "          (out): Linear(in_features=512, out_features=512, bias=True)\n",
              "        )\n",
              "        (norm1): LayerNorm((512,), eps=1e-05, elementwise_affine=True)\n",
              "        (norm2): LayerNorm((512,), eps=1e-05, elementwise_affine=True)\n",
              "        (feed_forward): Sequential(\n",
              "          (0): Linear(in_features=512, out_features=2048, bias=True)\n",
              "          (1): ReLU()\n",
              "          (2): Linear(in_features=2048, out_features=512, bias=True)\n",
              "        )\n",
              "        (dropout1): Dropout(p=0.2, inplace=False)\n",
              "        (dropout2): Dropout(p=0.2, inplace=False)\n",
              "      )\n",
              "      (3): TransformerBlock(\n",
              "        (attention): MultiHeadAttention(\n",
              "          (query_matrix): Linear(in_features=64, out_features=64, bias=False)\n",
              "          (key_matrix): Linear(in_features=64, out_features=64, bias=False)\n",
              "          (value_matrix): Linear(in_features=64, out_features=64, bias=False)\n",
              "          (out): Linear(in_features=512, out_features=512, bias=True)\n",
              "        )\n",
              "        (norm1): LayerNorm((512,), eps=1e-05, elementwise_affine=True)\n",
              "        (norm2): LayerNorm((512,), eps=1e-05, elementwise_affine=True)\n",
              "        (feed_forward): Sequential(\n",
              "          (0): Linear(in_features=512, out_features=2048, bias=True)\n",
              "          (1): ReLU()\n",
              "          (2): Linear(in_features=2048, out_features=512, bias=True)\n",
              "        )\n",
              "        (dropout1): Dropout(p=0.2, inplace=False)\n",
              "        (dropout2): Dropout(p=0.2, inplace=False)\n",
              "      )\n",
              "      (4): TransformerBlock(\n",
              "        (attention): MultiHeadAttention(\n",
              "          (query_matrix): Linear(in_features=64, out_features=64, bias=False)\n",
              "          (key_matrix): Linear(in_features=64, out_features=64, bias=False)\n",
              "          (value_matrix): Linear(in_features=64, out_features=64, bias=False)\n",
              "          (out): Linear(in_features=512, out_features=512, bias=True)\n",
              "        )\n",
              "        (norm1): LayerNorm((512,), eps=1e-05, elementwise_affine=True)\n",
              "        (norm2): LayerNorm((512,), eps=1e-05, elementwise_affine=True)\n",
              "        (feed_forward): Sequential(\n",
              "          (0): Linear(in_features=512, out_features=2048, bias=True)\n",
              "          (1): ReLU()\n",
              "          (2): Linear(in_features=2048, out_features=512, bias=True)\n",
              "        )\n",
              "        (dropout1): Dropout(p=0.2, inplace=False)\n",
              "        (dropout2): Dropout(p=0.2, inplace=False)\n",
              "      )\n",
              "      (5): TransformerBlock(\n",
              "        (attention): MultiHeadAttention(\n",
              "          (query_matrix): Linear(in_features=64, out_features=64, bias=False)\n",
              "          (key_matrix): Linear(in_features=64, out_features=64, bias=False)\n",
              "          (value_matrix): Linear(in_features=64, out_features=64, bias=False)\n",
              "          (out): Linear(in_features=512, out_features=512, bias=True)\n",
              "        )\n",
              "        (norm1): LayerNorm((512,), eps=1e-05, elementwise_affine=True)\n",
              "        (norm2): LayerNorm((512,), eps=1e-05, elementwise_affine=True)\n",
              "        (feed_forward): Sequential(\n",
              "          (0): Linear(in_features=512, out_features=2048, bias=True)\n",
              "          (1): ReLU()\n",
              "          (2): Linear(in_features=2048, out_features=512, bias=True)\n",
              "        )\n",
              "        (dropout1): Dropout(p=0.2, inplace=False)\n",
              "        (dropout2): Dropout(p=0.2, inplace=False)\n",
              "      )\n",
              "    )\n",
              "  )\n",
              "  (decoder): TransformerDecoder(\n",
              "    (word_embedding): Embedding(11, 512)\n",
              "    (position_embedding): PositionalEmbedding()\n",
              "    (layers): ModuleList(\n",
              "      (0): DecoderBlock(\n",
              "        (attention): MultiHeadAttention(\n",
              "          (query_matrix): Linear(in_features=64, out_features=64, bias=False)\n",
              "          (key_matrix): Linear(in_features=64, out_features=64, bias=False)\n",
              "          (value_matrix): Linear(in_features=64, out_features=64, bias=False)\n",
              "          (out): Linear(in_features=512, out_features=512, bias=True)\n",
              "        )\n",
              "        (norm): LayerNorm((512,), eps=1e-05, elementwise_affine=True)\n",
              "        (dropout): Dropout(p=0.2, inplace=False)\n",
              "        (transformer_block): TransformerBlock(\n",
              "          (attention): MultiHeadAttention(\n",
              "            (query_matrix): Linear(in_features=64, out_features=64, bias=False)\n",
              "            (key_matrix): Linear(in_features=64, out_features=64, bias=False)\n",
              "            (value_matrix): Linear(in_features=64, out_features=64, bias=False)\n",
              "            (out): Linear(in_features=512, out_features=512, bias=True)\n",
              "          )\n",
              "          (norm1): LayerNorm((512,), eps=1e-05, elementwise_affine=True)\n",
              "          (norm2): LayerNorm((512,), eps=1e-05, elementwise_affine=True)\n",
              "          (feed_forward): Sequential(\n",
              "            (0): Linear(in_features=512, out_features=2048, bias=True)\n",
              "            (1): ReLU()\n",
              "            (2): Linear(in_features=2048, out_features=512, bias=True)\n",
              "          )\n",
              "          (dropout1): Dropout(p=0.2, inplace=False)\n",
              "          (dropout2): Dropout(p=0.2, inplace=False)\n",
              "        )\n",
              "      )\n",
              "      (1): DecoderBlock(\n",
              "        (attention): MultiHeadAttention(\n",
              "          (query_matrix): Linear(in_features=64, out_features=64, bias=False)\n",
              "          (key_matrix): Linear(in_features=64, out_features=64, bias=False)\n",
              "          (value_matrix): Linear(in_features=64, out_features=64, bias=False)\n",
              "          (out): Linear(in_features=512, out_features=512, bias=True)\n",
              "        )\n",
              "        (norm): LayerNorm((512,), eps=1e-05, elementwise_affine=True)\n",
              "        (dropout): Dropout(p=0.2, inplace=False)\n",
              "        (transformer_block): TransformerBlock(\n",
              "          (attention): MultiHeadAttention(\n",
              "            (query_matrix): Linear(in_features=64, out_features=64, bias=False)\n",
              "            (key_matrix): Linear(in_features=64, out_features=64, bias=False)\n",
              "            (value_matrix): Linear(in_features=64, out_features=64, bias=False)\n",
              "            (out): Linear(in_features=512, out_features=512, bias=True)\n",
              "          )\n",
              "          (norm1): LayerNorm((512,), eps=1e-05, elementwise_affine=True)\n",
              "          (norm2): LayerNorm((512,), eps=1e-05, elementwise_affine=True)\n",
              "          (feed_forward): Sequential(\n",
              "            (0): Linear(in_features=512, out_features=2048, bias=True)\n",
              "            (1): ReLU()\n",
              "            (2): Linear(in_features=2048, out_features=512, bias=True)\n",
              "          )\n",
              "          (dropout1): Dropout(p=0.2, inplace=False)\n",
              "          (dropout2): Dropout(p=0.2, inplace=False)\n",
              "        )\n",
              "      )\n",
              "      (2): DecoderBlock(\n",
              "        (attention): MultiHeadAttention(\n",
              "          (query_matrix): Linear(in_features=64, out_features=64, bias=False)\n",
              "          (key_matrix): Linear(in_features=64, out_features=64, bias=False)\n",
              "          (value_matrix): Linear(in_features=64, out_features=64, bias=False)\n",
              "          (out): Linear(in_features=512, out_features=512, bias=True)\n",
              "        )\n",
              "        (norm): LayerNorm((512,), eps=1e-05, elementwise_affine=True)\n",
              "        (dropout): Dropout(p=0.2, inplace=False)\n",
              "        (transformer_block): TransformerBlock(\n",
              "          (attention): MultiHeadAttention(\n",
              "            (query_matrix): Linear(in_features=64, out_features=64, bias=False)\n",
              "            (key_matrix): Linear(in_features=64, out_features=64, bias=False)\n",
              "            (value_matrix): Linear(in_features=64, out_features=64, bias=False)\n",
              "            (out): Linear(in_features=512, out_features=512, bias=True)\n",
              "          )\n",
              "          (norm1): LayerNorm((512,), eps=1e-05, elementwise_affine=True)\n",
              "          (norm2): LayerNorm((512,), eps=1e-05, elementwise_affine=True)\n",
              "          (feed_forward): Sequential(\n",
              "            (0): Linear(in_features=512, out_features=2048, bias=True)\n",
              "            (1): ReLU()\n",
              "            (2): Linear(in_features=2048, out_features=512, bias=True)\n",
              "          )\n",
              "          (dropout1): Dropout(p=0.2, inplace=False)\n",
              "          (dropout2): Dropout(p=0.2, inplace=False)\n",
              "        )\n",
              "      )\n",
              "      (3): DecoderBlock(\n",
              "        (attention): MultiHeadAttention(\n",
              "          (query_matrix): Linear(in_features=64, out_features=64, bias=False)\n",
              "          (key_matrix): Linear(in_features=64, out_features=64, bias=False)\n",
              "          (value_matrix): Linear(in_features=64, out_features=64, bias=False)\n",
              "          (out): Linear(in_features=512, out_features=512, bias=True)\n",
              "        )\n",
              "        (norm): LayerNorm((512,), eps=1e-05, elementwise_affine=True)\n",
              "        (dropout): Dropout(p=0.2, inplace=False)\n",
              "        (transformer_block): TransformerBlock(\n",
              "          (attention): MultiHeadAttention(\n",
              "            (query_matrix): Linear(in_features=64, out_features=64, bias=False)\n",
              "            (key_matrix): Linear(in_features=64, out_features=64, bias=False)\n",
              "            (value_matrix): Linear(in_features=64, out_features=64, bias=False)\n",
              "            (out): Linear(in_features=512, out_features=512, bias=True)\n",
              "          )\n",
              "          (norm1): LayerNorm((512,), eps=1e-05, elementwise_affine=True)\n",
              "          (norm2): LayerNorm((512,), eps=1e-05, elementwise_affine=True)\n",
              "          (feed_forward): Sequential(\n",
              "            (0): Linear(in_features=512, out_features=2048, bias=True)\n",
              "            (1): ReLU()\n",
              "            (2): Linear(in_features=2048, out_features=512, bias=True)\n",
              "          )\n",
              "          (dropout1): Dropout(p=0.2, inplace=False)\n",
              "          (dropout2): Dropout(p=0.2, inplace=False)\n",
              "        )\n",
              "      )\n",
              "      (4): DecoderBlock(\n",
              "        (attention): MultiHeadAttention(\n",
              "          (query_matrix): Linear(in_features=64, out_features=64, bias=False)\n",
              "          (key_matrix): Linear(in_features=64, out_features=64, bias=False)\n",
              "          (value_matrix): Linear(in_features=64, out_features=64, bias=False)\n",
              "          (out): Linear(in_features=512, out_features=512, bias=True)\n",
              "        )\n",
              "        (norm): LayerNorm((512,), eps=1e-05, elementwise_affine=True)\n",
              "        (dropout): Dropout(p=0.2, inplace=False)\n",
              "        (transformer_block): TransformerBlock(\n",
              "          (attention): MultiHeadAttention(\n",
              "            (query_matrix): Linear(in_features=64, out_features=64, bias=False)\n",
              "            (key_matrix): Linear(in_features=64, out_features=64, bias=False)\n",
              "            (value_matrix): Linear(in_features=64, out_features=64, bias=False)\n",
              "            (out): Linear(in_features=512, out_features=512, bias=True)\n",
              "          )\n",
              "          (norm1): LayerNorm((512,), eps=1e-05, elementwise_affine=True)\n",
              "          (norm2): LayerNorm((512,), eps=1e-05, elementwise_affine=True)\n",
              "          (feed_forward): Sequential(\n",
              "            (0): Linear(in_features=512, out_features=2048, bias=True)\n",
              "            (1): ReLU()\n",
              "            (2): Linear(in_features=2048, out_features=512, bias=True)\n",
              "          )\n",
              "          (dropout1): Dropout(p=0.2, inplace=False)\n",
              "          (dropout2): Dropout(p=0.2, inplace=False)\n",
              "        )\n",
              "      )\n",
              "      (5): DecoderBlock(\n",
              "        (attention): MultiHeadAttention(\n",
              "          (query_matrix): Linear(in_features=64, out_features=64, bias=False)\n",
              "          (key_matrix): Linear(in_features=64, out_features=64, bias=False)\n",
              "          (value_matrix): Linear(in_features=64, out_features=64, bias=False)\n",
              "          (out): Linear(in_features=512, out_features=512, bias=True)\n",
              "        )\n",
              "        (norm): LayerNorm((512,), eps=1e-05, elementwise_affine=True)\n",
              "        (dropout): Dropout(p=0.2, inplace=False)\n",
              "        (transformer_block): TransformerBlock(\n",
              "          (attention): MultiHeadAttention(\n",
              "            (query_matrix): Linear(in_features=64, out_features=64, bias=False)\n",
              "            (key_matrix): Linear(in_features=64, out_features=64, bias=False)\n",
              "            (value_matrix): Linear(in_features=64, out_features=64, bias=False)\n",
              "            (out): Linear(in_features=512, out_features=512, bias=True)\n",
              "          )\n",
              "          (norm1): LayerNorm((512,), eps=1e-05, elementwise_affine=True)\n",
              "          (norm2): LayerNorm((512,), eps=1e-05, elementwise_affine=True)\n",
              "          (feed_forward): Sequential(\n",
              "            (0): Linear(in_features=512, out_features=2048, bias=True)\n",
              "            (1): ReLU()\n",
              "            (2): Linear(in_features=2048, out_features=512, bias=True)\n",
              "          )\n",
              "          (dropout1): Dropout(p=0.2, inplace=False)\n",
              "          (dropout2): Dropout(p=0.2, inplace=False)\n",
              "        )\n",
              "      )\n",
              "    )\n",
              "    (fc_out): Linear(in_features=512, out_features=11, bias=True)\n",
              "    (dropout): Dropout(p=0.2, inplace=False)\n",
              "  )\n",
              ")"
            ]
          },
          "metadata": {},
          "execution_count": 17
        }
      ],
      "source": [
        "src_vocab_size = 11\n",
        "target_vocab_size = 11\n",
        "num_layers = 6\n",
        "seq_length= 12\n",
        "\n",
        "\n",
        "# let 0 be sos token and 1 be eos token\n",
        "src = torch.tensor([[0, 2, 5, 6, 4, 3, 9, 5, 2, 9, 10, 1], \n",
        "                    [0, 2, 8, 7, 3, 4, 5, 6, 7, 2, 10, 1]])\n",
        "target = torch.tensor([[0, 1, 7, 4, 3, 5, 9, 2, 8, 10, 9, 1], \n",
        "                       [0, 1, 5, 6, 2, 4, 7, 6, 2, 8, 10, 1]])\n",
        "\n",
        "print(src.shape,target.shape)\n",
        "model = Transformer(embed_dim=512, src_vocab_size=src_vocab_size, \n",
        "                    target_vocab_size=target_vocab_size, seq_length=seq_length,\n",
        "                    num_layers=num_layers, expansion_factor=4, n_heads=8)\n",
        "model"
      ]
    },
    {
      "cell_type": "code",
      "execution_count": 18,
      "metadata": {
        "execution": {
          "iopub.execute_input": "2022-09-20T10:01:30.992005Z",
          "iopub.status.busy": "2022-09-20T10:01:30.991146Z",
          "iopub.status.idle": "2022-09-20T10:01:31.147095Z",
          "shell.execute_reply": "2022-09-20T10:01:31.146397Z",
          "shell.execute_reply.started": "2022-09-20T09:58:02.304707Z"
        },
        "papermill": {
          "duration": 0.183006,
          "end_time": "2022-09-20T10:01:31.147254",
          "exception": false,
          "start_time": "2022-09-20T10:01:30.964248",
          "status": "completed"
        },
        "tags": [],
        "id": "e623112e",
        "outputId": "910268cd-fb3f-4eb9-8f52-e69e9b7ffd02",
        "colab": {
          "base_uri": "https://localhost:8080/"
        }
      },
      "outputs": [
        {
          "output_type": "execute_result",
          "data": {
            "text/plain": [
              "torch.Size([2, 12, 11])"
            ]
          },
          "metadata": {},
          "execution_count": 18
        }
      ],
      "source": [
        "\n",
        "out = model(src, target)\n",
        "out.shape"
      ]
    },
    {
      "cell_type": "code",
      "execution_count": 19,
      "metadata": {
        "execution": {
          "iopub.execute_input": "2022-09-20T10:01:31.194035Z",
          "iopub.status.busy": "2022-09-20T10:01:31.193272Z",
          "iopub.status.idle": "2022-09-20T10:01:31.808649Z",
          "shell.execute_reply": "2022-09-20T10:01:31.808138Z",
          "shell.execute_reply.started": "2022-09-20T09:58:02.350264Z"
        },
        "papermill": {
          "duration": 0.639331,
          "end_time": "2022-09-20T10:01:31.808808",
          "exception": false,
          "start_time": "2022-09-20T10:01:31.169477",
          "status": "completed"
        },
        "tags": [],
        "id": "84bc757a",
        "outputId": "6e9b41a8-8cf9-44d1-f598-729e1684a220",
        "colab": {
          "base_uri": "https://localhost:8080/"
        }
      },
      "outputs": [
        {
          "output_type": "stream",
          "name": "stdout",
          "text": [
            "torch.Size([1, 12]) torch.Size([1, 1])\n"
          ]
        },
        {
          "output_type": "execute_result",
          "data": {
            "text/plain": [
              "[0, 0, 0, 0, 0, 0, 0, 0, 0, 0, 0, 0]"
            ]
          },
          "metadata": {},
          "execution_count": 19
        }
      ],
      "source": [
        "\n",
        "# inference\n",
        "model = Transformer(embed_dim=512, src_vocab_size=src_vocab_size, \n",
        "                    target_vocab_size=target_vocab_size, seq_length=seq_length, \n",
        "                    num_layers=num_layers, expansion_factor=4, n_heads=8)\n",
        "                  \n",
        "\n",
        "\n",
        "src = torch.tensor([[0, 2, 5, 6, 4, 3, 9, 5, 2, 9, 10, 1]])\n",
        "trg = torch.tensor([[0]])\n",
        "print(src.shape,trg.shape)\n",
        "out = model.decode(src, trg)\n",
        "out"
      ]
    },
    {
      "cell_type": "markdown",
      "metadata": {
        "papermill": {
          "duration": 0.021904,
          "end_time": "2022-09-20T10:01:31.897608",
          "exception": false,
          "start_time": "2022-09-20T10:01:31.875704",
          "status": "completed"
        },
        "tags": [],
        "id": "93cb8ad5"
      },
      "source": [
        "### Some useful resources \n",
        "\n",
        "* Understanding transformers\n",
        "  - https://theaisummer.com/transformer/\n",
        "  - https://jalammar.github.io/illustrated-transformer/\n",
        "* Pytorch implementation\n",
        "  - https://www.youtube.com/watch?v=U0s0f995w14"
      ]
    },
    {
      "cell_type": "markdown",
      "source": [
        "**Acknowledgements**"
      ],
      "metadata": {
        "id": "QDXKq4yXi-KO"
      }
    },
    {
      "cell_type": "markdown",
      "source": [
        "https://www.kaggle.com/code/arunmohan003/transformer-from-scratch-using-pytorch/notebook"
      ],
      "metadata": {
        "id": "uMqA6EMUi8Ik"
      }
    }
  ]
}