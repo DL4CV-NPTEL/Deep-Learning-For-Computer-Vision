{
  "nbformat": 4,
  "nbformat_minor": 0,
  "metadata": {
    "colab": {
      "name": "Week_9_Lecture_3.ipynb",
      "provenance": [],
      "authorship_tag": "ABX9TyPcfGJYmIV+rnOnDknuSGv1",
      "include_colab_link": true
    },
    "kernelspec": {
      "name": "python3",
      "display_name": "Python 3"
    },
    "language_info": {
      "name": "python"
    },
    "widgets": {
      "application/vnd.jupyter.widget-state+json": {
        "2dd16e1f45ad40239c39c9ee70289f36": {
          "model_module": "@jupyter-widgets/output",
          "model_name": "OutputModel",
          "model_module_version": "1.0.0",
          "state": {
            "_dom_classes": [],
            "_model_module": "@jupyter-widgets/output",
            "_model_module_version": "1.0.0",
            "_model_name": "OutputModel",
            "_view_count": null,
            "_view_module": "@jupyter-widgets/output",
            "_view_module_version": "1.0.0",
            "_view_name": "OutputView",
            "layout": "IPY_MODEL_83e87dbe73094f87822d913023fd0f87",
            "msg_id": "",
            "outputs": [
              {
                "output_type": "stream",
                "name": "stdout",
                "text": [
                  "Video available at https://youtube.com/watch?v=Atf7uJ1JIZU\n"
                ]
              },
              {
                "output_type": "display_data",
                "data": {
                  "text/plain": "<IPython.lib.display.YouTubeVideo at 0x7f2b0b9e6c10>",
                  "text/html": "\n        <iframe\n            width=\"854\"\n            height=\"480\"\n            src=\"https://www.youtube.com/embed/Atf7uJ1JIZU?fs=1&rel=0\"\n            frameborder=\"0\"\n            allowfullscreen\n        ></iframe>\n        ",
                  "image/jpeg": "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\n"
                },
                "metadata": {}
              }
            ]
          }
        },
        "83e87dbe73094f87822d913023fd0f87": {
          "model_module": "@jupyter-widgets/base",
          "model_name": "LayoutModel",
          "model_module_version": "1.2.0",
          "state": {
            "_model_module": "@jupyter-widgets/base",
            "_model_module_version": "1.2.0",
            "_model_name": "LayoutModel",
            "_view_count": null,
            "_view_module": "@jupyter-widgets/base",
            "_view_module_version": "1.2.0",
            "_view_name": "LayoutView",
            "align_content": null,
            "align_items": null,
            "align_self": null,
            "border": null,
            "bottom": null,
            "display": null,
            "flex": null,
            "flex_flow": null,
            "grid_area": null,
            "grid_auto_columns": null,
            "grid_auto_flow": null,
            "grid_auto_rows": null,
            "grid_column": null,
            "grid_gap": null,
            "grid_row": null,
            "grid_template_areas": null,
            "grid_template_columns": null,
            "grid_template_rows": null,
            "height": null,
            "justify_content": null,
            "justify_items": null,
            "left": null,
            "margin": null,
            "max_height": null,
            "max_width": null,
            "min_height": null,
            "min_width": null,
            "object_fit": null,
            "object_position": null,
            "order": null,
            "overflow": null,
            "overflow_x": null,
            "overflow_y": null,
            "padding": null,
            "right": null,
            "top": null,
            "visibility": null,
            "width": null
          }
        }
      }
    }
  },
  "cells": [
    {
      "cell_type": "markdown",
      "metadata": {
        "id": "view-in-github",
        "colab_type": "text"
      },
      "source": [
        "<a href=\"https://colab.research.google.com/github/DL4CV-NPTEL/Deep-Learning-For-Computer-Vision/blob/main/notebooks/Week_9/Week_9_Lecture_3.ipynb\" target=\"_parent\"><img src=\"https://colab.research.google.com/assets/colab-badge.svg\" alt=\"Open In Colab\"/></a>"
      ]
    },
    {
      "cell_type": "markdown",
      "source": [
        "Lecture 3: Beyond Captioning: Visual QA, Visual Dialog"
      ],
      "metadata": {
        "id": "KlnTHWqHhA_P"
      }
    },
    {
      "cell_type": "code",
      "source": [
        "#@title \n",
        "from ipywidgets import widgets\n",
        "out1 = widgets.Output()\n",
        "with out1:\n",
        "  from IPython.display import YouTubeVideo\n",
        "  video = YouTubeVideo(id=f\"Atf7uJ1JIZU\", width=854, height=480, fs=1, rel=0)\n",
        "  print(\"Video available at https://youtube.com/watch?v=\" + video.id)\n",
        "  display(video)\n",
        "display(out1)"
      ],
      "metadata": {
        "colab": {
          "base_uri": "https://localhost:8080/",
          "height": 519,
          "referenced_widgets": [
            "2dd16e1f45ad40239c39c9ee70289f36",
            "83e87dbe73094f87822d913023fd0f87"
          ]
        },
        "cellView": "form",
        "id": "hG_5TEbMhDYx",
        "outputId": "b402f62a-c841-4fed-8f19-0bfca0a90808"
      },
      "execution_count": 1,
      "outputs": [
        {
          "output_type": "display_data",
          "data": {
            "text/plain": [
              "Output()"
            ],
            "application/vnd.jupyter.widget-view+json": {
              "version_major": 2,
              "version_minor": 0,
              "model_id": "2dd16e1f45ad40239c39c9ee70289f36"
            }
          },
          "metadata": {}
        }
      ]
    },
    {
      "cell_type": "code",
      "source": [
        "#@title \n",
        "from IPython import display as IPyDisplay\n",
        "IPyDisplay.HTML(\n",
        "    f\"\"\"\n",
        "  <div>\n",
        "    <a href= \"https://github.com/DL4CV-NPTEL/Deep-Learning-For-Computer-Vision/blob/main/Slides/Week_9/DL4CV_Week09_Part03.pdf\" target=\"_blank\">\n",
        "    <img src=\"https://github.com/DL4CV-NPTEL/Deep-Learning-For-Computer-Vision/blob/main/Data/Slides_Logo.png?raw=1\"\n",
        "  alt=\"button link to Airtable\" style=\"width:200px\"></a>\n",
        "    </div>\"\"\" )"
      ],
      "metadata": {
        "colab": {
          "base_uri": "https://localhost:8080/",
          "height": 100
        },
        "cellView": "form",
        "id": "AQtpT7b5hPrE",
        "outputId": "65fe10bd-59ca-449e-c867-5e6a5ffc8989"
      },
      "execution_count": 3,
      "outputs": [
        {
          "output_type": "execute_result",
          "data": {
            "text/plain": [
              "<IPython.core.display.HTML object>"
            ],
            "text/html": [
              "\n",
              "  <div>\n",
              "    <a href= \"https://github.com/DL4CV-NPTEL/Deep-Learning-For-Computer-Vision/blob/main/Slides/Week_9/DL4CV_Week09_Part03.pdf\" target=\"_blank\">\n",
              "    <img src=\"https://github.com/DL4CV-NPTEL/Deep-Learning-For-Computer-Vision/blob/main/Data/Slides_Logo.png?raw=1\"\n",
              "  alt=\"button link to Airtable\" style=\"width:200px\"></a>\n",
              "    </div>"
            ]
          },
          "metadata": {},
          "execution_count": 3
        }
      ]
    },
    {
      "cell_type": "code",
      "source": [
        ""
      ],
      "metadata": {
        "id": "1PcZ0s8ihXpV"
      },
      "execution_count": null,
      "outputs": []
    }
  ]
}