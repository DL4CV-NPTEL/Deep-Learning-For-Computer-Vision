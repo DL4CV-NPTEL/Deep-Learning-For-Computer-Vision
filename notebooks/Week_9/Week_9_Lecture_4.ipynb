{
  "nbformat": 4,
  "nbformat_minor": 0,
  "metadata": {
    "colab": {
      "name": "Week_9_Lecture_4.ipynb",
      "provenance": [],
      "authorship_tag": "ABX9TyMULMLdVJ5+KRukBS+UFCAh",
      "include_colab_link": true
    },
    "kernelspec": {
      "name": "python3",
      "display_name": "Python 3"
    },
    "language_info": {
      "name": "python"
    },
    "widgets": {
      "application/vnd.jupyter.widget-state+json": {
        "fc2889f2b5a74f6395a17bdbed331b22": {
          "model_module": "@jupyter-widgets/output",
          "model_name": "OutputModel",
          "model_module_version": "1.0.0",
          "state": {
            "_dom_classes": [],
            "_model_module": "@jupyter-widgets/output",
            "_model_module_version": "1.0.0",
            "_model_name": "OutputModel",
            "_view_count": null,
            "_view_module": "@jupyter-widgets/output",
            "_view_module_version": "1.0.0",
            "_view_name": "OutputView",
            "layout": "IPY_MODEL_d03f224d7fa5471b8885c1ace0c1751e",
            "msg_id": "",
            "outputs": [
              {
                "output_type": "stream",
                "name": "stdout",
                "text": [
                  "Video available at https://youtube.com/watch?v=Pbc8QHMBhik\n"
                ]
              },
              {
                "output_type": "display_data",
                "data": {
                  "text/plain": "<IPython.lib.display.YouTubeVideo at 0x7f34736d8490>",
                  "text/html": "\n        <iframe\n            width=\"854\"\n            height=\"480\"\n            src=\"https://www.youtube.com/embed/Pbc8QHMBhik?fs=1&rel=0\"\n            frameborder=\"0\"\n            allowfullscreen\n        ></iframe>\n        ",
                  "image/jpeg": "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\n"
                },
                "metadata": {}
              }
            ]
          }
        },
        "d03f224d7fa5471b8885c1ace0c1751e": {
          "model_module": "@jupyter-widgets/base",
          "model_name": "LayoutModel",
          "model_module_version": "1.2.0",
          "state": {
            "_model_module": "@jupyter-widgets/base",
            "_model_module_version": "1.2.0",
            "_model_name": "LayoutModel",
            "_view_count": null,
            "_view_module": "@jupyter-widgets/base",
            "_view_module_version": "1.2.0",
            "_view_name": "LayoutView",
            "align_content": null,
            "align_items": null,
            "align_self": null,
            "border": null,
            "bottom": null,
            "display": null,
            "flex": null,
            "flex_flow": null,
            "grid_area": null,
            "grid_auto_columns": null,
            "grid_auto_flow": null,
            "grid_auto_rows": null,
            "grid_column": null,
            "grid_gap": null,
            "grid_row": null,
            "grid_template_areas": null,
            "grid_template_columns": null,
            "grid_template_rows": null,
            "height": null,
            "justify_content": null,
            "justify_items": null,
            "left": null,
            "margin": null,
            "max_height": null,
            "max_width": null,
            "min_height": null,
            "min_width": null,
            "object_fit": null,
            "object_position": null,
            "order": null,
            "overflow": null,
            "overflow_x": null,
            "overflow_y": null,
            "padding": null,
            "right": null,
            "top": null,
            "visibility": null,
            "width": null
          }
        }
      }
    }
  },
  "cells": [
    {
      "cell_type": "markdown",
      "metadata": {
        "id": "view-in-github",
        "colab_type": "text"
      },
      "source": [
        "<a href=\"https://colab.research.google.com/github/DL4CV-NPTEL/Deep-Learning-For-Computer-Vision/blob/main/notebooks/Week_9/Week_9_Lecture_4.ipynb\" target=\"_parent\"><img src=\"https://colab.research.google.com/assets/colab-badge.svg\" alt=\"Open In Colab\"/></a>"
      ]
    },
    {
      "cell_type": "markdown",
      "source": [
        "#Lecture 4: Other Attention Models"
      ],
      "metadata": {
        "id": "z3kPlc91iEEC"
      }
    },
    {
      "cell_type": "code",
      "source": [
        "#@title \n",
        "from ipywidgets import widgets\n",
        "out1 = widgets.Output()\n",
        "with out1:\n",
        "  from IPython.display import YouTubeVideo\n",
        "  video = YouTubeVideo(id=f\"Pbc8QHMBhik\", width=854, height=480, fs=1, rel=0)\n",
        "  print(\"Video available at https://youtube.com/watch?v=\" + video.id)\n",
        "  display(video)\n",
        "display(out1)"
      ],
      "metadata": {
        "colab": {
          "base_uri": "https://localhost:8080/",
          "height": 519,
          "referenced_widgets": [
            "fc2889f2b5a74f6395a17bdbed331b22",
            "d03f224d7fa5471b8885c1ace0c1751e"
          ]
        },
        "id": "Wr-PFBqCiHFL",
        "outputId": "a3b3d52c-4781-4f75-c5f1-29c876bc1d18"
      },
      "execution_count": 1,
      "outputs": [
        {
          "output_type": "display_data",
          "data": {
            "text/plain": [
              "Output()"
            ],
            "application/vnd.jupyter.widget-view+json": {
              "version_major": 2,
              "version_minor": 0,
              "model_id": "fc2889f2b5a74f6395a17bdbed331b22"
            }
          },
          "metadata": {}
        }
      ]
    },
    {
      "cell_type": "code",
      "source": [
        "#@title \n",
        "from IPython import display as IPyDisplay\n",
        "IPyDisplay.HTML(\n",
        "    f\"\"\"\n",
        "  <div>\n",
        "    <a href= \"https://github.com/DL4CV-NPTEL/Deep-Learning-For-Computer-Vision/blob/main/Slides/Week_9/DL4CV_Week09_Part04.pdf\" target=\"_blank\">\n",
        "    <img src=\"https://github.com/DL4CV-NPTEL/Deep-Learning-For-Computer-Vision/blob/main/Data/Slides_Logo.png?raw=1\"\n",
        "  alt=\"button link to Airtable\" style=\"width:200px\"></a>\n",
        "    </div>\"\"\" )"
      ],
      "metadata": {
        "colab": {
          "base_uri": "https://localhost:8080/",
          "height": 100
        },
        "id": "Qkmr1HoQibHc",
        "outputId": "e32eafa0-f048-4191-9589-cfcd55992b94"
      },
      "execution_count": 2,
      "outputs": [
        {
          "output_type": "execute_result",
          "data": {
            "text/plain": [
              "<IPython.core.display.HTML object>"
            ],
            "text/html": [
              "\n",
              "  <div>\n",
              "    <a href= \"https://github.com/DL4CV-NPTEL/Deep-Learning-For-Computer-Vision/blob/main/Slides/Week_9/DL4CV_Week09_Part04.pdf\" target=\"_blank\">\n",
              "    <img src=\"https://github.com/DL4CV-NPTEL/Deep-Learning-For-Computer-Vision/blob/main/Data/Slides_Logo.png?raw=1\"\n",
              "  alt=\"button link to Airtable\" style=\"width:200px\"></a>\n",
              "    </div>"
            ]
          },
          "metadata": {},
          "execution_count": 2
        }
      ]
    },
    {
      "cell_type": "code",
      "source": [
        ""
      ],
      "metadata": {
        "id": "yrJlgJCBihXc"
      },
      "execution_count": null,
      "outputs": []
    }
  ]
}
