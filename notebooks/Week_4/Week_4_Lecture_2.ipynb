{
  "nbformat": 4,
  "nbformat_minor": 0,
  "metadata": {
    "colab": {
      "name": "Week_4_Lecture_2.ipynb",
      "provenance": [],
      "include_colab_link": true
    },
    "kernelspec": {
      "name": "python3",
      "display_name": "Python 3"
    },
    "language_info": {
      "name": "python"
    },
    "widgets": {
      "application/vnd.jupyter.widget-state+json": {
        "c14567a51fe44cd883944a7f3bd1def1": {
          "model_module": "@jupyter-widgets/output",
          "model_name": "OutputModel",
          "model_module_version": "1.0.0",
          "state": {
            "_dom_classes": [],
            "_model_module": "@jupyter-widgets/output",
            "_model_module_version": "1.0.0",
            "_model_name": "OutputModel",
            "_view_count": null,
            "_view_module": "@jupyter-widgets/output",
            "_view_module_version": "1.0.0",
            "_view_name": "OutputView",
            "layout": "IPY_MODEL_c325a5f5673b47d5ad6f1c10aecb87c2",
            "msg_id": "",
            "outputs": [
              {
                "output_type": "stream",
                "name": "stdout",
                "text": [
                  "Video available at https://youtube.com/watch?v=OKVn7q20dEY\n"
                ]
              },
              {
                "output_type": "display_data",
                "data": {
                  "text/plain": "<IPython.lib.display.YouTubeVideo at 0x7fec43b7a690>",
                  "text/html": "\n        <iframe\n            width=\"854\"\n            height=\"480\"\n            src=\"https://www.youtube.com/embed/OKVn7q20dEY?fs=1&rel=0\"\n            frameborder=\"0\"\n            allowfullscreen\n        ></iframe>\n        ",
                  "image/jpeg": "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\n"
                },
                "metadata": {}
              }
            ]
          }
        },
        "c325a5f5673b47d5ad6f1c10aecb87c2": {
          "model_module": "@jupyter-widgets/base",
          "model_name": "LayoutModel",
          "model_module_version": "1.2.0",
          "state": {
            "_model_module": "@jupyter-widgets/base",
            "_model_module_version": "1.2.0",
            "_model_name": "LayoutModel",
            "_view_count": null,
            "_view_module": "@jupyter-widgets/base",
            "_view_module_version": "1.2.0",
            "_view_name": "LayoutView",
            "align_content": null,
            "align_items": null,
            "align_self": null,
            "border": null,
            "bottom": null,
            "display": null,
            "flex": null,
            "flex_flow": null,
            "grid_area": null,
            "grid_auto_columns": null,
            "grid_auto_flow": null,
            "grid_auto_rows": null,
            "grid_column": null,
            "grid_gap": null,
            "grid_row": null,
            "grid_template_areas": null,
            "grid_template_columns": null,
            "grid_template_rows": null,
            "height": null,
            "justify_content": null,
            "justify_items": null,
            "left": null,
            "margin": null,
            "max_height": null,
            "max_width": null,
            "min_height": null,
            "min_width": null,
            "object_fit": null,
            "object_position": null,
            "order": null,
            "overflow": null,
            "overflow_x": null,
            "overflow_y": null,
            "padding": null,
            "right": null,
            "top": null,
            "visibility": null,
            "width": null
          }
        }
      }
    },
    "accelerator": "GPU",
    "gpuClass": "standard"
  },
  "cells": [
    {
      "cell_type": "markdown",
      "metadata": {
        "id": "view-in-github",
        "colab_type": "text"
      },
      "source": [
        "<a href=\"https://colab.research.google.com/github/DL4CV-NPTEL/Deep-Learning-For-Computer-Vision/blob/main/notebooks/Week_4/Week_4_Lecture_2.ipynb\" target=\"_parent\"><img src=\"https://colab.research.google.com/assets/colab-badge.svg\" alt=\"Open In Colab\"/></a>"
      ]
    },
    {
      "cell_type": "markdown",
      "source": [
        "# Lecture 2: Neural Networks: A Review Part 2 <sup><mark style=\"background-color:gold\">Code</mark> </sup>"
      ],
      "metadata": {
        "id": "3JdIPfdtt2TU"
      }
    },
    {
      "cell_type": "code",
      "source": [
        "#@title \n",
        "from ipywidgets import widgets\n",
        "out1 = widgets.Output()\n",
        "with out1:\n",
        "  from IPython.display import YouTubeVideo\n",
        "  video = YouTubeVideo(id=f\"OKVn7q20dEY\", width=854, height=480, fs=1, rel=0)\n",
        "  print(\"Video available at https://youtube.com/watch?v=\" + video.id)\n",
        "  display(video)\n",
        "display(out1)"
      ],
      "metadata": {
        "colab": {
          "base_uri": "https://localhost:8080/",
          "height": 518,
          "referenced_widgets": [
            "c14567a51fe44cd883944a7f3bd1def1",
            "c325a5f5673b47d5ad6f1c10aecb87c2"
          ]
        },
        "cellView": "form",
        "id": "rA0FZ1_3t3nO",
        "outputId": "774f732a-11a6-430a-af55-c9131962361d"
      },
      "execution_count": 15,
      "outputs": [
        {
          "output_type": "display_data",
          "data": {
            "text/plain": [
              "Output()"
            ],
            "application/vnd.jupyter.widget-view+json": {
              "version_major": 2,
              "version_minor": 0,
              "model_id": "c14567a51fe44cd883944a7f3bd1def1"
            }
          },
          "metadata": {}
        }
      ]
    },
    {
      "cell_type": "code",
      "source": [
        "#@title \n",
        "from IPython import display as IPyDisplay\n",
        "IPyDisplay.HTML(\n",
        "    f\"\"\"\n",
        "  <div>\n",
        "    <a href= \"https://github.com/DL4CV-NPTEL/Deep-Learning-For-Computer-Vision/blob/main/Slides/Week_4/DL4CV_Week04_Part01.pdf\" target=\"_blank\">\n",
        "    <img src=\"https://github.com/DL4CV-NPTEL/Deep-Learning-For-Computer-Vision/blob/main/Data/Slides_Logo.png?raw=1\"\n",
        "  alt=\"button link to Airtable\" style=\"width:200px\"></a>\n",
        "    </div>\"\"\" )"
      ],
      "metadata": {
        "colab": {
          "base_uri": "https://localhost:8080/",
          "height": 100
        },
        "cellView": "form",
        "id": "WrHo4zh4t_Km",
        "outputId": "e0576ee5-0de5-4946-e44c-ea862d9ca2f2"
      },
      "execution_count": 16,
      "outputs": [
        {
          "output_type": "execute_result",
          "data": {
            "text/plain": [
              "<IPython.core.display.HTML object>"
            ],
            "text/html": [
              "\n",
              "  <div>\n",
              "    <a href= \"https://github.com/DL4CV-NPTEL/Deep-Learning-For-Computer-Vision/blob/main/Slides/Week_4/DL4CV_Week04_Part01.pdf\" target=\"_blank\">\n",
              "    <img src=\"https://github.com/DL4CV-NPTEL/Deep-Learning-For-Computer-Vision/blob/main/Data/Slides_Logo.png?raw=1\"\n",
              "  alt=\"button link to Airtable\" style=\"width:200px\"></a>\n",
              "    </div>"
            ]
          },
          "metadata": {},
          "execution_count": 16
        }
      ]
    },
    {
      "cell_type": "markdown",
      "source": [
        "## Perceptron"
      ],
      "metadata": {
        "id": "VQXHjjTEwzeB"
      }
    },
    {
      "cell_type": "markdown",
      "source": [
        "**Imports**"
      ],
      "metadata": {
        "id": "hai-zCXnw19m"
      }
    },
    {
      "cell_type": "code",
      "source": [
        "import numpy as np\n",
        "import torch\n",
        "import matplotlib.pyplot as plt\n",
        "%matplotlib inline"
      ],
      "metadata": {
        "id": "wvT7F0cyuLI4"
      },
      "execution_count": 17,
      "outputs": []
    },
    {
      "cell_type": "markdown",
      "source": [
        "**Preparing the dataset**"
      ],
      "metadata": {
        "id": "GP4vXS3ww-aX"
      }
    },
    {
      "cell_type": "code",
      "source": [
        "##########################\n",
        "### DATASET\n",
        "##########################\n",
        "\n",
        "data = np.genfromtxt('https://raw.githubusercontent.com/DL4CV-NPTEL/Deep-Learning-For-Computer-Vision/main/Data/Week%204/perceptron_toydata.txt', delimiter='\\t')\n",
        "X, y = data[:, :2], data[:, 2]\n",
        "y = y.astype(np.int_)\n",
        "\n",
        "print('Class label counts:', np.bincount(y))\n",
        "print('X.shape:', X.shape)\n",
        "print('y.shape:', y.shape)\n",
        "\n",
        "# Shuffling & train/test split\n",
        "shuffle_idx = np.arange(y.shape[0])\n",
        "shuffle_rng = np.random.RandomState(123)\n",
        "shuffle_rng.shuffle(shuffle_idx)\n",
        "X, y = X[shuffle_idx], y[shuffle_idx]\n",
        "\n",
        "X_train, X_test = X[shuffle_idx[:70]], X[shuffle_idx[70:]]\n",
        "y_train, y_test = y[shuffle_idx[:70]], y[shuffle_idx[70:]]\n",
        "\n",
        "# Normalize (mean zero, unit variance)\n",
        "mu, sigma = X_train.mean(axis=0), X_train.std(axis=0)\n",
        "X_train = (X_train - mu) / sigma\n",
        "X_test = (X_test - mu) / sigma"
      ],
      "metadata": {
        "id": "Kj8XdF48w9jY",
        "outputId": "6d6b16a0-bd67-46a3-f049-fa84413d2924",
        "colab": {
          "base_uri": "https://localhost:8080/"
        }
      },
      "execution_count": 18,
      "outputs": [
        {
          "output_type": "stream",
          "name": "stdout",
          "text": [
            "Class label counts: [50 50]\n",
            "X.shape: (100, 2)\n",
            "y.shape: (100,)\n"
          ]
        }
      ]
    },
    {
      "cell_type": "code",
      "source": [
        "X_train.std(axis=0)"
      ],
      "metadata": {
        "id": "ENwNlurUxkhZ",
        "outputId": "543fc0cd-443b-462e-d310-962ebb83036a",
        "colab": {
          "base_uri": "https://localhost:8080/"
        }
      },
      "execution_count": 19,
      "outputs": [
        {
          "output_type": "execute_result",
          "data": {
            "text/plain": [
              "array([1., 1.])"
            ]
          },
          "metadata": {},
          "execution_count": 19
        }
      ]
    },
    {
      "cell_type": "code",
      "source": [
        "plt.scatter(X_train[y_train==0, 0], X_train[y_train==0, 1], label='class 0', marker='o')\n",
        "plt.scatter(X_train[y_train==1, 0], X_train[y_train==1, 1], label='class 1', marker='s')\n",
        "plt.title('Training set')\n",
        "plt.xlabel('feature 1')\n",
        "plt.ylabel('feature 2')\n",
        "plt.xlim([-3, 3])\n",
        "plt.ylim([-3, 3])\n",
        "plt.legend()\n",
        "plt.show()"
      ],
      "metadata": {
        "id": "lTDCCOgCxowt",
        "outputId": "b2a3a5b9-16b8-43be-f6b2-7f5bf832c221",
        "colab": {
          "base_uri": "https://localhost:8080/",
          "height": 295
        }
      },
      "execution_count": 20,
      "outputs": [
        {
          "output_type": "display_data",
          "data": {
            "text/plain": [
              "<Figure size 432x288 with 1 Axes>"
            ],
            "image/png": "[encoded data removed]"
          },
          "metadata": {
            "needs_background": "light"
          }
        }
      ]
    },
    {
      "cell_type": "code",
      "source": [
        "plt.scatter(X_test[y_test==0, 0], X_test[y_test==0, 1], label='class 0', marker='o')\n",
        "plt.scatter(X_test[y_test==1, 0], X_test[y_test==1, 1], label='class 1', marker='s')\n",
        "plt.title('Test set')\n",
        "plt.xlabel('feature 1')\n",
        "plt.ylabel('feature 2')\n",
        "plt.xlim([-3, 3])\n",
        "plt.ylim([-3, 3])\n",
        "plt.legend()\n",
        "plt.show()"
      ],
      "metadata": {
        "id": "JuAAEVBOxqd1",
        "outputId": "90a0415d-e799-45d4-9405-d089932b8a75",
        "colab": {
          "base_uri": "https://localhost:8080/",
          "height": 295
        }
      },
      "execution_count": 21,
      "outputs": [
        {
          "output_type": "display_data",
          "data": {
            "text/plain": [
              "<Figure size 432x288 with 1 Axes>"
            ],
            "image/png": "[encoded data removed]"
          },
          "metadata": {
            "needs_background": "light"
          }
        }
      ]
    },
    {
      "cell_type": "markdown",
      "source": [
        "### Perceptron using Numpy"
      ],
      "metadata": {
        "id": "nxrWll5dxzBm"
      }
    },
    {
      "cell_type": "markdown",
      "source": [
        "**Defining the Perceptron model**"
      ],
      "metadata": {
        "id": "MIFbceoMyP4L"
      }
    },
    {
      "cell_type": "code",
      "source": [
        "class Perceptron_numpy():\n",
        "    def __init__(self, num_features):\n",
        "        self.num_features = num_features\n",
        "        self.weights = np.zeros((num_features, 1), dtype=np.float32)\n",
        "        self.bias = np.zeros(1, dtype=np.float32)\n",
        "\n",
        "    def forward(self, x):\n",
        "        linear = np.dot(x, self.weights) + self.bias # comp. net input\n",
        "        predictions = np.where(linear > 0., 1, 0)\n",
        "        return predictions\n",
        "        \n",
        "    def backward(self, x, y):  \n",
        "        predictions = self.forward(x)\n",
        "        errors = y - predictions\n",
        "        return errors\n",
        "        \n",
        "    def train(self, x, y, epochs):\n",
        "        for e in range(epochs):\n",
        "            \n",
        "            for i in range(y.shape[0]):\n",
        "                errors = self.backward(x[i].reshape(1, self.num_features), y[i]).reshape(-1)\n",
        "                self.weights += (errors * x[i]).reshape(self.num_features, 1)\n",
        "                self.bias += errors\n",
        "                \n",
        "    def evaluate(self, x, y):\n",
        "        predictions = self.forward(x).reshape(-1)\n",
        "        accuracy = np.sum(predictions == y) / y.shape[0]\n",
        "        return accuracy"
      ],
      "metadata": {
        "id": "HdPrA2y6xsiV"
      },
      "execution_count": 22,
      "outputs": []
    },
    {
      "cell_type": "markdown",
      "source": [
        "**Training the Perceptron**"
      ],
      "metadata": {
        "id": "klu5guyFyTW6"
      }
    },
    {
      "cell_type": "code",
      "source": [
        "ppn_numpy = Perceptron_numpy(num_features=2)\n",
        "\n",
        "ppn_numpy.train(X_train, y_train, epochs=5)\n",
        "\n",
        "print('Model parameters:\\n\\n')\n",
        "print('  Weights: %s\\n' % ppn_numpy.weights)\n",
        "print('  Bias: %s\\n' % ppn_numpy.bias)"
      ],
      "metadata": {
        "id": "7nLfoy54x4lY",
        "outputId": "3d5954c3-5297-456c-b87c-29fb41335170",
        "colab": {
          "base_uri": "https://localhost:8080/"
        }
      },
      "execution_count": 23,
      "outputs": [
        {
          "output_type": "stream",
          "name": "stdout",
          "text": [
            "Model parameters:\n",
            "\n",
            "\n",
            "  Weights: [[1.2734085]\n",
            " [1.3464228]]\n",
            "\n",
            "  Bias: [-1.]\n",
            "\n"
          ]
        }
      ]
    },
    {
      "cell_type": "markdown",
      "source": [
        "**Evaluating the model**"
      ],
      "metadata": {
        "id": "ETK-0hZwyZ1L"
      }
    },
    {
      "cell_type": "code",
      "source": [
        "train_acc = ppn_numpy.evaluate(X_train, y_train)\n",
        "print('Train set accuracy: %.2f%%' % (train_acc*100))"
      ],
      "metadata": {
        "id": "EUKgY9nvybDc",
        "outputId": "7c55bc07-c000-44b0-bdf5-0c6b0016dc4e",
        "colab": {
          "base_uri": "https://localhost:8080/"
        }
      },
      "execution_count": 24,
      "outputs": [
        {
          "output_type": "stream",
          "name": "stdout",
          "text": [
            "Train set accuracy: 100.00%\n"
          ]
        }
      ]
    },
    {
      "cell_type": "code",
      "source": [
        "test_acc = ppn_numpy.evaluate(X_test, y_test)\n",
        "print('Test set accuracy: %.2f%%' % (test_acc*100))"
      ],
      "metadata": {
        "id": "AJVbEGJcyvbG",
        "outputId": "0d164886-3bd2-4f4b-de42-fc0523dcefae",
        "colab": {
          "base_uri": "https://localhost:8080/"
        }
      },
      "execution_count": 25,
      "outputs": [
        {
          "output_type": "stream",
          "name": "stdout",
          "text": [
            "Test set accuracy: 93.33%\n"
          ]
        }
      ]
    },
    {
      "cell_type": "code",
      "source": [
        "##########################\n",
        "### 2D Decision Boundary\n",
        "##########################\n",
        "\n",
        "w, b = ppn_numpy.weights, ppn_numpy.bias\n",
        "\n",
        "x0_min = -2\n",
        "x1_min = ( (-(w[0] * x0_min) - b[0]) \n",
        "          / w[1] )\n",
        "\n",
        "x0_max = 2\n",
        "x1_max = ( (-(w[0] * x0_max) - b[0]) \n",
        "          / w[1] )\n",
        "\n",
        "# x0*w0 + x1*w1 + b = 0\n",
        "# x1  = (-x0*w0 - b) / w1\n",
        "\n",
        "\n",
        "fig, ax = plt.subplots(1, 2, sharex=True, figsize=(7, 3))\n",
        "\n",
        "ax[0].plot([x0_min, x0_max], [x1_min, x1_max])\n",
        "ax[0].scatter(X_train[y_train==0, 0], X_train[y_train==0, 1], label='class 0', marker='o')\n",
        "ax[0].scatter(X_train[y_train==1, 0], X_train[y_train==1, 1], label='class 1', marker='s')\n",
        "\n",
        "ax[1].plot([x0_min, x0_max], [x1_min, x1_max])\n",
        "ax[1].scatter(X_test[y_test==0, 0], X_test[y_test==0, 1], label='class 0', marker='o')\n",
        "ax[1].scatter(X_test[y_test==1, 0], X_test[y_test==1, 1], label='class 1', marker='s')\n",
        "\n",
        "ax[1].legend(loc='upper left')\n",
        "plt.show()"
      ],
      "metadata": {
        "id": "52R3dx2Ky00n",
        "outputId": "b5918ede-63bc-4048-df5c-a9ca8e80aa5e",
        "colab": {
          "base_uri": "https://localhost:8080/",
          "height": 211
        }
      },
      "execution_count": 26,
      "outputs": [
        {
          "output_type": "display_data",
          "data": {
            "text/plain": [
              "<Figure size 504x216 with 2 Axes>"
            ],
            "image/png": "[encoded data removed]"
          },
          "metadata": {
            "needs_background": "light"
          }
        }
      ]
    },
    {
      "cell_type": "markdown",
      "source": [
        "### Perceptron using PyTorch"
      ],
      "metadata": {
        "id": "UjZBdF5jzX1j"
      }
    },
    {
      "cell_type": "markdown",
      "source": [
        "**Defining the Perceptron model**"
      ],
      "metadata": {
        "id": "Wv2-1HNaz876"
      }
    },
    {
      "cell_type": "code",
      "source": [
        "device = \"cpu\"\n",
        "\n",
        "\n",
        "class Perceptron_torch():\n",
        "    def __init__(self, num_features):\n",
        "        self.num_features = num_features\n",
        "        self.weights = torch.zeros(num_features, 1, \n",
        "                                   dtype=torch.float32, device=device)\n",
        "        self.bias = torch.zeros(1, dtype=torch.float32, device=device)\n",
        "        \n",
        "        # placeholder vectors so they don't\n",
        "        # need to be recreated each time\n",
        "        self.ones = torch.ones(1)\n",
        "        self.zeros = torch.zeros(1)\n",
        "\n",
        "    def forward(self, x):\n",
        "        linear = torch.mm(x, self.weights) + self.bias\n",
        "        predictions = torch.where(linear > 0., self.ones, self.zeros)\n",
        "        return predictions\n",
        "        \n",
        "    def backward(self, x, y):  \n",
        "        predictions = self.forward(x)\n",
        "        errors = y - predictions\n",
        "        return errors\n",
        "        \n",
        "    def train(self, x, y, epochs):\n",
        "        for e in range(epochs):\n",
        "            \n",
        "            for i in range(y.shape[0]):\n",
        "                # use view because backward expects a matrix (i.e., 2D tensor)\n",
        "                errors = self.backward(x[i].reshape(1, self.num_features), y[i]).reshape(-1)\n",
        "                self.weights += (errors * x[i]).reshape(self.num_features, 1)\n",
        "                self.bias += errors\n",
        "                \n",
        "    def evaluate(self, x, y):\n",
        "        predictions = self.forward(x).reshape(-1)\n",
        "        accuracy = torch.sum(predictions == y).float() / y.shape[0]\n",
        "        return accuracy"
      ],
      "metadata": {
        "id": "TCcrLHfNzZXn"
      },
      "execution_count": 27,
      "outputs": []
    },
    {
      "cell_type": "markdown",
      "source": [
        "**Training the Perceptron**"
      ],
      "metadata": {
        "id": "WyvKAtMwz26f"
      }
    },
    {
      "cell_type": "code",
      "source": [
        "ppn_torch = Perceptron_torch(num_features=2)\n",
        "\n",
        "X_train_tensor = torch.tensor(X_train, dtype=torch.float32, device=device)\n",
        "y_train_tensor = torch.tensor(y_train, dtype=torch.float32, device=device)\n",
        "\n",
        "ppn_torch.train(X_train_tensor, y_train_tensor, epochs=5)\n",
        "\n",
        "print('Model parameters:')\n",
        "print('  Weights: %s' % ppn_torch.weights)\n",
        "print('  Bias: %s' % ppn_torch.bias)"
      ],
      "metadata": {
        "id": "QnQzgcoezocH",
        "outputId": "94b630cd-fbfd-479e-d1ba-052604c9de15",
        "colab": {
          "base_uri": "https://localhost:8080/"
        }
      },
      "execution_count": 28,
      "outputs": [
        {
          "output_type": "stream",
          "name": "stdout",
          "text": [
            "Model parameters:\n",
            "  Weights: tensor([[1.2734],\n",
            "        [1.3464]])\n",
            "  Bias: tensor([-1.])\n"
          ]
        }
      ]
    },
    {
      "cell_type": "markdown",
      "source": [
        "**Evaluating the model**"
      ],
      "metadata": {
        "id": "EVN7cqKEz-_y"
      }
    },
    {
      "cell_type": "code",
      "source": [
        "X_test_tensor = torch.tensor(X_test, dtype=torch.float32, device=device)\n",
        "y_test_tensor = torch.tensor(y_test, dtype=torch.float32, device=device)\n",
        "\n",
        "test_acc = ppn_torch.evaluate(X_test_tensor, y_test_tensor)\n",
        "print('Test set accuracy: %.2f%%' % (test_acc*100))"
      ],
      "metadata": {
        "id": "HadVRej_0FlW",
        "outputId": "7dc91fb1-5836-45c2-ab47-32a68a1d39bc",
        "colab": {
          "base_uri": "https://localhost:8080/"
        }
      },
      "execution_count": 29,
      "outputs": [
        {
          "output_type": "stream",
          "name": "stdout",
          "text": [
            "Test set accuracy: 93.33%\n"
          ]
        }
      ]
    },
    {
      "cell_type": "code",
      "source": [
        "##########################\n",
        "### 2D Decision Boundary\n",
        "##########################\n",
        "\n",
        "w, b = ppn_torch.weights, ppn_torch.bias\n",
        "\n",
        "x0_min = -2\n",
        "x1_min = ( (-(w[0] * x0_min) - b[0]) \n",
        "          / w[1] )\n",
        "\n",
        "x0_max = 2\n",
        "x1_max = ( (-(w[0] * x0_max) - b[0]) \n",
        "          / w[1] )\n",
        "\n",
        "\n",
        "fig, ax = plt.subplots(1, 2, sharex=True, figsize=(7, 3))\n",
        "\n",
        "ax[0].plot([x0_min, x0_max], [x1_min, x1_max])\n",
        "ax[1].plot([x0_min, x0_max], [x1_min, x1_max])\n",
        "\n",
        "ax[0].scatter(X_train[y_train==0, 0], X_train[y_train==0, 1], label='class 0', marker='o')\n",
        "ax[0].scatter(X_train[y_train==1, 0], X_train[y_train==1, 1], label='class 1', marker='s')\n",
        "\n",
        "ax[1].scatter(X_test[y_test==0, 0], X_test[y_test==0, 1], label='class 0', marker='o')\n",
        "ax[1].scatter(X_test[y_test==1, 0], X_test[y_test==1, 1], label='class 1', marker='s')\n",
        "\n",
        "ax[1].legend(loc='upper left')\n",
        "plt.show()"
      ],
      "metadata": {
        "id": "v0lc0oK_0E7j",
        "outputId": "2b0d2d9b-a129-4265-c856-76426e3cd095",
        "colab": {
          "base_uri": "https://localhost:8080/",
          "height": 300
        }
      },
      "execution_count": 30,
      "outputs": [
        {
          "output_type": "stream",
          "name": "stderr",
          "text": [
            "/usr/local/lib/python3.7/dist-packages/numpy/core/shape_base.py:65: FutureWarning: The input object of type 'Tensor' is an array-like implementing one of the corresponding protocols (`__array__`, `__array_interface__` or `__array_struct__`); but not a sequence (or 0-D). In the future, this object will be coerced as if it was first converted using `np.array(obj)`. To retain the old behaviour, you have to either modify the type 'Tensor', or assign to an empty array created with `np.empty(correct_shape, dtype=object)`.\n",
            "  ary = asanyarray(ary)\n",
            "/usr/local/lib/python3.7/dist-packages/numpy/core/shape_base.py:65: VisibleDeprecationWarning: Creating an ndarray from ragged nested sequences (which is a list-or-tuple of lists-or-tuples-or ndarrays with different lengths or shapes) is deprecated. If you meant to do this, you must specify 'dtype=object' when creating the ndarray.\n",
            "  ary = asanyarray(ary)\n"
          ]
        },
        {
          "output_type": "display_data",
          "data": {
            "text/plain": [
              "<Figure size 504x216 with 2 Axes>"
            ],
            "image/png": "[encoded data removed]"
          },
          "metadata": {
            "needs_background": "light"
          }
        }
      ]
    },
    {
      "cell_type": "markdown",
      "source": [
        "**Acknowledgements**"
      ],
      "metadata": {
        "id": "LeasJMatLsxe"
      }
    },
    {
      "cell_type": "markdown",
      "source": [
        "Code adopted from the excellent lectures of Sebastian Raschka\n",
        "\n",
        "https://sebastianraschka.com/blog/2021/dl-course.html"
      ],
      "metadata": {
        "id": "uKvcAckiLzGO"
      }
    }
  ]
}