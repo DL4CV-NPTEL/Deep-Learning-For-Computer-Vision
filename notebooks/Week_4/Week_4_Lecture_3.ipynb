{
  "nbformat": 4,
  "nbformat_minor": 0,
  "metadata": {
    "colab": {
      "name": "Week_4_Lecture_3.ipynb",
      "provenance": [],
      "include_colab_link": true
    },
    "kernelspec": {
      "name": "python3",
      "display_name": "Python 3"
    },
    "language_info": {
      "name": "python"
    },
    "widgets": {
      "application/vnd.jupyter.widget-state+json": {
        "d635dee27dd94e8495a7e6ca2a49f6d5": {
          "model_module": "@jupyter-widgets/output",
          "model_name": "OutputModel",
          "model_module_version": "1.0.0",
          "state": {
            "_dom_classes": [],
            "_model_module": "@jupyter-widgets/output",
            "_model_module_version": "1.0.0",
            "_model_name": "OutputModel",
            "_view_count": null,
            "_view_module": "@jupyter-widgets/output",
            "_view_module_version": "1.0.0",
            "_view_name": "OutputView",
            "layout": "IPY_MODEL_5e85e46eea314f23bdc6339b375d8159",
            "msg_id": "",
            "outputs": [
              {
                "output_type": "stream",
                "name": "stdout",
                "text": [
                  "Video available at https://youtube.com/watch?v=8sjbwfHdqW8\n"
                ]
              },
              {
                "output_type": "display_data",
                "data": {
                  "text/plain": "<IPython.lib.display.YouTubeVideo at 0x7fec3fb76b90>",
                  "text/html": "\n        <iframe\n            width=\"854\"\n            height=\"480\"\n            src=\"https://www.youtube.com/embed/8sjbwfHdqW8?fs=1&rel=0\"\n            frameborder=\"0\"\n            allowfullscreen\n        ></iframe>\n        ",
                  "image/jpeg": "/9j/4AAQSkZJRgABAQAAAQABAAD/2wCEABALDBoYFhwaGRoeHRsfIycmISEhJCcuKiUtLzY7NjIvLS86PVBGNz1OPTAvR2FFS1NWW1xbMkFlbWRYbFBZW1cBERISGRYZMBsbMGJDNz9XV1dXV1ddXVdXV1dXV1dXV1ddV1dXV1dXV1dXXVdXV1dXV1dXV15XV1dXV1ddV1dXV//AABEIAWgB4AMBIgACEQEDEQH/xAAbAAEAAgMBAQAAAAAAAAAAAAAABAUBAwYCB//EAEsQAAEDAgIECwYDBQYFAwUAAAEAAhEDBBIhBTFBURMXIlNhcYGRkqHSBhQVMlLRI7HBFjNCYvBEVFVyguElQ4OTo6Ky8QckNGN0/8QAGQEBAQEBAQEAAAAAAAAAAAAAAAECAwQF/8QAMBEBAQACAQIDBwIGAwEAAAAAAAECEQMTIRIxUQRBYXGRodFS8DIzQoGxwSJi4RT/2gAMAwEAAhEDEQA/APn6IiAiIgIiICIiAiIgIiICIiAiIgIiICIiAiIgIiICIiAiIgIiICIiAiIgIiICIiAiIgIiICIiAiIgIiICIiAiIgIiICIiAiIgIiICIiAiIgIiICIiAiIgIiICIiAiIgIiICIiAiIgIiICIiAiIgIiICIiAiIgIiICIiAiIgIiICIiAiIgIiICIiAiIgIiICIiAiIgIiICLreLy85y38T/AEJxeXnOW/if6EHJIut4vLznLfxP9CcXl5zlv4n+hBySLreLy85y38T/AEJxeXnOW/if6EHJIut4vLznLfxP9CcXl5zlv4n+hBySLreLy85y38T/AEJxeXnOW/if6EHJIut4vLznLfxP9CcXl5zlv4n+hBySLreLy85y38T/AEJxeXnOW/if6EHJIut4vLznLfxP9CcXl5zlv4n+hBySLreLy85y38T/AEJxeXnOW/if6EHJIut4vLznLfxP9CcXl5zlv4n+hBySLreLy85y38T/AEJxeXnOW/if6EHJIut4vLznLfxP9CcXl5zlv4n+hBySLreLy85y38T/AEJxeXnOW/if6EHJIut4vLznLfxP9CcXl5zlv4n+hBySLreLy85y38T/AEJxeXnOW/if6EHJIut4vLznLfxP9CcXl5zlv4n+hBySLreLy85y38T/AEJxeXnOW/if6EHJIut4vLznLfxP9CcXl5zlv4n+hBySLreLy85y38T/AEJxeXnOW/if6EHJIut4vLznLfxP9CcXl5zlv4n+hBySLreLy85y38T/AEJxeXnOW/if6EHJIut4vLznLfxP9CcXl5zlv4n+hBySLreLy85y38T/AEJxeXnOW/if6EHJIut4vLznLfxP9CcXl5zlv4n+hBySLreLy85y38T/AEJxeXnOW/if6EHJIut4vLznLfxP9CcXl5zlv4n+hBySLreLy85y38T/AEL0P/pze87b+J/oQcgi7Di4vedt/FU9CcXF7ztv4qnoQcei7Di4vedt/FU9CcXF7ztv4qnoQcei7Di4vedt/FU9CcXF7ztv4qnoQfSFGq6QpMcWucZETDXODZ1YiAQ3tUlUjb33ZlVhw8NwtR2F8g1Q4kgs3mCB0Qpa6ceHiXaKnqXDm+81HvqYW1Gsa1uEBoIZnJGQlxk7BKj2189wZwlUspcJVHCAgzEYGl8ZjN2cZ4R2ttTht/fw2uqF1TqBpY4OxNDhrzadq3LmrW4rMtaTaZIi2pk5fLL4c7Ucw3oPUpNKrUe6m0Vy5hNXlU3TkGiBiIzgk59ibW8Ot9+y8Wi5u6dLCHky6Q0BrnExryaCqqwqk1rd9Wo4PqWzDBgYnTmIjthStJVm07i2e9wa0GpLnEACW70Tp6y1U23uGVG4mOxCY2yDuIOYPQVtVDcVn46takcNF5pNL8wOTixPGRyza3FG/dKwb17TSJrCqCYDWPhxl8Ajk/iZQDq1TtTa9G3yX6Kh98fwLyKrjcicdPmxiAJDYywtmDt15r3Qq1KjqTRXxMc+pyqbsWQYCBjIzzkz2JtOjfVdoqHR9Yuq2tSrUcH1LcZGAHOkSIjtV1bkFjSHF42OOsqsZ4eFipcsa9lNzgHvnAM84zK2OcACSQAMyTqCob5tao+rWp02uFJzeDOMg/hmXw2M5Jc3XsV2KzDTFQkYC3FJ1REyexRcsNSVrffUhTFTGCwmAWgukzEAAEnNere6ZVnA6S3WCC0jraQCFR0LhnudI42wy5BcZyaOFJk7ss1YUqgrXbalI4qbaTmvcJwuJLS0A6jEO6p6Uby45Jf7pVxfU6Tgx5OIiQGse4xqnkgrdTqBzQ4TB1SCD3HMKo0jWay9YXVuBHAOGKG58oZZrNe8diaadZzqUN4V4AOATk4Hp27hnkmzpbk1+/suEVG3SDjclrHOwxWDg5wJBbqOEDkjdnmCtVepXbTqEVqpLbVtUfL8+fRqy1JtOjffXQrXRrNqNxMMiXCc9bSQfMFU1W8f7xUaKzsba1JtOkIhzSG48omILjOyFGbWqMYG8IKLC64Ic4wC/hXRsMwMw3bJ1wm1nDXTIsMOQnXCyq4CIiAiIgIiICIiAiIgIiICIiAiIgIiICIiAiIgIiICIiAtzNQWlbmaggyqq/0y2mSGDEW6znA7BmewLfpeuWUob8zsshOW3L7Ks0Payx1wWh5aSKTZlojJzhIlpzcI6Olc8rbfDG5JJupdubypmcNIScnAF3RkNY7QVuZfGm8MruDSdRwkBx6HSR2GCtdzfhzGuZMgyRMGAJ7QfNba1RlwTRwh7CMydm5zZEHPatSaPmngrK5nRd6+2uTZ1DiZMMORInUTByB6gAV0q0mWPhrThO5MJ3LeiMtGE7kwnct6INGE7kwnct6INGE7kwnct6INGE7kwnct6INGE7kwnct6INGE7kwnct6INGE7kwnct6INEHpTCdy3og0YTuTCdy3og0YTuTCdy3ogiUrYMc9zQZeQ53SQAPyAWzCdxW9EGjCdyYTuW9EGjCdyYTuW9EGjCdyYTuW9EGjCdyYTuW9EGjCdyYTuW9EGjCdyYTuW9EGjCdyYTuW9EGjCdyYTuW9EGjCdyYTuW9EGjCdyYTuW9EGjCdyYTuW9EGjCdyYTuW9EGjCdyYTuW9EGjCdyYTuW9EGjCdy2t1BekQVHtCyWMOwO6NvQdfYUseG91o8GR+7E4sU4tubgTv15qxuqAqsLHaiquxDqYdavOAkk0jBMjW4a437terJc9ayt9W97x0qtJCqTyJiHkYS057T8vya5jMnVtVrYCsZwubOt0lp2ZRDdWqNkDJb7mwAY1tMHN0OIAmCI7APJbn0GUnGrOAZlwygz/uZjaVtbluSOX9rHEXDOUzGKbTmWjlAnMBw/JwK7NpkBcWGvvb4xiDCQXjE4QwfVTe2DMRlvXapGubtrH0jKIiriIiICIiAiIgIiICIiAiIgIiICIiAiIgIiICIiAiIgIiICIiAiIgIiICIiAiIgIiICIiAiIgIiICIiAiIgIiICIiDC8VaTXiHAEfl1blo0pUcy3e5pIcBkR1qqq3leKoJLXNFMZbSTmR1hcs+SY3VbxwuU3FhVq12Q2nR4TPJzqoAjpJEz2HrVZdaLu7sjhntp08+SNm6W8pruswpVyyuyiXOqODg/IAg8kkazGZXm4rPZXwGq7CGtzc6J36m5qXl15xvGWfwrDR2j6dtTwUxA1k7zv/2GSlqt0feAvqMe+XcI7CD9I/oqyXTHKZTcc8pZe4iItMvFSo1olxDRvJgI6oA0u1gCclqvLXhWgYiwgyCI3R+RWp/B0aLKJfhDhwbCcySQhJt4tdLU6vBwHNNRj38qBhwFocHZ6+WO5TGV2OAIc0gwQQRBnUqqroEOdiFSBwPBkYdbpZy9e0U2gjzCy7Q7jEVGjNhdyXGcNThMiXTnmJPX0ILI3VOQOEZJMAYhmd3WlC4a9hfqAc8Gf5SQT5Kuq6HcababKgY2XF0M+YlwdORHT3zsUmpo/FbVqGL96KoxRq4QuOqc4xeSCT7zTgHGyHHC04hmdw3leaN3TeCWvaQCQYIyIMHzVfX0LiqOeHjlF/JIdEODARyXD6J7UqaFx5OeMOOoSA3Mte7HhJnWHBpn+XpQWZrsDg0vbiMwJEmNcBa23bC8tBBgAzIjMkATvkKuboV0AGqDiLHVDghznNdjlpnkguOrPInetlPQoZwJa8A0WMY0YeScMyS2doJjcgsaVZjwSxzXAGCWkGCNi8suabgCKjCCYBDhBOqAo9jZPpU3M4SZ+SAYYIiBJJjbE9CjW+hiHF1SpjJLjIaQQXMayQSTB5J70FnTqteJa5rgCRIIOY1hYqXNNolz2tGWZcAM9Xeo2j7HgWFpIMwJGLYIGtx3KENCVBTDRWaHtaxrXhjgW4GlsjlZnPUctkILd1ZoBJc0ASSSRAjWo9TSDGuA+acBBEEEPdhGai/C6gcS2q0fvMPIz5bw8yZ6Iy3ylHRBaGzUkgtPynOKhfv6YQWgeDqI1T2LVSvKTwHNqNIJIBkZkZKNomz4JhkESYa0xyGNyY3LcPzXilostLSXtlgqhhDNWMgg5nWI7ZQTG3TCAWua5pnlBzYEa9qz7zTgHGyHHCDiEE7h0qpdoFzqdZrq0urcJLsJyx0m0/q2YZ7YyW2voTFUc8PHKL+SQ6IcGAjkuE/ux3nrQT23bDV4IEF0EmCMoIEHcc0pXjHOc3EA5rsJBInZnHaFHstHupVMRe0gB7WgNgw52KXGcz2dKjXWi3EvcXYm4nva1jYfic3COUXRlr1DMDdmFuXiCZEDWZ1LSbtmElrmvIaXQ1zZIHaozrHFaOoOcMT2uD3RILnZuMdZOS0XeiW1G1QKjW8IKonCMuEaG784jtQWT7loxQQ5zRJaCJ8zkhuqYMGoyQYjENZyhVtbRjDjPCtBcKwmB/zC079mHtWs6MpHF+NTlwuBMDLhnh+/ZEdPQi6q2Fy2YcQ0yQAXCTBjLNKdy04QSA5wkNJE+Rz7FW+6jhGuFekWNe6pgImXOMgzi2CYy157Et9FNYGYXtc5gpAZATwYdlM5TiPUhZYtKddjyQ17XEa4IMJTrNfOFzXQYMEGDuPSqzQFtVpMLKjdjOUYBJAwxAJyAAz2qRYWL6dR731MZe1o+WIwl3T/ADahGpEbbe/p1ADIaS97GhxAJLHFpgbflK9i8pc6zN2H5h8309fQq5uhiJio2HOJdLM44V1UYTOR5UT0AozQ72lsVQMLuTAfyW5S0S/UcOoyNW7MJ1e9ayqykfmeHO1gQ1sSTPWPNbn12N+Z7RnGZAz3eY71D0lo3hyeVhmjVpfLP7zDnr2YdXStNTQ5fjL6jcTxV1MyGNrW79mHtnYgnVr2kwkPqMaWxILhIkwJCz70wfM4NGINBLm8okAiM+lQzo1+B7A9mFzi9pLCXBxcHZnFmJEdUDZn4raIc51RwqMmpjDpZIhzWNMCdfI84QWTazS4tDmlw1gESOxKtZjAC9zWgmAXECSdigN0Y6m/hKbml4FbDiGs1C0iTOzAOtbtI2bqwbgcGOaSQ6DIkRlBHcZBQSXVWgElzQBJJJGUa1ppX1N9TAHNJhrgZEOBn5d+oqB8FdJPCtgOe5owbXVhW5XKzzEbN6kfDiX8I5zcRNMnCyPkLjlntxf1KCa6s0ODS5oc75QSJPUNqU67HgljmuAMHCQYO4qJfWL6r2EVMLGuY4tw6y1wdrka4jPUs6OsXUabmFwLdTQAQGACIEkmOictSCQy5puIDajCTIADhnGtY97pRPCMguwg4h827r6FX0NBhjWNxjktotkNgngwRvymexaqmg3mg6i2sGhzSwnC4yMOEHN+zcICC4bWaXFoc0uGsAiR2LDrmmC5pewFolwLhIG87gotHR2CtwuIa6hIw68eHbOzCtNzopz6jntqNaCWuw4SQXNLSC4Yo/hjKNfQgsW1mkSHNI3gjq/NeRc0+V+IzkmHcoZHcdyqaOiKhbynNYcbi4YZkCuagLeVlI64lbmaIcapqVKofmwxg+guI2x/GNQ2dKCzZVa4kNcCW5OAIMde5e1A0fo/gXOOLEDMfNMEl2cuI27AFPQEREGEhEQISFhzwNZA6ysoELKwiDKIiAoeladI0KhrU+EpsaXlsSeSJy6VMWEWXXeOUFo3E1oZXpOLajzhuKgaGswZiRJ+cbBqKB92wNLLhwaODxNq4XkcIYZBgT0574mF01O0pMEMpsaMxk0DXE98DuCy62plzXGmwuaIaS0S0dB2KajfVz9938+6lsrjST6TKkWpD2hwEvBgic9i3i7vxrtKbuqtH5hWraTRENAgQIAyG4dC9Jo6k/TFOdIXw/sAPVXZ9lj4jff4f/52fZXKJprqY/on3/Km+JX3+H/+difEb7/D/wDzs+yuUTXxOpj+iff8qYX9+f7C1vXXb+gT3jSJ1W9AddQn8lcomk6k/TPv+VNOkzqFo3rNQ/ogZpPa+0HUKiuUTR1f+s+in4DSPP246mO+6x7npA67umOqkFcomjq30n0imGjL0678j/LRYh0NcH5r+t/pDW/krpE0dbL4fSfhSN9nfqu7t3/VIXr9nKe2vdH/AKzlcomodbP1U37N0dtSueus9D7MWp1ioeuq/wC6uUTUOtyeqkHsnZc0T1vf917HsvZcw3vP3Vwiaidbkv8AVfqqB7M2Q/s7O2fuvY9nbP8Au1PuVmvJqN+od6ah1c/Wq4+ztn/dqfctZ9l7KQRQAIM5Fw/VW4M6llNQ6uf6r9WEWUVc2EWUQYRZRBhFlEGEWUQYRZRBhFlEGEWUQYRZRBhFlEGFlEQEREGEWq6MU3EZGFzd/eVRiio4fPqPUuHJzzDLw2O3Fw3k8lf7Usqe9uLwS2Bwe6IzjtldRoAVBaUxVnFB164nKeyFQ2ntBXAcH4Xw0kFwz8lpGl7io8k1CMjAbkAuc5Mcb4n0OTi5M8Jx2Sa97tUVVo6q51QguJzOs9AVqu3FyzklsfMzw8N0yiIurAiIgIiICIiAiIgIiICIiAiIgIiICIiAiIgLCysIMOeAJJAG8qquvaS1pnCKnCP2NpDET2jLzVTojR40gata7c+phquY1mIhgAg6h1q80XSps4VlOiylwb8HJ/i5LXSTH8yzu13yww47rLvfopaukG6SuKNBjqjKQD31m/K6W5AGOtTP2VsTHJJxavxHZ9WaofZx/wDxG5cCASyrBcYGbxtXU2dFrHtPCUy1jXNYA4ZAukCOgACVMe/eu3tGV4sphhdTSBoyibTSDrZjnGg+lwjWuM4SDGXmuiVFXP8Axil//Of/AHFXquLjzd7L6yMoiLTgIvLnACTkBrKrj7QWY/tFPvTbUxyy8os0VK/2pswYbULzuaxx/RYHtFi+SzunDfwcfqpuN9Hk9F2sKkfp6q0FxsbgNGZMNkDqlbbrSznNt/dsJdcE4HPmGgCTIGc9CbOjmtkVG+ppKkS4toV2AThbiY49UyFY6M0gy5pCoyRsLTraRrBTaZcdk35xMREVcxERARYRBlERAREQEREBERBou/3b+pcrpL+L/X+i6u6H4bupcxpC3ecUMcfn1Ar5/tMt5Z8nt9ksl7qej/H/AJSs23zHqKsbPQNw4OJaGS0gBxg9y0jRtem8h1J2owQJB7Qs5YZeHyfS6uFtkroNF/vD1n8grhVOjWEVDIIzOsdAVsu/sc1jfn+Hxuf+JlERetxEREBERAREQEREBERAREQEREBRNJ1nMoksMPJa1hic3EAZdqlrVXt21IxAnCZEEiDvyQaa98ylIMuLW4nRGQ1Sft0Ly7SdMcJId+GQHZapMSRsG2dUZraLKmI5Iy6888We/PPPagsqexsRqzMjXqOzWdW8oDLxhwiYLmYxP09eraEZescGkScQa4ZGYcYBI2LXX0e185lvJLRhgYQREDLtXp1k0va862fJkOTlEA6wOhB7pXbXmGzrcJgxLTBz6wV5feNBIIOXV91i0shS1EnfkBiJMkmNZW51JpzLRPUEHPeyNUMo3AcYi4ePIK3oPpMc8h5JqOxGQdcAZZbgO5VOgvw3X9OYPDEjZm/V+il29w9/u1PhCXAu4Q6i/g5a7/1FsxvUx8nb2j+Za4/QdvUfdVHUo4Wk1z2tPyvhwBYesHXsMLubZlC7t2vNFpZUbm17BI3gjeCuL0GXC+qhrXukVA4U8OKMYmCSI69a7B2kKrWRTsa5gQ0TRa0RqHz5DsWcPJ29u/m/2iDI+MMaJ/Dtoz25/wC6sLR9eqynUDw0OdiLSB8h1AEdG1VTg46VfLwwi2GJ4iBmCdfauhtSw02cGQWYQGkGRA6VY5c39PyiLV0hwdKpWeHFrS/JsZNZIJz6j3r226cXUiWOYHucwtdE5AkOyP8AKe9ZqaOpPBFRoe3EXAHYXfN35ntXunRYS0tILWF0AZ8rMEk7/mHaVpweqtZmbXHoIg7VzOhGsbZ1W8Ex1SnWdSBLWkyXAA5/5vJdYuZ0dhGkbqg52EcI2q1mXLMT5ZFS+cduPdwyk+F/f1XNB5YXNAngwwQ0AYnHWdw2eazZaQ4Zoc2lUDTEE4YIM569WXmOz3VtGPLsQDmuDZad7TLSNx+w3LxToUGYWMwtwkENBzECAOrPVqVcVe/SdR1yKYacBrcCMhDgGFz3E6xByHV05Uge6laUjMi1un03dLc5MjVkSujuq1O3uKZLGtFXE3hSflcYIHRijM7SAq3RNvTfeXbJFWkcLjnLS5zSHSe05LNeni3jjbfLz++v9rzR9Mtp8oAFxLoBkCd3QqjRg4LSt1Sbkx7G1Y3HKf8A3FbKVpe2v4dA061H+AVHEOZ0TtC36I0XUp1alxXc11erAOH5WNH8I7h3J5pJjhMu+5Yt0WElaecRc57SaSpuZwNKs4VQ4EupvIFMDWXkbI2b4Vh7P1ar7YOqkmScDnCHOZ/CXDfCm++nW8VmHjqu4Ste3NakLg0KdF2HDTjhH9JOwL3oTSTqdepZV3OqVGPim6CS5pEy49AjvUS70fbMuKguppio91SlXacPzZuY47M5id63eyNmwPuazJNNz8FNxzJDdZnpy7ln3vVlMOnfTU129/zdMvFSq1sYnAYjAkxJ1wO4qk0nQvalN+NzWtBlraAcajoOUOJGErL9D1auj+BrPL64lzXEnku2DFt3T0rW3mnHjqW5LBml6BpCqajWU3EhrnkAOgxlOsZKYHAiRmCuYr+yz6tOi01WtwURTcIxQRmS3dJ1ncFm59n67jTAqkNbShwY5zQXsBFMieyepTd9G7x8V8sl7pR7229V1Mw9rHFpicwJW20rirSZUGp7WuHaJVDpHQlxXLC8sqfhta7E94DHj5nta35p6Y1KNd+zr6bQGMdX/CwAipgLXCcLoJgiCAR0Juk4+O4yeLu6yUXFVdBXFG1a41ns5LzXAedTQSyOqAMt/Qur0XUc+2oufOI02F065gSrLtjk4pjN45beriuQQGGmTnIc6D2KP71VgfuZ1/Ps/qFMdbUyZLGk78IlY91p82zwha7OKI24rAw40dRPzEHoWRc1pIijqMcs64yyjepfu9P6G7/lC8+6UpB4NkgyOSFdwRReVP8A9PT+Js3qex4OogxuWoWlLm2eELZTpNaIa0NGuAAFLoe0RFARYQmMygyiw1wIBGYOoogyiwiDKLCIMovHCNgGRB1Gda9IMosIgyiw1wIkGQdRCEoMosNcCAQZB1ELBcBrI1T2IPSLTQuadUE06jHgay1wMdy2oMosIgysLDnAayBsz6VlBz1qxrNLXDHAEVqbKgBG1uX3V9wbZxYRiGowJUDTGi+HDX03mnXp506g/J28H+txrGHSlUnFwNMMMFrXRi2zPKMdyz5PRcZySZbk7d9qrQjS3S1YDWDXA711ddlcsjbjpkYTBgOBdu2A5LkNFC5N++4p0RUl9WSHQwnbD46e1dN79f8A9yZ/3m/ZZwvZ39rx8Wcss8p74oNM2Va60lWpUsmlrBUOWQgOE9sK39kKtMUDSzbVY48JTcc2n+UbB+srfoWzrtr3Feu1rHViyGh0wGiNfcpGkNC0Lhwe4FtQaqlM4Xjt+6snvZ5OXGycV8prvPXX3WDnAAk6hrUDQLf/ALVjucLqmf8AO4uH5rS3QhIw1rmvVZ9BcACNzoEnvVq0ACBqWnmupNS7ZXPaQ0a1+kmGpTx06tIg5HkuYZBxDVkV0KJZtMM7hdxUfs5btng+FpA6wyq8T15rA9l7KINGekufPfKtw4GYOrX0LIcDMHVrTUa63J+q/VS/srZ/xMc7die/LqzWq00Zc2QLbbgqtMmcLxhf4gOV2q+LhIE5nUspqL189at3PiqBpS6HzWFSf5alMj80OlrjZYVu19MfqrZzgASSABmSdQWU0njx/T/n8qbh9I1Plo0aA31HlxHY3JY+BPq//lXNWqPobyGHrA1q3q1msAL3NaCQBiIEk6gOle00dWz+Ga/fr5q9ug7YBjRRaGsMhucE73fV2yrCEWA4SRIka+hVi5XLzrFSk14wvaHDc4AhZYwNADQABqAEALK81KjWiXENG8mAjO3pFgOBJE5jX0IHCSJzGsIMoiIMrC1C5bwnBzys9h2ROf8AqHetqBCLKICIiAiIgIiICIiCLpAVMH4QkzmAYJHQeuEayp7vhfnUwEGNphSV5qvwsc6C6ATA1mNg6UFQ6pW93otpiowtDRUOAyOSYgbc41dGxStHMe19bhC8kuBGIcmC0fL2zksWuk2uph9R1IAmBwby/OJLflBnI5dCkDSFE4YqNOJuIGciCJBnVqBPUCgrX1bkgj8RuGZOCZ/EyAjP5YzG9S676vBUjD2zh4UNgvAg6ss84mBqlLnSrGML2w4BpIBkEmQBlGrlDPq1ray+ZkHOaHEkANJdqyzyy1hBXV33UP4PhMUPiQ3Dhwckj+fFGXXshbKnvLajYdUe0VIiBymnBmXAZRy8iM9+QUx+kGS0N5RL8JGYjImc9nJWbS+ZUp03SA54byZzDi3Fh7s0FZguHGmHB+RpkABuDKcRduM7N0dK22bbp3Bio945QNTkgammRJ2Yo1d+6zrXNOn87w3IuzOwQCfMd68++UseDGMUxHT07tR7igi6RqVhVpik15EtxERhguAcCI+mTrHRK9XzqorU8GItOTmgZa9Zd0DYda9V7/DW4IBvytcS4kfM7CAMjO3y35bBpGjyjwjeTr7THbmIy2oKy3p3ZFLE6o392HgBggcFLjq+uAvNOrcuc1pL8YbSxthuDNvLxGNe6NsbJVrb3jX0uFMNbLsydjXET5LLbykRiD26iTORgGDI6CQgr9GNuGvY15IY1jQG4coDBrOw4sX9ZrZdUibhxbTPKoPaXBuRORAJ7Cp1vdsqYsM8hxaZBGYyKiDTVIup5wyo17g50iMJaIj/AF6+hB4s2Oc+g7A5nB0i15cIknDDQNuYJn7rzXNzw1SC4N/5YawEEYRGeoHFMzs71Y07lj3FrXAubrHVkeuDkvJvKcTjB16szyThOQ3HLrQVr6t0DSGB5dibwhEYIL4dAjUG5gkgxGsysUmXcgl9Q/uyQQyJNQhw1fRCn079jquAEQW03NdPzY8eQ8C2MvqTi0NeCXAFsbQRIz6RJ7EFPSdXqweW9mIF2INABbVEYIGYwh09Q6VM0bWrNgXBcXOIEYYAdBLoP05f1KnPuKbCGlzWk6h1rza1zUBLqbmQ4iHbY2joQQ9IPuW1JpAuphoeQA3PCTiYJ2uBEf5Sowo3bHFzSS9xAMhuBx4L5j/rACsfiFM/K9pgicyIB3ZZ6l7qX9Jut41A78jmD1QCUFZQbdckBzoDKh5TGtlwwYGu6JLzlCl2LazqDw97sZkNLmwWmB35ydyl0rhjy4NM4TByMd+3VsUQ6ZpckzDCagLjIg0zByjVrz3BBBNS+c0nCWzD4hpwgkNLBvIaHO6yOpTK7KrrMjE81ImQMLjBnVvhTWXLHPLA4Fw1j+usd4Xh1/SEy8DCQ0mDEkxAO0zlAQQa1SvTFSrieQ1zMFN2EY24RI1TJJPaFuvaVT3ZgLnuqNdSLzTAl0OGIgd5hbRfUHjEHNeGw7IExOQIEderpWs6UbwjGgAsfhh4dlDmPfP/AKPNBrtHV+G5eKJqYpAwBs/h4TrmInpnoWquy6NWpD6jWcIQ3CGRg4IEESOckKe3SNEkAPknUADOzWIyGYzO8b1mhfU30eGBinEkuEQOlBXVBdObliYTJJaG6+CEax9cpcC6IdgxNMPIwhuZDG4RmPqxKyfeU2mC4A4sPUcsidnzDvC8UL9jmkuIaQ5zYJ3PLAe0jzQQSbhpfiFR7Wl2CAzERwbCIP8AnLwvFD3rHSl7yyGyTTzLsRxg6oAbhAPWcyrajcseSGOBLdf9bdRz6ColtpVjwS4hoL3NbmZOE4STlkJ/MINOl6FRzn4eEIdb1GhojCXbJWuuLtrsLXuwBzodhDnEwzDkI5Mmp3BWtC5ZUBLHBwBLSRvGsKOb/lVAGyGOawGTm8xlEauUM+tBi/ovc+k5mKW4zlESWmJnpUQPuqgb+8YJEmGgxwRnWPrj/wCFZuuGBwZiGM6hvK8G7HAOq5DCHE4jABbMyYyEg5wgq7ltzUoV2u4UVHUjgDMIb8g27HYp27lvqOrSSOF4MkZta3H8mUiPq19myVY1rllOMbg2dX6nqzGa2oKi0974RhqzBc0PaMOEDgQSRt/eSNak3YFSvRZPylz3ARqAgSP9Xkt1xc4alOm1uJz5OZIAaIk6jvGSq33N00mo11rwbicOPG1xEw2SJnWO8b0axx370lz3im8MxcIaj5IAMcrImf5SD0wtzAeHp5k/hPxExObm4Zj/AFeagM0heyYtKbsgcTakBw6CRmss0leEBzbAEOAMiuzMbNim25xZX3z6z8rCqK+I4TydmY+yXz6gDQwOklskAEAYhin/AEl3coXxK9/w8/8AeprHxG+/w/8A87Psm16OXw+s/KdToFhNUvqPOCMJw7N0DX27VLVbY3l0+phrWnBMg8rhWuz3QFZKueWNxur+WUREZEREBERAREQEREBeXtJBAJBI1iJHSJXpEFTV0U81GVBUPCY2lzoA5LWvAhsQTL/6gL0NB0tUkjCGukNJORbOKJBg7PurREECpo7H+8qOccJbMNGRLTsH8vmV6bo/C/Gx7mkl2LJpkEzGY/qVNRBWUNDNY/GalR7uRm6JOEOAnL+c9wWKGjCx4LDhwU2U2k5zEYnEagS0ASrREES9sGVyzHMNMxlDhuPRMHraFHt9CspuY4OLi0CS4NJcQS6ZjIy46lZogiV7Fr3lxJBIYMo/gdiHmtJ0U3KHuBb8pyyOIu3dJHUrFEEL4e3gOBLnEYsWLKcWLGDqjJ3RC0v0OHSTUfidixmG8qcPRl8jR1dOas0QaLe34Mv5RIc4ugxlOZ81DdoZrm4S95HB1aY+XJtQtJ2bMA71ZoghWujmUqjntjlFx+VsjEcR5USc14fosTUc2o9pqFpyIhsGSB0OMk75VgsIK2nodrMGGo6WCmAeT/BjjKNuM+SzaaHZRcwtJOBrW8prSThbhBmJGW7d1zi40S6q9zn3NfCTkxjg0DtAnzWs+zdsfm4V3XWqfdTu6THD337JdSiOFFQ1YgEBvJgTE9P8PmeyQyq13yuaT0EFVX7L2UyaM9b3n9VLs9D29B+OlSax0RInUncsw12t+n/qJo3RdRkCoRALXTMkubOQ3N3BbPgVMNABJguILg10AgDDBEQAGgdXXNosquaHaWApPe4OPL2Q0AZkzAGvPX0LU7RLS1zS95DuGj5chVMnZsnJWKh6VvTb0H1gA7BBIJiROcHfuRZLbqMW2jm06jqjds/wtkTE8qJ2ap/SPHwtvCGpiObmugBoEgznAzOydcL2NLW0Am4pDKYNRoP5rydNWn95o+Nqm4108/R5+EgABtR4hrWyIzAJOfXK8M0JTDGMLnFrWtbnGYDHMzgbnnV0LaNNWh/tNHxt+69fFrb+80f+4z7puHTz9K0t0M0YIdBa4OlrGNJiMpAGvCAd47IlW9mGUuCJL2QWw4D5d2S1nS9qP7TR/wC4z7rZbX9GsSKVVjyNYa4GE3EuGU84hnQoLGMNWoQ3MkkS84g7E7KJyjqJXt+iGkzjcBixEcnOKnCgat5jqVisqsodjo9tDFh1HIcloIEkwSBJ17futLtDtILQ94Dw8PGXKa5xcRqy+ZwkbCrJEGihQ4KnhbnGIid5JP5laG2juBIMYy/hNeU4sQbPVAU5EEVlqRUNQvc4kRhhuqSQPPyC8GxxWz6LyRwjagcRs4SSY8RU1EEC70Y2s4OeZLcQEtY4YXRIgj+UZqSGPDgccth0ggayQW59Akdq3IgjNouNc1HAANbhZBk5kEk7tQ7lpbYksYwvIFMiAA0g4TLSerLtCnog11A4MOHN0ZTv6V5t6HBtDQSWta1oGWUCFuRBhFlEGEWUQEREBERAREQEREBERAREQEREBERAREQEREBERAREQEREBERAREQFrrVQxheZhokwtig21m4VXVHhknVBJjv3yfIbEEqhVD2NeJhwkTrXteK1PE0t1LVb22AkzOXT+pKCQq32jA9xuJAPIOvfsWmpoyqcWdM4iCQSdlTGNm7Laqv2joFlGsRTAZyWt18kHA2QMMRllntUvk6cX8ePzi9tdFW7WNihSmBPIbu6luZa0TIFJogxmwDuyzHSq1+iXljg3g24m1gDJyNSMJ1bIK9u0c573OHBEGo92sn5qYZGreJVZuVt71Nr21uxpc6lTgfyN25Aalpbo+1qGPdqc4QTNNuU6gctazXolzKFFzcWbC8xLeRnrO8gd69PovxVg0A4y1wxTh1Bp1bomOlCZWeVeToy0a5rfd6QLpjkN1jOO6e5QLOmylpaoxjWsDqDXANAAyOasKVpgFFgA5LsTiJ2NwyTtJy81Cum4dL27vqovaezP9VmuvHlcvFLfdV4srCytOAiIgIiICIiAiIgIiICIiAiIgIiICIiAiIgIiICIiAiIgIiICIiAiIgIiICIiAiIgIiICIiAiIgIiwgi3ekqNBzW1agYXThxZAxrz1bV6t7+jV/d1ab/wDK4FatLXVGjTDq4lhcGxgxZnVl2KkNvRuS3/hbwwn5yW08t5AIKlrvhx45Y7u/t/vTqEWGNAAAyAEBZVcBVftNSD7CuDsZi8Of6JVsLrETSvCGkk4X02uidgORhQdMW94LWsX3FNzODdiHBQSI2HEs3yd+PCeOWZTz+P4XdA46LDMYmDPLaOlera3FJgaMxvMSetUdhSv3UKRZXoBpY2AWGYjJb/d9Jf3igP8AplXaZcc3f+U+/wCF0i56u27YJqaSo0x002fqVV3Gk8Jh2lXPO6lRH5jJTxabx9nuXlf8/h2Neuymwve4NaNZOoKo0gf+J2f+Sr+QXNVBd3DXMpe+1AdfCQxpH5HvV9ofRd1w1KrdFoFGngYwGTqglx3qb26dGcU8Vym9Xt/Z0SysLK28QiIgIiICIiAiIgIiICIiAiIgIiICIiAiIgIiICIiAiIgIiICIiAiIgIiICIiAiIgIiICIiAiIgIiIMESiyiDCyiICiaTsW3NF9JxIDhrGsblLRFlsu451mgbsNawaQcGNAADaYEAdqz+y2L97d3L+jHA7jK6FFnwx2/+jk/cikoeylkz/lF53vcT/srOhY0aYinSY3qaApCK6kc8uTPLzrEIsoqwIiICIiAiIgIiICIiAiIgIiICIiAiIgIiICIiAiIgIiICKg+KVvqHcE+KVvqHcEF+ioPilb6h3BPilb6h3BBfoqD4pW+odwWqvpqsyMwZMDIa9g7UHSIuW/aJ41u2xk2dko32hqEiJgkCS0bdWXag6lFzLNO1TUNPIESQYGYEff8AqUtNO1ajMWQ1ZQDrAP6oOmRcp+0NaDAGTcWcbmnd/N5LZU07WaQDmTEwMhmBu6UHTouepaXrOaDIHYF6+KVvqHcEF+ioPilb6h3BPilb6h3BBfoqD4pW+odwWW6Tqz8w7ggvkVL8Qq7x3BPiFXeO4ILpFS/EKu8dwT4hV3juCC6RUvxCrvHcFHuNN1KeKc4AOQ1+SuONyuoOiRc8/TNQF+YOBpdlHcdy1s9oHanEB24AHbH9StTjyvlB0qLmh7QnaTMkRhGsLJ9oD9W/YN0q9LP0HSIua/aLaHTqHyjMkSB+Xes/tA7fnlkGg69X9ak6WfoOkRUjdJVCAQ4QegLPxCrvHcFzF0ipfiFXeO4J8Qq7x3BBdIqX4hV3juC9Mv6h2juCC4RVXvtTeO4J77U3juCC1RVXvtTeO4J77U3juCC1RVXvtTeO4J77U3juCC1RVXvtTeO4J77U3juCC1RVXvtTeO4J77U3juCC1RVXvtTeO4J77U3juCC1RVXvtTeO4J77U3juCCzKLTaVC9su1yt6gIiofaO/qsdTpUZxvk5ILl1zTaYNRgO4uC9teCJBBHQuNZoBrc6ri951gZBe30AxkU5pxmC15OfSJWblF1XYLBXO+z2n3Vaht65HCZ4XfVGsHp2roiqy8kleSTvXteXIjV8No/R5u+6fDaP0ebvupaLTSJ8No/R5u+6fDaP0ebvupaIInw2j9Hm77p8Mo/R5n7qWiCH8Mo/R5n7p8Mo/R5n7qYiCJ8Mo/R5u+6wNGUfo8z91MRBDbougBAZl1u+6z8Mo/R5u+6loght0XQAgMyHS77rPw2j9Hm77qWiCJ8No/R5u+6fDaP0ebvupaIInw2j9Hm77oNG0fo83fdS0QRvcKX0+Z+6e4Uvp8z91JRBG9wpfT5n7p7hS+nzP3UlEEb3Cl9PmfuvPw6jM4M9UyfupaIIvw6j9HmU+HUfo8ypSIInw2jM4BO+Snw2jM4BPWVLRXYht0VQBJFMAnWZK9fD6P0eZUpE3RF+H0vp8z909wpfT5n7qUigi+4Uvp8z909wpfT5n7qUiCL7hS+nzP3WRY0h/D5lSUQR/c6f0+ZT3On9PmVIRBH9zp/T5lPc6f0+ZUhEEf3On9PmU9zp/T5lSEQR/c6f0+ZT3On9PmVIRBH9zp/T5lPc6f0+ZUhEEf3On9PmU9zp/T5lSEQR/c6f0+ZT3On9PmVIRBrZTDBDRAXteXa1kFEZXL39ZzNIPc/PDSmnI2ZTHaunlV2krUF7K21oLT1H/AHAUWebnretWrOql5MNaYMQAdkKkwPxTBnfK6O/uWgPl3BtAjL+InXK5xlYA5EkbysZesdW+yxU7yi8TJcJjpyP5r6KSuK0NQNWvTgTgIeeof/IXYkq49455Tu9SvJWFglaZSURFVEREBERAREQEREBERAREQEREBERAREQEREBERAREQEREBERAREQEREBERAREQEREBERAREQEREBERAREQannNZleKx5S8Y0ZbpXiowOaWnUVqqV2tBc4gAbSqbSHtEG8iiJecy4jJo3xtKsxtS3SJesaKhbUIaW6iRI6wqO6qNL8nl53n9FMuLjhnPa90vGYO8Qqt9Ig9CxlNdnXG2zs6n2Sj8U7YaPzXRyvndhpCpQqYqboygyJB6x2LpdH+01OoMNUcG8a4zb171ZOzGV7r6V5JWplZrhLSCN4Mr1iVRORfL+Me95q38NT1pxj3vNW/hqetGn1BF8v4x73mrfw1PWnGPe81b+Gp60H1BF8v4x73mrfw1PWnGPe81b+Gp60H1BF8v4x73mrfw1PWnGPe81b+Gp60H1BF8v4x73mrfw1PWnGPe81b+Gp60H1BF8v4x73mrfw1PWnGPe81b+Gp60H1BF8v4x73mrfw1PWnGPe81b+Gp60H1BF8v4x73mrfw1PWnGPe81b+Gp60H1BF8v4x73mrfw1PWnGPe81b+Gp60H1BF8v4x73mrfw1PWnGPe81b+Gp60H1BF8v4x73mrfw1PWnGPe81b+Gp60H1BF8v4x73mrfw1PWnGPe81b+Gp60H1BF8v4x73mrfw1PWnGPe81b+Gp60H1BF8v4x73mrfw1PWnGPe81b+Gp60H1BF8v4x73mrfw1PWnGPe81b+Gp60H1BF8v4x73mrfw1PWnGPe81b+Gp60H1BF8v4x73mrfw1PWnGPe81b+Gp60H1BF8v4x73mrfw1PWnGPe81b+Gp60H1BF8v4x73mrfw1PWnGPe81b+Gp60H1BF8v4x73mrfw1PWnGPe81b+Gp60H1BF8v4x73mrfw1PWnGPe81b+Gp60H1BF8v4x73mrfw1PWnGPe81b+Gp60H1BF8v4x73mrfw1PWnGPe81b+Gp60H1BF8v4x73mrfw1PWnGPe81b+Gp60H1BF8v4x73mrfw1PWnGPe81b+Gp60H0W5PK7FT6R0wKRLGwXDWdy42p/wDUC8cZNOh2Nf6lUVtP1nkkhknXkfut42e9jKX3OnvdIPfDnuLtoB/NQTeASQ0kkySdqo6mmartbWao1H7rz8WqZclmXQfut3k9GZh6rg1nOOJ2udakGSNaoTpmof4Wdx+6wNMVQIhncfuuWUlu9umNsmlxWqYSGjZr6SgeCQR2qkOk6hMkN7j90+Jv3N7j91be7PhdRb3tSjymOgjZsPWum0RpgXAwkYagEkbD1L5r8ZqxGFncfuvdtp6tSe17AyWncfPNLqklirREWWxERAREQEREBERAREQEREBERAREQEREBERAREQEREBERAREQEREBERAREQEREBERAREQEREBERAREQEREBERAREQEREBERAREQEREBERAREQEREBERAREQEREBERAREQEREBERAREQEREBERAREQEREBERAREQEREBERAREQEREBERAREQEREBERAREQEREBERAREQEREBERAREQEREBERAREQEREBERAREQEREBERAREQEREBERAREQEREBERAREQEREBERAREQEREBERAREQEREBERAREQEREBERAREQf/9k=\n"
                },
                "metadata": {}
              }
            ]
          }
        },
        "5e85e46eea314f23bdc6339b375d8159": {
          "model_module": "@jupyter-widgets/base",
          "model_name": "LayoutModel",
          "model_module_version": "1.2.0",
          "state": {
            "_model_module": "@jupyter-widgets/base",
            "_model_module_version": "1.2.0",
            "_model_name": "LayoutModel",
            "_view_count": null,
            "_view_module": "@jupyter-widgets/base",
            "_view_module_version": "1.2.0",
            "_view_name": "LayoutView",
            "align_content": null,
            "align_items": null,
            "align_self": null,
            "border": null,
            "bottom": null,
            "display": null,
            "flex": null,
            "flex_flow": null,
            "grid_area": null,
            "grid_auto_columns": null,
            "grid_auto_flow": null,
            "grid_auto_rows": null,
            "grid_column": null,
            "grid_gap": null,
            "grid_row": null,
            "grid_template_areas": null,
            "grid_template_columns": null,
            "grid_template_rows": null,
            "height": null,
            "justify_content": null,
            "justify_items": null,
            "left": null,
            "margin": null,
            "max_height": null,
            "max_width": null,
            "min_height": null,
            "min_width": null,
            "object_fit": null,
            "object_position": null,
            "order": null,
            "overflow": null,
            "overflow_x": null,
            "overflow_y": null,
            "padding": null,
            "right": null,
            "top": null,
            "visibility": null,
            "width": null
          }
        }
      }
    }
  },
  "cells": [
    {
      "cell_type": "markdown",
      "metadata": {
        "id": "view-in-github",
        "colab_type": "text"
      },
      "source": [
        "<a href=\"https://colab.research.google.com/github/DL4CV-NPTEL/Deep-Learning-For-Computer-Vision/blob/main/notebooks/Week_4/Week_4_Lecture_3.ipynb\" target=\"_parent\"><img src=\"https://colab.research.google.com/assets/colab-badge.svg\" alt=\"Open In Colab\"/></a>"
      ]
    },
    {
      "cell_type": "markdown",
      "source": [
        "# Lecture 3: Feedforward Neural Networks and Backpropagation Part 1  <sup><mark style=\"background-color:gold\">Code</mark> </sup>"
      ],
      "metadata": {
        "id": "3JdIPfdtt2TU"
      }
    },
    {
      "cell_type": "code",
      "source": [
        "#@title \n",
        "from ipywidgets import widgets\n",
        "out1 = widgets.Output()\n",
        "with out1:\n",
        "  from IPython.display import YouTubeVideo\n",
        "  video = YouTubeVideo(id=f\"8sjbwfHdqW8\", width=854, height=480, fs=1, rel=0)\n",
        "  print(\"Video available at https://youtube.com/watch?v=\" + video.id)\n",
        "  display(video)\n",
        "display(out1)"
      ],
      "metadata": {
        "colab": {
          "base_uri": "https://localhost:8080/",
          "height": 518,
          "referenced_widgets": [
            "d635dee27dd94e8495a7e6ca2a49f6d5",
            "5e85e46eea314f23bdc6339b375d8159"
          ]
        },
        "cellView": "form",
        "id": "rA0FZ1_3t3nO",
        "outputId": "21558ad6-efb7-4a2f-fda9-c31e5be83e45"
      },
      "execution_count": 31,
      "outputs": [
        {
          "output_type": "display_data",
          "data": {
            "text/plain": [
              "Output()"
            ],
            "application/vnd.jupyter.widget-view+json": {
              "version_major": 2,
              "version_minor": 0,
              "model_id": "d635dee27dd94e8495a7e6ca2a49f6d5"
            }
          },
          "metadata": {}
        }
      ]
    },
    {
      "cell_type": "code",
      "source": [
        "#@title \n",
        "from IPython import display as IPyDisplay\n",
        "IPyDisplay.HTML(\n",
        "    f\"\"\"\n",
        "  <div>\n",
        "    <a href= \"https://github.com/DL4CV-NPTEL/Deep-Learning-For-Computer-Vision/blob/main/Slides/Week_4/DL4CV_Week04_Part02.pdf\" target=\"_blank\">\n",
        "    <img src=\"https://github.com/DL4CV-NPTEL/Deep-Learning-For-Computer-Vision/blob/main/Data/Slides_Logo.png?raw=1\"\n",
        "  alt=\"button link to Airtable\" style=\"width:200px\"></a>\n",
        "    </div>\"\"\" )"
      ],
      "metadata": {
        "colab": {
          "base_uri": "https://localhost:8080/",
          "height": 100
        },
        "cellView": "form",
        "id": "WrHo4zh4t_Km",
        "outputId": "38e1a05b-124d-4ab8-b8eb-af824e71b9b0"
      },
      "execution_count": 32,
      "outputs": [
        {
          "output_type": "execute_result",
          "data": {
            "text/plain": [
              "<IPython.core.display.HTML object>"
            ],
            "text/html": [
              "\n",
              "  <div>\n",
              "    <a href= \"https://github.com/DL4CV-NPTEL/Deep-Learning-For-Computer-Vision/blob/main/Slides/Week_4/DL4CV_Week04_Part02.pdf\" target=\"_blank\">\n",
              "    <img src=\"https://github.com/DL4CV-NPTEL/Deep-Learning-For-Computer-Vision/blob/main/Data/Slides_Logo.png?raw=1\"\n",
              "  alt=\"button link to Airtable\" style=\"width:200px\"></a>\n",
              "    </div>"
            ]
          },
          "metadata": {},
          "execution_count": 32
        }
      ]
    },
    {
      "cell_type": "markdown",
      "source": [
        "**Imports**"
      ],
      "metadata": {
        "id": "gCQyvd5U3zrP"
      }
    },
    {
      "cell_type": "code",
      "source": [
        "import torch\n",
        "import numpy as np\n",
        "from torch import nn\n",
        "from math import pi\n",
        "import matplotlib.pyplot as plt\n",
        "from mpl_toolkits.axes_grid1 import make_axes_locatable"
      ],
      "metadata": {
        "id": "eKyKsmHU3zJn"
      },
      "execution_count": 33,
      "outputs": []
    },
    {
      "cell_type": "markdown",
      "source": [
        "**Helper Functions for Plotting**"
      ],
      "metadata": {
        "id": "C-eOh7-E3pUA"
      }
    },
    {
      "cell_type": "code",
      "source": [
        "def ex1_plot(fun_z, fun_dz):\n",
        "  \"\"\"\n",
        "  Plots the function and gradient vectors\n",
        "\n",
        "  Args:\n",
        "    fun_z: f.__name__\n",
        "      Function implementing sine function\n",
        "    fun_dz: f.__name__\n",
        "      Function implementing sine function as gradient vector\n",
        "\n",
        "  Returns:\n",
        "    Nothing\n",
        "  \"\"\"\n",
        "  x, y = np.arange(-3, 3.01, 0.02), np.arange(-3, 3.01, 0.02)\n",
        "  xx, yy = np.meshgrid(x, y, sparse=True)\n",
        "  zz = fun_z(xx, yy)\n",
        "  xg, yg = np.arange(-2.5, 2.6, 0.5), np.arange(-2.5, 2.6, 0.5)\n",
        "  xxg, yyg = np.meshgrid(xg, yg, sparse=True)\n",
        "  zxg, zyg = fun_dz(xxg, yyg)\n",
        "\n",
        "  plt.figure(figsize=(8, 7))\n",
        "  plt.title(\"Gradient vectors point towards steepest ascent\")\n",
        "  contplt = plt.contourf(x, y, zz, levels=20)\n",
        "  plt.quiver(xxg, yyg, zxg, zyg, scale=50, color='r', )\n",
        "  plt.xlabel('$x$')\n",
        "  plt.ylabel('$y$')\n",
        "  ax = plt.gca()\n",
        "  divider = make_axes_locatable(ax)\n",
        "  cax = divider.append_axes(\"right\", size=\"5%\", pad=0.05)\n",
        "  cbar = plt.colorbar(contplt, cax=cax)\n",
        "  cbar.set_label('$z = h(x, y)$')\n",
        "\n",
        "  plt.show()"
      ],
      "metadata": {
        "id": "V-i_cOUd3tTV"
      },
      "execution_count": 34,
      "outputs": []
    },
    {
      "cell_type": "markdown",
      "source": [
        "## Gradient Descent Algorithm"
      ],
      "metadata": {
        "id": "8YnUVM2e260s"
      }
    },
    {
      "cell_type": "markdown",
      "source": [
        "Since the goal of most learning algorithms is **minimizing the risk (also known as the cost or loss) function**, optimization is often the core of most machine learning techniques! The gradient descent algorithm, along with its variations such as stochastic gradient descent, is one of the most powerful and popular optimization methods used for deep learning."
      ],
      "metadata": {
        "id": "qnfqC4Yz2517"
      }
    },
    {
      "cell_type": "markdown",
      "source": [
        "### Gradient vector \n",
        "\n",
        "Given the following function:\n",
        "\n",
        "\\begin{equation}\n",
        "z = h(x, y) = \\sin(x^2 + y^2)\n",
        "\\end{equation}\n",
        "\n",
        "find the gradient vector:\n",
        "\n",
        "\\begin{equation}\n",
        "  \\begin{bmatrix}\n",
        "  \\dfrac{\\partial z}{\\partial x} \\\\ \\\\ \\dfrac{\\partial z}{\\partial y}\n",
        "  \\end{bmatrix}\n",
        "\\end{equation}\n",
        "\n",
        "\n",
        "*Hint: Use the chain rule!*\n",
        "\n",
        "**Chain rule**: For a composite function $F(x) = g(h(x)) \\equiv (g \\circ h)(x)$:\n",
        "\n",
        "\\begin{equation}\n",
        "F'(x) = g'(h(x)) \\cdot h'(x)\n",
        "\\end{equation}\n",
        "\n",
        "or differently denoted:\n",
        "\n",
        "\\begin{equation}\n",
        "\\frac{dF}{dx} = \\frac{dg}{dh} ~ \\frac{dh}{dx}\n",
        "\\end{equation}\n",
        "\n",
        "---\n",
        "#### Solution:\n",
        "We can rewrite the function as a composite function:\n",
        "\n",
        "\\begin{equation}\n",
        "z = f\\left( g(x,y) \\right), ~~ f(u) = \\sin(u), ~~ g(x, y) = x^2 + y^2\n",
        "\\end{equation}\n",
        "\n",
        "Using the [chain rule](https://en.wikipedia.org/wiki/Chain_rule):\n",
        "\n",
        "\\begin{align}\n",
        "\\dfrac{\\partial z}{\\partial x} &= \\dfrac{\\partial f}{\\partial g} \\dfrac{\\partial g}{\\partial x} = \\cos(g(x,y)) ~ (2x) = \\cos(x^2 + y^2) \\cdot 2x \\\\ \\\\\n",
        "\\dfrac{\\partial z}{\\partial y} &= \\dfrac{\\partial f}{\\partial g} \\dfrac{\\partial g}{\\partial y} = \\cos(g(x,y)) ~ (2y) = \\cos(x^2 + y^2) \\cdot 2y\n",
        "\\end{align}"
      ],
      "metadata": {
        "id": "90r-K7Ay3HwV"
      }
    },
    {
      "cell_type": "code",
      "source": [
        "def fun_z(x, y):\n",
        "  \"\"\"\n",
        "  Implements function sin(x^2 + y^2)\n",
        "\n",
        "  Args:\n",
        "    x: (float, np.ndarray)\n",
        "      Variable x\n",
        "    y: (float, np.ndarray)\n",
        "      Variable y\n",
        "\n",
        "  Returns:\n",
        "    z: (float, np.ndarray)\n",
        "      sin(x^2 + y^2)\n",
        "  \"\"\"\n",
        "  z = np.sin(x**2 + y**2)\n",
        "  return z\n",
        "\n",
        "\n",
        "def fun_dz(x, y):\n",
        "  \"\"\"\n",
        "  Implements function sin(x^2 + y^2)\n",
        "\n",
        "  Args:\n",
        "    x: (float, np.ndarray)\n",
        "      Variable x\n",
        "    y: (float, np.ndarray)\n",
        "      Variable y\n",
        "\n",
        "  Returns:\n",
        "    Tuple of gradient vector for sin(x^2 + y^2)\n",
        "  \"\"\"\n",
        "\n",
        "  dz_dx = 2 * x * np.cos(x**2 + y**2)\n",
        "  dz_dy = 2 * y * np.cos(x**2 + y**2)\n",
        "  return (dz_dx, dz_dy)\n",
        "\n",
        "ex1_plot(fun_z, fun_dz)"
      ],
      "metadata": {
        "id": "wvT7F0cyuLI4",
        "outputId": "ccb8d7be-59aa-42a4-ea9c-e6adf82a3904",
        "colab": {
          "base_uri": "https://localhost:8080/",
          "height": 458
        }
      },
      "execution_count": 35,
      "outputs": [
        {
          "output_type": "display_data",
          "data": {
            "text/plain": [
              "<Figure size 576x504 with 2 Axes>"
            ],
            "image/png": "[encoded data removed]"
          },
          "metadata": {
            "needs_background": "light"
          }
        }
      ]
    },
    {
      "cell_type": "markdown",
      "source": [
        "We can see from the plot that for any given $x_0$ and $y_0$, the gradient vector $\\left[ \\dfrac{\\partial z}{\\partial x}, \\dfrac{\\partial z}{\\partial y}\\right]^{\\top}_{(x_0, y_0)}$ points in the direction of $x$ and $y$ for which $z$ increases the most. It is important to note that gradient vectors only see their local values, not the whole landscape! Also, length (size) of each vector, which indicates the steepness of the function, can be very small near local plateaus (i.e. minima or maxima).\n",
        "\n",
        "Thus, we can simply use the aforementioned formula to find the local minima. \n",
        "\n",
        "In 1847, Augustin-Louis Cauchy used **negative of gradients**  to develop the Gradient Descent algorithm as an **iterative** method to **minimize** a **continuous** and (ideally) **differentiable function** of **many variables**."
      ],
      "metadata": {
        "id": "7zKbjcIX40uK"
      }
    },
    {
      "cell_type": "markdown",
      "source": [
        "### Gradient Descent Algorithm"
      ],
      "metadata": {
        "id": "itU4aWyH5Atr"
      }
    },
    {
      "cell_type": "markdown",
      "source": [
        "Let $f(\\mathbf{w}): \\mathbb{R}^d \\rightarrow \\mathbb{R}$ be a differentiable function. Gradient Descent is an iterative algorithm for minimizing the function $f$, starting with an initial value for variables $\\mathbf{w}$, taking steps of size $\\eta$ (learning rate) in the direction of the negative gradient at the current point to update the variables $\\mathbf{w}$.\n",
        "\n",
        "\\begin{equation}\n",
        "\\mathbf{w}^{(t+1)} = \\mathbf{w}^{(t)} - \\eta \\nabla f \\left( \\mathbf{w}^{(t)} \\right)\n",
        "\\end{equation}\n",
        "\n",
        "where $\\eta > 0$ and $\\nabla f (\\mathbf{w})= \\left( \\frac{\\partial f(\\mathbf{w})}{\\partial w_1}, ..., \\frac{\\partial f(\\mathbf{w})}{\\partial w_d} \\right)$. Since negative gradients always point locally in the direction of steepest descent, the algorithm makes small steps at each point **towards** the minimum.\n",
        "  \n",
        "<br/>\n",
        "\n",
        "**Vanilla Algorithm**\n",
        "\n",
        "---\n",
        "> **Inputs:** initial guess $\\mathbf{w}^{(0)}$, step size $\\eta > 0$, number of steps $T$.\n",
        "\n",
        "> **For** $t = 0, 1, 2, \\dots , T-1$ **do** \\\n",
        "$\\qquad$ $\\mathbf{w}^{(t+1)} = \\mathbf{w}^{(t)} - \\eta \\nabla f \\left( \\mathbf{w}^{(t)} \\right)$\\\n",
        "**end**\n",
        "\n",
        "> **Return:** $\\mathbf{w}^{(t+1)}$\n",
        "\n",
        "---\n",
        "\n",
        "<br/>\n",
        "\n",
        "Hence, all we need is to calculate the gradient of the loss function with respect to the learnable parameters (i.e., weights):\n",
        "\n",
        "\\begin{equation}\n",
        "\\dfrac{\\partial Loss}{\\partial \\mathbf{w}} = \\left[ \\dfrac{\\partial Loss}{\\partial w_1}, \\dfrac{\\partial Loss}{\\partial w_2} , \\dots, \\dfrac{\\partial Loss}{\\partial w_d} \\right]^{\\top}\n",
        "\\end{equation}"
      ],
      "metadata": {
        "id": "tQHBa3NY4-Xj"
      }
    },
    {
      "cell_type": "markdown",
      "source": [
        "##  PyTorch AutoGrad\n"
      ],
      "metadata": {
        "id": "a4BKy-RK5XwS"
      }
    },
    {
      "cell_type": "markdown",
      "source": [
        "Deep learning frameworks such as PyTorch, JAX, and TensorFlow come with a very efficient and sophisticated set of algorithms, commonly known as Automatic Differentiation. AutoGrad is PyTorch's automatic differentiation engine. "
      ],
      "metadata": {
        "id": "J0akx8_N5bXO"
      }
    },
    {
      "cell_type": "markdown",
      "source": [
        "### Forward Propagation"
      ],
      "metadata": {
        "id": "3HRg2WEY6UIG"
      }
    },
    {
      "cell_type": "markdown",
      "source": [
        "\n",
        "\n",
        "Everything starts with the forward propagation (pass). PyTorch tracks all the instructions, as we declare the variables and operations, and it builds the graph when we call the `.backward()` pass. PyTorch rebuilds the graph every time we iterate or change it (or simply put, PyTorch uses a dynamic graph).\n",
        "\n",
        "For gradient descent, it is only required to have the gradients of cost function with respect to the variables we wish to learn. These variables are often called \"learnable / trainable parameters\" or simply \"parameters\" in PyTorch. In neural nets, weights and biases are often the learnable parameters."
      ],
      "metadata": {
        "id": "MgZilV7o5i4O"
      }
    },
    {
      "cell_type": "markdown",
      "source": [
        "#### Buiding a Computational Graph\n",
        "\n",
        "In PyTorch, to indicate that a certain tensor contains learnable parameters, we can set the optional argument `requires_grad` to `True`. PyTorch will then track every operation using this tensor while configuring the computational graph. For this code snippet, use the provided tensors to build the following graph, which implements a single neuron with scalar input and output.\n",
        "\n",
        "<br>\n",
        "\n",
        "<center><img src=\"https://raw.githubusercontent.com/NeuromatchAcademy/course-content-dl/main/tutorials/W1D2_LinearDeepLearning/static/simple_graph.png\" alt=\"Simple nn graph\" width=\"600\"/></center>"
      ],
      "metadata": {
        "id": "Y5vm3Oq85sdS"
      }
    },
    {
      "cell_type": "code",
      "source": [
        "class SimpleGraph:\n",
        "  \"\"\"\n",
        "  Implementing Simple Computational Graph\n",
        "  \"\"\"\n",
        "\n",
        "  def __init__(self, w, b):\n",
        "    \"\"\"\n",
        "    Initializing the SimpleGraph\n",
        "\n",
        "    Args:\n",
        "      w: float\n",
        "        Initial value for weight\n",
        "      b: float\n",
        "        Initial value for bias\n",
        "\n",
        "    Returns:\n",
        "      Nothing\n",
        "    \"\"\"\n",
        "    assert isinstance(w, float)\n",
        "    assert isinstance(b, float)\n",
        "    self.w = torch.tensor([w], requires_grad=True)\n",
        "    self.b = torch.tensor([b], requires_grad=True)\n",
        "\n",
        "  def forward(self, x):\n",
        "    \"\"\"\n",
        "    Forward pass\n",
        "\n",
        "    Args:\n",
        "      x: torch.Tensor\n",
        "        1D tensor of features\n",
        "\n",
        "    Returns:\n",
        "      prediction: torch.Tensor\n",
        "        Model predictions\n",
        "    \"\"\"\n",
        "    assert isinstance(x, torch.Tensor)\n",
        "    \n",
        "    prediction = torch.tanh(x * self.w + self.b)\n",
        "    return prediction\n",
        "\n",
        "\n",
        "def sq_loss(y_true, y_prediction):\n",
        "  \"\"\"\n",
        "  L2 loss function\n",
        "\n",
        "  Args:\n",
        "    y_true: torch.Tensor\n",
        "      1D tensor of target labels\n",
        "    y_prediction: torch.Tensor\n",
        "      1D tensor of predictions\n",
        "\n",
        "  Returns:\n",
        "    loss: torch.Tensor\n",
        "      L2-loss (squared error)\n",
        "  \"\"\"\n",
        "  assert isinstance(y_true, torch.Tensor)\n",
        "  assert isinstance(y_prediction, torch.Tensor)\n",
        "  \n",
        "  loss = (y_true - y_prediction)**2\n",
        "  return loss\n",
        "\n",
        "\n",
        "\n",
        "feature = torch.tensor([1])  # Input tensor\n",
        "target = torch.tensor([7])  # Target tensor\n",
        "simple_graph = SimpleGraph(-0.5, 0.5)\n",
        "print(f\"initial weight = {simple_graph.w.item()}, \"\n",
        "      f\"\\ninitial bias = {simple_graph.b.item()}\")\n",
        "prediction = simple_graph.forward(feature)\n",
        "square_loss = sq_loss(target, prediction)\n",
        "print(f\"for x={feature.item()} and y={target.item()}, \"\n",
        "      f\"prediction={prediction.item()}, and L2 Loss = {square_loss.item()}\")"
      ],
      "metadata": {
        "id": "eGbW2mUA41Mr",
        "outputId": "c5fd920c-2ce6-4314-930c-fb267583b07c",
        "colab": {
          "base_uri": "https://localhost:8080/"
        }
      },
      "execution_count": 36,
      "outputs": [
        {
          "output_type": "stream",
          "name": "stdout",
          "text": [
            "initial weight = -0.5, \n",
            "initial bias = 0.5\n",
            "for x=1 and y=7, prediction=0.0, and L2 Loss = 49.0\n"
          ]
        }
      ]
    },
    {
      "cell_type": "markdown",
      "metadata": {
        "execution": {},
        "id": "oEtKk5xp1PWa"
      },
      "source": [
        "It is important to appreciate the fact that PyTorch can follow our operations as we arbitrarily go through classes and functions."
      ]
    },
    {
      "cell_type": "markdown",
      "metadata": {
        "execution": {},
        "id": "p-dANk3R1PWb"
      },
      "source": [
        "### Backward Propagation\n",
        "\n",
        "Here is where all the magic lies. In PyTorch, `Tensor` and `Function` are interconnected and build up an acyclic graph, that encodes a complete history of computation. Each variable has a `grad_fn` attribute that references a function that has created the Tensor (except for Tensors created by the user - these have `None` as `grad_fn`).  The example below shows that the tensor `c = a + b` is created by the `Add` operation and the gradient function is the object `<AddBackward...>`. Replace `+` with other single operations (e.g., `c = a * b` or `c = torch.sin(a)`) and examine the results."
      ]
    },
    {
      "cell_type": "code",
      "execution_count": 37,
      "metadata": {
        "execution": {},
        "id": "alLgqrRN1PWc",
        "outputId": "fe162f78-bc32-4421-8139-96c88561dd55",
        "colab": {
          "base_uri": "https://localhost:8080/"
        }
      },
      "outputs": [
        {
          "output_type": "stream",
          "name": "stdout",
          "text": [
            "Gradient function = <AddBackward0 object at 0x7fec3fb76490>\n"
          ]
        }
      ],
      "source": [
        "a = torch.tensor([1.0], requires_grad=True)\n",
        "b = torch.tensor([-1.0], requires_grad=True)\n",
        "c = a + b\n",
        "print(f'Gradient function = {c.grad_fn}')"
      ]
    },
    {
      "cell_type": "markdown",
      "source": [
        "For more complex functions, printing the `grad_fn` would only show the last operation, even though the object tracks all the operations up to that point:"
      ],
      "metadata": {
        "id": "m1tQhS8s6f-A"
      }
    },
    {
      "cell_type": "code",
      "source": [
        "print(f'Gradient function for prediction = {prediction.grad_fn}')\n",
        "print(f'Gradient function for loss = {square_loss.grad_fn}')"
      ],
      "metadata": {
        "id": "h7zriGqz6cTk",
        "outputId": "f03aedf6-bab7-4745-e797-dd5431c491dd",
        "colab": {
          "base_uri": "https://localhost:8080/"
        }
      },
      "execution_count": 38,
      "outputs": [
        {
          "output_type": "stream",
          "name": "stdout",
          "text": [
            "Gradient function for prediction = <TanhBackward0 object at 0x7fec3fb761d0>\n",
            "Gradient function for loss = <PowBackward0 object at 0x7fec3fb766d0>\n"
          ]
        }
      ]
    },
    {
      "cell_type": "markdown",
      "source": [
        "Now let's kick off the backward pass to calculate the gradients by calling `.backward()` on the tensor we wish to initiate the backpropagation from. Often, `.backward()` is called on the loss, which is the last node on the graph. Before doing that, let's calculate the loss gradients by hand:\n",
        "\n",
        "$$\\frac{\\partial{loss}}{\\partial{w}} = - 2 x (y_t - y_p)(1 - y_p^2)$$\n",
        "\n",
        "$$\\frac{\\partial{loss}}{\\partial{b}} = - 2 (y_t - y_p)(1 - y_p^2)$$\n",
        "\n",
        "Where $y_t$ is the target (true label), and $y_p$ is the prediction (model output). We can then compare it to PyTorch gradients, which can be obtained by calling `.grad` on the relevant tensors.\n",
        "\n",
        "**Important Notes:**\n",
        "* Learnable parameters (i.e. `requires_grad` tensors) are \"contagious\". Let's look at a simple example: `Y = W @ X`, where `X` is the feature tensors and `W` is the weight tensor (learnable parameters, `requires_grad`), the newly generated output tensor `Y` will be also `requires_grad`. So any operation that is applied to `Y` will be part of the computational graph. Therefore, if we need to plot or store a tensor that is `requires_grad`, we must first `.detach()` it from the graph by calling the `.detach()` method on that tensor.\n",
        "\n",
        "* `.backward()` accumulates gradients in the leaf nodes (i.e., the input nodes to the node of interest). We can call `.zero_grad()` on the loss or optimizer to zero out all `.grad` attributes (see [autograd.backward](https://pytorch.org/docs/stable/autograd.html#torch.autograd.backward) for more information).\n",
        "\n",
        "* Recall that in python we can access variables and associated methods with `.method_name`. You can use the command `dir(my_object)` to observe all variables and associated methods to your object, e.g., `dir(simple_graph.w)`."
      ],
      "metadata": {
        "id": "xkQ7mVso6nQJ"
      }
    },
    {
      "cell_type": "code",
      "source": [
        "# Analytical gradients (Remember detaching)\n",
        "ana_dloss_dw = - 2 * feature * (target - prediction.detach())*(1 - prediction.detach()**2)\n",
        "ana_dloss_db = - 2 * (target - prediction.detach())*(1 - prediction.detach()**2)\n",
        "\n",
        "square_loss.backward()  # First we should call the backward to build the graph\n",
        "autograd_dloss_dw = simple_graph.w.grad  # We calculate the derivative w.r.t weights\n",
        "autograd_dloss_db = simple_graph.b.grad  # We calculate the derivative w.r.t bias\n",
        "\n",
        "print(ana_dloss_dw == autograd_dloss_dw)\n",
        "print(ana_dloss_db == autograd_dloss_db)"
      ],
      "metadata": {
        "id": "6f_fcX9H6j9S",
        "outputId": "89eeb31e-efc2-466c-a64a-65c3fed670a0",
        "colab": {
          "base_uri": "https://localhost:8080/"
        }
      },
      "execution_count": 39,
      "outputs": [
        {
          "output_type": "stream",
          "name": "stdout",
          "text": [
            "tensor([True])\n",
            "tensor([True])\n"
          ]
        }
      ]
    },
    {
      "cell_type": "markdown",
      "source": [
        "## References and more:\n",
        "\n",
        "* [A gentle introduction to torch.autograd](https://pytorch.org/tutorials/beginner/blitz/autograd_tutorial.html)\n",
        "\n",
        "* [Automatic Differentiation package - torch.autograd](https://pytorch.org/docs/stable/autograd.html)\n",
        "\n",
        "* [Autograd mechanics](https://pytorch.org/docs/stable/notes/autograd.html)\n",
        "\n",
        "* [Automatic Differentiation with torch.autograd](https://pytorch.org/tutorials/beginner/basics/autogradqs_tutorial.html)"
      ],
      "metadata": {
        "id": "RTw1NAl96son"
      }
    },
    {
      "cell_type": "markdown",
      "source": [
        "**Acknowledgements**"
      ],
      "metadata": {
        "id": "4ECRfm476xRT"
      }
    },
    {
      "cell_type": "markdown",
      "source": [
        "Code adopted from the Deep Learning Summer School offered by Neuromatch Academy\n",
        "\n",
        "https://deeplearning.neuromatch.io/tutorials/intro.html"
      ],
      "metadata": {
        "id": "nY_RNDCG62MU"
      }
    },
    {
      "cell_type": "code",
      "source": [
        ""
      ],
      "metadata": {
        "id": "h5Wt1Yag7BSR"
      },
      "execution_count": 39,
      "outputs": []
    }
  ]
}