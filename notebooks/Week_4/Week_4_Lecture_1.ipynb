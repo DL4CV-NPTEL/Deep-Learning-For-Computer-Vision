{
  "nbformat": 4,
  "nbformat_minor": 0,
  "metadata": {
    "colab": {
      "name": "Week_4_Lecture_1.ipynb",
      "provenance": [],
      "authorship_tag": "ABX9TyPUmxIQJHsW80Fu7WsPYweF",
      "include_colab_link": true
    },
    "kernelspec": {
      "name": "python3",
      "display_name": "Python 3"
    },
    "language_info": {
      "name": "python"
    },
    "widgets": {
      "application/vnd.jupyter.widget-state+json": {
        "6b79e300aa93405e9c2b85ef4a1f60fe": {
          "model_module": "@jupyter-widgets/output",
          "model_name": "OutputModel",
          "model_module_version": "1.0.0",
          "state": {
            "_dom_classes": [],
            "_model_module": "@jupyter-widgets/output",
            "_model_module_version": "1.0.0",
            "_model_name": "OutputModel",
            "_view_count": null,
            "_view_module": "@jupyter-widgets/output",
            "_view_module_version": "1.0.0",
            "_view_name": "OutputView",
            "layout": "IPY_MODEL_2b56ec66c77b4e8b9fa488d41e58d3f7",
            "msg_id": "",
            "outputs": [
              {
                "output_type": "stream",
                "name": "stdout",
                "text": [
                  "Video available at https://youtube.com/watch?v=47d0M3UAXNc\n"
                ]
              },
              {
                "output_type": "display_data",
                "data": {
                  "text/plain": "<IPython.lib.display.YouTubeVideo at 0x7fec5b4fe150>",
                  "text/html": "\n        <iframe\n            width=\"854\"\n            height=\"480\"\n            src=\"https://www.youtube.com/embed/47d0M3UAXNc?fs=1&rel=0\"\n            frameborder=\"0\"\n            allowfullscreen\n        ></iframe>\n        ",
                  "image/jpeg": "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\n"
                },
                "metadata": {}
              }
            ]
          }
        },
        "2b56ec66c77b4e8b9fa488d41e58d3f7": {
          "model_module": "@jupyter-widgets/base",
          "model_name": "LayoutModel",
          "model_module_version": "1.2.0",
          "state": {
            "_model_module": "@jupyter-widgets/base",
            "_model_module_version": "1.2.0",
            "_model_name": "LayoutModel",
            "_view_count": null,
            "_view_module": "@jupyter-widgets/base",
            "_view_module_version": "1.2.0",
            "_view_name": "LayoutView",
            "align_content": null,
            "align_items": null,
            "align_self": null,
            "border": null,
            "bottom": null,
            "display": null,
            "flex": null,
            "flex_flow": null,
            "grid_area": null,
            "grid_auto_columns": null,
            "grid_auto_flow": null,
            "grid_auto_rows": null,
            "grid_column": null,
            "grid_gap": null,
            "grid_row": null,
            "grid_template_areas": null,
            "grid_template_columns": null,
            "grid_template_rows": null,
            "height": null,
            "justify_content": null,
            "justify_items": null,
            "left": null,
            "margin": null,
            "max_height": null,
            "max_width": null,
            "min_height": null,
            "min_width": null,
            "object_fit": null,
            "object_position": null,
            "order": null,
            "overflow": null,
            "overflow_x": null,
            "overflow_y": null,
            "padding": null,
            "right": null,
            "top": null,
            "visibility": null,
            "width": null
          }
        }
      }
    }
  },
  "cells": [
    {
      "cell_type": "markdown",
      "metadata": {
        "id": "view-in-github",
        "colab_type": "text"
      },
      "source": [
        "<a href=\"https://colab.research.google.com/github/DL4CV-NPTEL/Deep-Learning-For-Computer-Vision/blob/main/notebooks/Week_4/Week_4_Lecture_1.ipynb\" target=\"_parent\"><img src=\"https://colab.research.google.com/assets/colab-badge.svg\" alt=\"Open In Colab\"/></a>"
      ]
    },
    {
      "cell_type": "markdown",
      "source": [
        "# Lecture 1 : Neural Networks: A Review Part 1"
      ],
      "metadata": {
        "id": "C3rM36EEZkzJ"
      }
    },
    {
      "cell_type": "code",
      "execution_count": 1,
      "metadata": {
        "colab": {
          "base_uri": "https://localhost:8080/",
          "height": 519,
          "referenced_widgets": [
            "6b79e300aa93405e9c2b85ef4a1f60fe",
            "2b56ec66c77b4e8b9fa488d41e58d3f7"
          ]
        },
        "cellView": "form",
        "id": "xqGdgOpCZagN",
        "outputId": "bcab7248-ed2a-42bd-eb27-3db4e255d7c1"
      },
      "outputs": [
        {
          "output_type": "display_data",
          "data": {
            "text/plain": [
              "Output()"
            ],
            "application/vnd.jupyter.widget-view+json": {
              "version_major": 2,
              "version_minor": 0,
              "model_id": "6b79e300aa93405e9c2b85ef4a1f60fe"
            }
          },
          "metadata": {}
        }
      ],
      "source": [
        "#@title \n",
        "from ipywidgets import widgets\n",
        "out1 = widgets.Output()\n",
        "with out1:\n",
        "  from IPython.display import YouTubeVideo\n",
        "  video = YouTubeVideo(id=f\"47d0M3UAXNc\", width=854, height=480, fs=1, rel=0)\n",
        "  print(\"Video available at https://youtube.com/watch?v=\" + video.id)\n",
        "  display(video)\n",
        "display(out1)"
      ]
    },
    {
      "cell_type": "code",
      "source": [
        "#@title \n",
        "from IPython import display as IPyDisplay\n",
        "IPyDisplay.HTML(\n",
        "    f\"\"\"\n",
        "  <div>\n",
        "    <a href= \"https://github.com/DL4CV-NPTEL/Deep-Learning-For-Computer-Vision/blob/main/Slides/Week_4/DL4CV_Week04_Part01.pdf\" target=\"_blank\">\n",
        "    <img src=\"https://github.com/DL4CV-NPTEL/Deep-Learning-For-Computer-Vision/blob/main/Data/Slides_Logo.png?raw=1\"\n",
        "  alt=\"button link to Airtable\" style=\"width:200px\"></a>\n",
        "    </div>\"\"\" )"
      ],
      "metadata": {
        "colab": {
          "base_uri": "https://localhost:8080/",
          "height": 100
        },
        "cellView": "form",
        "id": "IxgRkIF2Zxf0",
        "outputId": "7ca0fdb0-19bd-4b2f-eb27-456f27ca6766"
      },
      "execution_count": 2,
      "outputs": [
        {
          "output_type": "execute_result",
          "data": {
            "text/plain": [
              "<IPython.core.display.HTML object>"
            ],
            "text/html": [
              "\n",
              "  <div>\n",
              "    <a href= \"https://github.com/DL4CV-NPTEL/Deep-Learning-For-Computer-Vision/blob/main/Slides/Week_4/DL4CV_Week04_Part01.pdf\" target=\"_blank\">\n",
              "    <img src=\"https://github.com/DL4CV-NPTEL/Deep-Learning-For-Computer-Vision/blob/main/Data/Slides_Logo.png?raw=1\"\n",
              "  alt=\"button link to Airtable\" style=\"width:200px\"></a>\n",
              "    </div>"
            ]
          },
          "metadata": {},
          "execution_count": 2
        }
      ]
    },
    {
      "cell_type": "code",
      "source": [
        ""
      ],
      "metadata": {
        "id": "TNloy81aaNy5"
      },
      "execution_count": null,
      "outputs": []
    }
  ]
}