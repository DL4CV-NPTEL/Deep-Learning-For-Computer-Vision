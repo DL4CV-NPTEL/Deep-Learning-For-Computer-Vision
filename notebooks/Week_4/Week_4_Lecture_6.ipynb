{
  "nbformat": 4,
  "nbformat_minor": 0,
  "metadata": {
    "colab": {
      "name": "Week_4_Lecture_6.ipynb",
      "provenance": [],
      "include_colab_link": true
    },
    "kernelspec": {
      "name": "python3",
      "display_name": "Python 3"
    },
    "language_info": {
      "name": "python"
    },
    "widgets": {
      "application/vnd.jupyter.widget-state+json": {
        "910dde57d85347c4acea2e54e01f7d35": {
          "model_module": "@jupyter-widgets/output",
          "model_name": "OutputModel",
          "model_module_version": "1.0.0",
          "state": {
            "_dom_classes": [],
            "_model_module": "@jupyter-widgets/output",
            "_model_module_version": "1.0.0",
            "_model_name": "OutputModel",
            "_view_count": null,
            "_view_module": "@jupyter-widgets/output",
            "_view_module_version": "1.0.0",
            "_view_name": "OutputView",
            "layout": "IPY_MODEL_7fdb85e002c444a2a114d44a7444347a",
            "msg_id": "",
            "outputs": [
              {
                "output_type": "stream",
                "name": "stdout",
                "text": [
                  "Video available at https://youtube.com/watch?v=g_bV6bo5dL0\n"
                ]
              },
              {
                "output_type": "display_data",
                "data": {
                  "text/plain": "<IPython.lib.display.YouTubeVideo at 0x7fa0b5c9d590>",
                  "text/html": "\n        <iframe\n            width=\"854\"\n            height=\"480\"\n            src=\"https://www.youtube.com/embed/g_bV6bo5dL0?fs=1&rel=0\"\n            frameborder=\"0\"\n            allowfullscreen\n        ></iframe>\n        ",
                  "image/jpeg": "/9j/4AAQSkZJRgABAQAAAQABAAD/2wCEABALDBoYFhwaGRkdHRoeIScmIh8gIicoJSUlLigxMC8tLS01PVBCNThLOS0wRWFFS1NWW1xbM0FlbWRYbFBZW1cBERISGRYZLRobL1c9NTZXV1ddV1dXV1dXV1dXV1dXV1dXV1dXXVdXV1dXW19dV1dXV1pXV1dXV11XV1dXV1dXV//AABEIAWgB4AMBIgACEQEDEQH/xAAbAAEAAgMBAQAAAAAAAAAAAAAAAwQBAgUGB//EAEYQAAIBAgMCCwYCBwcEAwEAAAABAgMRBBIhMVEFExciQVJTgZGS0hUyYXGx0RShBiMzcpPB8EJic7PC4fFDY6KyB4KDFv/EABkBAQEBAQEBAAAAAAAAAAAAAAACAQMEBf/EACIRAQADAAIDAAIDAQAAAAAAAAABAhESIQMxURNBBGHwFP/aAAwDAQACEQMRAD8A+fgAAAAAAAAAAAAAAAAAAAAAAAAAAAAAAAAAAAAAAAAAAAAAAAAAAAAAAAAAAAAAAAAAAAAAAAAAAAAAAAAAAAAAAAAAAAAAAAAAAAAAAAAAAAAAAAAAAAAAAAAAAAAAAAAAAAAAAAAAAAAAAAAAAAAAAAAAAAAAAAA9byeYztcP5p+gcnmM7XD+afoA8kD1vJ5jO1w/mn6ByeYztcP5p+gDyQPW8nmM7XD+afoHJ5jO1w/mn6APJA9byeYztcP5p+gcnmM7XD+afoA8kD1vJ5jO1w/mn6ByeYztcP5p+gDyQPW8nmM7XD+afoHJ5jO1w/mn6APJA9byeYztcP5p+gcnmM7XD+afoA8kD1vJ5jO1w/mn6ByeYztcP5p+gDyQPW8nmM7XD+afoHJ5jO1w/mn6APJA9byeYztcP5p+gcnmM7XD+afoA8kD1vJ5jO1w/mn6ByeYztcP5p+gDyQPW8nmM7XD+afoHJ5jO1w/mn6APJA9byeYztcP5p+gcnmM7XD+afoA8kD1vJ5jO1w/mn6ByeYztcP5p+gDyQPW8nmM7XD+afoHJ5jO1w/mn6APJA9byeYztcP5p+gcnmM7XD+afoA8kD1vJ5jO1w/mn6ByeYztcP5p+gDyQPW8nmM7XD+afoHJ5jO1w/mn6APJA9byeYztcP5p+gcnmM7XD+afoA8kD1vJ5jO1w/mn6ByeYztcP5p+gDyQPW8nmM7XD+afoHJ5jO1w/mn6APJA9byeYztcP5p+gcnmM7XD+afoA8kD1vJ5jO1w/mn6ByeYztcP5p+gDyQPW8nmM7XD+afoHJ5jO1w/mn6APJA9byeYztcP5p+gcnmM7XD+afoA8kD1vJ5jO1w/mn6ByeYztcP5p+gDyQPW8nmM7XD+afoHJ5jO1w/mn6APJA9dD/46xjV1Vw/mn6Dbk4xva4bzVPQB48HsOTjG9rhvNU9A5OMb2uG80/QB48HsOTjG9rhvNU9A5OMb2uG81T0AfSCtHH0nJRUtXUnT2P34JuS8EyycGhSlxsXllb8ZiHsex052fyDpSsWid/3t26FaNSEZxd4ySkns0ew3bPOQr1KWHyc+MvwdLi0oyvn517WW33bk1dylWq071J54zXNlUjkWTROPutX2SWruZq58Pft3Uw3bV7DkYaOd4ZQqVeKVOblrLnSTp2Tb1tdvwa3lXjJVnWilVUZUKrcXKbamnHKtVaL1fNTGsjw7Pt3+MWZR1u02tHayt07Ok2OJUqzVOP4d1JLiKjV8zebNDrbWk5WRq6k23GjOq6LnQWZ5s2Z1GqiTetstr9CGn4v7d0FTg5SUZxk5NRqTUXJtvKnpq9vzOdRqVJVIRcqvGyqTVaPOUY07Ss10L+zZrV+ITFNme/TrYXExqxzQzZb6ScWlL4xvtXxMYfG06sJThK8YuUZN6WcdtyDgSlkwlFPMnkjdSbunZaa7PkcvD4aooqmoSyYltVHldo5akszluzQsl8kF/jrM279S7eGxkKsYSg24zTcXla0Ts76afJktSairu+1LRN7XboOKnUhRioZ1ajinZJ+8prL36uxvJVYOSjKq0/w0rtt6yqNVLblZK66BpPijep/246tatGFnJ2zSUVp0t2RIcvhRVHTjxiSSrU3em5N5VLV7NO4qTxElTcf1rpupLiZuVSLyqK2tJyfOzWXTYamPHsO9dXtfXcaVq0YJOTsnKMdnTJpL82cXDufGRqSz8fPCwcU8yjKolK6a2LatHvMytOglGdaVRzocZmz3i+MjfRq0Xt0WwKjxd9y7pWhjoSnkSm9XHMoSyZltWa1uj+RpwapJVYycmo1ZKLk23lsmtXq9r1KcZqFdKhOrd1HnoSg8iTbcpptc3fts+81FaR3C7LhGnncFnlleWThCUoxe5tL493SYqcJ0oynF5/1btOShJxi7J6tLc0c+niZ4elxSVq0aktJU5y41Sm2nFqyu77dbWZNRxUaVXFKSm3KqnGMYSk5Li4LSy3ozV/jj46qaautU+kyVeC6EqWGpU5aSjBJpa2+F/hsLRrjMZOAADAAAAAAAAAAAAAAAAAAAAAAAAAAAAAAAAAAAAABvh/d739WZrVVCLlJ2SMYf3e9/VnO/SKo40VZaX17k/wCtjJtORraxs40pYuviZPimqdNOzk1d/L5lhyq04qanKtFe8llT00eVW1+V/EgqT4mnTjTU06aSemklbXa9dfHX5qrwVj86j7+WNubGzu9Pjd6+Gq6GZEZ7Xm9/p28Ji4VoKdOV4vu8UTnmqNTiOFHCPNp11dpq3OcW+np0enxPSFsvXjKHK9wyvcTgIQZXuGV7icAQZXuGV7icAQZXuGV7icAQZXuGV7icAQZXuGV7icAQZXuGV7icAQZXuGV7icAQZXuGV7icAQZXuGV7icAQZXuGV7icAQZXuGV7icAQZXuGV7icAQZXuGV7icAQZXuGV7icAQZXuGV7icAQZXuGV7icAQZXuGV7icAQZXuGV7icAQZXuGV7icAQZXuGV7icAQZXuGV7icAQZXuGV7icAQZXuGV7icAQZXuGV7icAQZXuGV7icAQZXuGV7icARUPd739WaY7CqtTcH07H8SWls739Wa4ivGnBzm7RW0ycztsbvSjh4OahTqtqdPatma2iknut+Yo4ZUYKpOWRx2vocVps+S/rS29bHUpWjnknfRxV9U7aXT6Tn18Ph6tnXqVqqzWUZ6RzK7askvzJ5V+ris/tBwRF4rHTxS/ZR0i9NXbKldLXpe16npyDCShktTVoxbjZK1raE5cMvblIAAgAAAAAAAAAAAAAAAAKuPb4vRtXnBXTadnOKeq+DLJzsZGrmk245HKioK+x8Yr3Vv60Ak/Crr1f4s/uPwq69X+LP7kwI1eQrrCLr1f4k/uPwy69X+JP7lgWDVV4f8Av1f4k/uaOh/fq/xJ/cttGriZ2qMVXR/v1f4k/ubqh/fq/wASf3JbGUhstyEMsP8A36v8Sf3IZU32lX+JP7l2xFOI2Wxim4y7Srf/ABJfc053aVfPL7liUTRxv8xrrFa/EfO7Sr/El9xeXaVf4kvub5PizKSQ041+NYxl01Kv8SX3NlCT/wCpVt/iS+5so7/A3S7hrJrX4j4t9pV/iT+5nI+0q/xJ/c1wldVFKUVzMzUZdZJK7+V7r42v0ku8bKeNfjRwfaVf4k/uaKL7Sr/El9yVrQ07hqorX41yvtKv8SX3CjK37Sq//wBJfc28RZ7hreNfjXK+0q/xJfctcFyeeonKUklBrNJu1819vyIFAn4MVqtX5Q/1GxPbl5IiK9OkAC3nAAAAAAAAAAAAAAAAaUtne/qzFakpxyyV1dPwdzNLZ3v6s2Ar0cDTg7xjZ62+F3fQxLAU30NWlKWkmneW36kmKxUKNN1KkssY7WQcH8KUsSnxUm3HammmiMr6Xl5jl3iajhYwbcc3Ou2nJtXbve2wnMAqIiPSN1kAGgAAAAAAAAAAAAAAAAVcf+zX+JS/zIlkp42qmsut1Ok3p0OovswJgATitAAMbrAaMgzDWjiYsSWMWMxusJGJRN7CxuHJUnAicS7KBDKBMw61sr5PmZUdyJcoUQrk0Ue8p4hyrSdGGkF+2kt1v2ae96X3L4tEmMxEnJUaLXGyV3K11Tj1n8dy6SfC4aNGChFaLfq23q230tvVhO6zGKSSSSSVklsSMNEjiYswppcG9hlYbrTuFmb5TOUM1plJeD1+tq/uw/1GDbA/tav7sP8AUbX25+Sel8AHRwAAAAAAAAAAAAAAAAaUtne/qyPEYiNNXlfuJKWzvf1ZR4Y9xd/8jj57zSk2hfjrFrREqXCWOw2JpuhKo6bdmpSWiaf+xW4KhQwMpZ66qVZ2jaC0Svp9Ti473u5/+zEv26/ej/I88eaZ7zt9aP48RThEzk949thuEIVWlG+u9Fo4PAfvR+X8md47fx/JPkrMz9fL81IpbIZAB6HIAAAAAAAAAAAAAAABgo4zDRUZSs251KWa7bTtOK2PRaF4r4/3F/iU/wDMiBsZBgNDIAZrAMmLm4azYGDFxjNZMNmGzSUiohky3zC1yvKZFPGxi8t7ydrRVnLX4dHzZs0ZFsXMhSr4iUm6dDWdtamjhC91d72re6SQ4yo05yyRs7wi9W9LXn8Ny37SzSpRhFRikorYl0HKa46xfVfD4WNNNK7bd5SespPe2SNErRq0Q6RKKwsSNGLIxWtLCxvlMZQa1sZsAGlhgopVqtltjC//AJAzg/21X92H1kVX2i/peABbiAAAAAAAAAAAAAAAA0pbO9/VlHhZNxVlv/kXaWzvf1ZUnjLt5JQsrbVO/wAeg5+Tx/krNVVtxnXk6+Dq1JpQpyk7btPefSSYng6tTrRcqcsrlHVaro3Hp3ipO7jKFujmzv36D8a1a8qeXpdpro+REfxoiM17P+63xS4Fi1JXTWnSvgzuFBY163lT0+E/tuLtOopK8XdFeLw/iiY+vL5L87a3AB1cwAAAAAAAAAAAAAAAGDnYl1LyzJ5eMpZdlv2kdnT4nSK2P9xf4lL/ADIgbAGbBoBcwakDDZgqGMGGzLNWaxhsjkzeRHIuEoZs4GA4QjTxlXDzlz5NuN+lbVq9dj39D+R35opVMBSdVVZUouotkmryX9XKxsL9GoW4yOfT0LdKRNoI6WDDQTMnntDtWWjRixuashbUGxhoN1gw4mTJjUYwX7ar+7D/AFG5rhF+uq/uw+siq+039LwALcgAAAAAAAAAAAAAAAEdLZ3v6s3NaWzvf1ZuBgGQBgGQAAAAAAAAAAAAAAAAAAAGCnjasXHKnrGpSuv/ANIlqpTUlZ7Pm0UsVhVGLd5PNOirN7Epxsk9v/IFq5gGGysSyYuYBoAyYZrGDDMmrNZLWRq0btGMpTEbiRSgWspq4jRWUSWDMSiZRU9izBm5DBkqZxtC6yyzVmxho4y6xLUAwzFMGQDFMGMJ+2q/uw+sjJrg1+uq/uw+siq+029LwALcgAAAAAAAAAAAAAAAGlLZ3v6s3NKWzvf1ZuAAAAAAAAAAAAAAAAAAAAAAAAAK2P8AcX+JS/zIk1STSuouT3K38zn4jETlmUqbjGM6Ljvd6ivre3R/VwLjNbGwLS1BsYDAwwYNA1NjFjWSwZSM2MjW4xYNG1hYzRDKJHYsSRFKJUSyWIsmiyAlixJCUGEzJytDpEtWjVkjNWjnMOkS0DZlmskSti7GD/bVf3YfWRgYJ/rqv7sP9RVfbL+l8AFuIAAAAAAAAAAAAAAADSls739WbmlLZ3v6s3AAAAAAAAAAAAAAAAAAAAAAAAAwVuEHamuj9ZS/zIlo1lFNWaTW5gQcZHrLxQ4yPWXiiT8PT6kfKjE8PG2lODfxSS+husxGq0XslHxXQY42PWj4ojo0J8dLPTpqnljltZ87W/Qn/wAFr8PDqR8qN0xA6setHxQ4yPWXiif8PT6kfKh+Hh1I+VDkYrurFf2l4oyqkesvFG9SgtMtKm997J92mpHgaF6adSnaTb0koXSvonl02DkY24yPWj4ozxketHxRL+Hh1I+VD8PDqR8qGmI+Mj1o+KMcbHrR8US/h4dSPlRVq4d8dDLCPF/2ubC2x7b67rW+NzNMSupHrR8URynHrLxRZ/D0+pHyofh6fUj5UbyMUXOPWj4ozGrHrLxRd/Dw6kfKh+Hh1I+VG808VeFaLvzlp8UScbHrR8UR4ehedTNTSjdZc0Yd7Vuj4P8AmWPw9PqR8qM1WI+Mj1o+KHGR6y8USfh6fUj5UPw9PqR8qJlUSgc49aPijRVYtXUlZ/Enq4eOV5acHKzsmklfovoR4PD/AKqPGwjxludpHb3Inirkjc49aPijOBadarZp82Gz/wCxa/Dw6kfKjaFOMfdSXyVhEYTbYxuACkAAAAAAAAAAAAAAAANKWzvf1ZuaUtne/qzcAAAAAAAAAAAAAAAAAAAAAAAAAAABgyAMAixOIjSjmle10tFd3bsit7Uh1anlNyRfBR9pw6lTymfaUepU8oyRcBU9oR6lTymfx67Op5Rki2Cp+OXZ1PKZ/Grs6nlMwWjBW/Gf9up5f9x+M/7dTy/7gWTJV/Gf9up5f9x+N/7dXygWgVPxq7Op5f8Acfj12dTyhuStGSn7Qj1KnlHtGPUqeUaZK4Cl7Th1KnlMPhSHVqeUacZXQV8LjY1W1FSTST5yto/+CwGMgAAAAAAAAAAAAAAAAAAAANKWzvf1ZuaUtne/qzcAAAAAAAAAAAAAAAAAAAAAAAAAAAAAAo8L/sV+/D/3RRjt7i1ja9OrSsp258bNxb1XO2brJ6kWHwzqLNCpFrVe69vidaWiI7TMMQ6TdbBOi4SjGU43k9ObL4Lu1a8TSL1yOos17awkt1r7tq+Zc3qzJTm62mJ0JRTk5QSSu3Z7F3kE8QopTc0ovMvcltjtXzWV6ETaGcZW0bdBpShKUVKMoNNXWj+5HVrZXKLnFOMXJ82WxbfntWnxJ2GxCyZZWoV3NqKlFvLfZLXZ914kleUoRzScbK2xSe12WiJlUJGYKk8aot3qQ2Reilsk9HfvRa4ue+HgyJhcS1ZrIgrYlRjNupFKDSbyy3279U0SUW6l8s4vK7PmyX1+T8DMlcWge0je03rRcHHNKPOdlzZP+vmQKos+TjI5nKyWWW3Z/J+BnGVxepLYRz6Pn/IuPAzt70fB/crOg5KLVRWc3H3JbVdNPdqjclUeSqXgv9rP9yP1Z0zn8GUtXUU1JSSXutbLvp+DR0CocLztthkAGoAAAAAAAAAAAAAAAAAABpS2d7+rNzSls739WbgAAAAAAAiliIKpGm5JTkm4x6Wla9vFASg0pVIzipRd4tXTXShxiulfVq6+QG4MGqqJycb85JNr4O9vowNwYAGQacbHMo3WZptL4K2v5o2AyDFwBkGABkGnGLNlvzrXt8L2Mxmnez2Oz+YGwMACr7OpWtldr396W3Zv2WbVt2hNRoRp3yp853bbbbdrat/BJdxrLF04uzmk/s1H6yS7ya4EVbDQm05J3jss2vp8k+4jhgKaaaTupOWspPVu72vXXwLEZp3s9js/mZAxOCknFq6as18CusBTSS59ldr9ZPa9r27em+93J41ItySd3F2a3O1/o0bAa0qahFRjsXxv+b2kc8JBzc9VJq11KS+j+XgtxvWrxglme12SSbbfwS1NwIKODp03eMbO1r3b06dvS7K76bIkr0Y1IuMtjtsbWx3WqNzDmk0r6u9u7/kCtLg6k76S1VtJyWnc/gl8klsLSRhzV1G+ru0vl/yYhUjJySd3F2l8HZO3g14gV58H0pZrxfOd3zpLpvv06fF72S0MNCnmyRtmd3q/6S1enxJbms6sYuKbs5O0Vvdm7eCfgBrWw8alsyejurNr6Ef4GnmzWd3JSfOlq1svrqlttvJqtWMIuUmlFbWyD8fTsneSvLKk4TUm7X9219moFkrRwMErc+2bP78/eu3v2Xb02E1KtGcVKEk0+lfDaKVVTjmi7rWz32dgMUKEaccsVZfNv82SAAZBHKtFSUXJKT2K+3+rPwFKrGcVKLun/XcwJAaVKihFyk7RW1mwGQYAGQYAGQYAGQaU6sZK8Wmk2r/FNp/mmbAZBBVxUISUZN5n0KLdlvdlovizH4ynn4u7cr2dotpO17OSVk/gwLAK9DG06jSjK7aurprMt6vtXyJwNaWzvf1ZuaUtne/qzcAAAAAAHOx+DnUqxnCycINxf9/NFpfJpNP4NnRAHDw2ExCjSi1KLSpaqfNhFW4yLSerauk7PatljFHBV4UacIqcVGGWS4y7lz4Xyu+l4qST0tfoO6AOTTw9XjoS/WxppK0XNPLq8yleWt7rf3WN8VhKjrupC6dqKTUrKyqSz3XTzX0nTAHDWFxVk4uSmklPNUupyd4ynHV2STzW02JWL/B9GrGM1Wk275Y665IpJP5vV95cMgefo8GVY0aKSnGdKjKP7R61Lws731XNej0+BfwFCrGrUdRyabl0rK1mvGyvdWjpsXftOiAOPDA1FOyzxg8RKc3xj50HCdra3XOcbrQ0p0cWnUmotNZJQpud05Zpqau5PRxcdyulojtgDhV8DikqijUqSlxbVOakkr8XbW70ee7vbdr0EtfDVo1JcWpzg4W503t091518Xql+8jsADlcF4atGUZVtqjVjdu7s6t4La/7Ful/MxVoV+NjJZpJVXo5c1QclrpJO6V7KzXRbW51gBzcbRrSq3hmtljkalZQmpPM5q/OTWXTXY9lyrTw1dN541J01J6KplqSdtG3ntZa7Gr32aHcAHGxGBrTndq6Tla8ls46nJflFkOIwWIqcZmhLJnpSUVUavlrZpWefqr+70aaHfAHExuDxM1PJKSeStxdqlrTahxV9ehqW3QxgcQ5YyalKV06iSz3Wj0coZubZKy0V7/I7YA4+LwdZ1Jyg5KEp3tBpS/ZxSe1bGno/hoyKvhMT+sy8Y+fmjeXve9zXaa5iurWytWV07M7wAoY7CyqSoSjpKnJyvmaSfFyS+erRUoYOu5wzOpGmnFyi6t25KM8zun7rbhp8NiO0AOZwrhq1SS4uUklSq2yzcf1rcMj+OyXwIquErpVIwlLLapk57vqoZdW77c/yOwAOZTw1eM7RlaCdSzm3NWbg43V03sn06EE8LXjWqThFtublfjMsJR4mMctruzc1ttpbadoAcOhg62anKpGbyVZOKztOMXBavnu6zX0u9oXB9WcaCmqilCd6snVfOfEzi5Rs9FmktFb5aHcAHOrYapPDUlKzqwdKck9kpQcZNX7nZ77MilGvKcJypycYVW1G9NSUHSa32957zrAClhKE1Gq3zZVZuSje+XmqK136XfxZTpUqksPR4q8VHDuNlK1qiUYpNfB5r/I7ASArYWnOLqKTdnLmXd9MqX1TfeYp0qqknKd106/7Fsw1cDk8fGtXioU24pxm582OZq6Td3dpfBbbd8+Cp56NWzcVOdRxa3NvnL5vXvLdOgo2tfRWXwX9W8ESJAcOeExVSE41P7cJSsp7JvmqK+CSv8ANklTB11JJSqcWpztad5K7i4ttyV172jvt2HZAHOwGGqwqNzcmpKV7zclfjG42V9Oa+giqUK16mlRyc75lUtGVPOnkir82WXS9lseup1gBxHgsRJauatbKuMd0uObs2nq+L06fm9pHWoV8ypRdRyy1XBqo7R/Xfq5S15yUWtNdNDvADiyw2JnUn70ISlDZN7FV51nmdrw3KO2wlhMRmnd1GnLZGaSlDOmlF5rpqOnR067GdoyBy4YKbwVSk4tSlx1lm150pON5J/FdJrHD1uMi0pxV4ZW53UIJLPGSzPNJ87XXatdDrADmcJUKjnmoxmquVJVIyio7W0qkW+dFX3X1drGKdKvTlkhHmus5ufNs4Slmad9U1drT4HUAHHwmEq5cLCUMnEPNKTcXd5JRtGz/vbXu+J1zIA0pbO9/Vm5pS2d7+rNwAAAAAAUsViWqsaedU043zO2rvZRjfT59xH7Yp9WfgvuYfC9Lqy8F9wNZcMJWvTlbLm2r3dbPvy9ya7taXCkpTSyx508q53NteaupdL/AFct3vIkfC1Lqy8F9x7WpdWXgvuBNjsRONDNTSdR2UU9Vdv4bdClLhaXPmop08qcE9G+ZKTcn0J83o6V3WPa9Pqz8F9zEuGaXTGWumxa6fP4Aay4XSlldN+8ot5la7/O19mngtSTD8IN0qlScbKCcrrpjZyXflt4mkeGKL1UZP42X3MvhmktLS1+C+4EL4SqxhmnBZ4u06fSkqbm3fXbpY3q8NRi5JRvaVk8ySfNm3q+nmW0vtRt7bo5stpZtNNL63t0/B+BouF8PKV8rco36Fprr070BJHhaLlBOOVzk0k3rZNrNbZbmvp2Ik4RxroqLWqtOUunmxg3p35V3kEuGqGxp9KtZd62mY8OUWk0pWezRa/mBLRqVXWcJSVo04SlaO2UnJWTv/dfiitieEaqlVjBRvdKk2nbblk5f/Zpd5NHhqk9UpP5Jfcz7Xp9WfgvuBDU4aTjJU0nLVQbfNlpG1t758dPnqbz4YUct4NuSk1FNZnFKTT10V8r2vcbe1qXUl4L7h8LUupLwX3AuYWtxlOM1skr9P8ANImOd7Yp9WfgvuPbFPqz8F9wOiCj7Uhul4L7j2pDdLwX3AvAo+1IbpeC+49qQ3S8F9wLwKPtSG6XgvuYfC1NWupa6LZ9wL4Of7YpfHV2Wzbe1toXC9K7VpXW1afc3JHQBQfC1NWTUtdmz7mfalPdL8vuYLwOdHhik20s110afc39qU90vBfcYLwKPtSnul+X3HtSG6XgvuBeBR9qQ3S8F9x7Uhul4L7gXgUfakN0vBfce1IbpeC+4F4FNcIw3S/L7mfaEN0vyAtgqe0IbpfkPaEN0vyAtgqe0IbpfkPaEN0vyAtgqe0IbpfkPaEN0vyAtgqe0IbpfkPaEN0vyAtgqe0IbpfkPaEN0vyAtgqe0IbpfkPaEN0vyAtN22mvGLeVnjIz5qTv8TMWBZzIzcgTNkzNZremrLvf1NivWxUKavOSiviRR4Tov/qL8xpq6LkFPEwlpGSfyZu5DTW+ZDMiJsXGmub7Gl14+DHsaXXj4M7INa43saXXj4MexpdePgzsgDjexpdePgzStwFKccrmvmr3O4APO1P0Zzbanh872+Rh/outf1m2/wCfxPRgDgy/R9uanxiuvh8/v+Qpfo84yk1UXObb03tv+Z3gBwI/o81JS4xXTbWj6W3/ADYf6O3jGLmmo2tt6E1/M74A4VHgGUE0qi6Oh7Ekv5EnsaXXj4M7IA43saXXj4MexpdePgzsgDjexpdePgx7Gl14+DOyAOV7Kl114MeypddeDOqAOV7Kl114MeypddeDOqAOV7Kl114Mjq8DSlbnpWaexnZBsTnY4ceALRUVU5qlmS263vtfxEuAW5ZuM6b5f7N9NbdyO4Dedvo8/H9Gkv8AqN6d+2+1I2h+jqi01PVNPVblb+vmd4Gz5Lz+xwan6PZr3qPa2ui12m/p0mP/AObWzjHtv+d/57Dvgfkt9HDocAZHdTWy2q+X2/Mn9lS668GdUEzMz3I5XsqXXXgx7Kl114M6oMHK9lS668GPZUuuvBnVAHOXB0usvAezpdZeB0QBzvZ0usvAezpdZeB0QBzvZ0usvAezpdZeB0QBzvZ0usvAezpdZeB0QBzvZ0usvAezpdZeB0QBzvZ0usvAezpdZeB0QBzvZ0usvAezpdZeB0QBzlg3DnNpkiZYxHuPuKiZjEqZFi8TxVKc7Xypu299BtcrcJQz4erHfCX0MY8rj+FKmIqSaV4J2ityK8KVRu2ay/I1wclGld72T0cWpf2bGTM/p0iIT1KkqCjVpzbcVzl8/wCR6zg/F8fQhVy5cy2d9jxLxedSjlVmnr3Hr+CKUqeGpxm7yUfla+tu7YO/2m39LzZq2YuGwldABagAAAAAAAAAAAAAAAAAAAAAAAAAAAAAAAAAAAAAAAAAAAAAAAAAAAAAAAAAAAAAAAEOK9x931KSZcxfuPu+pRMY3uLmlzDkB5jF4TipODVtW18m9CspRg9DpfpBiqfMSd5q97dC3M4edPW9iJjvt0rZcwqjKastWz2dzxvA1Smq6c5WVm7vZdbz1immrp3T6TYhNp1NcXIsxm4S6oPl/KPjeyw3lqesco+N7LDeWp6y2vqAPl/KPjeyw3lqesco+N7LDeWp6wPqAPl/KPjeyw3lqesco+N7LDeWp6wPqAPl/KPjeyw3lqesco+N7LDeWp6wPqAPl/KPjeyw3lqesco+N7LDeWp6wPqAPl/KPjeyw3lqesco+N7LDeWp6wPqAPl/KPjeyw3lqesco+N7LDeWp6wPqAPl/KPjeyw3lqesco+N7LDeWp6wPqAPl/KPjeyw3lqesco+N7LDeWp6wPqAPl/KPjeyw3lqesco+N7LDeWp6wPqAPl/KPjeyw3lqesco+N7LDeWp6wPqAPl/KPjeyw3lqesco+N7LDeWp6wPqAPl/KPjeyw3lqesco+N7LDeWp6wPqAPl/KPjeyw3lqesco+N7LDeWp6wPqAPl/KPjeyw3lqesco+N7LDeWp6wPqAPl/KPjeyw3lqesco+N7LDeWp6wPqAPl/KPjeyw3lqesco+N7LDeWp6wPqAPl/KPjeyw3lqesco+N7LDeWp6wPqAPl/KPjeyw3lqesco+N7LDeWp6wPqAPl/KPjeyw3lqesco+N7LDeWp6wPqAPl/KPjeyw3lqesco+N7LDeWp6wPqAPl/KPjeyw3lqesco+N7LDeWp6wPqAPl/KPjeyw3lqesco+N7LDeWp6wPqAPl/KPjeyw3lqesco+N7LDeWp6wPqAPl/KPjeyw3lqesco+N7LDeWp6wPpOM/Zvu+pznI8JV/8AkPGSVnSw9v3Z+sq1/wBM8TOLi6dFJ7lNf6gyXuq3CNOLtfM9yORjuEak+bGWVPa10L5nkF+kVW9+LpX+U/Ua1OH6sv7FNfLOv9R1iaQjLS7OKmsyt0dHwMcVfXU4PtaXZ0//AD9RPHh+olbi6X/n6jlfuddK9RkurRnlmmtGth1sBj505OF+a+clttvSPHPhafZ0/wDz9RKuHqunMp3Wx8/1F1mIjJRaJnt9GocIwlZN2b8GXLnzCX6RVX/06XhP1Fuh+meJhHKoUWlvU3/qJtFf02u/t5wAGKAAAAAAAAAAAAAAAAAAAAAAAAAAAAAAAAAAAAAAAAAAAAAAAAAAAAAAAAAAAAAAAAAAAAAAAAAAAAAAAAAAAAAAAAAAAAAAAAAAAAAAAAAAAAAAAAAAAAAAAAAAAAAAAAAAAAAAAAAAAAAAAAAAAAAAAAAAAAAAAAAAAAAAAAAAAAAAAAAAAAAAAAAAAAAAAAAAAAAAAAAAAAAAAAAAAAAAAAAAAAAAAAAAAAAAAAAAAAAH/9k=\n"
                },
                "metadata": {}
              }
            ]
          }
        },
        "7fdb85e002c444a2a114d44a7444347a": {
          "model_module": "@jupyter-widgets/base",
          "model_name": "LayoutModel",
          "model_module_version": "1.2.0",
          "state": {
            "_model_module": "@jupyter-widgets/base",
            "_model_module_version": "1.2.0",
            "_model_name": "LayoutModel",
            "_view_count": null,
            "_view_module": "@jupyter-widgets/base",
            "_view_module_version": "1.2.0",
            "_view_name": "LayoutView",
            "align_content": null,
            "align_items": null,
            "align_self": null,
            "border": null,
            "bottom": null,
            "display": null,
            "flex": null,
            "flex_flow": null,
            "grid_area": null,
            "grid_auto_columns": null,
            "grid_auto_flow": null,
            "grid_auto_rows": null,
            "grid_column": null,
            "grid_gap": null,
            "grid_row": null,
            "grid_template_areas": null,
            "grid_template_columns": null,
            "grid_template_rows": null,
            "height": null,
            "justify_content": null,
            "justify_items": null,
            "left": null,
            "margin": null,
            "max_height": null,
            "max_width": null,
            "min_height": null,
            "min_width": null,
            "object_fit": null,
            "object_position": null,
            "order": null,
            "overflow": null,
            "overflow_x": null,
            "overflow_y": null,
            "padding": null,
            "right": null,
            "top": null,
            "visibility": null,
            "width": null
          }
        }
      }
    }
  },
  "cells": [
    {
      "cell_type": "markdown",
      "metadata": {
        "id": "view-in-github",
        "colab_type": "text"
      },
      "source": [
        "<a href=\"https://colab.research.google.com/github/DL4CV-NPTEL/Deep-Learning-For-Computer-Vision/blob/main/notebooks/Week_4/Week_4_Lecture_6.ipynb\" target=\"_parent\"><img src=\"https://colab.research.google.com/assets/colab-badge.svg\" alt=\"Open In Colab\"/></a>"
      ]
    },
    {
      "cell_type": "markdown",
      "source": [
        "# Lecture 6: Gradient Descent and Variants Part 2"
      ],
      "metadata": {
        "id": "3JdIPfdtt2TU"
      }
    },
    {
      "cell_type": "code",
      "source": [
        "#@title \n",
        "from ipywidgets import widgets\n",
        "out1 = widgets.Output()\n",
        "with out1:\n",
        "  from IPython.display import YouTubeVideo\n",
        "  video = YouTubeVideo(id=f\"g_bV6bo5dL0\", width=854, height=480, fs=1, rel=0)\n",
        "  print(\"Video available at https://youtube.com/watch?v=\" + video.id)\n",
        "  display(video)\n",
        "display(out1)"
      ],
      "metadata": {
        "colab": {
          "base_uri": "https://localhost:8080/",
          "height": 519,
          "referenced_widgets": [
            "910dde57d85347c4acea2e54e01f7d35",
            "7fdb85e002c444a2a114d44a7444347a"
          ]
        },
        "cellView": "form",
        "id": "rA0FZ1_3t3nO",
        "outputId": "dddb1d20-d81e-4603-c90f-beda490a51b4"
      },
      "execution_count": 45,
      "outputs": [
        {
          "output_type": "display_data",
          "data": {
            "text/plain": [
              "Output()"
            ],
            "application/vnd.jupyter.widget-view+json": {
              "version_major": 2,
              "version_minor": 0,
              "model_id": "910dde57d85347c4acea2e54e01f7d35"
            }
          },
          "metadata": {}
        }
      ]
    },
    {
      "cell_type": "code",
      "source": [
        "#@title \n",
        "from IPython import display as IPyDisplay\n",
        "IPyDisplay.HTML(\n",
        "    f\"\"\"\n",
        "  <div>\n",
        "    <a href= \"https://github.com/DL4CV-NPTEL/Deep-Learning-For-Computer-Vision/blob/main/Slides/Week_4/DL4CV_Week04_Part03.pdf\" target=\"_blank\">\n",
        "    <img src=\"https://github.com/DL4CV-NPTEL/Deep-Learning-For-Computer-Vision/blob/main/Data/Slides_Logo.png?raw=1\"\n",
        "  alt=\"button link to Airtable\" style=\"width:200px\"></a>\n",
        "    </div>\"\"\" )"
      ],
      "metadata": {
        "colab": {
          "base_uri": "https://localhost:8080/",
          "height": 100
        },
        "cellView": "form",
        "id": "WrHo4zh4t_Km",
        "outputId": "c9fd8ff7-2366-4512-dfef-349267698a0d"
      },
      "execution_count": 44,
      "outputs": [
        {
          "output_type": "execute_result",
          "data": {
            "text/plain": [
              "<IPython.core.display.HTML object>"
            ],
            "text/html": [
              "\n",
              "  <div>\n",
              "    <a href= \"https://github.com/DL4CV-NPTEL/Deep-Learning-For-Computer-Vision/blob/main/Slides/Week_4/DL4CV_Week04_Part03.pdf\" target=\"_blank\">\n",
              "    <img src=\"https://github.com/DL4CV-NPTEL/Deep-Learning-For-Computer-Vision/blob/main/Data/Slides_Logo.png?raw=1\"\n",
              "  alt=\"button link to Airtable\" style=\"width:200px\"></a>\n",
              "    </div>"
            ]
          },
          "metadata": {},
          "execution_count": 44
        }
      ]
    },
    {
      "cell_type": "code",
      "source": [
        ""
      ],
      "metadata": {
        "id": "wvT7F0cyuLI4"
      },
      "execution_count": null,
      "outputs": []
    }
  ]
}