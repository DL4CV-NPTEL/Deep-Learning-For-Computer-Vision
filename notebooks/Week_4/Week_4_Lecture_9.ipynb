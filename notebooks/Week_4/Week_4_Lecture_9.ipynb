{
  "nbformat": 4,
  "nbformat_minor": 0,
  "metadata": {
    "colab": {
      "name": "Week_4_Lecture_9.ipynb",
      "provenance": [],
      "include_colab_link": true
    },
    "kernelspec": {
      "name": "python3",
      "display_name": "Python 3"
    },
    "language_info": {
      "name": "python"
    },
    "widgets": {
      "application/vnd.jupyter.widget-state+json": {
        "aca5300fa1dc4a99aa49db2de2d499a0": {
          "model_module": "@jupyter-widgets/output",
          "model_name": "OutputModel",
          "model_module_version": "1.0.0",
          "state": {
            "_dom_classes": [],
            "_model_module": "@jupyter-widgets/output",
            "_model_module_version": "1.0.0",
            "_model_name": "OutputModel",
            "_view_count": null,
            "_view_module": "@jupyter-widgets/output",
            "_view_module_version": "1.0.0",
            "_view_name": "OutputView",
            "layout": "IPY_MODEL_a1186b8b01df4c6aa8d0d874951c2d90",
            "msg_id": "",
            "outputs": [
              {
                "output_type": "stream",
                "name": "stdout",
                "text": [
                  "Video available at https://youtube.com/watch?v=9Z5C-bOMafs\n"
                ]
              },
              {
                "output_type": "display_data",
                "data": {
                  "text/plain": "<IPython.lib.display.YouTubeVideo at 0x7fa0b5c53c50>",
                  "text/html": "\n        <iframe\n            width=\"854\"\n            height=\"480\"\n            src=\"https://www.youtube.com/embed/9Z5C-bOMafs?fs=1&rel=0\"\n            frameborder=\"0\"\n            allowfullscreen\n        ></iframe>\n        ",
                  "image/jpeg": "/9j/4AAQSkZJRgABAQAAAQABAAD/2wCEABALDBoYFhsaGRoeHRsfIy8lIiIiIzEvKicuMik1Mi4qNTA1QlBFNDhLPSstRWFFS1NWW1xbNUFlbWVYbFBZW1cBERISGRYZMBsbMFdCN0BdV19XV1ddV1pXV11XV1dXV1dXV1dXV1dXV11XV1dXV1dXV1dXV1ddV1dXV1dXV1dXV//AABEIAWgB4AMBIgACEQEDEQH/xAAbAAEAAgMBAQAAAAAAAAAAAAAABAUBAwYCB//EAEoQAAIBAgMCCgcFBQYFBAMAAAABAgMRBBIhBTETF0FRUlNhkZLSBhUiMnGBoRRCscHRIzNzsvAkNGJygqIWQ1ST4URjg+IHNcL/xAAZAQEBAQEBAQAAAAAAAAAAAAAAAQIDBAX/xAAxEQEBAAIABQEECQQDAAAAAAAAAQIRAxIhMUFREyIygUNhcZGhscHR4QRC8PEjM1L/2gAMAwEAAhEDEQA/APn4AAAAAAAAAAAAAAAAAAAAAAAAAAAAAAAAAAAAAAAAAAAAAAAAAAAAAAAAAAAAAAAAAAAAAAAAAAAAAAAAAAAAAAAAAAAAAAAAAAAAAAAAAAAAAAAAAAAAAAAAAAAAAAAAAAAAAAAAAAAAAAAAAAAAAAAAAAAAAAAAOt4vMZ1mH8U/KOLzGdZh/FPygckDreLzGdZh/FPyji8xnWYfxT8oHJA63i8xnWYfxT8o4vMZ1mH8U/KByQOt4vMZ1mH8U/KOLzGdZh/FPygckDreLzGdZh/FPyji8xnWYfxT8oHJA63i8xnWYfxT8o4vMZ1mH8U/KByQOt4vMZ1mH8U/KOLzGdZh/FPygckDreLzGdZh/FPyji8xnWYfxT8oHJA63i8xnWYfxT8o4vMZ1mH8U/KByQOt4vMZ1mH8U/KOLzGdZh/FPygckDreLzGdZh/FPyji8xnWYfxT8oHJA63i8xnWYfxT8o4vMZ1mH8U/KByQOt4vMZ1mH8U/KOLzGdZh/FPygckDreLzGdZh/FPyji8xnWYfxT8oHJA63i8xnWYfxT8o4vMZ1mH8U/KByQOt4vMZ1mH8U/KOLzGdZh/FPygckDreLzGdZh/FPyji8xnWYfxT8oHJA63i8xnWYfxT8o4vMZ1mH8U/KByQOt4vMZ1mH8U/KOLzGdZh/FPygckDreLzGdZh/FPyji8xnWYfxT8oHJA63i8xnWYfxT8o4vMZ1mH8U/KByQOt4vMZ1mH8U/KOLzGdZh/FPygckDreLzGdZh/FPyji8xnWYfxT8oHJA63i8xnWYfxT8o4vMZ1mH8U/KByQOt4vMZ1mH8U/KOLzGdZh/FPygckDreLzGdZh/FPyji8xnWYfxT8oHJA63i8xnWYfxT8plf8A47xj/wCbh/FPygciDsOLjG9bh/FPyDi4xvW4fxT8gHHg7Di4xvW4fxT8g4uMb1uH8U/IBx4Ow4uMb1uH8U/IOLjG9bh/FPyAfSDw60VNQzLO05KPK0t7PZz1epNzli1C8KdX2Z5l+7jeEtObWcu4ldMMOZ0J5lUinGLaTlfKueyu7FXTxDqVailiXTkpOEKUcmqy+zK0k2275r7vqRdm1puhhYU67cpxkm/Zbg1Suo7uR666842vsrp0AKNbUlOnKpKU6UVkp2jkvwm+avLRJaK77ew00cVKo8LUnXcFwlWGa8LSytqN3azbStp8htfY5ef86bdBTqRkrxaaTa0507Nd6PRRRx0pWVSvwEM1b27RV3Cq4xjeSa0jrzu3xNVTH13GU+EcMlGjUyqKs3KUlK902k0lpcbPY1f160acXOclGK3t7ka8PjKdW/BzUrb7Eb0g/ulS2+8f50MTWq0uDdWrCzqxi2o5UotPR3b5bFZxw3PrWAKSniqlZwUazjGTrvNBRd1CpaFrprcMPjpVHTdXEcD+ypzillXCOS9r3k7q+llz9qJtq8HKLmpUjBJyaim0lfnbskejn8PXlTjNKu5T+1Ri4yyXjF1rN2Surp/pY2UsfNyi+GzVJZ1Uo2j+yUYyaeiurNRV29c3wGz2N8LwHPQxddQaddXlQpVc08kVFylaSTtZXW699S22VX4ShGWaUtZK8nFt2k1vjo1po1yDbOXDuM2lgArmAAAAAAAAAAAAAAAAAAAAAAAAAAAAAAAAAAAAAAAAAAAAAB6hvR5PUN6A3GDJXbTx8qeWFNXqS3fl2Et1Fk2sAVVHDWUXVrTnObt7M7RT5lbf/Wh6jtDgakKVVpxm7QqJtq/Rlvs/n3CVeX0WgMGSstFjGXsJAAj5eW2vwCj2fQkACO48lvoMvZ9CQAI7j2fQZewkACPl7A433q/yJAAj5ewZd2m7doSABHy9n0GXs+hIAEfL2fQKPYSABosLG8AaLCxvAGiwsbwBosLG8AaLCxvAGiwsbwBosLG8AaLCxvAGiwsbwBosLG8AaLCxvAGiwsbwBosLG8AaLCxvAGiwsbwBosLG8AaLCxvAGiwsbwBosZgtTcABT4iLWPg9NYvLfdfK/wCtC4NGKwqqpX0cXeMlvT5zOU2sulHjOFdX2cnve1a9m7x/r+nfzt3+4LM4WzRyWutdd757X3FtXqxpqOeEnKDzLg4N3037rLvK2eDrYyqnUpujh4u+Vv2p/G3P/VyuuGXWW+FzgJSlRpuXvOEW/jYkGErGSuIAAAAAGDxXqZISl0U33IpsJjNoVqUKsaeGyzSkk5TTs93ITbeOFym16CJgqleV+HpwhzZZ5r/RWJZWbNXQDViK8aUJVJyUYRTcm+RIg0NvUKmdJ1FKEOEcJUpxk4dKMWryXwCLMHlTTSfOr6mbrnAyDGZWvfQ1OuuEVP2szi5e67WTS37r67gNwI8cbTdZ0U/2kYKbVvuttJ33b0yQAAAAGDEJqWqf9Xt+QHoGutXhTV5zjFc8ml+JG9bYb/qKXjj+pdVLlJ3qaCPh8bSqtqnVhNrVqMk7dxrobSpzqOn7UZ62U4Sjmtvytq0vkTss96biYDBkAYMnmW4DNwc5sXZ/2jDwrVa2I4STlmaqyWqm1olu3E/aeJ+w4NzgnPg8qSnJtu8ktXv5SR0zwmN1vqtQRcdjqeHgpVG9ZKMVGLlKUnuSS1bI09u0FSjUXCSi82kaU245fezK3s27SuazBSL0ipcO4NpwlTpzpOKblN1G7JR37lclx2zQbSzO7rcBlyu+dK7Vua2t91gLAFFtrbcsPiKdGLoQU4OeevNxjo0rX59TOD9I4SoU6laEozm5KMKcZTzKD1nGyu42s725QLwFXhdrqri+BhaVN0I1ozT35pNWt8jz62lwuNp5FbDU4zi7+9mhKVn3AWwIuzMU6+Go1mknUpxm0uS6Tt9SUAAAAGuspOPsNJ3W/wCOoo5stpO7WjfPoBsAPM5qKbbSS1bfIB6BFwNeVWLm45YN+wuVx538ebmJQqS7mwABQAAAAAIeMpVnKLpysktVff7S/K5MMEs3NLLpXwwla0c1STeb2knay1v8eQUKdeLi5Xl7Tv7W9W0LAGeSLzUMgG2QAAAABE2o7Yat/Dl+DNewl/YsN/Ch/KjO2nbCV3/7cv5WNif3PDfwofyonl1+j+f6JpkArkibUoyqYerCEYTlKDSjUvkfY7chzVPZWLdPEQhTq0qU8PKCpVayqftHuyPXLG197+R2AA+f7dioVMRCWSdaUqHBvhFwkF7CcIwervr7umruWlX0eqTqOcqabeNzt5lfgHFJrfubvePKdU4q97amQOR9SVoRpKdDhqFOrWfAZo2yyl+zkk3Z2V9HuuZjsLF8FGOa0/slWmpZ75ZSqRlGF97tFWv2HXADndhbMnSxU6v2ZYenKhCCjmi/ajJ3ej7TogAAAAwRMZXVGE5KKb0UY7rylJpL5tkwrsQs+Lpw5IR4R/HWMV9ZP5FjOV1OjZhdnRj7dRKpVfvTkr/Jcy7CVwceZdx6Mi20mMjyopbkkV222lGj03Xp5PjmV/8AbmLMotv4pYethsRUu6UHNNJ6qUo2TS5eXvM3s7cGbzml4ZImzsd9ohnVOpTV7JVFZtc9uYllYssuqGDJgIqfRv8AcTj0a1Rf72Str7PWKw86Lk4KVvaSu1Zp8vwIvo4/2VX+PU/mLck7OnF+OqXGbCniIKNfEOo4zU4N042i1dar7yae41VPRiMoQhwtlHPmXBwytz3yUbWUlyPX5l+Cubnl6KU04SVSSqU6dOFOpZXhwbvdfHc1zHvC7Km9pVMTODhTjG0E2nmqWyyqJLd7KS11L4wBAxWyqdXEKtP2kqUqTg1dNSab/Ar5+i8XClHhm3RzRpucIztCVvYae+1lZl+ZApI7AdOrGpQxEqTjRjR0pwaaTbva1k7vkQxOwZznUnDEzhKtTVOtaEXnsmsy6Ls3uLsAacJh40aVOlC+WnFRjffZKyNwAAAAYMR3v4/kj0eY738fyQGSurv7RUdJfuoP9q+k96p/Dc33G3H4iSy06f72p7v+Fcs32L8bI34XDxpQUI7lyve3yt9rZqdOrF966bUjIBlsAAAAAAAAMGTVXrxpq8nZEtkm6SbbAcztdvEVYToYqEIU/eTm45dfety/1zl5h9oUqllCeb5Mzzzy7ZcK44y/5EsGDJtxAAAAAEPa0c2FrLnpy/lZ42G/7Hhv4UP5USMb+5qf5JfgRPR5/wBhw38KP4E8uv0fz/RZGGzXiZSVObgrzUW4rndtEVNWnW4HESnUqShZJKSSurLO7JJrlSuVyXMJqSTTunqmITUtzvZ2+a3lZi51ZVoxpurGGt5Rirblls2nyvf/AIe+Rhf3+It7vseLLr9MoE0FfJYm7s3a/PD9Dfja7pUpVOSCu9L6LfoBINdKvGbmle8JZXdctk/waNMqlROKcqd5btHzX5zRSzQnVaqQlKTvNJN2dkty+CAsgV88ZNShFyheb0WSX5vQngZBgACv2a89WvV5JSyx/wAsLx/mzG3aGKyRyQ1rT0hHt6T7FvNmEoKlGNOO6MUvjv1Ndox3y+xvMgGWwocTBS2tR4VXjwLdJPdnUvafxsXpSek0XTjRxS34eonL/JLSS/AldeD8WvXcXZk8xkmk1qmeiuQYMmAKn0c/d110cRVX+4tin9H/AGZ4yPKsTN+JJkvauHlUhBRV2qkJPW2ileX0uvmSdnXjfHU0FHSwVeLTjTs81bfPTLK+RaO9lpot3Ieaez62ScHB2koZXnScJJWcrLv3u/LvZXJY7X2isNRc2s0m8sI9KT3IrcPhXXaVfF1XOV2o0m6cPZdpKLWsrPS7Ie2qNSlh6FSpC3BVbzs7pvMnn7L2enJexY4TB1Iqi1FSVGNRxeZWqZvds+TTff6k8u0txwlnnf6Iu0ak8Ffg8XUbtmjTqxzp+1GPvuz3yXKdHG9td/LY5X0tpzq4jB04rWTaavv1i38ll3lphMLOM51Z07PfFcJdL2Emu1t3u32CdzidcMbe92tzXKslOMHdOSbT5HbevjykDaVOrWoxUKbvKN37dnC9r/F2zWfIzLo2lh4RjlanKo1dvKsslvfbJf0iuKyMmA3beBkEaWNpptOS052l+LNMtsUF/wAxN/4Wpfy3Lqs3LGd6nGjEYiNKE5y3Lm3t2Vku1kf1on7tGvL/AONpd8rHilCdaqqlSnKMIawg3FvNb33Ztbt3xZdeqXLfwt2Aw8lmq1P3tTf/AIVyQXw/G5NPGZ9F/T9RnfRf0/Ulu2pNTT2DVCvFycfvLkNpFAAAAAAAACt2z+7RZELGwjO0JZvjFficuNhc8LjG+HZjlLXEz96r/X3kXXo/vh/XKSqey8N7V6dWTlfV351orG7CYSlRacVW03XjflPPf6fPo9/F/qsM8LjFwZMJmT2vmgAAAACHterkwteXNTk/oVmx9s4WnhaEJV4KUacU03ueVXL2UU1Z6pkV7Kwz14Cl4I/oR1xyx5eXLaLP0kwUd+Ij8k3+CNmB25hsRPg6VTNK17ZZLT5rtJUMDRj7tKmvhFG5RS3IdUt4eukv3/wQgopJKyWiQhBR3K2t/m956BXMNWJoRq05U5XyyVnZ20e82gCNUwVOUoylFNx5Wk76W1PVDCQpuTirZm2/i3d/Vm8AYcVzAyAK6rgZzq5nOai96jUkuTkSPT2VB751n/8ANP8AJk8F3WbjKi4fZ9Kldwi03vk5Nyfxbdz3SwygrZpPV6uT57/mbwRZJOzxwfa+9jg+197PYCo6jUVTS2Tlve+79Sl2xtGtlr0J4OrNTjKMJ01mi01o3zPsOiMEs23hlMbuzaLsqlKGGown78acVL4pEswZKzbu7DBkBFFW2LX4erVoYt0o1Wm4qmnqlbeyXgMJiacv2uJ4aHM6aT70WQJp0vFys1fyjBkGutVUISk90U2/krlc0Pbkqyw8uApRqzejjLVWe/Tl+Bz+AobTppRo01Cnb3ask1F8uXlS7Ls2U/SyVZ8FCkoVKulGXCJpXdry5mt9uUu8diquHoxlGnw7j+8bkoWSWs3f4Gel6vZJnwpyXGdfX/elRS2Lj3WdeeJpKq45U8mbKuZLREujsjFcLTqVcdOag75YwUU1zO288z25UngHiYU+ClmSWf2lZySctLaavuPKniaGLw8J4nhuGzZoZEkklfMrdxOhbxLvep3naePk6AWBk28bAMgCM8BRcszpU3J63yq5vUUtysegE1I8yinvMU6ajFRW5KyPYCgAA8qnFNtJJve7HoAAAAAAAAAAa+AhdvJG73uy1NgA1fZ6fQj4UFh4dCPcjaAPMIKKskkuZHoAAAAAAAwa61eFNZpyjFc8mkvqQfSOtOngq06cnGSjo1vWq3GnCejuFSjOVPhJNJuVSTlf5PQm3XHDHl5sql4Ha1DESlGlPM479Grq9rq+9X5UTTUsNBOLUIpwVo2W5Pel2G0rGWt+6yYMnO7WxU6W0qDdfJS4CpLI1dScWtLX1dvno+cMuhBxEPSfEcFXaqRk40adWDcY6OVRRaajJq1nubuuU3bVxld8NQnUjKVKvhnCajb35Xs0nqk1zgdiZKrYmKqzliadWSm6NXIpKOW6yxlqvmWoAAAAAANcaycpR5Yu30T/ADNhX7Ym1Ssrpzappres7Ub/ACTbLJtMrqbentajdpZ520vCnKS70rMetafRrf8Aan+hLpU1GKjFWSVkuw9F6M6y9UWjtCE5KKjUTfPTkl3tHnEbVo0qsaVSTjKVrNxeXXcs24mFV6Sy/srpq2atKNKN+eUl+VzN+p14WO8pMvK1MnmKskj0GQAAAAAMGQBX4vY2Hq0pU3TjFSea8Ek83SuuUj4rY0qipUeEthYRipU0vanl3Jy5txcGBp0nEynl4nRjKDg4pwayuNtLbrWImB2PQw8nKnC0rZbuTk0uZXeiKn0wxlei8M6E3F5pzlFffUI5nH5pMgYHb1V4nE13Uvh3ScqMJtqKSqqnF6JvVp8l9QzMrJqV2gOY/wCJqsaFarOjH9hUjGoryi3GSTvFTSeb2vddrm+ntyvUWHjTpUuFrU5VfaqPJGCassyTvLVbt2oZdADncN6TOrDOqSS+yvEay5YycXH4abz1sfaeIr4ySlkVF4elUUU9Yuab5teVb+Rc7A6AAAAAAAAAAAAAAAAAAAAAAAAAAAAAAAAFZ6RxvgcR/Db7tSTsypnw1GXSpxffFGrbqvg8R/Cl/KxsN/2LDfwofyonl1+i+f6J4BgrkyeZQTabSbW663GTIGtUIJWUI2+C+Jl04vkXdzbj0AMKKV7LfvPRgAZMGTAAGith3Jp52rdi51+n1NvBx6K7gPRA2hrWwsf/AHHJ/CMJfm0TeDj0V3ECcU8bBWVo0pPdyuUUvwZYxn20sQeeDj0V3Dg49FdxG3oqfSaEfsrqObhKlJVISSv7Sfs6Pfe9vmT6uHvJOMstt9lv1X6PvKz0tpt4OUkr8HKM2udJ6/iS9nXg/wDZj9qVsWWJlRUsVlzy1SirWVtz7SxNeHrRqQjOLvGSTT7GjYVjK7toAAyAAADBkADB4p1VK9tbOz+IHmvhadSUZTgpOF8rfJdWfetCP6nw2XLwEMuTg7W+7fNl79Tbi8VwVvYlK7S0tvbSS1+P0N1OTaTacXzMCJDY+Gja1GGklPd95Kyl8e0xPYuFlBQdCDjFtxVtzl71ua5ObtvPFatGnFzm7RW9gRa2yMNUUFOhTahHJFW0Uejbm7DZS2dRhONSNOMZxgqcWuSK3R+BJAGQRsVi+DcVklLM1FWtvfx+DfyN9OV0m01dbnvQHoGG7HitWjTWaTsrpX7W7L6sDYDxUmoxcnuWrPUZJpNap7mBkAAAAAAAAAAAAAAAAAAAAAAAEHbX90r/AMOX8rPOwf7lhv4UP5UbdqRzYasuenL8GaPR5/2HDfwo/gTy6/RfP9FkYAK5K54+axGIi4x4OlTjJe1ZttSb3q33ec1+uv2c5KndwcE1m3qdrNNrt/8AJMr7Po1JSlOCk5xyyvua1VmuX3pd7Nc9k0ZXvFtytd55Xdnda37F3ICJi8bKWXKnGdPExptKekrpPfyq0lyGx4x1uChZwzVZwmr8lPNdJ8zcV8rkl7MpXbtK7mqj9uXvJWT39iPMtnRioulpKNR1Fdt3bupb+dN/iB5rY+caypRouTacr5ktFJJt+LTns9x7wk2q9ale6iozj2Z8113xb+Z6hs2lGbmo+03d6vXXNuvz6nvD4dxnUnJ3lNrdyJaRX4v5sCQAAAI+Iw8ptNVZwt0ba96Zq+wz/wCorf7fKXTNt9EwrsG8+Jr1OS6pr/Srv6ya+RseAk9HiKzXxivqkbsLhFSWWLeVblzaa971+bL2TVtm28yYMmWw11qanCUZK8ZJp/BqzPUldWOels7aVPNCjiabpfcdS7mlzN2d/iS10wx5vOvtb/RWclRqUJb8PUlTvzrevx+heFfsfZiwtJxzOc5Sc6k396T3ssBOxxbMs7YAArmAACFtChObpZb2jJuSUrXWSSXx1a7iBSwWJUYxbvpTzPhG22ovO18XlLsAU1HCYhSoynrljGNRcI7Ta+92NfW+u4yqFXgoKm7VKc55k5WTbzZW+dXcX8C4AFS6WSVCNR3zVFpKTbTjT0e/feP1NuMw1SpVjZNU1vaqNN6NWstyTd/kixAETaOHnOFoSa1jokuSabepjHYWc6ShfP7cXK+l0pJtafAmGQK3CcLTahNudqblueXNmbtmtzafIxjqNapGE6d4SySvHNa0pRsvja77kWZgCnqvJXoxk4uTnmjGU25LRxb323fHVv4m+vhqk66dmqa5qjV/ds7Lda0tCxAETHYec8uWbVpRdklySu3qecfhpzhTivbyzUpJu2a12lpu9rL3E0AVOEqVacuDqTlONOn7cnBpN2j7r5eXl5ewnbPpuFCnGWjUUmubTcSDIAAAAAAAAAAAAAAAAAAAAAAAAGvEU88JRX3otd6OcwdLalClClCGHcYKybb1XedMU+O2641uAw9J4isveSdoxXbIl9XbhXL4ZJftR3iNrdRh3/q/+xL2XUxzqS+1QpRhbTI9b970NcNs17e3gayf+FxkvyLDA4p1YuTpVKVna1RJN9ujegaztk+GfL/aUAYbRXnZBgAZBi4AyAAAAAAxKSSu3ZdpiE1JXTTXOgPQBgDJgJmQMGQAAMHmpVjBXlJRXO3ZAewQPXOFzKKxFJt6K00ycFuNneMnmpNRi5PRJXfwR6NOLg5UqkUrtxaXxaCIWF2/hqzXBym7pyTdGoo2SvfM423Ik+sKX2f7Tn/Y5OEzWfu2ve1r7uw53YmDr06UKU8PioyVJwblWi6SeTkjmel9Fpym3CUcTPZ32KeFnTl9ndPhJSg45slluk3a/YBffb6WelDN7VaLlTVn7SSTb3ab1vJJzmBoYiricJOph5UY4alOMnKUXmlJRXs5W9PZ3ux0YAAAAAAAAAGJSSV27IxCakrpprnTA9AGAMgxcyAAAAAAAAAAAAAAAAAAAAAAYOf9E1rjXy/aZ3fz/wDLOgKD0ZWWvj482Ib77kvd2w+DL5fmvwZBXEOU9I8I62PoRjSpVmqFSShVvldpR5uU6sxYDhcJtWdDDYaFOqqcJSq8JKSiuCmtVQ9t2ja/Lq0tN5Owm1oQx0KuLqU6Up4GF25Wi3wkt1+86txT5DLQHJV9pUKWJx86lWMY18PTlSk3pUSjNezz70Xvo/TlDA4WMk1JUYJp717K0J7inyLTcZAyAAAAA8yimrPVM804KLaSSXMjYeI+8/kB7I2OxPBQ9lZpyeWEeeT3fLlfYiRJ2V2U88ZCEZY2tfg0stGK32b3pc8tPkl2lnrWbu3lx71Y4LDcFDLfNJ6yl0pPez3XxEKavUnGC55NJfUqNo7WqSq/ZcJFOta85y92kud9vYe8N6N0E89a+Iqv3p1Nb/6dyRne3ecOYyc/T6vKfQ2jQqSy061OcuaM033IklfW2FhZpJ0Kas7pwWV98bMsIqytzCM5cv8AbsOTxOChiNsTp17zp8EpRjmaS3Lk+fedYc5Sd9uT7MP+cf1Jk68C2c1npVn6iwlklQpqzTTSs9Hda7ywI2PxTpU1JRzSlKMIrcrykoq/ZqSI3trv5TTjcrl3r0DBkMgAAAwAMg8RqJtpNNrR2e4xKtFSUXJZnuV9f60fcBsBgyAAAHmcVJWeqZ4pQUW1FJLTRG08R96XyA9kfG4pUoXtmk3aEVvlJ7kjZWqxhFyk7RirtvkRDwdKVSf2iorNq1OD+5F8r/xPl5txZPNYyvid23A4VwTlN5qs9Zy/CK7FyEopNv7TWHq4ZSnKEHJznJcqivc7bto14WNXaC4SdV0qF7Rp0pe0/wDPJbn/AIUZuW6748HWMyvSL6c1FXbSXOzXTxNObtCcZPmUkyDS9HcJHXgYyfPO8vxJVDZ1CnLNTo04S3XjBJ96HVLMPFv3fykmTBkrAAAAAAAAAAAAAAAADBR7C/vm0P4kfwZeFB6MPNUx1R/exEkvgt34kveO2HwZ/L83QAwCuLIKejtepNU/2STqQnNe3osjSd9OW+gltxWpyUG4yhTm9dUqjstFutdb7X5ALcFetoT+0cBwcc3vJ59HDpbt99LfMifaJONKV2nXxDhJp6qEXNKK5vcXewLsyQNlVpSVWMm3wdWUIt72lZrXlte3yPOJx9SNVU40lJyjKSvO2kXFNvTS+bT4AWBkhYeTjiatP7uWNRdjk5Jr/bf5smgAYMgDwvefyPRFxmJ4KLaWabajCPSk9y+HPzJMTqluptqxj4ap9nXuaOs+zkh/q5ez4m7HYGFejKlNezJW+HM0ZwWG4KFm805PNOXSk97/AC+CJBb6JhuXm8ue2HsCrQrSq1qqk1fKot+1fTPO+925NbHQgyZk068TiZcS7yAAVgObw3/7yv8AwF//AAdIc3COXbkn0sP+a/Qld+D/AHfZVntfVUYrWTrU2l2RkpSfySPdXCzlXjO6UI8ilJN+602lppZ9542t7PATWklWhG/ZOSjJfBr8Ebqu0IQnleZ2lGLaWilLcvju70VwSjJAp7RXspqUpTcnFRW6MZZbt/Nd/YbsLUqZZOrFRs3ZJcnybAkg1Uq8Zuyv84tfiiJHGTy5nb2a3BtLlTllT+OqAnkKnhZ8PKpJrL91Kcv8WrW7c13E0jrFp1XSUZXWrelle9uW/wB1gaKtFyrKUoTtFrK4ZV3yzZmuzT5ivgZSrZ01lbpyfOsjbt87r6m/7WnUdOCvKPvX0S79X8tDRXx0o1siSyp04vnedtX+Vl9QJ5kwAMg8uaW9rvMcJHpLvA9Hhe9L5EHa0a04RWGrxpTUk23Z3XLv7yrw+0qtarLB13CFX784S0nBLdHmk7/JXHnTfJeXmnX6vKzX9qqX/wCRTlpzVJrl/wAqfe9eQsjXTcIxUYuKilZJPcj1wseku8trljNd2KtGE1lnGMo80kmu5maVKMIqMIqMVuUVZL5IzGSe5pmSN78MgAIAAAAAAAAAAAAAAAAAADBzNLYuPoOaw+KpqnKTlaUFe759GdOCadMOJcN68qzZNLGRc/tVSnJaZVBbudvRE3E4iNKDnK+VcybfctTcYKzct3dihhisBHK3mpqKcYuaqRspe8k3zm2i9nVFlhOi1lSsqnJH3dL8nJzFy0aKuBpT96lCXximTq17npUb7PhFZ3heMs6efdK2W9782hp4fCwzQnXo5HPPFOok4tu7s78+vzJK2NhV/wCnpeCP6G2GAordSpr/AEIdT3PrRKM8JKVN06tJ8G5NZZpu8t93flvclR2dRU3NQWZttu71u7v66nmpsvDz96hSfxgiWkVnLl8NFChlnUqSd5TsvhFbl9W/mbzIDKFXq1c6UFaL5XTb59bqS00R7yV+spf9p+clAu00i5K/WU/+0/ORqNJ8OnVrU5VlF5YJWsr6yte/MrlkcNwVWttJ11U4PPVnSpzSzWcI8q5U1dfEzcrHXg8CcTe7rTt7S513f+RaXOu7/wAmnBQqxhatOM5X3xjlVvhd6kkrF6NNGs5OScWrctrJ6tfkbTICAAAHOY2WXbOF/wAdKSfdJ/kdEc7t/B4r7XQxOGpxqOnFqzaW+65WuRmcnfga5rL5lWu2IXoOSvenKNRWTd3CSlay11tYr5baoyeZ4XESejvwEnqu00Lb2NhpU2fNvnhJ2/B/idFSk5Ri3FxbSbT3rsG99i4eznvTfz/ZRw2zQW/D4ne2s1B6Xd3bsvqbZelGFj77qQ/zUpL8i5Fi9Webh/8An8f4VMPSbBS/9RFfG6/E8Lauz9LV6SWbO0mld87/ABLeVKL3xT+KNbwlJ76cPCh1N8P0v3z9kT1/g/8AqaXiRphtjZ8ZOUa1FSe9pq7LD7FR6qn4UevslPq4eFDqf8fpfw/ZXT27gZWzV6Tad0+Y81tu4G8ZqpCc7qKy6y1dvpd/Us/stPq4eFGVhqa3Qin/AJUOpvhel/D9mwMEXaO0I4aEZzTyOai2t0b/AHn2fqVzktuo1z2bebmq1aLfInGy0S5YvmR6+wT/AOpr/wCzyEqNRNXTTW+6ehpoY+jUlKNOrCco71GSbReZn2e+rRPZ7+9XxEuxSS/lSIWO2RwlKE8OuBrU3npt8r5VK+uvaXVSeVN/nYj7M2hDE0Y1YXSejT3preiW76Vrh43C8+Metn1ak6MJVqfB1Gvajfc7/wBMkgAt3dtKw8c+fW/03JfkjaZAQAAAAAAAAAAAAAAAABWeuYdCX0HrmHQl9ALMFZ65h0JfQeuYdCX0AswVnrmHQl9DzLblNWvGSvu3c1/wTAtQVcdt02rqMvoYe3ad0rO75Lrt/RgWoKr19TzZbPMuTTmv+Rint6nK+WMnYC2BUP0gpc0v6v8Ao+4ev6WVSyySabu9NFq2Bbgq47bg90Zc3IZ9cw6EvoBZgrPXMOhL6D1zDoS+gFmCs9cw6EvoPXMOhL6AWRR7foRpUaU4JRVPEQnpp707S78zJvrWPRl9DRjsTSr0pUqkJOMlZ2avzkrfDy5cpatkZK6O04pJZZafAz61j0ZfQrCwBXS2vBWvGWrsjz67p6aPV5Va29b19GXVFmCtW2KbbVndOz1W+yf4NGfW0Oi+9DVFiYK97XgtXF8/IeJbcpJ2d72v8nyiS3sLMFZ69pZXPVxW9rXkvydjTPa2xDoy/rsHLfQWIK71vDov6GVtWPRf0ILAFf60j0ZfQetI9GX0AsAV/rSPRl9DK2pHoy+gE8EL1jHosesY9FgTTxUpqUXGSTi1Zp7mRfWMeix6xj0WBDl6M4Z3SU4we+EaklB/6bnrFejtCcY8HHgJw92dL2ZLnV+UlesY9Fj1jHosmo6e2z9UD/hXCtp1FUqtcs6kmW+Gw0KUFCnFQityS0I/rGPRY9Yx6LGpEy4mWXepoIXrGPRY9Yx6LKwmghesY9Fj1jHosCaCF6xj0WPWMeiwJpgh+sY9FkoD0DBkgAi4/H08PDPUel7ab2U8vS+gn7lRrn0/C4HRAi4XHUqyvSmpc9t6+RubG022A0uXaa3J87GzaD6ml049w9TS6ce4uQVVN6ml049w9TS6ce4uQBTeppdOPceKuwXNWlNWvflLwAc9L0ZTbbkrtt8vK7mI+jEV95d3x8zOiAFF/wAP+3nzrN8+a35Cj6PuF8s1rv0/rnL0AUEfR1rXOrrse7XzMVPRxSVpSTVrcvNb8C/AFJDYklf21q29x69TS6ce4uQBTeppdOPcPU0unHuLkAU3qaXTj3D1NLpx7mXIAqvVUumu4eqpdNdxagCq9VS6a7h6ql013FqAKatsWU0lnWjvuZ4/4fVlFSSSlmt2/PcXgNTKzpBRVPR2MpOTabk7vf0VH5aJHhejUbO8k297+VvzOgBfaZdtigl6NRbvf+r35TZU9H1K15LRJLfuV/1LsD2mXqKSOwUozipLLO99/KrM8z9HU3fNzvl5XdsvQTny9RQS9GotaSS0duy7ubsPsWUIRjnTty2LkC55WatFV6ql013D1VLpruLUGRVeqpdNdxlbLl0l3FoAK71dLpIerpdJdxYgCu9XS6S7h6ul0l3FiAK71dLpLuHq6XSXcWIArvV0uku4erpdJdxYgCu9XS6S7h6ul0l3FiAK71dLpLuHq6XSXcWIArvV0uku4erpdJdxYgCu9XS6S7ieejAAAAcphcN6wq1atdvJH2IxTaS52aMVsyjBWjC9uVu7LCnhqmH+0Rpv3qjknzJxT5Spq08Q8POrOUr5rJO17c5zydcYhyrSoTVWk8kk7djXM+w7+Luk+dch84hTnNOLvquVn0TD0uDpwhf3YqPcrDFzz7stHiSNjZ4ZplKABpQAAAAAAAAAAAAAAAAAAAAAAAAAAAAAAAAAAAAAAAAAAAAAAAAAAAAAAAAAAAAAAAAwDFwMgxci4rH06TSlL2nyLf8A+CybS3TztBuMXOO+1jkcViJ8DlbazSbd2tX2E3G7elVU5QVqUdy5Z2er+HIVeLxk8toNOD1vbUxljru6cPPcbNg0nVrxi9y9p/Bf0jt2z5th8XUpVFKE3GXOjqNlekkZrJiPZmvvJaS7bcgxx6M5ZdXQNnlnmnVjJXi1Jc6DZWU0Hy/jHxvVYfwz844x8b1WH8M/OVX1AHy/jHxvVYfwz844x8b1WH8M/OB9QB8v4x8b1WH8M/OOMfG9Vh/DPzgfUAfL+MfG9Vh/DPzjjHxvVYfwz84H1AHy/jHxvVYfwz844x8b1WH8M/OB9QB8v4x8b1WH8M/OOMfG9Vh/DPzgfUAfL+MfG9Vh/DPzjjHxvVYfwz84H1AHy/jHxvVYfwz844x8b1WH8M/OB9QB8v4x8b1WH8M/OOMfG9Vh/DPzgfUAfL+MfG9Vh/DPzjjHxvVYfwz84H1AHy/jHxvVYfwz844x8b1WH8M/OB9QB8v4x8b1WH8M/OOMfG9Vh/DPzgfUAfL+MfG9Vh/DPzjjHxvVYfwz84H1AHy/jHxvVYfwz844x8b1WH8M/OB9QB8v4x8b1WH8M/OOMfG9Vh/DPzgfUAfL+MfG9Vh/DPzjjHxvVYfwz84H1AHy/jHxvVYfwz844x8b1WH8M/OB9QB8v4x8b1WH8M/OOMfG9Vh/DPzgfUAfL+MfG9Vh/DPzjjHxvVYfwz84H1AHy/jHxvVYfwz844x8b1WH8M/OB9QB8v4x8b1WH8M/OOMfG9Vh/DPzgfUAfL+MfG9Vh/DPzjjHxvVYfwz84H1AHy/jHxvVYfwz844x8b1WH8M/OB9QB8v4x8b1WH8M/OOMfG9Vh/DPzgfUAfL+MfG9Vh/DPzjjHxvVYfwz84H088XPmfGPjeqw/hn5zxxh4zq8P4Z+YsSu023td07wg7c77eZHLV8W8rk3rJWvzXOfxPpHXq+9Gnvvuf6mie2qskk4wsnfc/1OvPJNRy5Lbur+pjJZclOOVWS13mumrPK9Cljtuqm3lhr2P9TE9tVX92Hc/wBTGWsp1bxlxvRd15KMLL3pPfzJGqFV3XPzlL6znzR+v6npbWqK3sw0fM/1JtdOjwWOq0nmhNp83I/idvgsWq1KNRfeW7mfKj5M9r1OaHc/1J+z/S/E4eDhCNJxbv7Slp3SJepJVAACNAAAAAAAAAAAAAAAAAAAAAAAAAAAAAAAAAAAAAAAAAAAAAAAAAAAAAAAAAAAAAAAAAAAAAAAAAAAAAAAAAAAAAAAAAAAAAAAAAAAAAAAAAAAAAAAAAAAAAAAAAAAAAAAAAAAAAAAAAAAAAAAAAAAAAAAAAAAAAAAAAAAAAAAAAAAAAAAAAAAAAAAAAAAAAAAAAAAAAAAAAAAAAAAAAAAAAAAAAAAAAAAAAAAAAAAAAAAAAD/2Q==\n"
                },
                "metadata": {}
              }
            ]
          }
        },
        "a1186b8b01df4c6aa8d0d874951c2d90": {
          "model_module": "@jupyter-widgets/base",
          "model_name": "LayoutModel",
          "model_module_version": "1.2.0",
          "state": {
            "_model_module": "@jupyter-widgets/base",
            "_model_module_version": "1.2.0",
            "_model_name": "LayoutModel",
            "_view_count": null,
            "_view_module": "@jupyter-widgets/base",
            "_view_module_version": "1.2.0",
            "_view_name": "LayoutView",
            "align_content": null,
            "align_items": null,
            "align_self": null,
            "border": null,
            "bottom": null,
            "display": null,
            "flex": null,
            "flex_flow": null,
            "grid_area": null,
            "grid_auto_columns": null,
            "grid_auto_flow": null,
            "grid_auto_rows": null,
            "grid_column": null,
            "grid_gap": null,
            "grid_row": null,
            "grid_template_areas": null,
            "grid_template_columns": null,
            "grid_template_rows": null,
            "height": null,
            "justify_content": null,
            "justify_items": null,
            "left": null,
            "margin": null,
            "max_height": null,
            "max_width": null,
            "min_height": null,
            "min_width": null,
            "object_fit": null,
            "object_position": null,
            "order": null,
            "overflow": null,
            "overflow_x": null,
            "overflow_y": null,
            "padding": null,
            "right": null,
            "top": null,
            "visibility": null,
            "width": null
          }
        }
      }
    }
  },
  "cells": [
    {
      "cell_type": "markdown",
      "metadata": {
        "id": "view-in-github",
        "colab_type": "text"
      },
      "source": [
        "<a href=\"https://colab.research.google.com/github/DL4CV-NPTEL/Deep-Learning-For-Computer-Vision/blob/main/notebooks/Week_4/Week_4_Lecture_9.ipynb\" target=\"_parent\"><img src=\"https://colab.research.google.com/assets/colab-badge.svg\" alt=\"Open In Colab\"/></a>"
      ]
    },
    {
      "cell_type": "markdown",
      "source": [
        "# Lecture 9: Improving Training of Neural Networks Part 1"
      ],
      "metadata": {
        "id": "3JdIPfdtt2TU"
      }
    },
    {
      "cell_type": "code",
      "source": [
        "#@title \n",
        "from ipywidgets import widgets\n",
        "out1 = widgets.Output()\n",
        "with out1:\n",
        "  from IPython.display import YouTubeVideo\n",
        "  video = YouTubeVideo(id=f\"9Z5C-bOMafs\", width=854, height=480, fs=1, rel=0)\n",
        "  print(\"Video available at https://youtube.com/watch?v=\" + video.id)\n",
        "  display(video)\n",
        "display(out1)"
      ],
      "metadata": {
        "colab": {
          "base_uri": "https://localhost:8080/",
          "height": 519,
          "referenced_widgets": [
            "aca5300fa1dc4a99aa49db2de2d499a0",
            "a1186b8b01df4c6aa8d0d874951c2d90"
          ]
        },
        "cellView": "form",
        "id": "rA0FZ1_3t3nO",
        "outputId": "d75ca581-851e-4c28-9f08-78e616a16eb5"
      },
      "execution_count": 50,
      "outputs": [
        {
          "output_type": "display_data",
          "data": {
            "text/plain": [
              "Output()"
            ],
            "application/vnd.jupyter.widget-view+json": {
              "version_major": 2,
              "version_minor": 0,
              "model_id": "aca5300fa1dc4a99aa49db2de2d499a0"
            }
          },
          "metadata": {}
        }
      ]
    },
    {
      "cell_type": "code",
      "source": [
        "#@title \n",
        "from IPython import display as IPyDisplay\n",
        "IPyDisplay.HTML(\n",
        "    f\"\"\"\n",
        "  <div>\n",
        "    <a href= \"https://github.com/DL4CV-NPTEL/Deep-Learning-For-Computer-Vision/blob/main/Slides/Week_4/DL4CV_Week04_Part05.pdf\" target=\"_blank\">\n",
        "    <img src=\"https://github.com/DL4CV-NPTEL/Deep-Learning-For-Computer-Vision/blob/main/Data/Slides_Logo.png?raw=1\"\n",
        "  alt=\"button link to Airtable\" style=\"width:200px\"></a>\n",
        "    </div>\"\"\" )"
      ],
      "metadata": {
        "colab": {
          "base_uri": "https://localhost:8080/",
          "height": 100
        },
        "cellView": "form",
        "id": "WrHo4zh4t_Km",
        "outputId": "673bd6dc-505a-4232-b71b-f80793335bfb"
      },
      "execution_count": 51,
      "outputs": [
        {
          "output_type": "execute_result",
          "data": {
            "text/plain": [
              "<IPython.core.display.HTML object>"
            ],
            "text/html": [
              "\n",
              "  <div>\n",
              "    <a href= \"https://github.com/DL4CV-NPTEL/Deep-Learning-For-Computer-Vision/blob/main/Slides/Week_4/DL4CV_Week04_Part05.pdf\" target=\"_blank\">\n",
              "    <img src=\"https://github.com/DL4CV-NPTEL/Deep-Learning-For-Computer-Vision/blob/main/Data/Slides_Logo.png?raw=1\"\n",
              "  alt=\"button link to Airtable\" style=\"width:200px\"></a>\n",
              "    </div>"
            ]
          },
          "metadata": {},
          "execution_count": 51
        }
      ]
    },
    {
      "cell_type": "code",
      "source": [
        ""
      ],
      "metadata": {
        "id": "wvT7F0cyuLI4"
      },
      "execution_count": null,
      "outputs": []
    }
  ]
}