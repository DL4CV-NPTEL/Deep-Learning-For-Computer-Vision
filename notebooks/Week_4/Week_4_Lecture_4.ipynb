{
  "nbformat": 4,
  "nbformat_minor": 0,
  "metadata": {
    "colab": {
      "name": "Week_4_Lecture_4.ipynb",
      "provenance": [],
      "include_colab_link": true
    },
    "kernelspec": {
      "name": "python3",
      "display_name": "Python 3"
    },
    "language_info": {
      "name": "python"
    },
    "widgets": {
      "application/vnd.jupyter.widget-state+json": {
        "3b7e3ff01ea54d6f89509313bad39009": {
          "model_module": "@jupyter-widgets/output",
          "model_name": "OutputModel",
          "model_module_version": "1.0.0",
          "state": {
            "_dom_classes": [],
            "_model_module": "@jupyter-widgets/output",
            "_model_module_version": "1.0.0",
            "_model_name": "OutputModel",
            "_view_count": null,
            "_view_module": "@jupyter-widgets/output",
            "_view_module_version": "1.0.0",
            "_view_name": "OutputView",
            "layout": "IPY_MODEL_bb8188dddb0c405380d399ccd2ecec45",
            "msg_id": "",
            "outputs": [
              {
                "output_type": "stream",
                "name": "stdout",
                "text": [
                  "Video available at https://youtube.com/watch?v=XV20CvRsIJU\n"
                ]
              },
              {
                "output_type": "display_data",
                "data": {
                  "text/plain": "<IPython.lib.display.YouTubeVideo at 0x7fb47c281b10>",
                  "text/html": "\n        <iframe\n            width=\"854\"\n            height=\"480\"\n            src=\"https://www.youtube.com/embed/XV20CvRsIJU?fs=1&rel=0\"\n            frameborder=\"0\"\n            allowfullscreen\n        ></iframe>\n        ",
                  "image/jpeg": "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\n"
                },
                "metadata": {}
              }
            ]
          }
        },
        "bb8188dddb0c405380d399ccd2ecec45": {
          "model_module": "@jupyter-widgets/base",
          "model_name": "LayoutModel",
          "model_module_version": "1.2.0",
          "state": {
            "_model_module": "@jupyter-widgets/base",
            "_model_module_version": "1.2.0",
            "_model_name": "LayoutModel",
            "_view_count": null,
            "_view_module": "@jupyter-widgets/base",
            "_view_module_version": "1.2.0",
            "_view_name": "LayoutView",
            "align_content": null,
            "align_items": null,
            "align_self": null,
            "border": null,
            "bottom": null,
            "display": null,
            "flex": null,
            "flex_flow": null,
            "grid_area": null,
            "grid_auto_columns": null,
            "grid_auto_flow": null,
            "grid_auto_rows": null,
            "grid_column": null,
            "grid_gap": null,
            "grid_row": null,
            "grid_template_areas": null,
            "grid_template_columns": null,
            "grid_template_rows": null,
            "height": null,
            "justify_content": null,
            "justify_items": null,
            "left": null,
            "margin": null,
            "max_height": null,
            "max_width": null,
            "min_height": null,
            "min_width": null,
            "object_fit": null,
            "object_position": null,
            "order": null,
            "overflow": null,
            "overflow_x": null,
            "overflow_y": null,
            "padding": null,
            "right": null,
            "top": null,
            "visibility": null,
            "width": null
          }
        }
      }
    }
  },
  "cells": [
    {
      "cell_type": "markdown",
      "metadata": {
        "id": "view-in-github",
        "colab_type": "text"
      },
      "source": [
        "<a href=\"https://colab.research.google.com/github/DL4CV-NPTEL/Deep-Learning-For-Computer-Vision/blob/main/notebooks/Week_4/Week_4_Lecture_4.ipynb\" target=\"_parent\"><img src=\"https://colab.research.google.com/assets/colab-badge.svg\" alt=\"Open In Colab\"/></a>"
      ]
    },
    {
      "cell_type": "markdown",
      "source": [
        "# Lecture 4: Feedforward Neural Networks and Backpropagation Part 2 <sup><mark style=\"background-color:gold\">Code</mark> </sup>"
      ],
      "metadata": {
        "id": "3JdIPfdtt2TU"
      }
    },
    {
      "cell_type": "code",
      "source": [
        "#@title \n",
        "from ipywidgets import widgets\n",
        "out1 = widgets.Output()\n",
        "with out1:\n",
        "  from IPython.display import YouTubeVideo\n",
        "  video = YouTubeVideo(id=f\"XV20CvRsIJU\", width=854, height=480, fs=1, rel=0)\n",
        "  print(\"Video available at https://youtube.com/watch?v=\" + video.id)\n",
        "  display(video)\n",
        "display(out1)"
      ],
      "metadata": {
        "colab": {
          "base_uri": "https://localhost:8080/",
          "height": 518,
          "referenced_widgets": [
            "3b7e3ff01ea54d6f89509313bad39009",
            "bb8188dddb0c405380d399ccd2ecec45"
          ]
        },
        "cellView": "form",
        "id": "rA0FZ1_3t3nO",
        "outputId": "1ce130ab-a970-415f-defa-0bb4e798d239"
      },
      "execution_count": 20,
      "outputs": [
        {
          "output_type": "display_data",
          "data": {
            "text/plain": [
              "Output()"
            ],
            "application/vnd.jupyter.widget-view+json": {
              "version_major": 2,
              "version_minor": 0,
              "model_id": "3b7e3ff01ea54d6f89509313bad39009"
            }
          },
          "metadata": {}
        }
      ]
    },
    {
      "cell_type": "code",
      "source": [
        "#@title \n",
        "from IPython import display as IPyDisplay\n",
        "IPyDisplay.HTML(\n",
        "    f\"\"\"\n",
        "  <div>\n",
        "    <a href= \"https://github.com/DL4CV-NPTEL/Deep-Learning-For-Computer-Vision/blob/main/Slides/Week_4/DL4CV_Week04_Part02.pdf\" target=\"_blank\">\n",
        "    <img src=\"https://github.com/DL4CV-NPTEL/Deep-Learning-For-Computer-Vision/blob/main/Data/Slides_Logo.png?raw=1\"\n",
        "  alt=\"button link to Airtable\" style=\"width:200px\"></a>\n",
        "    </div>\"\"\" )"
      ],
      "metadata": {
        "colab": {
          "base_uri": "https://localhost:8080/",
          "height": 100
        },
        "cellView": "form",
        "id": "WrHo4zh4t_Km",
        "outputId": "cf23bd1f-47fc-4a1a-e5c6-42382d5f9c80"
      },
      "execution_count": 21,
      "outputs": [
        {
          "output_type": "execute_result",
          "data": {
            "text/plain": [
              "<IPython.core.display.HTML object>"
            ],
            "text/html": [
              "\n",
              "  <div>\n",
              "    <a href= \"https://github.com/DL4CV-NPTEL/Deep-Learning-For-Computer-Vision/blob/main/Slides/Week_4/DL4CV_Week04_Part02.pdf\" target=\"_blank\">\n",
              "    <img src=\"https://github.com/DL4CV-NPTEL/Deep-Learning-For-Computer-Vision/blob/main/Data/Slides_Logo.png?raw=1\"\n",
              "  alt=\"button link to Airtable\" style=\"width:200px\"></a>\n",
              "    </div>"
            ]
          },
          "metadata": {},
          "execution_count": 21
        }
      ]
    },
    {
      "cell_type": "markdown",
      "source": [
        "**Imports**"
      ],
      "metadata": {
        "id": "lmXSfPey_amP"
      }
    },
    {
      "cell_type": "code",
      "source": [
        "import torch\n",
        "import numpy as np\n",
        "from torch import nn\n",
        "from math import pi\n",
        "import matplotlib.pyplot as plt\n",
        "from mpl_toolkits.axes_grid1 import make_axes_locatable\n",
        "import random"
      ],
      "metadata": {
        "id": "R2zKbjqh_fYt"
      },
      "execution_count": 22,
      "outputs": []
    },
    {
      "cell_type": "markdown",
      "source": [
        "**Helper Function for Plotting**"
      ],
      "metadata": {
        "id": "dCscyex6_tdo"
      }
    },
    {
      "cell_type": "code",
      "source": [
        "def ex3_plot(model, x, y, ep, lss):\n",
        "  \"\"\"\n",
        "  Plot training loss\n",
        "\n",
        "  Args:\n",
        "    model: nn.module\n",
        "      Model implementing regression\n",
        "    x: np.ndarray\n",
        "      Training Data\n",
        "    y: np.ndarray\n",
        "      Targets\n",
        "    ep: int\n",
        "      Number of epochs\n",
        "    lss: function\n",
        "      Loss function\n",
        "\n",
        "  Returns:\n",
        "    Nothing\n",
        "  \"\"\"\n",
        "  f, (ax1, ax2) = plt.subplots(1, 2, figsize=(12, 4))\n",
        "  ax1.set_title(\"Regression\")\n",
        "  ax1.plot(x, model(x).detach().numpy(), color='r', label='prediction')\n",
        "  ax1.scatter(x, y, c='c', label='targets')\n",
        "  ax1.set_xlabel('x')\n",
        "  ax1.set_ylabel('y')\n",
        "  ax1.legend()\n",
        "\n",
        "  ax2.set_title(\"Training loss\")\n",
        "  ax2.plot(np.linspace(1, epochs, epochs), losses, color='y')\n",
        "  ax2.set_xlabel(\"Epoch\")\n",
        "  ax2.set_ylabel(\"MSE\")\n",
        "\n",
        "  plt.show()\n"
      ],
      "metadata": {
        "id": "74fT71TF_gnA"
      },
      "execution_count": 23,
      "outputs": []
    },
    {
      "cell_type": "markdown",
      "source": [
        "**Helper Function for random seed**"
      ],
      "metadata": {
        "id": "M4lVMvTB_3WW"
      }
    },
    {
      "cell_type": "code",
      "source": [
        "def set_seed(seed=None, seed_torch=True):\n",
        "  \"\"\"\n",
        "  Function that controls randomness. NumPy and random modules must be imported.\n",
        "\n",
        "  Args:\n",
        "    seed : Integer\n",
        "      A non-negative integer that defines the random state. Default is `None`.\n",
        "    seed_torch : Boolean\n",
        "      If `True` sets the random seed for pytorch tensors, so pytorch module\n",
        "      must be imported. Default is `True`.\n",
        "\n",
        "  Returns:\n",
        "    Nothing.\n",
        "  \"\"\"\n",
        "  if seed is None:\n",
        "    seed = np.random.choice(2 ** 32)\n",
        "  random.seed(seed)\n",
        "  np.random.seed(seed)\n",
        "  if seed_torch:\n",
        "    torch.manual_seed(seed)\n",
        "    torch.cuda.manual_seed_all(seed)\n",
        "    torch.cuda.manual_seed(seed)\n",
        "    torch.backends.cudnn.benchmark = False\n",
        "    torch.backends.cudnn.deterministic = True\n",
        "\n",
        "  print(f'Random seed {seed} has been set.')\n",
        "\n",
        "\n",
        "# In case that `DataLoader` is used\n",
        "def seed_worker(worker_id):\n",
        "  \"\"\"\n",
        "  DataLoader will reseed workers following randomness in\n",
        "  multi-process data loading algorithm.\n",
        "\n",
        "  Args:\n",
        "    worker_id: integer\n",
        "      ID of subprocess to seed. 0 means that\n",
        "      the data will be loaded in the main process\n",
        "      Refer: https://pytorch.org/docs/stable/data.html#data-loading-randomness for more details\n",
        "\n",
        "  Returns:\n",
        "    Nothing\n",
        "  \"\"\"\n",
        "  worker_seed = torch.initial_seed() % 2**32\n",
        "  np.random.seed(worker_seed)\n",
        "  random.seed(worker_seed)"
      ],
      "metadata": {
        "id": "FqpFWkq__9Dg"
      },
      "execution_count": 24,
      "outputs": []
    },
    {
      "cell_type": "markdown",
      "source": [
        "**Helper Function for Device**"
      ],
      "metadata": {
        "id": "U4CCrlc7AKXX"
      }
    },
    {
      "cell_type": "code",
      "source": [
        "def set_device():\n",
        "  \"\"\"\n",
        "  Set the device. CUDA if available, CPU otherwise\n",
        "\n",
        "  Args:\n",
        "    None\n",
        "\n",
        "  Returns:\n",
        "    Nothing\n",
        "  \"\"\"\n",
        "  device = \"cuda\" if torch.cuda.is_available() else \"cpu\"\n",
        "  if device != \"cuda\":\n",
        "    print(\"GPU is not enabled in this notebook. \\n\"\n",
        "          \"If you want to enable it, in the menu under `Runtime` -> \\n\"\n",
        "          \"`Hardware accelerator.` and select `GPU` from the dropdown menu\")\n",
        "  else:\n",
        "    print(\"GPU is enabled in this notebook. \\n\"\n",
        "          \"If you want to disable it, in the menu under `Runtime` -> \\n\"\n",
        "          \"`Hardware accelerator.` and select `None` from the dropdown menu\")\n",
        "\n",
        "  return device"
      ],
      "metadata": {
        "id": "bnD_xLnEAI22"
      },
      "execution_count": 25,
      "outputs": []
    },
    {
      "cell_type": "code",
      "source": [
        "SEED = 2022\n",
        "set_seed(seed=SEED)\n",
        "DEVICE = set_device()"
      ],
      "metadata": {
        "id": "BGiJFRYQASMu",
        "outputId": "c4856c93-2e0a-4a55-8fa4-06f82f8d4dc8",
        "colab": {
          "base_uri": "https://localhost:8080/"
        }
      },
      "execution_count": 26,
      "outputs": [
        {
          "output_type": "stream",
          "name": "stdout",
          "text": [
            "Random seed 2022 has been set.\n",
            "GPU is not enabled in this notebook. \n",
            "If you want to enable it, in the menu under `Runtime` -> \n",
            "`Hardware accelerator.` and select `GPU` from the dropdown menu\n"
          ]
        }
      ]
    },
    {
      "cell_type": "markdown",
      "source": [
        "## PyTorch's Neural Net module (`nn.Module`)"
      ],
      "metadata": {
        "id": "osHHQwZZ-5q5"
      }
    },
    {
      "cell_type": "markdown",
      "source": [
        "PyTorch provides us with ready-to-use neural network building blocks, such as layers (e.g., linear, recurrent, etc.), different activation and loss functions, and much more, packed in the [`torch.nn`](https://pytorch.org/docs/stable/nn.html) module. If we build a neural network using `torch.nn` layers, the weights and biases are already in `requires_grad` mode and will be registered as model parameters. \n",
        "\n",
        "For training, we need three things:\n",
        "\n",
        "* **Model parameters:** Model parameters refer to all the learnable parameters of the model, which are accessible by calling `.parameters()` on the model. Please note that NOT all the `requires_grad` tensors are seen as model parameters. To create a custom model parameter, we can use [`nn.Parameter`](https://pytorch.org/docs/stable/generated/torch.nn.parameter.Parameter.html) (*A kind of Tensor that is to be considered a module parameter*).\n",
        "\n",
        "* **Loss function:** The loss that we are going to be optimizing, which is often combined with regularization terms (coming up in few days).\n",
        "\n",
        "* **Optimizer:** PyTorch provides us with many optimization methods (different versions of gradient descent). Optimizer holds the current state of the model and by calling the `step()` method, will update the parameters based on the computed gradients.\n",
        "\n",
        "You will learn more details about choosing the right model architecture, loss function, and optimizer later in the course."
      ],
      "metadata": {
        "id": "x_XxNDus-8zY"
      }
    },
    {
      "cell_type": "markdown",
      "source": [
        "### Training loop in PyTorch"
      ],
      "metadata": {
        "id": "7neQJ30H_EFx"
      }
    },
    {
      "cell_type": "markdown",
      "source": [
        "We use a regression problem to study the training loop in PyTorch.\n",
        "\n",
        "The task is to train a wide nonlinear (using $\\tanh$ activation function) neural net for a simple $\\sin$ regression task. Wide neural networks are thought to be really good at generalization."
      ],
      "metadata": {
        "id": "86HBOfgY_BGX"
      }
    },
    {
      "cell_type": "markdown",
      "source": [
        "**Generate Sample Data**"
      ],
      "metadata": {
        "id": "WTEcMuAc_Lag"
      }
    },
    {
      "cell_type": "code",
      "source": [
        "set_seed(seed=SEED)\n",
        "n_samples = 32\n",
        "inputs = torch.linspace(-1.0, 1.0, n_samples).reshape(n_samples, 1)\n",
        "noise = torch.randn(n_samples, 1) / 4\n",
        "targets = torch.sin(pi * inputs) + noise\n",
        "plt.figure(figsize=(8, 5))\n",
        "plt.scatter(inputs, targets, c='c')\n",
        "plt.xlabel('x (inputs)')\n",
        "plt.ylabel('y (targets)')\n",
        "plt.show()"
      ],
      "metadata": {
        "id": "wvT7F0cyuLI4",
        "outputId": "343c449b-bece-47c6-e1b3-7eb5dddbc50a",
        "colab": {
          "base_uri": "https://localhost:8080/",
          "height": 351
        }
      },
      "execution_count": 27,
      "outputs": [
        {
          "output_type": "stream",
          "name": "stdout",
          "text": [
            "Random seed 2022 has been set.\n"
          ]
        },
        {
          "output_type": "display_data",
          "data": {
            "text/plain": [
              "<Figure size 576x360 with 1 Axes>"
            ],
            "image/png": "[encoded data removed]"
          },
          "metadata": {
            "needs_background": "light"
          }
        }
      ]
    },
    {
      "cell_type": "markdown",
      "source": [
        "Let's define a very wide (512 neurons) neural net with one hidden layer and `nn.Tanh()` activation function."
      ],
      "metadata": {
        "id": "uzv7DCRmAlce"
      }
    },
    {
      "cell_type": "code",
      "source": [
        "class WideNet(nn.Module):\n",
        "  \"\"\"\n",
        "   A Wide neural network with a single hidden layer\n",
        "   Structure is as follows:\n",
        "   nn.Sequential(\n",
        "        nn.Linear(1, n_cells) + nn.Tanh(), # Fully connected layer with tanh activation\n",
        "        nn.Linear(n_cells, 1) # Final fully connected layer\n",
        "    )\n",
        "  \"\"\"\n",
        "\n",
        "  def __init__(self):\n",
        "    \"\"\"\n",
        "    Initializing the parameters of WideNet\n",
        "\n",
        "    Args:\n",
        "      None\n",
        "\n",
        "    Returns:\n",
        "      Nothing\n",
        "    \"\"\"\n",
        "    n_cells = 512\n",
        "    super().__init__()\n",
        "    self.layers = nn.Sequential(\n",
        "        nn.Linear(1, n_cells),\n",
        "        nn.Tanh(),\n",
        "        nn.Linear(n_cells, 1),\n",
        "    )\n",
        "\n",
        "  def forward(self, x):\n",
        "    \"\"\"\n",
        "    Forward pass of WideNet\n",
        "\n",
        "    Args:\n",
        "      x: torch.Tensor\n",
        "        2D tensor of features\n",
        "\n",
        "    Returns:\n",
        "      Torch tensor of model predictions\n",
        "    \"\"\"\n",
        "    return self.layers(x)"
      ],
      "metadata": {
        "id": "VycG5-VvAgcG"
      },
      "execution_count": 28,
      "outputs": []
    },
    {
      "cell_type": "markdown",
      "source": [
        "We can now create an instance of our neural net and print its parameters."
      ],
      "metadata": {
        "id": "snFT1hCsApsv"
      }
    },
    {
      "cell_type": "code",
      "source": [
        "# Creating an instance\n",
        "set_seed(seed=SEED)\n",
        "wide_net = WideNet()\n",
        "print(wide_net)"
      ],
      "metadata": {
        "id": "X4LvodXRAp99",
        "outputId": "48671b2f-8186-44e0-efb4-64b8eccedb16",
        "colab": {
          "base_uri": "https://localhost:8080/"
        }
      },
      "execution_count": 29,
      "outputs": [
        {
          "output_type": "stream",
          "name": "stdout",
          "text": [
            "Random seed 2022 has been set.\n",
            "WideNet(\n",
            "  (layers): Sequential(\n",
            "    (0): Linear(in_features=1, out_features=512, bias=True)\n",
            "    (1): Tanh()\n",
            "    (2): Linear(in_features=512, out_features=1, bias=True)\n",
            "  )\n",
            ")\n"
          ]
        }
      ]
    },
    {
      "cell_type": "code",
      "source": [
        "# Create a mse loss function\n",
        "loss_function = nn.MSELoss()\n",
        "\n",
        "# Stochstic Gradient Descent optimizer (you will learn about momentum soon)\n",
        "lr = 0.003  # Learning rate\n",
        "sgd_optimizer = torch.optim.SGD(wide_net.parameters(), lr=lr, momentum=0.9)"
      ],
      "metadata": {
        "id": "XRUhipu1Art9"
      },
      "execution_count": 30,
      "outputs": []
    },
    {
      "cell_type": "markdown",
      "source": [
        "The training process in PyTorch is interactive - you can perform training iterations as you wish and inspect the results after each iteration. \n",
        "\n",
        "Let's perform one training iteration. You can run the cell multiple times and see how the parameters are being updated and the loss is reducing. This code block is the core of everything to come: please make sure you go line-by-line through all the commands and discuss their purpose with your pod."
      ],
      "metadata": {
        "id": "zbAdoohwAxTp"
      }
    },
    {
      "cell_type": "code",
      "source": [
        "# Reset all gradients to zero\n",
        "sgd_optimizer.zero_grad()\n",
        "\n",
        "# Forward pass (Compute the output of the model on the features (inputs))\n",
        "prediction = wide_net(inputs)\n",
        "\n",
        "# Compute the loss\n",
        "loss = loss_function(prediction, targets)\n",
        "print(f'Loss: {loss.item()}')\n",
        "\n",
        "# Perform backpropagation to build the graph and compute the gradients\n",
        "loss.backward()\n",
        "\n",
        "# Optimizer takes a tiny step in the steepest direction (negative of gradient)\n",
        "# and \"updates\" the weights and biases of the network\n",
        "sgd_optimizer.step()"
      ],
      "metadata": {
        "id": "Tkb-HLYYAxBf",
        "outputId": "3a21a27d-ded7-4690-8dd4-70e8b224f353",
        "colab": {
          "base_uri": "https://localhost:8080/"
        }
      },
      "execution_count": 31,
      "outputs": [
        {
          "output_type": "stream",
          "name": "stdout",
          "text": [
            "Loss: 0.675656795501709\n"
          ]
        }
      ]
    },
    {
      "cell_type": "markdown",
      "source": [
        "#### Training Loop"
      ],
      "metadata": {
        "id": "n8IBVbeuA5Ni"
      }
    },
    {
      "cell_type": "markdown",
      "source": [
        "Using everything we've learned so far, we ask you to complete the `train` function below."
      ],
      "metadata": {
        "id": "lKVVpOYHA3vm"
      }
    },
    {
      "cell_type": "code",
      "source": [
        "def train(features, labels, model, loss_fun, optimizer, n_epochs):\n",
        "  \"\"\"\n",
        "  Training function\n",
        "\n",
        "  Args:\n",
        "    features: torch.Tensor\n",
        "      Features (input) with shape torch.Size([n_samples, 1])\n",
        "    labels: torch.Tensor\n",
        "      Labels (targets) with shape torch.Size([n_samples, 1])\n",
        "    model: torch nn.Module\n",
        "      The neural network\n",
        "    loss_fun: function\n",
        "      Loss function\n",
        "    optimizer: function\n",
        "      Optimizer\n",
        "    n_epochs: int\n",
        "      Number of training iterations\n",
        "\n",
        "  Returns:\n",
        "    loss_record: list\n",
        "      Record (evolution) of training losses\n",
        "  \"\"\"\n",
        "  loss_record = []  # Keeping recods of loss\n",
        "\n",
        "  for i in range(n_epochs):\n",
        "    \n",
        "    optimizer.zero_grad()  # Set gradients to 0\n",
        "    predictions = model(features)   # Compute model prediction (output)\n",
        "    loss = loss_fun(predictions, labels)  # Compute the loss\n",
        "    loss.backward()  # Compute gradients (backward pass)\n",
        "    optimizer.step()  # Update parameters (optimizer takes a step)\n",
        "\n",
        "\n",
        "    loss_record.append(loss.item())\n",
        "  return loss_record\n",
        "\n",
        "\n",
        "\n",
        "set_seed(seed=2022)\n",
        "epochs = 1847 # Cauchy, Exercices d'analyse et de physique mathematique (1847)\n",
        "losses = train(inputs, targets, wide_net, loss_function, sgd_optimizer, epochs)\n",
        "ex3_plot(wide_net, inputs, targets, epochs, losses)"
      ],
      "metadata": {
        "id": "F9ZHwtIGBjYt",
        "outputId": "e75de0bb-f65e-41de-aa72-94bc72a61ca4",
        "colab": {
          "base_uri": "https://localhost:8080/",
          "height": 312
        }
      },
      "execution_count": 32,
      "outputs": [
        {
          "output_type": "stream",
          "name": "stdout",
          "text": [
            "Random seed 2022 has been set.\n"
          ]
        },
        {
          "output_type": "display_data",
          "data": {
            "text/plain": [
              "<Figure size 864x288 with 2 Axes>"
            ],
            "image/png": "[encoded data removed]"
          },
          "metadata": {
            "needs_background": "light"
          }
        }
      ]
    },
    {
      "cell_type": "markdown",
      "source": [
        "**Acknowledgements**"
      ],
      "metadata": {
        "id": "4ECRfm476xRT"
      }
    },
    {
      "cell_type": "markdown",
      "source": [
        "Code adopted from the Deep Learning Summer School offered by Neuromatch Academy\n",
        "\n",
        "https://deeplearning.neuromatch.io/tutorials/intro.html"
      ],
      "metadata": {
        "id": "nY_RNDCG62MU"
      }
    }
  ]
}