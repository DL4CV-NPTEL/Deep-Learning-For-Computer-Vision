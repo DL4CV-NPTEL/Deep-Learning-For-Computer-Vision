{
  "nbformat": 4,
  "nbformat_minor": 0,
  "metadata": {
    "colab": {
      "name": "Week_4_Lecture_10.ipynb",
      "provenance": [],
      "include_colab_link": true
    },
    "kernelspec": {
      "name": "python3",
      "display_name": "Python 3"
    },
    "language_info": {
      "name": "python"
    },
    "widgets": {
      "application/vnd.jupyter.widget-state+json": {
        "772656b92c394f9b850dfc09b34924d0": {
          "model_module": "@jupyter-widgets/output",
          "model_name": "OutputModel",
          "model_module_version": "1.0.0",
          "state": {
            "_dom_classes": [],
            "_model_module": "@jupyter-widgets/output",
            "_model_module_version": "1.0.0",
            "_model_name": "OutputModel",
            "_view_count": null,
            "_view_module": "@jupyter-widgets/output",
            "_view_module_version": "1.0.0",
            "_view_name": "OutputView",
            "layout": "IPY_MODEL_49bb2b3351d34a51846506cb5a331d47",
            "msg_id": "",
            "outputs": [
              {
                "output_type": "stream",
                "name": "stdout",
                "text": [
                  "Video available at https://youtube.com/watch?v=Q364dPTYsrk\n"
                ]
              },
              {
                "output_type": "display_data",
                "data": {
                  "text/plain": "<IPython.lib.display.YouTubeVideo at 0x7fd4193aeb50>",
                  "text/html": "\n        <iframe\n            width=\"854\"\n            height=\"480\"\n            src=\"https://www.youtube.com/embed/Q364dPTYsrk?fs=1&rel=0\"\n            frameborder=\"0\"\n            allowfullscreen\n        ></iframe>\n        ",
                  "image/jpeg": "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\n"
                },
                "metadata": {}
              }
            ]
          }
        },
        "49bb2b3351d34a51846506cb5a331d47": {
          "model_module": "@jupyter-widgets/base",
          "model_name": "LayoutModel",
          "model_module_version": "1.2.0",
          "state": {
            "_model_module": "@jupyter-widgets/base",
            "_model_module_version": "1.2.0",
            "_model_name": "LayoutModel",
            "_view_count": null,
            "_view_module": "@jupyter-widgets/base",
            "_view_module_version": "1.2.0",
            "_view_name": "LayoutView",
            "align_content": null,
            "align_items": null,
            "align_self": null,
            "border": null,
            "bottom": null,
            "display": null,
            "flex": null,
            "flex_flow": null,
            "grid_area": null,
            "grid_auto_columns": null,
            "grid_auto_flow": null,
            "grid_auto_rows": null,
            "grid_column": null,
            "grid_gap": null,
            "grid_row": null,
            "grid_template_areas": null,
            "grid_template_columns": null,
            "grid_template_rows": null,
            "height": null,
            "justify_content": null,
            "justify_items": null,
            "left": null,
            "margin": null,
            "max_height": null,
            "max_width": null,
            "min_height": null,
            "min_width": null,
            "object_fit": null,
            "object_position": null,
            "order": null,
            "overflow": null,
            "overflow_x": null,
            "overflow_y": null,
            "padding": null,
            "right": null,
            "top": null,
            "visibility": null,
            "width": null
          }
        }
      }
    },
    "accelerator": "GPU",
    "gpuClass": "standard"
  },
  "cells": [
    {
      "cell_type": "markdown",
      "metadata": {
        "id": "view-in-github",
        "colab_type": "text"
      },
      "source": [
        "<a href=\"https://colab.research.google.com/github/DL4CV-NPTEL/Deep-Learning-For-Computer-Vision/blob/main/notebooks/Week_4/Week_4_Lecture_10.ipynb\" target=\"_parent\"><img src=\"https://colab.research.google.com/assets/colab-badge.svg\" alt=\"Open In Colab\"/></a>"
      ]
    },
    {
      "cell_type": "markdown",
      "source": [
        "# Lecture 10: Improving Training of Neural Networks Part 2 <sup><mark style=\"background-color:gold\">Code</mark> </sup>"
      ],
      "metadata": {
        "id": "3JdIPfdtt2TU"
      }
    },
    {
      "cell_type": "code",
      "source": [
        "#@title \n",
        "from ipywidgets import widgets\n",
        "out1 = widgets.Output()\n",
        "with out1:\n",
        "  from IPython.display import YouTubeVideo\n",
        "  video = YouTubeVideo(id=f\"Q364dPTYsrk\", width=854, height=480, fs=1, rel=0)\n",
        "  print(\"Video available at https://youtube.com/watch?v=\" + video.id)\n",
        "  display(video)\n",
        "display(out1)"
      ],
      "metadata": {
        "colab": {
          "base_uri": "https://localhost:8080/",
          "height": 518,
          "referenced_widgets": [
            "772656b92c394f9b850dfc09b34924d0",
            "49bb2b3351d34a51846506cb5a331d47"
          ]
        },
        "cellView": "form",
        "id": "rA0FZ1_3t3nO",
        "outputId": "2381314a-20d6-4a70-a245-636b6f89c3cb"
      },
      "execution_count": 25,
      "outputs": [
        {
          "output_type": "display_data",
          "data": {
            "text/plain": [
              "Output()"
            ],
            "application/vnd.jupyter.widget-view+json": {
              "version_major": 2,
              "version_minor": 0,
              "model_id": "772656b92c394f9b850dfc09b34924d0"
            }
          },
          "metadata": {}
        }
      ]
    },
    {
      "cell_type": "code",
      "source": [
        "#@title \n",
        "from IPython import display as IPyDisplay\n",
        "IPyDisplay.HTML(\n",
        "    f\"\"\"\n",
        "  <div>\n",
        "    <a href= \"https://github.com/DL4CV-NPTEL/Deep-Learning-For-Computer-Vision/blob/main/Slides/Week_4/DL4CV_Week04_Part05.pdf\" target=\"_blank\">\n",
        "    <img src=\"https://github.com/DL4CV-NPTEL/Deep-Learning-For-Computer-Vision/blob/main/Data/Slides_Logo.png?raw=1\"\n",
        "  alt=\"button link to Airtable\" style=\"width:200px\"></a>\n",
        "    </div>\"\"\" )"
      ],
      "metadata": {
        "colab": {
          "base_uri": "https://localhost:8080/",
          "height": 100
        },
        "cellView": "form",
        "id": "WrHo4zh4t_Km",
        "outputId": "df9e8430-bd67-4ddf-efe1-01720eba3d45"
      },
      "execution_count": 26,
      "outputs": [
        {
          "output_type": "execute_result",
          "data": {
            "text/plain": [
              "<IPython.core.display.HTML object>"
            ],
            "text/html": [
              "\n",
              "  <div>\n",
              "    <a href= \"https://github.com/DL4CV-NPTEL/Deep-Learning-For-Computer-Vision/blob/main/Slides/Week_4/DL4CV_Week04_Part05.pdf\" target=\"_blank\">\n",
              "    <img src=\"https://github.com/DL4CV-NPTEL/Deep-Learning-For-Computer-Vision/blob/main/Data/Slides_Logo.png?raw=1\"\n",
              "  alt=\"button link to Airtable\" style=\"width:200px\"></a>\n",
              "    </div>"
            ]
          },
          "metadata": {},
          "execution_count": 26
        }
      ]
    },
    {
      "cell_type": "markdown",
      "source": [
        "## Helper functions"
      ],
      "metadata": {
        "id": "Cv14EzunCfF8"
      }
    },
    {
      "cell_type": "markdown",
      "source": [
        "**Imports**"
      ],
      "metadata": {
        "id": "58Qt2t0BCho8"
      }
    },
    {
      "cell_type": "code",
      "source": [
        "import torch\n",
        "import numpy as np\n",
        "import matplotlib.pyplot as plt\n",
        "from torch.utils.data import sampler\n",
        "from torchvision import datasets\n",
        "from torch.utils.data import DataLoader\n",
        "from torch.utils.data import SubsetRandomSampler\n",
        "from torchvision import transforms\n",
        "import time\n",
        "import os\n",
        "import random\n",
        "from distutils.version import LooseVersion as Version"
      ],
      "metadata": {
        "id": "wvT7F0cyuLI4"
      },
      "execution_count": 27,
      "outputs": []
    },
    {
      "cell_type": "markdown",
      "source": [
        "**Helper function for Dataloading**"
      ],
      "metadata": {
        "id": "XmZhmtP7D8N8"
      }
    },
    {
      "cell_type": "code",
      "source": [
        "def get_dataloaders_mnist(batch_size, num_workers=0,\n",
        "                          validation_fraction=None,\n",
        "                          train_transforms=None,\n",
        "                          test_transforms=None):\n",
        "\n",
        "    if train_transforms is None:\n",
        "        train_transforms = transforms.ToTensor()\n",
        "\n",
        "    if test_transforms is None:\n",
        "        test_transforms = transforms.ToTensor()\n",
        "\n",
        "    train_dataset = datasets.MNIST(root='data',\n",
        "                                   train=True,\n",
        "                                   transform=train_transforms,\n",
        "                                   download=True)\n",
        "\n",
        "    valid_dataset = datasets.MNIST(root='data',\n",
        "                                   train=True,\n",
        "                                   transform=test_transforms)\n",
        "\n",
        "    test_dataset = datasets.MNIST(root='data',\n",
        "                                  train=False,\n",
        "                                  transform=test_transforms)\n",
        "\n",
        "    if validation_fraction is not None:\n",
        "        num = int(validation_fraction * 60000)\n",
        "        train_indices = torch.arange(0, 60000 - num)\n",
        "        valid_indices = torch.arange(60000 - num, 60000)\n",
        "\n",
        "        train_sampler = SubsetRandomSampler(train_indices)\n",
        "        valid_sampler = SubsetRandomSampler(valid_indices)\n",
        "\n",
        "        valid_loader = DataLoader(dataset=valid_dataset,\n",
        "                                  batch_size=batch_size,\n",
        "                                  num_workers=num_workers,\n",
        "                                  sampler=valid_sampler)\n",
        "\n",
        "        train_loader = DataLoader(dataset=train_dataset,\n",
        "                                  batch_size=batch_size,\n",
        "                                  num_workers=num_workers,\n",
        "                                  drop_last=True,\n",
        "                                  sampler=train_sampler)\n",
        "\n",
        "    else:\n",
        "        train_loader = DataLoader(dataset=train_dataset,\n",
        "                                  batch_size=batch_size,\n",
        "                                  num_workers=num_workers,\n",
        "                                  drop_last=True,\n",
        "                                  shuffle=True)\n",
        "\n",
        "    test_loader = DataLoader(dataset=test_dataset,\n",
        "                             batch_size=batch_size,\n",
        "                             num_workers=num_workers,\n",
        "                             shuffle=False)\n",
        "\n",
        "    if validation_fraction is None:\n",
        "        return train_loader, test_loader\n",
        "    else:\n",
        "        return train_loader, valid_loader, test_loader"
      ],
      "metadata": {
        "id": "WbPYLrOiC6K3"
      },
      "execution_count": 28,
      "outputs": []
    },
    {
      "cell_type": "markdown",
      "source": [
        "**Helper function for evaluation**"
      ],
      "metadata": {
        "id": "INMhlmKvEHSN"
      }
    },
    {
      "cell_type": "code",
      "source": [
        "def set_all_seeds(seed):\n",
        "    os.environ[\"PL_GLOBAL_SEED\"] = str(seed)\n",
        "    random.seed(seed)\n",
        "    np.random.seed(seed)\n",
        "    torch.manual_seed(seed)\n",
        "    torch.cuda.manual_seed_all(seed)\n",
        "\n",
        "\n",
        "def set_deterministic():\n",
        "    if torch.cuda.is_available():\n",
        "        torch.backends.cudnn.benchmark = False\n",
        "        torch.backends.cudnn.deterministic = True\n",
        "\n",
        " \n",
        "def compute_accuracy(model, data_loader, device):\n",
        "\n",
        "    with torch.no_grad():\n",
        "\n",
        "        correct_pred, num_examples = 0, 0\n",
        "\n",
        "        for i, (features, targets) in enumerate(data_loader):\n",
        "\n",
        "            features = features.to(device)\n",
        "            targets = targets.float().to(device)\n",
        "\n",
        "            logits = model(features)\n",
        "            _, predicted_labels = torch.max(logits, 1)\n",
        "\n",
        "            num_examples += targets.size(0)\n",
        "            correct_pred += (predicted_labels == targets).sum()\n",
        "    return correct_pred.float()/num_examples * 100"
      ],
      "metadata": {
        "id": "_jg5a6soDh41"
      },
      "execution_count": 29,
      "outputs": []
    },
    {
      "cell_type": "markdown",
      "source": [
        "**Helper function for training**"
      ],
      "metadata": {
        "id": "4vBaHjMiENWD"
      }
    },
    {
      "cell_type": "code",
      "source": [
        "def train_model(model, num_epochs, train_loader,\n",
        "                valid_loader, test_loader, optimizer, device):\n",
        "\n",
        "    start_time = time.time()\n",
        "    minibatch_loss_list, train_acc_list, valid_acc_list = [], [], []\n",
        "    for epoch in range(num_epochs):\n",
        "\n",
        "        model.train()\n",
        "        for batch_idx, (features, targets) in enumerate(train_loader):\n",
        "\n",
        "            features = features.to(device)\n",
        "            targets = targets.to(device)\n",
        "\n",
        "            # ## FORWARD AND BACK PROP\n",
        "            logits = model(features)\n",
        "            loss = torch.nn.functional.cross_entropy(logits, targets)\n",
        "            optimizer.zero_grad()\n",
        "\n",
        "            loss.backward()\n",
        "\n",
        "            # ## UPDATE MODEL PARAMETERS\n",
        "            optimizer.step()\n",
        "\n",
        "            # ## LOGGING\n",
        "            minibatch_loss_list.append(loss.item())\n",
        "            if not batch_idx % 50:\n",
        "                print(f'Epoch: {epoch+1:03d}/{num_epochs:03d} '\n",
        "                      f'| Batch {batch_idx:04d}/{len(train_loader):04d} '\n",
        "                      f'| Loss: {loss:.4f}')\n",
        "\n",
        "        model.eval()\n",
        "        with torch.no_grad():  # save memory during inference\n",
        "            train_acc = compute_accuracy(model, train_loader, device=device)\n",
        "            valid_acc = compute_accuracy(model, valid_loader, device=device)\n",
        "            print(f'Epoch: {epoch+1:03d}/{num_epochs:03d} '\n",
        "                  f'| Train: {train_acc :.2f}% '\n",
        "                  f'| Validation: {valid_acc :.2f}%')\n",
        "            train_acc_list.append(train_acc.item())\n",
        "            valid_acc_list.append(valid_acc.item())\n",
        "\n",
        "        elapsed = (time.time() - start_time)/60\n",
        "        print(f'Time elapsed: {elapsed:.2f} min')\n",
        "\n",
        "    elapsed = (time.time() - start_time)/60\n",
        "    print(f'Total Training Time: {elapsed:.2f} min')\n",
        "\n",
        "    test_acc = compute_accuracy(model, test_loader, device=device)\n",
        "    print(f'Test accuracy {test_acc :.2f}%')\n",
        "\n",
        "    return minibatch_loss_list, train_acc_list, valid_acc_list"
      ],
      "metadata": {
        "id": "kL3vMUz8DPjT"
      },
      "execution_count": 30,
      "outputs": []
    },
    {
      "cell_type": "markdown",
      "source": [
        "**Helper function for Plotting**"
      ],
      "metadata": {
        "id": "ix4NHZPBEPbS"
      }
    },
    {
      "cell_type": "code",
      "source": [
        "def plot_training_loss(minibatch_loss_list, num_epochs, iter_per_epoch,\n",
        "                       results_dir=None, averaging_iterations=100):\n",
        "\n",
        "    plt.figure()\n",
        "    ax1 = plt.subplot(1, 1, 1)\n",
        "    ax1.plot(range(len(minibatch_loss_list)),\n",
        "             (minibatch_loss_list), label='Minibatch Loss')\n",
        "\n",
        "    if len(minibatch_loss_list) > 1000:\n",
        "        ax1.set_ylim([\n",
        "            0, np.max(minibatch_loss_list[1000:])*1.5\n",
        "            ])\n",
        "    ax1.set_xlabel('Iterations')\n",
        "    ax1.set_ylabel('Loss')\n",
        "\n",
        "    ax1.plot(np.convolve(minibatch_loss_list,\n",
        "                         np.ones(averaging_iterations,)/averaging_iterations,\n",
        "                         mode='valid'),\n",
        "             label='Running Average')\n",
        "    ax1.legend()\n",
        "\n",
        "    ###################\n",
        "    # Set scond x-axis\n",
        "    ax2 = ax1.twiny()\n",
        "    newlabel = list(range(num_epochs+1))\n",
        "\n",
        "    newpos = [e*iter_per_epoch for e in newlabel]\n",
        "\n",
        "    ax2.set_xticks(newpos[::10])\n",
        "    ax2.set_xticklabels(newlabel[::10])\n",
        "\n",
        "    ax2.xaxis.set_ticks_position('bottom')\n",
        "    ax2.xaxis.set_label_position('bottom')\n",
        "    ax2.spines['bottom'].set_position(('outward', 45))\n",
        "    ax2.set_xlabel('Epochs')\n",
        "    ax2.set_xlim(ax1.get_xlim())\n",
        "    ###################\n",
        "\n",
        "    plt.tight_layout()\n",
        "\n",
        "    if results_dir is not None:\n",
        "        image_path = os.path.join(results_dir, 'plot_training_loss.pdf')\n",
        "        plt.savefig(image_path)\n",
        "\n",
        "\n",
        "def plot_accuracy(train_acc_list, valid_acc_list, results_dir):\n",
        "\n",
        "    num_epochs = len(train_acc_list)\n",
        "\n",
        "    plt.plot(np.arange(1, num_epochs+1),\n",
        "             train_acc_list, label='Training')\n",
        "    plt.plot(np.arange(1, num_epochs+1),\n",
        "             valid_acc_list, label='Validation')\n",
        "\n",
        "    plt.xlabel('Epoch')\n",
        "    plt.ylabel('Accuracy')\n",
        "    plt.legend()\n",
        "\n",
        "    plt.tight_layout()\n",
        "\n",
        "    if results_dir is not None:\n",
        "        image_path = os.path.join(\n",
        "            results_dir, 'plot_acc_training_validation.pdf')\n",
        "        plt.savefig(image_path)\n",
        "\n",
        "\n",
        "def show_examples(model, data_loader):\n",
        "\n",
        "    for batch_idx, (features, targets) in enumerate(data_loader):\n",
        "\n",
        "        with torch.no_grad():\n",
        "            features = features\n",
        "            targets = targets\n",
        "            logits = model(features)\n",
        "            predictions = torch.argmax(logits, dim=1)\n",
        "        break\n",
        "\n",
        "    fig, axes = plt.subplots(nrows=3, ncols=5,\n",
        "                             sharex=True, sharey=True)\n",
        "\n",
        "    nhwc_img = np.transpose(features, axes=(0, 2, 3, 1))\n",
        "    nhw_img = np.squeeze(nhwc_img.numpy(), axis=3)\n",
        "\n",
        "    for idx, ax in enumerate(axes.ravel()):\n",
        "        ax.imshow(nhw_img[idx], cmap='binary')\n",
        "        ax.title.set_text(f'P: {predictions[idx]} | T: {targets[idx]}')\n",
        "        ax.axison = False\n",
        "\n",
        "    plt.tight_layout()\n",
        "    plt.show()"
      ],
      "metadata": {
        "id": "pLbvlVxdDs3k"
      },
      "execution_count": 31,
      "outputs": []
    },
    {
      "cell_type": "markdown",
      "source": [
        "## Weight Initialization and BatchNorm"
      ],
      "metadata": {
        "id": "vn8K9g3WFAi2"
      }
    },
    {
      "cell_type": "markdown",
      "source": [
        "**Settings and Dataset**"
      ],
      "metadata": {
        "id": "Td2luL9_FJWL"
      }
    },
    {
      "cell_type": "code",
      "source": [
        "##########################\n",
        "### SETTINGS\n",
        "##########################\n",
        "\n",
        "RANDOM_SEED = 123\n",
        "BATCH_SIZE = 256\n",
        "NUM_HIDDEN_1 = 50\n",
        "NUM_HIDDEN_2 = 25\n",
        "NUM_EPOCHS = 10\n",
        "DEVICE = torch.device('cuda:0' if torch.cuda.is_available() else 'cpu')"
      ],
      "metadata": {
        "id": "hU0g6XJBFAJU"
      },
      "execution_count": 32,
      "outputs": []
    },
    {
      "cell_type": "code",
      "source": [
        "set_all_seeds(RANDOM_SEED)\n",
        "set_deterministic()"
      ],
      "metadata": {
        "id": "SjQvTlKLFN0j"
      },
      "execution_count": 33,
      "outputs": []
    },
    {
      "cell_type": "code",
      "source": [
        "##########################\n",
        "### MNIST DATASET\n",
        "##########################\n",
        "\n",
        "train_loader, valid_loader, test_loader = get_dataloaders_mnist(\n",
        "    batch_size=BATCH_SIZE,\n",
        "    validation_fraction=0.1)\n",
        "\n",
        "# Checking the dataset\n",
        "for images, labels in train_loader:  \n",
        "    print('Image batch dimensions:', images.shape)\n",
        "    print('Image label dimensions:', labels.shape)\n",
        "    print('Class labels of 10 examples:', labels[:10])\n",
        "    break"
      ],
      "metadata": {
        "id": "fFXe0HVvFQ1M",
        "outputId": "bc9692fb-21f7-4d64-b54e-7bbccf4f7adf",
        "colab": {
          "base_uri": "https://localhost:8080/"
        }
      },
      "execution_count": 34,
      "outputs": [
        {
          "output_type": "stream",
          "name": "stdout",
          "text": [
            "Image batch dimensions: torch.Size([256, 1, 28, 28])\n",
            "Image label dimensions: torch.Size([256])\n",
            "Class labels of 10 examples: tensor([4, 5, 8, 9, 9, 4, 9, 9, 3, 9])\n"
          ]
        }
      ]
    },
    {
      "cell_type": "code",
      "source": [
        "class MultilayerPerceptron(torch.nn.Module):\n",
        "\n",
        "    def __init__(self, num_features, num_classes, drop_proba, \n",
        "                 num_hidden_1, num_hidden_2):\n",
        "        super().__init__()\n",
        "        \n",
        "        self.my_network = torch.nn.Sequential(\n",
        "            # 1st hidden layer\n",
        "            torch.nn.Flatten(),\n",
        "            torch.nn.Linear(num_features, num_hidden_1, bias=False),\n",
        "            torch.nn.BatchNorm1d(num_hidden_1),\n",
        "            torch.nn.ReLU(),\n",
        "            # 2nd hidden layer\n",
        "            torch.nn.Linear(num_hidden_1, num_hidden_2, bias=False),\n",
        "            torch.nn.BatchNorm1d(num_hidden_2),\n",
        "            torch.nn.ReLU(),\n",
        "            # output layer\n",
        "            torch.nn.Linear(num_hidden_2, num_classes)\n",
        "        )\n",
        "\n",
        "        for m in self.modules():\n",
        "            if isinstance(m, torch.nn.Linear):\n",
        "                torch.nn.init.kaiming_uniform_(m.weight, mode='fan_in', nonlinearity='relu')\n",
        "                if m.bias is not None:\n",
        "                    m.bias.detach().zero_()\n",
        "           \n",
        "    def forward(self, x):\n",
        "        logits = self.my_network(x)\n",
        "        return logits"
      ],
      "metadata": {
        "id": "FnXK9h34FRqJ"
      },
      "execution_count": 35,
      "outputs": []
    },
    {
      "cell_type": "code",
      "source": [
        "torch.manual_seed(RANDOM_SEED)\n",
        "model = MultilayerPerceptron(num_features=28*28,\n",
        "                             num_hidden_1=NUM_HIDDEN_1,\n",
        "                             num_hidden_2=NUM_HIDDEN_2,\n",
        "                             drop_proba=0.5,\n",
        "                             num_classes=10)\n",
        "model = model.to(DEVICE)\n",
        "\n",
        "optimizer = torch.optim.SGD(model.parameters(), lr=0.1)\n",
        "\n",
        "minibatch_loss_list, train_acc_list, valid_acc_list = train_model(\n",
        "    model=model,\n",
        "    num_epochs=NUM_EPOCHS,\n",
        "    train_loader=train_loader,\n",
        "    valid_loader=valid_loader,\n",
        "    test_loader=test_loader,\n",
        "    optimizer=optimizer,\n",
        "    device=DEVICE)\n",
        "\n",
        "plot_training_loss(minibatch_loss_list=minibatch_loss_list,\n",
        "                   num_epochs=NUM_EPOCHS,\n",
        "                   iter_per_epoch=len(train_loader),\n",
        "                   results_dir=None,\n",
        "                   averaging_iterations=20)\n",
        "plt.show()\n",
        "\n",
        "plot_accuracy(train_acc_list=train_acc_list,\n",
        "              valid_acc_list=valid_acc_list,\n",
        "              results_dir=None)\n",
        "plt.ylim([80, 100])\n",
        "plt.show()"
      ],
      "metadata": {
        "id": "UQIg_aOxFY_R",
        "outputId": "263f7780-d337-4f9c-be67-23363c3d59bb",
        "colab": {
          "base_uri": "https://localhost:8080/",
          "height": 1000
        }
      },
      "execution_count": 36,
      "outputs": [
        {
          "output_type": "stream",
          "name": "stdout",
          "text": [
            "Epoch: 001/010 | Batch 0000/0210 | Loss: 2.7446\n",
            "Epoch: 001/010 | Batch 0050/0210 | Loss: 0.5098\n",
            "Epoch: 001/010 | Batch 0100/0210 | Loss: 0.4496\n",
            "Epoch: 001/010 | Batch 0150/0210 | Loss: 0.2792\n",
            "Epoch: 001/010 | Batch 0200/0210 | Loss: 0.2946\n",
            "Epoch: 001/010 | Train: 93.26% | Validation: 94.47%\n",
            "Time elapsed: 0.15 min\n",
            "Epoch: 002/010 | Batch 0000/0210 | Loss: 0.2280\n",
            "Epoch: 002/010 | Batch 0050/0210 | Loss: 0.1755\n",
            "Epoch: 002/010 | Batch 0100/0210 | Loss: 0.2529\n",
            "Epoch: 002/010 | Batch 0150/0210 | Loss: 0.1763\n",
            "Epoch: 002/010 | Batch 0200/0210 | Loss: 0.1770\n",
            "Epoch: 002/010 | Train: 95.27% | Validation: 96.03%\n",
            "Time elapsed: 0.30 min\n",
            "Epoch: 003/010 | Batch 0000/0210 | Loss: 0.1395\n",
            "Epoch: 003/010 | Batch 0050/0210 | Loss: 0.2287\n",
            "Epoch: 003/010 | Batch 0100/0210 | Loss: 0.1492\n",
            "Epoch: 003/010 | Batch 0150/0210 | Loss: 0.1992\n",
            "Epoch: 003/010 | Batch 0200/0210 | Loss: 0.0930\n",
            "Epoch: 003/010 | Train: 96.27% | Validation: 96.20%\n",
            "Time elapsed: 0.45 min\n",
            "Epoch: 004/010 | Batch 0000/0210 | Loss: 0.1377\n",
            "Epoch: 004/010 | Batch 0050/0210 | Loss: 0.1418\n",
            "Epoch: 004/010 | Batch 0100/0210 | Loss: 0.1245\n",
            "Epoch: 004/010 | Batch 0150/0210 | Loss: 0.1556\n",
            "Epoch: 004/010 | Batch 0200/0210 | Loss: 0.1223\n",
            "Epoch: 004/010 | Train: 96.94% | Validation: 96.70%\n",
            "Time elapsed: 0.61 min\n",
            "Epoch: 005/010 | Batch 0000/0210 | Loss: 0.1190\n",
            "Epoch: 005/010 | Batch 0050/0210 | Loss: 0.1259\n",
            "Epoch: 005/010 | Batch 0100/0210 | Loss: 0.0890\n",
            "Epoch: 005/010 | Batch 0150/0210 | Loss: 0.0992\n",
            "Epoch: 005/010 | Batch 0200/0210 | Loss: 0.1337\n",
            "Epoch: 005/010 | Train: 97.35% | Validation: 97.08%\n",
            "Time elapsed: 0.76 min\n",
            "Epoch: 006/010 | Batch 0000/0210 | Loss: 0.0984\n",
            "Epoch: 006/010 | Batch 0050/0210 | Loss: 0.0421\n",
            "Epoch: 006/010 | Batch 0100/0210 | Loss: 0.0717\n",
            "Epoch: 006/010 | Batch 0150/0210 | Loss: 0.0645\n",
            "Epoch: 006/010 | Batch 0200/0210 | Loss: 0.1299\n",
            "Epoch: 006/010 | Train: 97.85% | Validation: 97.13%\n",
            "Time elapsed: 0.91 min\n",
            "Epoch: 007/010 | Batch 0000/0210 | Loss: 0.0565\n",
            "Epoch: 007/010 | Batch 0050/0210 | Loss: 0.0768\n",
            "Epoch: 007/010 | Batch 0100/0210 | Loss: 0.0575\n",
            "Epoch: 007/010 | Batch 0150/0210 | Loss: 0.1358\n",
            "Epoch: 007/010 | Batch 0200/0210 | Loss: 0.0828\n",
            "Epoch: 007/010 | Train: 98.16% | Validation: 97.28%\n",
            "Time elapsed: 1.06 min\n",
            "Epoch: 008/010 | Batch 0000/0210 | Loss: 0.1109\n",
            "Epoch: 008/010 | Batch 0050/0210 | Loss: 0.0710\n",
            "Epoch: 008/010 | Batch 0100/0210 | Loss: 0.0960\n",
            "Epoch: 008/010 | Batch 0150/0210 | Loss: 0.0785\n",
            "Epoch: 008/010 | Batch 0200/0210 | Loss: 0.1200\n",
            "Epoch: 008/010 | Train: 98.27% | Validation: 97.22%\n",
            "Time elapsed: 1.21 min\n",
            "Epoch: 009/010 | Batch 0000/0210 | Loss: 0.0859\n",
            "Epoch: 009/010 | Batch 0050/0210 | Loss: 0.0854\n",
            "Epoch: 009/010 | Batch 0100/0210 | Loss: 0.1134\n",
            "Epoch: 009/010 | Batch 0150/0210 | Loss: 0.0721\n",
            "Epoch: 009/010 | Batch 0200/0210 | Loss: 0.0653\n",
            "Epoch: 009/010 | Train: 98.58% | Validation: 97.22%\n",
            "Time elapsed: 1.37 min\n",
            "Epoch: 010/010 | Batch 0000/0210 | Loss: 0.1039\n",
            "Epoch: 010/010 | Batch 0050/0210 | Loss: 0.0800\n",
            "Epoch: 010/010 | Batch 0100/0210 | Loss: 0.0389\n",
            "Epoch: 010/010 | Batch 0150/0210 | Loss: 0.0718\n",
            "Epoch: 010/010 | Batch 0200/0210 | Loss: 0.1217\n",
            "Epoch: 010/010 | Train: 98.71% | Validation: 97.33%\n",
            "Time elapsed: 1.52 min\n",
            "Total Training Time: 1.52 min\n",
            "Test accuracy 97.09%\n"
          ]
        },
        {
          "output_type": "display_data",
          "data": {
            "text/plain": [
              "<Figure size 432x288 with 2 Axes>"
            ],
            "image/png": "[encoded data removed]"
          },
          "metadata": {
            "needs_background": "light"
          }
        },
        {
          "output_type": "display_data",
          "data": {
            "text/plain": [
              "<Figure size 432x288 with 1 Axes>"
            ],
            "image/png": "[encoded data removed]"
          },
          "metadata": {
            "needs_background": "light"
          }
        }
      ]
    },
    {
      "cell_type": "markdown",
      "source": [
        "**Acknowledgements**"
      ],
      "metadata": {
        "id": "LeasJMatLsxe"
      }
    },
    {
      "cell_type": "markdown",
      "source": [
        "Code adopted from the excellent lectures of Sebastian Raschka\n",
        "\n",
        "https://sebastianraschka.com/blog/2021/dl-course.html"
      ],
      "metadata": {
        "id": "uKvcAckiLzGO"
      }
    },
    {
      "cell_type": "code",
      "source": [
        ""
      ],
      "metadata": {
        "id": "wqAEHIz2MIhU"
      },
      "execution_count": 36,
      "outputs": []
    }
  ]
}