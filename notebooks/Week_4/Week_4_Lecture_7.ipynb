{
  "nbformat": 4,
  "nbformat_minor": 0,
  "metadata": {
    "colab": {
      "name": "Week_4_Lecture_7.ipynb",
      "provenance": [],
      "include_colab_link": true
    },
    "kernelspec": {
      "name": "python3",
      "display_name": "Python 3"
    },
    "language_info": {
      "name": "python"
    },
    "widgets": {
      "application/vnd.jupyter.widget-state+json": {
        "5128b41ea9e34b49bd127a9a5799abfe": {
          "model_module": "@jupyter-widgets/output",
          "model_name": "OutputModel",
          "model_module_version": "1.0.0",
          "state": {
            "_dom_classes": [],
            "_model_module": "@jupyter-widgets/output",
            "_model_module_version": "1.0.0",
            "_model_name": "OutputModel",
            "_view_count": null,
            "_view_module": "@jupyter-widgets/output",
            "_view_module_version": "1.0.0",
            "_view_name": "OutputView",
            "layout": "IPY_MODEL_dd2b539636134a0a8614df8476534479",
            "msg_id": "",
            "outputs": [
              {
                "output_type": "stream",
                "name": "stdout",
                "text": [
                  "Video available at https://youtube.com/watch?v=fS1aoHtTKMs\n"
                ]
              },
              {
                "output_type": "display_data",
                "data": {
                  "text/plain": "<IPython.lib.display.YouTubeVideo at 0x7fd0d38c2ed0>",
                  "text/html": "\n        <iframe\n            width=\"854\"\n            height=\"480\"\n            src=\"https://www.youtube.com/embed/fS1aoHtTKMs?fs=1&rel=0\"\n            frameborder=\"0\"\n            allowfullscreen\n        ></iframe>\n        ",
                  "image/jpeg": "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\n"
                },
                "metadata": {}
              }
            ]
          }
        },
        "dd2b539636134a0a8614df8476534479": {
          "model_module": "@jupyter-widgets/base",
          "model_name": "LayoutModel",
          "model_module_version": "1.2.0",
          "state": {
            "_model_module": "@jupyter-widgets/base",
            "_model_module_version": "1.2.0",
            "_model_name": "LayoutModel",
            "_view_count": null,
            "_view_module": "@jupyter-widgets/base",
            "_view_module_version": "1.2.0",
            "_view_name": "LayoutView",
            "align_content": null,
            "align_items": null,
            "align_self": null,
            "border": null,
            "bottom": null,
            "display": null,
            "flex": null,
            "flex_flow": null,
            "grid_area": null,
            "grid_auto_columns": null,
            "grid_auto_flow": null,
            "grid_auto_rows": null,
            "grid_column": null,
            "grid_gap": null,
            "grid_row": null,
            "grid_template_areas": null,
            "grid_template_columns": null,
            "grid_template_rows": null,
            "height": null,
            "justify_content": null,
            "justify_items": null,
            "left": null,
            "margin": null,
            "max_height": null,
            "max_width": null,
            "min_height": null,
            "min_width": null,
            "object_fit": null,
            "object_position": null,
            "order": null,
            "overflow": null,
            "overflow_x": null,
            "overflow_y": null,
            "padding": null,
            "right": null,
            "top": null,
            "visibility": null,
            "width": null
          }
        }
      }
    }
  },
  "cells": [
    {
      "cell_type": "markdown",
      "metadata": {
        "id": "view-in-github",
        "colab_type": "text"
      },
      "source": [
        "<a href=\"https://colab.research.google.com/github/DL4CV-NPTEL/Deep-Learning-For-Computer-Vision/blob/main/notebooks/Week_4/Week_4_Lecture_7.ipynb\" target=\"_parent\"><img src=\"https://colab.research.google.com/assets/colab-badge.svg\" alt=\"Open In Colab\"/></a>"
      ]
    },
    {
      "cell_type": "markdown",
      "source": [
        "# Lecture 7: Regularization in Neural Networks Part 1 <sup><mark style=\"background-color:gold\">Code</mark> </sup>"
      ],
      "metadata": {
        "id": "3JdIPfdtt2TU"
      }
    },
    {
      "cell_type": "code",
      "source": [
        "#@title \n",
        "from ipywidgets import widgets\n",
        "out1 = widgets.Output()\n",
        "with out1:\n",
        "  from IPython.display import YouTubeVideo\n",
        "  video = YouTubeVideo(id=f\"fS1aoHtTKMs\", width=854, height=480, fs=1, rel=0)\n",
        "  print(\"Video available at https://youtube.com/watch?v=\" + video.id)\n",
        "  display(video)\n",
        "display(out1)"
      ],
      "metadata": {
        "colab": {
          "base_uri": "https://localhost:8080/",
          "height": 518,
          "referenced_widgets": [
            "5128b41ea9e34b49bd127a9a5799abfe",
            "dd2b539636134a0a8614df8476534479"
          ]
        },
        "cellView": "form",
        "id": "rA0FZ1_3t3nO",
        "outputId": "02f9551a-6f3c-4375-db72-ffbe96a8a63e"
      },
      "execution_count": 5,
      "outputs": [
        {
          "output_type": "display_data",
          "data": {
            "text/plain": [
              "Output()"
            ],
            "application/vnd.jupyter.widget-view+json": {
              "version_major": 2,
              "version_minor": 0,
              "model_id": "5128b41ea9e34b49bd127a9a5799abfe"
            }
          },
          "metadata": {}
        }
      ]
    },
    {
      "cell_type": "code",
      "source": [
        "#@title \n",
        "from IPython import display as IPyDisplay\n",
        "IPyDisplay.HTML(\n",
        "    f\"\"\"\n",
        "  <div>\n",
        "    <a href= \"https://github.com/DL4CV-NPTEL/Deep-Learning-For-Computer-Vision/blob/main/Slides/Week_4/DL4CV_Week04_Part04.pdf\" target=\"_blank\">\n",
        "    <img src=\"https://github.com/DL4CV-NPTEL/Deep-Learning-For-Computer-Vision/blob/main/Data/Slides_Logo.png?raw=1\"\n",
        "  alt=\"button link to Airtable\" style=\"width:200px\"></a>\n",
        "    </div>\"\"\" )"
      ],
      "metadata": {
        "colab": {
          "base_uri": "https://localhost:8080/",
          "height": 100
        },
        "cellView": "form",
        "id": "WrHo4zh4t_Km",
        "outputId": "d34be3c8-fdcf-48c7-db52-36f5645e547f"
      },
      "execution_count": 6,
      "outputs": [
        {
          "output_type": "execute_result",
          "data": {
            "text/plain": [
              "<IPython.core.display.HTML object>"
            ],
            "text/html": [
              "\n",
              "  <div>\n",
              "    <a href= \"https://github.com/DL4CV-NPTEL/Deep-Learning-For-Computer-Vision/blob/main/Slides/Week_4/DL4CV_Week04_Part04.pdf\" target=\"_blank\">\n",
              "    <img src=\"https://github.com/DL4CV-NPTEL/Deep-Learning-For-Computer-Vision/blob/main/Data/Slides_Logo.png?raw=1\"\n",
              "  alt=\"button link to Airtable\" style=\"width:200px\"></a>\n",
              "    </div>"
            ]
          },
          "metadata": {},
          "execution_count": 6
        }
      ]
    },
    {
      "cell_type": "markdown",
      "source": [
        "## Logistic Regression with L2 Regularization"
      ],
      "metadata": {
        "id": "tXTBAujqd4Zq"
      }
    },
    {
      "cell_type": "markdown",
      "source": [
        "**Imports**"
      ],
      "metadata": {
        "id": "KYfCLMDheA6e"
      }
    },
    {
      "cell_type": "code",
      "source": [
        "%matplotlib inline\n",
        "import matplotlib.pyplot as plt\n",
        "import numpy as np\n",
        "\n",
        "import torch\n",
        "import torch.nn.functional as F\n",
        "\n",
        "device = torch.device('cuda:0' if torch.cuda.is_available() else 'cpu')\n",
        "LAMBDA = 2"
      ],
      "metadata": {
        "id": "wvT7F0cyuLI4"
      },
      "execution_count": 7,
      "outputs": []
    },
    {
      "cell_type": "markdown",
      "source": [
        "**Preparing a toy dataset**"
      ],
      "metadata": {
        "id": "FkvH_-Qhe4yt"
      }
    },
    {
      "cell_type": "code",
      "source": [
        "##########################\n",
        "### DATASET\n",
        "##########################\n",
        "\n",
        "data = np.genfromtxt('https://raw.githubusercontent.com/DL4CV-NPTEL/Deep-Learning-For-Computer-Vision/main/Data/Week%204/toydata.txt', delimiter='\\t')\n",
        "x = data[:, :2].astype(np.float32)\n",
        "y = data[:, 2].astype(np.int64)\n",
        "\n",
        "np.random.seed(123)\n",
        "idx = np.arange(y.shape[0])\n",
        "np.random.shuffle(idx)\n",
        "X_test, y_test = x[idx[:25]], y[idx[:25]]\n",
        "X_train, y_train = x[idx[25:]], y[idx[25:]]\n",
        "mu, std = np.mean(X_train, axis=0), np.std(X_train, axis=0)\n",
        "X_train, X_test = (X_train - mu) / std, (X_test - mu) / std\n",
        "\n",
        "fig, ax = plt.subplots(1, 2, figsize=(7, 2.5))\n",
        "ax[0].scatter(X_train[y_train == 1, 0], X_train[y_train == 1, 1])\n",
        "ax[0].scatter(X_train[y_train == 0, 0], X_train[y_train == 0, 1])\n",
        "ax[1].scatter(X_test[y_test == 1, 0], X_test[y_test == 1, 1])\n",
        "ax[1].scatter(X_test[y_test == 0, 0], X_test[y_test == 0, 1])\n",
        "plt.xlim([x[:, 0].min()-0.5, x[:, 0].max()+0.5])\n",
        "plt.ylim([x[:, 1].min()-0.5, x[:, 1].max()+0.5])\n",
        "plt.show()"
      ],
      "metadata": {
        "id": "r3whBzASeGMZ",
        "outputId": "51c48d64-c9fb-4608-8d52-95b289813049",
        "colab": {
          "base_uri": "https://localhost:8080/",
          "height": 184
        }
      },
      "execution_count": 8,
      "outputs": [
        {
          "output_type": "display_data",
          "data": {
            "text/plain": [
              "<Figure size 504x180 with 2 Axes>"
            ],
            "image/png": "[encoded data removed]"
          },
          "metadata": {
            "needs_background": "light"
          }
        }
      ]
    },
    {
      "cell_type": "markdown",
      "source": [
        "### L2-Regularized Logistic Regression via weight_decay"
      ],
      "metadata": {
        "id": "zL1O4lS-eyiW"
      }
    },
    {
      "cell_type": "code",
      "source": [
        "def custom_where(cond, x_1, x_2):\n",
        "    return (cond * x_1) + ((1-cond) * x_2)\n",
        "\n",
        "\n",
        "class LogisticRegression(torch.nn.Module):\n",
        "\n",
        "    def __init__(self, num_features):\n",
        "        super(LogisticRegression, self).__init__()\n",
        "        self.linear = torch.nn.Linear(num_features, 1)\n",
        "        # initialize weights to zeros here,\n",
        "        # since we used zero weights in the\n",
        "        # manual approach\n",
        "        \n",
        "        self.linear.weight.detach().zero_()\n",
        "        self.linear.bias.detach().zero_()\n",
        "        # Note: the trailing underscore\n",
        "        # means \"in-place operation\" in the context\n",
        "        # of PyTorch\n",
        "        \n",
        "    def forward(self, x):\n",
        "        logits = self.linear(x)\n",
        "        probas = torch.sigmoid(logits)\n",
        "        return probas\n",
        "\n",
        "model = LogisticRegression(num_features=2).to(device)\n",
        "\n",
        "#########################################################\n",
        "## Apply L2 regularization\n",
        "optimizer = torch.optim.SGD(model.parameters(), \n",
        "                            lr=0.1, \n",
        "                            weight_decay=LAMBDA)\n",
        "#-------------------------------------------------------\n",
        "\n",
        "\n",
        "def comp_accuracy(label_var, pred_probas):\n",
        "    pred_labels = custom_where((pred_probas > 0.5).float(), 1, 0).view(-1)\n",
        "    acc = torch.sum(pred_labels == label_var.view(-1)).float() / label_var.size(0)\n",
        "    return acc\n",
        "\n",
        "\n",
        "num_epochs = 30\n",
        "\n",
        "X_train_tensor = torch.tensor(X_train, dtype=torch.float32, device=device)\n",
        "y_train_tensor = torch.tensor(y_train, dtype=torch.float32, device=device).view(-1, 1)\n",
        "\n",
        "\n",
        "for epoch in range(num_epochs):\n",
        "    \n",
        "    #### Compute outputs ####\n",
        "    out = model(X_train_tensor)\n",
        "    \n",
        "    #### Compute gradients ####\n",
        "    cost = F.binary_cross_entropy(out, y_train_tensor, reduction='sum')\n",
        "    optimizer.zero_grad()\n",
        "    cost.backward()\n",
        "    \n",
        "    #### Update weights ####  \n",
        "    optimizer.step()\n",
        "    \n",
        "    #### Logging ####      \n",
        "    pred_probas = model(X_train_tensor)\n",
        "    acc = comp_accuracy(y_train_tensor, pred_probas)\n",
        "    print('Epoch: %03d' % (epoch + 1), end=\"\")\n",
        "    print(' | Train ACC: %.3f' % acc, end=\"\")\n",
        "    print(' | Cost: %.3f' % F.binary_cross_entropy(pred_probas, y_train_tensor))\n",
        "\n",
        "\n",
        "    \n",
        "print('\\nModel parameters:')\n",
        "print('  Weights: %s' % model.linear.weight)\n",
        "print('  Bias: %s' % model.linear.bias)\n",
        "\n",
        "\n",
        "X_test_tensor = torch.tensor(X_test, dtype=torch.float32, device=device)\n",
        "y_test_tensor = torch.tensor(y_test, dtype=torch.float32, device=device)\n",
        "\n",
        "pred_probas = model(X_test_tensor)\n",
        "test_acc = comp_accuracy(y_test_tensor, pred_probas)\n",
        "\n",
        "print('\\n\\nTest set accuracy: %.2f%%' % (test_acc*100))"
      ],
      "metadata": {
        "id": "ztu3j_K6ejKV",
        "outputId": "df327760-0007-44b5-cc56-35781e5e34a3",
        "colab": {
          "base_uri": "https://localhost:8080/"
        }
      },
      "execution_count": 9,
      "outputs": [
        {
          "output_type": "stream",
          "name": "stdout",
          "text": [
            "Epoch: 001 | Train ACC: 0.973 | Cost: 0.055\n",
            "Epoch: 002 | Train ACC: 0.973 | Cost: 0.065\n",
            "Epoch: 003 | Train ACC: 0.973 | Cost: 0.080\n",
            "Epoch: 004 | Train ACC: 0.973 | Cost: 0.094\n",
            "Epoch: 005 | Train ACC: 0.973 | Cost: 0.104\n",
            "Epoch: 006 | Train ACC: 0.973 | Cost: 0.108\n",
            "Epoch: 007 | Train ACC: 0.973 | Cost: 0.110\n",
            "Epoch: 008 | Train ACC: 0.973 | Cost: 0.111\n",
            "Epoch: 009 | Train ACC: 0.973 | Cost: 0.112\n",
            "Epoch: 010 | Train ACC: 0.973 | Cost: 0.112\n",
            "Epoch: 011 | Train ACC: 0.973 | Cost: 0.112\n",
            "Epoch: 012 | Train ACC: 0.973 | Cost: 0.112\n",
            "Epoch: 013 | Train ACC: 0.973 | Cost: 0.112\n",
            "Epoch: 014 | Train ACC: 0.973 | Cost: 0.112\n",
            "Epoch: 015 | Train ACC: 0.973 | Cost: 0.112\n",
            "Epoch: 016 | Train ACC: 0.973 | Cost: 0.112\n",
            "Epoch: 017 | Train ACC: 0.973 | Cost: 0.112\n",
            "Epoch: 018 | Train ACC: 0.973 | Cost: 0.112\n",
            "Epoch: 019 | Train ACC: 0.973 | Cost: 0.112\n",
            "Epoch: 020 | Train ACC: 0.973 | Cost: 0.112\n",
            "Epoch: 021 | Train ACC: 0.973 | Cost: 0.112\n",
            "Epoch: 022 | Train ACC: 0.973 | Cost: 0.112\n",
            "Epoch: 023 | Train ACC: 0.973 | Cost: 0.112\n",
            "Epoch: 024 | Train ACC: 0.973 | Cost: 0.112\n",
            "Epoch: 025 | Train ACC: 0.973 | Cost: 0.112\n",
            "Epoch: 026 | Train ACC: 0.973 | Cost: 0.112\n",
            "Epoch: 027 | Train ACC: 0.973 | Cost: 0.112\n",
            "Epoch: 028 | Train ACC: 0.973 | Cost: 0.112\n",
            "Epoch: 029 | Train ACC: 0.973 | Cost: 0.112\n",
            "Epoch: 030 | Train ACC: 0.973 | Cost: 0.112\n",
            "\n",
            "Model parameters:\n",
            "  Weights: Parameter containing:\n",
            "tensor([[1.7546, 1.5997]], requires_grad=True)\n",
            "  Bias: Parameter containing:\n",
            "tensor([-0.0401], requires_grad=True)\n",
            "\n",
            "\n",
            "Test set accuracy: 96.00%\n"
          ]
        }
      ]
    },
    {
      "cell_type": "markdown",
      "source": [
        "### L2-Regularized Logistic Regression via Manual Regularization"
      ],
      "metadata": {
        "id": "Gb4JULK2ewDG"
      }
    },
    {
      "cell_type": "code",
      "source": [
        "model = LogisticRegression(num_features=2).to(device)\n",
        "optimizer = torch.optim.SGD(model.parameters(), lr=0.1)\n",
        "\n",
        "for epoch in range(num_epochs):\n",
        "    \n",
        "    #### Compute outputs ####\n",
        "    out = model(X_train_tensor)\n",
        "    \n",
        "    #### Compute gradients ####\n",
        "    \n",
        "    #########################################################\n",
        "    ## Apply L2 regularization (weight decay)\n",
        "    cost = F.binary_cross_entropy(out, y_train_tensor, reduction='sum')\n",
        "    cost = cost + 0.5 * LAMBDA * torch.mm(model.linear.weight,\n",
        "                                          model.linear.weight.t())\n",
        "    \n",
        "    # note that PyTorch also regularizes the bias, hence, if we want\n",
        "    # to reproduce the behavior of SGD's \"weight_decay\" param, we have to add\n",
        "    # the bias term as well: \n",
        "    cost = cost + 0.5 * LAMBDA * model.linear.bias**2\n",
        "    #-------------------------------------------------------\n",
        "    \n",
        "    optimizer.zero_grad()\n",
        "    cost.backward()\n",
        "    \n",
        "    #### Update weights ####  \n",
        "    optimizer.step()\n",
        "    \n",
        "    #### Logging ####      \n",
        "    pred_probas = model(X_train_tensor)\n",
        "    acc = comp_accuracy(y_train_tensor, pred_probas)\n",
        "    print('Epoch: %03d' % (epoch + 1), end=\"\")\n",
        "    print(' | Train ACC: %.3f' % acc, end=\"\")\n",
        "    print(' | Cost: %.3f' % F.binary_cross_entropy(pred_probas, y_train_tensor))\n",
        "\n",
        "\n",
        "    \n",
        "print('\\nModel parameters:')\n",
        "print('  Weights: %s' % model.linear.weight)\n",
        "print('  Bias: %s' % model.linear.bias)\n",
        "\n",
        "\n",
        "X_test_tensor = torch.tensor(X_test, dtype=torch.float32, device=device)\n",
        "y_test_tensor = torch.tensor(y_test, dtype=torch.float32, device=device)\n",
        "\n",
        "pred_probas = model(X_test_tensor)\n",
        "test_acc = comp_accuracy(y_test_tensor, pred_probas)\n",
        "\n",
        "print('\\n\\nTest set accuracy: %.2f%%' % (test_acc*100))"
      ],
      "metadata": {
        "id": "C4h0udRweopl",
        "outputId": "e9ada4ad-8ab0-44b3-ec63-21c78af45519",
        "colab": {
          "base_uri": "https://localhost:8080/"
        }
      },
      "execution_count": 10,
      "outputs": [
        {
          "output_type": "stream",
          "name": "stdout",
          "text": [
            "Epoch: 001 | Train ACC: 0.973 | Cost: 0.055\n",
            "Epoch: 002 | Train ACC: 0.973 | Cost: 0.065\n",
            "Epoch: 003 | Train ACC: 0.973 | Cost: 0.080\n",
            "Epoch: 004 | Train ACC: 0.973 | Cost: 0.094\n",
            "Epoch: 005 | Train ACC: 0.973 | Cost: 0.104\n",
            "Epoch: 006 | Train ACC: 0.973 | Cost: 0.108\n",
            "Epoch: 007 | Train ACC: 0.973 | Cost: 0.110\n",
            "Epoch: 008 | Train ACC: 0.973 | Cost: 0.111\n",
            "Epoch: 009 | Train ACC: 0.973 | Cost: 0.112\n",
            "Epoch: 010 | Train ACC: 0.973 | Cost: 0.112\n",
            "Epoch: 011 | Train ACC: 0.973 | Cost: 0.112\n",
            "Epoch: 012 | Train ACC: 0.973 | Cost: 0.112\n",
            "Epoch: 013 | Train ACC: 0.973 | Cost: 0.112\n",
            "Epoch: 014 | Train ACC: 0.973 | Cost: 0.112\n",
            "Epoch: 015 | Train ACC: 0.973 | Cost: 0.112\n",
            "Epoch: 016 | Train ACC: 0.973 | Cost: 0.112\n",
            "Epoch: 017 | Train ACC: 0.973 | Cost: 0.112\n",
            "Epoch: 018 | Train ACC: 0.973 | Cost: 0.112\n",
            "Epoch: 019 | Train ACC: 0.973 | Cost: 0.112\n",
            "Epoch: 020 | Train ACC: 0.973 | Cost: 0.112\n",
            "Epoch: 021 | Train ACC: 0.973 | Cost: 0.112\n",
            "Epoch: 022 | Train ACC: 0.973 | Cost: 0.112\n",
            "Epoch: 023 | Train ACC: 0.973 | Cost: 0.112\n",
            "Epoch: 024 | Train ACC: 0.973 | Cost: 0.112\n",
            "Epoch: 025 | Train ACC: 0.973 | Cost: 0.112\n",
            "Epoch: 026 | Train ACC: 0.973 | Cost: 0.112\n",
            "Epoch: 027 | Train ACC: 0.973 | Cost: 0.112\n",
            "Epoch: 028 | Train ACC: 0.973 | Cost: 0.112\n",
            "Epoch: 029 | Train ACC: 0.973 | Cost: 0.112\n",
            "Epoch: 030 | Train ACC: 0.973 | Cost: 0.112\n",
            "\n",
            "Model parameters:\n",
            "  Weights: Parameter containing:\n",
            "tensor([[1.7546, 1.5997]], requires_grad=True)\n",
            "  Bias: Parameter containing:\n",
            "tensor([-0.0401], requires_grad=True)\n",
            "\n",
            "\n",
            "Test set accuracy: 96.00%\n"
          ]
        }
      ]
    },
    {
      "cell_type": "markdown",
      "source": [
        "**Acknowledgements**"
      ],
      "metadata": {
        "id": "LeasJMatLsxe"
      }
    },
    {
      "cell_type": "markdown",
      "source": [
        "Code adopted from the excellent lectures of Sebastian Raschka\n",
        "\n",
        "https://sebastianraschka.com/blog/2021/dl-course.html"
      ],
      "metadata": {
        "id": "uKvcAckiLzGO"
      }
    }
  ]
}