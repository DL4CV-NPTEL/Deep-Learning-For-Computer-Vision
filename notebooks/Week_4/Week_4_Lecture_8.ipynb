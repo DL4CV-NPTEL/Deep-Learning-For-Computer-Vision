{
  "nbformat": 4,
  "nbformat_minor": 0,
  "metadata": {
    "colab": {
      "name": "Week_4_Lecture_8.ipynb",
      "provenance": [],
      "include_colab_link": true
    },
    "kernelspec": {
      "name": "python3",
      "display_name": "Python 3"
    },
    "language_info": {
      "name": "python"
    },
    "widgets": {
      "application/vnd.jupyter.widget-state+json": {
        "f203bf3352224d39b4159e611334bb71": {
          "model_module": "@jupyter-widgets/output",
          "model_name": "OutputModel",
          "model_module_version": "1.0.0",
          "state": {
            "_dom_classes": [],
            "_model_module": "@jupyter-widgets/output",
            "_model_module_version": "1.0.0",
            "_model_name": "OutputModel",
            "_view_count": null,
            "_view_module": "@jupyter-widgets/output",
            "_view_module_version": "1.0.0",
            "_view_name": "OutputView",
            "layout": "IPY_MODEL_279b854326334321b6925801f61c1d2b",
            "msg_id": "",
            "outputs": [
              {
                "output_type": "stream",
                "name": "stdout",
                "text": [
                  "Video available at https://youtube.com/watch?v=oHtOFQR0Wng\n"
                ]
              },
              {
                "output_type": "display_data",
                "data": {
                  "text/plain": "<IPython.lib.display.YouTubeVideo at 0x7f4db5c80d10>",
                  "text/html": "\n        <iframe\n            width=\"854\"\n            height=\"480\"\n            src=\"https://www.youtube.com/embed/oHtOFQR0Wng?fs=1&rel=0\"\n            frameborder=\"0\"\n            allowfullscreen\n        ></iframe>\n        ",
                  "image/jpeg": "/9j/4AAQSkZJRgABAQAAAQABAAD/2wCEABALDBoYFhwaGRoeHRsfIy0lIyIiIS8vLigtLy0yMDUyLys3PVBCNT1LOTAvRWFFS1NWW11bMkFlbWVYbFBZW1cBERISGRYZMBsbMFdDNz9XV1dXV1dXV1dXV1dXV1dXV1dXV1dXV1dXV1dXV1dXV1dXV1dXV1dXV1dXV1dXV1dXV//AABEIAWgB4AMBIgACEQEDEQH/xAAbAAEAAgMBAQAAAAAAAAAAAAAABQYBAwQCB//EAE0QAAEDAgMDBQ0FBgQGAgIDAAEAAhEDBBIhMQVBUQYTImGSFBUXMlJTcYGRobHR0iNCYmPBBxZzguHwJDOisiU0NXLC8ZOzdIRDVGT/xAAZAQEBAQEBAQAAAAAAAAAAAAAAAgEDBAX/xAAmEQEAAwACAgICAwADAQAAAAAAAQIREiEDMUFREyIEMmFSkfAU/9oADAMBAAIRAxEAPwD5+iIgIiICIiAiIgIiICIiAiIgIiICIiAiIgIiICIiAiIgIiICIiAiIgIiICIiAiIgIiICIiAiIgIiICIiAiIgIiICIiAiIgIiICIiAiIgIiICIiAiIgIiICIiAiIgIiICIiAiIgIiICIiAiIgIiICIiAiIgIiICIiAiIgIiICIiAiIgIiICIiAiIgIiICIiAiIgIiICIiAitH7g3v5XbPyT9wb38rtn5IKuitH7g3v5XbPyT9wb38rtn5IKuitH7g3v5XbPyT9wb38rtn5IKuitH7g3v5XbPyT9wb38rtn5IKuitH7g3v5XbPyT9wb38rtn5IKuitH7g3v5XbPyT9wb38rtn5IKuitH7g3v5XbPyT9wb38rtn5IKuitH7g3v5XbPyT9wb38rtn5IKuitH7g3v5XbPyT9wb38rtn5IKuitH7g3v5XbPyT9wb38rtn5IKuitH7g3v5XbPyT9wb38rtn5IKuitH7g3v5XbPyT9wb38rtn5IKuitH7g3v5XbPyT9wb38rtn5IKuitI5A3vGj2z8lnwf3vlUe076UFVRWrwf3vlUe076U8H975VHtO+lBVUVq8H975VHtO+lPB/e+VR7TvpQVVFavB/e+VR7TvpTwf3vlUe076UFVRWrwf3vlUe076U8H975VHtO+lBVUVq8H975VHtO+lPB/e+VR7TvpQVVFavB/e+VR7TvpTwf3vlUe076UFVRWrwf3vlUe076U8H975VHtO+lBVUVq8H975VHtO+lPB/e+VR7TvpQVVFavB/e+VR7TvpTwf3vlUe076UFVRWrwf3vlUe076U8H975VHtO+lBVUVq8H975VHtO+lPB/e+VR7TvpQVVFavB/e+VR7TvpTwf3vlUe076UFVRWrwf3vlUe076Vsp/s7vXCectx6XO+lBUUVw8HF75237T/oTwcXvnbftP8AoQU9FcPBxe+dt+0/6E8HF75237T/AKEFPRXDwcXvnbftP+hPBxe+dt+0/wChB9IXgVGzGJs8JE+xe1B8zS7muXvABFWsQ+BiDsbownWZiFi611OIoh+0ajHUgSDJpsqN5t3Rc8DV8xMkGI09KxbXNZtJ5fVaSazmNik5xye6QGh2eQy4RnKar8UphFCjadYtpvIDaeYqP5suAIfhzGKWiB1+5eX39y+nVc1oazDUwugdHBMZ4pJyO4QfQmn4bJxYkTG/gtdrj5tvOOa50ZkCB7CSoS1uD3Qy4w1A2s8sJI6OEwKUH+X/AFlNZXx7v+LAijKW0nFrHENzdWBGmVMujPdoJXM3aVxzL6vQLRzYbNNzZc8tBGZ3T7+pa38Vv/f9JxFEsvK4eQ80y1lZtJ0MILsQBkdIxGIcZham7VuDRfW5sBmBzmSNCDAB6UnfOQghZp+KybRQd1d3HSZjY17K9JuIMMEPw5Ri4njmF019oPZWYwOa4F7abgKbhBc2fHmJ0McFp+KUkSsqEtbipzVN1UsqE3LmjoGRDqgkZnPLLgOKO2rVbSFU4DzlGpUY0AywtbiGLPMaA6Z+lZp+KdyE2ij7a4rOfUpuNPE1tN4cGmIeTIInM9E59ei7Lj/Lf/2n4LUTXJxltVpMBzSeAIXtQ+yaDm21J4p27DzLSHxnOEZuyHrzXqltN1SmXy2mS4Na3A57piTkImRmPw578s1c+KdmI+EsihW7SrvazBzbXGlUe7E0nOm4NyEiJXo7RrND55uebpVGw0wMby0g55xGuSafhslyV4uK7abHPfIa0SSAT7hmompcvNVjKmFzqVfVgIBBoVHRBJg+vgvVtWuLqg4Oa1jatKWujIYt2TjiyOuWia38WZM+kwiw2YExO+Fla4iIiAiIgIiICIiAiIgIiICIiAiIgIiICIiAiIgIiICIiAttLRaltpaIPa11qzWNxOMAL2q5e1HXF02kDAJIHU1ursJ14SOIUWtnpVY327htrG7DSpPqGN3z0GvGepdNO+OMMqU+bcTAl7c+sZ5j39S1Nr06LH02AsLAYnMuy1knM5TnmlSrTqsbSqNxudGIbx1zuO/JbG/Mt6+kisqv2F8+3uTaVnF7Sfs35kgHQHXLUSd6sCplqzWXOucWFEPx81TxzixYRM8Z4rvRGRMx6cL7Kk5/OGmwvyOItE5aZ9Sw6wonFNJhxkF3RGZGhK70RvK32jzs+h0fsafR8XojLOcvXmvXcdLG5/NsxOkOdhEmdZK7kQ5T9uSlbsYzAxjWs8kCBnrksmiwtDC1paIhsZCNMuqAupEZso6ps6kQ+GNY54cC9oAcMQgkHiuay2O2m4udzZEYcLKeFpzBBcJMuBGRy1KmkRX5LZmuQ0WZ9EZuDjlq4RB9OQ9i8dxUZc7mmS/JxwjOdZXctTrhgJBcARqETyloq2tN4cHMa4OjECAZjSfQvAsaOMP5pmMRDsIkRkM1091U/KCd1U/KCHKftoZaUmkkU2Al2IkNGbs8/TmfasNsqILyKTAXgh/RHSB1B4ro7qp+UE7qp+WEOU/bU63YZljTMTI1wmR7CvZE6r13VT8oJ3VT8oIzXGzZds3ShSGUZMGh1C21bSk+cdNjpiZaDpp7JPtW83dMffb7U7qp+WEVzt71pZa02gBrGgAFoAAyBzI9BWu6sWVGFsASGiYHitdIb6Nfauruqn5QTuqn5QQi0xO60UrWmwANptaAcQAAyJBE+mCfalG1p0yXMpta52pAAnet/dVPygndVPy2ozlP2wiz3VT8tqd1U/LCMYRZ7rp+W32p3VT8sIMIs91U/KCd1U/KCDCLPdVPy2p3VT8sIMIs91U/LandVPywgwiyLumdHt9qd1U/LCDCLPdVPygndVPyggwiz3VT8sJ3VT8oIMIs91U/KCyLmmSAHCTog8ot6INCLeiDQi3og0It6INCLeiDQttLRekQFXtmMc26qMaQHYHROYnE3WI+HtViUbfWTucbXpZvbqPKG8DhkotHcSqs9TDg2uKsEYgXdTgMuHia8DugnTJY2U2rkC6HydS3MTJHieNEEmc9dMhJso06jHlo6bgQcRzbOeE8M0qsp0qbX1ThLAMxqYzgbzmNFSuXXFXuVstfScS0uY2SSIbIORktIHtCt4VQt6Tr++52IYwiSMiA3RuIEGTrBbvPUretV5esr9MoiI4iIiAiIgIiICIiAoXbz3Ntq5YS084zMGPI3qaUBynIFncTpzjP/BZPptfavU9oPgxWqSPxn5rm2jc1cJqipWBbMltV0CIgkTEfNRlSvBgEEbwt72uqUHhniCC7ONTlOeea5R7d5yYTtLahrUqTw9wcGwYe7xt+UrY2+eP/AOR/aKgLB7mgNw4RGEk8QJkz+n6KSYJ35a+1VPtOdOl948AuNWoB/wB5+a5qV5WecZqVA0ZAY3Zn2r1WpyMzlvW21ozDiIA8UcOv0rYcre8SeyTUxdN7nE4ZBcSPHbpK18pLl7LnJ72twDIOIzk7gujZ/j5aDD7cbVF8r3tF2JMHm27+s7llv6uv8f8Av28m/fGVSoQRvefmuK32g+2u2B1StzbyQQ+o5wIGhbJ9SjaVzLulnOmvsWy8Y/nadV7cXRkAn7ufA8fQoru49fkyY2Fj7pcCQHvGc+O79Svbr18RjfO7pFRNs90APyIkfqPdvPUuyk3rzWLiIz0xc39RggVKhcfxlerZ9Y9E1amI5uOM5DhrqtTqfTnV33fmVIW9IMbn6SeJVbjhNdlKUS4W1XNxcKRgznq/eoGhfPzaatTFHlmFOA/4WsTl9kdP51RqteAMJGfr+CnybOPLaO5TN7UfWbOKtLY8Sq4GDroYy61u2Rtbn7Voc9zqjHZnE7PgTnmoi1e6oxzaQMlpmDuAzzJ9K17LLqcBtPIGXHeQcoE5fqpjeMw52haG3b/Ld2ivNS5ccw94H/cVxUgTHSB4kcRkY6lvfTlsA+pRDlbpzi7qVX5VKjabdTiOamNmYzUa5znZnJpcch19aj7O3DogdAHL8R4+hTFr/mNA459Sve4hw2ZtCO2/WeyjbYXuaCDJDiNzeCimbRqQCKtQ7oxn5rs5VuAoWs8Hb+pqqpuOlmZbMb/avU+nTMd91e1aD2VRUrAFwkGq4tMzIgnXIqaq35c4vY94Dojpu0j0qt31J1Smx0EsDobHERumdF12tVxyIDGkyI4HKOMz8CriejO0z3c+P8x5/mK0Vr2owSalTqGMrVTHFYrUxMuz4DieCqI1Fuoere4rnM1KmJ3igvdkOJzVi2Ti5uHOc77RubiT8VD2tGM3eMderqU1swyzq5xsLbR05QmURFxUIiICIiAiIgIiICIiAtTrhgJBcJESJ0nRbVGXOyy+o6oHQS5p9QiQfYFNpmPUKrET7bLisxxJbcCm5oIMYTvjOROqjqmz7eoQ6vdOrCcg5wDTH4Rlv4SpK22cGFzjm4l0HOAHGdFodst2Ci0ObNMEHxhM9YIKiZvnpcTEepdtm2k1mCiGhrMsLdBOf9V0Lht7aoyo52JmF5BIgzk0DIz1LuV1mZjtznPgREVMEREBERAREQEREBVnlqY2dcn8yn8aasygOVFJr7Ou184TVpzGurEHzNlcuGQzXUxtRzCQ2WN8b0+jfC6tqPoG4f3NTDKTQAABrAzJ9ajhevY0Bgw78QJzkRnKjJ+HWJj5ddvdmGteDDZLHjVuXinq9KkaVWq0Go4E4hicCMxEj4ALXyYoNk1XEh7XSMXikb8uK9UtplriHCcyPeptbt1rTp1WznkuDyDnLYG7rUwy2q83icxzRvMZxxDdfcs0dpWdnQpuDcVZzJDQZcJzzP3Qom65T3NR0tcKY3NaAfaTqriuuNp+E5s8/aCPEIaWkaO6bcwd6rfL2vg2iP4Lfi5TuwtqNruLS3BVlpcG+I/pt6WHcfQtHKZls28qVa7Mbm0AGNdoXS6MluYVnvpTW1Sc4y3rfWFWm9r3AsccwRu9fsWqoQGtyBk6HKerJaq93Vq9GCBOTQcp0yUZPuHo2PUpa3uXVHQ1pY6oSKgaMt0uHV640XYa9cNFPIPjouIyMcTuWx4FvajmiSC5pg5u0g/FbNl3lOvVp06oymZmIgE6+pc+Wy9EV41nXVahziC0F56hqu6pTc1wDwQT4reJ9PHqWm85TUaI5u0Y10fe0b6t7lEt2/XLpqkVaZ8ZhaAI6o0XSKPPPlmfULE9x7guSdeZd/5r5vRuiREL6UyqytZVnNLyx1EjpGXDxxE7/SqbtBls3maduxoLWDnHb3OO4nq/VbMdPLa37OS1ZVeHNY2cpcOr/wB7l6tbpwbzTmudTc7OPHpmcnN4H3dS5u7HU8RY0BxPjgmRB9i7+Ttv3RXe6q4h0S124u/EN46lE/rEzPpmRZIWlau6KrRiGbQC2AW5EEe/QLqta9R7pc4YHDotjMHOQfRC13u1Sy5qZAtxZRpu0UtZX1pSoC4eBje4kN1JIy6LVyj9pLVyO262p1MJhhgDIx89VutanTp4M24uk7r4HgepQl5ynrVD9nFJvtPrK6tibXFSsxtUEVTkHtyxdThofSukeONefjXUdy8qYaFkf+/4NVUZWLogK+7fpW7hYm5E024iRuOTciqTc1GHG5jAxpcS1o0aCch6gvRj1Vkqtfga8g4JhpHx6l00b55OKHc6IaHNE4xunLXrEb1H1bypGBowNiC1pMEetWDZVIUrN9QGKhY4Oa7juw8Mvit3PbpWvKehj6lMYPukwHkaE8eAXVZ43NbPSqb8I3rjttoB55uo2Q4gHccyrHebdtrOaduwVKmjoOQjLpO/QJW2+i+VeH0HNa01QabTx/U7h6V37MLocHAgio3IqsP5R3Tn4sYjyMIwkcCrJsO8p1qINMFkVGgsmQ0/h6upVbc7cdTyIi5sEREBERAREQEREBERARYRARQnKi+q0KLDSOHE6C6NMtPX+icl76rXovNU4sLoDuOX6KeccuLv+C34vy/CcRYRU4MoiICIiAiIgIiICIiAqxy2dGzrr+Iz4sVnVY5b/wDTrn+JT+NNB86pVRpuK80mFnEjceHpC5A+BIK3trZZH0qm67rXaVWllqBlDp9y9Yn1nYzmB8N61273VHBgzc7IBdNzRdb1DRqGIgtcBkQdDHtUzSF/ktBVqAvcRkCV7ovBdB095WupXABkDG77wiI6huK55WxDnM72tnJxv+JmPugej7RijuX9WNotB05lsD1uW3kef8URP3R/9jFy/tGP/EB/Bb8XLG1nEJUAqAAGCDkstqPYBhxBwM/1BXG2thdBOXELpp3BB1W46RPepAbYq4MBieI19hWbdpY15qCcTcvSdVmysqly1zqYnmxiz3kfdHWvFGviGREkRDgPcToVzmkfDr+a3y9Bw3rstXNInKdPR6VwVqzXZNbhaN2/0k71rYVWI5L1Y9HZdeMiKL/i9fPbWuICvuyjOyK0+Zf8Xr5qHwJBGW5bjhb27m0cLi4S5pOg1C6bbaNak6WnozIBBj+ij6dxI1z4Lso3RyGu5ZMRPtOzDqrXNW6dluzjr9O9bqrxLYEQ0A+nf7yl3Z1LQsFXJtUYgRuO9p6xksd0BoxENeYhhAAH8zd658Yj0m3lmenqnVAIGk6kqb2Qwd00YGQd+mqrBdv4qV5OH/G0M/v/AKFViM7dnL58ULEbjin2NVSJD2Fuitf7Qj/h7L+f4NVIFXDGcrtV6NdjQWgjOdx1BXZR2vWa0h2c8dfkVwMrwQQclIWFu66dzbcp1J0A4lVxiW1tNfTNrixiq+S3+4RpHq3ALDajmvLX9GowkEOGU70q1QBgDYP3jkZPUeCRXGTfl7dNs8HUDLQfNW3ks2KdTrqt+CoYOaunIo/Y1P4zPglvSVxREXJoiIgIiICIiAiIgIiIMKL2pcvYei4jL9CpRQ22vG9X6OXl/lWmKRn27eCIm/aJG3KwqYX4ajDEtcOICz37rGqGMw02AuhrRwBUXU/zR6W/AL1S/wA8+l3wK487Z7fXnw+PNz4W3Zly956Tpy/QfNSah9j6j0f+LVMLv/FmZrO/b4/miIt0yiIvS5CIiAiIgIiICIiAqxy3H/Drn+JT+LFZ1W+WLcVhcDjVp/GmjY7fK6/3REANhbLSzNR2RiN66LmiC7BoRInrUhYUA2ANFsSqa4lth7OZSgjN5+8dfVw3KQ5R7ObcWpfTzq25kgalsS4ezP1FebKmS1wBgxkRuMLZs2o21rlr34sYGg4mZcfSY9CutdiftwvfjMfSktWxqltuWfcV07CPsqoxN6s82+o+4hatjbGqXjyfEpA9KoRl6BxKlTt5Gg91O4Boz4faMXjl7ltNromKTSB63cVcLW3oWrW29KGuOF2HV7gHt6Tj61V+XFKb4viQ2i2erpOUzLr467OKNhUtszZPOFpc4hp3DVaaVs175zjeOtWLZ9NNdK+PJ7T2yqVOjT3MYwSeqNfSq5yq2WKFxzjP8qtLmxoHakfr61PV7I1WNh+ECSQfFJGk+z4r1TZTvbI2wdNRjRhJEdIaEdW70Kor+uwjyX/fjMZ9f6o7V73L2+u4MNJwhzThiNDPzVn2ByXnDVuhnq2kcvW87h1LEuvZIPeetOU0X+yXr5zV/wAtjYjMmeJy/QL63eVmVLS5NNwc3mXNlumWMGF8zuaAbhY4EZD1TofgpmcM1H2tqajg0ZTvVx5P7HZTc17pe/cToOED+9yiNl2obpmd5/RW7ZlPRTazz+Sc6du19nMuqDqEjnmjGzqOnsOi+dhpBggggwQdxGoV2aO5K7KtSoXY8QIiXHdB6gI9YUdyptBRrMvKWdOrrGmIjX1jP2q+PGIxw8d+UTE+4V5qk+Tg/wAfQjPpfoVosrOpeVi2kIH3nHRo4kq9bK2fb2IY0EB9Q4cbvGqHqG4LHasarX7QGzQsZ/H8GqjVziqOJyk6cF9B5Z0sdKyETAefc1Ul1Fr3bxET1hXEvVFdgsNnGpnigT61d9iWTKQwsHWTvPpKg7ClEDcFPsty+lha4sMgEjySf79q9Pjq52nI6R/K7Z7XNZeUYLXQ2pHHRrv0PqVbarzss0nNqWdQh2KQYHR00B45SqldMfa1Klu/7pyMajcfYsvXjbHKtuVdcwVy5Dg8xUO7nm5+pRXJ/k465w1a0tonQDxqno4Dr/8Aau1uaTQKVLCBTe0FrNG9XpXG0/DrCSREXNoiIgIiICIiAiIgIiIMLgv7F1UyCBlv9B+a7ahMdEAngTHvXF3K+Q7m24pn/Nd1dXuUX8dfJGWVW01nYRtLkzNTFUqZZQGjhG8rNTk1FTHTqZSZDhxB0I9K7u9+X+W3/wCRxy9i9dzvBxCm0mZ/znb+oiFn4aZjt/8AV5ftmwsXUjmQct3oA/Rd6j2Wr26Mb0T0ftXbj6OC7qZdHSAB3gGR7VtPHWkZVxtabTsvaLW3FidOmULYrSIiICIiAiIgIiICrfLE/wDD7njzlOPTLFZFGbQ2e26p1qLxLHPaTDiDkGkbupGw+VUKRe8tGol3pgKW2fQgATOvvMq32vJC3pOxMDp66hP6LZR2BQbOH7uR+009OSQWtqNtWxC17QtnYnEPYynUDcZcYIA3D2adSsDNlNGQH+s/JebnZNOqwteBhaZJx6cc4yV0txlx8leVcR9E0L+iW1KYdhccLd8jQjTULl25twWLG0qTW87HRaB0aY4xvKsVCwFPJjWj0Hdw0UdtHktQuapq1AcZABioQMhGkLJmN6VWJztVeSFd1S/c97i5zmSSdSecYtnL0zfRGlJpPX0nKyWnJulaO52kDi6Lc3kiC9u6OoLbtTk1Su6vO1QcWEN6NQgQJ6utTbt2pbjOvndtbucGvmAXf7YP6qxWFLRT1Hk5bhvNNzwGSOczBjflwK6aOxqY8UTGXjn5LHSPJG642U8TS3iI/v4etRtGu61eH1nMOFopsYzyZBLo3ZZ9ZVlZYDdGX4z8lqOxaZqmqWDGRHjH26arpS0R1Ppy8888mvtq7hoGr3S2mznIk1Nwy14TCqHKDlO6tio0ZbR+8771TrPUr662xMdThuEtLSA46EejrUGORFrwf/8AKfkobyaOT5jZFUnP7Kp/ueqTSpl72s+88gT6YX0602U2lSfatH2ZZBl5npF85wuGnyStqLg/NpGhdVMfBTManfpV9nWxaXTqT7Iy/RWmxpwF2t2FTDi4NzJnxzv9S6WWGHQDtH5KZrMvLfx3sitpUKmIVKTmNdhLSX5QDEkHcfmmzq1CvSdavh7KbWt6nAAZj0H9FKVbIVWOaQ0tORhx9HBLXZzaLQGMaIETJn06arrE/rkudfBeL8kVtG+o7NoBraYBM83SG8+U4qr7J2hVudp0KlV0uL/UBByHBXPamwaV4WuqiSwEAtqEb/QtFlyUoUKrKrA7EwyJqE+3JTEPTFZhDcuD/h7MD8WfVDVU7e3NRriMg2B7TC+k3exWXtGhzwyYJbheRqBrl1LnpcmrWiHU5jENHVc4GfDqVxny7cusVywpab1P2wA100K76WwKbdB/rPyW8bNa2Blnp0zn7l3jy1c+1cc19B4c9zBTY5z2tBzc4zr7deClO5re7FKsaTX1AJE7hwd6CuyvsanUc1zmAlunSMH05ZrqpW+CA0NH8xz9y3yeatoj7cqeO1bT9Kdyi5TlhdQtz0h0X1OH4W8Fv5BmaNY/nM+C76vIu2c5zi10uJJ+1O8zwXbs7Y7LNuGkDhfUaTLic9OC4TaM6dk0iwsqGiIiAiIgIiICIiAiwdF5pThGLXeg9oiICIiAiIgwsoiAiIgIiICIiAiIgLlbXDX1JDvGGjSfut3gLqUFyj/5Svu+0Z/4IqsbMQle62fi7Dvko2pZ0SZD6ocGYB0XZCZG7UcVTqddsGMoXPtBgcw1cLS5sy4HMaQZ3n5pD02/i5G6u1KyYMJdVrYwCMmmMySTBb1rY+0plgZiq4ZJJwOnMAcOpVO3vRWpU3QMQbBMZzvK3Nqwr4sj+LExurMLOkI+0rkjSWnqy00y+PFd1K7phoALiIyOFxn1wqPUeAC4rg2fbFkkkkF0sE7zr6BKcE28HGc19FubppaID/GZ9x3lDqW03jPxdh3yVa2JSw1J1Jwyf52qucqCG7SuCc+k3L+Rqi/6uc+PJxealvSNSpUx1QahBMNMZBogZZeL7+oRhtvTw4RUreMXE4TmTGuXV7zxXz1j2k4ci0xIOabMrdy3RYWtAeyImRJ0J4ZKItpNMfQha0pacdYhrg7xXZxxyz6/VwSra03OLjUriSTAad7sXk58M9ypzQBAAgDcFmpmI96cmcFqrWDMMMq1QYAzaYgADc3gPapRt2wADpZfgd8l8wupnAwZnVZoWs5fdGp8o/JVrnPXp9Mbct5xxh8YW/cdxd1LxdPp1cPSqNLSSC1jt7S3hwKjgI2c8f8A+UfBy+eUHjTq1WTbHSteT6Q6zo5faVhA4OzzJ4dfuW3macNGOrDQRm07zPD1ehfOnURWb4rHEZ5ndnOeULp2VeCpatpkAljiZIEnh7As5dNmmSvdC2pMc12Os7CSYc1xBmdcv79a81LWm7WrW0jxTxnPo5lVFq1VWg9I5BOTOGLdVsmYYZVqjKM2uiMU7h6lLC7Zp0uw75L5SW43ScmN9/Uprk9bxd0XHXF7BGirXP5Xa0umto05xDoj7jvktF3To1n4i6oOjhgNPX1dZVR/aJ/y9j/P8Gqm0WaLVRGvrtOhSDnuFWtLwREGGzwyR9tScQecrSCDk07gRpHX8F8rfS5vDUAA6QzB14iFMVyKzzUAAxbgNBEALYhvFfX0KRbh5yqB0s8Jk4jM5t13LU+yonWrWzIJOE5xOXi6dIqiOo5aLguqGEda3iyYx9TsXtpGoXPc7E6R0XZDduW+pcNfgDcXjj7pA9sL4u+39pV6/Z4zDQrD85nwW8JzU6vKysLKhoiIgIiICIiAiIgwiyiAiIgIiICIiAiIgIiICIiAiIgIiICr/KpwFlcE6c4z4sVgVY5bGNnXP8Sn8aaKrOTEqNUr55Exwhbn/aUXZtDRGRMTJ0A3qMpVnOELqp0XvY4tghuonMnqSPb3RaZ9O61L2hrTDWxA4kATPX/UqQY3Pfuy4TnmoS1rPyZhxNEloHjMd1evcFI02VmNL88REubkdJ98QrX452Mx2VWCM9N63W1H7xGe4cAuW0Y4kjEX4s2+hSos6oZLm+oHpEej+q6RJMRuurZZ+0y06Pr6bVUuVrx3yueMt/8ArarZssk1ZHiQAPTjbrwPUVSuWVQjatz6W/7Grl5O5eTyzl3Na1IPE7iuo27m1zGB7ozghwE8fRp1LgpYpB4nIda6qtOrRe0kgOGbXg5T1e9co9pnc6S9CXNlxkx40yMjGvX+i6m0slGWzX1B4hY0gl0ZNxbo3cNF1uFUuDS8tiCDGonMemFnyrNhg28uganU8Bw9K3imGAAD0BdlnY1qsGmwlp3nIe1erqyfTdhI+0dk0/dPU1xjPqMTulO5cZrETiWfls6pOf8Ahf0cvmOPIQvplRpGzaocCCLXMEZzD18qt6h01VTDaznSYtGmo1zZa3Ik4jhGXX1rZYNcwNgANB10xTkQD+i5LSjUecLSJGZk68AOuV7tqjmksLcTXHp0z6dQdxWRC532nGUshmdN41jKfWvdWjIXNb06xh/Sa/MQ7eMokH16rbbB7nSXE4ssEZhwmVPpU115o20wYho8UfqpPZA/xVKNzsz6tFuobJuCwnCGjdiMH1CD71iwoOFzSwtOFjxjB8Zpz8YbvToeKrtw4wj/ANoX/L2P8/waqdS1Vv8A2iGLex/n+DVUKEmFbapCpb4mMdLTLoa3Fn7OHWpG1Y8nC7WQcLdROUYd39FGGg80g+AWHSDmBxPvXXbVqrxk0ueAA17dcPB3UOtVGYv59JNlD1rmurYTpPAda3llSmIBPNl2uUtnfPDRbrS0qvAa3FUeNSBv/viqiS1UM+0iSfWVaeRDYpVf4zMvUue92NVYwPqARvwy7CeLoGnomPeu7knbvpsq4xGKqwtIggiNQRkVdrRxyHLPla1lYWVwBERAREQEREBERAREQEREBERAREQEREBERAREQEREBERAVf5Uhhs6/OCWc5TxZxlLFYFWOW5/4bdfxKfxYjYnJUzaV4yrWc+m0NYBDQBGQ/rKjTXeWhrYjXIQfXGq8Uqo03FZp08OYzHvC6ZrvN5+E5yeoBo5x4LXzLXZ6aERpxzXll+9joIOp19KiqFzWpaE+sSFsYHVDzhOhGp4HNRasvVTzViIiPa2DblG3osbSYHVC0EgZAE59J36BRNxtevVMmo5vANMD3KPqVMTiY1Oi9UawxQYDeHH0rtE9ONrdrTyd2jz1XDUb9oA3pjLEA9vjDf6VHcorujSub9vNg16pY1rjnDcDZI4HXRdHJkg3MiPFG/8xir/ACxfG1bn0t/2NXO/t57/ANnGauEtjDIEjEJCxRbUq1GgjEC6SOrU+6VqLQ+DMEL30xGEEYeCjiyLdrRtFwp0qTaOLAHEhvkgjjv0W3Ym06JqYrkNwMaXAkTnppv10VadeVnAUyTwGRB9fFbmNNNjmnMuIIK5RSYnt3t5KzE4sm0+V1R/Rt280zyjGL1DRqibfbNam4lzjWY7x2VCXBw9eijy+BpK3Mqhw16R1M5rs8sr4+o2ps+o5oIY61BAcSTBDsid6oV/e0qjaFOiwMZSpgGIlzjqSd+iu9PLZL4//pj/AGuXy62qxCzGw6u6HQ4Nw5nMx0vbwUlsC1D6jnVWngx4J6LtZjflxUU2kAS4ZjhK20q1VjpaXDfpPtCy1eul0tk9p2+v3suKjtxdkSNVN2G3ba3txULA6u8k4WjMwYkn7oyVMxVLhxJOnsn9FvqVJjdDQFFazE9ul7xMdJTaHKG5rnxzTb5NMke06ldnJ3bDnXFGlXbzhmKdSek3LQneOoquirBjQb/kpbYRBvbeIgP0nqK6vOl+U9ajS731K7MbGYzhyzMNjXVUmvcYzUqEAF7i6BoJMwOoKzftDMW9j/P8GqoMcHNLTvWw2G2rWqOygQBHRECPQFZtnURSs3kAsqlha8ZnETmPR6lWWUyAQMydCCt9K+rMaRJg8QfcUmv06+O8RP7Ji12gcQp1GyCQHA8Cp/aPKqlSBp2bGuj78Q31DV3wVOtWOa4VXZ65E59SBwStftnktE5jsrbYuTU5zn6mIGR0suzp7la+S9+Lik93Nim8VW48PiuMTiDdxO9UllYb4y0G4K28iv8AKq/xmfBVb05LgsrCyuYIiICIiAiIgIiICIiAiIgIiICIiAiIgIiICIiAiIgIiICq/Lf/AKbc/wASn8WK0Ksct/8Ap1z/ABKfxYg+WYoAIlbWVp+S8V5kTuEBbbO05w5mAukLydx12mKq8MbmT/crpvrc21Xm3klsAscN4/oZUzse0ZTgNGZ1O9de2LVl1bvFPOrQMjryzHrHvC7cJ467zTK/6rD7kwRIcXau3xwWmV4pidAT6l7aocdWDkd/zR/7B/8AYxQ/LX/qtwOtv+xqmORdNxuXOAOENAJ3SajICieWRI2rdRvwj202rlb2mfaDp1YOei6qVeN64WiVP7L2UwuBfn1aCeviiW+12ZUq0HV25FolrfKA8b3e1ctK4Ea9bmnR0dau1nXp0mh7zhbIA6tyq3KXZfc1ycI+yqS9nVxb6j7oTEziPrV8ZmIG4cBwWmV6IIiQR6lqed29G6+j2x/4Of8A8If7XL5S05Svq9Kk6nshzHgtc2zAIOoOFy+VOccDRuBJ9sfJS1tp1uvP4rrt6pJa0AknIDeuK1t+ccBoN5Vs2LYU6cOAl2knXP4f1VDi2jYOtRTLjibUGcbnDUeyPYtPdUCQcRiGk6tV1uLalc0n2hd9oWh4/Cdx/vcVQDSc15Y5pD2ktcOBGqZ9pnPgc5SPJo/8Qtv+/wDQqMJ4qS5K03P2jQwNLg12J0DQQcyjUt+0X/l7H+f4NVHD8MK8ftE/5ex/n+DVRqhJcSdSZKyGuqnWzkH+ildlWhun4Jwt+87gFH7O2eKmbiYnQfNXjY9BlNoa0BrRn/Un2+xd6RoqrnOpVXU6hLKjDEj+9DqvNa4kYBEDUj7x4qw8q7NlajTvaOYAw1BG6cj6jl6wqsAYkAxxWTHwj/YeXFXPkAfsa38Zn+1Umo5Xb9n1Nwt6ji0hrqzcJIyMCDHFc7KXdZWFlQ0REQEREBERAREQEREBERAREQEREBERAREQEREBERAREQFW+WDcVhcDjVp/GmrIq3yy/wCn3PXUpj3sRVfcPm9amC4tPGJ6132NICI0XJa0TUfhG4E+mBkpSwowAB/c5rr44eqfaXtKWJpbmJGUcf7+KWjmWtYgYnDC3EQMmAnUnfmfUFvtmwAtO0aAkudVwU3RiEeNE5D2HL0L3eL/AIz8o89eovHuETt+0NtcY2D7KrmI0B3j9fWsbH2I+5POVJZSnXe/qaP1Vksq7bqmRUpg9LJrhlG45qP5Qbadb/Y0oFWM3RkwHc0Lz2pxntkRWY5xPScsqtGnUFtThrgA7A37oD2+MeOapHLERtK6dl4zB1/5bV28i3F164kkkszJ/iU1G8tf+qXJ62/7GrzX9ucztkda02l2Lfw61Ytnt0UBb0YwOJ1k+uSFYtnDRZCJlJ3tq1zedc/DhYd0id+Xr9/Ut11RF9ZOpBrm1aYDqePWYyz/ABCQmDnKTqZ3iR6R/SfcuO1v+YrZ1OdqPd9oQD0WiRl6NfQu0ftXPp5rfrfftVm87Wc2ixjnVJgNGsjL1K6bF2HQsWG4uHMNRuZqOzZS6meU7r/s990aVFlS6wBjYl7mgBzo69c+K+dbb27WvHjGcNJviUxo35lcXaH0y7uW1rCvVZiwvtsQxawQ/VfJ3tAhpAOQmDxX0yyP/Bv/ANIf7XL5fRbic1vEgKXSqSsKYGQ45q07MiROm9Vmyp4XEb5z9WSstjkFUMmW2nTFrXY4Y3vOKWN14Elx3R8FycrLXOnfUfFeAHx1jou9Yy9QXftCmXNFRtTm+iWuJG7L2ZR7Ctux76nUDqBZipBoa2W+OBAOWkzmu1v2ryeav6WmvxKqbL2VVvqhI6FIePUOg6hxPUr1Yi0sHUbZnRfVIAb9958qodw6v/SiuUG1u91NrKbW866ebaB0WDyo3nNVTk3cvq7Vt6lRxe91SS478iuMu8LD+0EfYWP8/wAGqksDXHPJXT9ov/LWP8/waqRREgpColP7PgFWOjQFWlhJIzBMcJz/AL6yqpY1NFZbG5Ajhv8ARvXt8NZnuEWyYyXbsqvTGO3cC9j3OaXEANJjNsegFVDadB1pWqUDJaM2Hi06H+94U3c1OYqYnVJDS4sZG87/AEZypeg5t1TY7m2mqwTLm+LxGfWJhX5vHv7x8uPjnI4yg+T/ACYxltW6acOraOhcOLz91vv+CuGzb+jWDmUXBwpVGNOEQwfhYOAXz/lFyiqPL7ek4inMPdOdQjieHUpz9m//AC9b+Mz4Lw2zcd4X1ZWFlQ0REQEREBERAREQEREBERAREQEREBEWp9w1pg4p6muPvAQbUWjupn4uw75J3Uz8XYd8kG9Fo7qZ+LsO+Sd1M/F2HfJBvRaO6mfi7DvkndTPxdh3yQb0Wjupn4uw75J3Uz8XYd8kG9R13Yi4FWlUDXUy8S0g7mtOocN66u6mfi7DvkucXeFz4Y9wJkENPkgb/QgjxyetaHTwUmbpIf8AWvTdlWrBlzIGmjvrXVd1WVmYH0apbIMRwMrnqUaThBpViJJiN7syY6zmt2W8pbXbPpMAJNIA6Eh2eU+XwBXqrsqm8c24UzvjC76vQtT6dNzsRpVpy9zS34ErzWoUnuLnUq0kk6cZn4lbzt9k2mepdjbADTmx/K76lxXHJ62r1HPeyk54gOMP4ZTD+C8G0p4w4U6wyIjD6c59ZXXaVGUQQylVgmcx1R+izlP2cpn25qWwaNsecospsdLWyA7Qvbxf1BZvOS9tXquq1adN1R2pIfnAjc/gF31Kr6jBhpO8ZpzIGjgePUt3PP8ANO9rfmsYiRyVtoA5qnA0yf8AX1L13mt6ZDYpAkSBD+IHl8SPapTnn+ad7W/Na6gLnNcaT5YSR0m7xGeef9Ag0M2W0QQKfEdF31rXS2RSDnOaKWI+MQ127+fq9y1s2S0GTTqHLCOk0QMhrPUttHZ7GFpbRf0TI6TImSdJ4krdZjbcbMFWm6m/A5jxDhhdn/qUZ+5dn5il7Kn1qc55/mne1vzTnn+ad7W/NY1xU9ngNdbjBzQpNZhwu8XpCJxSuFnI60aZFGmCOp/1qXD34y7mnQWgat3E9fWtnPP8072t+aCFdsKzY8yKLXS2Zx6vMN+/vOQ612M2JTGjafsd9a2XFsKjw91F+IRBDm7iHceIWujs9jHYm0XzixZubrAHHqQenbKYWlhFMg6jC76vSs0tmspABvNtGgGF3u6S019mNef8p4G8S3PMkb8tT7uC9d7mTPM1NQfGbu9ei3WY83/J6jclprMpvLRDZD8hruetNryVtqNRtWnSptewy0w/I9tSdCabAxtJ0Drb81s55/mne1vzWNRN1sqlc0KJuRTc1gGGQ4Rigbnehc1HknYuBLKdEg5SMf1qWFJxotpPpOyAmHN3QePUubvVT6I5mpDYgY2xllpPWckGlnJO1bpSpj1P+tbqewaH3W0/Y/61trWLXuJdSqan7zd4g71qdstsdGnUDoIBxNMTM7/xFVF7R6lmPT9hUXOaXNpktHR6Lsv9f95LdT2a1sYcAjqd9a9U6ADWg0CcLMEnBpw1XO7ZwL2u5t8ARBLTMCJkngt52+5ZkfTjqckbMuJdSpYnEn7+c9WNdllsinaACi1jGue0uADszpqXFGbNY0QKNTQicbZzEazwXW1roYwUy1rSMyW6D0FQp1rKwsoCIiAiIgIiwgyiwiDKLCIMosLyajZiRPpQe0WJRBlFhEGVhRffkeb/ANX9E78jzZ7SDuui/CMEk4mzEaYhi16pUe/azw8swtkE09T/AJhP2Y9BbmfSF678jzf+pee+zfNb5138dEHfbXjKs4ZyAOfX/wClwO2s5lR4e2WNLhk3PLCMjOZlwygenJeW7SpgyKIBmco1PqWKu2aYHSpCDJz9Ge7hKDsttpsqVMAa9pG9wAzwtdGszDwsXm1G0nObge9zWY8gIjpZSTl4pXENr0Yjm2DTKQOEZR1D2I7bdFzhLGOdoJIOu7Tegkri+bTNMOBl5AGmUkDPPi4aSs2ld1WgyoIDnsDo3Als+xRg21Sc7DzQLmaDycgcsvR/YXq327Tc2adPLLTLcI3cIQdNzd1WODZpg83UqEmY6LmgCZyydmc15G26fm6szHib4JMeiCuOpt+iek6liwjEDEwIBkZcCCvVTbNHV1Fsug5jMwQBOXWEHfS2k14qwHA024swMxLhIg8WOyMFeBtdmKCx8TGLo4dS2fGmJC5bfadNrSGUQGkknPU75yXvvqzzQ9o+SDaNt0sui/MOJybkGzJOeem6d3FddrdCq3EGuaPxAA6kaT1e9RDrmiXNdzABbEQYiDOgW+ntRjfFohvogfog209pOD3NqNJdihjWgZjpZ4i6Dk08D1I/azS/C0aOIJMH0EQVo7vpdIdzt6Rl2mZ4nLNembSZOVECTJ019iDcdssy6FSXOAaOjJnQjpae/qW662jTpOLXB0hodkBocXX+ArhuK1GrGOjMadKPgtla9pvnFSBkETOcHXPUIOlt+HMLgC2KjWEOAObi0bjGjhv+S00dtMcJ5uo0ESC7AJkNIHjakOC8s2gxrQ1tIBo0AiOPBDfsIg0QRwy+XUgyNu0iJDKhGFrsgPv4cI11OIe/gt9faTKbWOLXw5pfkBIDRJkSuEVKOMv5gYiIOeUQBEaaALc/ajGtk0wAMvQDlGiDaNrMInm6mUDMNBxOMAQTvyz0z1XkbZpkkBlQwBMYciSAB43F3oyOeS5nbUtw1xNJkMGF2QyBzjTr0Ws31sytPNAVInUxEQOoZM9yrjP0Os7XGoY6MJdJA6MMDoIxZ67v6rNXbdNmrHnMxGHPCHknxvy3a5rS7atEjNjDGeoMZRw4J31o5nAzM55jWIzy4H3rOMiUBcXAjDgjrmc/6e9c1fajGVDTwuc7IQ3DmSWjjl4w1hcw23TGgbnwcM9/9UbtSkXSGMLjvBEmEyR6pbUcXPDmjoODRhz5yXES2SMt3pncAT092h9E1KZAbOTnaHOMgMzwjiufvgzL7IZZDTL0ZdQ9iw6/YW4TSBbwMR7IWDXU2vUayo402gspudhk5FjWuIJ4dL3Djl10bxxuHU3AARLD5QAbJmcoLoghc3dlLP7BuYAOQzA0Gmi9Mv2NJLaQBIAJEDIabkEosqN76jyPest2pP3PegkUXD3x/D7074/h96DtWVw98fw+9O+P4feg7lhcXfH8PvTvj+H3oO1ZXD3x/D7074/h96DuRcPfH8PvTvj+H3oO5Fw98fw+9O+P4feg7lgri74/h9690rzG7Dhj1oOpF5BWVjGVz3l6yiwueRkNJzK3qmcqGDukND3FzyJB0A6itG/aG3XOPRd0coA3nfJUeLx5EAH1ra23AAETC3hvUo5q4N1jtapQYcbZbOQJ0HpU9Y7Tp1owmHcDqq1UJiCMlHbOcW3tNskAVBolbaTXH0NYJRYK1KP7zN8t3sCd5m+W72BSaKmozvM3y3ewJ3mb5bvYFJogjO8zfLd7AvFTYTHRicTBBHpClkQQruTVE6knOf0RvJuiIguyj3KaRBEDYFPHjxOxZ5+mPkEpbApsENc4D26CFLoghW8nKQEYnHo4fVAHwAXt3J+kTJJn0ej5BS6IIqnsNrRGN3sG8yvXeZvlu9gUmiCM7zN8t3sCd5m+W72BSaIIzvM3y3ewINjt8t3sCk0QR/epvln2BO9TfLPsCkEQR/epvln2BO9TfLPsCkEQR/epvln2BeKux2uaWl7s+oKTRPQiDyfolrmnR3jCNVmpsGk+S4kkiPUJ+ZUsirnb7EIzk1SBPSeQTMbh6I9XsXscnaIxZu6WZzM+2ctFMItnyWn5EOOTtGSZdnA1OgBEe8r1T2BSaZaSDx9RHwKlkWTe0/Ij+9TfLPsCd6m+WfYFIIpEf3qb5Z9gTvU3yz7ApBEEf3qb5Z9gWW7MaPvH2LvRBxd7h5RTvcPKK7UQcXe4eUU73Dyiu1EHF3uHlFO9w8ortRBxd7h5RTvcPKK7UQcXe4eUU73Dyiu1EHF3uHlFO9w8ortRBxd7h5RWWWYYcQJK7F4q6IPAKzK1rKlLZiVd5UW01Lep+ItPsn9FPSuLatPFS08U4vcR+qxse1Qubh2L7wE7slspXLubJMyF7qBucjNeWVm4TKj3DvENLLt05uJ9IyXdsCzL741IltPP1kZLSym12cZqzbEpYKRMRidPpgAfoqie0XjISkryXLySsErXN0IiK2iIiAiIgIiICIiAiIgIiICIiAiIgIiICIiAiIgIiICIiAiIgIiICIiAiIgIiICIiAiIgIiICIiAiIgLXW8VbFrr+KUGmUla8SxiUpbJXl0EEHQ5FaatcN8YwoK82wajnCm4tptMSNXH5BVFJlM2xH3zAKj2tMwTnxWhuKN88YXOHEkwcwSvYrP0UZk49FZ613WFIuqNYTm46lXKm0NaGjQCF88qVi0tM5yD7FP2u1303BryX03eK4nNvUTvVVpMxsOfktk4s2JCVx0bxj/FcPQt+JZMTHtMO9F8v8I975q37L/rTwj3vmrfsv8ArVKfUEXy/wAI975q37L/AK08I975q37L/rQfUEXy/wAI975q37L/AK08I975q37L/rQfUEXy/wAI975q37L/AK08I975q37L/rQfUEXy/wAI975q37L/AK08I975q37L/rQfUEXy/wAI975q37L/AK08I975q37L/rQfUEXy/wAI975q37L/AK08I975q37L/rQfUEXy/wAI975q37L/AK08I975q37L/rQfUEXy/wAI975q37L/AK08I975q37L/rQfUEXy/wAI975q37L/AK08I975q37L/rQfUEXy/wAI975q37L/AK08I975q37L/rQfUEXy/wAI975q37L/AK08I975q37L/rQfUEXy/wAI975q37L/AK08I975q37L/rQfUEXy/wAI975q37L/AK08I975q37L/rQfUEXy/wAI975q37L/AK08I975q37L/rQfUEXy/wAI975q37L/AK08I975q37L/rQfUEXy/wAI975q37L/AK08I975q37L/rQfUEXy/wAI975q37L/AK08I975q37L/rQfUEXy/wAI975q37L/AK08I975q37L/rQfUEXy/wAI975q37L/AK08I975q37L/rQfUEXy/wAI975q37L/AK08I975q37L/rQfUEXy/wAI975q37L/AK08I975q37L/rQfUEXy/wAI975q37L/AK08I975q37L/rQfUEXy/wAI975q37L/AK08I975q37L/rQfUFpufEK+a+Ee981b9l/1rzU/aJeOEGlb9l/1oL86pAkmAo652qBk32qjXPLS6qNwllEDqa7P/UuM8oa3BnsPzV14x7c7RafS03e0y8OABmYknUrnc4MYGl0QM+sqsv2zVJmGD0A/Na++lTg33/NXPkZ+NP0qgLp4rscDGqqo2pU4N9h+a3M29WaIhh9IOXvXC0b27VnIxKPPSXZQvWubhfI61We+tTg32H5oNq1PJZ7D810rPFFo1c2XcMdBGIDdoetdtjtlzYD8x8FQW7XqDQMz6j81sG3qwEYWew/NXN4n2iKTHpFoiLi6iIiAiIgIiICIiAiIgIiICIiAiIgIiICIiAiIgIiICIiAiIgIiICIiAiIgIiICIiAiIgIiICIiAiIgIiICIiAiIgIiICIiAiIgIiICIiAiIgIiICIiAiIgIiICIiAiIgIiICIiAiIgIiICIiAiIgIiICIiAiIgIiICIiAiIgIiICIiAiIgIiICIiAiIgIiICIiAiIgIiICIiAiIgIiICIiAiIgIiICIiAiIgIiICIiAiIgIiICIiAiIgIiICIiAiIgIiICIiAiIgIiICIiAiIgIiICIiAiIgIiICIiAiIg//Z\n"
                },
                "metadata": {}
              }
            ]
          }
        },
        "279b854326334321b6925801f61c1d2b": {
          "model_module": "@jupyter-widgets/base",
          "model_name": "LayoutModel",
          "model_module_version": "1.2.0",
          "state": {
            "_model_module": "@jupyter-widgets/base",
            "_model_module_version": "1.2.0",
            "_model_name": "LayoutModel",
            "_view_count": null,
            "_view_module": "@jupyter-widgets/base",
            "_view_module_version": "1.2.0",
            "_view_name": "LayoutView",
            "align_content": null,
            "align_items": null,
            "align_self": null,
            "border": null,
            "bottom": null,
            "display": null,
            "flex": null,
            "flex_flow": null,
            "grid_area": null,
            "grid_auto_columns": null,
            "grid_auto_flow": null,
            "grid_auto_rows": null,
            "grid_column": null,
            "grid_gap": null,
            "grid_row": null,
            "grid_template_areas": null,
            "grid_template_columns": null,
            "grid_template_rows": null,
            "height": null,
            "justify_content": null,
            "justify_items": null,
            "left": null,
            "margin": null,
            "max_height": null,
            "max_width": null,
            "min_height": null,
            "min_width": null,
            "object_fit": null,
            "object_position": null,
            "order": null,
            "overflow": null,
            "overflow_x": null,
            "overflow_y": null,
            "padding": null,
            "right": null,
            "top": null,
            "visibility": null,
            "width": null
          }
        },
        "7e28545e78fc4d99b250c92d5381cca5": {
          "model_module": "@jupyter-widgets/controls",
          "model_name": "HBoxModel",
          "model_module_version": "1.5.0",
          "state": {
            "_dom_classes": [],
            "_model_module": "@jupyter-widgets/controls",
            "_model_module_version": "1.5.0",
            "_model_name": "HBoxModel",
            "_view_count": null,
            "_view_module": "@jupyter-widgets/controls",
            "_view_module_version": "1.5.0",
            "_view_name": "HBoxView",
            "box_style": "",
            "children": [
              "IPY_MODEL_3a1b22b336504dba98caa071c51d7d56",
              "IPY_MODEL_2a3d7251492d45eda4f092eb0884bf53",
              "IPY_MODEL_5885b307b113486297a565223edec796"
            ],
            "layout": "IPY_MODEL_17c2a28381844419bc5be57fe0fdf522"
          }
        },
        "3a1b22b336504dba98caa071c51d7d56": {
          "model_module": "@jupyter-widgets/controls",
          "model_name": "HTMLModel",
          "model_module_version": "1.5.0",
          "state": {
            "_dom_classes": [],
            "_model_module": "@jupyter-widgets/controls",
            "_model_module_version": "1.5.0",
            "_model_name": "HTMLModel",
            "_view_count": null,
            "_view_module": "@jupyter-widgets/controls",
            "_view_module_version": "1.5.0",
            "_view_name": "HTMLView",
            "description": "",
            "description_tooltip": null,
            "layout": "IPY_MODEL_b95f1a0ec4804243bc1b23209742a396",
            "placeholder": "​",
            "style": "IPY_MODEL_97ccd5c3d2e143909f53f7249df0cd38",
            "value": "100%"
          }
        },
        "2a3d7251492d45eda4f092eb0884bf53": {
          "model_module": "@jupyter-widgets/controls",
          "model_name": "FloatProgressModel",
          "model_module_version": "1.5.0",
          "state": {
            "_dom_classes": [],
            "_model_module": "@jupyter-widgets/controls",
            "_model_module_version": "1.5.0",
            "_model_name": "FloatProgressModel",
            "_view_count": null,
            "_view_module": "@jupyter-widgets/controls",
            "_view_module_version": "1.5.0",
            "_view_name": "ProgressView",
            "bar_style": "success",
            "description": "",
            "description_tooltip": null,
            "layout": "IPY_MODEL_39b327ae3cdc4d76895ec091dfb02327",
            "max": 9912422,
            "min": 0,
            "orientation": "horizontal",
            "style": "IPY_MODEL_983599cd99374696aec5c1dfec50d2b9",
            "value": 9912422
          }
        },
        "5885b307b113486297a565223edec796": {
          "model_module": "@jupyter-widgets/controls",
          "model_name": "HTMLModel",
          "model_module_version": "1.5.0",
          "state": {
            "_dom_classes": [],
            "_model_module": "@jupyter-widgets/controls",
            "_model_module_version": "1.5.0",
            "_model_name": "HTMLModel",
            "_view_count": null,
            "_view_module": "@jupyter-widgets/controls",
            "_view_module_version": "1.5.0",
            "_view_name": "HTMLView",
            "description": "",
            "description_tooltip": null,
            "layout": "IPY_MODEL_a463ff570bc04095b6f02970c8906fa3",
            "placeholder": "​",
            "style": "IPY_MODEL_864f9986537046ee9a29d45d3f5aa16c",
            "value": " 9912422/9912422 [00:00&lt;00:00, 83201242.63it/s]"
          }
        },
        "17c2a28381844419bc5be57fe0fdf522": {
          "model_module": "@jupyter-widgets/base",
          "model_name": "LayoutModel",
          "model_module_version": "1.2.0",
          "state": {
            "_model_module": "@jupyter-widgets/base",
            "_model_module_version": "1.2.0",
            "_model_name": "LayoutModel",
            "_view_count": null,
            "_view_module": "@jupyter-widgets/base",
            "_view_module_version": "1.2.0",
            "_view_name": "LayoutView",
            "align_content": null,
            "align_items": null,
            "align_self": null,
            "border": null,
            "bottom": null,
            "display": null,
            "flex": null,
            "flex_flow": null,
            "grid_area": null,
            "grid_auto_columns": null,
            "grid_auto_flow": null,
            "grid_auto_rows": null,
            "grid_column": null,
            "grid_gap": null,
            "grid_row": null,
            "grid_template_areas": null,
            "grid_template_columns": null,
            "grid_template_rows": null,
            "height": null,
            "justify_content": null,
            "justify_items": null,
            "left": null,
            "margin": null,
            "max_height": null,
            "max_width": null,
            "min_height": null,
            "min_width": null,
            "object_fit": null,
            "object_position": null,
            "order": null,
            "overflow": null,
            "overflow_x": null,
            "overflow_y": null,
            "padding": null,
            "right": null,
            "top": null,
            "visibility": null,
            "width": null
          }
        },
        "b95f1a0ec4804243bc1b23209742a396": {
          "model_module": "@jupyter-widgets/base",
          "model_name": "LayoutModel",
          "model_module_version": "1.2.0",
          "state": {
            "_model_module": "@jupyter-widgets/base",
            "_model_module_version": "1.2.0",
            "_model_name": "LayoutModel",
            "_view_count": null,
            "_view_module": "@jupyter-widgets/base",
            "_view_module_version": "1.2.0",
            "_view_name": "LayoutView",
            "align_content": null,
            "align_items": null,
            "align_self": null,
            "border": null,
            "bottom": null,
            "display": null,
            "flex": null,
            "flex_flow": null,
            "grid_area": null,
            "grid_auto_columns": null,
            "grid_auto_flow": null,
            "grid_auto_rows": null,
            "grid_column": null,
            "grid_gap": null,
            "grid_row": null,
            "grid_template_areas": null,
            "grid_template_columns": null,
            "grid_template_rows": null,
            "height": null,
            "justify_content": null,
            "justify_items": null,
            "left": null,
            "margin": null,
            "max_height": null,
            "max_width": null,
            "min_height": null,
            "min_width": null,
            "object_fit": null,
            "object_position": null,
            "order": null,
            "overflow": null,
            "overflow_x": null,
            "overflow_y": null,
            "padding": null,
            "right": null,
            "top": null,
            "visibility": null,
            "width": null
          }
        },
        "97ccd5c3d2e143909f53f7249df0cd38": {
          "model_module": "@jupyter-widgets/controls",
          "model_name": "DescriptionStyleModel",
          "model_module_version": "1.5.0",
          "state": {
            "_model_module": "@jupyter-widgets/controls",
            "_model_module_version": "1.5.0",
            "_model_name": "DescriptionStyleModel",
            "_view_count": null,
            "_view_module": "@jupyter-widgets/base",
            "_view_module_version": "1.2.0",
            "_view_name": "StyleView",
            "description_width": ""
          }
        },
        "39b327ae3cdc4d76895ec091dfb02327": {
          "model_module": "@jupyter-widgets/base",
          "model_name": "LayoutModel",
          "model_module_version": "1.2.0",
          "state": {
            "_model_module": "@jupyter-widgets/base",
            "_model_module_version": "1.2.0",
            "_model_name": "LayoutModel",
            "_view_count": null,
            "_view_module": "@jupyter-widgets/base",
            "_view_module_version": "1.2.0",
            "_view_name": "LayoutView",
            "align_content": null,
            "align_items": null,
            "align_self": null,
            "border": null,
            "bottom": null,
            "display": null,
            "flex": null,
            "flex_flow": null,
            "grid_area": null,
            "grid_auto_columns": null,
            "grid_auto_flow": null,
            "grid_auto_rows": null,
            "grid_column": null,
            "grid_gap": null,
            "grid_row": null,
            "grid_template_areas": null,
            "grid_template_columns": null,
            "grid_template_rows": null,
            "height": null,
            "justify_content": null,
            "justify_items": null,
            "left": null,
            "margin": null,
            "max_height": null,
            "max_width": null,
            "min_height": null,
            "min_width": null,
            "object_fit": null,
            "object_position": null,
            "order": null,
            "overflow": null,
            "overflow_x": null,
            "overflow_y": null,
            "padding": null,
            "right": null,
            "top": null,
            "visibility": null,
            "width": null
          }
        },
        "983599cd99374696aec5c1dfec50d2b9": {
          "model_module": "@jupyter-widgets/controls",
          "model_name": "ProgressStyleModel",
          "model_module_version": "1.5.0",
          "state": {
            "_model_module": "@jupyter-widgets/controls",
            "_model_module_version": "1.5.0",
            "_model_name": "ProgressStyleModel",
            "_view_count": null,
            "_view_module": "@jupyter-widgets/base",
            "_view_module_version": "1.2.0",
            "_view_name": "StyleView",
            "bar_color": null,
            "description_width": ""
          }
        },
        "a463ff570bc04095b6f02970c8906fa3": {
          "model_module": "@jupyter-widgets/base",
          "model_name": "LayoutModel",
          "model_module_version": "1.2.0",
          "state": {
            "_model_module": "@jupyter-widgets/base",
            "_model_module_version": "1.2.0",
            "_model_name": "LayoutModel",
            "_view_count": null,
            "_view_module": "@jupyter-widgets/base",
            "_view_module_version": "1.2.0",
            "_view_name": "LayoutView",
            "align_content": null,
            "align_items": null,
            "align_self": null,
            "border": null,
            "bottom": null,
            "display": null,
            "flex": null,
            "flex_flow": null,
            "grid_area": null,
            "grid_auto_columns": null,
            "grid_auto_flow": null,
            "grid_auto_rows": null,
            "grid_column": null,
            "grid_gap": null,
            "grid_row": null,
            "grid_template_areas": null,
            "grid_template_columns": null,
            "grid_template_rows": null,
            "height": null,
            "justify_content": null,
            "justify_items": null,
            "left": null,
            "margin": null,
            "max_height": null,
            "max_width": null,
            "min_height": null,
            "min_width": null,
            "object_fit": null,
            "object_position": null,
            "order": null,
            "overflow": null,
            "overflow_x": null,
            "overflow_y": null,
            "padding": null,
            "right": null,
            "top": null,
            "visibility": null,
            "width": null
          }
        },
        "864f9986537046ee9a29d45d3f5aa16c": {
          "model_module": "@jupyter-widgets/controls",
          "model_name": "DescriptionStyleModel",
          "model_module_version": "1.5.0",
          "state": {
            "_model_module": "@jupyter-widgets/controls",
            "_model_module_version": "1.5.0",
            "_model_name": "DescriptionStyleModel",
            "_view_count": null,
            "_view_module": "@jupyter-widgets/base",
            "_view_module_version": "1.2.0",
            "_view_name": "StyleView",
            "description_width": ""
          }
        },
        "feefb1fb899c4e7e8934562285c39958": {
          "model_module": "@jupyter-widgets/controls",
          "model_name": "HBoxModel",
          "model_module_version": "1.5.0",
          "state": {
            "_dom_classes": [],
            "_model_module": "@jupyter-widgets/controls",
            "_model_module_version": "1.5.0",
            "_model_name": "HBoxModel",
            "_view_count": null,
            "_view_module": "@jupyter-widgets/controls",
            "_view_module_version": "1.5.0",
            "_view_name": "HBoxView",
            "box_style": "",
            "children": [
              "IPY_MODEL_ed24f9d3068f4070bb95bada6880917c",
              "IPY_MODEL_886d355b9ed740aaa3da0efce19e7316",
              "IPY_MODEL_67675414492c4fc0b2ec094c69dc104e"
            ],
            "layout": "IPY_MODEL_867c4cceb0944f5bb9d963c33c64317b"
          }
        },
        "ed24f9d3068f4070bb95bada6880917c": {
          "model_module": "@jupyter-widgets/controls",
          "model_name": "HTMLModel",
          "model_module_version": "1.5.0",
          "state": {
            "_dom_classes": [],
            "_model_module": "@jupyter-widgets/controls",
            "_model_module_version": "1.5.0",
            "_model_name": "HTMLModel",
            "_view_count": null,
            "_view_module": "@jupyter-widgets/controls",
            "_view_module_version": "1.5.0",
            "_view_name": "HTMLView",
            "description": "",
            "description_tooltip": null,
            "layout": "IPY_MODEL_77498ac3ee3d46f685c5aa9d4cc81543",
            "placeholder": "​",
            "style": "IPY_MODEL_c11303d610d147fe999e1c221f933500",
            "value": "100%"
          }
        },
        "886d355b9ed740aaa3da0efce19e7316": {
          "model_module": "@jupyter-widgets/controls",
          "model_name": "FloatProgressModel",
          "model_module_version": "1.5.0",
          "state": {
            "_dom_classes": [],
            "_model_module": "@jupyter-widgets/controls",
            "_model_module_version": "1.5.0",
            "_model_name": "FloatProgressModel",
            "_view_count": null,
            "_view_module": "@jupyter-widgets/controls",
            "_view_module_version": "1.5.0",
            "_view_name": "ProgressView",
            "bar_style": "success",
            "description": "",
            "description_tooltip": null,
            "layout": "IPY_MODEL_f8d10f3bde174d4394d118c131f1e55c",
            "max": 28881,
            "min": 0,
            "orientation": "horizontal",
            "style": "IPY_MODEL_129138911ec34561a138e2ef65f4862e",
            "value": 28881
          }
        },
        "67675414492c4fc0b2ec094c69dc104e": {
          "model_module": "@jupyter-widgets/controls",
          "model_name": "HTMLModel",
          "model_module_version": "1.5.0",
          "state": {
            "_dom_classes": [],
            "_model_module": "@jupyter-widgets/controls",
            "_model_module_version": "1.5.0",
            "_model_name": "HTMLModel",
            "_view_count": null,
            "_view_module": "@jupyter-widgets/controls",
            "_view_module_version": "1.5.0",
            "_view_name": "HTMLView",
            "description": "",
            "description_tooltip": null,
            "layout": "IPY_MODEL_45fa0c80815b4515a3a58e9e0f86c192",
            "placeholder": "​",
            "style": "IPY_MODEL_6dde5ff66ee14679b04b102f94211485",
            "value": " 28881/28881 [00:00&lt;00:00, 882456.56it/s]"
          }
        },
        "867c4cceb0944f5bb9d963c33c64317b": {
          "model_module": "@jupyter-widgets/base",
          "model_name": "LayoutModel",
          "model_module_version": "1.2.0",
          "state": {
            "_model_module": "@jupyter-widgets/base",
            "_model_module_version": "1.2.0",
            "_model_name": "LayoutModel",
            "_view_count": null,
            "_view_module": "@jupyter-widgets/base",
            "_view_module_version": "1.2.0",
            "_view_name": "LayoutView",
            "align_content": null,
            "align_items": null,
            "align_self": null,
            "border": null,
            "bottom": null,
            "display": null,
            "flex": null,
            "flex_flow": null,
            "grid_area": null,
            "grid_auto_columns": null,
            "grid_auto_flow": null,
            "grid_auto_rows": null,
            "grid_column": null,
            "grid_gap": null,
            "grid_row": null,
            "grid_template_areas": null,
            "grid_template_columns": null,
            "grid_template_rows": null,
            "height": null,
            "justify_content": null,
            "justify_items": null,
            "left": null,
            "margin": null,
            "max_height": null,
            "max_width": null,
            "min_height": null,
            "min_width": null,
            "object_fit": null,
            "object_position": null,
            "order": null,
            "overflow": null,
            "overflow_x": null,
            "overflow_y": null,
            "padding": null,
            "right": null,
            "top": null,
            "visibility": null,
            "width": null
          }
        },
        "77498ac3ee3d46f685c5aa9d4cc81543": {
          "model_module": "@jupyter-widgets/base",
          "model_name": "LayoutModel",
          "model_module_version": "1.2.0",
          "state": {
            "_model_module": "@jupyter-widgets/base",
            "_model_module_version": "1.2.0",
            "_model_name": "LayoutModel",
            "_view_count": null,
            "_view_module": "@jupyter-widgets/base",
            "_view_module_version": "1.2.0",
            "_view_name": "LayoutView",
            "align_content": null,
            "align_items": null,
            "align_self": null,
            "border": null,
            "bottom": null,
            "display": null,
            "flex": null,
            "flex_flow": null,
            "grid_area": null,
            "grid_auto_columns": null,
            "grid_auto_flow": null,
            "grid_auto_rows": null,
            "grid_column": null,
            "grid_gap": null,
            "grid_row": null,
            "grid_template_areas": null,
            "grid_template_columns": null,
            "grid_template_rows": null,
            "height": null,
            "justify_content": null,
            "justify_items": null,
            "left": null,
            "margin": null,
            "max_height": null,
            "max_width": null,
            "min_height": null,
            "min_width": null,
            "object_fit": null,
            "object_position": null,
            "order": null,
            "overflow": null,
            "overflow_x": null,
            "overflow_y": null,
            "padding": null,
            "right": null,
            "top": null,
            "visibility": null,
            "width": null
          }
        },
        "c11303d610d147fe999e1c221f933500": {
          "model_module": "@jupyter-widgets/controls",
          "model_name": "DescriptionStyleModel",
          "model_module_version": "1.5.0",
          "state": {
            "_model_module": "@jupyter-widgets/controls",
            "_model_module_version": "1.5.0",
            "_model_name": "DescriptionStyleModel",
            "_view_count": null,
            "_view_module": "@jupyter-widgets/base",
            "_view_module_version": "1.2.0",
            "_view_name": "StyleView",
            "description_width": ""
          }
        },
        "f8d10f3bde174d4394d118c131f1e55c": {
          "model_module": "@jupyter-widgets/base",
          "model_name": "LayoutModel",
          "model_module_version": "1.2.0",
          "state": {
            "_model_module": "@jupyter-widgets/base",
            "_model_module_version": "1.2.0",
            "_model_name": "LayoutModel",
            "_view_count": null,
            "_view_module": "@jupyter-widgets/base",
            "_view_module_version": "1.2.0",
            "_view_name": "LayoutView",
            "align_content": null,
            "align_items": null,
            "align_self": null,
            "border": null,
            "bottom": null,
            "display": null,
            "flex": null,
            "flex_flow": null,
            "grid_area": null,
            "grid_auto_columns": null,
            "grid_auto_flow": null,
            "grid_auto_rows": null,
            "grid_column": null,
            "grid_gap": null,
            "grid_row": null,
            "grid_template_areas": null,
            "grid_template_columns": null,
            "grid_template_rows": null,
            "height": null,
            "justify_content": null,
            "justify_items": null,
            "left": null,
            "margin": null,
            "max_height": null,
            "max_width": null,
            "min_height": null,
            "min_width": null,
            "object_fit": null,
            "object_position": null,
            "order": null,
            "overflow": null,
            "overflow_x": null,
            "overflow_y": null,
            "padding": null,
            "right": null,
            "top": null,
            "visibility": null,
            "width": null
          }
        },
        "129138911ec34561a138e2ef65f4862e": {
          "model_module": "@jupyter-widgets/controls",
          "model_name": "ProgressStyleModel",
          "model_module_version": "1.5.0",
          "state": {
            "_model_module": "@jupyter-widgets/controls",
            "_model_module_version": "1.5.0",
            "_model_name": "ProgressStyleModel",
            "_view_count": null,
            "_view_module": "@jupyter-widgets/base",
            "_view_module_version": "1.2.0",
            "_view_name": "StyleView",
            "bar_color": null,
            "description_width": ""
          }
        },
        "45fa0c80815b4515a3a58e9e0f86c192": {
          "model_module": "@jupyter-widgets/base",
          "model_name": "LayoutModel",
          "model_module_version": "1.2.0",
          "state": {
            "_model_module": "@jupyter-widgets/base",
            "_model_module_version": "1.2.0",
            "_model_name": "LayoutModel",
            "_view_count": null,
            "_view_module": "@jupyter-widgets/base",
            "_view_module_version": "1.2.0",
            "_view_name": "LayoutView",
            "align_content": null,
            "align_items": null,
            "align_self": null,
            "border": null,
            "bottom": null,
            "display": null,
            "flex": null,
            "flex_flow": null,
            "grid_area": null,
            "grid_auto_columns": null,
            "grid_auto_flow": null,
            "grid_auto_rows": null,
            "grid_column": null,
            "grid_gap": null,
            "grid_row": null,
            "grid_template_areas": null,
            "grid_template_columns": null,
            "grid_template_rows": null,
            "height": null,
            "justify_content": null,
            "justify_items": null,
            "left": null,
            "margin": null,
            "max_height": null,
            "max_width": null,
            "min_height": null,
            "min_width": null,
            "object_fit": null,
            "object_position": null,
            "order": null,
            "overflow": null,
            "overflow_x": null,
            "overflow_y": null,
            "padding": null,
            "right": null,
            "top": null,
            "visibility": null,
            "width": null
          }
        },
        "6dde5ff66ee14679b04b102f94211485": {
          "model_module": "@jupyter-widgets/controls",
          "model_name": "DescriptionStyleModel",
          "model_module_version": "1.5.0",
          "state": {
            "_model_module": "@jupyter-widgets/controls",
            "_model_module_version": "1.5.0",
            "_model_name": "DescriptionStyleModel",
            "_view_count": null,
            "_view_module": "@jupyter-widgets/base",
            "_view_module_version": "1.2.0",
            "_view_name": "StyleView",
            "description_width": ""
          }
        },
        "d9e00b3e03564de691017e973c8701f2": {
          "model_module": "@jupyter-widgets/controls",
          "model_name": "HBoxModel",
          "model_module_version": "1.5.0",
          "state": {
            "_dom_classes": [],
            "_model_module": "@jupyter-widgets/controls",
            "_model_module_version": "1.5.0",
            "_model_name": "HBoxModel",
            "_view_count": null,
            "_view_module": "@jupyter-widgets/controls",
            "_view_module_version": "1.5.0",
            "_view_name": "HBoxView",
            "box_style": "",
            "children": [
              "IPY_MODEL_4efe4092975e48bab810a5d605bdf55f",
              "IPY_MODEL_b8b9163b6d494a0ab73dfcf9cc4c79d7",
              "IPY_MODEL_1c00aa6a1045479ea887323b8aeec334"
            ],
            "layout": "IPY_MODEL_1a97ab3e386549a18a9f0e8099b10d5a"
          }
        },
        "4efe4092975e48bab810a5d605bdf55f": {
          "model_module": "@jupyter-widgets/controls",
          "model_name": "HTMLModel",
          "model_module_version": "1.5.0",
          "state": {
            "_dom_classes": [],
            "_model_module": "@jupyter-widgets/controls",
            "_model_module_version": "1.5.0",
            "_model_name": "HTMLModel",
            "_view_count": null,
            "_view_module": "@jupyter-widgets/controls",
            "_view_module_version": "1.5.0",
            "_view_name": "HTMLView",
            "description": "",
            "description_tooltip": null,
            "layout": "IPY_MODEL_cfaf5fd6de38439fbd0a32f90f9a78f7",
            "placeholder": "​",
            "style": "IPY_MODEL_10167f933be349d09f3e83a365098092",
            "value": "100%"
          }
        },
        "b8b9163b6d494a0ab73dfcf9cc4c79d7": {
          "model_module": "@jupyter-widgets/controls",
          "model_name": "FloatProgressModel",
          "model_module_version": "1.5.0",
          "state": {
            "_dom_classes": [],
            "_model_module": "@jupyter-widgets/controls",
            "_model_module_version": "1.5.0",
            "_model_name": "FloatProgressModel",
            "_view_count": null,
            "_view_module": "@jupyter-widgets/controls",
            "_view_module_version": "1.5.0",
            "_view_name": "ProgressView",
            "bar_style": "success",
            "description": "",
            "description_tooltip": null,
            "layout": "IPY_MODEL_37c5952e725e4c94b5188d94c6aa7eac",
            "max": 1648877,
            "min": 0,
            "orientation": "horizontal",
            "style": "IPY_MODEL_57ea746ce25a4a90bd491ed3039c0dfc",
            "value": 1648877
          }
        },
        "1c00aa6a1045479ea887323b8aeec334": {
          "model_module": "@jupyter-widgets/controls",
          "model_name": "HTMLModel",
          "model_module_version": "1.5.0",
          "state": {
            "_dom_classes": [],
            "_model_module": "@jupyter-widgets/controls",
            "_model_module_version": "1.5.0",
            "_model_name": "HTMLModel",
            "_view_count": null,
            "_view_module": "@jupyter-widgets/controls",
            "_view_module_version": "1.5.0",
            "_view_name": "HTMLView",
            "description": "",
            "description_tooltip": null,
            "layout": "IPY_MODEL_6a30b493c40944c0a76d31ecafb55e46",
            "placeholder": "​",
            "style": "IPY_MODEL_0f955e99a0d04b94a41c5a790fa97047",
            "value": " 1648877/1648877 [00:00&lt;00:00, 22782542.54it/s]"
          }
        },
        "1a97ab3e386549a18a9f0e8099b10d5a": {
          "model_module": "@jupyter-widgets/base",
          "model_name": "LayoutModel",
          "model_module_version": "1.2.0",
          "state": {
            "_model_module": "@jupyter-widgets/base",
            "_model_module_version": "1.2.0",
            "_model_name": "LayoutModel",
            "_view_count": null,
            "_view_module": "@jupyter-widgets/base",
            "_view_module_version": "1.2.0",
            "_view_name": "LayoutView",
            "align_content": null,
            "align_items": null,
            "align_self": null,
            "border": null,
            "bottom": null,
            "display": null,
            "flex": null,
            "flex_flow": null,
            "grid_area": null,
            "grid_auto_columns": null,
            "grid_auto_flow": null,
            "grid_auto_rows": null,
            "grid_column": null,
            "grid_gap": null,
            "grid_row": null,
            "grid_template_areas": null,
            "grid_template_columns": null,
            "grid_template_rows": null,
            "height": null,
            "justify_content": null,
            "justify_items": null,
            "left": null,
            "margin": null,
            "max_height": null,
            "max_width": null,
            "min_height": null,
            "min_width": null,
            "object_fit": null,
            "object_position": null,
            "order": null,
            "overflow": null,
            "overflow_x": null,
            "overflow_y": null,
            "padding": null,
            "right": null,
            "top": null,
            "visibility": null,
            "width": null
          }
        },
        "cfaf5fd6de38439fbd0a32f90f9a78f7": {
          "model_module": "@jupyter-widgets/base",
          "model_name": "LayoutModel",
          "model_module_version": "1.2.0",
          "state": {
            "_model_module": "@jupyter-widgets/base",
            "_model_module_version": "1.2.0",
            "_model_name": "LayoutModel",
            "_view_count": null,
            "_view_module": "@jupyter-widgets/base",
            "_view_module_version": "1.2.0",
            "_view_name": "LayoutView",
            "align_content": null,
            "align_items": null,
            "align_self": null,
            "border": null,
            "bottom": null,
            "display": null,
            "flex": null,
            "flex_flow": null,
            "grid_area": null,
            "grid_auto_columns": null,
            "grid_auto_flow": null,
            "grid_auto_rows": null,
            "grid_column": null,
            "grid_gap": null,
            "grid_row": null,
            "grid_template_areas": null,
            "grid_template_columns": null,
            "grid_template_rows": null,
            "height": null,
            "justify_content": null,
            "justify_items": null,
            "left": null,
            "margin": null,
            "max_height": null,
            "max_width": null,
            "min_height": null,
            "min_width": null,
            "object_fit": null,
            "object_position": null,
            "order": null,
            "overflow": null,
            "overflow_x": null,
            "overflow_y": null,
            "padding": null,
            "right": null,
            "top": null,
            "visibility": null,
            "width": null
          }
        },
        "10167f933be349d09f3e83a365098092": {
          "model_module": "@jupyter-widgets/controls",
          "model_name": "DescriptionStyleModel",
          "model_module_version": "1.5.0",
          "state": {
            "_model_module": "@jupyter-widgets/controls",
            "_model_module_version": "1.5.0",
            "_model_name": "DescriptionStyleModel",
            "_view_count": null,
            "_view_module": "@jupyter-widgets/base",
            "_view_module_version": "1.2.0",
            "_view_name": "StyleView",
            "description_width": ""
          }
        },
        "37c5952e725e4c94b5188d94c6aa7eac": {
          "model_module": "@jupyter-widgets/base",
          "model_name": "LayoutModel",
          "model_module_version": "1.2.0",
          "state": {
            "_model_module": "@jupyter-widgets/base",
            "_model_module_version": "1.2.0",
            "_model_name": "LayoutModel",
            "_view_count": null,
            "_view_module": "@jupyter-widgets/base",
            "_view_module_version": "1.2.0",
            "_view_name": "LayoutView",
            "align_content": null,
            "align_items": null,
            "align_self": null,
            "border": null,
            "bottom": null,
            "display": null,
            "flex": null,
            "flex_flow": null,
            "grid_area": null,
            "grid_auto_columns": null,
            "grid_auto_flow": null,
            "grid_auto_rows": null,
            "grid_column": null,
            "grid_gap": null,
            "grid_row": null,
            "grid_template_areas": null,
            "grid_template_columns": null,
            "grid_template_rows": null,
            "height": null,
            "justify_content": null,
            "justify_items": null,
            "left": null,
            "margin": null,
            "max_height": null,
            "max_width": null,
            "min_height": null,
            "min_width": null,
            "object_fit": null,
            "object_position": null,
            "order": null,
            "overflow": null,
            "overflow_x": null,
            "overflow_y": null,
            "padding": null,
            "right": null,
            "top": null,
            "visibility": null,
            "width": null
          }
        },
        "57ea746ce25a4a90bd491ed3039c0dfc": {
          "model_module": "@jupyter-widgets/controls",
          "model_name": "ProgressStyleModel",
          "model_module_version": "1.5.0",
          "state": {
            "_model_module": "@jupyter-widgets/controls",
            "_model_module_version": "1.5.0",
            "_model_name": "ProgressStyleModel",
            "_view_count": null,
            "_view_module": "@jupyter-widgets/base",
            "_view_module_version": "1.2.0",
            "_view_name": "StyleView",
            "bar_color": null,
            "description_width": ""
          }
        },
        "6a30b493c40944c0a76d31ecafb55e46": {
          "model_module": "@jupyter-widgets/base",
          "model_name": "LayoutModel",
          "model_module_version": "1.2.0",
          "state": {
            "_model_module": "@jupyter-widgets/base",
            "_model_module_version": "1.2.0",
            "_model_name": "LayoutModel",
            "_view_count": null,
            "_view_module": "@jupyter-widgets/base",
            "_view_module_version": "1.2.0",
            "_view_name": "LayoutView",
            "align_content": null,
            "align_items": null,
            "align_self": null,
            "border": null,
            "bottom": null,
            "display": null,
            "flex": null,
            "flex_flow": null,
            "grid_area": null,
            "grid_auto_columns": null,
            "grid_auto_flow": null,
            "grid_auto_rows": null,
            "grid_column": null,
            "grid_gap": null,
            "grid_row": null,
            "grid_template_areas": null,
            "grid_template_columns": null,
            "grid_template_rows": null,
            "height": null,
            "justify_content": null,
            "justify_items": null,
            "left": null,
            "margin": null,
            "max_height": null,
            "max_width": null,
            "min_height": null,
            "min_width": null,
            "object_fit": null,
            "object_position": null,
            "order": null,
            "overflow": null,
            "overflow_x": null,
            "overflow_y": null,
            "padding": null,
            "right": null,
            "top": null,
            "visibility": null,
            "width": null
          }
        },
        "0f955e99a0d04b94a41c5a790fa97047": {
          "model_module": "@jupyter-widgets/controls",
          "model_name": "DescriptionStyleModel",
          "model_module_version": "1.5.0",
          "state": {
            "_model_module": "@jupyter-widgets/controls",
            "_model_module_version": "1.5.0",
            "_model_name": "DescriptionStyleModel",
            "_view_count": null,
            "_view_module": "@jupyter-widgets/base",
            "_view_module_version": "1.2.0",
            "_view_name": "StyleView",
            "description_width": ""
          }
        },
        "e227ebb0b26e4a12b252f0929bc7cf3a": {
          "model_module": "@jupyter-widgets/controls",
          "model_name": "HBoxModel",
          "model_module_version": "1.5.0",
          "state": {
            "_dom_classes": [],
            "_model_module": "@jupyter-widgets/controls",
            "_model_module_version": "1.5.0",
            "_model_name": "HBoxModel",
            "_view_count": null,
            "_view_module": "@jupyter-widgets/controls",
            "_view_module_version": "1.5.0",
            "_view_name": "HBoxView",
            "box_style": "",
            "children": [
              "IPY_MODEL_ca2fb45306b34bd4a7837f4286c07792",
              "IPY_MODEL_626ad4ff4dea418b89523765fdc3ff0d",
              "IPY_MODEL_275ba56a216046eda9782753a81fad96"
            ],
            "layout": "IPY_MODEL_ad7ab4bef6bd4b9eb1b9ba95dfed35ad"
          }
        },
        "ca2fb45306b34bd4a7837f4286c07792": {
          "model_module": "@jupyter-widgets/controls",
          "model_name": "HTMLModel",
          "model_module_version": "1.5.0",
          "state": {
            "_dom_classes": [],
            "_model_module": "@jupyter-widgets/controls",
            "_model_module_version": "1.5.0",
            "_model_name": "HTMLModel",
            "_view_count": null,
            "_view_module": "@jupyter-widgets/controls",
            "_view_module_version": "1.5.0",
            "_view_name": "HTMLView",
            "description": "",
            "description_tooltip": null,
            "layout": "IPY_MODEL_5bb802e63cfb4c93872e1fc787059daa",
            "placeholder": "​",
            "style": "IPY_MODEL_9a2a4ac476734875a93cc9507bd3ef57",
            "value": "100%"
          }
        },
        "626ad4ff4dea418b89523765fdc3ff0d": {
          "model_module": "@jupyter-widgets/controls",
          "model_name": "FloatProgressModel",
          "model_module_version": "1.5.0",
          "state": {
            "_dom_classes": [],
            "_model_module": "@jupyter-widgets/controls",
            "_model_module_version": "1.5.0",
            "_model_name": "FloatProgressModel",
            "_view_count": null,
            "_view_module": "@jupyter-widgets/controls",
            "_view_module_version": "1.5.0",
            "_view_name": "ProgressView",
            "bar_style": "success",
            "description": "",
            "description_tooltip": null,
            "layout": "IPY_MODEL_a890823d2cef438082122eeafc32e8fe",
            "max": 4542,
            "min": 0,
            "orientation": "horizontal",
            "style": "IPY_MODEL_44966cb8e304421dbc5066abddaeb2f0",
            "value": 4542
          }
        },
        "275ba56a216046eda9782753a81fad96": {
          "model_module": "@jupyter-widgets/controls",
          "model_name": "HTMLModel",
          "model_module_version": "1.5.0",
          "state": {
            "_dom_classes": [],
            "_model_module": "@jupyter-widgets/controls",
            "_model_module_version": "1.5.0",
            "_model_name": "HTMLModel",
            "_view_count": null,
            "_view_module": "@jupyter-widgets/controls",
            "_view_module_version": "1.5.0",
            "_view_name": "HTMLView",
            "description": "",
            "description_tooltip": null,
            "layout": "IPY_MODEL_88f498ecf31d4f9a811f72faede9b1c8",
            "placeholder": "​",
            "style": "IPY_MODEL_c91b5cbfd4854ea9a73ff0ec6225cb3c",
            "value": " 4542/4542 [00:00&lt;00:00, 192920.65it/s]"
          }
        },
        "ad7ab4bef6bd4b9eb1b9ba95dfed35ad": {
          "model_module": "@jupyter-widgets/base",
          "model_name": "LayoutModel",
          "model_module_version": "1.2.0",
          "state": {
            "_model_module": "@jupyter-widgets/base",
            "_model_module_version": "1.2.0",
            "_model_name": "LayoutModel",
            "_view_count": null,
            "_view_module": "@jupyter-widgets/base",
            "_view_module_version": "1.2.0",
            "_view_name": "LayoutView",
            "align_content": null,
            "align_items": null,
            "align_self": null,
            "border": null,
            "bottom": null,
            "display": null,
            "flex": null,
            "flex_flow": null,
            "grid_area": null,
            "grid_auto_columns": null,
            "grid_auto_flow": null,
            "grid_auto_rows": null,
            "grid_column": null,
            "grid_gap": null,
            "grid_row": null,
            "grid_template_areas": null,
            "grid_template_columns": null,
            "grid_template_rows": null,
            "height": null,
            "justify_content": null,
            "justify_items": null,
            "left": null,
            "margin": null,
            "max_height": null,
            "max_width": null,
            "min_height": null,
            "min_width": null,
            "object_fit": null,
            "object_position": null,
            "order": null,
            "overflow": null,
            "overflow_x": null,
            "overflow_y": null,
            "padding": null,
            "right": null,
            "top": null,
            "visibility": null,
            "width": null
          }
        },
        "5bb802e63cfb4c93872e1fc787059daa": {
          "model_module": "@jupyter-widgets/base",
          "model_name": "LayoutModel",
          "model_module_version": "1.2.0",
          "state": {
            "_model_module": "@jupyter-widgets/base",
            "_model_module_version": "1.2.0",
            "_model_name": "LayoutModel",
            "_view_count": null,
            "_view_module": "@jupyter-widgets/base",
            "_view_module_version": "1.2.0",
            "_view_name": "LayoutView",
            "align_content": null,
            "align_items": null,
            "align_self": null,
            "border": null,
            "bottom": null,
            "display": null,
            "flex": null,
            "flex_flow": null,
            "grid_area": null,
            "grid_auto_columns": null,
            "grid_auto_flow": null,
            "grid_auto_rows": null,
            "grid_column": null,
            "grid_gap": null,
            "grid_row": null,
            "grid_template_areas": null,
            "grid_template_columns": null,
            "grid_template_rows": null,
            "height": null,
            "justify_content": null,
            "justify_items": null,
            "left": null,
            "margin": null,
            "max_height": null,
            "max_width": null,
            "min_height": null,
            "min_width": null,
            "object_fit": null,
            "object_position": null,
            "order": null,
            "overflow": null,
            "overflow_x": null,
            "overflow_y": null,
            "padding": null,
            "right": null,
            "top": null,
            "visibility": null,
            "width": null
          }
        },
        "9a2a4ac476734875a93cc9507bd3ef57": {
          "model_module": "@jupyter-widgets/controls",
          "model_name": "DescriptionStyleModel",
          "model_module_version": "1.5.0",
          "state": {
            "_model_module": "@jupyter-widgets/controls",
            "_model_module_version": "1.5.0",
            "_model_name": "DescriptionStyleModel",
            "_view_count": null,
            "_view_module": "@jupyter-widgets/base",
            "_view_module_version": "1.2.0",
            "_view_name": "StyleView",
            "description_width": ""
          }
        },
        "a890823d2cef438082122eeafc32e8fe": {
          "model_module": "@jupyter-widgets/base",
          "model_name": "LayoutModel",
          "model_module_version": "1.2.0",
          "state": {
            "_model_module": "@jupyter-widgets/base",
            "_model_module_version": "1.2.0",
            "_model_name": "LayoutModel",
            "_view_count": null,
            "_view_module": "@jupyter-widgets/base",
            "_view_module_version": "1.2.0",
            "_view_name": "LayoutView",
            "align_content": null,
            "align_items": null,
            "align_self": null,
            "border": null,
            "bottom": null,
            "display": null,
            "flex": null,
            "flex_flow": null,
            "grid_area": null,
            "grid_auto_columns": null,
            "grid_auto_flow": null,
            "grid_auto_rows": null,
            "grid_column": null,
            "grid_gap": null,
            "grid_row": null,
            "grid_template_areas": null,
            "grid_template_columns": null,
            "grid_template_rows": null,
            "height": null,
            "justify_content": null,
            "justify_items": null,
            "left": null,
            "margin": null,
            "max_height": null,
            "max_width": null,
            "min_height": null,
            "min_width": null,
            "object_fit": null,
            "object_position": null,
            "order": null,
            "overflow": null,
            "overflow_x": null,
            "overflow_y": null,
            "padding": null,
            "right": null,
            "top": null,
            "visibility": null,
            "width": null
          }
        },
        "44966cb8e304421dbc5066abddaeb2f0": {
          "model_module": "@jupyter-widgets/controls",
          "model_name": "ProgressStyleModel",
          "model_module_version": "1.5.0",
          "state": {
            "_model_module": "@jupyter-widgets/controls",
            "_model_module_version": "1.5.0",
            "_model_name": "ProgressStyleModel",
            "_view_count": null,
            "_view_module": "@jupyter-widgets/base",
            "_view_module_version": "1.2.0",
            "_view_name": "StyleView",
            "bar_color": null,
            "description_width": ""
          }
        },
        "88f498ecf31d4f9a811f72faede9b1c8": {
          "model_module": "@jupyter-widgets/base",
          "model_name": "LayoutModel",
          "model_module_version": "1.2.0",
          "state": {
            "_model_module": "@jupyter-widgets/base",
            "_model_module_version": "1.2.0",
            "_model_name": "LayoutModel",
            "_view_count": null,
            "_view_module": "@jupyter-widgets/base",
            "_view_module_version": "1.2.0",
            "_view_name": "LayoutView",
            "align_content": null,
            "align_items": null,
            "align_self": null,
            "border": null,
            "bottom": null,
            "display": null,
            "flex": null,
            "flex_flow": null,
            "grid_area": null,
            "grid_auto_columns": null,
            "grid_auto_flow": null,
            "grid_auto_rows": null,
            "grid_column": null,
            "grid_gap": null,
            "grid_row": null,
            "grid_template_areas": null,
            "grid_template_columns": null,
            "grid_template_rows": null,
            "height": null,
            "justify_content": null,
            "justify_items": null,
            "left": null,
            "margin": null,
            "max_height": null,
            "max_width": null,
            "min_height": null,
            "min_width": null,
            "object_fit": null,
            "object_position": null,
            "order": null,
            "overflow": null,
            "overflow_x": null,
            "overflow_y": null,
            "padding": null,
            "right": null,
            "top": null,
            "visibility": null,
            "width": null
          }
        },
        "c91b5cbfd4854ea9a73ff0ec6225cb3c": {
          "model_module": "@jupyter-widgets/controls",
          "model_name": "DescriptionStyleModel",
          "model_module_version": "1.5.0",
          "state": {
            "_model_module": "@jupyter-widgets/controls",
            "_model_module_version": "1.5.0",
            "_model_name": "DescriptionStyleModel",
            "_view_count": null,
            "_view_module": "@jupyter-widgets/base",
            "_view_module_version": "1.2.0",
            "_view_name": "StyleView",
            "description_width": ""
          }
        }
      }
    },
    "accelerator": "GPU",
    "gpuClass": "standard"
  },
  "cells": [
    {
      "cell_type": "markdown",
      "metadata": {
        "id": "view-in-github",
        "colab_type": "text"
      },
      "source": [
        "<a href=\"https://colab.research.google.com/github/DL4CV-NPTEL/Deep-Learning-For-Computer-Vision/blob/main/notebooks/Week_4/Week_4_Lecture_8.ipynb\" target=\"_parent\"><img src=\"https://colab.research.google.com/assets/colab-badge.svg\" alt=\"Open In Colab\"/></a>"
      ]
    },
    {
      "cell_type": "markdown",
      "source": [
        "# Lecture 8: Regularization in Neural Networks Part 2 <sup><mark style=\"background-color:gold\">Code</mark> </sup>"
      ],
      "metadata": {
        "id": "3JdIPfdtt2TU"
      }
    },
    {
      "cell_type": "code",
      "source": [
        "#@title \n",
        "from ipywidgets import widgets\n",
        "out1 = widgets.Output()\n",
        "with out1:\n",
        "  from IPython.display import YouTubeVideo\n",
        "  video = YouTubeVideo(id=f\"oHtOFQR0Wng\", width=854, height=480, fs=1, rel=0)\n",
        "  print(\"Video available at https://youtube.com/watch?v=\" + video.id)\n",
        "  display(video)\n",
        "display(out1)"
      ],
      "metadata": {
        "colab": {
          "base_uri": "https://localhost:8080/",
          "height": 518,
          "referenced_widgets": [
            "f203bf3352224d39b4159e611334bb71",
            "279b854326334321b6925801f61c1d2b"
          ]
        },
        "cellView": "form",
        "id": "rA0FZ1_3t3nO",
        "outputId": "1bfbc064-ccc1-40f1-9393-50c74a09a9a0"
      },
      "execution_count": 1,
      "outputs": [
        {
          "output_type": "display_data",
          "data": {
            "text/plain": [
              "Output()"
            ],
            "application/vnd.jupyter.widget-view+json": {
              "version_major": 2,
              "version_minor": 0,
              "model_id": "f203bf3352224d39b4159e611334bb71"
            }
          },
          "metadata": {}
        }
      ]
    },
    {
      "cell_type": "code",
      "source": [
        "#@title \n",
        "from IPython import display as IPyDisplay\n",
        "IPyDisplay.HTML(\n",
        "    f\"\"\"\n",
        "  <div>\n",
        "    <a href= \"https://github.com/DL4CV-NPTEL/Deep-Learning-For-Computer-Vision/blob/main/Slides/Week_4/DL4CV_Week04_Part04.pdf\" target=\"_blank\">\n",
        "    <img src=\"https://github.com/DL4CV-NPTEL/Deep-Learning-For-Computer-Vision/blob/main/Data/Slides_Logo.png?raw=1\"\n",
        "  alt=\"button link to Airtable\" style=\"width:200px\"></a>\n",
        "    </div>\"\"\" )"
      ],
      "metadata": {
        "colab": {
          "base_uri": "https://localhost:8080/",
          "height": 100
        },
        "cellView": "form",
        "id": "WrHo4zh4t_Km",
        "outputId": "cb61411a-5395-4265-f433-64ad7311ab51"
      },
      "execution_count": 2,
      "outputs": [
        {
          "output_type": "execute_result",
          "data": {
            "text/plain": [
              "<IPython.core.display.HTML object>"
            ],
            "text/html": [
              "\n",
              "  <div>\n",
              "    <a href= \"https://github.com/DL4CV-NPTEL/Deep-Learning-For-Computer-Vision/blob/main/Slides/Week_4/DL4CV_Week04_Part04.pdf\" target=\"_blank\">\n",
              "    <img src=\"https://github.com/DL4CV-NPTEL/Deep-Learning-For-Computer-Vision/blob/main/Data/Slides_Logo.png?raw=1\"\n",
              "  alt=\"button link to Airtable\" style=\"width:200px\"></a>\n",
              "    </div>"
            ]
          },
          "metadata": {},
          "execution_count": 2
        }
      ]
    },
    {
      "cell_type": "markdown",
      "source": [
        "## Data Augmentations"
      ],
      "metadata": {
        "id": "zx7F4CpH1gZw"
      }
    },
    {
      "cell_type": "code",
      "source": [
        "from torchvision import datasets\n",
        "import torchvision\n",
        "import random\n",
        "from torch.utils.data import DataLoader\n",
        "import torch.nn.functional as F\n",
        "import torch\n",
        "import PIL\n",
        "import matplotlib.pyplot as plt\n",
        "%matplotlib inline"
      ],
      "metadata": {
        "id": "wvT7F0cyuLI4"
      },
      "execution_count": 3,
      "outputs": []
    },
    {
      "cell_type": "code",
      "source": [
        "##########################\n",
        "### SETTINGS\n",
        "##########################\n",
        "\n",
        "RANDOM_SEED = 1\n",
        "BATCH_SIZE = 128\n",
        "NUM_EPOCHS = 100\n",
        "\n",
        "##########################\n",
        "### MNIST DATASET\n",
        "##########################\n",
        "\n",
        "# Note transforms.ToTensor() scales input images\n",
        "# to 0-1 range\n",
        "\n",
        "training_transforms = torchvision.transforms.Compose([\n",
        "    torchvision.transforms.Resize(size=(32, 32)),\n",
        "    torchvision.transforms.RandomCrop(size=(28, 28)),\n",
        "    torchvision.transforms.RandomRotation(degrees=30, interpolation=PIL.Image.BILINEAR),\n",
        "    torchvision.transforms.ToTensor(),\n",
        "    torchvision.transforms.Normalize(mean=(0.5,), std=(0.5,)),\n",
        "    # normalize does (x_i - mean) / std\n",
        "    # if images are [0, 1], they will be [-1, 1] afterwards\n",
        "])\n",
        "\n",
        "test_transforms = torchvision.transforms.Compose([\n",
        "    torchvision.transforms.ToTensor(),\n",
        "    torchvision.transforms.Resize(size=(32, 32)),\n",
        "    torchvision.transforms.CenterCrop(size=(28, 28)),\n",
        "    torchvision.transforms.Normalize(mean=(0.5,), std=(0.5,)),\n",
        "])\n",
        "\n",
        "# for more see\n",
        "# https://pytorch.org/docs/stable/torchvision/transforms.html\n",
        "\n",
        "train_dataset = datasets.MNIST(root='data', \n",
        "                               train=True, \n",
        "                               transform=training_transforms,\n",
        "                               download=True)\n",
        "\n",
        "test_dataset = datasets.MNIST(root='data', \n",
        "                              train=False, \n",
        "                              transform=test_transforms)\n",
        "\n",
        "\n",
        "train_loader = DataLoader(dataset=train_dataset, \n",
        "                          batch_size=BATCH_SIZE, \n",
        "                          shuffle=True)\n",
        "\n",
        "test_loader = DataLoader(dataset=test_dataset, \n",
        "                         batch_size=BATCH_SIZE, \n",
        "                         shuffle=False)"
      ],
      "metadata": {
        "id": "1d6K67M91xOe",
        "outputId": "2ab9bc79-b383-44a2-fc29-8581e842163c",
        "colab": {
          "base_uri": "https://localhost:8080/",
          "height": 477,
          "referenced_widgets": [
            "7e28545e78fc4d99b250c92d5381cca5",
            "3a1b22b336504dba98caa071c51d7d56",
            "2a3d7251492d45eda4f092eb0884bf53",
            "5885b307b113486297a565223edec796",
            "17c2a28381844419bc5be57fe0fdf522",
            "b95f1a0ec4804243bc1b23209742a396",
            "97ccd5c3d2e143909f53f7249df0cd38",
            "39b327ae3cdc4d76895ec091dfb02327",
            "983599cd99374696aec5c1dfec50d2b9",
            "a463ff570bc04095b6f02970c8906fa3",
            "864f9986537046ee9a29d45d3f5aa16c",
            "feefb1fb899c4e7e8934562285c39958",
            "ed24f9d3068f4070bb95bada6880917c",
            "886d355b9ed740aaa3da0efce19e7316",
            "67675414492c4fc0b2ec094c69dc104e",
            "867c4cceb0944f5bb9d963c33c64317b",
            "77498ac3ee3d46f685c5aa9d4cc81543",
            "c11303d610d147fe999e1c221f933500",
            "f8d10f3bde174d4394d118c131f1e55c",
            "129138911ec34561a138e2ef65f4862e",
            "45fa0c80815b4515a3a58e9e0f86c192",
            "6dde5ff66ee14679b04b102f94211485",
            "d9e00b3e03564de691017e973c8701f2",
            "4efe4092975e48bab810a5d605bdf55f",
            "b8b9163b6d494a0ab73dfcf9cc4c79d7",
            "1c00aa6a1045479ea887323b8aeec334",
            "1a97ab3e386549a18a9f0e8099b10d5a",
            "cfaf5fd6de38439fbd0a32f90f9a78f7",
            "10167f933be349d09f3e83a365098092",
            "37c5952e725e4c94b5188d94c6aa7eac",
            "57ea746ce25a4a90bd491ed3039c0dfc",
            "6a30b493c40944c0a76d31ecafb55e46",
            "0f955e99a0d04b94a41c5a790fa97047",
            "e227ebb0b26e4a12b252f0929bc7cf3a",
            "ca2fb45306b34bd4a7837f4286c07792",
            "626ad4ff4dea418b89523765fdc3ff0d",
            "275ba56a216046eda9782753a81fad96",
            "ad7ab4bef6bd4b9eb1b9ba95dfed35ad",
            "5bb802e63cfb4c93872e1fc787059daa",
            "9a2a4ac476734875a93cc9507bd3ef57",
            "a890823d2cef438082122eeafc32e8fe",
            "44966cb8e304421dbc5066abddaeb2f0",
            "88f498ecf31d4f9a811f72faede9b1c8",
            "c91b5cbfd4854ea9a73ff0ec6225cb3c"
          ]
        }
      },
      "execution_count": 4,
      "outputs": [
        {
          "output_type": "stream",
          "name": "stdout",
          "text": [
            "Downloading http://yann.lecun.com/exdb/mnist/train-images-idx3-ubyte.gz\n",
            "Downloading http://yann.lecun.com/exdb/mnist/train-images-idx3-ubyte.gz to data/MNIST/raw/train-images-idx3-ubyte.gz\n"
          ]
        },
        {
          "output_type": "stream",
          "name": "stderr",
          "text": [
            "/usr/local/lib/python3.7/dist-packages/torchvision/transforms/transforms.py:1306: UserWarning: Argument 'interpolation' of type int is deprecated since 0.13 and will be removed in 0.15. Please use InterpolationMode enum.\n",
            "  \"Argument 'interpolation' of type int is deprecated since 0.13 and will be removed in 0.15. \"\n"
          ]
        },
        {
          "output_type": "display_data",
          "data": {
            "text/plain": [
              "  0%|          | 0/9912422 [00:00<?, ?it/s]"
            ],
            "application/vnd.jupyter.widget-view+json": {
              "version_major": 2,
              "version_minor": 0,
              "model_id": "7e28545e78fc4d99b250c92d5381cca5"
            }
          },
          "metadata": {}
        },
        {
          "output_type": "stream",
          "name": "stdout",
          "text": [
            "Extracting data/MNIST/raw/train-images-idx3-ubyte.gz to data/MNIST/raw\n",
            "\n",
            "Downloading http://yann.lecun.com/exdb/mnist/train-labels-idx1-ubyte.gz\n",
            "Downloading http://yann.lecun.com/exdb/mnist/train-labels-idx1-ubyte.gz to data/MNIST/raw/train-labels-idx1-ubyte.gz\n"
          ]
        },
        {
          "output_type": "display_data",
          "data": {
            "text/plain": [
              "  0%|          | 0/28881 [00:00<?, ?it/s]"
            ],
            "application/vnd.jupyter.widget-view+json": {
              "version_major": 2,
              "version_minor": 0,
              "model_id": "feefb1fb899c4e7e8934562285c39958"
            }
          },
          "metadata": {}
        },
        {
          "output_type": "stream",
          "name": "stdout",
          "text": [
            "Extracting data/MNIST/raw/train-labels-idx1-ubyte.gz to data/MNIST/raw\n",
            "\n",
            "Downloading http://yann.lecun.com/exdb/mnist/t10k-images-idx3-ubyte.gz\n",
            "Downloading http://yann.lecun.com/exdb/mnist/t10k-images-idx3-ubyte.gz to data/MNIST/raw/t10k-images-idx3-ubyte.gz\n"
          ]
        },
        {
          "output_type": "display_data",
          "data": {
            "text/plain": [
              "  0%|          | 0/1648877 [00:00<?, ?it/s]"
            ],
            "application/vnd.jupyter.widget-view+json": {
              "version_major": 2,
              "version_minor": 0,
              "model_id": "d9e00b3e03564de691017e973c8701f2"
            }
          },
          "metadata": {}
        },
        {
          "output_type": "stream",
          "name": "stdout",
          "text": [
            "Extracting data/MNIST/raw/t10k-images-idx3-ubyte.gz to data/MNIST/raw\n",
            "\n",
            "Downloading http://yann.lecun.com/exdb/mnist/t10k-labels-idx1-ubyte.gz\n",
            "Downloading http://yann.lecun.com/exdb/mnist/t10k-labels-idx1-ubyte.gz to data/MNIST/raw/t10k-labels-idx1-ubyte.gz\n"
          ]
        },
        {
          "output_type": "display_data",
          "data": {
            "text/plain": [
              "  0%|          | 0/4542 [00:00<?, ?it/s]"
            ],
            "application/vnd.jupyter.widget-view+json": {
              "version_major": 2,
              "version_minor": 0,
              "model_id": "e227ebb0b26e4a12b252f0929bc7cf3a"
            }
          },
          "metadata": {}
        },
        {
          "output_type": "stream",
          "name": "stdout",
          "text": [
            "Extracting data/MNIST/raw/t10k-labels-idx1-ubyte.gz to data/MNIST/raw\n",
            "\n"
          ]
        }
      ]
    },
    {
      "cell_type": "code",
      "source": [
        "# Checking the dataset\n",
        "\n",
        "random.seed(0)\n",
        "torch.manual_seed(0)\n",
        "\n",
        "\n",
        "for images, labels in train_loader:  \n",
        "    print('Image batch dimensions:', images.shape)\n",
        "    print('Image label dimensions:', labels.shape)\n",
        "    break\n",
        "    \n",
        "fig, ax = plt.subplots(1, 4)\n",
        "for i in range(4):\n",
        "    ax[i].imshow(images[i].view(28, 28).numpy(), cmap='binary')\n",
        "    \n",
        "plt.tight_layout()"
      ],
      "metadata": {
        "id": "1L8aZNKI11H9",
        "outputId": "a5c46608-dc98-4211-a9ff-9d626f650706",
        "colab": {
          "base_uri": "https://localhost:8080/",
          "height": 160
        }
      },
      "execution_count": 5,
      "outputs": [
        {
          "output_type": "stream",
          "name": "stdout",
          "text": [
            "Image batch dimensions: torch.Size([128, 1, 28, 28])\n",
            "Image label dimensions: torch.Size([128])\n"
          ]
        },
        {
          "output_type": "display_data",
          "data": {
            "text/plain": [
              "<Figure size 432x288 with 4 Axes>"
            ],
            "image/png": "[encoded data removed]"
          },
          "metadata": {
            "needs_background": "light"
          }
        }
      ]
    },
    {
      "cell_type": "code",
      "source": [
        "# compare without augmentation\n",
        "\n",
        "train_dataset = datasets.MNIST(root='data', \n",
        "                               train=True, \n",
        "                               transform=torchvision.transforms.ToTensor(),\n",
        "                               download=True)\n",
        "\n",
        "train_loader = DataLoader(dataset=train_dataset, \n",
        "                          batch_size=BATCH_SIZE, \n",
        "                          shuffle=True)\n",
        "\n",
        "torch.manual_seed(0)\n",
        "for images, labels in train_loader:  \n",
        "    print('Image batch dimensions:', images.shape)\n",
        "    print('Image label dimensions:', labels.shape)\n",
        "    break\n",
        "    \n",
        "fig, ax = plt.subplots(1, 4)\n",
        "for i in range(4):\n",
        "    ax[i].imshow(images[i].view(28, 28).numpy(), cmap='binary')\n",
        "    \n",
        "plt.tight_layout()"
      ],
      "metadata": {
        "id": "ZeOZzUIk13Bd",
        "outputId": "d7d0111a-bdf6-4352-aeb5-39ad2c5f98d9",
        "colab": {
          "base_uri": "https://localhost:8080/",
          "height": 160
        }
      },
      "execution_count": 6,
      "outputs": [
        {
          "output_type": "stream",
          "name": "stdout",
          "text": [
            "Image batch dimensions: torch.Size([128, 1, 28, 28])\n",
            "Image label dimensions: torch.Size([128])\n"
          ]
        },
        {
          "output_type": "display_data",
          "data": {
            "text/plain": [
              "<Figure size 432x288 with 4 Axes>"
            ],
            "image/png": "[encoded data removed]"
          },
          "metadata": {
            "needs_background": "light"
          }
        }
      ]
    },
    {
      "cell_type": "markdown",
      "source": [
        "## Helper functions"
      ],
      "metadata": {
        "id": "Cv14EzunCfF8"
      }
    },
    {
      "cell_type": "markdown",
      "source": [
        "**Imports**"
      ],
      "metadata": {
        "id": "58Qt2t0BCho8"
      }
    },
    {
      "cell_type": "code",
      "source": [
        "import torch\n",
        "import numpy as np\n",
        "import matplotlib.pyplot as plt\n",
        "from torch.utils.data import sampler\n",
        "from torchvision import datasets\n",
        "from torch.utils.data import DataLoader\n",
        "from torch.utils.data import SubsetRandomSampler\n",
        "from torchvision import transforms\n",
        "import time\n",
        "import os\n",
        "import random\n",
        "from distutils.version import LooseVersion as Version"
      ],
      "metadata": {
        "id": "4a5Rfzor2Jq8"
      },
      "execution_count": 7,
      "outputs": []
    },
    {
      "cell_type": "markdown",
      "source": [
        "**Helper function for Dataloading**"
      ],
      "metadata": {
        "id": "XmZhmtP7D8N8"
      }
    },
    {
      "cell_type": "code",
      "source": [
        "def get_dataloaders_mnist(batch_size, num_workers=0,\n",
        "                          validation_fraction=None,\n",
        "                          train_transforms=None,\n",
        "                          test_transforms=None):\n",
        "\n",
        "    if train_transforms is None:\n",
        "        train_transforms = transforms.ToTensor()\n",
        "\n",
        "    if test_transforms is None:\n",
        "        test_transforms = transforms.ToTensor()\n",
        "\n",
        "    train_dataset = datasets.MNIST(root='data',\n",
        "                                   train=True,\n",
        "                                   transform=train_transforms,\n",
        "                                   download=True)\n",
        "\n",
        "    valid_dataset = datasets.MNIST(root='data',\n",
        "                                   train=True,\n",
        "                                   transform=test_transforms)\n",
        "\n",
        "    test_dataset = datasets.MNIST(root='data',\n",
        "                                  train=False,\n",
        "                                  transform=test_transforms)\n",
        "\n",
        "    if validation_fraction is not None:\n",
        "        num = int(validation_fraction * 60000)\n",
        "        train_indices = torch.arange(0, 60000 - num)\n",
        "        valid_indices = torch.arange(60000 - num, 60000)\n",
        "\n",
        "        train_sampler = SubsetRandomSampler(train_indices)\n",
        "        valid_sampler = SubsetRandomSampler(valid_indices)\n",
        "\n",
        "        valid_loader = DataLoader(dataset=valid_dataset,\n",
        "                                  batch_size=batch_size,\n",
        "                                  num_workers=num_workers,\n",
        "                                  sampler=valid_sampler)\n",
        "\n",
        "        train_loader = DataLoader(dataset=train_dataset,\n",
        "                                  batch_size=batch_size,\n",
        "                                  num_workers=num_workers,\n",
        "                                  drop_last=True,\n",
        "                                  sampler=train_sampler)\n",
        "\n",
        "    else:\n",
        "        train_loader = DataLoader(dataset=train_dataset,\n",
        "                                  batch_size=batch_size,\n",
        "                                  num_workers=num_workers,\n",
        "                                  drop_last=True,\n",
        "                                  shuffle=True)\n",
        "\n",
        "    test_loader = DataLoader(dataset=test_dataset,\n",
        "                             batch_size=batch_size,\n",
        "                             num_workers=num_workers,\n",
        "                             shuffle=False)\n",
        "\n",
        "    if validation_fraction is None:\n",
        "        return train_loader, test_loader\n",
        "    else:\n",
        "        return train_loader, valid_loader, test_loader"
      ],
      "metadata": {
        "id": "WbPYLrOiC6K3"
      },
      "execution_count": 8,
      "outputs": []
    },
    {
      "cell_type": "markdown",
      "source": [
        "**Helper function for evaluation**"
      ],
      "metadata": {
        "id": "INMhlmKvEHSN"
      }
    },
    {
      "cell_type": "code",
      "source": [
        "def set_all_seeds(seed):\n",
        "    os.environ[\"PL_GLOBAL_SEED\"] = str(seed)\n",
        "    random.seed(seed)\n",
        "    np.random.seed(seed)\n",
        "    torch.manual_seed(seed)\n",
        "    torch.cuda.manual_seed_all(seed)\n",
        "\n",
        "\n",
        "def set_deterministic():\n",
        "    if torch.cuda.is_available():\n",
        "        torch.backends.cudnn.benchmark = False\n",
        "        torch.backends.cudnn.deterministic = True\n",
        "\n",
        " \n",
        "def compute_accuracy(model, data_loader, device):\n",
        "\n",
        "    with torch.no_grad():\n",
        "\n",
        "        correct_pred, num_examples = 0, 0\n",
        "\n",
        "        for i, (features, targets) in enumerate(data_loader):\n",
        "\n",
        "            features = features.to(device)\n",
        "            targets = targets.float().to(device)\n",
        "\n",
        "            logits = model(features)\n",
        "            _, predicted_labels = torch.max(logits, 1)\n",
        "\n",
        "            num_examples += targets.size(0)\n",
        "            correct_pred += (predicted_labels == targets).sum()\n",
        "    return correct_pred.float()/num_examples * 100"
      ],
      "metadata": {
        "id": "_jg5a6soDh41"
      },
      "execution_count": 9,
      "outputs": []
    },
    {
      "cell_type": "markdown",
      "source": [
        "**Helper function for training**"
      ],
      "metadata": {
        "id": "4vBaHjMiENWD"
      }
    },
    {
      "cell_type": "code",
      "source": [
        "def train_model(model, num_epochs, train_loader,\n",
        "                valid_loader, test_loader, optimizer, device):\n",
        "\n",
        "    start_time = time.time()\n",
        "    minibatch_loss_list, train_acc_list, valid_acc_list = [], [], []\n",
        "    for epoch in range(num_epochs):\n",
        "\n",
        "        model.train()\n",
        "        for batch_idx, (features, targets) in enumerate(train_loader):\n",
        "\n",
        "            features = features.to(device)\n",
        "            targets = targets.to(device)\n",
        "\n",
        "            # ## FORWARD AND BACK PROP\n",
        "            logits = model(features)\n",
        "            loss = torch.nn.functional.cross_entropy(logits, targets)\n",
        "            optimizer.zero_grad()\n",
        "\n",
        "            loss.backward()\n",
        "\n",
        "            # ## UPDATE MODEL PARAMETERS\n",
        "            optimizer.step()\n",
        "\n",
        "            # ## LOGGING\n",
        "            minibatch_loss_list.append(loss.item())\n",
        "            if not batch_idx % 50:\n",
        "                print(f'Epoch: {epoch+1:03d}/{num_epochs:03d} '\n",
        "                      f'| Batch {batch_idx:04d}/{len(train_loader):04d} '\n",
        "                      f'| Loss: {loss:.4f}')\n",
        "\n",
        "        model.eval()\n",
        "        with torch.no_grad():  # save memory during inference\n",
        "            train_acc = compute_accuracy(model, train_loader, device=device)\n",
        "            valid_acc = compute_accuracy(model, valid_loader, device=device)\n",
        "            print(f'Epoch: {epoch+1:03d}/{num_epochs:03d} '\n",
        "                  f'| Train: {train_acc :.2f}% '\n",
        "                  f'| Validation: {valid_acc :.2f}%')\n",
        "            train_acc_list.append(train_acc.item())\n",
        "            valid_acc_list.append(valid_acc.item())\n",
        "\n",
        "        elapsed = (time.time() - start_time)/60\n",
        "        print(f'Time elapsed: {elapsed:.2f} min')\n",
        "\n",
        "    elapsed = (time.time() - start_time)/60\n",
        "    print(f'Total Training Time: {elapsed:.2f} min')\n",
        "\n",
        "    test_acc = compute_accuracy(model, test_loader, device=device)\n",
        "    print(f'Test accuracy {test_acc :.2f}%')\n",
        "\n",
        "    return minibatch_loss_list, train_acc_list, valid_acc_list"
      ],
      "metadata": {
        "id": "kL3vMUz8DPjT"
      },
      "execution_count": 10,
      "outputs": []
    },
    {
      "cell_type": "markdown",
      "source": [
        "**Helper function for Plotting**"
      ],
      "metadata": {
        "id": "ix4NHZPBEPbS"
      }
    },
    {
      "cell_type": "code",
      "source": [
        "def plot_training_loss(minibatch_loss_list, num_epochs, iter_per_epoch,\n",
        "                       results_dir=None, averaging_iterations=100):\n",
        "\n",
        "    plt.figure()\n",
        "    ax1 = plt.subplot(1, 1, 1)\n",
        "    ax1.plot(range(len(minibatch_loss_list)),\n",
        "             (minibatch_loss_list), label='Minibatch Loss')\n",
        "\n",
        "    if len(minibatch_loss_list) > 1000:\n",
        "        ax1.set_ylim([\n",
        "            0, np.max(minibatch_loss_list[1000:])*1.5\n",
        "            ])\n",
        "    ax1.set_xlabel('Iterations')\n",
        "    ax1.set_ylabel('Loss')\n",
        "\n",
        "    ax1.plot(np.convolve(minibatch_loss_list,\n",
        "                         np.ones(averaging_iterations,)/averaging_iterations,\n",
        "                         mode='valid'),\n",
        "             label='Running Average')\n",
        "    ax1.legend()\n",
        "\n",
        "    ###################\n",
        "    # Set scond x-axis\n",
        "    ax2 = ax1.twiny()\n",
        "    newlabel = list(range(num_epochs+1))\n",
        "\n",
        "    newpos = [e*iter_per_epoch for e in newlabel]\n",
        "\n",
        "    ax2.set_xticks(newpos[::10])\n",
        "    ax2.set_xticklabels(newlabel[::10])\n",
        "\n",
        "    ax2.xaxis.set_ticks_position('bottom')\n",
        "    ax2.xaxis.set_label_position('bottom')\n",
        "    ax2.spines['bottom'].set_position(('outward', 45))\n",
        "    ax2.set_xlabel('Epochs')\n",
        "    ax2.set_xlim(ax1.get_xlim())\n",
        "    ###################\n",
        "\n",
        "    plt.tight_layout()\n",
        "\n",
        "    if results_dir is not None:\n",
        "        image_path = os.path.join(results_dir, 'plot_training_loss.pdf')\n",
        "        plt.savefig(image_path)\n",
        "\n",
        "\n",
        "def plot_accuracy(train_acc_list, valid_acc_list, results_dir):\n",
        "\n",
        "    num_epochs = len(train_acc_list)\n",
        "\n",
        "    plt.plot(np.arange(1, num_epochs+1),\n",
        "             train_acc_list, label='Training')\n",
        "    plt.plot(np.arange(1, num_epochs+1),\n",
        "             valid_acc_list, label='Validation')\n",
        "\n",
        "    plt.xlabel('Epoch')\n",
        "    plt.ylabel('Accuracy')\n",
        "    plt.legend()\n",
        "\n",
        "    plt.tight_layout()\n",
        "\n",
        "    if results_dir is not None:\n",
        "        image_path = os.path.join(\n",
        "            results_dir, 'plot_acc_training_validation.pdf')\n",
        "        plt.savefig(image_path)\n",
        "\n",
        "\n",
        "def show_examples(model, data_loader):\n",
        "\n",
        "    for batch_idx, (features, targets) in enumerate(data_loader):\n",
        "\n",
        "        with torch.no_grad():\n",
        "            features = features\n",
        "            targets = targets\n",
        "            logits = model(features)\n",
        "            predictions = torch.argmax(logits, dim=1)\n",
        "        break\n",
        "\n",
        "    fig, axes = plt.subplots(nrows=3, ncols=5,\n",
        "                             sharex=True, sharey=True)\n",
        "\n",
        "    nhwc_img = np.transpose(features, axes=(0, 2, 3, 1))\n",
        "    nhw_img = np.squeeze(nhwc_img.numpy(), axis=3)\n",
        "\n",
        "    for idx, ax in enumerate(axes.ravel()):\n",
        "        ax.imshow(nhw_img[idx], cmap='binary')\n",
        "        ax.title.set_text(f'P: {predictions[idx]} | T: {targets[idx]}')\n",
        "        ax.axison = False\n",
        "\n",
        "    plt.tight_layout()\n",
        "    plt.show()"
      ],
      "metadata": {
        "id": "pLbvlVxdDs3k"
      },
      "execution_count": 11,
      "outputs": []
    },
    {
      "cell_type": "markdown",
      "source": [
        "## Dropout"
      ],
      "metadata": {
        "id": "1lWhtXLD2ZPs"
      }
    },
    {
      "cell_type": "markdown",
      "source": [
        "**Settings and Dataset**"
      ],
      "metadata": {
        "id": "Igbdh1Q-2b9F"
      }
    },
    {
      "cell_type": "code",
      "source": [
        "##########################\n",
        "### SETTINGS\n",
        "##########################\n",
        "\n",
        "RANDOM_SEED = 123\n",
        "BATCH_SIZE = 256\n",
        "NUM_HIDDEN_1 = 50\n",
        "NUM_HIDDEN_2 = 25\n",
        "NUM_EPOCHS = 10\n",
        "DEVICE = torch.device('cuda:0' if torch.cuda.is_available() else 'cpu')"
      ],
      "metadata": {
        "id": "gIJySYY02bAM"
      },
      "execution_count": 12,
      "outputs": []
    },
    {
      "cell_type": "code",
      "source": [
        "set_all_seeds(RANDOM_SEED)\n",
        "set_deterministic()"
      ],
      "metadata": {
        "id": "WuVnJQh-2hd2"
      },
      "execution_count": 13,
      "outputs": []
    },
    {
      "cell_type": "code",
      "source": [
        "##########################\n",
        "### MNIST DATASET\n",
        "##########################\n",
        "\n",
        "train_loader, valid_loader, test_loader = get_dataloaders_mnist(\n",
        "    batch_size=BATCH_SIZE,\n",
        "    validation_fraction=0.1)\n",
        "\n",
        "# Checking the dataset\n",
        "for images, labels in train_loader:  \n",
        "    print('Image batch dimensions:', images.shape)\n",
        "    print('Image label dimensions:', labels.shape)\n",
        "    print('Class labels of 10 examples:', labels[:10])\n",
        "    break"
      ],
      "metadata": {
        "id": "XxPfMj812jp7",
        "outputId": "6d692a8b-237b-4293-d97c-e3508c653300",
        "colab": {
          "base_uri": "https://localhost:8080/"
        }
      },
      "execution_count": 14,
      "outputs": [
        {
          "output_type": "stream",
          "name": "stdout",
          "text": [
            "Image batch dimensions: torch.Size([256, 1, 28, 28])\n",
            "Image label dimensions: torch.Size([256])\n",
            "Class labels of 10 examples: tensor([4, 5, 8, 9, 9, 4, 9, 9, 3, 9])\n"
          ]
        }
      ]
    },
    {
      "cell_type": "markdown",
      "source": [
        "**Model**"
      ],
      "metadata": {
        "id": "9oLVi88u22vD"
      }
    },
    {
      "cell_type": "code",
      "source": [
        "class MultilayerPerceptron(torch.nn.Module):\n",
        "\n",
        "    def __init__(self, num_features, num_classes, drop_proba, \n",
        "                 num_hidden_1, num_hidden_2):\n",
        "        super().__init__()\n",
        "        \n",
        "        self.my_network = torch.nn.Sequential(\n",
        "            # 1st hidden layer\n",
        "            torch.nn.Flatten(),\n",
        "            torch.nn.Linear(num_features, num_hidden_1),\n",
        "            torch.nn.ReLU(),\n",
        "            torch.nn.Dropout(drop_proba),\n",
        "            # 2nd hidden layer\n",
        "            torch.nn.Linear(num_hidden_1, num_hidden_2),\n",
        "            torch.nn.ReLU(),\n",
        "            torch.nn.Dropout(drop_proba),\n",
        "            # output layer\n",
        "            torch.nn.Linear(num_hidden_2, num_classes)\n",
        "        )\n",
        "           \n",
        "    def forward(self, x):\n",
        "        logits = self.my_network(x)\n",
        "        return logits"
      ],
      "metadata": {
        "id": "c3P6Nnrw2tH7"
      },
      "execution_count": 15,
      "outputs": []
    },
    {
      "cell_type": "markdown",
      "source": [
        "**Without Dropout**"
      ],
      "metadata": {
        "id": "lzNtCTGX29Ec"
      }
    },
    {
      "cell_type": "code",
      "source": [
        "torch.manual_seed(RANDOM_SEED)\n",
        "model = MultilayerPerceptron(num_features=28*28,\n",
        "                             num_hidden_1=NUM_HIDDEN_1,\n",
        "                             num_hidden_2=NUM_HIDDEN_2,\n",
        "                             drop_proba=0.0,\n",
        "                             num_classes=10)\n",
        "model = model.to(DEVICE)\n",
        "\n",
        "optimizer = torch.optim.SGD(model.parameters(), lr=0.1)\n",
        "\n",
        "minibatch_loss_list, train_acc_list, valid_acc_list = train_model(\n",
        "    model=model,\n",
        "    num_epochs=NUM_EPOCHS,\n",
        "    train_loader=train_loader,\n",
        "    valid_loader=valid_loader,\n",
        "    test_loader=test_loader,\n",
        "    optimizer=optimizer,\n",
        "    device=DEVICE)\n",
        "\n",
        "plot_training_loss(minibatch_loss_list=minibatch_loss_list,\n",
        "                   num_epochs=NUM_EPOCHS,\n",
        "                   iter_per_epoch=len(train_loader),\n",
        "                   results_dir=None,\n",
        "                   averaging_iterations=20)\n",
        "\n",
        "plt.show()\n",
        "\n",
        "plot_accuracy(train_acc_list=train_acc_list,\n",
        "              valid_acc_list=valid_acc_list,\n",
        "              results_dir=None)\n",
        "\n",
        "plt.ylim([80, 100])\n",
        "plt.show()"
      ],
      "metadata": {
        "id": "P6gs4XGB26qg",
        "outputId": "b5f1ec62-eb5d-4644-9a9d-0c215160f3ed",
        "colab": {
          "base_uri": "https://localhost:8080/",
          "height": 1000
        }
      },
      "execution_count": 16,
      "outputs": [
        {
          "output_type": "stream",
          "name": "stdout",
          "text": [
            "Epoch: 001/010 | Batch 0000/0210 | Loss: 2.2982\n",
            "Epoch: 001/010 | Batch 0050/0210 | Loss: 1.9540\n",
            "Epoch: 001/010 | Batch 0100/0210 | Loss: 0.9112\n",
            "Epoch: 001/010 | Batch 0150/0210 | Loss: 0.6009\n",
            "Epoch: 001/010 | Batch 0200/0210 | Loss: 0.4537\n",
            "Epoch: 001/010 | Train: 86.79% | Validation: 89.57%\n",
            "Time elapsed: 0.24 min\n",
            "Epoch: 002/010 | Batch 0000/0210 | Loss: 0.4226\n",
            "Epoch: 002/010 | Batch 0050/0210 | Loss: 0.4288\n",
            "Epoch: 002/010 | Batch 0100/0210 | Loss: 0.3404\n",
            "Epoch: 002/010 | Batch 0150/0210 | Loss: 0.3256\n",
            "Epoch: 002/010 | Batch 0200/0210 | Loss: 0.2733\n",
            "Epoch: 002/010 | Train: 89.21% | Validation: 91.32%\n",
            "Time elapsed: 0.47 min\n",
            "Epoch: 003/010 | Batch 0000/0210 | Loss: 0.4403\n",
            "Epoch: 003/010 | Batch 0050/0210 | Loss: 0.3642\n",
            "Epoch: 003/010 | Batch 0100/0210 | Loss: 0.3392\n",
            "Epoch: 003/010 | Batch 0150/0210 | Loss: 0.3118\n",
            "Epoch: 003/010 | Batch 0200/0210 | Loss: 0.2612\n",
            "Epoch: 003/010 | Train: 91.54% | Validation: 93.28%\n",
            "Time elapsed: 0.62 min\n",
            "Epoch: 004/010 | Batch 0000/0210 | Loss: 0.1900\n",
            "Epoch: 004/010 | Batch 0050/0210 | Loss: 0.3374\n",
            "Epoch: 004/010 | Batch 0100/0210 | Loss: 0.2584\n",
            "Epoch: 004/010 | Batch 0150/0210 | Loss: 0.2293\n",
            "Epoch: 004/010 | Batch 0200/0210 | Loss: 0.1962\n",
            "Epoch: 004/010 | Train: 92.19% | Validation: 93.52%\n",
            "Time elapsed: 0.78 min\n",
            "Epoch: 005/010 | Batch 0000/0210 | Loss: 0.3160\n",
            "Epoch: 005/010 | Batch 0050/0210 | Loss: 0.3008\n",
            "Epoch: 005/010 | Batch 0100/0210 | Loss: 0.3078\n",
            "Epoch: 005/010 | Batch 0150/0210 | Loss: 0.2415\n",
            "Epoch: 005/010 | Batch 0200/0210 | Loss: 0.1907\n",
            "Epoch: 005/010 | Train: 93.13% | Validation: 94.28%\n",
            "Time elapsed: 0.95 min\n",
            "Epoch: 006/010 | Batch 0000/0210 | Loss: 0.1948\n",
            "Epoch: 006/010 | Batch 0050/0210 | Loss: 0.1533\n",
            "Epoch: 006/010 | Batch 0100/0210 | Loss: 0.2249\n",
            "Epoch: 006/010 | Batch 0150/0210 | Loss: 0.2144\n",
            "Epoch: 006/010 | Batch 0200/0210 | Loss: 0.2245\n",
            "Epoch: 006/010 | Train: 94.30% | Validation: 95.48%\n",
            "Time elapsed: 1.10 min\n",
            "Epoch: 007/010 | Batch 0000/0210 | Loss: 0.1763\n",
            "Epoch: 007/010 | Batch 0050/0210 | Loss: 0.2022\n",
            "Epoch: 007/010 | Batch 0100/0210 | Loss: 0.1443\n",
            "Epoch: 007/010 | Batch 0150/0210 | Loss: 0.1857\n",
            "Epoch: 007/010 | Batch 0200/0210 | Loss: 0.1338\n",
            "Epoch: 007/010 | Train: 94.69% | Validation: 95.67%\n",
            "Time elapsed: 1.26 min\n",
            "Epoch: 008/010 | Batch 0000/0210 | Loss: 0.1491\n",
            "Epoch: 008/010 | Batch 0050/0210 | Loss: 0.1751\n",
            "Epoch: 008/010 | Batch 0100/0210 | Loss: 0.2704\n",
            "Epoch: 008/010 | Batch 0150/0210 | Loss: 0.1301\n",
            "Epoch: 008/010 | Batch 0200/0210 | Loss: 0.1843\n",
            "Epoch: 008/010 | Train: 94.93% | Validation: 95.88%\n",
            "Time elapsed: 1.44 min\n",
            "Epoch: 009/010 | Batch 0000/0210 | Loss: 0.1855\n",
            "Epoch: 009/010 | Batch 0050/0210 | Loss: 0.1570\n",
            "Epoch: 009/010 | Batch 0100/0210 | Loss: 0.1190\n",
            "Epoch: 009/010 | Batch 0150/0210 | Loss: 0.1813\n",
            "Epoch: 009/010 | Batch 0200/0210 | Loss: 0.2289\n",
            "Epoch: 009/010 | Train: 95.64% | Validation: 96.32%\n",
            "Time elapsed: 1.60 min\n",
            "Epoch: 010/010 | Batch 0000/0210 | Loss: 0.1531\n",
            "Epoch: 010/010 | Batch 0050/0210 | Loss: 0.2345\n",
            "Epoch: 010/010 | Batch 0100/0210 | Loss: 0.2008\n",
            "Epoch: 010/010 | Batch 0150/0210 | Loss: 0.1409\n",
            "Epoch: 010/010 | Batch 0200/0210 | Loss: 0.1265\n",
            "Epoch: 010/010 | Train: 95.96% | Validation: 96.42%\n",
            "Time elapsed: 1.76 min\n",
            "Total Training Time: 1.76 min\n",
            "Test accuracy 95.63%\n"
          ]
        },
        {
          "output_type": "display_data",
          "data": {
            "text/plain": [
              "<Figure size 432x288 with 2 Axes>"
            ],
            "image/png": "[encoded data removed]"
          },
          "metadata": {
            "needs_background": "light"
          }
        },
        {
          "output_type": "display_data",
          "data": {
            "text/plain": [
              "<Figure size 432x288 with 1 Axes>"
            ],
            "image/png": "[encoded data removed]"
          },
          "metadata": {
            "needs_background": "light"
          }
        }
      ]
    },
    {
      "cell_type": "markdown",
      "source": [
        "**With 50% Dropout**"
      ],
      "metadata": {
        "id": "rZxKyfa-3GbE"
      }
    },
    {
      "cell_type": "code",
      "source": [
        "torch.manual_seed(RANDOM_SEED)\n",
        "model = MultilayerPerceptron(num_features=28*28,\n",
        "                             num_hidden_1=NUM_HIDDEN_1,\n",
        "                             num_hidden_2=NUM_HIDDEN_2,\n",
        "                             drop_proba=0.5,\n",
        "                             num_classes=10)\n",
        "model = model.to(DEVICE)\n",
        "\n",
        "optimizer = torch.optim.SGD(model.parameters(), lr=0.1)\n",
        "\n",
        "minibatch_loss_list, train_acc_list, valid_acc_list = train_model(\n",
        "    model=model,\n",
        "    num_epochs=NUM_EPOCHS,\n",
        "    train_loader=train_loader,\n",
        "    valid_loader=valid_loader,\n",
        "    test_loader=test_loader,\n",
        "    optimizer=optimizer,\n",
        "    device=DEVICE)\n",
        "\n",
        "plot_training_loss(minibatch_loss_list=minibatch_loss_list,\n",
        "                   num_epochs=NUM_EPOCHS,\n",
        "                   iter_per_epoch=len(train_loader),\n",
        "                   results_dir=None,\n",
        "                   averaging_iterations=20)\n",
        "plt.show()\n",
        "\n",
        "plot_accuracy(train_acc_list=train_acc_list,\n",
        "              valid_acc_list=valid_acc_list,\n",
        "              results_dir=None)\n",
        "plt.ylim([80, 100])\n",
        "plt.show()"
      ],
      "metadata": {
        "id": "SxsGkzqq3Hks",
        "outputId": "b6901a97-285c-4a22-c1a5-d201da33fb9e",
        "colab": {
          "base_uri": "https://localhost:8080/",
          "height": 1000
        }
      },
      "execution_count": 17,
      "outputs": [
        {
          "output_type": "stream",
          "name": "stdout",
          "text": [
            "Epoch: 001/010 | Batch 0000/0210 | Loss: 2.3018\n",
            "Epoch: 001/010 | Batch 0050/0210 | Loss: 2.0694\n",
            "Epoch: 001/010 | Batch 0100/0210 | Loss: 1.7909\n",
            "Epoch: 001/010 | Batch 0150/0210 | Loss: 1.3392\n",
            "Epoch: 001/010 | Batch 0200/0210 | Loss: 1.2475\n",
            "Epoch: 001/010 | Train: 80.98% | Validation: 85.18%\n",
            "Time elapsed: 0.16 min\n",
            "Epoch: 002/010 | Batch 0000/0210 | Loss: 1.2265\n",
            "Epoch: 002/010 | Batch 0050/0210 | Loss: 1.1502\n",
            "Epoch: 002/010 | Batch 0100/0210 | Loss: 0.9517\n",
            "Epoch: 002/010 | Batch 0150/0210 | Loss: 1.0110\n",
            "Epoch: 002/010 | Batch 0200/0210 | Loss: 0.8153\n",
            "Epoch: 002/010 | Train: 87.38% | Validation: 89.55%\n",
            "Time elapsed: 0.32 min\n",
            "Epoch: 003/010 | Batch 0000/0210 | Loss: 1.0311\n",
            "Epoch: 003/010 | Batch 0050/0210 | Loss: 0.8248\n",
            "Epoch: 003/010 | Batch 0100/0210 | Loss: 0.8777\n",
            "Epoch: 003/010 | Batch 0150/0210 | Loss: 0.9017\n",
            "Epoch: 003/010 | Batch 0200/0210 | Loss: 0.7630\n",
            "Epoch: 003/010 | Train: 89.29% | Validation: 91.45%\n",
            "Time elapsed: 0.48 min\n",
            "Epoch: 004/010 | Batch 0000/0210 | Loss: 0.7227\n",
            "Epoch: 004/010 | Batch 0050/0210 | Loss: 0.8405\n",
            "Epoch: 004/010 | Batch 0100/0210 | Loss: 0.7044\n",
            "Epoch: 004/010 | Batch 0150/0210 | Loss: 0.7248\n",
            "Epoch: 004/010 | Batch 0200/0210 | Loss: 0.6005\n",
            "Epoch: 004/010 | Train: 90.31% | Validation: 92.18%\n",
            "Time elapsed: 0.64 min\n",
            "Epoch: 005/010 | Batch 0000/0210 | Loss: 0.7448\n",
            "Epoch: 005/010 | Batch 0050/0210 | Loss: 0.7122\n",
            "Epoch: 005/010 | Batch 0100/0210 | Loss: 0.7613\n",
            "Epoch: 005/010 | Batch 0150/0210 | Loss: 0.7275\n",
            "Epoch: 005/010 | Batch 0200/0210 | Loss: 0.6863\n",
            "Epoch: 005/010 | Train: 91.08% | Validation: 92.60%\n",
            "Time elapsed: 0.79 min\n",
            "Epoch: 006/010 | Batch 0000/0210 | Loss: 0.7163\n",
            "Epoch: 006/010 | Batch 0050/0210 | Loss: 0.6041\n",
            "Epoch: 006/010 | Batch 0100/0210 | Loss: 0.5916\n",
            "Epoch: 006/010 | Batch 0150/0210 | Loss: 0.5960\n",
            "Epoch: 006/010 | Batch 0200/0210 | Loss: 0.6973\n",
            "Epoch: 006/010 | Train: 91.68% | Validation: 93.17%\n",
            "Time elapsed: 0.95 min\n",
            "Epoch: 007/010 | Batch 0000/0210 | Loss: 0.6481\n",
            "Epoch: 007/010 | Batch 0050/0210 | Loss: 0.6638\n",
            "Epoch: 007/010 | Batch 0100/0210 | Loss: 0.5803\n",
            "Epoch: 007/010 | Batch 0150/0210 | Loss: 0.6064\n",
            "Epoch: 007/010 | Batch 0200/0210 | Loss: 0.6294\n",
            "Epoch: 007/010 | Train: 91.97% | Validation: 93.40%\n",
            "Time elapsed: 1.11 min\n",
            "Epoch: 008/010 | Batch 0000/0210 | Loss: 0.6046\n",
            "Epoch: 008/010 | Batch 0050/0210 | Loss: 0.5835\n",
            "Epoch: 008/010 | Batch 0100/0210 | Loss: 0.7137\n",
            "Epoch: 008/010 | Batch 0150/0210 | Loss: 0.5571\n",
            "Epoch: 008/010 | Batch 0200/0210 | Loss: 0.5737\n",
            "Epoch: 008/010 | Train: 92.39% | Validation: 93.80%\n",
            "Time elapsed: 1.27 min\n",
            "Epoch: 009/010 | Batch 0000/0210 | Loss: 0.6368\n",
            "Epoch: 009/010 | Batch 0050/0210 | Loss: 0.5321\n",
            "Epoch: 009/010 | Batch 0100/0210 | Loss: 0.6144\n",
            "Epoch: 009/010 | Batch 0150/0210 | Loss: 0.6012\n",
            "Epoch: 009/010 | Batch 0200/0210 | Loss: 0.6647\n",
            "Epoch: 009/010 | Train: 92.72% | Validation: 93.93%\n",
            "Time elapsed: 1.43 min\n",
            "Epoch: 010/010 | Batch 0000/0210 | Loss: 0.5607\n",
            "Epoch: 010/010 | Batch 0050/0210 | Loss: 0.6563\n",
            "Epoch: 010/010 | Batch 0100/0210 | Loss: 0.7113\n",
            "Epoch: 010/010 | Batch 0150/0210 | Loss: 0.5406\n",
            "Epoch: 010/010 | Batch 0200/0210 | Loss: 0.4692\n",
            "Epoch: 010/010 | Train: 92.84% | Validation: 94.05%\n",
            "Time elapsed: 1.59 min\n",
            "Total Training Time: 1.59 min\n",
            "Test accuracy 92.68%\n"
          ]
        },
        {
          "output_type": "display_data",
          "data": {
            "text/plain": [
              "<Figure size 432x288 with 2 Axes>"
            ],
            "image/png": "[encoded data removed]"
          },
          "metadata": {
            "needs_background": "light"
          }
        },
        {
          "output_type": "display_data",
          "data": {
            "text/plain": [
              "<Figure size 432x288 with 1 Axes>"
            ],
            "image/png": "[encoded data removed]"
          },
          "metadata": {
            "needs_background": "light"
          }
        }
      ]
    },
    {
      "cell_type": "markdown",
      "source": [
        "**Acknowledgements**"
      ],
      "metadata": {
        "id": "QSsw3yLs3836"
      }
    },
    {
      "cell_type": "markdown",
      "source": [
        "Code adopted from the excellent lectures of Sebastian Raschka\n",
        "\n",
        "https://sebastianraschka.com/blog/2021/dl-course.html"
      ],
      "metadata": {
        "id": "36gt-yEg30Dm"
      }
    },
    {
      "cell_type": "code",
      "source": [
        ""
      ],
      "metadata": {
        "id": "nWHSBUI830jI"
      },
      "execution_count": 17,
      "outputs": []
    }
  ]
}