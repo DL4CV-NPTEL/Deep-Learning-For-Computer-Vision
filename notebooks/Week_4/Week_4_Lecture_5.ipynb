{
  "nbformat": 4,
  "nbformat_minor": 0,
  "metadata": {
    "colab": {
      "name": "Week_4_Lecture_5.ipynb",
      "provenance": [],
      "include_colab_link": true
    },
    "kernelspec": {
      "name": "python3",
      "display_name": "Python 3"
    },
    "language_info": {
      "name": "python"
    },
    "widgets": {
      "application/vnd.jupyter.widget-state+json": {
        "fcf55a98c5244ac2a5a8ff416d3c9f67": {
          "model_module": "@jupyter-widgets/output",
          "model_name": "OutputModel",
          "model_module_version": "1.0.0",
          "state": {
            "_dom_classes": [],
            "_model_module": "@jupyter-widgets/output",
            "_model_module_version": "1.0.0",
            "_model_name": "OutputModel",
            "_view_count": null,
            "_view_module": "@jupyter-widgets/output",
            "_view_module_version": "1.0.0",
            "_view_name": "OutputView",
            "layout": "IPY_MODEL_673894c63c83437e9ded8af9de055bac",
            "msg_id": "",
            "outputs": [
              {
                "output_type": "stream",
                "name": "stdout",
                "text": [
                  "Video available at https://youtube.com/watch?v=UkEThLiReTY\n"
                ]
              },
              {
                "output_type": "display_data",
                "data": {
                  "text/plain": "<IPython.lib.display.YouTubeVideo at 0x7f0df359c450>",
                  "text/html": "\n        <iframe\n            width=\"854\"\n            height=\"480\"\n            src=\"https://www.youtube.com/embed/UkEThLiReTY?fs=1&rel=0\"\n            frameborder=\"0\"\n            allowfullscreen\n        ></iframe>\n        ",
                  "image/jpeg": "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\n"
                },
                "metadata": {}
              }
            ]
          }
        },
        "673894c63c83437e9ded8af9de055bac": {
          "model_module": "@jupyter-widgets/base",
          "model_name": "LayoutModel",
          "model_module_version": "1.2.0",
          "state": {
            "_model_module": "@jupyter-widgets/base",
            "_model_module_version": "1.2.0",
            "_model_name": "LayoutModel",
            "_view_count": null,
            "_view_module": "@jupyter-widgets/base",
            "_view_module_version": "1.2.0",
            "_view_name": "LayoutView",
            "align_content": null,
            "align_items": null,
            "align_self": null,
            "border": null,
            "bottom": null,
            "display": null,
            "flex": null,
            "flex_flow": null,
            "grid_area": null,
            "grid_auto_columns": null,
            "grid_auto_flow": null,
            "grid_auto_rows": null,
            "grid_column": null,
            "grid_gap": null,
            "grid_row": null,
            "grid_template_areas": null,
            "grid_template_columns": null,
            "grid_template_rows": null,
            "height": null,
            "justify_content": null,
            "justify_items": null,
            "left": null,
            "margin": null,
            "max_height": null,
            "max_width": null,
            "min_height": null,
            "min_width": null,
            "object_fit": null,
            "object_position": null,
            "order": null,
            "overflow": null,
            "overflow_x": null,
            "overflow_y": null,
            "padding": null,
            "right": null,
            "top": null,
            "visibility": null,
            "width": null
          }
        }
      }
    }
  },
  "cells": [
    {
      "cell_type": "markdown",
      "metadata": {
        "id": "view-in-github",
        "colab_type": "text"
      },
      "source": [
        "<a href=\"https://colab.research.google.com/github/DL4CV-NPTEL/Deep-Learning-For-Computer-Vision/blob/main/notebooks/Week_4/Week_4_Lecture_5.ipynb\" target=\"_parent\"><img src=\"https://colab.research.google.com/assets/colab-badge.svg\" alt=\"Open In Colab\"/></a>"
      ]
    },
    {
      "cell_type": "markdown",
      "source": [
        "# Lecture 5: Gradient Descent and Variants Part 1 <sup><mark style=\"background-color:gold\">Code</mark> </sup>"
      ],
      "metadata": {
        "id": "3JdIPfdtt2TU"
      }
    },
    {
      "cell_type": "code",
      "source": [
        "#@title \n",
        "from ipywidgets import widgets\n",
        "out1 = widgets.Output()\n",
        "with out1:\n",
        "  from IPython.display import YouTubeVideo\n",
        "  video = YouTubeVideo(id=f\"UkEThLiReTY\", width=854, height=480, fs=1, rel=0)\n",
        "  print(\"Video available at https://youtube.com/watch?v=\" + video.id)\n",
        "  display(video)\n",
        "display(out1)"
      ],
      "metadata": {
        "colab": {
          "base_uri": "https://localhost:8080/",
          "height": 518,
          "referenced_widgets": [
            "fcf55a98c5244ac2a5a8ff416d3c9f67",
            "673894c63c83437e9ded8af9de055bac"
          ]
        },
        "cellView": "form",
        "id": "rA0FZ1_3t3nO",
        "outputId": "89c2f3f4-f121-4f30-ef8b-30024facb972"
      },
      "execution_count": 42,
      "outputs": [
        {
          "output_type": "display_data",
          "data": {
            "text/plain": [
              "Output()"
            ],
            "application/vnd.jupyter.widget-view+json": {
              "version_major": 2,
              "version_minor": 0,
              "model_id": "fcf55a98c5244ac2a5a8ff416d3c9f67"
            }
          },
          "metadata": {}
        }
      ]
    },
    {
      "cell_type": "code",
      "source": [
        "#@title \n",
        "from IPython import display as IPyDisplay\n",
        "IPyDisplay.HTML(\n",
        "    f\"\"\"\n",
        "  <div>\n",
        "    <a href= \"https://github.com/DL4CV-NPTEL/Deep-Learning-For-Computer-Vision/blob/main/Slides/Week_4/DL4CV_Week04_Part03.pdf\" target=\"_blank\">\n",
        "    <img src=\"https://github.com/DL4CV-NPTEL/Deep-Learning-For-Computer-Vision/blob/main/Data/Slides_Logo.png?raw=1\"\n",
        "  alt=\"button link to Airtable\" style=\"width:200px\"></a>\n",
        "    </div>\"\"\" )"
      ],
      "metadata": {
        "colab": {
          "base_uri": "https://localhost:8080/",
          "height": 100
        },
        "cellView": "form",
        "id": "WrHo4zh4t_Km",
        "outputId": "45ea5675-9442-42ba-ec58-d459e0f91c66"
      },
      "execution_count": 43,
      "outputs": [
        {
          "output_type": "execute_result",
          "data": {
            "text/plain": [
              "<IPython.core.display.HTML object>"
            ],
            "text/html": [
              "\n",
              "  <div>\n",
              "    <a href= \"https://github.com/DL4CV-NPTEL/Deep-Learning-For-Computer-Vision/blob/main/Slides/Week_4/DL4CV_Week04_Part03.pdf\" target=\"_blank\">\n",
              "    <img src=\"https://github.com/DL4CV-NPTEL/Deep-Learning-For-Computer-Vision/blob/main/Data/Slides_Logo.png?raw=1\"\n",
              "  alt=\"button link to Airtable\" style=\"width:200px\"></a>\n",
              "    </div>"
            ]
          },
          "metadata": {},
          "execution_count": 43
        }
      ]
    },
    {
      "cell_type": "markdown",
      "source": [
        "**Imports**"
      ],
      "metadata": {
        "id": "C_-Za7ZeIz65"
      }
    },
    {
      "cell_type": "code",
      "source": [
        "import matplotlib.pyplot as plt\n",
        "import numpy as np\n",
        "\n",
        "import time\n",
        "import torch\n",
        "import torchvision\n",
        "import torch.nn.functional as F\n",
        "import torch.nn as nn\n",
        "import torch.optim as optim"
      ],
      "metadata": {
        "id": "sorNwoeuI2MY"
      },
      "execution_count": 44,
      "outputs": []
    },
    {
      "cell_type": "markdown",
      "source": [
        "## Training an MLP for image classification"
      ],
      "metadata": {
        "id": "uTeJ7rMRIDBY"
      }
    },
    {
      "cell_type": "markdown",
      "source": [
        "Many of the core ideas (and tricks) in modern optimization for deep learning can be illustrated in the simple setting of training an MLP to solve an image classification task. \n"
      ],
      "metadata": {
        "id": "qDojPz7_HyyF"
      }
    },
    {
      "cell_type": "markdown",
      "source": [
        "$^\\dagger$: A **strictly convex** function has the same global and local minimum - a nice property for optimization as it won't get stuck in a local minimum that isn't a global one (e.g., $f(x)=x^2 + 2x + 1$). A **non-convex** function is wavy - has some 'valleys' (local minima) that aren't as deep as the overall deepest 'valley' (global minimum). Thus, the optimization algorithms can get stuck in the local minimum, and it can be hard to tell when this happens (e.g., $f(x) = x^4 + x^3 - 2x^2 - 2x$)."
      ],
      "metadata": {
        "id": "i1BoSDmIHyrp"
      }
    },
    {
      "cell_type": "markdown",
      "source": [
        "### Data"
      ],
      "metadata": {
        "id": "LbDT8X5dITLh"
      }
    },
    {
      "cell_type": "markdown",
      "source": [
        "We will use the MNIST dataset of handwritten digits. We load the data via the Pytorch `datasets` module\n",
        "\n"
      ],
      "metadata": {
        "id": "Q4RAYK4HISUR"
      }
    },
    {
      "cell_type": "code",
      "source": [
        "def load_mnist_data(change_tensors=False, download=False):\n",
        "  \"\"\"\n",
        "  Load training and test examples for the MNIST handwritten digits dataset\n",
        "  with every image: 28*28 x 1 channel (greyscale image)\n",
        "\n",
        "  Args:\n",
        "    change_tensors: Bool\n",
        "      Argument to check if tensors need to be normalised\n",
        "    download: Bool\n",
        "      Argument to check if dataset needs to be downloaded/already exists\n",
        "\n",
        "  Returns:\n",
        "    train_set:\n",
        "      train_data: Tensor\n",
        "        training input tensor of size (train_size x 784)\n",
        "      train_target: Tensor\n",
        "        training 0-9 integer label tensor of size (train_size)\n",
        "    test_set:\n",
        "      test_data: Tensor\n",
        "        test input tensor of size (test_size x 784)\n",
        "      test_target: Tensor\n",
        "        training 0-9 integer label tensor of size (test_size)\n",
        "  \"\"\"\n",
        "  # Load train and test sets\n",
        "  train_set = torchvision.datasets.MNIST(root='.', train=True, download=download,\n",
        "                             transform=torchvision.transforms.ToTensor())\n",
        "  test_set = torchvision.datasets.MNIST(root='.', train=False, download=download,\n",
        "                            transform=torchvision.transforms.ToTensor())\n",
        "\n",
        "  # Original data is in range [0, 255]. We normalize the data wrt its mean and std_dev.\n",
        "  # Note that we only used *training set* information to compute mean and std\n",
        "  mean = train_set.data.float().mean()\n",
        "  std = train_set.data.float().std()\n",
        "\n",
        "  if change_tensors:\n",
        "    # Apply normalization directly to the tensors containing the dataset\n",
        "    train_set.data = (train_set.data.float() - mean) / std\n",
        "    test_set.data = (test_set.data.float() - mean) / std\n",
        "  else:\n",
        "    tform = torchvision.transforms.Compose([torchvision.transforms.ToTensor(),\n",
        "                                            torchvision.transforms.Normalize(mean=[mean / 255.], std=[std / 255.])\n",
        "                                            ])\n",
        "    train_set = torchvision.datasets.MNIST.MNIST(root='.', train=True, download=download,\n",
        "                               transform=tform)\n",
        "    test_set = torchvision.datasets.MNIST.MNIST(root='.', train=False, download=download,\n",
        "                              transform=tform)\n",
        "\n",
        "  return train_set, test_set\n",
        "\n",
        "\n",
        "train_set, test_set = load_mnist_data(change_tensors=True,download=True)"
      ],
      "metadata": {
        "id": "wvT7F0cyuLI4"
      },
      "execution_count": 45,
      "outputs": []
    },
    {
      "cell_type": "markdown",
      "source": [
        "As we are just getting started, we will concentrate on a small subset of only 500 examples out of the 60.000 data points contained in the whole training set.\n"
      ],
      "metadata": {
        "id": "_gGt2aLWJFcb"
      }
    },
    {
      "cell_type": "code",
      "source": [
        "# Sample a random subset of 500 indices\n",
        "subset_index = np.random.choice(len(train_set.data), 500)\n",
        "\n",
        "# We will use these symbols to represent the training data and labels, to stay\n",
        "# as close to the mathematical expressions as possible.\n",
        "X, y = train_set.data[subset_index, :], train_set.targets[subset_index]"
      ],
      "metadata": {
        "id": "q0H3Z7_2JE6I"
      },
      "execution_count": 46,
      "outputs": []
    },
    {
      "cell_type": "markdown",
      "source": [
        "Run the following cell to visualize the content of three examples in our training set. Note how the preprocessing we applied to the data changes the range of pixel values after normalization."
      ],
      "metadata": {
        "id": "GjdY2LLRJ4yg"
      }
    },
    {
      "cell_type": "code",
      "source": [
        "num_figures = 3\n",
        "fig, axs = plt.subplots(1, num_figures, figsize=(5 * num_figures, 5))\n",
        "\n",
        "for sample_id, ax in enumerate(axs):\n",
        "  # Plot the pixel values for each image\n",
        "  ax.matshow(X[sample_id, :], cmap='gray_r')\n",
        "  # 'Write' the pixel value in the corresponding location\n",
        "  for (i, j), z in np.ndenumerate(X[sample_id, :]):\n",
        "    text = '{:.1f}'.format(z)\n",
        "    ax.text(j, i, text, ha='center',\n",
        "            va='center', fontsize=6, c='steelblue')\n",
        "\n",
        "  ax.set_title('Label: ' + str(y[sample_id].item()))\n",
        "  ax.axis('off')\n",
        "\n",
        "plt.show()"
      ],
      "metadata": {
        "id": "gjQijd6hJpKK",
        "outputId": "20d307ad-d223-4579-f98b-90d40a568f2f",
        "colab": {
          "base_uri": "https://localhost:8080/",
          "height": 305
        }
      },
      "execution_count": 47,
      "outputs": [
        {
          "output_type": "display_data",
          "data": {
            "text/plain": [
              "<Figure size 1080x360 with 3 Axes>"
            ],
            "image/png": "[encoded data removed]"
          },
          "metadata": {
            "needs_background": "light"
          }
        }
      ]
    },
    {
      "cell_type": "markdown",
      "source": [
        "### Model"
      ],
      "metadata": {
        "id": "wUfd4Gn9KK0P"
      }
    },
    {
      "cell_type": "markdown",
      "source": [
        "\n",
        "\n",
        "As you will see next week, there are specific model architectures that are better suited to image-like data, such as Convolutional Neural Networks (CNNs). For simplicity, we will focus exclusively on Multi-Layer Perceptron (MLP) models as they allow us to highlight many important optimization challenges shared with more advanced neural network designs."
      ],
      "metadata": {
        "id": "JK_YDrvfKGFr"
      }
    },
    {
      "cell_type": "code",
      "source": [
        "class MLP(nn.Module):\n",
        "  \"\"\"\n",
        "  This class implements MLPs in Pytorch of an arbitrary number of hidden\n",
        "  layers of potentially different sizes. Since we concentrate on classification\n",
        "  tasks in this tutorial, we have a log_softmax layer at prediction time.\n",
        "  \"\"\"\n",
        "\n",
        "  def __init__(self, in_dim=784, out_dim=10, hidden_dims=[], use_bias=True):\n",
        "    \"\"\"\n",
        "    Constructs a MultiLayerPerceptron\n",
        "\n",
        "    Args:\n",
        "      in_dim: Integer\n",
        "        dimensionality of input data (784)\n",
        "      out_dim: Integer\n",
        "        number of classes (10)\n",
        "      hidden_dims: List\n",
        "        containing the dimensions of the hidden layers,\n",
        "        empty list corresponds to a linear model (in_dim, out_dim)\n",
        "\n",
        "    Returns:\n",
        "      Nothing\n",
        "    \"\"\"\n",
        "\n",
        "    super(MLP, self).__init__()\n",
        "\n",
        "    self.in_dim = in_dim\n",
        "    self.out_dim = out_dim\n",
        "\n",
        "    # If we have no hidden layer, just initialize a linear model (e.g. in logistic regression)\n",
        "    if len(hidden_dims) == 0:\n",
        "      layers = [nn.Linear(in_dim, out_dim, bias=use_bias)]\n",
        "    else:\n",
        "      # 'Actual' MLP with dimensions in_dim - num_hidden_layers*[hidden_dim] - out_dim\n",
        "      layers = [nn.Linear(in_dim, hidden_dims[0], bias=use_bias), nn.ReLU()]\n",
        "\n",
        "      # Loop until before the last layer\n",
        "      for i, hidden_dim in enumerate(hidden_dims[:-1]):\n",
        "        layers += [nn.Linear(hidden_dim, hidden_dims[i + 1], bias=use_bias),\n",
        "                   nn.ReLU()]\n",
        "\n",
        "      # Add final layer to the number of classes\n",
        "      layers += [nn.Linear(hidden_dims[-1], out_dim, bias=use_bias)]\n",
        "\n",
        "    self.main = nn.Sequential(*layers)\n",
        "\n",
        "  def forward(self, x):\n",
        "    \"\"\"\n",
        "    Defines the network structure and flow from input to output\n",
        "\n",
        "    Args:\n",
        "      x: Tensor\n",
        "        Image to be processed by the network\n",
        "\n",
        "    Returns:\n",
        "      output: Tensor\n",
        "        same dimension and shape as the input with probabilistic values in the range [0, 1]\n",
        "\n",
        "    \"\"\"\n",
        "    # Flatten each images into a 'vector'\n",
        "    transformed_x = x.view(-1, self.in_dim)\n",
        "    hidden_output = self.main(transformed_x)\n",
        "    output = F.log_softmax(hidden_output, dim=1)\n",
        "    return output"
      ],
      "metadata": {
        "id": "9-T-OPqVJ8EX"
      },
      "execution_count": 48,
      "outputs": []
    },
    {
      "cell_type": "markdown",
      "source": [
        "Linear models constitute a very special kind of MLPs: they are equivalent to an MLP with *zero* hidden layers. This is simply an affine transformation, in other words a 'linear' map $W x$ with an 'offset' $b$; followed by a softmax function.\n",
        "\n",
        "$$f(x) = \\text{softmax}(W x + b)$$\n",
        "\n",
        "Here $x \\in \\mathbb{R}^{784}$, $W \\in \\mathbb{R}^{10 \\times 784}$ and $b \\in \\mathbb{R}^{10}$. Notice that the dimensions of the weight matrix are $10 \\times 784$ as the input tensors are flattened images, i.e., $28 \\times 28 = 784$-dimensional tensors and the output layer consists of $10$ nodes. Also, note that the implementation of softmax encapsulates b in W i.e., It maps the rows of the input instead of the columns. That is, the i’th row of the output is the mapping of the i’th row of the input under W, plus the bias term. Refer Affine maps here: https://pytorch.org/tutorials/beginner/nlp/deep_learning_tutorial.html#affine-maps"
      ],
      "metadata": {
        "id": "DP9XBdJBKRiw"
      }
    },
    {
      "cell_type": "code",
      "source": [
        "# Empty hidden_dims means we take a model with zero hidden layers.\n",
        "model = MLP(in_dim=784, out_dim=10, hidden_dims=[])\n",
        "\n",
        "# We print the model structure with 784 inputs and 10 outputs\n",
        "print(model)"
      ],
      "metadata": {
        "id": "Wk3-8_ZYKR2u",
        "outputId": "807ad013-eb47-4fbd-8846-f80d243e9a51",
        "colab": {
          "base_uri": "https://localhost:8080/"
        }
      },
      "execution_count": 49,
      "outputs": [
        {
          "output_type": "stream",
          "name": "stdout",
          "text": [
            "MLP(\n",
            "  (main): Sequential(\n",
            "    (0): Linear(in_features=784, out_features=10, bias=True)\n",
            "  )\n",
            ")\n"
          ]
        }
      ]
    },
    {
      "cell_type": "markdown",
      "source": [
        "### Loss"
      ],
      "metadata": {
        "id": "DfdvkfFSKhVQ"
      }
    },
    {
      "cell_type": "markdown",
      "source": [
        "\n",
        "While we care about the accuracy of the model, the 'discrete' nature of the 0-1 loss makes it challenging to optimize. In order to learn good parameters for this model, we will use the cross entropy loss (negative log-likelihood), which you saw in the last lecture, as a surrogate objective to be minimized. \n",
        "\n",
        "This particular choice of model and optimization objective leads to a *convex* optimization problem with respect to the parameters $W$ and $b$. "
      ],
      "metadata": {
        "id": "twv5ro8GKezR"
      }
    },
    {
      "cell_type": "code",
      "source": [
        "loss_fn = F.nll_loss"
      ],
      "metadata": {
        "id": "5spqY37SKmIe"
      },
      "execution_count": 50,
      "outputs": []
    },
    {
      "cell_type": "markdown",
      "source": [
        "### Implement gradient descent"
      ],
      "metadata": {
        "id": "cYLGKAewK3dr"
      }
    },
    {
      "cell_type": "code",
      "source": [
        "def zero_grad(params):\n",
        "  \"\"\"\n",
        "  Clear gradients as they accumulate on successive backward calls\n",
        "\n",
        "  Args:\n",
        "    params: an iterator over tensors\n",
        "      i.e., updating the Weights and biases\n",
        "\n",
        "  Returns:\n",
        "    Nothing\n",
        "  \"\"\"\n",
        "  for par in params:\n",
        "    if not(par.grad is None):\n",
        "      par.grad.data.zero_()"
      ],
      "metadata": {
        "id": "WbVnGNuLK6zD"
      },
      "execution_count": 51,
      "outputs": []
    },
    {
      "cell_type": "code",
      "source": [
        "def gradient_update(loss, params, lr=1e-3):\n",
        "  \"\"\"\n",
        "  Perform a gradient descent update on a given loss over a collection of parameters\n",
        "\n",
        "  Args:\n",
        "    loss: Tensor\n",
        "      A scalar tensor containing the loss through which the gradient will be computed\n",
        "    params: List of iterables\n",
        "      Collection of parameters with respect to which we compute gradients\n",
        "    lr: Float\n",
        "      Scalar specifying the learning rate or step-size for the update\n",
        "\n",
        "  Returns:\n",
        "    Nothing\n",
        "  \"\"\"\n",
        "  # Clear up gradients as Pytorch automatically accumulates gradients from\n",
        "  # successive backward calls\n",
        "  zero_grad(params)\n",
        "\n",
        "  # Compute gradients on given objective\n",
        "  loss.backward()\n",
        "\n",
        "  with torch.no_grad():\n",
        "    for par in params:\n",
        "      # Here we work with the 'data' attribute of the parameter rather than the\n",
        "      # parameter itself.\n",
        "      # Hence - use the learning rate and the parameter's .grad.data attribute to perform an update\n",
        "      par.data -= lr * par.grad.data\n",
        "\n",
        "\n",
        "\n",
        "model1 = MLP(in_dim=784, out_dim=10, hidden_dims=[])\n",
        "print('\\n The model1 parameters before the update are: \\n')\n",
        "for name, param in model1.named_parameters():\n",
        "    if param.requires_grad:\n",
        "      print(name, param.data)\n",
        "loss = loss_fn(model1(X), y)\n",
        "\n",
        "gradient_update(loss, list(model1.parameters()), lr=1e-1)\n",
        "print('\\n The model1 parameters after the update are: \\n')\n",
        "for name, param in model1.named_parameters():\n",
        "    if param.requires_grad:\n",
        "      print(name, param.data)"
      ],
      "metadata": {
        "id": "oYadPMAPK-uP",
        "outputId": "a3271d6b-f41e-4222-bc9b-864863afd568",
        "colab": {
          "base_uri": "https://localhost:8080/"
        }
      },
      "execution_count": 52,
      "outputs": [
        {
          "output_type": "stream",
          "name": "stdout",
          "text": [
            "\n",
            " The model1 parameters before the update are: \n",
            "\n",
            "main.0.weight tensor([[-0.0235, -0.0053,  0.0340,  ..., -0.0251,  0.0024,  0.0255],\n",
            "        [ 0.0287, -0.0327,  0.0339,  ..., -0.0102,  0.0348, -0.0116],\n",
            "        [ 0.0259, -0.0116, -0.0356,  ...,  0.0127, -0.0338,  0.0271],\n",
            "        ...,\n",
            "        [-0.0255,  0.0098, -0.0007,  ..., -0.0318,  0.0356,  0.0281],\n",
            "        [ 0.0189, -0.0242,  0.0071,  ...,  0.0179, -0.0304, -0.0300],\n",
            "        [ 0.0224, -0.0154,  0.0013,  ..., -0.0228, -0.0316,  0.0087]])\n",
            "main.0.bias tensor([-0.0212, -0.0298,  0.0180,  0.0027,  0.0151,  0.0104, -0.0227, -0.0009,\n",
            "         0.0277,  0.0013])\n",
            "\n",
            " The model1 parameters after the update are: \n",
            "\n",
            "main.0.weight tensor([[-0.0228, -0.0047,  0.0347,  ..., -0.0244,  0.0031,  0.0262],\n",
            "        [ 0.0267, -0.0348,  0.0319,  ..., -0.0123,  0.0327, -0.0137],\n",
            "        [ 0.0266, -0.0109, -0.0349,  ...,  0.0134, -0.0331,  0.0278],\n",
            "        ...,\n",
            "        [-0.0264,  0.0089, -0.0016,  ..., -0.0326,  0.0347,  0.0273],\n",
            "        [ 0.0201, -0.0230,  0.0083,  ...,  0.0191, -0.0292, -0.0288],\n",
            "        [ 0.0217, -0.0160,  0.0006,  ..., -0.0234, -0.0322,  0.0080]])\n",
            "main.0.bias tensor([-0.0228, -0.0249,  0.0163,  0.0052,  0.0139,  0.0065, -0.0224,  0.0012,\n",
            "         0.0249,  0.0028])\n"
          ]
        }
      ]
    },
    {
      "cell_type": "markdown",
      "source": [
        "**Acknowledgements**"
      ],
      "metadata": {
        "id": "4ECRfm476xRT"
      }
    },
    {
      "cell_type": "markdown",
      "source": [
        "Code adopted from the Deep Learning Summer School offered by Neuromatch Academy\n",
        "\n",
        "https://deeplearning.neuromatch.io/tutorials/intro.html"
      ],
      "metadata": {
        "id": "nY_RNDCG62MU"
      }
    }
  ]
}