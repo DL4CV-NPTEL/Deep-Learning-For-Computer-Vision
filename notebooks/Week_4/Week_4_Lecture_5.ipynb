{
  "nbformat": 4,
  "nbformat_minor": 0,
  "metadata": {
    "colab": {
      "name": "Week_4_Lecture_5.ipynb",
      "provenance": [],
      "include_colab_link": true
    },
    "kernelspec": {
      "name": "python3",
      "display_name": "Python 3"
    },
    "language_info": {
      "name": "python"
    },
    "widgets": {
      "application/vnd.jupyter.widget-state+json": {
        "8ac293a665964d45b91bce63450fd963": {
          "model_module": "@jupyter-widgets/output",
          "model_name": "OutputModel",
          "model_module_version": "1.0.0",
          "state": {
            "_dom_classes": [],
            "_model_module": "@jupyter-widgets/output",
            "_model_module_version": "1.0.0",
            "_model_name": "OutputModel",
            "_view_count": null,
            "_view_module": "@jupyter-widgets/output",
            "_view_module_version": "1.0.0",
            "_view_name": "OutputView",
            "layout": "IPY_MODEL_66f0e304ddb148a8b27a89132b7b01f9",
            "msg_id": "",
            "outputs": [
              {
                "output_type": "stream",
                "name": "stdout",
                "text": [
                  "Video available at https://youtube.com/watch?v=UkEThLiReTY\n"
                ]
              },
              {
                "output_type": "display_data",
                "data": {
                  "text/plain": "<IPython.lib.display.YouTubeVideo at 0x7fa0b5c95a90>",
                  "text/html": "\n        <iframe\n            width=\"854\"\n            height=\"480\"\n            src=\"https://www.youtube.com/embed/UkEThLiReTY?fs=1&rel=0\"\n            frameborder=\"0\"\n            allowfullscreen\n        ></iframe>\n        ",
                  "image/jpeg": "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\n"
                },
                "metadata": {}
              }
            ]
          }
        },
        "66f0e304ddb148a8b27a89132b7b01f9": {
          "model_module": "@jupyter-widgets/base",
          "model_name": "LayoutModel",
          "model_module_version": "1.2.0",
          "state": {
            "_model_module": "@jupyter-widgets/base",
            "_model_module_version": "1.2.0",
            "_model_name": "LayoutModel",
            "_view_count": null,
            "_view_module": "@jupyter-widgets/base",
            "_view_module_version": "1.2.0",
            "_view_name": "LayoutView",
            "align_content": null,
            "align_items": null,
            "align_self": null,
            "border": null,
            "bottom": null,
            "display": null,
            "flex": null,
            "flex_flow": null,
            "grid_area": null,
            "grid_auto_columns": null,
            "grid_auto_flow": null,
            "grid_auto_rows": null,
            "grid_column": null,
            "grid_gap": null,
            "grid_row": null,
            "grid_template_areas": null,
            "grid_template_columns": null,
            "grid_template_rows": null,
            "height": null,
            "justify_content": null,
            "justify_items": null,
            "left": null,
            "margin": null,
            "max_height": null,
            "max_width": null,
            "min_height": null,
            "min_width": null,
            "object_fit": null,
            "object_position": null,
            "order": null,
            "overflow": null,
            "overflow_x": null,
            "overflow_y": null,
            "padding": null,
            "right": null,
            "top": null,
            "visibility": null,
            "width": null
          }
        }
      }
    }
  },
  "cells": [
    {
      "cell_type": "markdown",
      "metadata": {
        "id": "view-in-github",
        "colab_type": "text"
      },
      "source": [
        "<a href=\"https://colab.research.google.com/github/DL4CV-NPTEL/Deep-Learning-For-Computer-Vision/blob/main/notebooks/Week_4/Week_4_Lecture_5.ipynb\" target=\"_parent\"><img src=\"https://colab.research.google.com/assets/colab-badge.svg\" alt=\"Open In Colab\"/></a>"
      ]
    },
    {
      "cell_type": "markdown",
      "source": [
        "# Lecture 5: Gradient Descent and Variants Part 1"
      ],
      "metadata": {
        "id": "3JdIPfdtt2TU"
      }
    },
    {
      "cell_type": "code",
      "source": [
        "#@title \n",
        "from ipywidgets import widgets\n",
        "out1 = widgets.Output()\n",
        "with out1:\n",
        "  from IPython.display import YouTubeVideo\n",
        "  video = YouTubeVideo(id=f\"UkEThLiReTY\", width=854, height=480, fs=1, rel=0)\n",
        "  print(\"Video available at https://youtube.com/watch?v=\" + video.id)\n",
        "  display(video)\n",
        "display(out1)"
      ],
      "metadata": {
        "colab": {
          "base_uri": "https://localhost:8080/",
          "height": 519,
          "referenced_widgets": [
            "8ac293a665964d45b91bce63450fd963",
            "66f0e304ddb148a8b27a89132b7b01f9"
          ]
        },
        "cellView": "form",
        "id": "rA0FZ1_3t3nO",
        "outputId": "47396c0d-e5c6-49b3-8eb5-826b932bb12c"
      },
      "execution_count": 43,
      "outputs": [
        {
          "output_type": "display_data",
          "data": {
            "text/plain": [
              "Output()"
            ],
            "application/vnd.jupyter.widget-view+json": {
              "version_major": 2,
              "version_minor": 0,
              "model_id": "8ac293a665964d45b91bce63450fd963"
            }
          },
          "metadata": {}
        }
      ]
    },
    {
      "cell_type": "code",
      "source": [
        "#@title \n",
        "from IPython import display as IPyDisplay\n",
        "IPyDisplay.HTML(\n",
        "    f\"\"\"\n",
        "  <div>\n",
        "    <a href= \"https://github.com/DL4CV-NPTEL/Deep-Learning-For-Computer-Vision/blob/main/Slides/Week_4/DL4CV_Week04_Part03.pdf\" target=\"_blank\">\n",
        "    <img src=\"https://github.com/DL4CV-NPTEL/Deep-Learning-For-Computer-Vision/blob/main/Data/Slides_Logo.png?raw=1\"\n",
        "  alt=\"button link to Airtable\" style=\"width:200px\"></a>\n",
        "    </div>\"\"\" )"
      ],
      "metadata": {
        "colab": {
          "base_uri": "https://localhost:8080/",
          "height": 100
        },
        "cellView": "form",
        "id": "WrHo4zh4t_Km",
        "outputId": "c9fd8ff7-2366-4512-dfef-349267698a0d"
      },
      "execution_count": 44,
      "outputs": [
        {
          "output_type": "execute_result",
          "data": {
            "text/plain": [
              "<IPython.core.display.HTML object>"
            ],
            "text/html": [
              "\n",
              "  <div>\n",
              "    <a href= \"https://github.com/DL4CV-NPTEL/Deep-Learning-For-Computer-Vision/blob/main/Slides/Week_4/DL4CV_Week04_Part03.pdf\" target=\"_blank\">\n",
              "    <img src=\"https://github.com/DL4CV-NPTEL/Deep-Learning-For-Computer-Vision/blob/main/Data/Slides_Logo.png?raw=1\"\n",
              "  alt=\"button link to Airtable\" style=\"width:200px\"></a>\n",
              "    </div>"
            ]
          },
          "metadata": {},
          "execution_count": 44
        }
      ]
    },
    {
      "cell_type": "code",
      "source": [
        ""
      ],
      "metadata": {
        "id": "wvT7F0cyuLI4"
      },
      "execution_count": null,
      "outputs": []
    }
  ]
}