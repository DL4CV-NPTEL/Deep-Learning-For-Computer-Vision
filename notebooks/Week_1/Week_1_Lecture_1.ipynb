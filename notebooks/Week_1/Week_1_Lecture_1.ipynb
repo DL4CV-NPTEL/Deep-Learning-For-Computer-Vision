{
  "nbformat": 4,
  "nbformat_minor": 0,
  "metadata": {
    "colab": {
      "name": "Week_1_Lecture_1.ipynb",
      "provenance": [],
      "authorship_tag": "ABX9TyNIGV6BOMCiQGffKmgGKcv/",
      "include_colab_link": true
    },
    "kernelspec": {
      "name": "python3",
      "display_name": "Python 3"
    },
    "language_info": {
      "name": "python"
    },
    "widgets": {
      "application/vnd.jupyter.widget-state+json": {
        "529e3b5f8ede4281ac3fdbf8e8fe9480": {
          "model_module": "@jupyter-widgets/output",
          "model_name": "OutputModel",
          "model_module_version": "1.0.0",
          "state": {
            "_dom_classes": [],
            "_model_module": "@jupyter-widgets/output",
            "_model_module_version": "1.0.0",
            "_model_name": "OutputModel",
            "_view_count": null,
            "_view_module": "@jupyter-widgets/output",
            "_view_module_version": "1.0.0",
            "_view_name": "OutputView",
            "layout": "IPY_MODEL_ec7780e757e74e6c94193741baefe9f4",
            "msg_id": "",
            "outputs": [
              {
                "output_type": "stream",
                "name": "stdout",
                "text": [
                  "Video available at https://youtube.com/watch?v=rfAvjCf1_ZI\n"
                ]
              },
              {
                "output_type": "display_data",
                "data": {
                  "text/plain": "<IPython.lib.display.YouTubeVideo at 0x7f56905b6150>",
                  "text/html": "\n        <iframe\n            width=\"854\"\n            height=\"480\"\n            src=\"https://www.youtube.com/embed/rfAvjCf1_ZI?fs=1&rel=0\"\n            frameborder=\"0\"\n            allowfullscreen\n        ></iframe>\n        ",
                  "image/jpeg": "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\n"
                },
                "metadata": {}
              }
            ]
          }
        },
        "ec7780e757e74e6c94193741baefe9f4": {
          "model_module": "@jupyter-widgets/base",
          "model_name": "LayoutModel",
          "model_module_version": "1.2.0",
          "state": {
            "_model_module": "@jupyter-widgets/base",
            "_model_module_version": "1.2.0",
            "_model_name": "LayoutModel",
            "_view_count": null,
            "_view_module": "@jupyter-widgets/base",
            "_view_module_version": "1.2.0",
            "_view_name": "LayoutView",
            "align_content": null,
            "align_items": null,
            "align_self": null,
            "border": null,
            "bottom": null,
            "display": null,
            "flex": null,
            "flex_flow": null,
            "grid_area": null,
            "grid_auto_columns": null,
            "grid_auto_flow": null,
            "grid_auto_rows": null,
            "grid_column": null,
            "grid_gap": null,
            "grid_row": null,
            "grid_template_areas": null,
            "grid_template_columns": null,
            "grid_template_rows": null,
            "height": null,
            "justify_content": null,
            "justify_items": null,
            "left": null,
            "margin": null,
            "max_height": null,
            "max_width": null,
            "min_height": null,
            "min_width": null,
            "object_fit": null,
            "object_position": null,
            "order": null,
            "overflow": null,
            "overflow_x": null,
            "overflow_y": null,
            "padding": null,
            "right": null,
            "top": null,
            "visibility": null,
            "width": null
          }
        }
      }
    }
  },
  "cells": [
    {
      "cell_type": "markdown",
      "metadata": {
        "id": "view-in-github",
        "colab_type": "text"
      },
      "source": [
        "<a href=\"https://colab.research.google.com/github/DL4CV-NPTEL/Deep-Learning-For-Computer-Vision/blob/main/notebooks/Week_1/Week_1_Lecture_1.ipynb\" target=\"_parent\"><img src=\"https://colab.research.google.com/assets/colab-badge.svg\" alt=\"Open In Colab\"/></a>"
      ]
    },
    {
      "cell_type": "markdown",
      "source": [
        "# Lecture 1: Course Introduction "
      ],
      "metadata": {
        "id": "5p8aGbdxc1Nz"
      }
    },
    {
      "cell_type": "code",
      "execution_count": 2,
      "metadata": {
        "colab": {
          "base_uri": "https://localhost:8080/",
          "height": 519,
          "referenced_widgets": [
            "529e3b5f8ede4281ac3fdbf8e8fe9480",
            "ec7780e757e74e6c94193741baefe9f4"
          ]
        },
        "cellView": "form",
        "id": "W5BZQI44cxz_",
        "outputId": "51ab1285-97cf-4c90-b93d-667332f3ddb7"
      },
      "outputs": [
        {
          "output_type": "display_data",
          "data": {
            "text/plain": [
              "Output()"
            ],
            "application/vnd.jupyter.widget-view+json": {
              "version_major": 2,
              "version_minor": 0,
              "model_id": "529e3b5f8ede4281ac3fdbf8e8fe9480"
            }
          },
          "metadata": {}
        }
      ],
      "source": [
        "#@title \n",
        "from ipywidgets import widgets\n",
        "out1 = widgets.Output()\n",
        "with out1:\n",
        "  from IPython.display import YouTubeVideo\n",
        "  video = YouTubeVideo(id=f\"rfAvjCf1_ZI\", width=854, height=480, fs=1, rel=0)\n",
        "  print(\"Video available at https://youtube.com/watch?v=\" + video.id)\n",
        "  display(video)\n",
        "display(out1)"
      ]
    },
    {
      "cell_type": "code",
      "source": [
        "#@title \n",
        "from IPython import display as IPyDisplay\n",
        "IPyDisplay.HTML(\n",
        "    f\"\"\"\n",
        "  <div>\n",
        "    <a href= \"https://github.com/DL4CV-NPTEL/Deep-Learning-For-Computer-Vision/blob/main/Slides/Week_1/DL4CV_Week01_Part01.pdf\" target=\"_blank\">\n",
        "    <img src=\"https://github.com/DL4CV-NPTEL/Deep-Learning-For-Computer-Vision/blob/main/Data/Slides_Logo.png?raw=1\"\n",
        "  alt=\"button link to Airtable\" style=\"width:200px\"></a>\n",
        "    </div>\"\"\" )"
      ],
      "metadata": {
        "colab": {
          "base_uri": "https://localhost:8080/",
          "height": 100
        },
        "cellView": "form",
        "id": "bJQjZzwxdQch",
        "outputId": "9e2f14fc-f710-4d13-8932-47bd20845428"
      },
      "execution_count": 3,
      "outputs": [
        {
          "output_type": "execute_result",
          "data": {
            "text/plain": [
              "<IPython.core.display.HTML object>"
            ],
            "text/html": [
              "\n",
              "  <div>\n",
              "    <a href= \"https://github.com/DL4CV-NPTEL/Deep-Learning-For-Computer-Vision/blob/main/Slides/Week_1/DL4CV_Week01_Part01.pdf\" target=\"_blank\">\n",
              "    <img src=\"https://github.com/DL4CV-NPTEL/Deep-Learning-For-Computer-Vision/blob/main/Data/Slides_Logo.png?raw=1\"\n",
              "  alt=\"button link to Airtable\" style=\"width:200px\"></a>\n",
              "    </div>"
            ]
          },
          "metadata": {},
          "execution_count": 3
        }
      ]
    },
    {
      "cell_type": "code",
      "source": [
        ""
      ],
      "metadata": {
        "id": "de52nzELdbQf"
      },
      "execution_count": null,
      "outputs": []
    }
  ]
}