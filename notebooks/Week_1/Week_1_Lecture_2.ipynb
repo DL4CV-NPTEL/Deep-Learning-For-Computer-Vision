{
  "nbformat": 4,
  "nbformat_minor": 0,
  "metadata": {
    "colab": {
      "name": "Week_1_Lecture_2.ipynb",
      "provenance": [],
      "include_colab_link": true
    },
    "kernelspec": {
      "name": "python3",
      "display_name": "Python 3"
    },
    "language_info": {
      "name": "python"
    },
    "widgets": {
      "application/vnd.jupyter.widget-state+json": {
        "0a49affd2d0f45e29d2e2684d8e4f5da": {
          "model_module": "@jupyter-widgets/output",
          "model_name": "OutputModel",
          "model_module_version": "1.0.0",
          "state": {
            "_dom_classes": [],
            "_model_module": "@jupyter-widgets/output",
            "_model_module_version": "1.0.0",
            "_model_name": "OutputModel",
            "_view_count": null,
            "_view_module": "@jupyter-widgets/output",
            "_view_module_version": "1.0.0",
            "_view_name": "OutputView",
            "layout": "IPY_MODEL_230cc332160e40c8aa142360aff95a9f",
            "msg_id": "",
            "outputs": [
              {
                "output_type": "stream",
                "name": "stdout",
                "text": [
                  "Video available at https://youtube.com/watch?v=1u4eOUXSlx4\n"
                ]
              },
              {
                "output_type": "display_data",
                "data": {
                  "text/plain": "<IPython.lib.display.YouTubeVideo at 0x7fa0ba1e8090>",
                  "text/html": "\n        <iframe\n            width=\"854\"\n            height=\"480\"\n            src=\"https://www.youtube.com/embed/1u4eOUXSlx4?fs=1&rel=0\"\n            frameborder=\"0\"\n            allowfullscreen\n        ></iframe>\n        ",
                  "image/jpeg": "/9j/4AAQSkZJRgABAQAAAQABAAD/2wCEABALDBoYFhsaGRodHRwfIi8lIyIhIS4qLicvLi0zMC0pLS81QFBCNThLPSsyRWFFS1NWW11bNkFlbWRYbFBZW1cBERISGRYZLxsbMFc9NzdXV1dXV11fV1dXV1dXV11XV1dXV1deV1ddV1dXXVpXV1dXV1dXV1dXV1dXV1dXV1dXV//AABEIAWgB4AMBIgACEQEDEQH/xAAbAAEAAgMBAQAAAAAAAAAAAAAABAUBAgMGB//EAEUQAAEDAgMCCQgJBAEEAwEAAAEAAhEDIQQSMUFRBRMiUmFxkZKhFRYXMlNigdIGFCMzQrHB0eFygqLwY0OTssIHc/FU/8QAGQEBAQEBAQEAAAAAAAAAAAAAAAECAwQF/8QAJBEBAAMAAAYDAQADAAAAAAAAAAECEQMSFCExUQQTQSIyYdH/2gAMAwEAAhEDEQA/APn6IiAiIgIiICIiAiIgIiICIiAiIgIiICIiAiIgIiICIiAiIgIiICIiAiIgIiICIiAiIgIiICIiAiIgIiICIiAiIgIiICIiAiIgIiICIiAiIgIiICIiAiIgIiICIiAiIgIiICIiAiIgIiICIiAiIgIiICIiAiIgIiICIiAiIgIiICIiAiIgIiICIiAiIgIiICIiAiIgIiICL0HmfiedS7x/ZPM/E86l3j+yDz6L0HmfiedS7x/ZPM/E86l3j+yDz6L0HmfiedS7x/ZPM/E86l3j+yDz6L0HmfiedS7x/ZYH0RxMxnoz/Uf2QUCL0HmfiedS7x/ZPM/E86j3j+yDz6L0A+iGJOj6PeP7IfofiedR7x/ZB59F6DzOxPOpd4/snmfiedS7x/ZB59Ffn6I4kavoj+8/ss+Z+J51LvH9kHn0XoPM/E86l3j+yeZ+J51HvH9kHn0XoPM7E86l3j+yeZ+J51HvH9kHn0XoPNDE8+j3j+yeZ+J51HvH9kHn0XoPM7Fc6l3j+yeZ+J51HvH9kHn0XoPM/E86j3j+y2Z9C8U7R1HvH9kHnUXpfMjF86j3nfKnmRi+dR7zvlQeaRel8yMXzqPed8qeZGL51HvO+VB5pF6XzIxfOo953yp5kYvnUe875UHmkXpfMjF86j3nfKnmRi+dR7zvlQeaRel8yMXzqPed8qeZGL51HvO+VB5pF6XzIxfOo953yp5kYvnUe875UHmkXpfMjF86j3nfKnmRi+dR7zvlQeaRel8yMXzqPed8qeZGL51HvO+VB5pF6XzIxfOo953yp5kYvnUe875UHmkXpfMjF86j3nfKnmRi+dR7zvlQeaRel8yMXzqPed8qeZGL51HvO+VB5pF6XzIxfOo953yp5kYvnUe875UHmkXpfMfF86j3nfKpNP8A+O8Y5oIqYe+9z/lQeRRew9HGN9rhu8/5E9HGN9rhu8/5EHj0XsPRxjfa4bvP+RPRxjfa4bvP+RB49F7D0cY32uG7z/kT0cY32uG7z/kQePRew9HGN9rhu8/5E9HGN9rhu8/5EHreIfzHdhTiH8x3YVeLMIKLiH8x3YU4h/Md2FXiIKPiH8x3YU4h/Md2FXiIKPiH8x3YVxqYB7iTDxMaAjReiRWJmPA82ODqkiTVPwN1mnwe9oP3lxGh369d16NFqeJaR5jyXUBGXOG3tB6Y03St3cGvIvxm3YdohekRX7bex5o8Gvvert37tFvUwFRx/wCoLRAB7V6JFPssPOeTnRBDzLs2h3Qnk99o4wAbIMaz/C9GifZYebPBz4gcYPgV0dg3kN5LpaZnKTsI/VegRSbzI823g+oCDNXsP+7k8mvveqJM2BtrovSIr9lh5wcHvyxD5mZLTuyrV3Bjz7UfA26l6VE+y0fo835Ofb7y3QdhH7LB4MqEQTVMgjQ7ehelRX7Lex5p3B1WRlz6gkEGIGxTqFFwmWu7CrdFmbTbyK7i3c09icW7mnsViiyK7i3c09icW7mnsViiCu4t3NPYnFu5p7FYogruLdzT2JxbuaexWKIK7i3c09icW7mnsViiCu4t3NPYnFu5p7FYogruLdzT2JxbuaexWKIK7i3c09icW7mnsViiCu4t3NPYnFu5p7FYogruLdzT2JxbuaexWKIK7i3c09icW7mnsViiCu4t3NPYnFu5p7FYogruLdzT2Kzwwhjeparq3QINlhZXOvVDGOcdAJ1hBitXbTEuMD/dihjhimTDQ92vqtnTq/LVVbWOxVRxqFwpsEvImY2NbqNJu2CLb5VvxrKQptphoDnRAHwPxkjVc4mZ7tzEQk0a4fpm+LSPzC6KsxlDlF2HcWVhJIHqvjUOtBPituB+FW4lh0FRlntkSOmATA610Tl7askREZR3NBBBuDYqo4mlSqYl/Fgik1jmjdySbblcLTimy45RLrOtrFrqY3W3LqBV4SdSflqtbYBznNJgAh0a7ZZHxCxS4Uc4QWtY4AZpkw4ucMoAEk8gnsUtmBpNaWim3KSCRGsadkWWz8HTdmlg5Tsx6SBAM707tc1PSC3hVxAPFjKKTqj7mRlJBAEbY2wtePrNqPcWBzuKpnKzM4AFzpMamOjWFY0sNTZ6rGiBlsNkzHVK5t4OotBaKbQCALdGg+GxO5zU9NqGJa6lxhcIgkkSAImdbiI0KqsBXIe/NnHH0zUhzXCHCZAJ90t05quBh2ZOLyjJEZYtB1WalJrozNBymROyxH5EpMJFqxv+1Zh8a+KNNgaTkp6zPKbJdbYI8e3arwq5rBULBkeXhgkzLA53K6DkPVZbVuCQXlzXBoOWOSczQ0RDSCABbcdSpZwVLM53FtlwINtZ17du9O7U2og4rE1A15ytbV4nPIJIAzadPWsVa9SniKroaYpUswk7X1Byf92KyqYdjpzNBluUyNW7upatwlMAgMEEAHpAJIHaT2piRevpFdjavGZWsZBqmkCSZs3NmNugiFqzhF/2eZga11i6HEZsxaWyBbS06yp3EMmconNm0/FET1wtDgqRIORst07Z/O6dzmp6a43Emm0ZcuYzAIcSYE2DRPx2KK7hN/rNY3JlpOMkz9o6IHUp1fDMqRnaHRpPTqn1WnEZGxDREbG+qPgiVmsR3hBbiHVKtF0AM417RBM8lrxfZsKzwi0Or0AafGDLU5NvcveymNwdMP4wMbnkmY2nU/FdDTBcHEDM2QDunX8gmHPGxMIGHNWkadKGkvL3XcTkaCIaDtgOhaO4WILhla6Q3IRmAJc8MAki4lwuOlWRYCQ6LgEA9ev5BcGcH0WhwFNsOGU21GsdXQmHNWe8w5VKlcVaLfs4dmzRN4AWlDFOc7i6TGg8txzExZ5aI64J6FJGBpQBkHJdmHXpMrNTBUnAB1NpiSLc4y7t2oc1UfD46pUe4Np8jM9oN7FhIknSCQdL6Ke3ZOq4/U6eYuyCXa9MiD4LqBAgbFWbTE+FfhMRxWC4wgnK1x115R2rFbhN1J5ZVa3kgOJaTEOD8uu2WEfEKVTwFFpJbTaJkHdfWyNwNINLRTblJBIjUjTsgKd2+amzqPh+E83rMcC0APDWufD5cC2w2ZTfpC5HFuZVqhrS4vrACQbAUWONhf4Kyp0mtLi1oBcczo2neexaVMLTdOZgOY5j1gQDO+BCHNXfCI3hF8hjqeWoSyGk/hcDmPwyv7BvXB+NfVo5jTLWOLHNN/aNsd5g7OlWbcMwFpDGgtGVpjQHUBatwVIEkU2ibm3TPwvdO5FqR+OPCphtL/76f/kuOJxDqdas5ozHLRaATAl1Rzf/AGVjUpte0tcA5p1BuCubMJTa0tDBBIcekgggnebDsRK2iI7orcdULxSDWZ8zwTJyw0C42ycw8VHwOOqCnRY2mXxSplxv+Ld1AE31VlVwdN/rMaeVm02xBPZZYOCpcn7NvIADbaAaDq6EyV5q5mIflCrxfGcWA3O5sgOfAaSMxDRN4+C2pYt813OdTyNLchkxdrSOuc3aVKfg6TmhpYIBJA0117Vh2BpEuJpt5QANtgiPyHYEOavpFZwg92RrWNzOqOpkuzADK0uzQRO6y4V8e+tQfla1oFJrnSTMumzeqNVZ08JTZGVjRBLhbaRBPXC0dwfRMTTbYZRbYDIHwKEWpvhH+uOFUsYxsurFhJJ2Uw7N+kLQcKPcKeVjcz2MdBJPrkgxGxsEnoVgKDM2bKM2bNMbSMs9llBxPBIe6WlrBlDRyTLIn1CCI16UnVi1J8wsgiBFXEREQEREBERAREQF1boFyXVugQbKHwrPEPidmk7xuUxaVKYc0tIkEQVJjYxYnJU/BDnNw7jTYHuc95dcC4sJjoAGxQMbVfTeAxsa6A3OZvJnYb+ts0OyLLCtdQc+iXQKh+zeZPKiIjZYDded67VMAG5MsmTDtoIkH4AQe071mPDcTETrnwc5wHJpggnlEcm4MRB0i9ujeqvAks4UcGgljnvaSJIAguvqNR7qu6gbhg+pmOUj1bkk7ANug0A/JUX0dwzq2KdiXwcpdcw7lO2B0BwgE2I2haar/jaZesREVcWEWUQYRZRBhFlEGEWUQYRZRBhFlEGEWUQYRZRBhFlYlARMw3pIQERZQYRZRBhFlYQEREBERAREQEREBFlEGEWUQYRZRBhFlEGEWUQYRZRBhFlEGEWUQYRZRAWFlavFjG5BiowOEOAI3EKLU49vJpNpkDQvqOnqNj+ZVf8AVMQGZTmP2dr3BJBIN+tSavB7gwAFznZwbEgBpIkC+lly55846csR+olXgKriHh2KrAtH4GC2vTb45QelXdCi2mwMYA1rRAA2Kt+rPFdxyvy2y3kRljf+hUrg4vFNrHsc0tAEkgz4rVbbOYW2Y8piIi25iIiAiIgIiICIiAiIgIiICIiDCyuDxcrEf7K89vkRWcxcSFA4Upl3FEMLi2q11hoAbrvH+ykdfas9TX01X+Z1RYjg6txlXK0lsnMYguzVmvG3lZWg622dCkYXCvacITTdLHVMxtYOzZZ3aiw0VB9KsXVZi8rKtRoyNs17gNu4r2GGvTYSTJaNvQn3Vjvj28Wt6cOtpz+v+YlouEdfakdfar1NfTw8qQijx19qR19qdTX0cqQsLhHX2pHX2p1NfRyudWmS6pAMEN6jBMj8lw4mrsBDoMdHJMX+IEfFS4/2VEwDiTWkkxVcBc2FrKx8iPSY68UeLPJPrCJF8szcDXat8PROZpc2C1ovvJt4AeKy8ck66b1x4PJdQpEkklokkncp1EZuGOmKpHMC0byeu0dVhqs4Rjg50gj95Pbsuo/Cji2g4tJBkXBPOCmR/sq9RGbhiPVoOzENBAiARsGU7evZ8VIwjSGmRFyQNwUXEkirQAJgudNzfklSY/2Un5FY/DEhFHjr7Ujr7VOpr6Xld0XFouP3XZdeHxIvGwkxjKIi6IIiICIiAiIgIiICIiAiIgIiwgyiwqfhD6Q06NU08jnkesQQI6OlSZiPLdKWvOVhcLK50KzajGvaZa4SFuqx4ZRYWUBERAREQEREBERAREQEREBERByc0yVjIdy6rK4zwKzOrrjkO5Mh3LssLPT0NeU+kH0fr4jEcZTyZcoF3QbT0dK9HQpOaxoIuGgeC4Y58VGckndG052GB0wCeoHcVPWp4FXa/wAi961pPirlkO5Mh3Lsiz09HHXHIdyZDuXZE6ehrjkO5Mh3LsidPQ1xyHco+EwzmcZMcqoXCDsMKaiv0VNcXUyQR0Llg8O5lJjDEtaAYO5S0T6K5hqFj8M6pScxsSY1O4g/opOU7l0RPormGodfDudUpOEQwkm+9pFu1d8h3LqiTwKmuWQ7kyHcuyKdPQ1yDTK6IsrrSkUjITRERbBERAREQEREBERAREQEREBavdlBJ2LZcsT927qKlpyJkhFq8LUma5tuzcqfGcGUcTUdWp4hrQbvBGnTsXLhHb/d+irKWj/6f/Zq8deNNo/qH0eFweX+qzkvVYXhHD02tpU3FwYAJA+Gqn0MQ1/qz8exeN4P9Y9bf/Jen4L0PV+pW68a02iHDj8KKd1gsrCyvU8oiIgIiICIiAiIgIiICIiAiIgIiICIiDBCLKICIiAiIgIiICIiAiIgIiICIiAiIgIiICIiAiIgIiICIiAiIgIiICIiAuWJ+7d1FdVwxNVjWw9waHWuVLRsTBDzXCO3+79FWU9H/wBP/s1enq0cI8S59iSNSNdfyXWg7CMaWt4sCDMjYN8ry0+PaIyXur8mtYzHmuD/AFj1t/8AJen4L0PV+pUduHwUlzXNGk5XWsReOs+KmYarQBDWPBJ0E9Z/dWODaLRPpz43GrfwmLKwsr1PKLCysICi4jhOjScWveAWgF1iQ0HQuIENFtsLXA4aoxzy94IMQBOz8RnaVAxvBtY/XW0wxzcW2MznRkOTizIi4gAj4oLuVzbiGFwYHAuLc4ja3SZ0XnqXB9d+JqAF4p06oGZz3AOZ9XDS1rdCC4g9YO1ZpcD4ptCjTDg0U6NNjmCq6HFj2l99mZoI+MaIPSEqO7H0hQ48vHFZc2fZB0Kq6nB+IdVpOaG02NLbCo4nLyszTOuotp2BbVOCqh4KGElvGCk1kyYkRN46EFhR4RpVHNa13KdmgFpBOWM1iNmYdqlKj4T4GquLDQqEFtKq3M+o4ul+SIdcgck32LhV4IxhJNOrxbXF0M4xxyAZHMg/1sM9Dyg9GuVXFU2CoXOAFNuZ/uiCZPYVE4NwtVmU1bvLSXu4xxGZzy4tDTaBMA6wAFw4T4JdW+skEg1KORkVHNEw71gLES4agoLdFU1sDXc50OIBcZcKjhLS4ENAHqwAbj9Su1DBPbXL8xyy62dx5OVoaINtWnt6UFgtalQMaXOMAalVmKwmIfUqFpytcxzQQ9wmQ3Keggg6R4rniODqplo5TZdlBqO5MuBk77SOj4oLlZWFlAREQEREBERAREQEREBERAREQEREBERAREQEREBERAREQEREBERAREQEREGFHqUahdIqANnQsB8VJRBEOFfsqD/thZdhn3ioBr+AabApSK6IYw1WT9q2D/xjdZBhqntW/wDbH7qYiaNaYIABMnfELZEUBERBhV1XGupVnGsSykJynLLXAMzGXah0h1twViuDsHTL85bJ6SSNInLpMWlBDr8JuZUph1J7WuY9zgcsjK6mA6ztOWbarrU4VptGjjctAAFyKgpHbznBdDg6LQJAi7RmcT6xHJknaWtt0BZHB9GScgkmdTrmD7buUAetByp8Ih9mMfIBzeryCC5sG97tOkrbAY9tWgKs2Dbu2GBLiOiZ7F1+pUpzBsG+hImSSZjW5JvvW9PDsaCGtABiRvgQPAAfBBX+WMpcXseBycrYGa4JJ1jQda7VOFqbRo4mSIgAyHZYvpMEjoBWzcDQHIAg+tZzs1rCDMxeF1dgqZzcgS+C4ixJGhkXkIIdLhaXVOS50EFrQACG8WxziZOwvUijwg17w0NdBJDXWgkCSBedL6LFTC4cnI4NzGDGYgmRlE3kyGR0wt6GBYx7ni7iSZOyYsBoNAg4V+Fmsc9vF1HZCQSMsSGh5FzzTKxV4YaM4Yxzy2NIAPKDTcnZm29KlPwtLlEtbeS4npblJPwELX6nScCYs8Xhxg6XEGAbC4ugjM4Uh9RtRrhDiGkAXgN5Ousv6kxXCsMdlY7jGtcSDl5ER614Oo0nVSzgqRmWAzMz0gA/kOxaO4OokAFkxO0yZ1kzJ0Gu5BticVxb6bcpIdMukcmBMmUwuMFWQGuaQA6HRdrpyusdsHpstqtNjnMDvWEuaJg2sT0i/imHwtOlORsT0k6aC+wbkHdFha1KjWiXEASBfeTAHxJAQbosLKDliK7aTC95hoiT1mP1XF3CNITL/V1seno6CpTmg2IlcvqtP2bO6EGrcbTLg0PGY7FhuPpGYeIEX2Xnb8J6l1bQYDIa0HeAFHwJZVpk8UGjO4ZS2PVeQDHwlBkcI0YnOBabyD2LcY2kXZc4zHZtWwwtP2bO6P8Adq2FFkzlbO+BN0G6ysLKDCONrLStTzNImJUWnwflc5weQXTpaJnTvab4QaDGVtOJm0k3Gs7Ou2vTot6mJrAMLaUgg5hJkbv9jqWBwe7NPHVMszEnfpM6f7vnA4Odaa9Q/E3QScPVe6c9MsgwJIM9Nl2Vf5MMj7apAm075uem66UsEWkHjHugzyjOzZ/u0oJqIiAiIgIsISBqUBFjON47VBqYEOMl427BtJP6+CDpisRUY4Zaedtt+0kbN1tm3oWKeJrEOmllcAS2TYkaD/fhK1xGEzmW1nN/uMbOkbj2rV2B1jEVB/d1/v8A7sDejiqxyh1AibOIIgaXgqaq84C4PHv6eV0g2vbRGYGI+3faLZrW39CCwWVyow1jW5gYAE74C3DhvCDZERAREQEREBERAREQEREGFU4ihiC+qQ58H1MsRHJtBcLyDpGvrK2UHG8KNpMqkBzixrotYua3MWzvj9dyCNQw1YOLocHONIk8ZIgEB4gk3gHt1KxhcJiG8WXPeSG0swNSRmhwq/p+isHV+LpB9SSQLwI8Jt2rari2ta113B5AblEzIkIKqnhcQ51N1QPhtbNlD9AaZafxcoZiPhNtim8GUqrWuFZziTGuk7S25MH4dQWafCtNwBaHkugtGW7g4EggdTT2I/hOmWFzHbCZyk6NDpI3Q4dqCBhuD6zGUYztdTptaZqTJD25ttxAOqncHU6zS/jXEk6TpMm7bm2loHUtvKVOSOVIJAt6xD8hA/uIHxXRuNYaQq8oNMRa5kwLdMhBXYXC4gODjmzZWB5LwcxGfORezZcIFupGYXFN4v7RxPFC5MgPg5i64kSRoDpsUnyo3jIIdkgSct2uLywh3RIH56LPlai05XvAMEkxAABcLzf8J7OpBH+q1C+m8Nqgta9pzVZu4Mhx5UEck/stalDFFrgC4PynlZxF2Q0AbHB15jfvU9uOmoxnF1Bna50kRGXLr3lnEY6nScG1DlkGCdLAuI7Gk/BBrTZUbTqi7jLsgL7kbBm1F1CbhsSWXc8EB5aM0XlpZPKM/i1JU1/CTGwHh7SWuddujWxJPeCx5Tp5g0hwdJBaRcQAfjZwNpQccJQqivneHWDxmLpBl4LcomwyjcNPio9cVm1CDxjmOq2h0OIyvOUcqI0vydmuqnu4Qb9XfXaC5rWl0CJMCbXWHcJ0mmHEtImQQZ5LQ4+BCCD9WxcD7Q5uLgGQQDlIIdcSZvIb2LWphMQ7IDxjgH03CXgZctYOfmGYzyQIudNitaGMZUMCdJEiMwmJG8fuN67oCysITAQZWr3hoJcYA2lcWY2m4gZsrj+F4LT2GFhhzuLzoDDB4F3+7OtBr9aefVpOje7k/GNe2FF4OxTy2AxsZnm7i0nlk8kEXHTIUrE1BIYdDdw3jY2On8gUoRUpyQCCXEd436Cg7U6wda4O46/yuYxBe/LTgtaYe7Zb8I3nfu8Fwc3P9m4kCTkfoeqRt/MSpWFIyAABuXk5RoItA6EHVZREBa1HhoLnEADUnYsqvqN4992EtpusCS0Zh+Kdu4f/AIg3fjnEnJRe5ovmILQeoQT4LRuOqSRkY6LlocQ4DeWkTsXU0iLmi3nfZuvmm+wds71hzA8QJqCYN4eyRsNiDfoMH4IO9HENfYWcNQdRs+PwWKuIhwY0Znm8TZo3uOzo39sQyC6IdqMzKgjl26rOFrfiHxiTweG8XLdSZcTck7yds2johBKREQERR8bVcyk5zRJH7/BBnFUnPaA1xaZmQSNNn5fCVHY17G0g95zAgEjlTewJPZO+OpScLUzNnM199WiAfErTEat9bVvq/wBQF+i90Ghdrd/3oGmmlupC71uU/wC9A06rN6N561kzyvvPvR+ml/V/lL3+8vVH6aXs23570GDU1+0/6gb6nVyW7+k326RZx1/vaX3mUcnq5HrXd0+C2Djzn3qR6u7YNzba9e9bNcbcvV51bsH4R2aoNWVXEtg0nXIs7YNo1uDqPHYjaroBLWXaSSHWtp8D4LDYJZek7lONhBtaW63Gh61za2zTlpfdPMg2EkG3unU7oCDqazoPIFmNN3DUkyD1Qtw4lxkAQ6Be5GXU7rz2KM9ln8lv3bNXbi6x6Bv23XemIqPs0S8GxknkRLtxtHUAgkoiICIiAiIgIiICIiAiIgwolTg+jUL8wnNIcMxiXNykxNjB11v0qWqnFtxU1uKlt3lmUM5RFJmSZHOza7tyCwxOFZVADwSAZEEi8EajoJWfq7IYIsyMtzaBA8Cq2u7EtJa3jHcs5XcnSGWdbaS/dp1LhTxdZ7qga905jlAAPIbUhzhbWC0QTOu1BZ+TqUNAaRlAAIc4EBoIEGZ0cR8VnydSvyNWCmbn1Rs6OvWw3BcME6vxsVC5zcguWhoBhuzaTc623aKyQQMXwYyowtAgkk3kgy8PcDfaQulLB/YilUJeN9xF5aAZm1oMzZS0QQjwZT1AMje90E5i4ZhPK5Rm6xS4NYGw/lEgh0EhrpJJBbNxyjqpyIIzMExpa7lksmCajjYxIMm45I7FrW4OpVH53tl39Rj1S24mDZxClogi/UKcXDncks5T3O5LokXPuhangykYkOPKD7vddwiCb3IyiOpTEQRmYKm1j6cEtfOaSSXSIMnqC0dwbSJzOaS7k3LnE8gkt29Px0MhTEQR6GDZTJc0GYi7iYEzDQdBOwdG4LusogLCyiDliGgsdIDhBsRMrnhaTRTbksMoiDaI7FIKrs5otsZLTlFM6u3ZesX3a6QUHOpVDDWrPkhttLw0aAbSVT8B18ZiZc+KWGkhtMiHHlE6i9tNQrzBgEMqPpuzZddY8db6rDATms7KXOsG39Y7TACRJE7CRTHGUAZkxIPSNCs4V4c58aHKe1ot2QsVZDSSBTa0SXHUAdVh4qPwfhKjKYLahBdBLXtDgLdEGesoOp4RP/8APX7rfmVVw19Jn4U0SMLVcHuLS0iHG08mCZ6ldYN1YtPHsY1wNsji4Eb7gQu5aJBgSNDuQccNiTUoipxb6ZInLUEOHWBKiYWDTZLTVJaDlGgBGpzRc63kyVZKrZUyNcwuyZXw82nKGckydJyi6CQ0NmAHUnmYB0JjcDB0nf1Le5JIGWo2JiOWANOq5jcVypPzw1xLmP8AVJ1BFx++8Qt2kkMcfWa7ITGonKeq4B+CETrWo0OAiwfDmAiMrxLp+O3qO9bYF8l2yQ10bsw08Fk8nMNIqAg6+tBPVqVrwYJp54gO9Xq1H5lB2xOJFIAltR08xhd2wo/lVvssR/2H/spyIPP8BfShuLqPpGhVa9ji0uDSWWO0/hPQVdY15bRqEGCGmCN8WXSlSaxoaxoaBsAgLljgDRqB2mQz2IOPB9c/Vm1HSYBJ1vBPOvs0N047jWNeA+5Fmm9qgBuNlr7xKzwQB9WpwZsds7TZdMS20ATpYGNHDwQalpl3Jf8AetOvQ246OjoKBpkcl/3pOvQbn3ehYcy7uR/1Wn1tbN5XRpp0Ixl28giKrjZ2lncrpBnTZPQg6U9n3g5btf7tfd3fBZFSC0S4zOoA32WtIEZeS8esbmYvof06llrrNJz2aTdv5wNehSUlkOu2XA8knS50uN2vio9so+6kUTsteJj3DHgF2dVgEl8RTzEubEe87dppbauVVwAeMzLUb5m6TN3dFtOgqqxVbapan903XoLtfd3fFdm/eO9W7gba+rEu7PBcq5H212CKQ1Gnr3dbTo611B+1IkfhMRfR1ydot4FBIWURAREQEREBERAREQERYKAuBxjA8snlDWGkxabmIFlywOHqMc81HggwABOzVxnQlaswR4yu8k8sy0Bxj1GtuOsHwQTWPDgHAyCJB61gMAJIABOpjXrVP9QxAADXQQBDs5iAwAMy/wBYmd3XCmcH4esxzjVfmEcnlE3PKfPxMDoCCYx4cJFxcdhgrArNzlgPKAk2Nus6Kvw+FrNrtc4lzZdmlxIALnluUb7t1tA6ExGBfxr3tktc5pc0PLS4BhEdF4PwQWiKno8HVoHG1C4l7S6KjrtFLKQNPxX6Vph8FiabaPKLiMhqDjCczuKe15k7MxafhKC4ZVa4uAIJaYd0GAY7CFtKozgMSKbgCC9xac2cyHCkxs7PxNO/ZZdK2Aq8sMzAGqXHLUguBbaJ0g7P2QWxqAODZGYgkDeBEnxHat1V4XB1W4gVH3gVAXF5M5nMLYbsgNj4KLUZXqVnEAtpua8ANeQSWvZlJB0sHbtY6UF8sKDWpVTh2MgF8NDoc4bLwZk33ntXDHiq3C0mkzU5Ie6TEhtySIMSPyQWbagJLQbt1G6dEZUDi4AzlMHoMAx4hU9PCVC0OaHFrgJaahY4w2JJHTfx2QjMDiGucZBcZJdnID/smtjKNDmEz0dKC44wZss8qJjo3rZV3B2FqscHVIsHAXkgF5LR8BG1WKDKwsrCCtxuMcK4o03jjCzMGCCTeJfub027bLHBzHVWCu8FleXNIcLNDXFpaBzTlmdTvUt2Aolz3Gm0ufGZ0XMaX1tsXalSaxuVogfuZJQRqT3MkOa4XsQMwIN9mkfBYw2IGUkBzuU7QHnHbEKYo+BH2d+e/wD83IM8W6p64AbM5dZ3Zj+i7rKICIsIImOxhpFoAaZBNyRMEDK2AZJlQaTPrjRiBaCWim4W5LiCKm8ggxFgdJ1UypwYx1Y1y5/GZcrSHWYJnkjS5FyZ3aKTh6ORsSSSSSTFybnRBCFYUzL+S4C3GPho3wYv4lZNemA1peDysx0l7pmGid8dCsFgNA0ACCFxLqshwLWEku2F02jeBFpU5oAECwGxZRAREQFHx1Jz6TmtiTGpIGtxIUhYQR+D6BpUmsMWmzdAJJAHUICYtstdYO5OhMDXad2/oWcVVeIyNkzckWjboZBtuXKm/jKbXVW+sIc3Qa7jsPTvQHNGZ3Jb9603drZt+u1h0JTZdvIbao82dpd3K6Zm43ldQ1pk5Jl0m41ECdehOKbb7PQlw01Mzt2yg5U6ZDW/ZuEMIhtSw90aW3H8lsSQD9837PWzo/OXdqyMKwAAUyAG5RBiG82x0GzchpCY+0BLY+82DaATr0oMVKkB/KeIp7WSAb3953R+60xFSBW5YGWkDymzl9blO39XR0rq6m68GoJEC7Tl6RO3pMpUY854LhLYbocpvfW5v4IOeIfBrcsCKQN2zl9flHeLadHSugd9rGYHkgxH9V52jo6OlKjXnPBIzNgWHJN+VrfUdiNM1Ac1rCJGsG4vuKCQsoiAiIgIiICIiAiIgLCyiDCg1OFWNdUblecmpAEE2sL+8OhTlxdhKZc5xbd2tzB0vGk2F9bIIzeFmFzW5H5iSCIHJhxbeDvB0nRa0uGGvFLLTqfagOaDlBh0lpIzbgerbCktw1IuloGZrjOVxFzyiHQb6zB3qMeDWOe19N+UMDWANOgYfVEG24gygk4bFtqyWg2AJkaEicvWLT1qHg+FZYDUDw52QxDbcY8saBB0kKbhaTacsBBcSXu0BJcbmN2xanAUZacg5MRr+E5m22wbhBHpcLsfAFOpmcGlrYbLg7MQReBam7WNFk8JQXZ2OptZUykmDIyZzobLsMHQcOS0WhstMEZJgAi4jM7tK3GCpyTkF4JmSLDLMdVkEarws1gM06mYAkt5MgBuafWjTpWMVwmBmY31wA4EwQRLQdDI9YawpLcBSAIyCDMySdRBuei3Un1ClJOS51uYuQTA2XaOxBri8eyiQH5riRAnQgHszA9Si0+Ehx7m5DkIaA4AWLnVGybyQcgiFYVaDHkFzQS2YnZIg+BK0ZgqTYhjRAaB0Bk5R8JKCEeFC7DuqMa4ltMOzkACS0OiJmYI6L6qS7GjiKtSHM4sPkEAkZQdgMHtWw4PoiwYAMuWATEAQJGmgAncupw7C17S0ZXzmG+dZQcsNjG1HPaAQWGDMdN4mQLbdVJXOnh2Nc5wF3akkn4CdBfQLqgwiyiAiIgIiIMIsogIiICIiAiIgIiICIiAiIgLCyiDCiYrg9tW5JBgibGxLSRcWHJ8SpiII+DwjaLS1pJBM36gPyAXdZWEESrwlSY57STLIkAE6iRooz8Xh3VBW4x0sbMZTcXuLX9bZvCnvw1NxBcxhIkgloOuqOwtM602H+0dSDg3hKm5gc0PdJiA0zs1B6x2qVSqB7WuGhEhYbQYIhoEaQI2R+i2YwNAaBAAgBAc0EEG4IgqDS4KY17X5nEtiNNABA06J+JVgiAiIgIiICIiAiIgIiICIiDCqsRha7qjyHvDS85QHxyeKEf5g/8A4rZEFPXw+KcHw5wOVxbDgOVkp5fhmD1tWw2IcbPcIL4hwGtRpb/jKtkQVDqOIaxwGZx5Qby7iahykmQTDItN4haOoYkF0OqFsDLcTlytkE5ozyHGY2i8K6RBD4NouZTcHAiXucATJguJEm6mIiAiIgIiICIiAiIgIiICIiAiIgIiICIiAiIgIiICIiAiIgIiICIiAiIgIiICIiAiIgItKr8rXO3AlVDuHSP+mO9/CC5Reeo/SVzj9yBYH1989HQuvnA72Q738KaL1FQ+cLvZDvfwtX/SQtEmm0f3/wAJsD0CwvOs+lTXGA1hO7P/AAunnE72Q738JsC+ReeqfSVwaTxIsJ9f+FsfpG72Q7/8JsD0CwqDzjd7Id/+Fg/SR3sh3/4TYHoUVZ5XHMPanlccw9qos0VZ5XHMPanlccw9qCzRVnlccw9q5nh5gMFsEdPV0dIQW6KoPD1OJgd8LB4fZlLssgWMGdsILhFTu4fYMstPKmL7jH6rapw41urD29IH5kILZFTt4fYQTkdAbmJ6Incs0+HWOMBs/Hq/cILdFWeVxzD2p5XHMPags0VZ5XHMPanlccw9qCzRVnlccw9q38p+54oLBFX+U/c8U8p+54oLBFX+U/c8U8p+54oLBFX+U/c8Vh/CoaJLDHWgsUVYeGGgElpgWOttu5YPDTA7KReYieiVeWRaIqscNM93vDrW7eFQdGz1OTJFiir/ACn7ninlP3PFQWCKv8p+54p5T9zxQWCKv8p+54p5T9zxQWCKF9f93xT6/wC74oJqKF9f93xT6/7vigmooX1/3fFPr/u+KCaihfX/AHfFPr/u+KCaihfX/d8U+v8Au+KCaihfX/d8U+v+74oJqKF9f93xT6/7vigkYn7t/wDSfyXkazuSegH8l6HEcIDIQWxmBA64K83iD9m/+k/kpI4YcQ53wHh/K7LSiLvPvf8AqFuVkR8XXLG8m7iYaOlZpfRyvVGas/IN2p/hd8HSYcTneQBTZN95OvgVfMxtJ7SW1MwG4FX8R5x/0dpsFnGetVeM4/DkHMXNnr7V6CrwmxziG03kD8WxV3C3LonLfanf9HDDYwVqbxEOAuFMBkA9Cp+BB68m+kK1onkM/pH5LM9lbysORYOxRXqvJH/J/j/KeSP+T/H+VaIuqKvyR/yf4/ynkj/k/wAf5VoiCr8kf8n+P8rm/gFriSXAyADbdptVwiCl83qczIuZ9Xb2rYcBNH4t2w7DI271cIgpvN9kNGazdBB2/HoWz+Aw4gl8x0dIO/eArdEFP5BbEZhER6uwCBtWW8BgOkP/AMerp6ArdEFX5I/5P8f5TyR/yf4/yrREFX5I/wCT/H+U8kf8n+P8q0RBV+SP+T/H+Vv5M9/wViiCu8me/wCCeTPf8FYogrvJnv8Agnkz3/BWKIK7yZ7/AILD+CcwIL9ehWSIKo8CtvyjcyddbdPQFl3AzSZLrzOm3TerRFeaRU+QmRE26j+/QFuzgkNFn6knTfdWaJNpnyK7yZ7/AIJ5M9/wViigrvJnv+CeTPf8FYogrvJnv+CeTPf8FYogg+T/AHvBZ+oe94KaiCF9Q97wT6h73gpqIIX1D3vBPqHveCmoghfUPe8E+oe94KaiCF9Q97wT6h73gpqIIX1D3vBPqHveCmoghfUPe8E+oe94KaiCsxXBwyEl3qguGouB1rzFeqCx8bDlPXML29QS0joK8Bi38p5H4ngnvhSR3on1v6v0C3XLDeqes/musrAzTw5eTliYgzuU7CYB9NlQvdJcNwHVYLlwbVy1D1LvinZ5ucx6f0Wo79hA8m5mnK46yRJELQ4XK0tN5WaL8jobK7VXb0kU9DCii3bnkT/HQpGHP2ber8kfWkEEAXtfUJwa7lUx7zh+YWJ7yroDZNi5UjEjct5soPoCIi7IIiICIiAiIgIiICIiAiIgIiICIiAiIgIiICIiAiIgIiICIiAiIgIiICIiAiIgIiICIiAiIgIiICIiDnXdDHHc0nwXzuo8OAIMgkfv+i+hYv7qp/SfyXgcSxrMgaABn/8AUrNh1wvqDrP5ldGlcsIfs29S706LnaBY7zPYGOIII2FSX1qbgS4TvC5uwrmi9yTAA6Vtwlg8kuk5DFx+ExHYukcO0d5Y5o3EV2IYJgAdS5NqFxjYuDsM8HnDeFIosyhSWmIBNwuFOplObm1J8ZUXgkvzVWm4Dpb0AkyPyXYavEfi/QLnkxLW66NfyiRpK2zLjMJn1VV9MRfL/SPjfZYbuv8AnT0j432WG7r/AJ11ZfUEXy/0j432WG7r/nT0j432WG7r/nQfUEXy/wBI+N9lhu6/509I+N9lhu6/50H1BF8v9I+N9lhu6/509I+N9lhu6/50H1BF8v8ASPjfZYbuv+dPSPjfZYbuv+dB9QRfL/SPjfZYbuv+dPSPjfZYbuv+dB9QRfL/AEj432WG7r/nT0j432WG7r/nQfUEXy/0j432WG7r/nT0j432WG7r/nQfUEXy/wBI+N9lhu6/509I+N9lhu6/50H1BF8v9I+N9lhu6/509I+N9lhu6/50H1BF8v8ASPjfZYbuv+dPSPjfZYbuv+dB9QRfL/SPjfZYbuv+dPSPjfZYbuv+dB9QRfL/AEj432WG7r/nT0j432WG7r/nQfUEXy/0j432WG7r/nT0j432WG7r/nQfUEXy/wBI+N9lhu6/509I+N9lhu6/50H1BF8v9I+N9lhu6/509I+N9lhu6/50H1BF8v8ASPjfZYbuv+dPSPjfZYbuv+dB9QRfL/SPjfZYbuv+dPSPjfZYbuv+dB9QRfL/AEj432WG7r/nT0j432WG7r/nQfUEXy/0j432WG7r/nT0j432WG7r/nQfUEXy/wBI+N9lhu6/509I+N9lhu6/50H1BF8v9I+N9lhu6/509I+N9lhu6/50H1BF8v8ASPjfZYbuv+dPSPjfZYbuv+dB9QRfL/SPjfZYbuv+dPSPjfZYbuv+dB9KxR+yqf0n8l4g4V9d7Y0BJc7YJEfqqqp/8iYxzS00sPBBHqv2/wB6hUfphiGNLRTo315LvmTIme/hJ38ezoYRtNuVoksAudq6hodcGCvEeeWJ5lHSPVd8yx544nmUe675l6IvSPDjNLS90HkajsUThzHltECnMv1I2DavJeemJ5lHuu+Zc3/S2u7WnQP9rvmSeJVI4cvTUazDam4lkAw7UHaF04hzzDQSTsC8bU+kVYkENptI5oPZqpo+muJDS1tOg2dS1rpPxzLzzETLtG4vW4elhqz2veMxYJIuJJPJtuXRwFovuXjn8O1XOzFlOeo/uulP6SV2/hpnrB/ddNrmM8svT1sEXSQbneoFRpa4giCqwfSzEcyl3XfMuWI+kdapEspCNwd+6xaK/jUc36p0RFGhERAREQEREBERAREQEREBERAREQEREBERAREQEREBERAREQEREBERAREQEREBERAREQEREBERAREQEREBERAREQEREBERAREQEREBERAREQEREBERAREQEREBERAREQEREBERAREQEREBERAREQEREBERAREQEREBERAREQEREBERAREQEREBERAREQEREBERAREQEREBERAREQEREBERAREQEREBERAREQEREBERAREQEREBERAREQEREBERAREQEREBERAREQEREBERAREQEREBERAREQEREBERAREQf//Z\n"
                },
                "metadata": {}
              }
            ]
          }
        },
        "230cc332160e40c8aa142360aff95a9f": {
          "model_module": "@jupyter-widgets/base",
          "model_name": "LayoutModel",
          "model_module_version": "1.2.0",
          "state": {
            "_model_module": "@jupyter-widgets/base",
            "_model_module_version": "1.2.0",
            "_model_name": "LayoutModel",
            "_view_count": null,
            "_view_module": "@jupyter-widgets/base",
            "_view_module_version": "1.2.0",
            "_view_name": "LayoutView",
            "align_content": null,
            "align_items": null,
            "align_self": null,
            "border": null,
            "bottom": null,
            "display": null,
            "flex": null,
            "flex_flow": null,
            "grid_area": null,
            "grid_auto_columns": null,
            "grid_auto_flow": null,
            "grid_auto_rows": null,
            "grid_column": null,
            "grid_gap": null,
            "grid_row": null,
            "grid_template_areas": null,
            "grid_template_columns": null,
            "grid_template_rows": null,
            "height": null,
            "justify_content": null,
            "justify_items": null,
            "left": null,
            "margin": null,
            "max_height": null,
            "max_width": null,
            "min_height": null,
            "min_width": null,
            "object_fit": null,
            "object_position": null,
            "order": null,
            "overflow": null,
            "overflow_x": null,
            "overflow_y": null,
            "padding": null,
            "right": null,
            "top": null,
            "visibility": null,
            "width": null
          }
        }
      }
    }
  },
  "cells": [
    {
      "cell_type": "markdown",
      "metadata": {
        "id": "view-in-github",
        "colab_type": "text"
      },
      "source": [
        "<a href=\"https://colab.research.google.com/github/DL4CV-NPTEL/Deep-Learning-For-Computer-Vision/blob/main/notebooks/Week_1/Week_1_Lecture_2.ipynb\" target=\"_parent\"><img src=\"https://colab.research.google.com/assets/colab-badge.svg\" alt=\"Open In Colab\"/></a>"
      ]
    },
    {
      "cell_type": "markdown",
      "source": [
        "# Lecture 2: History"
      ],
      "metadata": {
        "id": "3JdIPfdtt2TU"
      }
    },
    {
      "cell_type": "code",
      "source": [
        "#@title \n",
        "from ipywidgets import widgets\n",
        "out1 = widgets.Output()\n",
        "with out1:\n",
        "  from IPython.display import YouTubeVideo\n",
        "  video = YouTubeVideo(id=f\"1u4eOUXSlx4\", width=854, height=480, fs=1, rel=0)\n",
        "  print(\"Video available at https://youtube.com/watch?v=\" + video.id)\n",
        "  display(video)\n",
        "display(out1)"
      ],
      "metadata": {
        "colab": {
          "base_uri": "https://localhost:8080/",
          "height": 519,
          "referenced_widgets": [
            "0a49affd2d0f45e29d2e2684d8e4f5da",
            "230cc332160e40c8aa142360aff95a9f"
          ]
        },
        "cellView": "form",
        "id": "rA0FZ1_3t3nO",
        "outputId": "81314e5e-d585-4f5f-8cad-624b486c6317"
      },
      "execution_count": 1,
      "outputs": [
        {
          "output_type": "display_data",
          "data": {
            "text/plain": [
              "Output()"
            ],
            "application/vnd.jupyter.widget-view+json": {
              "version_major": 2,
              "version_minor": 0,
              "model_id": "0a49affd2d0f45e29d2e2684d8e4f5da"
            }
          },
          "metadata": {}
        }
      ]
    },
    {
      "cell_type": "code",
      "source": [
        "#@title \n",
        "from IPython import display as IPyDisplay\n",
        "IPyDisplay.HTML(\n",
        "    f\"\"\"\n",
        "  <div>\n",
        "    <a href= \"https://github.com/DL4CV-NPTEL/Deep-Learning-For-Computer-Vision/blob/main/Slides/Week_1/DL4CV_Week01_Part02.pdf\" target=\"_blank\">\n",
        "    <img src=\"https://github.com/DL4CV-NPTEL/Deep-Learning-For-Computer-Vision/blob/main/Data/Slides_Logo.png?raw=1\"\n",
        "  alt=\"button link to Airtable\" style=\"width:200px\"></a>\n",
        "    </div>\"\"\" )"
      ],
      "metadata": {
        "colab": {
          "base_uri": "https://localhost:8080/",
          "height": 100
        },
        "cellView": "form",
        "id": "WrHo4zh4t_Km",
        "outputId": "525707cc-b403-4db7-a9c6-2dc2807e748b"
      },
      "execution_count": 2,
      "outputs": [
        {
          "output_type": "execute_result",
          "data": {
            "text/plain": [
              "<IPython.core.display.HTML object>"
            ],
            "text/html": [
              "\n",
              "  <div>\n",
              "    <a href= \"https://github.com/DL4CV-NPTEL/Deep-Learning-For-Computer-Vision/blob/main/Slides/Week_1/DL4CV_Week01_Part02.pdf\" target=\"_blank\">\n",
              "    <img src=\"https://github.com/DL4CV-NPTEL/Deep-Learning-For-Computer-Vision/blob/main/Data/Slides_Logo.png?raw=1\"\n",
              "  alt=\"button link to Airtable\" style=\"width:200px\"></a>\n",
              "    </div>"
            ]
          },
          "metadata": {},
          "execution_count": 2
        }
      ]
    },
    {
      "cell_type": "code",
      "source": [
        ""
      ],
      "metadata": {
        "id": "wvT7F0cyuLI4"
      },
      "execution_count": null,
      "outputs": []
    }
  ]
}