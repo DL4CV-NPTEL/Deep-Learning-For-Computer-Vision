{
  "nbformat": 4,
  "nbformat_minor": 0,
  "metadata": {
    "colab": {
      "name": "Week_1_Lecture 4_Image_Representation.ipynb",
      "provenance": [],
      "authorship_tag": "ABX9TyO+lEi4y8TzDwYL7maMCqqG",
      "include_colab_link": true
    },
    "kernelspec": {
      "name": "python3",
      "display_name": "Python 3"
    },
    "language_info": {
      "name": "python"
    },
    "widgets": {
      "application/vnd.jupyter.widget-state+json": {
        "b5a75cb6dcb04cc584494f1a5a88735f": {
          "model_module": "@jupyter-widgets/output",
          "model_name": "OutputModel",
          "model_module_version": "1.0.0",
          "state": {
            "_dom_classes": [],
            "_model_module": "@jupyter-widgets/output",
            "_model_module_version": "1.0.0",
            "_model_name": "OutputModel",
            "_view_count": null,
            "_view_module": "@jupyter-widgets/output",
            "_view_module_version": "1.0.0",
            "_view_name": "OutputView",
            "layout": "IPY_MODEL_5c0c8887612e4e85a1d038e10dde1d33",
            "msg_id": "",
            "outputs": [
              {
                "output_type": "stream",
                "name": "stdout",
                "text": [
                  "Video available at https://youtube.com/watch?v=PyoJdMrUMqI\n"
                ]
              },
              {
                "output_type": "display_data",
                "data": {
                  "text/plain": "<IPython.lib.display.YouTubeVideo at 0x7f4709874990>",
                  "text/html": "\n        <iframe\n            width=\"854\"\n            height=\"480\"\n            src=\"https://www.youtube.com/embed/PyoJdMrUMqI?fs=1&rel=0\"\n            frameborder=\"0\"\n            allowfullscreen\n        ></iframe>\n        ",
                  "image/jpeg": "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\n"
                },
                "metadata": {}
              }
            ]
          }
        },
        "5c0c8887612e4e85a1d038e10dde1d33": {
          "model_module": "@jupyter-widgets/base",
          "model_name": "LayoutModel",
          "model_module_version": "1.2.0",
          "state": {
            "_model_module": "@jupyter-widgets/base",
            "_model_module_version": "1.2.0",
            "_model_name": "LayoutModel",
            "_view_count": null,
            "_view_module": "@jupyter-widgets/base",
            "_view_module_version": "1.2.0",
            "_view_name": "LayoutView",
            "align_content": null,
            "align_items": null,
            "align_self": null,
            "border": null,
            "bottom": null,
            "display": null,
            "flex": null,
            "flex_flow": null,
            "grid_area": null,
            "grid_auto_columns": null,
            "grid_auto_flow": null,
            "grid_auto_rows": null,
            "grid_column": null,
            "grid_gap": null,
            "grid_row": null,
            "grid_template_areas": null,
            "grid_template_columns": null,
            "grid_template_rows": null,
            "height": null,
            "justify_content": null,
            "justify_items": null,
            "left": null,
            "margin": null,
            "max_height": null,
            "max_width": null,
            "min_height": null,
            "min_width": null,
            "object_fit": null,
            "object_position": null,
            "order": null,
            "overflow": null,
            "overflow_x": null,
            "overflow_y": null,
            "padding": null,
            "right": null,
            "top": null,
            "visibility": null,
            "width": null
          }
        }
      }
    }
  },
  "cells": [
    {
      "cell_type": "markdown",
      "metadata": {
        "id": "view-in-github",
        "colab_type": "text"
      },
      "source": [
        "<a href=\"https://colab.research.google.com/github/DL4CV-NPTEL/Deep-Learning-For-Computer-Vision/blob/main/notebooks/Week_1_Lecture_4_Image_Representation.ipynb\" target=\"_parent\"><img src=\"https://colab.research.google.com/assets/colab-badge.svg\" alt=\"Open In Colab\"/></a>"
      ]
    },
    {
      "cell_type": "code",
      "execution_count": null,
      "metadata": {
        "colab": {
          "base_uri": "https://localhost:8080/",
          "height": 519,
          "referenced_widgets": [
            "b5a75cb6dcb04cc584494f1a5a88735f",
            "5c0c8887612e4e85a1d038e10dde1d33"
          ]
        },
        "id": "pz7OMau0j48G",
        "outputId": "6fefb168-adb2-411c-bb61-a096b64c5e62"
      },
      "outputs": [
        {
          "output_type": "display_data",
          "data": {
            "text/plain": [
              "Output()"
            ],
            "application/vnd.jupyter.widget-view+json": {
              "version_major": 2,
              "version_minor": 0,
              "model_id": "b5a75cb6dcb04cc584494f1a5a88735f"
            }
          },
          "metadata": {}
        }
      ],
      "source": [
        "#@title Week 1 Lecture 4 : Image Representation\n",
        "from ipywidgets import widgets\n",
        "out1 = widgets.Output()\n",
        "with out1:\n",
        "  from IPython.display import YouTubeVideo\n",
        "  video = YouTubeVideo(id=f\"PyoJdMrUMqI\", width=854, height=480, fs=1, rel=0)\n",
        "  print(\"Video available at https://youtube.com/watch?v=\" + video.id)\n",
        "  display(video)\n",
        "display(out1)"
      ]
    },
    {
      "cell_type": "markdown",
      "source": [
        "# Image as a matrix"
      ],
      "metadata": {
        "id": "23eaSMoLs-cP"
      }
    },
    {
      "cell_type": "code",
      "source": [
        "import cv2\n",
        "from skimage import io\n",
        "import numpy as np\n",
        "import matplotlib.pyplot as plt"
      ],
      "metadata": {
        "id": "FyKrRwF3mfZ8"
      },
      "execution_count": null,
      "outputs": []
    },
    {
      "cell_type": "code",
      "source": [
        ""
      ],
      "metadata": {
        "id": "u31h8Crot-hN"
      },
      "execution_count": null,
      "outputs": []
    },
    {
      "cell_type": "code",
      "source": [
        ""
      ],
      "metadata": {
        "id": "mfEIQ3CIt-dY"
      },
      "execution_count": null,
      "outputs": []
    },
    {
      "cell_type": "code",
      "source": [
        ""
      ],
      "metadata": {
        "id": "wMrbQla1t-Vq"
      },
      "execution_count": null,
      "outputs": []
    },
    {
      "cell_type": "markdown",
      "source": [
        "---\n",
        "# Image as a Function"
      ],
      "metadata": {
        "id": "UazKtEpwtHZW"
      }
    },
    {
      "cell_type": "code",
      "source": [
        ""
      ],
      "metadata": {
        "id": "FKYYMwZgtMuf"
      },
      "execution_count": null,
      "outputs": []
    }
  ]
}
