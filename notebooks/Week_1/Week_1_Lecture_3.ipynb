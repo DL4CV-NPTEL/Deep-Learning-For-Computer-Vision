{
  "nbformat": 4,
  "nbformat_minor": 0,
  "metadata": {
    "colab": {
      "name": "Week_1_Lecture_3.ipynb",
      "provenance": [],
      "include_colab_link": true
    },
    "kernelspec": {
      "name": "python3",
      "display_name": "Python 3"
    },
    "language_info": {
      "name": "python"
    },
    "widgets": {
      "application/vnd.jupyter.widget-state+json": {
        "4c03c8fcaa7e4ebc9165604034362ea4": {
          "model_module": "@jupyter-widgets/output",
          "model_name": "OutputModel",
          "model_module_version": "1.0.0",
          "state": {
            "_dom_classes": [],
            "_model_module": "@jupyter-widgets/output",
            "_model_module_version": "1.0.0",
            "_model_name": "OutputModel",
            "_view_count": null,
            "_view_module": "@jupyter-widgets/output",
            "_view_module_version": "1.0.0",
            "_view_name": "OutputView",
            "layout": "IPY_MODEL_0ed1096c4e2342b7ba57c8a3aad35cbe",
            "msg_id": "",
            "outputs": [
              {
                "output_type": "stream",
                "name": "stdout",
                "text": [
                  "Video available at https://youtube.com/watch?v=4pbPQwA1m0o\n"
                ]
              },
              {
                "output_type": "display_data",
                "data": {
                  "text/plain": "<IPython.lib.display.YouTubeVideo at 0x7fa0b9baae90>",
                  "text/html": "\n        <iframe\n            width=\"854\"\n            height=\"480\"\n            src=\"https://www.youtube.com/embed/4pbPQwA1m0o?fs=1&rel=0\"\n            frameborder=\"0\"\n            allowfullscreen\n        ></iframe>\n        ",
                  "image/jpeg": "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\n"
                },
                "metadata": {}
              }
            ]
          }
        },
        "0ed1096c4e2342b7ba57c8a3aad35cbe": {
          "model_module": "@jupyter-widgets/base",
          "model_name": "LayoutModel",
          "model_module_version": "1.2.0",
          "state": {
            "_model_module": "@jupyter-widgets/base",
            "_model_module_version": "1.2.0",
            "_model_name": "LayoutModel",
            "_view_count": null,
            "_view_module": "@jupyter-widgets/base",
            "_view_module_version": "1.2.0",
            "_view_name": "LayoutView",
            "align_content": null,
            "align_items": null,
            "align_self": null,
            "border": null,
            "bottom": null,
            "display": null,
            "flex": null,
            "flex_flow": null,
            "grid_area": null,
            "grid_auto_columns": null,
            "grid_auto_flow": null,
            "grid_auto_rows": null,
            "grid_column": null,
            "grid_gap": null,
            "grid_row": null,
            "grid_template_areas": null,
            "grid_template_columns": null,
            "grid_template_rows": null,
            "height": null,
            "justify_content": null,
            "justify_items": null,
            "left": null,
            "margin": null,
            "max_height": null,
            "max_width": null,
            "min_height": null,
            "min_width": null,
            "object_fit": null,
            "object_position": null,
            "order": null,
            "overflow": null,
            "overflow_x": null,
            "overflow_y": null,
            "padding": null,
            "right": null,
            "top": null,
            "visibility": null,
            "width": null
          }
        }
      }
    }
  },
  "cells": [
    {
      "cell_type": "markdown",
      "metadata": {
        "id": "view-in-github",
        "colab_type": "text"
      },
      "source": [
        "<a href=\"https://colab.research.google.com/github/DL4CV-NPTEL/Deep-Learning-For-Computer-Vision/blob/main/notebooks/Week_1/Week_1_Lecture_3.ipynb\" target=\"_parent\"><img src=\"https://colab.research.google.com/assets/colab-badge.svg\" alt=\"Open In Colab\"/></a>"
      ]
    },
    {
      "cell_type": "markdown",
      "source": [
        "# Lecture 3: Image Formation"
      ],
      "metadata": {
        "id": "3JdIPfdtt2TU"
      }
    },
    {
      "cell_type": "code",
      "source": [
        "#@title \n",
        "from ipywidgets import widgets\n",
        "out1 = widgets.Output()\n",
        "with out1:\n",
        "  from IPython.display import YouTubeVideo\n",
        "  video = YouTubeVideo(id=f\"4pbPQwA1m0o\", width=854, height=480, fs=1, rel=0)\n",
        "  print(\"Video available at https://youtube.com/watch?v=\" + video.id)\n",
        "  display(video)\n",
        "display(out1)"
      ],
      "metadata": {
        "colab": {
          "base_uri": "https://localhost:8080/",
          "height": 519,
          "referenced_widgets": [
            "4c03c8fcaa7e4ebc9165604034362ea4",
            "0ed1096c4e2342b7ba57c8a3aad35cbe"
          ]
        },
        "cellView": "form",
        "id": "rA0FZ1_3t3nO",
        "outputId": "9c3994f7-18a4-4de4-848f-ad1d01a476f7"
      },
      "execution_count": 3,
      "outputs": [
        {
          "output_type": "display_data",
          "data": {
            "text/plain": [
              "Output()"
            ],
            "application/vnd.jupyter.widget-view+json": {
              "version_major": 2,
              "version_minor": 0,
              "model_id": "4c03c8fcaa7e4ebc9165604034362ea4"
            }
          },
          "metadata": {}
        }
      ]
    },
    {
      "cell_type": "code",
      "source": [
        "#@title \n",
        "from IPython import display as IPyDisplay\n",
        "IPyDisplay.HTML(\n",
        "    f\"\"\"\n",
        "  <div>\n",
        "    <a href= \"https://github.com/DL4CV-NPTEL/Deep-Learning-For-Computer-Vision/blob/main/Slides/Week_1/DL4CV_Week01_Part03.pdf\" target=\"_blank\">\n",
        "    <img src=\"https://github.com/DL4CV-NPTEL/Deep-Learning-For-Computer-Vision/blob/main/Data/Slides_Logo.png?raw=1\"\n",
        "  alt=\"button link to Airtable\" style=\"width:200px\"></a>\n",
        "    </div>\"\"\" )"
      ],
      "metadata": {
        "colab": {
          "base_uri": "https://localhost:8080/",
          "height": 100
        },
        "cellView": "form",
        "id": "WrHo4zh4t_Km",
        "outputId": "cdaf3985-c6c5-4c42-b19e-94af61b9af65"
      },
      "execution_count": 4,
      "outputs": [
        {
          "output_type": "execute_result",
          "data": {
            "text/plain": [
              "<IPython.core.display.HTML object>"
            ],
            "text/html": [
              "\n",
              "  <div>\n",
              "    <a href= \"https://github.com/DL4CV-NPTEL/Deep-Learning-For-Computer-Vision/blob/main/Slides/Week_1/DL4CV_Week01_Part03.pdf\" target=\"_blank\">\n",
              "    <img src=\"https://github.com/DL4CV-NPTEL/Deep-Learning-For-Computer-Vision/blob/main/Data/Slides_Logo.png?raw=1\"\n",
              "  alt=\"button link to Airtable\" style=\"width:200px\"></a>\n",
              "    </div>"
            ]
          },
          "metadata": {},
          "execution_count": 4
        }
      ]
    },
    {
      "cell_type": "code",
      "source": [
        ""
      ],
      "metadata": {
        "id": "wvT7F0cyuLI4"
      },
      "execution_count": null,
      "outputs": []
    }
  ]
}