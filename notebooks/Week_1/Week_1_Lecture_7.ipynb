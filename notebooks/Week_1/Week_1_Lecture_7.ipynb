{
  "nbformat": 4,
  "nbformat_minor": 0,
  "metadata": {
    "colab": {
      "name": "Week_1_Lecture_7.ipynb",
      "provenance": [],
      "include_colab_link": true
    },
    "kernelspec": {
      "name": "python3",
      "display_name": "Python 3"
    },
    "language_info": {
      "name": "python"
    },
    "widgets": {
      "application/vnd.jupyter.widget-state+json": {
        "9d193b3a1e404484a85dbd6dd0ce71b3": {
          "model_module": "@jupyter-widgets/output",
          "model_name": "OutputModel",
          "model_module_version": "1.0.0",
          "state": {
            "_dom_classes": [],
            "_model_module": "@jupyter-widgets/output",
            "_model_module_version": "1.0.0",
            "_model_name": "OutputModel",
            "_view_count": null,
            "_view_module": "@jupyter-widgets/output",
            "_view_module_version": "1.0.0",
            "_view_name": "OutputView",
            "layout": "IPY_MODEL_accbfb10007c4cdca496559f11f8bdc0",
            "msg_id": "",
            "outputs": [
              {
                "output_type": "stream",
                "name": "stdout",
                "text": [
                  "Video available at https://youtube.com/watch?v=nfEaPWZ_dRQ\n"
                ]
              },
              {
                "output_type": "display_data",
                "data": {
                  "text/plain": "<IPython.lib.display.YouTubeVideo at 0x7fa0b5c867d0>",
                  "text/html": "\n        <iframe\n            width=\"854\"\n            height=\"480\"\n            src=\"https://www.youtube.com/embed/nfEaPWZ_dRQ?fs=1&rel=0\"\n            frameborder=\"0\"\n            allowfullscreen\n        ></iframe>\n        ",
                  "image/jpeg": "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\n"
                },
                "metadata": {}
              }
            ]
          }
        },
        "accbfb10007c4cdca496559f11f8bdc0": {
          "model_module": "@jupyter-widgets/base",
          "model_name": "LayoutModel",
          "model_module_version": "1.2.0",
          "state": {
            "_model_module": "@jupyter-widgets/base",
            "_model_module_version": "1.2.0",
            "_model_name": "LayoutModel",
            "_view_count": null,
            "_view_module": "@jupyter-widgets/base",
            "_view_module_version": "1.2.0",
            "_view_name": "LayoutView",
            "align_content": null,
            "align_items": null,
            "align_self": null,
            "border": null,
            "bottom": null,
            "display": null,
            "flex": null,
            "flex_flow": null,
            "grid_area": null,
            "grid_auto_columns": null,
            "grid_auto_flow": null,
            "grid_auto_rows": null,
            "grid_column": null,
            "grid_gap": null,
            "grid_row": null,
            "grid_template_areas": null,
            "grid_template_columns": null,
            "grid_template_rows": null,
            "height": null,
            "justify_content": null,
            "justify_items": null,
            "left": null,
            "margin": null,
            "max_height": null,
            "max_width": null,
            "min_height": null,
            "min_width": null,
            "object_fit": null,
            "object_position": null,
            "order": null,
            "overflow": null,
            "overflow_x": null,
            "overflow_y": null,
            "padding": null,
            "right": null,
            "top": null,
            "visibility": null,
            "width": null
          }
        }
      }
    }
  },
  "cells": [
    {
      "cell_type": "markdown",
      "metadata": {
        "id": "view-in-github",
        "colab_type": "text"
      },
      "source": [
        "<a href=\"https://colab.research.google.com/github/DL4CV-NPTEL/Deep-Learning-For-Computer-Vision/blob/main/notebooks/Week_1/Week_1_Lecture_7.ipynb\" target=\"_parent\"><img src=\"https://colab.research.google.com/assets/colab-badge.svg\" alt=\"Open In Colab\"/></a>"
      ]
    },
    {
      "cell_type": "markdown",
      "source": [
        "# Lecture 7: Image Sampling"
      ],
      "metadata": {
        "id": "3JdIPfdtt2TU"
      }
    },
    {
      "cell_type": "code",
      "source": [
        "#@title \n",
        "from ipywidgets import widgets\n",
        "out1 = widgets.Output()\n",
        "with out1:\n",
        "  from IPython.display import YouTubeVideo\n",
        "  video = YouTubeVideo(id=f\"nfEaPWZ_dRQ\", width=854, height=480, fs=1, rel=0)\n",
        "  print(\"Video available at https://youtube.com/watch?v=\" + video.id)\n",
        "  display(video)\n",
        "display(out1)"
      ],
      "metadata": {
        "colab": {
          "base_uri": "https://localhost:8080/",
          "height": 519,
          "referenced_widgets": [
            "9d193b3a1e404484a85dbd6dd0ce71b3",
            "accbfb10007c4cdca496559f11f8bdc0"
          ]
        },
        "cellView": "form",
        "id": "rA0FZ1_3t3nO",
        "outputId": "bb79dd61-e260-4e4f-b362-ee2588b1a325"
      },
      "execution_count": 13,
      "outputs": [
        {
          "output_type": "display_data",
          "data": {
            "text/plain": [
              "Output()"
            ],
            "application/vnd.jupyter.widget-view+json": {
              "version_major": 2,
              "version_minor": 0,
              "model_id": "9d193b3a1e404484a85dbd6dd0ce71b3"
            }
          },
          "metadata": {}
        }
      ]
    },
    {
      "cell_type": "code",
      "source": [
        "#@title \n",
        "from IPython import display as IPyDisplay\n",
        "IPyDisplay.HTML(\n",
        "    f\"\"\"\n",
        "  <div>\n",
        "    <a href= \"https://github.com/DL4CV-NPTEL/Deep-Learning-For-Computer-Vision/blob/main/Slides/Week_1/DL4CV_Week01_Part07.pdf\" target=\"_blank\">\n",
        "    <img src=\"https://github.com/DL4CV-NPTEL/Deep-Learning-For-Computer-Vision/blob/main/Data/Slides_Logo.png?raw=1\"\n",
        "  alt=\"button link to Airtable\" style=\"width:200px\"></a>\n",
        "    </div>\"\"\" )"
      ],
      "metadata": {
        "colab": {
          "base_uri": "https://localhost:8080/",
          "height": 100
        },
        "cellView": "form",
        "id": "WrHo4zh4t_Km",
        "outputId": "e51b8b92-6927-4541-83e2-45e907982945"
      },
      "execution_count": 14,
      "outputs": [
        {
          "output_type": "execute_result",
          "data": {
            "text/plain": [
              "<IPython.core.display.HTML object>"
            ],
            "text/html": [
              "\n",
              "  <div>\n",
              "    <a href= \"https://github.com/DL4CV-NPTEL/Deep-Learning-For-Computer-Vision/blob/main/Slides/Week_1/DL4CV_Week01_Part07.pdf\" target=\"_blank\">\n",
              "    <img src=\"https://github.com/DL4CV-NPTEL/Deep-Learning-For-Computer-Vision/blob/main/Data/Slides_Logo.png?raw=1\"\n",
              "  alt=\"button link to Airtable\" style=\"width:200px\"></a>\n",
              "    </div>"
            ]
          },
          "metadata": {},
          "execution_count": 14
        }
      ]
    },
    {
      "cell_type": "code",
      "source": [
        ""
      ],
      "metadata": {
        "id": "wvT7F0cyuLI4"
      },
      "execution_count": null,
      "outputs": []
    }
  ]
}