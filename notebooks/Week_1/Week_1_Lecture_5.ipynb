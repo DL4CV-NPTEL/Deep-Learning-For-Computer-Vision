{
  "nbformat": 4,
  "nbformat_minor": 0,
  "metadata": {
    "colab": {
      "name": "Week_1_Lecture_5.ipynb",
      "provenance": [],
      "include_colab_link": true
    },
    "kernelspec": {
      "name": "python3",
      "display_name": "Python 3"
    },
    "language_info": {
      "name": "python"
    },
    "widgets": {
      "application/vnd.jupyter.widget-state+json": {
        "ceee0ef9217d4891a7ea306eaa76c1e8": {
          "model_module": "@jupyter-widgets/output",
          "model_name": "OutputModel",
          "model_module_version": "1.0.0",
          "state": {
            "_dom_classes": [],
            "_model_module": "@jupyter-widgets/output",
            "_model_module_version": "1.0.0",
            "_model_name": "OutputModel",
            "_view_count": null,
            "_view_module": "@jupyter-widgets/output",
            "_view_module_version": "1.0.0",
            "_view_name": "OutputView",
            "layout": "IPY_MODEL_b75af1bb0212426aa753fcd2b4ceb55b",
            "msg_id": "",
            "outputs": [
              {
                "output_type": "stream",
                "name": "stdout",
                "text": [
                  "Video available at https://youtube.com/watch?v=LiuMJvpSbOU\n"
                ]
              },
              {
                "output_type": "display_data",
                "data": {
                  "text/plain": "<IPython.lib.display.YouTubeVideo at 0x7ff1ee242ed0>",
                  "text/html": "\n        <iframe\n            width=\"854\"\n            height=\"480\"\n            src=\"https://www.youtube.com/embed/LiuMJvpSbOU?fs=1&rel=0\"\n            frameborder=\"0\"\n            allowfullscreen\n        ></iframe>\n        ",
                  "image/jpeg": "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\n"
                },
                "metadata": {}
              }
            ]
          }
        },
        "b75af1bb0212426aa753fcd2b4ceb55b": {
          "model_module": "@jupyter-widgets/base",
          "model_name": "LayoutModel",
          "model_module_version": "1.2.0",
          "state": {
            "_model_module": "@jupyter-widgets/base",
            "_model_module_version": "1.2.0",
            "_model_name": "LayoutModel",
            "_view_count": null,
            "_view_module": "@jupyter-widgets/base",
            "_view_module_version": "1.2.0",
            "_view_name": "LayoutView",
            "align_content": null,
            "align_items": null,
            "align_self": null,
            "border": null,
            "bottom": null,
            "display": null,
            "flex": null,
            "flex_flow": null,
            "grid_area": null,
            "grid_auto_columns": null,
            "grid_auto_flow": null,
            "grid_auto_rows": null,
            "grid_column": null,
            "grid_gap": null,
            "grid_row": null,
            "grid_template_areas": null,
            "grid_template_columns": null,
            "grid_template_rows": null,
            "height": null,
            "justify_content": null,
            "justify_items": null,
            "left": null,
            "margin": null,
            "max_height": null,
            "max_width": null,
            "min_height": null,
            "min_width": null,
            "object_fit": null,
            "object_position": null,
            "order": null,
            "overflow": null,
            "overflow_x": null,
            "overflow_y": null,
            "padding": null,
            "right": null,
            "top": null,
            "visibility": null,
            "width": null
          }
        }
      }
    }
  },
  "cells": [
    {
      "cell_type": "markdown",
      "metadata": {
        "id": "view-in-github",
        "colab_type": "text"
      },
      "source": [
        "<a href=\"https://colab.research.google.com/github/DL4CV-NPTEL/Deep-Learning-For-Computer-Vision/blob/main/notebooks/Week_1/Week_1_Lecture_5.ipynb\" target=\"_parent\"><img src=\"https://colab.research.google.com/assets/colab-badge.svg\" alt=\"Open In Colab\"/></a>"
      ]
    },
    {
      "cell_type": "markdown",
      "source": [
        "# Lecture 5: Linear Filtering, Correlation, Convolution <sup><mark style=\"background-color:gold\">Code</mark> </sup>"
      ],
      "metadata": {
        "id": "3JdIPfdtt2TU"
      }
    },
    {
      "cell_type": "code",
      "source": [
        "#@title \n",
        "from ipywidgets import widgets\n",
        "out1 = widgets.Output()\n",
        "with out1:\n",
        "  from IPython.display import YouTubeVideo\n",
        "  video = YouTubeVideo(id=f\"LiuMJvpSbOU\", width=854, height=480, fs=1, rel=0)\n",
        "  print(\"Video available at https://youtube.com/watch?v=\" + video.id)\n",
        "  display(video)\n",
        "display(out1)"
      ],
      "metadata": {
        "colab": {
          "base_uri": "https://localhost:8080/",
          "height": 519,
          "referenced_widgets": [
            "ceee0ef9217d4891a7ea306eaa76c1e8",
            "b75af1bb0212426aa753fcd2b4ceb55b"
          ]
        },
        "id": "rA0FZ1_3t3nO",
        "outputId": "8d243780-1504-46f4-e070-8a16884699ff",
        "cellView": "form"
      },
      "execution_count": 1,
      "outputs": [
        {
          "output_type": "display_data",
          "data": {
            "text/plain": [
              "Output()"
            ],
            "application/vnd.jupyter.widget-view+json": {
              "version_major": 2,
              "version_minor": 0,
              "model_id": "ceee0ef9217d4891a7ea306eaa76c1e8"
            }
          },
          "metadata": {}
        }
      ]
    },
    {
      "cell_type": "code",
      "source": [
        "#@title \n",
        "from IPython import display as IPyDisplay\n",
        "IPyDisplay.HTML(\n",
        "    f\"\"\"\n",
        "  <div>\n",
        "    <a href= \"https://github.com/DL4CV-NPTEL/Deep-Learning-For-Computer-Vision/blob/main/Slides/Week_1/DL4CV_Week01_Part05.pdf\" target=\"_blank\">\n",
        "    <img src=\"https://github.com/DL4CV-NPTEL/Deep-Learning-For-Computer-Vision/blob/main/Data/Slides_Logo.png?raw=1\"\n",
        "  alt=\"button link to Airtable\" style=\"width:200px\"></a>\n",
        "    </div>\"\"\" )"
      ],
      "metadata": {
        "colab": {
          "base_uri": "https://localhost:8080/",
          "height": 100
        },
        "cellView": "form",
        "id": "WrHo4zh4t_Km",
        "outputId": "11249adf-0e32-4feb-f7b1-81cf9b4e1892"
      },
      "execution_count": 2,
      "outputs": [
        {
          "output_type": "execute_result",
          "data": {
            "text/plain": [
              "<IPython.core.display.HTML object>"
            ],
            "text/html": [
              "\n",
              "  <div>\n",
              "    <a href= \"https://github.com/DL4CV-NPTEL/Deep-Learning-For-Computer-Vision/blob/main/Slides/Week_1/DL4CV_Week01_Part05.pdf\" target=\"_blank\">\n",
              "    <img src=\"https://github.com/DL4CV-NPTEL/Deep-Learning-For-Computer-Vision/blob/main/Data/Slides_Logo.png?raw=1\"\n",
              "  alt=\"button link to Airtable\" style=\"width:200px\"></a>\n",
              "    </div>"
            ]
          },
          "metadata": {},
          "execution_count": 2
        }
      ]
    },
    {
      "cell_type": "code",
      "source": [
        ""
      ],
      "metadata": {
        "id": "wvT7F0cyuLI4"
      },
      "execution_count": 2,
      "outputs": []
    },
    {
      "cell_type": "markdown",
      "source": [
        "# Cross- Correlation vs Convolution (using Impulse signal)"
      ],
      "metadata": {
        "id": "NL6439ZzWb9j"
      }
    },
    {
      "cell_type": "markdown",
      "source": [
        "**Import libraries**"
      ],
      "metadata": {
        "id": "Q34zVJhrWr1G"
      }
    },
    {
      "cell_type": "code",
      "source": [
        "import numpy as np\n",
        "import matplotlib.pyplot as plt"
      ],
      "metadata": {
        "id": "M26ELnVjNcQV"
      },
      "execution_count": 3,
      "outputs": []
    },
    {
      "cell_type": "markdown",
      "source": [
        "**Create a black image with a single white pixel in the middle**"
      ],
      "metadata": {
        "id": "r3MyYtSqWx0k"
      }
    },
    {
      "cell_type": "code",
      "source": [
        "img = np.zeros((7,7))\n",
        "img[3,3] = 1\n",
        "img"
      ],
      "metadata": {
        "colab": {
          "base_uri": "https://localhost:8080/"
        },
        "id": "MVL27j-2OCBn",
        "outputId": "6c475f18-9ab9-4fc1-fb13-995a154e437e"
      },
      "execution_count": 4,
      "outputs": [
        {
          "output_type": "execute_result",
          "data": {
            "text/plain": [
              "array([[0., 0., 0., 0., 0., 0., 0.],\n",
              "       [0., 0., 0., 0., 0., 0., 0.],\n",
              "       [0., 0., 0., 0., 0., 0., 0.],\n",
              "       [0., 0., 0., 1., 0., 0., 0.],\n",
              "       [0., 0., 0., 0., 0., 0., 0.],\n",
              "       [0., 0., 0., 0., 0., 0., 0.],\n",
              "       [0., 0., 0., 0., 0., 0., 0.]])"
            ]
          },
          "metadata": {},
          "execution_count": 4
        }
      ]
    },
    {
      "cell_type": "markdown",
      "source": [
        "**Plot the image**"
      ],
      "metadata": {
        "id": "qVhJJfcmW-Ce"
      }
    },
    {
      "cell_type": "code",
      "source": [
        "plt.imshow(img,cmap='gray')"
      ],
      "metadata": {
        "colab": {
          "base_uri": "https://localhost:8080/",
          "height": 283
        },
        "id": "PJQciW8gOQcf",
        "outputId": "84c8b672-e56c-41ae-af51-0c8a3ef1043c"
      },
      "execution_count": 5,
      "outputs": [
        {
          "output_type": "execute_result",
          "data": {
            "text/plain": [
              "<matplotlib.image.AxesImage at 0x7ff1ea387bd0>"
            ]
          },
          "metadata": {},
          "execution_count": 5
        },
        {
          "output_type": "display_data",
          "data": {
            "text/plain": [
              "<Figure size 432x288 with 1 Axes>"
            ],
            "image/png": "[encoded data removed]"
          },
          "metadata": {
            "needs_background": "light"
          }
        }
      ]
    },
    {
      "cell_type": "markdown",
      "source": [
        "**Create a filter that goes from black to white using np.linspace**"
      ],
      "metadata": {
        "id": "vDTssyhjXNZ0"
      }
    },
    {
      "cell_type": "code",
      "source": [
        "filter_ = np.linspace(0,1,9).reshape(3,3)\n",
        "filter_"
      ],
      "metadata": {
        "colab": {
          "base_uri": "https://localhost:8080/"
        },
        "id": "dyP5jlOJNgN4",
        "outputId": "0931ac7a-e577-4dcc-e10a-8425e88132ca"
      },
      "execution_count": 6,
      "outputs": [
        {
          "output_type": "execute_result",
          "data": {
            "text/plain": [
              "array([[0.   , 0.125, 0.25 ],\n",
              "       [0.375, 0.5  , 0.625],\n",
              "       [0.75 , 0.875, 1.   ]])"
            ]
          },
          "metadata": {},
          "execution_count": 6
        }
      ]
    },
    {
      "cell_type": "markdown",
      "source": [
        "**Plot the filter**"
      ],
      "metadata": {
        "id": "-RMWyBRyXWKr"
      }
    },
    {
      "cell_type": "code",
      "source": [
        "plt.imshow(filter_,cmap='gray')"
      ],
      "metadata": {
        "colab": {
          "base_uri": "https://localhost:8080/",
          "height": 287
        },
        "id": "pjB3V8YUNwB2",
        "outputId": "3057ed10-bbe2-4301-e4a8-2b455e680c1c"
      },
      "execution_count": 7,
      "outputs": [
        {
          "output_type": "execute_result",
          "data": {
            "text/plain": [
              "<matplotlib.image.AxesImage at 0x7ff1e9e46050>"
            ]
          },
          "metadata": {},
          "execution_count": 7
        },
        {
          "output_type": "display_data",
          "data": {
            "text/plain": [
              "<Figure size 432x288 with 1 Axes>"
            ],
            "image/png": "[encoded data removed]"
          },
          "metadata": {
            "needs_background": "light"
          }
        }
      ]
    },
    {
      "cell_type": "markdown",
      "source": [
        "**Store the filter size and compute value of k** <br>\n",
        "You can obtain k from the following equation $2*k+1=filter\\_size$"
      ],
      "metadata": {
        "id": "XxzZT0CyXf_j"
      }
    },
    {
      "cell_type": "code",
      "source": [
        "filter_size = filter_.shape[0]\n",
        "k = int((filter_size - 1)/2)"
      ],
      "metadata": {
        "id": "iVD_nkd3Os5k"
      },
      "execution_count": 8,
      "outputs": []
    },
    {
      "cell_type": "markdown",
      "source": [
        "## Cross Correlation"
      ],
      "metadata": {
        "id": "-V5GPZRzYAwa"
      }
    },
    {
      "cell_type": "markdown",
      "source": [
        "**Empty list to store output image**"
      ],
      "metadata": {
        "id": "VuntNowQYFGS"
      }
    },
    {
      "cell_type": "code",
      "source": [
        "corr_out = []"
      ],
      "metadata": {
        "id": "WriQybsKPtS8"
      },
      "execution_count": 9,
      "outputs": []
    },
    {
      "cell_type": "markdown",
      "source": [
        "**Compute cross-correlation**"
      ],
      "metadata": {
        "id": "9TzK1A6RYLPp"
      }
    },
    {
      "cell_type": "code",
      "source": [
        "for i in range(k,img.shape[0]-k):\n",
        "  temp = []\n",
        "  for j in range(k,img.shape[1]-k):\n",
        "    mat = img[i-k:i+k+1,j-k:j+k+1]\n",
        "    temp.append(np.sum(filter_ * mat))\n",
        "  corr_out.append(temp)  "
      ],
      "metadata": {
        "id": "Ev5WkcY1PMj6"
      },
      "execution_count": 10,
      "outputs": []
    },
    {
      "cell_type": "markdown",
      "source": [
        "**Print shape of output image**"
      ],
      "metadata": {
        "id": "rfVbzwnAYRqJ"
      }
    },
    {
      "cell_type": "code",
      "source": [
        "corr_out = np.array(corr_out)\n",
        "corr_out.shape"
      ],
      "metadata": {
        "colab": {
          "base_uri": "https://localhost:8080/"
        },
        "id": "Z5KQP4DIPV3b",
        "outputId": "ec4ece52-bbac-4a67-f712-8db95302082d"
      },
      "execution_count": 11,
      "outputs": [
        {
          "output_type": "execute_result",
          "data": {
            "text/plain": [
              "(5, 5)"
            ]
          },
          "metadata": {},
          "execution_count": 11
        }
      ]
    },
    {
      "cell_type": "markdown",
      "source": [
        "**Print values of output image**"
      ],
      "metadata": {
        "id": "wXu82ehAYYXZ"
      }
    },
    {
      "cell_type": "code",
      "source": [
        "corr_out"
      ],
      "metadata": {
        "colab": {
          "base_uri": "https://localhost:8080/"
        },
        "id": "dnPtvQloTM5b",
        "outputId": "0bf1da7b-7309-4b34-db48-612abe329c85"
      },
      "execution_count": 12,
      "outputs": [
        {
          "output_type": "execute_result",
          "data": {
            "text/plain": [
              "array([[0.   , 0.   , 0.   , 0.   , 0.   ],\n",
              "       [0.   , 1.   , 0.875, 0.75 , 0.   ],\n",
              "       [0.   , 0.625, 0.5  , 0.375, 0.   ],\n",
              "       [0.   , 0.25 , 0.125, 0.   , 0.   ],\n",
              "       [0.   , 0.   , 0.   , 0.   , 0.   ]])"
            ]
          },
          "metadata": {},
          "execution_count": 12
        }
      ]
    },
    {
      "cell_type": "markdown",
      "source": [
        "**Plot the output image** <br>\n",
        "You will notice that the output is flipped"
      ],
      "metadata": {
        "id": "iU1NcORqYcPh"
      }
    },
    {
      "cell_type": "code",
      "source": [
        "plt.imshow(corr_out,cmap='gray')"
      ],
      "metadata": {
        "colab": {
          "base_uri": "https://localhost:8080/",
          "height": 283
        },
        "id": "urlenb58TUD7",
        "outputId": "7389579e-5222-4175-9fda-7be691cd4bc1"
      },
      "execution_count": 13,
      "outputs": [
        {
          "output_type": "execute_result",
          "data": {
            "text/plain": [
              "<matplotlib.image.AxesImage at 0x7ff1e9dc0490>"
            ]
          },
          "metadata": {},
          "execution_count": 13
        },
        {
          "output_type": "display_data",
          "data": {
            "text/plain": [
              "<Figure size 432x288 with 1 Axes>"
            ],
            "image/png": "[encoded data removed]"
          },
          "metadata": {
            "needs_background": "light"
          }
        }
      ]
    },
    {
      "cell_type": "markdown",
      "source": [
        "## Convolution"
      ],
      "metadata": {
        "id": "HvBP5K1vZ2qJ"
      }
    },
    {
      "cell_type": "markdown",
      "source": [
        "**Empty list to store output image**"
      ],
      "metadata": {
        "id": "L6uFDMN9Z8UR"
      }
    },
    {
      "cell_type": "code",
      "source": [
        "conv_out = []"
      ],
      "metadata": {
        "id": "yFwxDgwbTYFU"
      },
      "execution_count": 14,
      "outputs": []
    },
    {
      "cell_type": "markdown",
      "source": [
        "**Compute convolution**"
      ],
      "metadata": {
        "id": "DbYnONZZZ_nX"
      }
    },
    {
      "cell_type": "code",
      "source": [
        "for i in range(k,img.shape[0]-k):\n",
        "  temp = []\n",
        "  for j in range(k,img.shape[1]-k):\n",
        "    mat = img[i-k:i+k+1,j-k:j+k+1][::-1,::-1]    # You can also use np.flip\n",
        "    temp.append(np.sum(filter_ * mat))\n",
        "  conv_out.append(temp)  "
      ],
      "metadata": {
        "id": "lid4Zo2QTioR"
      },
      "execution_count": 15,
      "outputs": []
    },
    {
      "cell_type": "markdown",
      "source": [
        "**Print shape of output image**"
      ],
      "metadata": {
        "id": "f0kNn1ULaH6d"
      }
    },
    {
      "cell_type": "code",
      "source": [
        "conv_out = np.array(conv_out)\n",
        "conv_out.shape"
      ],
      "metadata": {
        "colab": {
          "base_uri": "https://localhost:8080/"
        },
        "id": "fbtshSZtTtYi",
        "outputId": "712f71e4-e184-4204-bbe1-79bb34f6790a"
      },
      "execution_count": 16,
      "outputs": [
        {
          "output_type": "execute_result",
          "data": {
            "text/plain": [
              "(5, 5)"
            ]
          },
          "metadata": {},
          "execution_count": 16
        }
      ]
    },
    {
      "cell_type": "markdown",
      "source": [
        "**Print values of output image**"
      ],
      "metadata": {
        "id": "BPtUJTWeaNzw"
      }
    },
    {
      "cell_type": "code",
      "source": [
        "conv_out"
      ],
      "metadata": {
        "colab": {
          "base_uri": "https://localhost:8080/"
        },
        "id": "9yfVHzjEVgUM",
        "outputId": "5534d5cd-e452-4165-ebbb-3034c9f7bf9e"
      },
      "execution_count": 17,
      "outputs": [
        {
          "output_type": "execute_result",
          "data": {
            "text/plain": [
              "array([[0.   , 0.   , 0.   , 0.   , 0.   ],\n",
              "       [0.   , 0.   , 0.125, 0.25 , 0.   ],\n",
              "       [0.   , 0.375, 0.5  , 0.625, 0.   ],\n",
              "       [0.   , 0.75 , 0.875, 1.   , 0.   ],\n",
              "       [0.   , 0.   , 0.   , 0.   , 0.   ]])"
            ]
          },
          "metadata": {},
          "execution_count": 17
        }
      ]
    },
    {
      "cell_type": "markdown",
      "source": [
        "**Plot the output image** <br>\n",
        "You will notice that output is not flipped for convolution"
      ],
      "metadata": {
        "id": "240LrAL8aTFZ"
      }
    },
    {
      "cell_type": "code",
      "source": [
        "plt.imshow(conv_out,cmap='gray')"
      ],
      "metadata": {
        "colab": {
          "base_uri": "https://localhost:8080/",
          "height": 283
        },
        "id": "cjSetEFEViXA",
        "outputId": "c013b94d-9c37-40ff-b4e5-53f48d4c67d8"
      },
      "execution_count": 18,
      "outputs": [
        {
          "output_type": "execute_result",
          "data": {
            "text/plain": [
              "<matplotlib.image.AxesImage at 0x7ff1e9d2a390>"
            ]
          },
          "metadata": {},
          "execution_count": 18
        },
        {
          "output_type": "display_data",
          "data": {
            "text/plain": [
              "<Figure size 432x288 with 1 Axes>"
            ],
            "image/png": "[encoded data removed]"
          },
          "metadata": {
            "needs_background": "light"
          }
        }
      ]
    },
    {
      "cell_type": "markdown",
      "source": [
        "# Seperable Convolution"
      ],
      "metadata": {
        "id": "obQJGDhRc_8h"
      }
    },
    {
      "cell_type": "markdown",
      "source": [
        "**Initialize a 7x7 random image**"
      ],
      "metadata": {
        "id": "TAbji0SidMHZ"
      }
    },
    {
      "cell_type": "code",
      "source": [
        "img = np.random.randint(0,256,(7,7))\n",
        "img"
      ],
      "metadata": {
        "id": "QqdxgQLKVl0Z",
        "colab": {
          "base_uri": "https://localhost:8080/"
        },
        "outputId": "750c4c98-37fa-4f4a-ebdf-53d1617014bc"
      },
      "execution_count": 19,
      "outputs": [
        {
          "output_type": "execute_result",
          "data": {
            "text/plain": [
              "array([[137, 132,  67, 220, 218,  28, 191],\n",
              "       [176, 202, 250,  90,  82, 109,  79],\n",
              "       [217, 252, 177, 192, 196, 226, 155],\n",
              "       [ 78, 100, 196,  67, 113, 139, 104],\n",
              "       [165,   6, 242, 104, 213, 189,  85],\n",
              "       [119,  93, 150,  61,  77, 167,  33],\n",
              "       [ 47, 139,  59,  11, 182, 152, 180]])"
            ]
          },
          "metadata": {},
          "execution_count": 19
        }
      ]
    },
    {
      "cell_type": "markdown",
      "source": [
        "**Plot the image**"
      ],
      "metadata": {
        "id": "xgszudmQdVE0"
      }
    },
    {
      "cell_type": "code",
      "source": [
        "plt.imshow(img,cmap='gray')"
      ],
      "metadata": {
        "colab": {
          "base_uri": "https://localhost:8080/",
          "height": 283
        },
        "id": "bBxl_reHCYYS",
        "outputId": "3418a30b-35bd-46ad-c6cf-3b25c64ce1d5"
      },
      "execution_count": 20,
      "outputs": [
        {
          "output_type": "execute_result",
          "data": {
            "text/plain": [
              "<matplotlib.image.AxesImage at 0x7ff1e9d07990>"
            ]
          },
          "metadata": {},
          "execution_count": 20
        },
        {
          "output_type": "display_data",
          "data": {
            "text/plain": [
              "<Figure size 432x288 with 1 Axes>"
            ],
            "image/png": "[encoded data removed]"
          },
          "metadata": {
            "needs_background": "light"
          }
        }
      ]
    },
    {
      "cell_type": "markdown",
      "source": [
        "## 2D Gaussian kernel"
      ],
      "metadata": {
        "id": "6fo5ekk3dbzX"
      }
    },
    {
      "cell_type": "markdown",
      "source": [
        "**Initialize a 2D Gaussian kernel**"
      ],
      "metadata": {
        "id": "-wuF0NOCdmiW"
      }
    },
    {
      "cell_type": "code",
      "source": [
        "gaussian_filter_2d =  np.array([[1,2,1],\n",
        "                              [2,4,2],\n",
        "                              [1,2,1]])\n",
        "\n",
        "gaussian_filter_2d = gaussian_filter_2d/16 \n",
        "gaussian_filter_2d"
      ],
      "metadata": {
        "colab": {
          "base_uri": "https://localhost:8080/"
        },
        "id": "lLNw1COGCr5J",
        "outputId": "0ac99a8d-d3ed-4315-de94-06f98a20cf42"
      },
      "execution_count": 21,
      "outputs": [
        {
          "output_type": "execute_result",
          "data": {
            "text/plain": [
              "array([[0.0625, 0.125 , 0.0625],\n",
              "       [0.125 , 0.25  , 0.125 ],\n",
              "       [0.0625, 0.125 , 0.0625]])"
            ]
          },
          "metadata": {},
          "execution_count": 21
        }
      ]
    },
    {
      "cell_type": "markdown",
      "source": [
        "**Plot the 2D Gaussian kernel**"
      ],
      "metadata": {
        "id": "VF43mPgsdvXJ"
      }
    },
    {
      "cell_type": "code",
      "source": [
        "plt.imshow(gaussian_filter_2d,cmap='gray')"
      ],
      "metadata": {
        "colab": {
          "base_uri": "https://localhost:8080/",
          "height": 287
        },
        "id": "G3IjkT0VDF8I",
        "outputId": "2cbdfa03-15bf-46d4-f9e9-7a328f907883"
      },
      "execution_count": 22,
      "outputs": [
        {
          "output_type": "execute_result",
          "data": {
            "text/plain": [
              "<matplotlib.image.AxesImage at 0x7ff1ea35db90>"
            ]
          },
          "metadata": {},
          "execution_count": 22
        },
        {
          "output_type": "display_data",
          "data": {
            "text/plain": [
              "<Figure size 432x288 with 1 Axes>"
            ],
            "image/png": "[encoded data removed]"
          },
          "metadata": {
            "needs_background": "light"
          }
        }
      ]
    },
    {
      "cell_type": "markdown",
      "source": [
        "**Store the filter size and compute value of k** <br>\n",
        "You can obtain k from the following equation $2*k+1=filter\\_size$"
      ],
      "metadata": {
        "id": "uYmhKYLZeKVF"
      }
    },
    {
      "cell_type": "code",
      "source": [
        "filter_size = gaussian_filter_2d.shape[0]\n",
        "k = int((filter_size - 1)/2)"
      ],
      "metadata": {
        "id": "MQZSXz4VD60f"
      },
      "execution_count": 23,
      "outputs": []
    },
    {
      "cell_type": "markdown",
      "source": [
        "**Empty list to store output image after applying 2D Gaussian kernel**"
      ],
      "metadata": {
        "id": "qfeJ-ZJhexyX"
      }
    },
    {
      "cell_type": "code",
      "source": [
        "gaussian_2d_out = []"
      ],
      "metadata": {
        "id": "bTEIpJ55DdvH"
      },
      "execution_count": 24,
      "outputs": []
    },
    {
      "cell_type": "markdown",
      "source": [
        "**Apply convolution/cross-correlation on the image using 2D Gaussian kernel.**<br>\n",
        "Since the kernel is symmetric, convolutiona as well as cross-correlation will yield the same output"
      ],
      "metadata": {
        "id": "8Zhi5zfHPu6A"
      }
    },
    {
      "cell_type": "code",
      "source": [
        "for i in range(k,img.shape[0]-k):\n",
        "  temp = []\n",
        "  for j in range(k,img.shape[1]-k):\n",
        "    mat = img[i-k:i+k+1,j-k:j+k+1]\n",
        "    temp.append(np.sum(gaussian_filter_2d * mat))\n",
        "  gaussian_2d_out.append(temp) "
      ],
      "metadata": {
        "id": "6B6zupSbDyQo"
      },
      "execution_count": 25,
      "outputs": []
    },
    {
      "cell_type": "markdown",
      "source": [
        "**Print output image values after applying 2D Gaussian kernel**"
      ],
      "metadata": {
        "id": "lngAqp3QQK3Z"
      }
    },
    {
      "cell_type": "code",
      "source": [
        "gaussian_2d_out"
      ],
      "metadata": {
        "colab": {
          "base_uri": "https://localhost:8080/"
        },
        "id": "5SwnJacYETz3",
        "outputId": "7ebe10f3-2bbf-4238-9ca0-d4cb836d2b37"
      },
      "execution_count": 26,
      "outputs": [
        {
          "output_type": "execute_result",
          "data": {
            "text/plain": [
              "[[189.125, 179.25, 156.625, 138.75, 126.625],\n",
              " [193.75, 184.1875, 154.3125, 150.9375, 155.0],\n",
              " [141.5625, 156.875, 144.125, 149.5625, 154.3125],\n",
              " [110.4375, 137.5625, 132.375, 140.75, 143.1875],\n",
              " [107.0625, 110.625, 101.5, 125.625, 139.375]]"
            ]
          },
          "metadata": {},
          "execution_count": 26
        }
      ]
    },
    {
      "cell_type": "markdown",
      "source": [
        "## 1D Gaussian kernels"
      ],
      "metadata": {
        "id": "OQ3-Ub9FQcOk"
      }
    },
    {
      "cell_type": "markdown",
      "source": [
        "**Horizontal Gaussian kernel**"
      ],
      "metadata": {
        "id": "PLxsVWI6QtH5"
      }
    },
    {
      "cell_type": "code",
      "source": [
        "gaussian_filter_1d_horizontal = np.array([1,2,1])/4\n",
        "gaussian_filter_1d_horizontal"
      ],
      "metadata": {
        "colab": {
          "base_uri": "https://localhost:8080/"
        },
        "id": "V78E3rroFIGO",
        "outputId": "42ed4e27-234c-419b-bea5-9366c50c58a0"
      },
      "execution_count": 27,
      "outputs": [
        {
          "output_type": "execute_result",
          "data": {
            "text/plain": [
              "array([0.25, 0.5 , 0.25])"
            ]
          },
          "metadata": {},
          "execution_count": 27
        }
      ]
    },
    {
      "cell_type": "markdown",
      "source": [
        "**Vertical Gaussian kernel**"
      ],
      "metadata": {
        "id": "w81U0NptQx3b"
      }
    },
    {
      "cell_type": "code",
      "source": [
        "gaussian_filter_1d_vertical = np.array([1,2,1])/4\n",
        "gaussian_filter_1d_vertical"
      ],
      "metadata": {
        "colab": {
          "base_uri": "https://localhost:8080/"
        },
        "id": "hC3sSMo2Feu2",
        "outputId": "475fb19e-8ae9-4840-dc97-a0a85d10fe4f"
      },
      "execution_count": 28,
      "outputs": [
        {
          "output_type": "execute_result",
          "data": {
            "text/plain": [
              "array([0.25, 0.5 , 0.25])"
            ]
          },
          "metadata": {},
          "execution_count": 28
        }
      ]
    },
    {
      "cell_type": "markdown",
      "source": [
        "**Empty list to store intermediate and final output image after applying the horizontal and vertical kernel**"
      ],
      "metadata": {
        "id": "67YVe7EEQ9RA"
      }
    },
    {
      "cell_type": "code",
      "source": [
        "gaussian_1d_out_intermediate = []\n",
        "gaussian_1d_out = []"
      ],
      "metadata": {
        "id": "RIw9vHbZLQzG"
      },
      "execution_count": 29,
      "outputs": []
    },
    {
      "cell_type": "markdown",
      "source": [
        "**Apply the horizontal kernel on the image**<br>\n",
        "Since the kernel is a 1x3 kernel, the number of rows in the output image are not downsampled as opposed to the previous code snippets where both height(rows) and width(columns) were downsampled. The for loop range will be changed accordingly."
      ],
      "metadata": {
        "id": "N7ZLVgPUVrQX"
      }
    },
    {
      "cell_type": "code",
      "source": [
        "for i in range(k,img.shape[0]+1):\n",
        "  temp = []\n",
        "  for j in range(k,img.shape[1]-k):\n",
        "    vec = img[i-k,j-k:j+k+1]    # You can also use np.flip\n",
        "    temp.append(np.sum(gaussian_filter_1d_horizontal * vec))\n",
        "  gaussian_1d_out_intermediate.append(temp) "
      ],
      "metadata": {
        "id": "AMZ2bwUdFlwW"
      },
      "execution_count": 30,
      "outputs": []
    },
    {
      "cell_type": "markdown",
      "source": [
        "**Print the intermediate output after applying the 1D horizontal kernel**<br>\n",
        "As expected, the width of the intermediate output has reduced  since the kernel has 3 columns but the height is same as the original image since the kernel has only one row."
      ],
      "metadata": {
        "id": "ZMusDCFChuZB"
      }
    },
    {
      "cell_type": "code",
      "source": [
        "gaussian_1d_out_intermediate = np.array(gaussian_1d_out_intermediate)\n",
        "gaussian_1d_out_intermediate "
      ],
      "metadata": {
        "colab": {
          "base_uri": "https://localhost:8080/"
        },
        "id": "_yGE1H0TMlft",
        "outputId": "3c8701ce-d50a-499a-ba45-1f3640a99e51"
      },
      "execution_count": 31,
      "outputs": [
        {
          "output_type": "execute_result",
          "data": {
            "text/plain": [
              "array([[117.  , 121.5 , 181.25, 171.  , 116.25],\n",
              "       [207.5 , 198.  , 128.  ,  90.75,  94.75],\n",
              "       [224.5 , 199.5 , 189.25, 202.5 , 200.75],\n",
              "       [118.5 , 139.75, 110.75, 108.  , 123.75],\n",
              "       [104.75, 148.5 , 165.75, 179.75, 169.  ],\n",
              "       [113.75, 113.5 ,  87.25,  95.5 , 111.  ],\n",
              "       [ 96.  ,  67.  ,  65.75, 131.75, 166.5 ]])"
            ]
          },
          "metadata": {},
          "execution_count": 31
        }
      ]
    },
    {
      "cell_type": "markdown",
      "source": [
        "**Apply the vertical kernel on the intermediate image obtained by applying the horizontal kernel in the above snippet**<br>\n",
        "Since the kernel is a 3x1 kernel, the number of columns in the output image are not downsampled after applying the kernel on intermediate image. The for loop range will be changed accordingly."
      ],
      "metadata": {
        "id": "72BkQdppieYW"
      }
    },
    {
      "cell_type": "code",
      "source": [
        "for i in range(k,gaussian_1d_out_intermediate.shape[0]-k):\n",
        "  temp = []\n",
        "  for j in range(k,gaussian_1d_out_intermediate.shape[1]+1):\n",
        "    vec = gaussian_1d_out_intermediate[i-k:i+k+1,j-k]     \n",
        "    temp.append(np.sum(gaussian_filter_1d_vertical * vec))\n",
        "  gaussian_1d_out.append(temp) "
      ],
      "metadata": {
        "id": "0wzWqm7rNT7T"
      },
      "execution_count": 32,
      "outputs": []
    },
    {
      "cell_type": "markdown",
      "source": [
        "**Print the output obtained by applying 1D kernels**"
      ],
      "metadata": {
        "id": "NLOjcHXljTjd"
      }
    },
    {
      "cell_type": "code",
      "source": [
        "gaussian_1d_out"
      ],
      "metadata": {
        "colab": {
          "base_uri": "https://localhost:8080/"
        },
        "id": "LUP5-qxpNt4E",
        "outputId": "c08faf86-3fe8-4db0-ee86-134be059deb4"
      },
      "execution_count": 33,
      "outputs": [
        {
          "output_type": "execute_result",
          "data": {
            "text/plain": [
              "[[189.125, 179.25, 156.625, 138.75, 126.625],\n",
              " [193.75, 184.1875, 154.3125, 150.9375, 155.0],\n",
              " [141.5625, 156.875, 144.125, 149.5625, 154.3125],\n",
              " [110.4375, 137.5625, 132.375, 140.75, 143.1875],\n",
              " [107.0625, 110.625, 101.5, 125.625, 139.375]]"
            ]
          },
          "metadata": {},
          "execution_count": 33
        }
      ]
    },
    {
      "cell_type": "markdown",
      "source": [
        "**Print the output which was obtained earlier by applying 2D Gaussian kernel**<br>\n",
        "You will notice that the output is exactly same as the output obtained by applying 1D kernels. This means that the Gaussian kernel is seperable and can be computed by two 1D kernels."
      ],
      "metadata": {
        "id": "HHK6BrgvjcA5"
      }
    },
    {
      "cell_type": "code",
      "source": [
        "gaussian_2d_out"
      ],
      "metadata": {
        "colab": {
          "base_uri": "https://localhost:8080/"
        },
        "id": "TPWJkwvLWTdr",
        "outputId": "9d185638-93ab-4c9b-b73a-26d5fe5e7c67"
      },
      "execution_count": 34,
      "outputs": [
        {
          "output_type": "execute_result",
          "data": {
            "text/plain": [
              "[[189.125, 179.25, 156.625, 138.75, 126.625],\n",
              " [193.75, 184.1875, 154.3125, 150.9375, 155.0],\n",
              " [141.5625, 156.875, 144.125, 149.5625, 154.3125],\n",
              " [110.4375, 137.5625, 132.375, 140.75, 143.1875],\n",
              " [107.0625, 110.625, 101.5, 125.625, 139.375]]"
            ]
          },
          "metadata": {},
          "execution_count": 34
        }
      ]
    },
    {
      "cell_type": "code",
      "source": [
        ""
      ],
      "metadata": {
        "id": "uQgT4WuAWVhy"
      },
      "execution_count": 34,
      "outputs": []
    }
  ]
}