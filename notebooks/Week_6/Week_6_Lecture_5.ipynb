{
  "nbformat": 4,
  "nbformat_minor": 0,
  "metadata": {
    "colab": {
      "name": "Week_6_Lecture_5.ipynb",
      "provenance": [],
      "include_colab_link": true
    },
    "kernelspec": {
      "name": "python3",
      "display_name": "Python 3"
    },
    "language_info": {
      "name": "python"
    },
    "widgets": {
      "application/vnd.jupyter.widget-state+json": {
        "120b190392e84bba9073dd34e92d0172": {
          "model_module": "@jupyter-widgets/output",
          "model_name": "OutputModel",
          "model_module_version": "1.0.0",
          "state": {
            "_dom_classes": [],
            "_model_module": "@jupyter-widgets/output",
            "_model_module_version": "1.0.0",
            "_model_name": "OutputModel",
            "_view_count": null,
            "_view_module": "@jupyter-widgets/output",
            "_view_module_version": "1.0.0",
            "_view_name": "OutputView",
            "layout": "IPY_MODEL_82dfe39c751d4728898dad45b05947b8",
            "msg_id": "",
            "outputs": [
              {
                "output_type": "stream",
                "name": "stdout",
                "text": [
                  "Video available at https://youtube.com/watch?v=9OzwN-Ub6Lg\n"
                ]
              },
              {
                "output_type": "display_data",
                "data": {
                  "text/plain": "<IPython.lib.display.YouTubeVideo at 0x7f2eac52da90>",
                  "text/html": "\n        <iframe\n            width=\"854\"\n            height=\"480\"\n            src=\"https://www.youtube.com/embed/9OzwN-Ub6Lg?fs=1&rel=0\"\n            frameborder=\"0\"\n            allowfullscreen\n        ></iframe>\n        ",
                  "image/jpeg": "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\n"
                },
                "metadata": {}
              }
            ]
          }
        },
        "82dfe39c751d4728898dad45b05947b8": {
          "model_module": "@jupyter-widgets/base",
          "model_name": "LayoutModel",
          "model_module_version": "1.2.0",
          "state": {
            "_model_module": "@jupyter-widgets/base",
            "_model_module_version": "1.2.0",
            "_model_name": "LayoutModel",
            "_view_count": null,
            "_view_module": "@jupyter-widgets/base",
            "_view_module_version": "1.2.0",
            "_view_name": "LayoutView",
            "align_content": null,
            "align_items": null,
            "align_self": null,
            "border": null,
            "bottom": null,
            "display": null,
            "flex": null,
            "flex_flow": null,
            "grid_area": null,
            "grid_auto_columns": null,
            "grid_auto_flow": null,
            "grid_auto_rows": null,
            "grid_column": null,
            "grid_gap": null,
            "grid_row": null,
            "grid_template_areas": null,
            "grid_template_columns": null,
            "grid_template_rows": null,
            "height": null,
            "justify_content": null,
            "justify_items": null,
            "left": null,
            "margin": null,
            "max_height": null,
            "max_width": null,
            "min_height": null,
            "min_width": null,
            "object_fit": null,
            "object_position": null,
            "order": null,
            "overflow": null,
            "overflow_x": null,
            "overflow_y": null,
            "padding": null,
            "right": null,
            "top": null,
            "visibility": null,
            "width": null
          }
        }
      }
    }
  },
  "cells": [
    {
      "cell_type": "markdown",
      "metadata": {
        "id": "view-in-github",
        "colab_type": "text"
      },
      "source": [
        "<a href=\"https://colab.research.google.com/github/DL4CV-NPTEL/Deep-Learning-For-Computer-Vision/blob/main/notebooks/Week_6/Week_6_Lecture_5.ipynb\" target=\"_parent\"><img src=\"https://colab.research.google.com/assets/colab-badge.svg\" alt=\"Open In Colab\"/></a>"
      ]
    },
    {
      "cell_type": "markdown",
      "source": [
        "# Lecture 5: Explaining CNNs: Recent Methods - Part 02\n",
        "\n"
      ],
      "metadata": {
        "id": "5p8aGbdxc1Nz"
      }
    },
    {
      "cell_type": "code",
      "execution_count": null,
      "metadata": {
        "colab": {
          "base_uri": "https://localhost:8080/",
          "height": 519,
          "referenced_widgets": [
            "120b190392e84bba9073dd34e92d0172",
            "82dfe39c751d4728898dad45b05947b8"
          ]
        },
        "id": "W5BZQI44cxz_",
        "outputId": "87f80aa8-17ed-403d-a916-7440624431e9",
        "cellView": "form"
      },
      "outputs": [
        {
          "output_type": "display_data",
          "data": {
            "text/plain": [
              "Output()"
            ],
            "application/vnd.jupyter.widget-view+json": {
              "version_major": 2,
              "version_minor": 0,
              "model_id": "120b190392e84bba9073dd34e92d0172"
            }
          },
          "metadata": {}
        }
      ],
      "source": [
        "#@title \n",
        "from ipywidgets import widgets\n",
        "out1 = widgets.Output()\n",
        "with out1:\n",
        "  from IPython.display import YouTubeVideo\n",
        "  video = YouTubeVideo(id=f\"9OzwN-Ub6Lg\", width=854, height=480, fs=1, rel=0)\n",
        "  print(\"Video available at https://youtube.com/watch?v=\" + video.id)\n",
        "  display(video)\n",
        "display(out1)"
      ]
    },
    {
      "cell_type": "code",
      "source": [
        "#@title \n",
        "from IPython import display as IPyDisplay\n",
        "IPyDisplay.HTML(\n",
        "    f\"\"\"\n",
        "  <div>\n",
        "    <a href= \"https://github.com/DL4CV-NPTEL/Deep-Learning-For-Computer-Vision/blob/main/Slides/Week_6/DL4CV_Week06_Part04.pdf\" target=\"_blank\">\n",
        "    <img src=\"https://github.com/DL4CV-NPTEL/Deep-Learning-For-Computer-Vision/blob/main/Data/Slides_Logo.png?raw=1\"\n",
        "  alt=\"button link to Airtable\" style=\"width:200px\"></a>\n",
        "    </div>\"\"\" )"
      ],
      "metadata": {
        "colab": {
          "base_uri": "https://localhost:8080/",
          "height": 100
        },
        "id": "bJQjZzwxdQch",
        "outputId": "e9d56268-5458-4710-9640-d8e0ba0b78ac",
        "cellView": "form"
      },
      "execution_count": 1,
      "outputs": [
        {
          "output_type": "execute_result",
          "data": {
            "text/plain": [
              "<IPython.core.display.HTML object>"
            ],
            "text/html": [
              "\n",
              "  <div>\n",
              "    <a href= \"https://github.com/DL4CV-NPTEL/Deep-Learning-For-Computer-Vision/blob/main/Slides/Week_6/DL4CV_Week06_Part04.pdf\" target=\"_blank\">\n",
              "    <img src=\"https://github.com/DL4CV-NPTEL/Deep-Learning-For-Computer-Vision/blob/main/Data/Slides_Logo.png?raw=1\"\n",
              "  alt=\"button link to Airtable\" style=\"width:200px\"></a>\n",
              "    </div>"
            ]
          },
          "metadata": {},
          "execution_count": 1
        }
      ]
    }
  ]
}