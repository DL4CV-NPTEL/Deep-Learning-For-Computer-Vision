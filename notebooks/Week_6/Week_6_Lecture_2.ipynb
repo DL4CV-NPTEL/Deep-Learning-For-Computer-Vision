{
  "nbformat": 4,
  "nbformat_minor": 0,
  "metadata": {
    "colab": {
      "provenance": [],
      "include_colab_link": true
    },
    "kernelspec": {
      "name": "python3",
      "display_name": "Python 3"
    },
    "language_info": {
      "name": "python"
    },
    "widgets": {
      "application/vnd.jupyter.widget-state+json": {
        "fa7f838f8d2c4510a8d1435cb490ba48": {
          "model_module": "@jupyter-widgets/output",
          "model_name": "OutputModel",
          "model_module_version": "1.0.0",
          "state": {
            "_dom_classes": [],
            "_model_module": "@jupyter-widgets/output",
            "_model_module_version": "1.0.0",
            "_model_name": "OutputModel",
            "_view_count": null,
            "_view_module": "@jupyter-widgets/output",
            "_view_module_version": "1.0.0",
            "_view_name": "OutputView",
            "layout": "IPY_MODEL_adbe21486bc5447a9711e4028707d64a",
            "msg_id": "",
            "outputs": [
              {
                "output_type": "stream",
                "name": "stdout",
                "text": [
                  "Video available at https://youtube.com/watch?v=a4TDSLGhKi8\n"
                ]
              },
              {
                "output_type": "display_data",
                "data": {
                  "text/plain": "<IPython.lib.display.YouTubeVideo at 0x7efeb56d6ed0>",
                  "text/html": "\n        <iframe\n            width=\"854\"\n            height=\"480\"\n            src=\"https://www.youtube.com/embed/a4TDSLGhKi8?fs=1&rel=0\"\n            frameborder=\"0\"\n            allowfullscreen\n        ></iframe>\n        ",
                  "image/jpeg": "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\n"
                },
                "metadata": {}
              }
            ]
          }
        },
        "adbe21486bc5447a9711e4028707d64a": {
          "model_module": "@jupyter-widgets/base",
          "model_name": "LayoutModel",
          "model_module_version": "1.2.0",
          "state": {
            "_model_module": "@jupyter-widgets/base",
            "_model_module_version": "1.2.0",
            "_model_name": "LayoutModel",
            "_view_count": null,
            "_view_module": "@jupyter-widgets/base",
            "_view_module_version": "1.2.0",
            "_view_name": "LayoutView",
            "align_content": null,
            "align_items": null,
            "align_self": null,
            "border": null,
            "bottom": null,
            "display": null,
            "flex": null,
            "flex_flow": null,
            "grid_area": null,
            "grid_auto_columns": null,
            "grid_auto_flow": null,
            "grid_auto_rows": null,
            "grid_column": null,
            "grid_gap": null,
            "grid_row": null,
            "grid_template_areas": null,
            "grid_template_columns": null,
            "grid_template_rows": null,
            "height": null,
            "justify_content": null,
            "justify_items": null,
            "left": null,
            "margin": null,
            "max_height": null,
            "max_width": null,
            "min_height": null,
            "min_width": null,
            "object_fit": null,
            "object_position": null,
            "order": null,
            "overflow": null,
            "overflow_x": null,
            "overflow_y": null,
            "padding": null,
            "right": null,
            "top": null,
            "visibility": null,
            "width": null
          }
        }
      }
    }
  },
  "cells": [
    {
      "cell_type": "markdown",
      "metadata": {
        "id": "view-in-github",
        "colab_type": "text"
      },
      "source": [
        "<a href=\"https://colab.research.google.com/github/DL4CV-NPTEL/Deep-Learning-For-Computer-Vision/blob/main/notebooks/Week_6/Week_6_Lecture_2.ipynb\" target=\"_parent\"><img src=\"https://colab.research.google.com/assets/colab-badge.svg\" alt=\"Open In Colab\"/></a>"
      ]
    },
    {
      "cell_type": "markdown",
      "source": [
        "# Lecture 2: Explaining CNNs: Early Methods\n",
        "\n"
      ],
      "metadata": {
        "id": "5p8aGbdxc1Nz"
      }
    },
    {
      "cell_type": "code",
      "execution_count": null,
      "metadata": {
        "colab": {
          "base_uri": "https://localhost:8080/",
          "height": 519,
          "referenced_widgets": [
            "fa7f838f8d2c4510a8d1435cb490ba48",
            "adbe21486bc5447a9711e4028707d64a"
          ]
        },
        "id": "W5BZQI44cxz_",
        "outputId": "5fa3833c-318d-4d1c-b5d9-d17ff333ba7f",
        "cellView": "form"
      },
      "outputs": [
        {
          "output_type": "display_data",
          "data": {
            "text/plain": [
              "Output()"
            ],
            "application/vnd.jupyter.widget-view+json": {
              "version_major": 2,
              "version_minor": 0,
              "model_id": "fa7f838f8d2c4510a8d1435cb490ba48"
            }
          },
          "metadata": {}
        }
      ],
      "source": [
        "#@title \n",
        "from ipywidgets import widgets\n",
        "out1 = widgets.Output()\n",
        "with out1:\n",
        "  from IPython.display import YouTubeVideo\n",
        "  video = YouTubeVideo(id=f\"a4TDSLGhKi8\", width=854, height=480, fs=1, rel=0)\n",
        "  print(\"Video available at https://youtube.com/watch?v=\" + video.id)\n",
        "  display(video)\n",
        "display(out1)"
      ]
    },
    {
      "cell_type": "code",
      "source": [
        "#@title \n",
        "from IPython import display as IPyDisplay\n",
        "IPyDisplay.HTML(\n",
        "    f\"\"\"\n",
        "  <div>\n",
        "    <a href= \"https://github.com/DL4CV-NPTEL/Deep-Learning-For-Computer-Vision/blob/main/Slides/Week_6/DL4CV_Week06_Part02.pdf\" target=\"_blank\">\n",
        "    <img src=\"https://github.com/DL4CV-NPTEL/Deep-Learning-For-Computer-Vision/blob/main/Data/Slides_Logo.png?raw=1\"\n",
        "  alt=\"button link to Airtable\" style=\"width:200px\"></a>\n",
        "    </div>\"\"\" )"
      ],
      "metadata": {
        "colab": {
          "base_uri": "https://localhost:8080/",
          "height": 100
        },
        "id": "bJQjZzwxdQch",
        "outputId": "ea5a85e8-e506-49ab-cd12-a6c289e86edd",
        "cellView": "form"
      },
      "execution_count": null,
      "outputs": [
        {
          "output_type": "execute_result",
          "data": {
            "text/plain": [
              "<IPython.core.display.HTML object>"
            ],
            "text/html": [
              "\n",
              "  <div>\n",
              "    <a href= \"https://github.com/DL4CV-NPTEL/Deep-Learning-For-Computer-Vision/blob/main/Slides/Week_6/DL4CV_Week06_Part02.pdf\" target=\"_blank\">\n",
              "    <img src=\"https://github.com/DL4CV-NPTEL/Deep-Learning-For-Computer-Vision/blob/main/Data/Slides_Logo.png?raw=1\"\n",
              "  alt=\"button link to Airtable\" style=\"width:200px\"></a>\n",
              "    </div>"
            ]
          },
          "metadata": {},
          "execution_count": 2
        }
      ]
    }
  ]
}