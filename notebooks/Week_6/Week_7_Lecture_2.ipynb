{
  "nbformat": 4,
  "nbformat_minor": 0,
  "metadata": {
    "colab": {
      "name": "Week_7_Lecture_2.ipynb",
      "provenance": [],
      "include_colab_link": true
    },
    "kernelspec": {
      "name": "python3",
      "display_name": "Python 3"
    },
    "language_info": {
      "name": "python"
    },
    "widgets": {
      "application/vnd.jupyter.widget-state+json": {
        "1f1ff7ceaa964569b64d0c040816a6db": {
          "model_module": "@jupyter-widgets/output",
          "model_name": "OutputModel",
          "model_module_version": "1.0.0",
          "state": {
            "_dom_classes": [],
            "_model_module": "@jupyter-widgets/output",
            "_model_module_version": "1.0.0",
            "_model_name": "OutputModel",
            "_view_count": null,
            "_view_module": "@jupyter-widgets/output",
            "_view_module_version": "1.0.0",
            "_view_name": "OutputView",
            "layout": "IPY_MODEL_80ce0236ac284402ae52605a72c8f138",
            "msg_id": "",
            "outputs": [
              {
                "output_type": "stream",
                "name": "stdout",
                "text": [
                  "Video available at https://youtube.com/watch?v=VQXD6ZfYT6o\n"
                ]
              },
              {
                "output_type": "display_data",
                "data": {
                  "text/plain": "<IPython.lib.display.YouTubeVideo at 0x7f2eac52d2d0>",
                  "text/html": "\n        <iframe\n            width=\"854\"\n            height=\"480\"\n            src=\"https://www.youtube.com/embed/VQXD6ZfYT6o?fs=1&rel=0\"\n            frameborder=\"0\"\n            allowfullscreen\n        ></iframe>\n        ",
                  "image/jpeg": "/9j/4AAQSkZJRgABAQAAAQABAAD/2wCEABALDBoYFhsaGRodHRsfIiomIyIiICglLSgwLjMxMC0tLS01PVBCNThLOS0tRWFFS1NWW11bMkFlbWRYbVBZW1cBERISGRYZMBsbL1dCNkJXV1dXV1pXV1dXV1dXV1dXXVdXV1dXV1dXXldXV1ddV1dXV1ddV1dXV1dXXV1XV1dXV//AABEIAWgB4AMBIgACEQEDEQH/xAAbAAEAAgMBAQAAAAAAAAAAAAAAAwYBBAUCB//EAEoQAAIBAgEHCQQHAwsEAwEAAAABAgMRBBITITFBUVIFFBciQlNhktIjMnHRBjNzgZGhsQdiwRYkNDVUcpOisuHwFUOCwkRjg/H/xAAZAQEBAQEBAQAAAAAAAAAAAAAAAQIDBAX/xAAqEQEBAAIBBAIABAcBAAAAAAAAAQIRAxITITFBUULB0fAUYXGBobHxBP/aAAwDAQACEQMRAD8A+fgAAAAAAAAAAAAAAAAAAAAAAAAAAAAAAAAAAAAAAAAAAAAAAAAAAAAAAAAAAAAAAAAAAAAAAAAAAAAAAAAAAAAAAAAAAAAAAAAAAAAAAAAAAAAAAAAAAAAAAAAAAAAAAAAAAAAAAAAAAAAAAAAAAAAAAAAAAAAAAAAuHRxje9w3nn6B0cY3vcN55+gCnguHRxje9w3nn6B0cY3vcN55+gCnguHRxje9w3nn6B0cY3vcN55+gCnguHRxje9w3nn6CJ/s+xvHQ88vSBVAWvo+xvHQ88vSOj7G8dDzy9IFUBa+j7G8dDzy9I6Psbx0PPL0gVQFr6Psbx0PPL0jo+xvHQ88vSBVAWvo+xvHQ88vSOj7G8dDzy9IFUBa+j7G8dDzy9I6Psbx0PPL0gVQFr6Psbx0PPL0jo+xvHQ88vSBVAWvo+xvHQ88vSOj7G8dDzy9IFUBa+j7G8dDzy9I6Psbx0PPL0gVQFr6Psbx0PPL0jo+xvHQ88vSBVAWvo+xvHQ88vSOj7G8dDzy9IFUBa+j7G8dDzy9I6Psbx0PPL0gVQFr6Psbx0PPL0jo+xvHQ88vSBVAWvo+xvHQ88vSOj7G8dDzy9IFUBbOj7GceH88vSOj7GceH88vSBUwWzo+xnHh/PL0jo+xnHh/PL0gVMFs6PsZx4fzy9I6PsZx4fzy9IFTBbOj7GceH88vSOj7GceH88vSBUwWzo+xnHh/PL0jo+xnHh/PL0gVMFs6PsZx4fzy9I6PsZx4fzy9IFTBbOj7GceH88vSOj7GceH88vSBUwWzo+xnHh/PL0jo+xnHh/PL0gVMFs6PsZx4fzy9I6PsZx4fzy9IFTBbOj7GceH88vSOj7GceH88vSBUwWzo+xnHh/PL0jo+xnHh/PL0gVMFs6PsZx4fzy9I6PsZx4fzy9IFTBbOj7GceH88vSOj3GceH88vSB9UMGTncsY10afV96X/ADR47iW6m1k3dN2daEfelFfFpGYVIy0xaa8Hc4+HwkKacqvXr2vaV2r6LJcWzT+FtRJiJuKdTDNOUY3lTteLWtrRql8CS35Xp36dcGtyfjY4ikqkL2etPWntTNk0lmvFYIXrJyB62Ea08fRjJwdWmpJ2cXJXvusbBx+T41XiMU4SpqHOOspQbk+pC9mpK2jwZrR5VnKdRU6ycZUpzi6rpxUXGUYq1tMV1muvpul4k27drfpYSOtWhTWVOSir2u3Y4tHEOdShJ4ipFJ1IvKzPWknHRdLJd720frc3+VlK1HIcVLPRs5Jtapa0mr/iNp29WStujWhUWVCUZLVeLTPGIxlKlbOVIwvqymkaGCqTjOu5QdSvlJTjDJgkknkSSlLU09d3p0bD3QrQp4nEutKMJSyXFzaV4KK0JvdLKv8AHxGzt+a341oOTipRckk2k1ez1O24wsRBuKU43mm4q66yWtreciv1cRVxMNObVNu2nKpyTyvw0S/8SCnRdSOFdP6yGHc6fxUoO3wa0feNtzhmt7/etrDGalezTs7O2xrYea+IhTSdScYpuyyna73fkc7knExqQc4zyVOvNpOyctHu6du3RuPXLKk54TIcVLPOzknJfV1NaTV/xDn0ay6a6FKtGccqEoyjvi00ZdSKko3WU02lfS0tbt96OHTryjdTqKlUqV3GtNRSULQ6mTlXSyko6XfXbXa3vBYiVTE0ZSal7OvFTWqajOCUtG9IbavF8/Dq18VTp2zk4xvqymle2skhNSSlFqUXpTTun8Gc7F5fPKORk3zNT3r296nuPFOjUpVKNGNS2VnqlS0VpeVB2infJV5NbdHjpG07c1PPn/rqykkm20ktLb2BNNJrSnqZw6HKNRqLzinKpSnKdO0fYuKvbRp0PqvKvp3GIcoV3VisqEVHNLJlKMctSjFtpNXbu2lZ2urDa9mu8eVUjlON1lJJtX0pO9nb7n+BwK+IlUwc6jxLy5RjKVNZtZvrLKWq6tqd9xPXx0oznGNVOChQvVtB2ypVFKbaVuyvBP7xs7VdoHGp4mrOUaca2jOyhnVGLckoZW7JupaLpW0G/wAl4iVXD0qkrZUopu28rOXHcZutoABzAAAAAAAAAAAAAAAAAAAAAAAAAAAAAAAAAAAAAAAAbBxuW4WqUKj91TSem3aT/g/wOyR1qUZxcZK8XrRnKbiy6rkcqUpydlUvJNO+Slkq6el7D3yVTlGKUptNRTknFdZWWn/m82nHNU3CblKFrJxjJy8F1Vs3nOx1WviVmaFFwpvqyqVFa61NKL2fH8Ct4+Zr4RfQ59WvZpxy1aySs9N1rb1ZOsshq8n4KOHpKnHTbW3te82ipyZdWVsYIWtJOAw11Hw/IwqS09VadejWbIA1s0rJZKstStq+BnJ8DYAGvk+H5GJU1LXFPbpVzZAGvk+H5BQ8PyNgAa6h4fkMnw/I2ABrSpp3ur316NZnJ8PyNgAa+T4fkMnwNgAaGKwmchKKlKnle9KCjdrVZ3TJY0UlFKPuq0dGpG0Au76a2aWnqrTr0a/jvGRst4ajZARrqFkklZLVo1BR8PyNgAQWFicAQWFicAQWFicAQWFicAQWFicAQWFicAQWFicAQWFicAQWFicAQWFicAQWFicAQWFicAQWFicAQWFicAQWFicAQWFicADVxyqtRzWtSu91rPQ/vsbRglm5pZdOZToYhqblOSeSkldaXkx27Otc8ypYhN2c37PQ7x96zvfTvtsOnVqxhFynJRitbbshTnGSUotST1NO6Zjtz7a6r70xRk3FOUXF7nZ/oSGDJ0jAAAAAAAAAAAAAAAACKrKScVG2lvWr7COEqjlKN49W3Ze37zGLSyqeVHKV3otfYyClGnnKnsX2ex4ATZypm1K8NNtGS9rtvPUpVFOMbx0pv3Xst4+JpqNPMx9i+z2PFEko087D2L92XY8YgbMZVG5daPVdvde5Pf4njOVMiMrx62T2Xtt4+JDTjTvU9i/e4P3YnjJp5qn7F9jseKA3L1MrJyo6r+6/meXUqZM5Xj1b9l7PvIcmnnPqX7vB4kbjTzdT2L7XYA25yqJw0x6zt7r3N7/AynUynHKhoSfuvbfx8DVqxp3p+xfvcH7sj1GNPOS9i/dj2PGQErq1FTlO8erlaMl7G/HwNo5cowzM/ZNPr6cjVpZ1AMgACJ4iC1zirfvIc5p8cfMjVk5ZqfUTV56briZJNyy4ezW3tL5ATc4p8cfMhzmnxw8yIabllz9mtnaW74EF5ZiHs1rh2lxLwA3ecU+OPmQ5zT44+ZEMnLOR9mvdl2l4eB5puV6vs173EuGPgBsc5p8cPMhzinxx8yNaDlm6fs12e0vkeryzn1a93iW/4AT85p8cPMiQ0IuWaqezWup2lvfgb8dSAyAAAAAAAAAAAAAAAAAAAAAAADBHVrRh70kviSHM5Z1R/wCbUcebkvHh1Rvjx6stNTl2ksZTUKFSEpwllOOVruv9z3yJCODo5utVgpyk5ZOVfJVlo/L8ytP6+Pxh/wCpjDfWP4M4d78WvL6t/wDPe32+rx79L9Tqxl7rTtuPZzuSNUvu/VnRPRw8l5MJlf35fKzx6crGQAdWAAAAAAAAAAAAABBXTyqdmk7vZfYyOlGecqdZdns+HxPWKtlU75Wt+7fc9xBSyM5U01Oz3m4DKjPMx6y7PZ8V4kk4zzsOsvdl2fGPia6yMzH6zs95vRJPIzsNNT3Zd5viBJTjO9TrL3uH92PieMmeap9Zf9vs+K8Tw3G1azqXu7fWcKKdSxE3Spt1a12oP36nh4hvHGWbtXjJnnfeXu8Pj8SNxnm6vWXb7P8AuVDnE8r62vq46hh4ieTL2tfb26gNY/f+Fzqxnel1l73D+7LxMxjPOS6y92PZ8ZeJS5159X21fX3lTczrfR2q5VaynOtJKMLXlN7ZFXollsvp2JxnmKnWVuv2fF+JvnMlk5mf1nb497OmRzZAAHMqVIZuperZ3noylxM9zqU8uHtnt7SMyrNUprNzemelZNvefie515ZcPZVNvB6gI6dWnlz9s9naW4hVSnmY+2euHaXEjbp15Zc/ZVNnBu/vEGflmIeynrhw8S/eA9SqU85H2z92XaXgeadSner7Z+9xLhiR8ocrKhOGVSqu6lZLI8P3jUp/SSF6nsa2mW6PClvDc48rNt6FSnm6ftn2e0j1naec+ufu8S3nOh9I6eRBZqtoydkfmbeD5ZhWrOMKdXKUL2aitF/iC8eU8vcalPNT9ttqdpb2dOOpGhGvLNVPZz11OHe/3jfjqQYZAMAZBq886qlmqlna3u7dXaM86d7Zqpe1+x6gNkGrzx2k81UtG9/c2f8AkZeLej2VTTq9z48QGyCKlWym04yi0k9Ntvwb3EoAAAAAAAAAAAAABg5nLGqP/NqOm3ZXZz6mMbd4Sp5N+1Gd9vh4HPl4u5j0tYZdN2qtLC1KldZEJSs4XstC0LWzzHC1KdRqcJRdnrX8S0rF1LXyqWvgqav/AOWM88m21lUtN8nqz16bHP8AhfGtvb/HX6Z5I1S+79WdE59PHWfWlDJ25MZ337vgdBHTi4+3j0vFnl1XbIAOjIAAAAAAAAAAAAA18RlZVPJte71/BkVJVM5U0w7Ox7viSYtLKp5SbV3qvue416UaecqdWfZ2T3AZSqZmOmHZ2PevEkkqudhph7stj3x8TXUaeZj1Z9nZPej3JU87Dqz92Wye+IHqSqZNbTDbsfCvEpVDKzNL3fdhv8C4yjTya3Vnt2T4UUyio5mlol7sNkvAOn4P7/q2OtldnVue889bJl7va2M8VakIO8rpWtqlvI89Ts11rtyS0S2F04Xkxl1b5bE8rq+7r8dzOv8ARpTz1ezjfIp6098zjSUerolr3S3M630bUM9Xupe5DUpb57iO+HrL+n5x2pKpmKl3C3Xvoe9+J0GcuUaeZn1Z36+ye9mcVKjSmozdfSr3ztS2nRb3tL+Acrde3mOJxN9MOrp05Dv+7ov+O62250cPOTpwc1kycU2tztpRyXjsJdLOVbN2vnK1lour6dqPdfB4eu4QbrtZTkmqtVaYrfleOwrMs+2zLOZqdnC15607+8/EkmquXDTDbsfzNaTgqU1nmrOejLW979JJOdPLh7ff24kbS01Vy56YbNj3fEhWczENMNcNj4l4mYTp5c/b7u3HcQ5cMzH222HbjxIDn/SRTzlG7j7s9Sf7pxo5XX93X47kdX6RyhnKNqt+rPtL904sqsI5bdR2vsaexBrOySW/X51JHKyY+7s3nS+j2XzyVnG+Z3PiRxoYiDyI5cr/AC1nW5AlHncr1bLM68pcSLDiymW7PpYYqpmqmmGupse9+JFX5SqQqOKoSlGLXWSelZN9GjXlaApQzVT2+2p2472bPNNF87W1cS+RGLNtSPLTdvYVU2r2a020abblfT8H4XkpcoznUhFUZxTbynJPRodn9/8Ayxr86hZ9fE3Ucpq8b2va99WtPbsNmvya6mbksRiIZLyrKSV9Gp6NXgVibvyK+Zpe17vRaO9EunOfXdndHeRKUMzS6j/7fYe9eBLlwznuP3e7e/4EdEEqiUaqddJ3lo6m49uonm0q6buuDcyp8oRg6+Jbgn13rh4LwPfJsaaxOHagl19kP3ZeBXa4Y76f36XGj9ZLr5XVW7e9xsmtRadSVk11V2WtrNkjiAAAAAAAAAAAAAMAyAMAyAMAyAAAAAAAAAAAAAAAAANfEJ5VPJaTu9avsZHSjUzlTrR7PZe74nrGRi3Tyo5Su9Fr7Ga9OjSzlT2PD2fAD2o1MzHrR7PZe9eJJKNTOw60fdl2Hvj4moqNLMx9jw9hb0SSo0s7D2PZl2PGIEko1Mmt1o7ey+FeJSaClmaWle7DZ8PEuEqNPJrex39lcKKZQhHM0up2YbPgHT8H9/1TzpOTtLJattj/ALnjm6Sk7Rusrsv5nrIhle5s4fE8uEcmXU37A43GW70lmpdXSte7wfidf6NKeer2cfcp64vfPxOJKEer1NvD4M630cpwdatenfqQ7PjMO2HrL+n5x3JxnmKnWjbr9l734m3Vw1ObvKEZPxSZznSp5mdqNn17PJ1aWdUObX5hRvfNQv8A3USuhDKUslZS1O2q+skATUaMnLNTtGNrz7X7z8CScp5cOrHb2v8AYhnGOanebTvPRltdp7D3OEMuHXe3tv5hXunKeXPqx2dp7vgQ5U8xDqx1w7X7y8D3ThDLn15bO293xIcmOYh13rh23xIDm/SVyzlG8V7s+1/d8DiOOVlqUYtX2vwXgdj6S5CqUevotPS5/wB04sZw63tFr4/BFdMsbZPHx+dYhSSUGoRT0ab/AOx1vo85c8lZL6ni/eXgcmM4ZMfaLZ2zp/R3IeLn19GZ1qf7yLDjw6d+NeFhjKeaqdWOup2vF+Bu5KcbPSmjQjCOaqdd66nbe9m/HUjLmheBpNJZuFlq6qJ7WRkwwNBRqZml1o/9vsvevEmyamc96Pu8D3/E1eawzcFmOssi/VWy1yTm9PLvmNFuBbwKhyrGpzjEWkksuV9mmy2HrkiNXnWHvJe8vHTky2aCyVOTKEs43hYuTbs3TW7Qeo8mYeLg44WKaelqmtzLtq44dfc3d/Xx6036alnJZTT6q1K21+JsGrhqcYzk4wyE0tlru7NojIAAAAAAAAAAAAAAAAAAAAAAAAAAAAAAAAAAAAA18RlZVPJSbu9btsZHSdTOVOrDs9p7vge8UleDeVZN+7lbnuIKeRlzftbO1vrdwBOpmY9WHZ7T3rwJJupnYdWHuy7T3x8CBKGaiva36uj2u9HuWRnIv2tsmXe74/ID3ao86rQ0u3vPhXgVuHIWJjSpq9Fq0EutLwS7JYYZF5/W6Xo+t3I8Whm4L2t1kX+t2WuG8c9TTi/9DxOXb2Pu8Ut/908vkTE5E37HRldqXpLB1M5f2tsn/wC3eeGoZFRe1u8q31u0L1/yjiT5DxN4fU6ZcUtz/dOhyNyfWoVKrlm25RhqlLY5eHibtTIvTtndEtP1vCzMcjOSftbZMe98QdzxrTEnUzFS6hbr36z3vwN85rjHNTSVXKeXZe02t2OkHNkAAc6f1c/ZX0z09XifiSTfXh7F7eD5kssNdNZySTvo6u3S9geHbaecno8IfICKn78/YvZwbviQ/wDYh7F64cHEvE3Fh2m3nJ6fCHyPPNHkqOcnZW2R2O+4CGrBSnFSoX0S0NQe7xIoYeF6n82j73DT0dWJuc3d085O60aobfu8AsM1f2k+s7vRDclu8Au60oYeGbp/zaPZ7NMlhTjGp1cOl1digtvxJ1hmklnJ2VraIbPuM83d75yd7W1Q+QN1qx+qqexeupwb34nQjqRBzV5LjnJ2d76I7dezxNhBGQAANbH4rM08vJctKVk7azZMAcyHK96kYZuSypON/wANNraU7/k9x0wAkl+WQAFAAAAAAAAAAAAAAAAAAAAAAAAAAAAAAAAAAAAAGAc/lzlaOCoZ6UHNZSjZNLWV/pApf2ep5ogXAFP/AJf0v7PU80TP8vqf9nqeaIFtqTyYt7k3rt+ZzY8txbVoS1Qd/wC+n+StpZxf5eU3/wDHqeaI/l1S/s8/NEJZfhYaHKUZ1IwS0yy9KaaWS7fnY3So/wAu6S/+PU80R/L2n/Z6nmiBbgVD+X9P+z1PNEx/L+l/Z6nmiFXAFVwn04p1atOmqE05zjG+UtGU7X/MtQGQAAAAA18ZOcYJ01eWVHRa+i6yvyubAA5WdxWm0dFpa4q6dnkq19OnX93izawc6spTy01HRkppJ326nq1fgzbATQAAoAAAAAAAAAAAAAAAAAAAAAAAAAAAAAAAAAAAAAAAAAAAAAAAAAAKz+0D+r//ANYfqfONx9I+n/8AV7+0gfOoxARiTwo3PdCjdnSoYUDRp4YlWFOtRwyJlhkBwauFdiKeHLDVwujVtIZ4TQBXJ07ETR18ThbHOq07AS8jf0zDfbU/9SPsB8g5I/pmG+2p/wCpH14DIMENSvaTWS3ZJ6Gtt9/wAnBAsVHbePxT/XUSRqReqSfwYHsGDIAAAAAAAAAAAAAAAAAAAAAAAAAAAAAAAAAAAAAAAAAAAAAAAAAAAAAAAAFZ/aBK3Jz+0gfOaU5PRGDfwPon7Q/6uf2sP4lI5IulJ7mn/wA/ADEViY2tSlp0LQnc26WIxl1FUZXey0TewmNhWqUowbg07ZTW9WRYOUcNamqk53yXFWUdbvZ/kwKlW5RxVJ9em4abaYx1/cyxYZ5VOL2uKb+9HK+lFGWbyslqCkr3VnfQtR1cB9VD+6v0AmqQ6pyOXMVOnGMKfvSjdval4HdcdBXuVZx51QcllJQV19+oDnYWU1bLympb/wBUZxdGxtY+EKWRGK91N2+NtZ6xCyo3A5vJUf55hvtqf+pH1w+U8mx/nuH+2h/qR9WAyalT6yXwj/E2jVn9ZL4R/iBk8ygnrSfxR6MAeVC2qUl8G/0eg9Kc12k/ivkAB75xLbC/wfzsS05qSTWogPeE+rXxf6sCc18RKWVFKTV03otstv8AiTnL5Ur1VWo06WRlSjNtzu1aOTu+IaxxuV1GzefeS/CPyF595L8I/I0nzzZzf/OZw2IrZ7NVlT0wyk4OWxpWd/iTbXbv3G5efeS/CPyPNSc1FvLehbo/IkI6/uS+DK5t0yYMgAAAAAAAAAAAAAAAAAAAAAAAAAAAAAAAAAAAAAAAAAABV/2h/wBXP7WH8Sk8l1oqE1K+mNtCu9pdv2h/1c/tYfxPnOHrqCle+lbAO1QpxnlZtWyUrR3/AH7Wd6pyjO2FjUkpSlrWq+pXbKXSxco6Y3T3pkssZUnbKle2puWoC4/S6tTeCb0OTkkrPbfb9yPHJdZSo0/7qKnXxEpwjCcrqP7v6v7zuckO0Iq+iwHaxVVp0ortSd/uRyMbgFzjR7rtoNnlTEZFXDq+yUv0XzOdHltU8RNVYpq7tJa1fVo2gauKg1iJQb16FfTvN+UbU0jl43lGnUqupFNadxtU+UFOEVbw1geMB/TcP9tD/Ui8YnlOtSxNLDzqUIyrJuDzc7Nq3V97Q9JSMA/57h/tof6kfTa2GhOUZSXWg7xepp6dv3v8QNStDGZEsieHyrO3Unr2dojwKxCT5zKnKpaN3TTS27zqGrP6yXwj/EDJz8ZgHUrRqWpySja1RN5LvfKjbb+GpHQAFdpfR2rFRWfVouLi7O8Wst6PDKkn+J2eTsPKlQp05NOUY2bWpvwNkBNBr0I4nJ6s6FryteE763+8bB7wn1a+L/VhWu44vjof4c/UcrDRxaxGG55KlKebq2zaa7vXfX9yRYzm8p4apKtRnTnGMoxmutFyTTydzW4lb49b8/V/02TSl/TI/Yy/1I85rF99Q/wpes9YfC1VVzlWpCTyMlKEHHW07u7e4rUkx3dz03SOt7kvgyQjre5L4MOTdMmDIAAAAAAAAAAAAAAAAAAAAAAAAAAAAAAAAAAAAAAAAAAAVf8AaH/Vz+1h/E+ZJWPpv7Q/6uf2kP4nzN6gJ6NJs24YTRpZBhXpSN6pbOuKbyXT0eDA80MPHXr8GdKlUyIN21bDm4Sd46ddyfFVcmk/HQBowxsquJypa2mterbY1cXJucm9dyFXjK8daN5yVSNpaJAaVxGo009xs1cDaKcZJvaQU479gHS5GxOVjMNfvqf+pH14+Mciu2Nw329P/Wj7OBk1Kn1kvhH+JtEU8PeTllSV0lZW2fd4gRnh1IraidYaG1X+Lb/UkjBLUkvggNVSb1Rk/ut+tj1GnN61Fffc2QBAsM9s39yS+ZLTgopJakewAIMRCTlFpXsmtdtdvkTmANXJnwfmhkz4PzRNVxEIWU5xi3qypJX+FyS4Grkz4PzR5nTm01ka1vRuJgAZAAAAAAAAAAAAAAAAAAAAAAAAAAAAAAAAAAAAAAAAAAAACr/tD/q5/aQ/ifMk9B9h+kHI6x2HzLm6fWUspRytXhcrS/ZxH+1y/wAJfMClUJWbNipW68X4WLfH9ncU786l/hr5mX+z2Lt/OpaP/rXzAqGFqWcl4nvlCd6a8GW+P0AinfnUv8NfMkf0Fi0k8RLWn9WtjvvA+dxnvMtt6rl8q/s8hKTlHEyim7pZtO35nno6j/a5f4a+YFJp1mtEjxVnp0F5f7OYbMVJf/mvmYl+zmL/APly/wAJfMCnckL+fYX7el/rR9pKdg/oDGlWpVecylm5xnbNpXyWnbX4FxAyAAAAAAAAAABgyANTFYVTqQqObioRktDtryXdv/xObDkZPJiq6bVpartp20+9tyWtz0nZr08uEo3tlRav8VY4s/o67SSrWvFRXUvZJSUUtOzKv9wZy38JociNKKzuiN7Wja10/HY3dfA3uT8JmaeRe+m+i6X4NuxzsNyLNZMpVIqSknog3qk3fXZtp2vbYtx2gSMgANAAAAAAAAAAAAAAAAAAArL+klXu4fmeH9J6vd0/z+ZzJogYpHXn9Kqy/wC3T/P5kVL6XVpRvm6f+b5nHran8DTzuRSyrXd3ZfeZb1Fm/lZW7un/AJvmY/lbW7un/m+ZwKHI1eolOtVdNcMdf3nnEYOpRTam6qWtNWdvB7S+U8LBP6X1kr5qn/m+Zj+WFbuqf+b5lclUUoNp3TV0w9pNt6ixP6YVu6p/5vmd76P8qTxVOc5xjFxnk9W+5Pb8T58zu/R7EThSmoyaWXs+CErOUml4BXefVeOQ59V45GmFiBWK/KNeKTjKUtNrfHV+diJ8sV07WqPTa60L46fiBbAVKPLNdtaKiTavfWr3+S/EkjynXzrg3LJ2S+5fxf8AywFpBVsHynXnG85ST0eGxEH/AFfEtXTfuOS0N6bRaX+Zr7gLgCq1OU8RFpJylvf/AJRX6N/gS0uUKsopub/5tAsoK7z2r3khz2r3kgLECu89q95Ic9q95ICxAr0MbVv78iTndTjYHeMHC53U42Od1ONgd0HC53U42eK+Pqxg5Kb0Fk3dCwgrL5SrKM3lPQ+roenVf9RX5RrpyUZPRG8bpvKenatVtH4muiizAqf/AFnEa8mdtOizvdOWh7NUVp1fiiWfKtZNe+4uKehabu+j8vz2FvFlBZwVipynXWRbK60btNNu942V1qel/geFy1W4Kum26+3X+H5iceVFqBVv+r1t07eF3sT3eLX3E9HlCrNNtzjZ20/qS4WTdFiBwed1ONjndTjZgd0HC53U42Od1ONgd0HGp4qpxs9c5nxMDsA4/OZ8THOZ8TA7AOPzmfExzmfEwOwDj85nxMc5nxMDsA4/OZ8THOZ8TA7AOPzmfExzmfEwOwDj85nxMc5nxMDsA4/OZ8TNbFco1oOybayW9TenRbVvAsJg4FflCtGE5RvJxS0Lfr/Sx7w2OqycsrKjaVlfarLT+bA4FTaQtmZzIZSFIjrvqy+DNahRcp0F2VUu18LtfoS4iVovc01+X+5JydWyXF7zMb+HQhTrOreTkoJcWh+CRy8urlvKcmm/Bxt+p0+UsVLN2Uct7FlJfmznUKvV3W2XubZ14c7CRaotP95L8WbFzNTVLwjdfijxF6E/+al8zDpGZFu+huHhOhUcoptVLafgioMun0I/o9X7T/1iIZenb5jS7uI5jS7uJsg05NbmNLgiOY0uBGyANbmNLgQ5jS7uJsgDW5jS4EFgKPdxNkAa3MaXdxCwFHu4myANbmFLu4jmNLu4myANbmNLu4jmNLu4myANdYGlwIzzOnwInAEHM6fAhzOnwInAEHM6fAjDwVLgRsACDmdPgQ5nT4ETgCDmdPgQ5nT4ETgCDmdPgQ5nT4ETgCDmdPgQ5nT4ETgCDmdPgQ5nT4ETgCDmdPgQ5nT4ETgCBYSnwIzzWnwomAEPNafChzWnwomAEPNafChzWnwomAEPNafChzWnwomAEPNafChzWnwomAEPNafChzWnwomAEPNafChzWnwomAEPNafChzWHCiYAQ81p8CHNafCiYAfOJyI2ZmyWhRyrt6lf7zMlyuouWUwm60MW28mCTb0uyW+y/geoUJqC0Wai3bboVzpRjfQtD1pnrPRjF1JJ6Iu6Wlu2w7ziny89578RoY6s4KzipRepvcaUKrelqy3G1g55yOTbq9lOzaWxMgxlHM1YOom0r2Udd2tH6nOTd07WyTbEtPgRwn1VHbe/5W/gTRjlWydJ6lhWlo17heKz0mPNL7RNl0+g39Hq/af+sSiuRd/oFK+Gq/a/+sTnHbL0tAANuYAAAAAAAAAAAAAAAAAAAAAAAAAAAAAAAAAAAAAAAAAAAAAAAAAAAAAAAAAAAAAAAD5jc6E1kRjbY9P8f4lRjy7VTvk039z+ZLU+kteWuNP7lL5m+KzHdrnzY3PUi06vjoPNV6fArD+ktfhpfhL5nl/SKs+zT/CXzOncjlOLJYMY1StVg3GS06FrS1pr4GvGs8Ws5KyS6296d5w6/LlWokpQpuzvqfzFHlupBNKFPT4P5k64vbq0ZpQSS1t2X8TGImlq16GVuX0hrO3Vp6PCXzPE+Xard3GGzY9mneXuRO1k6ePo5LUtj1/Et/7Pn/Nq32v/AKxPndblqrOOS4wt4J/M3uRvpfiMFTlClCjJSllPLjJu9ktkluOGWurcejC3p1X2EHy/pHxvdYbyT9Y6R8b3WG8k/WFfUAfL+kfG91hvJP1jpHxvdYbyT9YH1AHy/pHxvdYbyT9Y6R8b3WG8k/WB9QB8v6R8b3WG8k/WOkfG91hvJP1gfUAfL+kfG91hvJP1jpHxvdYbyT9YH1AHy/pHxvdYbyT9Y6R8b3WG8k/WB9QB8v6R8b3WG8k/WOkfG91hvJP1gfUAfL+kfG91hvJP1jpHxvdYbyT9YH1AHy/pHxvdYbyT9Y6R8b3WG8k/WB9QB8v6R8b3WG8k/WOkfG91hvJP1gfUAfL+kfG91hvJP1jpHxvdYbyT9YH1AHy/pHxvdYbyT9Y6R8b3WG8k/WB9QB8v6R8b3WG8k/WOkfG91hvJP1gfUAfL+kfG91hvJP1jpHxvdYbyT9YH1AHy/pHxvdYbyT9Y6R8b3WG8k/WB9QB8v6R8b3WG8k/WOkfG91hvJP1gfUAfL+kfG91hvJP1jpHxvdYbyT9YH1AHy/pHxvdYbyT9Y6R8b3WG8k/WB9QB8v6R8b3WG8k/WOkfG91hvJP1gfUAfL+kfG91hvJP1jpHxvdYbyT9YH1AHy/pHxvdYbyT9Y6R8b3WG8k/WB9QB8v6R8b3WG8k/WOkfG91hvJP1gfUAfL+kfG91hvJP1jpHxvdYbyT9YH1AHy/pHxvdYbyT9Y6R8b3WG8k/WB9QB8v6R8b3WG8k/WOkfG91hvJP1gU8AAAAAAAAAAAAAAAAAAAAAAAAAAAAAAAAAAAAAAAAAAAAAAAAAAAAAAAAAAAAAAAAAAAAAAAAAAAAAAAAAAAAAAAAAAAAAAAAAAAAAAAAAAAAAAAAAAAAAAAAAAAAAAAAAAAAAAAAAAAAAAAAAAAAAAAAAAAAAAAAAAAAAAAAAAAAAAAAAAAAAAAAAAAAAAAAAAAAAAAAAAAAAAAAAAAAAAAAAAAAAAAAAAAAAAAAAAAAAAAH//Z\n"
                },
                "metadata": {}
              }
            ]
          }
        },
        "80ce0236ac284402ae52605a72c8f138": {
          "model_module": "@jupyter-widgets/base",
          "model_name": "LayoutModel",
          "model_module_version": "1.2.0",
          "state": {
            "_model_module": "@jupyter-widgets/base",
            "_model_module_version": "1.2.0",
            "_model_name": "LayoutModel",
            "_view_count": null,
            "_view_module": "@jupyter-widgets/base",
            "_view_module_version": "1.2.0",
            "_view_name": "LayoutView",
            "align_content": null,
            "align_items": null,
            "align_self": null,
            "border": null,
            "bottom": null,
            "display": null,
            "flex": null,
            "flex_flow": null,
            "grid_area": null,
            "grid_auto_columns": null,
            "grid_auto_flow": null,
            "grid_auto_rows": null,
            "grid_column": null,
            "grid_gap": null,
            "grid_row": null,
            "grid_template_areas": null,
            "grid_template_columns": null,
            "grid_template_rows": null,
            "height": null,
            "justify_content": null,
            "justify_items": null,
            "left": null,
            "margin": null,
            "max_height": null,
            "max_width": null,
            "min_height": null,
            "min_width": null,
            "object_fit": null,
            "object_position": null,
            "order": null,
            "overflow": null,
            "overflow_x": null,
            "overflow_y": null,
            "padding": null,
            "right": null,
            "top": null,
            "visibility": null,
            "width": null
          }
        }
      }
    }
  },
  "cells": [
    {
      "cell_type": "markdown",
      "metadata": {
        "id": "view-in-github",
        "colab_type": "text"
      },
      "source": [
        "<a href=\"https://colab.research.google.com/github/DL4CV-NPTEL/Deep-Learning-For-Computer-Vision/blob/main/notebooks/Week_6/Week_7_Lecture_2.ipynb\" target=\"_parent\"><img src=\"https://colab.research.google.com/assets/colab-badge.svg\" alt=\"Open In Colab\"/></a>"
      ]
    },
    {
      "cell_type": "markdown",
      "source": [
        "# Lecture 1: CNNs for Object Detection-I - Part 02\n",
        "\n"
      ],
      "metadata": {
        "id": "5p8aGbdxc1Nz"
      }
    },
    {
      "cell_type": "code",
      "execution_count": 29,
      "metadata": {
        "colab": {
          "base_uri": "https://localhost:8080/",
          "height": 519,
          "referenced_widgets": [
            "1f1ff7ceaa964569b64d0c040816a6db",
            "80ce0236ac284402ae52605a72c8f138"
          ]
        },
        "id": "W5BZQI44cxz_",
        "outputId": "d3aa070a-1e72-4812-cffc-013a2b998eab"
      },
      "outputs": [
        {
          "output_type": "display_data",
          "data": {
            "text/plain": [
              "Output()"
            ],
            "application/vnd.jupyter.widget-view+json": {
              "version_major": 2,
              "version_minor": 0,
              "model_id": "1f1ff7ceaa964569b64d0c040816a6db"
            }
          },
          "metadata": {}
        }
      ],
      "source": [
        "#@title \n",
        "from ipywidgets import widgets\n",
        "out1 = widgets.Output()\n",
        "with out1:\n",
        "  from IPython.display import YouTubeVideo\n",
        "  video = YouTubeVideo(id=f\"VQXD6ZfYT6o\", width=854, height=480, fs=1, rel=0)\n",
        "  print(\"Video available at https://youtube.com/watch?v=\" + video.id)\n",
        "  display(video)\n",
        "display(out1)"
      ]
    },
    {
      "cell_type": "code",
      "source": [
        "#@title \n",
        "from IPython import display as IPyDisplay\n",
        "IPyDisplay.HTML(\n",
        "    f\"\"\"\n",
        "  <div>\n",
        "    <a href= \"https://github.com/DL4CV-NPTEL/Deep-Learning-For-Computer-Vision/blob/main/Slides/Week_5/DL4CV_Week07_Part01.pdf\" target=\"_blank\">\n",
        "    <img src=\"https://github.com/DL4CV-NPTEL/Deep-Learning-For-Computer-Vision/blob/main/Data/Slides_Logo.png?raw=1\"\n",
        "  alt=\"button link to Airtable\" style=\"width:200px\"></a>\n",
        "    </div>\"\"\" )"
      ],
      "metadata": {
        "colab": {
          "base_uri": "https://localhost:8080/",
          "height": 100
        },
        "id": "bJQjZzwxdQch",
        "outputId": "984409de-06f9-4cc3-d2e9-09b439107dad"
      },
      "execution_count": 27,
      "outputs": [
        {
          "output_type": "execute_result",
          "data": {
            "text/plain": [
              "<IPython.core.display.HTML object>"
            ],
            "text/html": [
              "\n",
              "  <div>\n",
              "    <a href= \"https://github.com/DL4CV-NPTEL/Deep-Learning-For-Computer-Vision/blob/main/Slides/Week_5/DL4CV_Week07_Part01.pdf\" target=\"_blank\">\n",
              "    <img src=\"https://github.com/DL4CV-NPTEL/Deep-Learning-For-Computer-Vision/blob/main/Data/Slides_Logo.png?raw=1\"\n",
              "  alt=\"button link to Airtable\" style=\"width:200px\"></a>\n",
              "    </div>"
            ]
          },
          "metadata": {},
          "execution_count": 27
        }
      ]
    }
  ]
}