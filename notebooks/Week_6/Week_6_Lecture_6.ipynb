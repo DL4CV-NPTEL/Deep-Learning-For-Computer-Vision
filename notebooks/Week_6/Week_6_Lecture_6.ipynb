{
  "nbformat": 4,
  "nbformat_minor": 0,
  "metadata": {
    "colab": {
      "name": "Week_6_Lecture_6.ipynb",
      "provenance": [],
      "include_colab_link": true
    },
    "kernelspec": {
      "name": "python3",
      "display_name": "Python 3"
    },
    "language_info": {
      "name": "python"
    },
    "widgets": {
      "application/vnd.jupyter.widget-state+json": {
        "8c51fd70916b4f10a6ae5c09475b37ca": {
          "model_module": "@jupyter-widgets/output",
          "model_name": "OutputModel",
          "model_module_version": "1.0.0",
          "state": {
            "_dom_classes": [],
            "_model_module": "@jupyter-widgets/output",
            "_model_module_version": "1.0.0",
            "_model_name": "OutputModel",
            "_view_count": null,
            "_view_module": "@jupyter-widgets/output",
            "_view_module_version": "1.0.0",
            "_view_name": "OutputView",
            "layout": "IPY_MODEL_25e202c8e7db44ae919546c944ee4cda",
            "msg_id": "",
            "outputs": [
              {
                "output_type": "stream",
                "name": "stdout",
                "text": [
                  "Video available at https://youtube.com/watch?v=9Moxmab_Y4I\n"
                ]
              },
              {
                "output_type": "display_data",
                "data": {
                  "text/plain": "<IPython.lib.display.YouTubeVideo at 0x7f2eac564dd0>",
                  "text/html": "\n        <iframe\n            width=\"854\"\n            height=\"480\"\n            src=\"https://www.youtube.com/embed/9Moxmab_Y4I?fs=1&rel=0\"\n            frameborder=\"0\"\n            allowfullscreen\n        ></iframe>\n        ",
                  "image/jpeg": "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\n"
                },
                "metadata": {}
              }
            ]
          }
        },
        "25e202c8e7db44ae919546c944ee4cda": {
          "model_module": "@jupyter-widgets/base",
          "model_name": "LayoutModel",
          "model_module_version": "1.2.0",
          "state": {
            "_model_module": "@jupyter-widgets/base",
            "_model_module_version": "1.2.0",
            "_model_name": "LayoutModel",
            "_view_count": null,
            "_view_module": "@jupyter-widgets/base",
            "_view_module_version": "1.2.0",
            "_view_name": "LayoutView",
            "align_content": null,
            "align_items": null,
            "align_self": null,
            "border": null,
            "bottom": null,
            "display": null,
            "flex": null,
            "flex_flow": null,
            "grid_area": null,
            "grid_auto_columns": null,
            "grid_auto_flow": null,
            "grid_auto_rows": null,
            "grid_column": null,
            "grid_gap": null,
            "grid_row": null,
            "grid_template_areas": null,
            "grid_template_columns": null,
            "grid_template_rows": null,
            "height": null,
            "justify_content": null,
            "justify_items": null,
            "left": null,
            "margin": null,
            "max_height": null,
            "max_width": null,
            "min_height": null,
            "min_width": null,
            "object_fit": null,
            "object_position": null,
            "order": null,
            "overflow": null,
            "overflow_x": null,
            "overflow_y": null,
            "padding": null,
            "right": null,
            "top": null,
            "visibility": null,
            "width": null
          }
        }
      }
    }
  },
  "cells": [
    {
      "cell_type": "markdown",
      "metadata": {
        "id": "view-in-github",
        "colab_type": "text"
      },
      "source": [
        "<a href=\"https://colab.research.google.com/github/DL4CV-NPTEL/Deep-Learning-For-Computer-Vision/blob/main/notebooks/Week_6/Week_6_Lecture_6.ipynb\" target=\"_parent\"><img src=\"https://colab.research.google.com/assets/colab-badge.svg\" alt=\"Open In Colab\"/></a>"
      ]
    },
    {
      "cell_type": "markdown",
      "source": [
        "# Lecture 6: Going Beyond Explaining CNNs\n",
        "\n"
      ],
      "metadata": {
        "id": "5p8aGbdxc1Nz"
      }
    },
    {
      "cell_type": "code",
      "execution_count": null,
      "metadata": {
        "colab": {
          "base_uri": "https://localhost:8080/",
          "height": 519,
          "referenced_widgets": [
            "8c51fd70916b4f10a6ae5c09475b37ca",
            "25e202c8e7db44ae919546c944ee4cda"
          ]
        },
        "id": "W5BZQI44cxz_",
        "outputId": "d404d929-67a7-4fc5-b792-0079bd3c4794",
        "cellView": "form"
      },
      "outputs": [
        {
          "output_type": "display_data",
          "data": {
            "text/plain": [
              "Output()"
            ],
            "application/vnd.jupyter.widget-view+json": {
              "version_major": 2,
              "version_minor": 0,
              "model_id": "8c51fd70916b4f10a6ae5c09475b37ca"
            }
          },
          "metadata": {}
        }
      ],
      "source": [
        "#@title \n",
        "from ipywidgets import widgets\n",
        "out1 = widgets.Output()\n",
        "with out1:\n",
        "  from IPython.display import YouTubeVideo\n",
        "  video = YouTubeVideo(id=f\"9Moxmab_Y4I\", width=854, height=480, fs=1, rel=0)\n",
        "  print(\"Video available at https://youtube.com/watch?v=\" + video.id)\n",
        "  display(video)\n",
        "display(out1)"
      ]
    },
    {
      "cell_type": "code",
      "source": [
        "#@title \n",
        "from IPython import display as IPyDisplay\n",
        "IPyDisplay.HTML(\n",
        "    f\"\"\"\n",
        "  <div>\n",
        "    <a href= \"https://github.com/DL4CV-NPTEL/Deep-Learning-For-Computer-Vision/blob/main/Slides/Week_6/DL4CV_Week06_Part05.pdf\" target=\"_blank\">\n",
        "    <img src=\"https://github.com/DL4CV-NPTEL/Deep-Learning-For-Computer-Vision/blob/main/Data/Slides_Logo.png?raw=1\"\n",
        "  alt=\"button link to Airtable\" style=\"width:200px\"></a>\n",
        "    </div>\"\"\" )"
      ],
      "metadata": {
        "colab": {
          "base_uri": "https://localhost:8080/",
          "height": 100
        },
        "id": "bJQjZzwxdQch",
        "outputId": "96f54b39-2312-4263-f3fc-f639878a58d7",
        "cellView": "form"
      },
      "execution_count": 1,
      "outputs": [
        {
          "output_type": "execute_result",
          "data": {
            "text/plain": [
              "<IPython.core.display.HTML object>"
            ],
            "text/html": [
              "\n",
              "  <div>\n",
              "    <a href= \"https://github.com/DL4CV-NPTEL/Deep-Learning-For-Computer-Vision/blob/main/Slides/Week_6/DL4CV_Week06_Part05.pdf\" target=\"_blank\">\n",
              "    <img src=\"https://github.com/DL4CV-NPTEL/Deep-Learning-For-Computer-Vision/blob/main/Data/Slides_Logo.png?raw=1\"\n",
              "  alt=\"button link to Airtable\" style=\"width:200px\"></a>\n",
              "    </div>"
            ]
          },
          "metadata": {},
          "execution_count": 1
        }
      ]
    }
  ]
}