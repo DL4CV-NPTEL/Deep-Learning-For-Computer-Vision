{
  "nbformat": 4,
  "nbformat_minor": 0,
  "metadata": {
    "colab": {
      "name": "Week_6_Lecture_1.ipynb",
      "provenance": [],
      "include_colab_link": true
    },
    "kernelspec": {
      "name": "python3",
      "display_name": "Python 3"
    },
    "language_info": {
      "name": "python"
    },
    "widgets": {
      "application/vnd.jupyter.widget-state+json": {
        "64168339bd5745039f2354ca3d8b0f2a": {
          "model_module": "@jupyter-widgets/output",
          "model_name": "OutputModel",
          "model_module_version": "1.0.0",
          "state": {
            "_dom_classes": [],
            "_model_module": "@jupyter-widgets/output",
            "_model_module_version": "1.0.0",
            "_model_name": "OutputModel",
            "_view_count": null,
            "_view_module": "@jupyter-widgets/output",
            "_view_module_version": "1.0.0",
            "_view_name": "OutputView",
            "layout": "IPY_MODEL_8341877cc0bc4d6eb236acb7f7e02872",
            "msg_id": "",
            "outputs": [
              {
                "output_type": "stream",
                "name": "stdout",
                "text": [
                  "Video available at https://youtube.com/watch?v=u3FBpyUA1dc\n"
                ]
              },
              {
                "output_type": "display_data",
                "data": {
                  "text/plain": "<IPython.lib.display.YouTubeVideo at 0x7f2eac4f6f50>",
                  "text/html": "\n        <iframe\n            width=\"854\"\n            height=\"480\"\n            src=\"https://www.youtube.com/embed/u3FBpyUA1dc?fs=1&rel=0\"\n            frameborder=\"0\"\n            allowfullscreen\n        ></iframe>\n        ",
                  "image/jpeg": "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\n"
                },
                "metadata": {}
              }
            ]
          }
        },
        "8341877cc0bc4d6eb236acb7f7e02872": {
          "model_module": "@jupyter-widgets/base",
          "model_name": "LayoutModel",
          "model_module_version": "1.2.0",
          "state": {
            "_model_module": "@jupyter-widgets/base",
            "_model_module_version": "1.2.0",
            "_model_name": "LayoutModel",
            "_view_count": null,
            "_view_module": "@jupyter-widgets/base",
            "_view_module_version": "1.2.0",
            "_view_name": "LayoutView",
            "align_content": null,
            "align_items": null,
            "align_self": null,
            "border": null,
            "bottom": null,
            "display": null,
            "flex": null,
            "flex_flow": null,
            "grid_area": null,
            "grid_auto_columns": null,
            "grid_auto_flow": null,
            "grid_auto_rows": null,
            "grid_column": null,
            "grid_gap": null,
            "grid_row": null,
            "grid_template_areas": null,
            "grid_template_columns": null,
            "grid_template_rows": null,
            "height": null,
            "justify_content": null,
            "justify_items": null,
            "left": null,
            "margin": null,
            "max_height": null,
            "max_width": null,
            "min_height": null,
            "min_width": null,
            "object_fit": null,
            "object_position": null,
            "order": null,
            "overflow": null,
            "overflow_x": null,
            "overflow_y": null,
            "padding": null,
            "right": null,
            "top": null,
            "visibility": null,
            "width": null
          }
        }
      }
    }
  },
  "cells": [
    {
      "cell_type": "markdown",
      "metadata": {
        "id": "view-in-github",
        "colab_type": "text"
      },
      "source": [
        "<a href=\"https://colab.research.google.com/github/DL4CV-NPTEL/Deep-Learning-For-Computer-Vision/blob/main/notebooks/Week_6/Week_6_Lecture_1.ipynb\" target=\"_parent\"><img src=\"https://colab.research.google.com/assets/colab-badge.svg\" alt=\"Open In Colab\"/></a>"
      ]
    },
    {
      "cell_type": "markdown",
      "source": [
        "# Lecture 1: Explaining CNNs: Visualization Methods\n",
        "\n"
      ],
      "metadata": {
        "id": "5p8aGbdxc1Nz"
      }
    },
    {
      "cell_type": "code",
      "execution_count": 13,
      "metadata": {
        "colab": {
          "base_uri": "https://localhost:8080/",
          "height": 519,
          "referenced_widgets": [
            "64168339bd5745039f2354ca3d8b0f2a",
            "8341877cc0bc4d6eb236acb7f7e02872"
          ]
        },
        "id": "W5BZQI44cxz_",
        "outputId": "41490cbb-baa5-4bc7-baf0-781885ad585d"
      },
      "outputs": [
        {
          "output_type": "display_data",
          "data": {
            "text/plain": [
              "Output()"
            ],
            "application/vnd.jupyter.widget-view+json": {
              "version_major": 2,
              "version_minor": 0,
              "model_id": "64168339bd5745039f2354ca3d8b0f2a"
            }
          },
          "metadata": {}
        }
      ],
      "source": [
        "#@title \n",
        "from ipywidgets import widgets\n",
        "out1 = widgets.Output()\n",
        "with out1:\n",
        "  from IPython.display import YouTubeVideo\n",
        "  video = YouTubeVideo(id=f\"u3FBpyUA1dc\", width=854, height=480, fs=1, rel=0)\n",
        "  print(\"Video available at https://youtube.com/watch?v=\" + video.id)\n",
        "  display(video)\n",
        "display(out1)"
      ]
    },
    {
      "cell_type": "code",
      "source": [
        "#@title \n",
        "from IPython import display as IPyDisplay\n",
        "IPyDisplay.HTML(\n",
        "    f\"\"\"\n",
        "  <div>\n",
        "    <a href= \"https://github.com/DL4CV-NPTEL/Deep-Learning-For-Computer-Vision/blob/main/Slides/Week_5/DL4CV_Week06_Part01.pdf\" target=\"_blank\">\n",
        "    <img src=\"https://github.com/DL4CV-NPTEL/Deep-Learning-For-Computer-Vision/blob/main/Data/Slides_Logo.png?raw=1\"\n",
        "  alt=\"button link to Airtable\" style=\"width:200px\"></a>\n",
        "    </div>\"\"\" )"
      ],
      "metadata": {
        "colab": {
          "base_uri": "https://localhost:8080/",
          "height": 100
        },
        "id": "bJQjZzwxdQch",
        "outputId": "fde2a20d-8139-4e44-8ee6-b2226ddec90d"
      },
      "execution_count": 14,
      "outputs": [
        {
          "output_type": "execute_result",
          "data": {
            "text/plain": [
              "<IPython.core.display.HTML object>"
            ],
            "text/html": [
              "\n",
              "  <div>\n",
              "    <a href= \"https://github.com/DL4CV-NPTEL/Deep-Learning-For-Computer-Vision/blob/main/Slides/Week_5/DL4CV_Week06_Part01.pdf\" target=\"_blank\">\n",
              "    <img src=\"https://github.com/DL4CV-NPTEL/Deep-Learning-For-Computer-Vision/blob/main/Data/Slides_Logo.png?raw=1\"\n",
              "  alt=\"button link to Airtable\" style=\"width:200px\"></a>\n",
              "    </div>"
            ]
          },
          "metadata": {},
          "execution_count": 14
        }
      ]
    }
  ]
}