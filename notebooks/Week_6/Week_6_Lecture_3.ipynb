{
  "nbformat": 4,
  "nbformat_minor": 0,
  "metadata": {
    "colab": {
      "name": "Week_6_Lecture_3.ipynb",
      "provenance": [],
      "include_colab_link": true
    },
    "kernelspec": {
      "name": "python3",
      "display_name": "Python 3"
    },
    "language_info": {
      "name": "python"
    },
    "widgets": {
      "application/vnd.jupyter.widget-state+json": {
        "78ee35f42a3b4411988cf340d89b2105": {
          "model_module": "@jupyter-widgets/output",
          "model_name": "OutputModel",
          "model_module_version": "1.0.0",
          "state": {
            "_dom_classes": [],
            "_model_module": "@jupyter-widgets/output",
            "_model_module_version": "1.0.0",
            "_model_name": "OutputModel",
            "_view_count": null,
            "_view_module": "@jupyter-widgets/output",
            "_view_module_version": "1.0.0",
            "_view_name": "OutputView",
            "layout": "IPY_MODEL_32c1da1bc3d44b1d98c91b04c59f9e7c",
            "msg_id": "",
            "outputs": [
              {
                "output_type": "stream",
                "name": "stdout",
                "text": [
                  "Video available at https://youtube.com/watch?v=VmbBnSv3otc\n"
                ]
              },
              {
                "output_type": "display_data",
                "data": {
                  "text/plain": "<IPython.lib.display.YouTubeVideo at 0x7f2eb2e95a10>",
                  "text/html": "\n        <iframe\n            width=\"854\"\n            height=\"480\"\n            src=\"https://www.youtube.com/embed/VmbBnSv3otc?fs=1&rel=0\"\n            frameborder=\"0\"\n            allowfullscreen\n        ></iframe>\n        ",
                  "image/jpeg": "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\n"
                },
                "metadata": {}
              }
            ]
          }
        },
        "32c1da1bc3d44b1d98c91b04c59f9e7c": {
          "model_module": "@jupyter-widgets/base",
          "model_name": "LayoutModel",
          "model_module_version": "1.2.0",
          "state": {
            "_model_module": "@jupyter-widgets/base",
            "_model_module_version": "1.2.0",
            "_model_name": "LayoutModel",
            "_view_count": null,
            "_view_module": "@jupyter-widgets/base",
            "_view_module_version": "1.2.0",
            "_view_name": "LayoutView",
            "align_content": null,
            "align_items": null,
            "align_self": null,
            "border": null,
            "bottom": null,
            "display": null,
            "flex": null,
            "flex_flow": null,
            "grid_area": null,
            "grid_auto_columns": null,
            "grid_auto_flow": null,
            "grid_auto_rows": null,
            "grid_column": null,
            "grid_gap": null,
            "grid_row": null,
            "grid_template_areas": null,
            "grid_template_columns": null,
            "grid_template_rows": null,
            "height": null,
            "justify_content": null,
            "justify_items": null,
            "left": null,
            "margin": null,
            "max_height": null,
            "max_width": null,
            "min_height": null,
            "min_width": null,
            "object_fit": null,
            "object_position": null,
            "order": null,
            "overflow": null,
            "overflow_x": null,
            "overflow_y": null,
            "padding": null,
            "right": null,
            "top": null,
            "visibility": null,
            "width": null
          }
        }
      }
    }
  },
  "cells": [
    {
      "cell_type": "markdown",
      "metadata": {
        "id": "view-in-github",
        "colab_type": "text"
      },
      "source": [
        "<a href=\"https://colab.research.google.com/github/DL4CV-NPTEL/Deep-Learning-For-Computer-Vision/blob/main/notebooks/Week_6/Week_6_Lecture_3.ipynb\" target=\"_parent\"><img src=\"https://colab.research.google.com/assets/colab-badge.svg\" alt=\"Open In Colab\"/></a>"
      ]
    },
    {
      "cell_type": "markdown",
      "source": [
        "# Lecture 3: Explaining CNNs: Class Attribution Map Methods\n",
        "\n"
      ],
      "metadata": {
        "id": "5p8aGbdxc1Nz"
      }
    },
    {
      "cell_type": "code",
      "execution_count": null,
      "metadata": {
        "colab": {
          "base_uri": "https://localhost:8080/",
          "height": 519,
          "referenced_widgets": [
            "78ee35f42a3b4411988cf340d89b2105",
            "32c1da1bc3d44b1d98c91b04c59f9e7c"
          ]
        },
        "id": "W5BZQI44cxz_",
        "outputId": "bde6f49f-370b-46f0-d978-0b9e519b4c1a",
        "cellView": "form"
      },
      "outputs": [
        {
          "output_type": "display_data",
          "data": {
            "text/plain": [
              "Output()"
            ],
            "application/vnd.jupyter.widget-view+json": {
              "version_major": 2,
              "version_minor": 0,
              "model_id": "78ee35f42a3b4411988cf340d89b2105"
            }
          },
          "metadata": {}
        }
      ],
      "source": [
        "#@title \n",
        "from ipywidgets import widgets\n",
        "out1 = widgets.Output()\n",
        "with out1:\n",
        "  from IPython.display import YouTubeVideo\n",
        "  video = YouTubeVideo(id=f\"VmbBnSv3otc\", width=854, height=480, fs=1, rel=0)\n",
        "  print(\"Video available at https://youtube.com/watch?v=\" + video.id)\n",
        "  display(video)\n",
        "display(out1)"
      ]
    },
    {
      "cell_type": "code",
      "source": [
        "#@title \n",
        "from IPython import display as IPyDisplay\n",
        "IPyDisplay.HTML(\n",
        "    f\"\"\"\n",
        "  <div>\n",
        "    <a href= \"https://github.com/DL4CV-NPTEL/Deep-Learning-For-Computer-Vision/blob/main/Slides/Week_6/DL4CV_Week06_Part03.pdf\" target=\"_blank\">\n",
        "    <img src=\"https://github.com/DL4CV-NPTEL/Deep-Learning-For-Computer-Vision/blob/main/Data/Slides_Logo.png?raw=1\"\n",
        "  alt=\"button link to Airtable\" style=\"width:200px\"></a>\n",
        "    </div>\"\"\" )"
      ],
      "metadata": {
        "colab": {
          "base_uri": "https://localhost:8080/",
          "height": 100
        },
        "id": "bJQjZzwxdQch",
        "outputId": "a32d0b8d-a69d-496a-80f7-d5805bdf8424",
        "cellView": "form"
      },
      "execution_count": 1,
      "outputs": [
        {
          "output_type": "execute_result",
          "data": {
            "text/plain": [
              "<IPython.core.display.HTML object>"
            ],
            "text/html": [
              "\n",
              "  <div>\n",
              "    <a href= \"https://github.com/DL4CV-NPTEL/Deep-Learning-For-Computer-Vision/blob/main/Slides/Week_6/DL4CV_Week06_Part03.pdf\" target=\"_blank\">\n",
              "    <img src=\"https://github.com/DL4CV-NPTEL/Deep-Learning-For-Computer-Vision/blob/main/Data/Slides_Logo.png?raw=1\"\n",
              "  alt=\"button link to Airtable\" style=\"width:200px\"></a>\n",
              "    </div>"
            ]
          },
          "metadata": {},
          "execution_count": 1
        }
      ]
    }
  ]
}