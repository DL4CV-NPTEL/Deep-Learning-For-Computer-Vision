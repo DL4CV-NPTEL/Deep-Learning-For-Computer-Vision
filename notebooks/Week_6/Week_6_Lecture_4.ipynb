{
  "nbformat": 4,
  "nbformat_minor": 0,
  "metadata": {
    "colab": {
      "name": "Week_6_Lecture_4.ipynb",
      "provenance": [],
      "include_colab_link": true
    },
    "kernelspec": {
      "name": "python3",
      "display_name": "Python 3"
    },
    "language_info": {
      "name": "python"
    },
    "widgets": {
      "application/vnd.jupyter.widget-state+json": {
        "a1d0c9d93136442a896eae2f53152b82": {
          "model_module": "@jupyter-widgets/output",
          "model_name": "OutputModel",
          "model_module_version": "1.0.0",
          "state": {
            "_dom_classes": [],
            "_model_module": "@jupyter-widgets/output",
            "_model_module_version": "1.0.0",
            "_model_name": "OutputModel",
            "_view_count": null,
            "_view_module": "@jupyter-widgets/output",
            "_view_module_version": "1.0.0",
            "_view_name": "OutputView",
            "layout": "IPY_MODEL_88608e3858744794a351cd219956c93a",
            "msg_id": "",
            "outputs": [
              {
                "output_type": "stream",
                "name": "stdout",
                "text": [
                  "Video available at https://youtube.com/watch?v=-ZGmpoRBBaw\n"
                ]
              },
              {
                "output_type": "display_data",
                "data": {
                  "text/plain": "<IPython.lib.display.YouTubeVideo at 0x7f2eb24edad0>",
                  "text/html": "\n        <iframe\n            width=\"854\"\n            height=\"480\"\n            src=\"https://www.youtube.com/embed/-ZGmpoRBBaw?fs=1&rel=0\"\n            frameborder=\"0\"\n            allowfullscreen\n        ></iframe>\n        ",
                  "image/jpeg": "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\n"
                },
                "metadata": {}
              }
            ]
          }
        },
        "88608e3858744794a351cd219956c93a": {
          "model_module": "@jupyter-widgets/base",
          "model_name": "LayoutModel",
          "model_module_version": "1.2.0",
          "state": {
            "_model_module": "@jupyter-widgets/base",
            "_model_module_version": "1.2.0",
            "_model_name": "LayoutModel",
            "_view_count": null,
            "_view_module": "@jupyter-widgets/base",
            "_view_module_version": "1.2.0",
            "_view_name": "LayoutView",
            "align_content": null,
            "align_items": null,
            "align_self": null,
            "border": null,
            "bottom": null,
            "display": null,
            "flex": null,
            "flex_flow": null,
            "grid_area": null,
            "grid_auto_columns": null,
            "grid_auto_flow": null,
            "grid_auto_rows": null,
            "grid_column": null,
            "grid_gap": null,
            "grid_row": null,
            "grid_template_areas": null,
            "grid_template_columns": null,
            "grid_template_rows": null,
            "height": null,
            "justify_content": null,
            "justify_items": null,
            "left": null,
            "margin": null,
            "max_height": null,
            "max_width": null,
            "min_height": null,
            "min_width": null,
            "object_fit": null,
            "object_position": null,
            "order": null,
            "overflow": null,
            "overflow_x": null,
            "overflow_y": null,
            "padding": null,
            "right": null,
            "top": null,
            "visibility": null,
            "width": null
          }
        }
      }
    }
  },
  "cells": [
    {
      "cell_type": "markdown",
      "metadata": {
        "id": "view-in-github",
        "colab_type": "text"
      },
      "source": [
        "<a href=\"https://colab.research.google.com/github/DL4CV-NPTEL/Deep-Learning-For-Computer-Vision/blob/main/notebooks/Week_6/Week_6_Lecture_4.ipynb\" target=\"_parent\"><img src=\"https://colab.research.google.com/assets/colab-badge.svg\" alt=\"Open In Colab\"/></a>"
      ]
    },
    {
      "cell_type": "markdown",
      "source": [
        "# Lecture 4: Explaining CNNs: Recent Methods - Part 01\n",
        "\n"
      ],
      "metadata": {
        "id": "5p8aGbdxc1Nz"
      }
    },
    {
      "cell_type": "code",
      "execution_count": 20,
      "metadata": {
        "colab": {
          "base_uri": "https://localhost:8080/",
          "height": 519,
          "referenced_widgets": [
            "a1d0c9d93136442a896eae2f53152b82",
            "88608e3858744794a351cd219956c93a"
          ]
        },
        "id": "W5BZQI44cxz_",
        "outputId": "6b8003e1-4e6f-4df0-89cd-2176f2336cf4"
      },
      "outputs": [
        {
          "output_type": "display_data",
          "data": {
            "text/plain": [
              "Output()"
            ],
            "application/vnd.jupyter.widget-view+json": {
              "version_major": 2,
              "version_minor": 0,
              "model_id": "a1d0c9d93136442a896eae2f53152b82"
            }
          },
          "metadata": {}
        }
      ],
      "source": [
        "#@title \n",
        "from ipywidgets import widgets\n",
        "out1 = widgets.Output()\n",
        "with out1:\n",
        "  from IPython.display import YouTubeVideo\n",
        "  video = YouTubeVideo(id=f\"-ZGmpoRBBaw\", width=854, height=480, fs=1, rel=0)\n",
        "  print(\"Video available at https://youtube.com/watch?v=\" + video.id)\n",
        "  display(video)\n",
        "display(out1)"
      ]
    },
    {
      "cell_type": "code",
      "source": [
        "#@title \n",
        "from IPython import display as IPyDisplay\n",
        "IPyDisplay.HTML(\n",
        "    f\"\"\"\n",
        "  <div>\n",
        "    <a href= \"https://github.com/DL4CV-NPTEL/Deep-Learning-For-Computer-Vision/blob/main/Slides/Week_5/DL4CV_Week06_Part04.pdf\" target=\"_blank\">\n",
        "    <img src=\"https://github.com/DL4CV-NPTEL/Deep-Learning-For-Computer-Vision/blob/main/Data/Slides_Logo.png?raw=1\"\n",
        "  alt=\"button link to Airtable\" style=\"width:200px\"></a>\n",
        "    </div>\"\"\" )"
      ],
      "metadata": {
        "colab": {
          "base_uri": "https://localhost:8080/",
          "height": 100
        },
        "id": "bJQjZzwxdQch",
        "outputId": "f369f086-d1aa-4f1e-e4e6-f7d5578d721f"
      },
      "execution_count": 21,
      "outputs": [
        {
          "output_type": "execute_result",
          "data": {
            "text/plain": [
              "<IPython.core.display.HTML object>"
            ],
            "text/html": [
              "\n",
              "  <div>\n",
              "    <a href= \"https://github.com/DL4CV-NPTEL/Deep-Learning-For-Computer-Vision/blob/main/Slides/Week_5/DL4CV_Week06_Part04.pdf\" target=\"_blank\">\n",
              "    <img src=\"https://github.com/DL4CV-NPTEL/Deep-Learning-For-Computer-Vision/blob/main/Data/Slides_Logo.png?raw=1\"\n",
              "  alt=\"button link to Airtable\" style=\"width:200px\"></a>\n",
              "    </div>"
            ]
          },
          "metadata": {},
          "execution_count": 21
        }
      ]
    }
  ]
}