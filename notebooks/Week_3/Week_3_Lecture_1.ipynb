{
  "nbformat": 4,
  "nbformat_minor": 0,
  "metadata": {
    "colab": {
      "name": "Week_3_Lecture_1.ipynb",
      "provenance": [],
      "authorship_tag": "ABX9TyN5I6U3j+YQ+SyJXGUx/e4B",
      "include_colab_link": true
    },
    "kernelspec": {
      "name": "python3",
      "display_name": "Python 3"
    },
    "language_info": {
      "name": "python"
    },
    "widgets": {
      "application/vnd.jupyter.widget-state+json": {
        "f3a74971ec3c44a1a14aae07b9fcb45c": {
          "model_module": "@jupyter-widgets/output",
          "model_name": "OutputModel",
          "model_module_version": "1.0.0",
          "state": {
            "_dom_classes": [],
            "_model_module": "@jupyter-widgets/output",
            "_model_module_version": "1.0.0",
            "_model_name": "OutputModel",
            "_view_count": null,
            "_view_module": "@jupyter-widgets/output",
            "_view_module_version": "1.0.0",
            "_view_name": "OutputView",
            "layout": "IPY_MODEL_cca645b70e254a88907848cdb7918443",
            "msg_id": "",
            "outputs": [
              {
                "output_type": "stream",
                "name": "stdout",
                "text": [
                  "Video available at https://youtube.com/watch?v=Bcm264VX6r8\n"
                ]
              },
              {
                "output_type": "display_data",
                "data": {
                  "text/plain": "<IPython.lib.display.YouTubeVideo at 0x7f49eb5a89d0>",
                  "text/html": "\n        <iframe\n            width=\"854\"\n            height=\"480\"\n            src=\"https://www.youtube.com/embed/Bcm264VX6r8?fs=1&rel=0\"\n            frameborder=\"0\"\n            allowfullscreen\n        ></iframe>\n        ",
                  "image/jpeg": "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\n"
                },
                "metadata": {}
              }
            ]
          }
        },
        "cca645b70e254a88907848cdb7918443": {
          "model_module": "@jupyter-widgets/base",
          "model_name": "LayoutModel",
          "model_module_version": "1.2.0",
          "state": {
            "_model_module": "@jupyter-widgets/base",
            "_model_module_version": "1.2.0",
            "_model_name": "LayoutModel",
            "_view_count": null,
            "_view_module": "@jupyter-widgets/base",
            "_view_module_version": "1.2.0",
            "_view_name": "LayoutView",
            "align_content": null,
            "align_items": null,
            "align_self": null,
            "border": null,
            "bottom": null,
            "display": null,
            "flex": null,
            "flex_flow": null,
            "grid_area": null,
            "grid_auto_columns": null,
            "grid_auto_flow": null,
            "grid_auto_rows": null,
            "grid_column": null,
            "grid_gap": null,
            "grid_row": null,
            "grid_template_areas": null,
            "grid_template_columns": null,
            "grid_template_rows": null,
            "height": null,
            "justify_content": null,
            "justify_items": null,
            "left": null,
            "margin": null,
            "max_height": null,
            "max_width": null,
            "min_height": null,
            "min_width": null,
            "object_fit": null,
            "object_position": null,
            "order": null,
            "overflow": null,
            "overflow_x": null,
            "overflow_y": null,
            "padding": null,
            "right": null,
            "top": null,
            "visibility": null,
            "width": null
          }
        }
      }
    }
  },
  "cells": [
    {
      "cell_type": "markdown",
      "metadata": {
        "id": "view-in-github",
        "colab_type": "text"
      },
      "source": [
        "<a href=\"https://colab.research.google.com/github/DL4CV-NPTEL/Deep-Learning-For-Computer-Vision/blob/main/notebooks/Week_3/Week_3_Lecture_1.ipynb\" target=\"_parent\"><img src=\"https://colab.research.google.com/assets/colab-badge.svg\" alt=\"Open In Colab\"/></a>"
      ]
    },
    {
      "cell_type": "markdown",
      "source": [
        "# Lecture 1: Feature Matching"
      ],
      "metadata": {
        "id": "TFWpW-QQW37B"
      }
    },
    {
      "cell_type": "code",
      "execution_count": 1,
      "metadata": {
        "colab": {
          "base_uri": "https://localhost:8080/",
          "height": 519,
          "referenced_widgets": [
            "f3a74971ec3c44a1a14aae07b9fcb45c",
            "cca645b70e254a88907848cdb7918443"
          ]
        },
        "cellView": "form",
        "id": "b9Q1SF1UWWcI",
        "outputId": "f97d7b61-d7e7-40aa-8683-1b06e908029e"
      },
      "outputs": [
        {
          "output_type": "display_data",
          "data": {
            "text/plain": [
              "Output()"
            ],
            "application/vnd.jupyter.widget-view+json": {
              "version_major": 2,
              "version_minor": 0,
              "model_id": "f3a74971ec3c44a1a14aae07b9fcb45c"
            }
          },
          "metadata": {}
        }
      ],
      "source": [
        "#@title \n",
        "from ipywidgets import widgets\n",
        "out1 = widgets.Output()\n",
        "with out1:\n",
        "  from IPython.display import YouTubeVideo\n",
        "  video = YouTubeVideo(id=f\"Bcm264VX6r8\", width=854, height=480, fs=1, rel=0)\n",
        "  print(\"Video available at https://youtube.com/watch?v=\" + video.id)\n",
        "  display(video)\n",
        "display(out1)"
      ]
    },
    {
      "cell_type": "code",
      "source": [
        "#@title \n",
        "from IPython import display as IPyDisplay\n",
        "IPyDisplay.HTML(\n",
        "    f\"\"\"\n",
        "  <div>\n",
        "    <a href= \"https://github.com/DL4CV-NPTEL/Deep-Learning-For-Computer-Vision/blob/main/Slides/Week_3/DL4CV_Week03_Part01.pdf\" target=\"_blank\">\n",
        "    <img src=\"https://github.com/DL4CV-NPTEL/Deep-Learning-For-Computer-Vision/blob/main/Data/Slides_Logo.png?raw=1\"\n",
        "  alt=\"button link to Airtable\" style=\"width:200px\"></a>\n",
        "    </div>\"\"\" )"
      ],
      "metadata": {
        "colab": {
          "base_uri": "https://localhost:8080/",
          "height": 100
        },
        "cellView": "form",
        "id": "Qj8110s3XX-J",
        "outputId": "3cf6a0a6-946a-488b-899f-1cc3127d9ddd"
      },
      "execution_count": 2,
      "outputs": [
        {
          "output_type": "execute_result",
          "data": {
            "text/plain": [
              "<IPython.core.display.HTML object>"
            ],
            "text/html": [
              "\n",
              "  <div>\n",
              "    <a href= \"https://github.com/DL4CV-NPTEL/Deep-Learning-For-Computer-Vision/blob/main/Slides/Week_3/DL4CV_Week03_Part01.pdf\" target=\"_blank\">\n",
              "    <img src=\"https://github.com/DL4CV-NPTEL/Deep-Learning-For-Computer-Vision/blob/main/Data/Slides_Logo.png?raw=1\"\n",
              "  alt=\"button link to Airtable\" style=\"width:200px\"></a>\n",
              "    </div>"
            ]
          },
          "metadata": {},
          "execution_count": 2
        }
      ]
    },
    {
      "cell_type": "code",
      "source": [
        ""
      ],
      "metadata": {
        "id": "SBR6XeLDXkPB"
      },
      "execution_count": null,
      "outputs": []
    }
  ]
}