{
  "nbformat": 4,
  "nbformat_minor": 0,
  "metadata": {
    "colab": {
      "name": "Week_3_Lecture_3.ipynb",
      "provenance": [],
      "include_colab_link": true
    },
    "kernelspec": {
      "name": "python3",
      "display_name": "Python 3"
    },
    "language_info": {
      "name": "python"
    },
    "widgets": {
      "application/vnd.jupyter.widget-state+json": {
        "3a655d62551141a68c0692b4040c3131": {
          "model_module": "@jupyter-widgets/output",
          "model_name": "OutputModel",
          "model_module_version": "1.0.0",
          "state": {
            "_dom_classes": [],
            "_model_module": "@jupyter-widgets/output",
            "_model_module_version": "1.0.0",
            "_model_name": "OutputModel",
            "_view_count": null,
            "_view_module": "@jupyter-widgets/output",
            "_view_module_version": "1.0.0",
            "_view_name": "OutputView",
            "layout": "IPY_MODEL_747453a0e4eb480ea814ea37e1098576",
            "msg_id": "",
            "outputs": [
              {
                "output_type": "stream",
                "name": "stdout",
                "text": [
                  "Video available at https://youtube.com/watch?v=CwJPEMcuAxY\n"
                ]
              },
              {
                "output_type": "display_data",
                "data": {
                  "text/plain": "<IPython.lib.display.YouTubeVideo at 0x7fa0ba1e8090>",
                  "text/html": "\n        <iframe\n            width=\"854\"\n            height=\"480\"\n            src=\"https://www.youtube.com/embed/CwJPEMcuAxY?fs=1&rel=0\"\n            frameborder=\"0\"\n            allowfullscreen\n        ></iframe>\n        ",
                  "image/jpeg": "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\n"
                },
                "metadata": {}
              }
            ]
          }
        },
        "747453a0e4eb480ea814ea37e1098576": {
          "model_module": "@jupyter-widgets/base",
          "model_name": "LayoutModel",
          "model_module_version": "1.2.0",
          "state": {
            "_model_module": "@jupyter-widgets/base",
            "_model_module_version": "1.2.0",
            "_model_name": "LayoutModel",
            "_view_count": null,
            "_view_module": "@jupyter-widgets/base",
            "_view_module_version": "1.2.0",
            "_view_name": "LayoutView",
            "align_content": null,
            "align_items": null,
            "align_self": null,
            "border": null,
            "bottom": null,
            "display": null,
            "flex": null,
            "flex_flow": null,
            "grid_area": null,
            "grid_auto_columns": null,
            "grid_auto_flow": null,
            "grid_auto_rows": null,
            "grid_column": null,
            "grid_gap": null,
            "grid_row": null,
            "grid_template_areas": null,
            "grid_template_columns": null,
            "grid_template_rows": null,
            "height": null,
            "justify_content": null,
            "justify_items": null,
            "left": null,
            "margin": null,
            "max_height": null,
            "max_width": null,
            "min_height": null,
            "min_width": null,
            "object_fit": null,
            "object_position": null,
            "order": null,
            "overflow": null,
            "overflow_x": null,
            "overflow_y": null,
            "padding": null,
            "right": null,
            "top": null,
            "visibility": null,
            "width": null
          }
        }
      }
    }
  },
  "cells": [
    {
      "cell_type": "markdown",
      "metadata": {
        "id": "view-in-github",
        "colab_type": "text"
      },
      "source": [
        "<a href=\"https://colab.research.google.com/github/DL4CV-NPTEL/Deep-Learning-For-Computer-Vision/blob/main/notebooks/Week_3/Week_3_Lecture_3.ipynb\" target=\"_parent\"><img src=\"https://colab.research.google.com/assets/colab-badge.svg\" alt=\"Open In Colab\"/></a>"
      ]
    },
    {
      "cell_type": "markdown",
      "source": [
        "# Lecture 3: From Points to Images: Bag-of-Words and VLAD Representations"
      ],
      "metadata": {
        "id": "3JdIPfdtt2TU"
      }
    },
    {
      "cell_type": "code",
      "source": [
        "#@title \n",
        "from ipywidgets import widgets\n",
        "out1 = widgets.Output()\n",
        "with out1:\n",
        "  from IPython.display import YouTubeVideo\n",
        "  video = YouTubeVideo(id=f\"CwJPEMcuAxY\", width=854, height=480, fs=1, rel=0)\n",
        "  print(\"Video available at https://youtube.com/watch?v=\" + video.id)\n",
        "  display(video)\n",
        "display(out1)"
      ],
      "metadata": {
        "colab": {
          "base_uri": "https://localhost:8080/",
          "height": 519,
          "referenced_widgets": [
            "3a655d62551141a68c0692b4040c3131",
            "747453a0e4eb480ea814ea37e1098576"
          ]
        },
        "cellView": "form",
        "id": "rA0FZ1_3t3nO",
        "outputId": "890b6891-6fcf-41c3-a941-393d12c3c9f1"
      },
      "execution_count": 28,
      "outputs": [
        {
          "output_type": "display_data",
          "data": {
            "text/plain": [
              "Output()"
            ],
            "application/vnd.jupyter.widget-view+json": {
              "version_major": 2,
              "version_minor": 0,
              "model_id": "3a655d62551141a68c0692b4040c3131"
            }
          },
          "metadata": {}
        }
      ]
    },
    {
      "cell_type": "code",
      "source": [
        "#@title \n",
        "from IPython import display as IPyDisplay\n",
        "IPyDisplay.HTML(\n",
        "    f\"\"\"\n",
        "  <div>\n",
        "    <a href= \"https://github.com/DL4CV-NPTEL/Deep-Learning-For-Computer-Vision/blob/main/Slides/Week_3/DL4CV_Week03_Part03.pdf\" target=\"_blank\">\n",
        "    <img src=\"https://github.com/DL4CV-NPTEL/Deep-Learning-For-Computer-Vision/blob/main/Data/Slides_Logo.png?raw=1\"\n",
        "  alt=\"button link to Airtable\" style=\"width:200px\"></a>\n",
        "    </div>\"\"\" )"
      ],
      "metadata": {
        "colab": {
          "base_uri": "https://localhost:8080/",
          "height": 100
        },
        "cellView": "form",
        "id": "WrHo4zh4t_Km",
        "outputId": "b3565f5e-0382-465b-bb45-5babf95ac43e"
      },
      "execution_count": 29,
      "outputs": [
        {
          "output_type": "execute_result",
          "data": {
            "text/plain": [
              "<IPython.core.display.HTML object>"
            ],
            "text/html": [
              "\n",
              "  <div>\n",
              "    <a href= \"https://github.com/DL4CV-NPTEL/Deep-Learning-For-Computer-Vision/blob/main/Slides/Week_3/DL4CV_Week03_Part03.pdf\" target=\"_blank\">\n",
              "    <img src=\"https://github.com/DL4CV-NPTEL/Deep-Learning-For-Computer-Vision/blob/main/Data/Slides_Logo.png?raw=1\"\n",
              "  alt=\"button link to Airtable\" style=\"width:200px\"></a>\n",
              "    </div>"
            ]
          },
          "metadata": {},
          "execution_count": 29
        }
      ]
    },
    {
      "cell_type": "code",
      "source": [
        ""
      ],
      "metadata": {
        "id": "wvT7F0cyuLI4"
      },
      "execution_count": null,
      "outputs": []
    }
  ]
}