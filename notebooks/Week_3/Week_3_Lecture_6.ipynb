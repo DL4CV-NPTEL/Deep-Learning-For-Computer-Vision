{
  "nbformat": 4,
  "nbformat_minor": 0,
  "metadata": {
    "colab": {
      "name": "Week_3_Lecture_6.ipynb",
      "provenance": [],
      "include_colab_link": true
    },
    "kernelspec": {
      "name": "python3",
      "display_name": "Python 3"
    },
    "language_info": {
      "name": "python"
    },
    "widgets": {
      "application/vnd.jupyter.widget-state+json": {
        "feac19c075834410be0a983404793806": {
          "model_module": "@jupyter-widgets/output",
          "model_name": "OutputModel",
          "model_module_version": "1.0.0",
          "state": {
            "_dom_classes": [],
            "_model_module": "@jupyter-widgets/output",
            "_model_module_version": "1.0.0",
            "_model_name": "OutputModel",
            "_view_count": null,
            "_view_module": "@jupyter-widgets/output",
            "_view_module_version": "1.0.0",
            "_view_name": "OutputView",
            "layout": "IPY_MODEL_c935bbc5a17944d986418f4d4975893c",
            "msg_id": "",
            "outputs": [
              {
                "output_type": "stream",
                "name": "stdout",
                "text": [
                  "Video available at https://youtube.com/watch?v=CAhVHKRjORA\n"
                ]
              },
              {
                "output_type": "display_data",
                "data": {
                  "text/plain": "<IPython.lib.display.YouTubeVideo at 0x7fa0b5c747d0>",
                  "text/html": "\n        <iframe\n            width=\"854\"\n            height=\"480\"\n            src=\"https://www.youtube.com/embed/CAhVHKRjORA?fs=1&rel=0\"\n            frameborder=\"0\"\n            allowfullscreen\n        ></iframe>\n        ",
                  "image/jpeg": "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\n"
                },
                "metadata": {}
              }
            ]
          }
        },
        "c935bbc5a17944d986418f4d4975893c": {
          "model_module": "@jupyter-widgets/base",
          "model_name": "LayoutModel",
          "model_module_version": "1.2.0",
          "state": {
            "_model_module": "@jupyter-widgets/base",
            "_model_module_version": "1.2.0",
            "_model_name": "LayoutModel",
            "_view_count": null,
            "_view_module": "@jupyter-widgets/base",
            "_view_module_version": "1.2.0",
            "_view_name": "LayoutView",
            "align_content": null,
            "align_items": null,
            "align_self": null,
            "border": null,
            "bottom": null,
            "display": null,
            "flex": null,
            "flex_flow": null,
            "grid_area": null,
            "grid_auto_columns": null,
            "grid_auto_flow": null,
            "grid_auto_rows": null,
            "grid_column": null,
            "grid_gap": null,
            "grid_row": null,
            "grid_template_areas": null,
            "grid_template_columns": null,
            "grid_template_rows": null,
            "height": null,
            "justify_content": null,
            "justify_items": null,
            "left": null,
            "margin": null,
            "max_height": null,
            "max_width": null,
            "min_height": null,
            "min_width": null,
            "object_fit": null,
            "object_position": null,
            "order": null,
            "overflow": null,
            "overflow_x": null,
            "overflow_y": null,
            "padding": null,
            "right": null,
            "top": null,
            "visibility": null,
            "width": null
          }
        }
      }
    }
  },
  "cells": [
    {
      "cell_type": "markdown",
      "metadata": {
        "id": "view-in-github",
        "colab_type": "text"
      },
      "source": [
        "<a href=\"https://colab.research.google.com/github/DL4CV-NPTEL/Deep-Learning-For-Computer-Vision/blob/main/notebooks/Week_3/Week_3_Lecture_6.ipynb\" target=\"_parent\"><img src=\"https://colab.research.google.com/assets/colab-badge.svg\" alt=\"Open In Colab\"/></a>"
      ]
    },
    {
      "cell_type": "markdown",
      "source": [
        "# Lecture 6: From Traditional Vision to Deep Learning"
      ],
      "metadata": {
        "id": "3JdIPfdtt2TU"
      }
    },
    {
      "cell_type": "code",
      "source": [
        "#@title \n",
        "from ipywidgets import widgets\n",
        "out1 = widgets.Output()\n",
        "with out1:\n",
        "  from IPython.display import YouTubeVideo\n",
        "  video = YouTubeVideo(id=f\"CAhVHKRjORA\", width=854, height=480, fs=1, rel=0)\n",
        "  print(\"Video available at https://youtube.com/watch?v=\" + video.id)\n",
        "  display(video)\n",
        "display(out1)"
      ],
      "metadata": {
        "colab": {
          "base_uri": "https://localhost:8080/",
          "height": 519,
          "referenced_widgets": [
            "feac19c075834410be0a983404793806",
            "c935bbc5a17944d986418f4d4975893c"
          ]
        },
        "cellView": "form",
        "id": "rA0FZ1_3t3nO",
        "outputId": "28e62991-74a1-44ea-99d5-6370fa991c04"
      },
      "execution_count": 34,
      "outputs": [
        {
          "output_type": "display_data",
          "data": {
            "text/plain": [
              "Output()"
            ],
            "application/vnd.jupyter.widget-view+json": {
              "version_major": 2,
              "version_minor": 0,
              "model_id": "feac19c075834410be0a983404793806"
            }
          },
          "metadata": {}
        }
      ]
    },
    {
      "cell_type": "code",
      "source": [
        "#@title \n",
        "from IPython import display as IPyDisplay\n",
        "IPyDisplay.HTML(\n",
        "    f\"\"\"\n",
        "  <div>\n",
        "    <a href= \"https://github.com/DL4CV-NPTEL/Deep-Learning-For-Computer-Vision/blob/main/Slides/Week_3/DL4CV_Week03_Part06.pdf\" target=\"_blank\">\n",
        "    <img src=\"https://github.com/DL4CV-NPTEL/Deep-Learning-For-Computer-Vision/blob/main/Data/Slides_Logo.png?raw=1\"\n",
        "  alt=\"button link to Airtable\" style=\"width:200px\"></a>\n",
        "    </div>\"\"\" )"
      ],
      "metadata": {
        "colab": {
          "base_uri": "https://localhost:8080/",
          "height": 100
        },
        "cellView": "form",
        "id": "WrHo4zh4t_Km",
        "outputId": "48f1c528-74fd-44a7-ca1c-dd46f5b252c1"
      },
      "execution_count": 35,
      "outputs": [
        {
          "output_type": "execute_result",
          "data": {
            "text/plain": [
              "<IPython.core.display.HTML object>"
            ],
            "text/html": [
              "\n",
              "  <div>\n",
              "    <a href= \"https://github.com/DL4CV-NPTEL/Deep-Learning-For-Computer-Vision/blob/main/Slides/Week_3/DL4CV_Week03_Part06.pdf\" target=\"_blank\">\n",
              "    <img src=\"https://github.com/DL4CV-NPTEL/Deep-Learning-For-Computer-Vision/blob/main/Data/Slides_Logo.png?raw=1\"\n",
              "  alt=\"button link to Airtable\" style=\"width:200px\"></a>\n",
              "    </div>"
            ]
          },
          "metadata": {},
          "execution_count": 35
        }
      ]
    },
    {
      "cell_type": "code",
      "source": [
        ""
      ],
      "metadata": {
        "id": "wvT7F0cyuLI4"
      },
      "execution_count": null,
      "outputs": []
    }
  ]
}