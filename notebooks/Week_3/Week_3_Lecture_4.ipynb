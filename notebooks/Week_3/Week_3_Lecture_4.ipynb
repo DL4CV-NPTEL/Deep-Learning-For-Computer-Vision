{
  "nbformat": 4,
  "nbformat_minor": 0,
  "metadata": {
    "colab": {
      "name": "Week_3_Lecture_4.ipynb",
      "provenance": [],
      "include_colab_link": true
    },
    "kernelspec": {
      "name": "python3",
      "display_name": "Python 3"
    },
    "language_info": {
      "name": "python"
    },
    "widgets": {
      "application/vnd.jupyter.widget-state+json": {
        "59587d4c777f4a218515157efdb8a1a8": {
          "model_module": "@jupyter-widgets/output",
          "model_name": "OutputModel",
          "model_module_version": "1.0.0",
          "state": {
            "_dom_classes": [],
            "_model_module": "@jupyter-widgets/output",
            "_model_module_version": "1.0.0",
            "_model_name": "OutputModel",
            "_view_count": null,
            "_view_module": "@jupyter-widgets/output",
            "_view_module_version": "1.0.0",
            "_view_name": "OutputView",
            "layout": "IPY_MODEL_04289887b7f74c39b610af865fe96443",
            "msg_id": "",
            "outputs": [
              {
                "output_type": "stream",
                "name": "stdout",
                "text": [
                  "Video available at https://youtube.com/watch?v=pHbQeVWuAfI\n"
                ]
              },
              {
                "output_type": "display_data",
                "data": {
                  "text/plain": "<IPython.lib.display.YouTubeVideo at 0x7fa0b5cce4d0>",
                  "text/html": "\n        <iframe\n            width=\"854\"\n            height=\"480\"\n            src=\"https://www.youtube.com/embed/pHbQeVWuAfI?fs=1&rel=0\"\n            frameborder=\"0\"\n            allowfullscreen\n        ></iframe>\n        ",
                  "image/jpeg": "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\n"
                },
                "metadata": {}
              }
            ]
          }
        },
        "04289887b7f74c39b610af865fe96443": {
          "model_module": "@jupyter-widgets/base",
          "model_name": "LayoutModel",
          "model_module_version": "1.2.0",
          "state": {
            "_model_module": "@jupyter-widgets/base",
            "_model_module_version": "1.2.0",
            "_model_name": "LayoutModel",
            "_view_count": null,
            "_view_module": "@jupyter-widgets/base",
            "_view_module_version": "1.2.0",
            "_view_name": "LayoutView",
            "align_content": null,
            "align_items": null,
            "align_self": null,
            "border": null,
            "bottom": null,
            "display": null,
            "flex": null,
            "flex_flow": null,
            "grid_area": null,
            "grid_auto_columns": null,
            "grid_auto_flow": null,
            "grid_auto_rows": null,
            "grid_column": null,
            "grid_gap": null,
            "grid_row": null,
            "grid_template_areas": null,
            "grid_template_columns": null,
            "grid_template_rows": null,
            "height": null,
            "justify_content": null,
            "justify_items": null,
            "left": null,
            "margin": null,
            "max_height": null,
            "max_width": null,
            "min_height": null,
            "min_width": null,
            "object_fit": null,
            "object_position": null,
            "order": null,
            "overflow": null,
            "overflow_x": null,
            "overflow_y": null,
            "padding": null,
            "right": null,
            "top": null,
            "visibility": null,
            "width": null
          }
        }
      }
    }
  },
  "cells": [
    {
      "cell_type": "markdown",
      "metadata": {
        "id": "view-in-github",
        "colab_type": "text"
      },
      "source": [
        "<a href=\"https://colab.research.google.com/github/DL4CV-NPTEL/Deep-Learning-For-Computer-Vision/blob/main/notebooks/Week_3/Week_3_Lecture_4.ipynb\" target=\"_parent\"><img src=\"https://colab.research.google.com/assets/colab-badge.svg\" alt=\"Open In Colab\"/></a>"
      ]
    },
    {
      "cell_type": "markdown",
      "source": [
        "# Lecture 4: Image Descriptor Matching "
      ],
      "metadata": {
        "id": "3JdIPfdtt2TU"
      }
    },
    {
      "cell_type": "code",
      "source": [
        "#@title \n",
        "from ipywidgets import widgets\n",
        "out1 = widgets.Output()\n",
        "with out1:\n",
        "  from IPython.display import YouTubeVideo\n",
        "  video = YouTubeVideo(id=f\"pHbQeVWuAfI\", width=854, height=480, fs=1, rel=0)\n",
        "  print(\"Video available at https://youtube.com/watch?v=\" + video.id)\n",
        "  display(video)\n",
        "display(out1)"
      ],
      "metadata": {
        "colab": {
          "base_uri": "https://localhost:8080/",
          "height": 519,
          "referenced_widgets": [
            "59587d4c777f4a218515157efdb8a1a8",
            "04289887b7f74c39b610af865fe96443"
          ]
        },
        "cellView": "form",
        "id": "rA0FZ1_3t3nO",
        "outputId": "729b0320-e39d-47d9-d21f-43c4317742fd"
      },
      "execution_count": 36,
      "outputs": [
        {
          "output_type": "display_data",
          "data": {
            "text/plain": [
              "Output()"
            ],
            "application/vnd.jupyter.widget-view+json": {
              "version_major": 2,
              "version_minor": 0,
              "model_id": "59587d4c777f4a218515157efdb8a1a8"
            }
          },
          "metadata": {}
        }
      ]
    },
    {
      "cell_type": "code",
      "source": [
        "#@title \n",
        "from IPython import display as IPyDisplay\n",
        "IPyDisplay.HTML(\n",
        "    f\"\"\"\n",
        "  <div>\n",
        "    <a href= \"https://github.com/DL4CV-NPTEL/Deep-Learning-For-Computer-Vision/blob/main/Slides/Week_3/DL4CV_Week03_Part04.pdf\" target=\"_blank\">\n",
        "    <img src=\"https://github.com/DL4CV-NPTEL/Deep-Learning-For-Computer-Vision/blob/main/Data/Slides_Logo.png?raw=1\"\n",
        "  alt=\"button link to Airtable\" style=\"width:200px\"></a>\n",
        "    </div>\"\"\" )"
      ],
      "metadata": {
        "colab": {
          "base_uri": "https://localhost:8080/",
          "height": 100
        },
        "cellView": "form",
        "id": "WrHo4zh4t_Km",
        "outputId": "5079b296-3472-4ece-be77-76bb90061811"
      },
      "execution_count": 37,
      "outputs": [
        {
          "output_type": "execute_result",
          "data": {
            "text/plain": [
              "<IPython.core.display.HTML object>"
            ],
            "text/html": [
              "\n",
              "  <div>\n",
              "    <a href= \"https://github.com/DL4CV-NPTEL/Deep-Learning-For-Computer-Vision/blob/main/Slides/Week_3/DL4CV_Week03_Part04.pdf\" target=\"_blank\">\n",
              "    <img src=\"https://github.com/DL4CV-NPTEL/Deep-Learning-For-Computer-Vision/blob/main/Data/Slides_Logo.png?raw=1\"\n",
              "  alt=\"button link to Airtable\" style=\"width:200px\"></a>\n",
              "    </div>"
            ]
          },
          "metadata": {},
          "execution_count": 37
        }
      ]
    },
    {
      "cell_type": "code",
      "source": [
        ""
      ],
      "metadata": {
        "id": "wvT7F0cyuLI4"
      },
      "execution_count": null,
      "outputs": []
    }
  ]
}