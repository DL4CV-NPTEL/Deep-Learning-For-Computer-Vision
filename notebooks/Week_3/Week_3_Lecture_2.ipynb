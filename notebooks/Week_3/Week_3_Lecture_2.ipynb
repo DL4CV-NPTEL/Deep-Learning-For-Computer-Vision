{
  "nbformat": 4,
  "nbformat_minor": 0,
  "metadata": {
    "colab": {
      "name": "Week_3_Lecture_2.ipynb",
      "provenance": [],
      "include_colab_link": true
    },
    "kernelspec": {
      "name": "python3",
      "display_name": "Python 3"
    },
    "language_info": {
      "name": "python"
    },
    "widgets": {
      "application/vnd.jupyter.widget-state+json": {
        "ed7fed4a6b9d4d31b5130885708dfc75": {
          "model_module": "@jupyter-widgets/output",
          "model_name": "OutputModel",
          "model_module_version": "1.0.0",
          "state": {
            "_dom_classes": [],
            "_model_module": "@jupyter-widgets/output",
            "_model_module_version": "1.0.0",
            "_model_name": "OutputModel",
            "_view_count": null,
            "_view_module": "@jupyter-widgets/output",
            "_view_module_version": "1.0.0",
            "_view_name": "OutputView",
            "layout": "IPY_MODEL_c5069fec08dc40ceb2c483ed7e339f7d",
            "msg_id": "",
            "outputs": [
              {
                "output_type": "stream",
                "name": "stdout",
                "text": [
                  "Video available at https://youtube.com/watch?v=uJ_8byXUqGc\n"
                ]
              },
              {
                "output_type": "display_data",
                "data": {
                  "text/plain": "<IPython.lib.display.YouTubeVideo at 0x7fa0b5cce6d0>",
                  "text/html": "\n        <iframe\n            width=\"854\"\n            height=\"480\"\n            src=\"https://www.youtube.com/embed/uJ_8byXUqGc?fs=1&rel=0\"\n            frameborder=\"0\"\n            allowfullscreen\n        ></iframe>\n        ",
                  "image/jpeg": "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\n"
                },
                "metadata": {}
              }
            ]
          }
        },
        "c5069fec08dc40ceb2c483ed7e339f7d": {
          "model_module": "@jupyter-widgets/base",
          "model_name": "LayoutModel",
          "model_module_version": "1.2.0",
          "state": {
            "_model_module": "@jupyter-widgets/base",
            "_model_module_version": "1.2.0",
            "_model_name": "LayoutModel",
            "_view_count": null,
            "_view_module": "@jupyter-widgets/base",
            "_view_module_version": "1.2.0",
            "_view_name": "LayoutView",
            "align_content": null,
            "align_items": null,
            "align_self": null,
            "border": null,
            "bottom": null,
            "display": null,
            "flex": null,
            "flex_flow": null,
            "grid_area": null,
            "grid_auto_columns": null,
            "grid_auto_flow": null,
            "grid_auto_rows": null,
            "grid_column": null,
            "grid_gap": null,
            "grid_row": null,
            "grid_template_areas": null,
            "grid_template_columns": null,
            "grid_template_rows": null,
            "height": null,
            "justify_content": null,
            "justify_items": null,
            "left": null,
            "margin": null,
            "max_height": null,
            "max_width": null,
            "min_height": null,
            "min_width": null,
            "object_fit": null,
            "object_position": null,
            "order": null,
            "overflow": null,
            "overflow_x": null,
            "overflow_y": null,
            "padding": null,
            "right": null,
            "top": null,
            "visibility": null,
            "width": null
          }
        }
      }
    }
  },
  "cells": [
    {
      "cell_type": "markdown",
      "metadata": {
        "id": "view-in-github",
        "colab_type": "text"
      },
      "source": [
        "<a href=\"https://colab.research.google.com/github/DL4CV-NPTEL/Deep-Learning-For-Computer-Vision/blob/main/notebooks/Week_3/Week_3_Lecture_2.ipynb\" target=\"_parent\"><img src=\"https://colab.research.google.com/assets/colab-badge.svg\" alt=\"Open In Colab\"/></a>"
      ]
    },
    {
      "cell_type": "markdown",
      "source": [
        "# Lecture 2: Hough Transform "
      ],
      "metadata": {
        "id": "3JdIPfdtt2TU"
      }
    },
    {
      "cell_type": "code",
      "source": [
        "#@title \n",
        "from ipywidgets import widgets\n",
        "out1 = widgets.Output()\n",
        "with out1:\n",
        "  from IPython.display import YouTubeVideo\n",
        "  video = YouTubeVideo(id=f\"uJ_8byXUqGc\", width=854, height=480, fs=1, rel=0)\n",
        "  print(\"Video available at https://youtube.com/watch?v=\" + video.id)\n",
        "  display(video)\n",
        "display(out1)"
      ],
      "metadata": {
        "colab": {
          "base_uri": "https://localhost:8080/",
          "height": 519,
          "referenced_widgets": [
            "ed7fed4a6b9d4d31b5130885708dfc75",
            "c5069fec08dc40ceb2c483ed7e339f7d"
          ]
        },
        "cellView": "form",
        "id": "rA0FZ1_3t3nO",
        "outputId": "bc177926-ec41-4561-e15d-20ef5f56997d"
      },
      "execution_count": 26,
      "outputs": [
        {
          "output_type": "display_data",
          "data": {
            "text/plain": [
              "Output()"
            ],
            "application/vnd.jupyter.widget-view+json": {
              "version_major": 2,
              "version_minor": 0,
              "model_id": "ed7fed4a6b9d4d31b5130885708dfc75"
            }
          },
          "metadata": {}
        }
      ]
    },
    {
      "cell_type": "code",
      "source": [
        "#@title \n",
        "from IPython import display as IPyDisplay\n",
        "IPyDisplay.HTML(\n",
        "    f\"\"\"\n",
        "  <div>\n",
        "    <a href= \"https://github.com/DL4CV-NPTEL/Deep-Learning-For-Computer-Vision/blob/main/Slides/Week_3/DL4CV_Week03_Part02.pdf\" target=\"_blank\">\n",
        "    <img src=\"https://github.com/DL4CV-NPTEL/Deep-Learning-For-Computer-Vision/blob/main/Data/Slides_Logo.png?raw=1\"\n",
        "  alt=\"button link to Airtable\" style=\"width:200px\"></a>\n",
        "    </div>\"\"\" )"
      ],
      "metadata": {
        "colab": {
          "base_uri": "https://localhost:8080/",
          "height": 100
        },
        "cellView": "form",
        "id": "WrHo4zh4t_Km",
        "outputId": "78e5249d-6771-4a75-da32-95368f13e123"
      },
      "execution_count": 27,
      "outputs": [
        {
          "output_type": "execute_result",
          "data": {
            "text/plain": [
              "<IPython.core.display.HTML object>"
            ],
            "text/html": [
              "\n",
              "  <div>\n",
              "    <a href= \"https://github.com/DL4CV-NPTEL/Deep-Learning-For-Computer-Vision/blob/main/Slides/Week_3/DL4CV_Week03_Part02.pdf\" target=\"_blank\">\n",
              "    <img src=\"https://github.com/DL4CV-NPTEL/Deep-Learning-For-Computer-Vision/blob/main/Data/Slides_Logo.png?raw=1\"\n",
              "  alt=\"button link to Airtable\" style=\"width:200px\"></a>\n",
              "    </div>"
            ]
          },
          "metadata": {},
          "execution_count": 27
        }
      ]
    },
    {
      "cell_type": "code",
      "source": [
        ""
      ],
      "metadata": {
        "id": "wvT7F0cyuLI4"
      },
      "execution_count": null,
      "outputs": []
    }
  ]
}