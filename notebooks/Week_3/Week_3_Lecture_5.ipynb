{
  "nbformat": 4,
  "nbformat_minor": 0,
  "metadata": {
    "colab": {
      "name": "Week_3_Lecture_5.ipynb",
      "provenance": [],
      "include_colab_link": true
    },
    "kernelspec": {
      "name": "python3",
      "display_name": "Python 3"
    },
    "language_info": {
      "name": "python"
    },
    "widgets": {
      "application/vnd.jupyter.widget-state+json": {
        "edc98dee3174412fbb688bcbc319953e": {
          "model_module": "@jupyter-widgets/output",
          "model_name": "OutputModel",
          "model_module_version": "1.0.0",
          "state": {
            "_dom_classes": [],
            "_model_module": "@jupyter-widgets/output",
            "_model_module_version": "1.0.0",
            "_model_name": "OutputModel",
            "_view_count": null,
            "_view_module": "@jupyter-widgets/output",
            "_view_module_version": "1.0.0",
            "_view_name": "OutputView",
            "layout": "IPY_MODEL_b5caa3ad6f5241fd80a4ea1701f639d6",
            "msg_id": "",
            "outputs": [
              {
                "output_type": "stream",
                "name": "stdout",
                "text": [
                  "Video available at https://youtube.com/watch?v=-s4D_QTzpuo\n"
                ]
              },
              {
                "output_type": "display_data",
                "data": {
                  "text/plain": "<IPython.lib.display.YouTubeVideo at 0x7fa0b5c74d10>",
                  "text/html": "\n        <iframe\n            width=\"854\"\n            height=\"480\"\n            src=\"https://www.youtube.com/embed/-s4D_QTzpuo?fs=1&rel=0\"\n            frameborder=\"0\"\n            allowfullscreen\n        ></iframe>\n        ",
                  "image/jpeg": "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\n"
                },
                "metadata": {}
              }
            ]
          }
        },
        "b5caa3ad6f5241fd80a4ea1701f639d6": {
          "model_module": "@jupyter-widgets/base",
          "model_name": "LayoutModel",
          "model_module_version": "1.2.0",
          "state": {
            "_model_module": "@jupyter-widgets/base",
            "_model_module_version": "1.2.0",
            "_model_name": "LayoutModel",
            "_view_count": null,
            "_view_module": "@jupyter-widgets/base",
            "_view_module_version": "1.2.0",
            "_view_name": "LayoutView",
            "align_content": null,
            "align_items": null,
            "align_self": null,
            "border": null,
            "bottom": null,
            "display": null,
            "flex": null,
            "flex_flow": null,
            "grid_area": null,
            "grid_auto_columns": null,
            "grid_auto_flow": null,
            "grid_auto_rows": null,
            "grid_column": null,
            "grid_gap": null,
            "grid_row": null,
            "grid_template_areas": null,
            "grid_template_columns": null,
            "grid_template_rows": null,
            "height": null,
            "justify_content": null,
            "justify_items": null,
            "left": null,
            "margin": null,
            "max_height": null,
            "max_width": null,
            "min_height": null,
            "min_width": null,
            "object_fit": null,
            "object_position": null,
            "order": null,
            "overflow": null,
            "overflow_x": null,
            "overflow_y": null,
            "padding": null,
            "right": null,
            "top": null,
            "visibility": null,
            "width": null
          }
        }
      }
    }
  },
  "cells": [
    {
      "cell_type": "markdown",
      "metadata": {
        "id": "view-in-github",
        "colab_type": "text"
      },
      "source": [
        "<a href=\"https://colab.research.google.com/github/DL4CV-NPTEL/Deep-Learning-For-Computer-Vision/blob/main/notebooks/Week_3/Week_3_Lecture_5.ipynb\" target=\"_parent\"><img src=\"https://colab.research.google.com/assets/colab-badge.svg\" alt=\"Open In Colab\"/></a>"
      ]
    },
    {
      "cell_type": "markdown",
      "source": [
        "# Lecture 5: Pyramid Matching "
      ],
      "metadata": {
        "id": "3JdIPfdtt2TU"
      }
    },
    {
      "cell_type": "code",
      "source": [
        "#@title \n",
        "from ipywidgets import widgets\n",
        "out1 = widgets.Output()\n",
        "with out1:\n",
        "  from IPython.display import YouTubeVideo\n",
        "  video = YouTubeVideo(id=f\"-s4D_QTzpuo\", width=854, height=480, fs=1, rel=0)\n",
        "  print(\"Video available at https://youtube.com/watch?v=\" + video.id)\n",
        "  display(video)\n",
        "display(out1)"
      ],
      "metadata": {
        "colab": {
          "base_uri": "https://localhost:8080/",
          "height": 519,
          "referenced_widgets": [
            "edc98dee3174412fbb688bcbc319953e",
            "b5caa3ad6f5241fd80a4ea1701f639d6"
          ]
        },
        "cellView": "form",
        "id": "rA0FZ1_3t3nO",
        "outputId": "cbbbdcfa-d04b-4309-f11f-40a77bee3639"
      },
      "execution_count": 32,
      "outputs": [
        {
          "output_type": "display_data",
          "data": {
            "text/plain": [
              "Output()"
            ],
            "application/vnd.jupyter.widget-view+json": {
              "version_major": 2,
              "version_minor": 0,
              "model_id": "edc98dee3174412fbb688bcbc319953e"
            }
          },
          "metadata": {}
        }
      ]
    },
    {
      "cell_type": "code",
      "source": [
        "#@title \n",
        "from IPython import display as IPyDisplay\n",
        "IPyDisplay.HTML(\n",
        "    f\"\"\"\n",
        "  <div>\n",
        "    <a href= \"https://github.com/DL4CV-NPTEL/Deep-Learning-For-Computer-Vision/blob/main/Slides/Week_3/DL4CV_Week03_Part05.pdf\" target=\"_blank\">\n",
        "    <img src=\"https://github.com/DL4CV-NPTEL/Deep-Learning-For-Computer-Vision/blob/main/Data/Slides_Logo.png?raw=1\"\n",
        "  alt=\"button link to Airtable\" style=\"width:200px\"></a>\n",
        "    </div>\"\"\" )"
      ],
      "metadata": {
        "colab": {
          "base_uri": "https://localhost:8080/",
          "height": 100
        },
        "cellView": "form",
        "id": "WrHo4zh4t_Km",
        "outputId": "9ba60843-86a2-48fa-f90e-9dccb3d6124d"
      },
      "execution_count": 33,
      "outputs": [
        {
          "output_type": "execute_result",
          "data": {
            "text/plain": [
              "<IPython.core.display.HTML object>"
            ],
            "text/html": [
              "\n",
              "  <div>\n",
              "    <a href= \"https://github.com/DL4CV-NPTEL/Deep-Learning-For-Computer-Vision/blob/main/Slides/Week_3/DL4CV_Week03_Part05.pdf\" target=\"_blank\">\n",
              "    <img src=\"https://github.com/DL4CV-NPTEL/Deep-Learning-For-Computer-Vision/blob/main/Data/Slides_Logo.png?raw=1\"\n",
              "  alt=\"button link to Airtable\" style=\"width:200px\"></a>\n",
              "    </div>"
            ]
          },
          "metadata": {},
          "execution_count": 33
        }
      ]
    },
    {
      "cell_type": "code",
      "source": [
        ""
      ],
      "metadata": {
        "id": "wvT7F0cyuLI4"
      },
      "execution_count": null,
      "outputs": []
    }
  ]
}