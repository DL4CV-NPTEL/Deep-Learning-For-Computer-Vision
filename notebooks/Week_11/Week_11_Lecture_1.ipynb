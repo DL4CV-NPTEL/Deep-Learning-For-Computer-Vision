{
  "nbformat": 4,
  "nbformat_minor": 0,
  "metadata": {
    "colab": {
      "name": "Week_11_Lecture_1.ipynb",
      "provenance": [],
      "authorship_tag": "ABX9TyPHX/tF1afxN4VlnDc6ttNO",
      "include_colab_link": true
    },
    "kernelspec": {
      "name": "python3",
      "display_name": "Python 3"
    },
    "language_info": {
      "name": "python"
    },
    "widgets": {
      "application/vnd.jupyter.widget-state+json": {
        "661573e346df455a85293ba1d1dec1d6": {
          "model_module": "@jupyter-widgets/output",
          "model_name": "OutputModel",
          "model_module_version": "1.0.0",
          "state": {
            "_dom_classes": [],
            "_model_module": "@jupyter-widgets/output",
            "_model_module_version": "1.0.0",
            "_model_name": "OutputModel",
            "_view_count": null,
            "_view_module": "@jupyter-widgets/output",
            "_view_module_version": "1.0.0",
            "_view_name": "OutputView",
            "layout": "IPY_MODEL_b142744cdb354804bf95a48e23ab7fb2",
            "msg_id": "",
            "outputs": [
              {
                "output_type": "stream",
                "name": "stdout",
                "text": [
                  "Video available at https://youtube.com/watch?v=oRQ67il-hdY\n"
                ]
              },
              {
                "output_type": "display_data",
                "data": {
                  "text/plain": "<IPython.lib.display.YouTubeVideo at 0x7f79292ee0d0>",
                  "text/html": "\n        <iframe\n            width=\"854\"\n            height=\"480\"\n            src=\"https://www.youtube.com/embed/oRQ67il-hdY?fs=1&rel=0\"\n            frameborder=\"0\"\n            allowfullscreen\n        ></iframe>\n        ",
                  "image/jpeg": "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\n"
                },
                "metadata": {}
              }
            ]
          }
        },
        "b142744cdb354804bf95a48e23ab7fb2": {
          "model_module": "@jupyter-widgets/base",
          "model_name": "LayoutModel",
          "model_module_version": "1.2.0",
          "state": {
            "_model_module": "@jupyter-widgets/base",
            "_model_module_version": "1.2.0",
            "_model_name": "LayoutModel",
            "_view_count": null,
            "_view_module": "@jupyter-widgets/base",
            "_view_module_version": "1.2.0",
            "_view_name": "LayoutView",
            "align_content": null,
            "align_items": null,
            "align_self": null,
            "border": null,
            "bottom": null,
            "display": null,
            "flex": null,
            "flex_flow": null,
            "grid_area": null,
            "grid_auto_columns": null,
            "grid_auto_flow": null,
            "grid_auto_rows": null,
            "grid_column": null,
            "grid_gap": null,
            "grid_row": null,
            "grid_template_areas": null,
            "grid_template_columns": null,
            "grid_template_rows": null,
            "height": null,
            "justify_content": null,
            "justify_items": null,
            "left": null,
            "margin": null,
            "max_height": null,
            "max_width": null,
            "min_height": null,
            "min_width": null,
            "object_fit": null,
            "object_position": null,
            "order": null,
            "overflow": null,
            "overflow_x": null,
            "overflow_y": null,
            "padding": null,
            "right": null,
            "top": null,
            "visibility": null,
            "width": null
          }
        }
      }
    }
  },
  "cells": [
    {
      "cell_type": "markdown",
      "metadata": {
        "id": "view-in-github",
        "colab_type": "text"
      },
      "source": [
        "<a href=\"https://colab.research.google.com/github/DL4CV-NPTEL/Deep-Learning-For-Computer-Vision/blob/main/notebooks/Week_11/Week_11_Lecture_1.ipynb\" target=\"_parent\"><img src=\"https://colab.research.google.com/assets/colab-badge.svg\" alt=\"Open In Colab\"/></a>"
      ]
    },
    {
      "cell_type": "markdown",
      "source": [
        "# Lecture 1 : GAN Improvements"
      ],
      "metadata": {
        "id": "k11aFbASrDpm"
      }
    },
    {
      "cell_type": "code",
      "source": [
        "#@title \n",
        "from ipywidgets import widgets\n",
        "out1 = widgets.Output()\n",
        "with out1:\n",
        "  from IPython.display import YouTubeVideo\n",
        "  video = YouTubeVideo(id=f\"oRQ67il-hdY\", width=854, height=480, fs=1, rel=0)\n",
        "  print(\"Video available at https://youtube.com/watch?v=\" + video.id)\n",
        "  display(video)\n",
        "display(out1)"
      ],
      "metadata": {
        "colab": {
          "base_uri": "https://localhost:8080/",
          "height": 519,
          "referenced_widgets": [
            "661573e346df455a85293ba1d1dec1d6",
            "b142744cdb354804bf95a48e23ab7fb2"
          ]
        },
        "cellView": "form",
        "id": "80sF7sPqrIec",
        "outputId": "dcfa1451-0756-4a17-841f-4a7aa20b3b58"
      },
      "execution_count": 1,
      "outputs": [
        {
          "output_type": "display_data",
          "data": {
            "text/plain": [
              "Output()"
            ],
            "application/vnd.jupyter.widget-view+json": {
              "version_major": 2,
              "version_minor": 0,
              "model_id": "661573e346df455a85293ba1d1dec1d6"
            }
          },
          "metadata": {}
        }
      ]
    },
    {
      "cell_type": "code",
      "source": [
        "#@title \n",
        "from IPython import display as IPyDisplay\n",
        "IPyDisplay.HTML(\n",
        "    f\"\"\"\n",
        "  <div>\n",
        "    <a href= \"https://github.com/DL4CV-NPTEL/Deep-Learning-For-Computer-Vision/blob/main/Slides/Week_11/DL4CV_Week11_Part01.pdf\" target=\"_blank\">\n",
        "    <img src=\"https://github.com/DL4CV-NPTEL/Deep-Learning-For-Computer-Vision/blob/main/Data/Slides_Logo.png?raw=1\"\n",
        "  alt=\"button link to Airtable\" style=\"width:200px\"></a>\n",
        "    </div>\"\"\" )\n"
      ],
      "metadata": {
        "colab": {
          "base_uri": "https://localhost:8080/",
          "height": 100
        },
        "cellView": "form",
        "id": "7qqP8tr9rN_D",
        "outputId": "01f7e7b6-63e8-4be6-c57e-6b1178ea9af1"
      },
      "execution_count": 3,
      "outputs": [
        {
          "output_type": "execute_result",
          "data": {
            "text/plain": [
              "<IPython.core.display.HTML object>"
            ],
            "text/html": [
              "\n",
              "  <div>\n",
              "    <a href= \"https://github.com/DL4CV-NPTEL/Deep-Learning-For-Computer-Vision/blob/main/Slides/Week_11/DL4CV_Week11_Part01.pdf\" target=\"_blank\">\n",
              "    <img src=\"https://github.com/DL4CV-NPTEL/Deep-Learning-For-Computer-Vision/blob/main/Data/Slides_Logo.png?raw=1\"\n",
              "  alt=\"button link to Airtable\" style=\"width:200px\"></a>\n",
              "    </div>"
            ]
          },
          "metadata": {},
          "execution_count": 3
        }
      ]
    },
    {
      "cell_type": "code",
      "source": [
        ""
      ],
      "metadata": {
        "id": "FBNN7zxfrWkO"
      },
      "execution_count": null,
      "outputs": []
    }
  ]
}