{
  "nbformat": 4,
  "nbformat_minor": 0,
  "metadata": {
    "colab": {
      "name": "Week_11_Lecture_5.ipynb",
      "provenance": [],
      "authorship_tag": "ABX9TyOFKbUMsFYlYvilvVPEXBX4",
      "include_colab_link": true
    },
    "kernelspec": {
      "name": "python3",
      "display_name": "Python 3"
    },
    "language_info": {
      "name": "python"
    },
    "widgets": {
      "application/vnd.jupyter.widget-state+json": {
        "7b2747cffe074c5e8521e96b345e2804": {
          "model_module": "@jupyter-widgets/output",
          "model_name": "OutputModel",
          "model_module_version": "1.0.0",
          "state": {
            "_dom_classes": [],
            "_model_module": "@jupyter-widgets/output",
            "_model_module_version": "1.0.0",
            "_model_name": "OutputModel",
            "_view_count": null,
            "_view_module": "@jupyter-widgets/output",
            "_view_module_version": "1.0.0",
            "_view_name": "OutputView",
            "layout": "IPY_MODEL_9fad4c8025cd412facd6b3c6557e2eba",
            "msg_id": "",
            "outputs": [
              {
                "output_type": "stream",
                "name": "stdout",
                "text": [
                  "Video available at https://youtube.com/watch?v=go6w8bPmV6s\n"
                ]
              },
              {
                "output_type": "display_data",
                "data": {
                  "text/plain": "<IPython.lib.display.YouTubeVideo at 0x7f3b7b508350>",
                  "text/html": "\n        <iframe\n            width=\"854\"\n            height=\"480\"\n            src=\"https://www.youtube.com/embed/go6w8bPmV6s?fs=1&rel=0\"\n            frameborder=\"0\"\n            allowfullscreen\n        ></iframe>\n        ",
                  "image/jpeg": "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\n"
                },
                "metadata": {}
              }
            ]
          }
        },
        "9fad4c8025cd412facd6b3c6557e2eba": {
          "model_module": "@jupyter-widgets/base",
          "model_name": "LayoutModel",
          "model_module_version": "1.2.0",
          "state": {
            "_model_module": "@jupyter-widgets/base",
            "_model_module_version": "1.2.0",
            "_model_name": "LayoutModel",
            "_view_count": null,
            "_view_module": "@jupyter-widgets/base",
            "_view_module_version": "1.2.0",
            "_view_name": "LayoutView",
            "align_content": null,
            "align_items": null,
            "align_self": null,
            "border": null,
            "bottom": null,
            "display": null,
            "flex": null,
            "flex_flow": null,
            "grid_area": null,
            "grid_auto_columns": null,
            "grid_auto_flow": null,
            "grid_auto_rows": null,
            "grid_column": null,
            "grid_gap": null,
            "grid_row": null,
            "grid_template_areas": null,
            "grid_template_columns": null,
            "grid_template_rows": null,
            "height": null,
            "justify_content": null,
            "justify_items": null,
            "left": null,
            "margin": null,
            "max_height": null,
            "max_width": null,
            "min_height": null,
            "min_width": null,
            "object_fit": null,
            "object_position": null,
            "order": null,
            "overflow": null,
            "overflow_x": null,
            "overflow_y": null,
            "padding": null,
            "right": null,
            "top": null,
            "visibility": null,
            "width": null
          }
        }
      }
    }
  },
  "cells": [
    {
      "cell_type": "markdown",
      "metadata": {
        "id": "view-in-github",
        "colab_type": "text"
      },
      "source": [
        "<a href=\"https://colab.research.google.com/github/DL4CV-NPTEL/Deep-Learning-For-Computer-Vision/blob/main/notebooks/Week_11/Week_11_Lecture_5.ipynb\" target=\"_parent\"><img src=\"https://colab.research.google.com/assets/colab-badge.svg\" alt=\"Open In Colab\"/></a>"
      ]
    },
    {
      "cell_type": "markdown",
      "source": [
        "# Lecture 5: Deep Generative Models: Video Applications "
      ],
      "metadata": {
        "id": "dayT2r-1ta9I"
      }
    },
    {
      "cell_type": "code",
      "source": [
        "#@title \n",
        "from ipywidgets import widgets\n",
        "out1 = widgets.Output()\n",
        "with out1:\n",
        "  from IPython.display import YouTubeVideo\n",
        "  video = YouTubeVideo(id=f\"go6w8bPmV6s\", width=854, height=480, fs=1, rel=0)\n",
        "  print(\"Video available at https://youtube.com/watch?v=\" + video.id)\n",
        "  display(video)\n",
        "display(out1)\n"
      ],
      "metadata": {
        "colab": {
          "base_uri": "https://localhost:8080/",
          "height": 519,
          "referenced_widgets": [
            "7b2747cffe074c5e8521e96b345e2804",
            "9fad4c8025cd412facd6b3c6557e2eba"
          ]
        },
        "cellView": "form",
        "id": "h1586_PPteBe",
        "outputId": "227660fc-ca26-4369-e669-86a19b4d5b02"
      },
      "execution_count": 1,
      "outputs": [
        {
          "output_type": "display_data",
          "data": {
            "text/plain": [
              "Output()"
            ],
            "application/vnd.jupyter.widget-view+json": {
              "version_major": 2,
              "version_minor": 0,
              "model_id": "7b2747cffe074c5e8521e96b345e2804"
            }
          },
          "metadata": {}
        }
      ]
    },
    {
      "cell_type": "code",
      "source": [
        "#@title \n",
        "from IPython import display as IPyDisplay\n",
        "IPyDisplay.HTML(\n",
        "    f\"\"\"\n",
        "  <div>\n",
        "    <a href= \"https://github.com/DL4CV-NPTEL/Deep-Learning-For-Computer-Vision/blob/main/Slides/Week_11/DL4CV_Week11_Part05.pdf\" target=\"_blank\">\n",
        "    <img src=\"https://github.com/DL4CV-NPTEL/Deep-Learning-For-Computer-Vision/blob/main/Data/Slides_Logo.png?raw=1\"\n",
        "  alt=\"button link to Airtable\" style=\"width:200px\"></a>\n",
        "    </div>\"\"\" )"
      ],
      "metadata": {
        "cellView": "form",
        "colab": {
          "base_uri": "https://localhost:8080/",
          "height": 100
        },
        "id": "3i_hLYUctig5",
        "outputId": "5ab3d05c-8260-4c71-d79b-dda7db13a2db"
      },
      "execution_count": 2,
      "outputs": [
        {
          "output_type": "execute_result",
          "data": {
            "text/plain": [
              "<IPython.core.display.HTML object>"
            ],
            "text/html": [
              "\n",
              "  <div>\n",
              "    <a href= \"https://github.com/DL4CV-NPTEL/Deep-Learning-For-Computer-Vision/blob/main/Slides/Week_11/DL4CV_Week11_Part05.pdf\" target=\"_blank\">\n",
              "    <img src=\"https://github.com/DL4CV-NPTEL/Deep-Learning-For-Computer-Vision/blob/main/Data/Slides_Logo.png?raw=1\"\n",
              "  alt=\"button link to Airtable\" style=\"width:200px\"></a>\n",
              "    </div>"
            ]
          },
          "metadata": {},
          "execution_count": 2
        }
      ]
    },
    {
      "cell_type": "code",
      "source": [
        ""
      ],
      "metadata": {
        "id": "MXgGI4m4tlWm"
      },
      "execution_count": null,
      "outputs": []
    }
  ]
}