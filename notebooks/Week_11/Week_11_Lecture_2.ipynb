{
  "nbformat": 4,
  "nbformat_minor": 0,
  "metadata": {
    "colab": {
      "name": "Week_11_Lecture_2.ipynb",
      "provenance": [],
      "authorship_tag": "ABX9TyNe6kaQ1tmg60Dc0kQwxttK",
      "include_colab_link": true
    },
    "kernelspec": {
      "name": "python3",
      "display_name": "Python 3"
    },
    "language_info": {
      "name": "python"
    },
    "widgets": {
      "application/vnd.jupyter.widget-state+json": {
        "0a10655bd7994d4794a6df0d8a7ad44c": {
          "model_module": "@jupyter-widgets/output",
          "model_name": "OutputModel",
          "model_module_version": "1.0.0",
          "state": {
            "_dom_classes": [],
            "_model_module": "@jupyter-widgets/output",
            "_model_module_version": "1.0.0",
            "_model_name": "OutputModel",
            "_view_count": null,
            "_view_module": "@jupyter-widgets/output",
            "_view_module_version": "1.0.0",
            "_view_name": "OutputView",
            "layout": "IPY_MODEL_bdd8384eaa7d4751a8e042d691722f05",
            "msg_id": "",
            "outputs": [
              {
                "output_type": "stream",
                "name": "stdout",
                "text": [
                  "Video available at https://youtube.com/watch?v=DyiZW9uQwVE\n"
                ]
              },
              {
                "output_type": "display_data",
                "data": {
                  "text/plain": "<IPython.lib.display.YouTubeVideo at 0x7fca73960690>",
                  "text/html": "\n        <iframe\n            width=\"854\"\n            height=\"480\"\n            src=\"https://www.youtube.com/embed/DyiZW9uQwVE?fs=1&rel=0\"\n            frameborder=\"0\"\n            allowfullscreen\n        ></iframe>\n        ",
                  "image/jpeg": "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\n"
                },
                "metadata": {}
              }
            ]
          }
        },
        "bdd8384eaa7d4751a8e042d691722f05": {
          "model_module": "@jupyter-widgets/base",
          "model_name": "LayoutModel",
          "model_module_version": "1.2.0",
          "state": {
            "_model_module": "@jupyter-widgets/base",
            "_model_module_version": "1.2.0",
            "_model_name": "LayoutModel",
            "_view_count": null,
            "_view_module": "@jupyter-widgets/base",
            "_view_module_version": "1.2.0",
            "_view_name": "LayoutView",
            "align_content": null,
            "align_items": null,
            "align_self": null,
            "border": null,
            "bottom": null,
            "display": null,
            "flex": null,
            "flex_flow": null,
            "grid_area": null,
            "grid_auto_columns": null,
            "grid_auto_flow": null,
            "grid_auto_rows": null,
            "grid_column": null,
            "grid_gap": null,
            "grid_row": null,
            "grid_template_areas": null,
            "grid_template_columns": null,
            "grid_template_rows": null,
            "height": null,
            "justify_content": null,
            "justify_items": null,
            "left": null,
            "margin": null,
            "max_height": null,
            "max_width": null,
            "min_height": null,
            "min_width": null,
            "object_fit": null,
            "object_position": null,
            "order": null,
            "overflow": null,
            "overflow_x": null,
            "overflow_y": null,
            "padding": null,
            "right": null,
            "top": null,
            "visibility": null,
            "width": null
          }
        }
      }
    }
  },
  "cells": [
    {
      "cell_type": "markdown",
      "metadata": {
        "id": "view-in-github",
        "colab_type": "text"
      },
      "source": [
        "<a href=\"https://colab.research.google.com/github/DL4CV-NPTEL/Deep-Learning-For-Computer-Vision/blob/main/notebooks/Week_11/Week_11_Lecture_2.ipynb\" target=\"_parent\"><img src=\"https://colab.research.google.com/assets/colab-badge.svg\" alt=\"Open In Colab\"/></a>"
      ]
    },
    {
      "cell_type": "markdown",
      "source": [
        "# Lecture 2: Deep Generative Models across Multiple Domains"
      ],
      "metadata": {
        "id": "_KwWyEvvr3Q9"
      }
    },
    {
      "cell_type": "code",
      "source": [
        "#@title \n",
        "from ipywidgets import widgets\n",
        "out1 = widgets.Output()\n",
        "with out1:\n",
        "  from IPython.display import YouTubeVideo\n",
        "  video = YouTubeVideo(id=f\"DyiZW9uQwVE\", width=854, height=480, fs=1, rel=0)\n",
        "  print(\"Video available at https://youtube.com/watch?v=\" + video.id)\n",
        "  display(video)\n",
        "display(out1)"
      ],
      "metadata": {
        "colab": {
          "base_uri": "https://localhost:8080/",
          "height": 519,
          "referenced_widgets": [
            "0a10655bd7994d4794a6df0d8a7ad44c",
            "bdd8384eaa7d4751a8e042d691722f05"
          ]
        },
        "cellView": "form",
        "id": "gQFW_uibr498",
        "outputId": "dfe2269b-d93f-4dde-8ce8-8ed7e3ab71f6"
      },
      "execution_count": 1,
      "outputs": [
        {
          "output_type": "display_data",
          "data": {
            "text/plain": [
              "Output()"
            ],
            "application/vnd.jupyter.widget-view+json": {
              "version_major": 2,
              "version_minor": 0,
              "model_id": "0a10655bd7994d4794a6df0d8a7ad44c"
            }
          },
          "metadata": {}
        }
      ]
    },
    {
      "cell_type": "code",
      "source": [
        "#@title \n",
        "from IPython import display as IPyDisplay\n",
        "IPyDisplay.HTML(\n",
        "    f\"\"\"\n",
        "  <div>\n",
        "    <a href= \"https://github.com/DL4CV-NPTEL/Deep-Learning-For-Computer-Vision/blob/main/Slides/Week_11/DL4CV_Week11_Part02.pdf\" target=\"_blank\">\n",
        "    <img src=\"https://github.com/DL4CV-NPTEL/Deep-Learning-For-Computer-Vision/blob/main/Data/Slides_Logo.png?raw=1\"\n",
        "  alt=\"button link to Airtable\" style=\"width:200px\"></a>\n",
        "    </div>\"\"\" )"
      ],
      "metadata": {
        "colab": {
          "base_uri": "https://localhost:8080/",
          "height": 100
        },
        "cellView": "form",
        "id": "yBxr5i_Vr87s",
        "outputId": "e2c169c1-41a1-47b6-fafa-93e2d28b8c22"
      },
      "execution_count": 2,
      "outputs": [
        {
          "output_type": "execute_result",
          "data": {
            "text/plain": [
              "<IPython.core.display.HTML object>"
            ],
            "text/html": [
              "\n",
              "  <div>\n",
              "    <a href= \"https://github.com/DL4CV-NPTEL/Deep-Learning-For-Computer-Vision/blob/main/Slides/Week_11/DL4CV_Week11_Part02.pdf\" target=\"_blank\">\n",
              "    <img src=\"https://github.com/DL4CV-NPTEL/Deep-Learning-For-Computer-Vision/blob/main/Data/Slides_Logo.png?raw=1\"\n",
              "  alt=\"button link to Airtable\" style=\"width:200px\"></a>\n",
              "    </div>"
            ]
          },
          "metadata": {},
          "execution_count": 2
        }
      ]
    },
    {
      "cell_type": "code",
      "source": [
        ""
      ],
      "metadata": {
        "id": "28XSvdiVr_Nm"
      },
      "execution_count": null,
      "outputs": []
    }
  ]
}