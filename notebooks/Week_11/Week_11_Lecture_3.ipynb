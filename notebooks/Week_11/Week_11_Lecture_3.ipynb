{
  "nbformat": 4,
  "nbformat_minor": 0,
  "metadata": {
    "colab": {
      "name": "Week_11_Lecture_3.ipynb",
      "provenance": [],
      "authorship_tag": "ABX9TyNpkitJxiKQeXHyEcAldoNX",
      "include_colab_link": true
    },
    "kernelspec": {
      "name": "python3",
      "display_name": "Python 3"
    },
    "language_info": {
      "name": "python"
    },
    "widgets": {
      "application/vnd.jupyter.widget-state+json": {
        "ccadf723f13b4b238f3bb41b6a0b5d21": {
          "model_module": "@jupyter-widgets/output",
          "model_name": "OutputModel",
          "model_module_version": "1.0.0",
          "state": {
            "_dom_classes": [],
            "_model_module": "@jupyter-widgets/output",
            "_model_module_version": "1.0.0",
            "_model_name": "OutputModel",
            "_view_count": null,
            "_view_module": "@jupyter-widgets/output",
            "_view_module_version": "1.0.0",
            "_view_name": "OutputView",
            "layout": "IPY_MODEL_1ba053c424964773ab028be93be7bb54",
            "msg_id": "",
            "outputs": [
              {
                "output_type": "stream",
                "name": "stdout",
                "text": [
                  "Video available at https://youtube.com/watch?v=hq6V5i3Xrgk\n"
                ]
              },
              {
                "output_type": "display_data",
                "data": {
                  "text/plain": "<IPython.lib.display.YouTubeVideo at 0x7f816ab07250>",
                  "text/html": "\n        <iframe\n            width=\"854\"\n            height=\"480\"\n            src=\"https://www.youtube.com/embed/hq6V5i3Xrgk?fs=1&rel=0\"\n            frameborder=\"0\"\n            allowfullscreen\n        ></iframe>\n        ",
                  "image/jpeg": "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\n"
                },
                "metadata": {}
              }
            ]
          }
        },
        "1ba053c424964773ab028be93be7bb54": {
          "model_module": "@jupyter-widgets/base",
          "model_name": "LayoutModel",
          "model_module_version": "1.2.0",
          "state": {
            "_model_module": "@jupyter-widgets/base",
            "_model_module_version": "1.2.0",
            "_model_name": "LayoutModel",
            "_view_count": null,
            "_view_module": "@jupyter-widgets/base",
            "_view_module_version": "1.2.0",
            "_view_name": "LayoutView",
            "align_content": null,
            "align_items": null,
            "align_self": null,
            "border": null,
            "bottom": null,
            "display": null,
            "flex": null,
            "flex_flow": null,
            "grid_area": null,
            "grid_auto_columns": null,
            "grid_auto_flow": null,
            "grid_auto_rows": null,
            "grid_column": null,
            "grid_gap": null,
            "grid_row": null,
            "grid_template_areas": null,
            "grid_template_columns": null,
            "grid_template_rows": null,
            "height": null,
            "justify_content": null,
            "justify_items": null,
            "left": null,
            "margin": null,
            "max_height": null,
            "max_width": null,
            "min_height": null,
            "min_width": null,
            "object_fit": null,
            "object_position": null,
            "order": null,
            "overflow": null,
            "overflow_x": null,
            "overflow_y": null,
            "padding": null,
            "right": null,
            "top": null,
            "visibility": null,
            "width": null
          }
        }
      }
    }
  },
  "cells": [
    {
      "cell_type": "markdown",
      "metadata": {
        "id": "view-in-github",
        "colab_type": "text"
      },
      "source": [
        "<a href=\"https://colab.research.google.com/github/DL4CV-NPTEL/Deep-Learning-For-Computer-Vision/blob/main/notebooks/Week_11/Week_11_Lecture_3.ipynb\" target=\"_parent\"><img src=\"https://colab.research.google.com/assets/colab-badge.svg\" alt=\"Open In Colab\"/></a>"
      ]
    },
    {
      "cell_type": "markdown",
      "source": [
        "# Lecture 3: VAEs and Disentanglement "
      ],
      "metadata": {
        "id": "PbByxIfrsXuc"
      }
    },
    {
      "cell_type": "code",
      "source": [
        "#@title \n",
        "from ipywidgets import widgets\n",
        "out1 = widgets.Output()\n",
        "with out1:\n",
        "  from IPython.display import YouTubeVideo\n",
        "  video = YouTubeVideo(id=f\"hq6V5i3Xrgk\", width=854, height=480, fs=1, rel=0)\n",
        "  print(\"Video available at https://youtube.com/watch?v=\" + video.id)\n",
        "  display(video)\n",
        "display(out1)"
      ],
      "metadata": {
        "colab": {
          "base_uri": "https://localhost:8080/",
          "height": 519,
          "referenced_widgets": [
            "ccadf723f13b4b238f3bb41b6a0b5d21",
            "1ba053c424964773ab028be93be7bb54"
          ]
        },
        "cellView": "form",
        "id": "dA92TeqhsZxi",
        "outputId": "42a05e7e-162b-4ed7-8eb7-2fa82dc41264"
      },
      "execution_count": 1,
      "outputs": [
        {
          "output_type": "display_data",
          "data": {
            "text/plain": [
              "Output()"
            ],
            "application/vnd.jupyter.widget-view+json": {
              "version_major": 2,
              "version_minor": 0,
              "model_id": "ccadf723f13b4b238f3bb41b6a0b5d21"
            }
          },
          "metadata": {}
        }
      ]
    },
    {
      "cell_type": "code",
      "source": [
        "#@title \n",
        "from IPython import display as IPyDisplay\n",
        "IPyDisplay.HTML(\n",
        "    f\"\"\"\n",
        "  <div>\n",
        "    <a href= \"https://github.com/DL4CV-NPTEL/Deep-Learning-For-Computer-Vision/blob/main/Slides/Week_11/DL4CV_Week11_Part03.pdf\" target=\"_blank\">\n",
        "    <img src=\"https://github.com/DL4CV-NPTEL/Deep-Learning-For-Computer-Vision/blob/main/Data/Slides_Logo.png?raw=1\"\n",
        "  alt=\"button link to Airtable\" style=\"width:200px\"></a>\n",
        "    </div>\"\"\" )"
      ],
      "metadata": {
        "colab": {
          "base_uri": "https://localhost:8080/",
          "height": 100
        },
        "cellView": "form",
        "id": "jnyLV3fOseZl",
        "outputId": "7a7d519b-9fd4-43c5-d8b8-dd8a0cf673d9"
      },
      "execution_count": 2,
      "outputs": [
        {
          "output_type": "execute_result",
          "data": {
            "text/plain": [
              "<IPython.core.display.HTML object>"
            ],
            "text/html": [
              "\n",
              "  <div>\n",
              "    <a href= \"https://github.com/DL4CV-NPTEL/Deep-Learning-For-Computer-Vision/blob/main/Slides/Week_11/DL4CV_Week11_Part03.pdf\" target=\"_blank\">\n",
              "    <img src=\"https://github.com/DL4CV-NPTEL/Deep-Learning-For-Computer-Vision/blob/main/Data/Slides_Logo.png?raw=1\"\n",
              "  alt=\"button link to Airtable\" style=\"width:200px\"></a>\n",
              "    </div>"
            ]
          },
          "metadata": {},
          "execution_count": 2
        }
      ]
    },
    {
      "cell_type": "code",
      "source": [
        ""
      ],
      "metadata": {
        "id": "oMQDkvecshG1"
      },
      "execution_count": null,
      "outputs": []
    }
  ]
}