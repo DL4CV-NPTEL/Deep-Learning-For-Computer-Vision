{
  "nbformat": 4,
  "nbformat_minor": 0,
  "metadata": {
    "colab": {
      "name": "Week_11_Lecture_4.ipynb",
      "provenance": [],
      "authorship_tag": "ABX9TyNsDR3/ltxFqSJEJu4jEdGJ",
      "include_colab_link": true
    },
    "kernelspec": {
      "name": "python3",
      "display_name": "Python 3"
    },
    "language_info": {
      "name": "python"
    },
    "widgets": {
      "application/vnd.jupyter.widget-state+json": {
        "b333a68ec33a4c76813a0209649b3391": {
          "model_module": "@jupyter-widgets/output",
          "model_name": "OutputModel",
          "model_module_version": "1.0.0",
          "state": {
            "_dom_classes": [],
            "_model_module": "@jupyter-widgets/output",
            "_model_module_version": "1.0.0",
            "_model_name": "OutputModel",
            "_view_count": null,
            "_view_module": "@jupyter-widgets/output",
            "_view_module_version": "1.0.0",
            "_view_name": "OutputView",
            "layout": "IPY_MODEL_535abb051d3e494c9326d2fa5f48e417",
            "msg_id": "",
            "outputs": [
              {
                "output_type": "stream",
                "name": "stdout",
                "text": [
                  "Video available at https://youtube.com/watch?v=R9tEJhUfFL4\n"
                ]
              },
              {
                "output_type": "display_data",
                "data": {
                  "text/plain": "<IPython.lib.display.YouTubeVideo at 0x7fc235fdd690>",
                  "text/html": "\n        <iframe\n            width=\"854\"\n            height=\"480\"\n            src=\"https://www.youtube.com/embed/R9tEJhUfFL4?fs=1&rel=0\"\n            frameborder=\"0\"\n            allowfullscreen\n        ></iframe>\n        ",
                  "image/jpeg": "/9j/4AAQSkZJRgABAQAAAQABAAD/2wCEABALDBoYFhwaGRoeHRsfIzIlIyIiIy0uLycyNzUyNjIyMi83PVBCNThLOS0yRWFFS1NWW11bMkFlbWRYbVBZW1cBERISGRYZMBsbL1c/N0NXV1dXV1dXV1dXV1dXV1dXV1dXV1dXV1dXV1dXV1ddV1dXV1dXV1ddV1ddV11XV1dXV//AABEIAWgB4AMBIgACEQEDEQH/xAAbAAEAAgMBAQAAAAAAAAAAAAAABQYDBAcCAf/EAEkQAAEDAgIFCgMFBAcIAwEAAAEAAgMEERIhBRMxQVEGFyJTYXGBkZLSUqGxFDJCwdEVI+HwM2JygqLi8QcWNENjZKOyJERUJf/EABkBAQADAQEAAAAAAAAAAAAAAAABAgMEBf/EACoRAQADAAICAQQBAgcAAAAAAAABAhEDIRIxIhMyQVFSI/EEM0JxgZGh/9oADAMBAAIRAxEAPwDn6IiAiIgIiICIiAiIgIiICIiAiIgIiICIiAiIgIiICIiAiIgIiICIiAiIgIiICIiAiIgIiICIiAiIgIiICIiAiIgIiICIiAiIgIiICIiAiIgIiICIiAiIgIiICIiAiIgIiICIiAiIgIiICIiAiIgIiICIiAiIgIiICIiAiIgIiICIiAiIgIiICIiAiIgIiICIiAiIgIiICK4c3Fb1tP6n+xObit62n9T/AGIKeiuHNxW9bT+p/sTm4retp/U/2IKeiuHNxW9bT+p/sTm4retp/U/2IKeiuHNxW9bT+p/sTm4retp/U/2IKeit5/2c1o/5tP6n+xeebys6yn9T/YgqSK283lZ1lP6n+xObys6yn9T/AGIKkitvN5WdZT+p/sTm8rOsp/U/2IKkitvN5WdZT+p/sTm8rOsp/U/2IKkitvN5WdZT+p/sTm8rOsp/U/2IKkitvN5WdZT+p/sTm8rOsp/U/wBiCpIrbzeVnWU/qf7E5vKzrKf1P9iCpIrbzeVnWU/qf7E5vKzrKf1P9iCpIrbzeVnWU/qf7E5vKzrKf1P9iCpIrbzeVnWU/qf7E5vKzrKf1P8AYgqSK283lZ1lP6n+xObys6yn9T/YgqSK283lZ1lP6n+xObys6yn9T/YgqSK283lZ1lP6n+xObys6yn9T/YgqSK283lZ1lP6n+xObys6yn9T/AGIKkitvN5WdZT+p/sTm8rOsp/U/2IKkitvN5WdZT+p/sTm8rOsp/U/2IKkitvN5WdZT+p/sTm8rOsp/U/2IKkitvN5WdZT+p/sTm8rOsp/U/wBiCpIrbzeVnWU/qf7E5vKzrKf1P9iCpIrbzeVnWU/qf7E5vKzrKf1P9iCpIrbzeVnWU/qf7E5vKzrKf1P9iCpIrbzeVnWU/qf7E5vKzrKf1P8AYgqSK283lZ1lP6n+xObys6yn9T/YgqSK283lZ1lP6n+xObys6yn9T/YgqSK283lZ1lP6n+xObys6yn9T/YgqSK283lZ1lP6n+xObys6yn9T/AGIOpoiIPiLy94aLk2C1Z6yFzSzXMaXAtGY3j+KrNojrVorMskGkIZHljJGucNoBWwqlorQctPO2WZ7GRx36WIdLIjwGe9WRlfE77sjT3FVi/Xy6a83FWtv6c7DZX1fF9WjB5fsK1ppQxjnnY0Fxt2ZrZfsK0q5hdBK1ouSxwA4kgomPbLFIHNa4bHAEX7Rda0deHusyORzMWHWANw3BsdpuQDlcCy06anc2Rushc84YwxwtaOzQCNuXSue268RR1ETIoWNeNW8AuGAsezELkk5g4b5DfxUNfCqS+2s1+ozx4cWzLuvx324LB+14rTnpf/HvjFsza+YzzGRHgtV1FNlOP6TXa3BYXsegW3v1fzC16/RsxhmMbLyOfK3DcdJjz+RsfPii0Up63+6wrRk0o1rpRq5C2E2keMNm9EOvbFiIAI2BbMQGJ/RIOVz8WW7u2KKn0c9zql9nG8jXNZiIbK0MYC0i9s7EZ/RJZ0iu/JNDNFBy0T3TSEibpElrmYB0Sywbcm47uNivVIyWPAdS7C17gA1rWkgtFi5uK20WRb6cZ1KUdVMD3MJsWhpJOzpEgfMLMq+7R0hgs+MuIhgyuCS5jiXDbtt9VsxQOFU1zYXBptcva3oDBYYXB1xmAMNt5KE8dfxKXRRek4HOkJMTpWmPCwNIGB9zc7Ra4w9LdZYhQy6wvIJeJoziv+EMaH2zyF75IiKRm6k6qpbE0F1yScLWtFy4ncP53L7BKXg4o3xkG1nYfPokhYK+FxMUjBiMTy7De2IFpabX3538Fq14knDHaqQRtccTCGkuyyOG+YB3Hv3IVrExCTbKC9zM7ttfxXls4Mros8TWhx4WJIH/AKlRE1FLhGTy0avEDhLngNIIIvYkEgkb7LDLQvs4CKV5dCGRuJaCx2J5BJBytcZ55BNWjjr+01NWsZLHEb4pL2sMhbid17G3cthQ9TQzSCaQOs+7cAtt1ebc75YnX8CtvSTHyU/RabktLmA2JbcFzb8bXCKzSvWT/u2IZw8vAv8Au3YTfjZrsvBwXvGMRbcYgASN9jcA/I+SgzTPDHhtN0HzFwa4AlowNAOHEBtBG3Je4KaRj2vdCXyGma25I++MVw43yuCBfNNWnjr+02irzKSQsfiie1uJjmsaxtr4XA3jLzlmN972KyU9HKZWOmY4E4LBmEtYA0BzCSbgXxZZ3uiJ4oj/AFJtjw4AtNwdhXpaOh4dXDg1ZjIJBvbpdosdi3lLO0REzECIiKiIiAiIgIiICIiAiIgIiICIiAiIgIiICIiAiIgIiINhERBrV39Ge8fVUzSP5j6BXOu/oz3j6qmaR/MfRedz/wCd/wAPS/wLXlcSyO5OQP1KltF/h7h/6qJlaQyMkEAg7u0qW0X+HuH/AKrHm+11832f9raF9XwL6vXeE8uGS8asrKiDFqymrKyogxaspqysqIMWrKasrKiDFqymrKyogxaspqysqIMWrKasrKiDFqymrKyogxaspqysqIMWrKasrKiDFqymrKyogxaspqysqIMWrKasrKiDFqymrKyogxaspqysqIMWrKasrKiDFqymrKyogxaspqysqIMWrKasrKiDFqymrKyogxaspqysqIMWrKasrKiDFqymrKyogxaspqysqIMWrKasrKiDFqymrKyogL4vq+IMNQ7KxY547LfqtMxRXB+yknaLsGR2fktw0kdycOZ25n+d6+fYo/h+ZTxr7mExaY9Mcsoc2zoXObci2EEZb9qxNiiZ92nIsNzR3cVsmii+AfNPsUfw/MpNaz7giZj0yxuuAbEdh2r2sUVOxhJaLX7SsqIEREBERAREQEREBERAREQEREBEXxB9ReXPAFyQLLxBOyRuJhuL2QZUREBERAREQEREBERAREQEREBERARF8QfUXwlYoKhkl8Dg623+d47UGZEXxB9RecYvhuMVr2vnbjZekBERAREQEREBERAREQEREHxalVpOGG+N4y29nedgWPS9WYo+jkTle9reNrea0dHU7I2smnHSfm3EBZg7czmb92W7O9JtO5C8V62UjHpJrvwSgG9iWHO359i3AVoOqmO1rJQ0sBAAIGd7i2e37pUc6rfRyR3xOppRliuXR7MthvbtP0ztBFfL0sKL4DcXX1SoIiICIiAiIgIiICLy5wAucgFqS6SjH3SH9jc7HOwPC9iM94Qbi8xSB7Q5puDsUSwz1IycGxkd+3PsJ29n3e3KSpacRMwgk53JO87z4nPvJQZ0WOWVrGlzjYBakmlGDDhDnEgHYcgb7Ra+47tyDeJsLnYo6bSzbfuml5NgDbIkgEW45EHuvwXgUc0xvM4tb8I/geO/bkO2+/BTMjFmi3E7z3nxPmg0W0D5TeV7g054cr57iMwLXPbmM8rqQhhawWY0AdiTTtYLuNvz35DfkFoVmksyyI9IjJwBNidht+IWucvhPYgk0WOB5cxri0tJFy07uxfZZWsF3GwuB4k2A7yUHpFHz6WYA3AC8uzA2fXfutxO7O3ygkmkeXPJaBcFpGR7v17kEki+LRk0tEMxdwte42HK4tfiLm+zolBuveGgucQABck7AFq1WkGR5CznW+6D4bdm2w7LrXp5JZZA9otEcnNeCMtxHG4Ofh2rYptGxRWIFyNhO7dl4INmF+JjXcQD/N17WtPXRx5E3I2gbt5+WfcFpz1r5sUcMeJpFi4nbuOY2eOe3LLMJRfVpaPpnxgmR+Iut8uJ3+QWzNM1gu47TYdpOwIPa+OcALk2HatKbSIvhjGJ2V9tm3vY5Am2Xd2rUpqJ0/Slu0YiS2207D2Wtbdx45BsS6Uu4shAe8bQTbfmO/8AgpEHLgsTWMhYbANa0Z9wWtLpVgJa0FzgSLZcAfniFrXOaDeUfV6UYAWsJc7Zdv5XyJz2b/NfIxNJhe7o5tIaOF+kHA8OO/svZbkdOxhLmtAJzJ8SfqT5lBHsp5pwDN0BaxAPacwOBGWe6/HLepKRsQIaSbm+ef8AOdz3kr1JUsbe7tm1R0tdLK4CBrha4NwLHde/4bEH55bLhIVVSImlxBPYNp424rRdXSyuwwssBtcfoTs28L5Z8L7EFD0f3hxOxYhmbi9rgnLEPAC1sslsPcyJhJs1jR4AINPR9E5jnOkJJuQMzmLnM9ufZ3bFvueBvzte28qPn0q0WwDETe4IIN9m/wDrWBHb2L5LSPqNW4vLLWNrWIIO6+y/ag2oa2N7yxrrkC/YdhyO/IjzC2Fhip2RgkADeXHzP1Kw1GkWMH4iSMrNPbnn3eKDcXxjw7MEHO2RUSyKeba4sbe97/IWtcC54Xs07yt2hozCHDHiBNwLWsOG3+bINtERAREQEREBERBBcpm9Frs8g4XG3Zu/1W1XazCLOZq7iwvY7rWNjn5eFlu1VO2VhY7YfktKmhw4YpxfBkx34XDcCNgIsBYqmZMr71CGo2yCQ4iAMtpFh0nWt0fu5bLcDsGW1yljeaRokLXOxttZpO43/CfopX7MxplfIRhJvmdlrm/ZmTsVcrn/AG+WOCAXij2OIxDhiJt5Wdc8FZrSdt5fiFh0G4mkhJzOADyyW+scEIjY1jb2aA0XN8hltO1ZFLnkREQEREBERAXxfVjmNmOPYUEdpDS1JhfHJUBh3kbWnaDs2rTg07o0OLjUxue45mxzOW7+6FQ6epZNha+5J38Sfqp53JWMR3Js459yz88axx6uNDpCmf0IHtIbuaLAfJbmMWvfLiqDoud1LOL/AHXWa7zt9VZOUkxZo2ZzTY5C47XAH6q0W2FJrk4yVHKGgIcx9RGQQWuGfcRsWGl05o2MAMnjuBtsb9u7eqJovRQqHEkkNGQUjX8nGRx4oy7F2naq+bT6ToNNWRzMD43hzTvC+1FVHE0vkcGtG8qgciNImOpfTuJs8Egf1h/D6KX5dPOGBt7NOIkcbWt9Vby61nFe8SlVpmhmZhNQwZgg8CDfeF9otJ0DCGxSx3OWW/xsqlo/RDJGhzt+5YdKaPEVywZKn1Gs8OQ6TrW8VE1unaEtfFJUMF7tO3L5KF0dpcy6LnOI6yJjhffsyPl9FTHxB52q02Z1rro9Lp3RrD0J48R2utmfkpimrI5WB8bw5p3hckGiZA3WAXbe3epvkfpAxVWpJIZIDkfi3JF0zTIXet03S07g2aZjHEXAN9ii4dNaLY4uFRGSSSLjZc3NsuKo+nsUuk52kknWFo7AFKQ8l48Fy5xNlM2xWtJt6Xal0/STPEcc7HPOwZ5rclqmMbie4NHErkFdG+lnDmkjCcTD2hXnSlYJ4ad7T0HtLvp+qibZGkV+WJGpq6J8rZHytvYZW22Nwdl8s9nFbUOlqUANZKwDYAFVmaLZK7E4lY56BsbiG5X2rP6ktvowvYlbtuoqt03Qua+KSoYNx25HvttBUVDpBztGTm5EkbHC+/sVToNH/aJC29mt2laebOtNX+HT1AHXbUtJtbMnjf8ANSdPVxytxRvDm8QqBWcnmRx4mElw7dq9cjtJmOqMDicMgNh/WGz5XURfS3H4rtW6XpoCBNK1hO4qNp9N6NjAwzx5CwJvcAEkDZuuVTNOB02kJW3JOsLR2AZKQg5LxYbuc45JN8THHq6UmmqaZ2CKZrnbbC6z1VbFCwvleGNG0lcpqQ+ima9pN2m7SrBy1rNcyjwO6Egc63E9C31KmLbCs1ycTJ0ro5zulVNc3EXhpvkTtzte18+/uC3G8paBosKiMDx/RVGg5OROaC5zie9a+mdCMjBMdxYbLqPNf6UulRzsc0Oa4FpFwRvUfNygogXMfOy4yIzPfuVW0DpI/sioAccUWINPAWBH1KhdE6K+1yOGIhrdp7VabYpFdXum03o5gaGzsJa0NDjcusO2ylqarjlYHxvDmnYQqXPyWiZFdjnY+J3rDyRrzBWPpXk2few3Yhn8x9FEWJri51ul6aAhs0rWEjYVFU+l9Fxkls0QN9zbW7gBbcPIKnaaDp6+VtySZC0dgCkYeS8WG7nOJsom+LRx6ulJpmmmdgima51r2F1vA3XIp8dFO17SeibtK6rQztljbI3Y4AjxVqzqlq5LZREVlRERAREQEREGGoqGxNxPNhcC/etebSEViC52+5AOVjYm42d62KinbIAHbA4O77fkteHRUTC02LsN7B1iMzfh2LO3nvS8eOdtCeGmeXa107sGbg7HYbhuy8LLfonQswxxNwXBNsJBNrC5JzJzGZWSWga/WXLv3gANrbtlljbo0AtIkeC24uMIyNr/AIexR89TMxMN1fV8X1asxERAREQEREBY6j+jf/ZP0WReJfuO7ig5Tyb0dIbTBtyPugm3irg6WV7A1oGL62UDoBxjxxE4XNJt23v+hU6CQ1pGR35HLiuefbqrEYqWnpJI5QHHMgOsNgO+yt+nZcehXv4tYf8AE1VXTcjZZS3duPEqw6RcHcnzb4Wjye1Xr6ZX9oGkqn09M2UAYBbEe822KaqpZpGgxBpbYXvkofQcwkpzHcEjItO8KYJ1bdpDQ3MnsGQVJdEdqnHU6iu1g/C+/wA1a+Xsgw0h+K9v8KpFU7E97uJJVt5eH9zQH+qT8mrSPTnnqde6GSVlrhoYchn/AAWLSomdG5xw4LeK90b9Y2Mh1222gZgrxpefBA9pNtzRxWbonuEPoitwQ1UZ2SRO8wP9Vm0Vo50jRJYEX3lREW/+yR8ipvk9U3idGD0gfuneFaWVPaan1jowIWssBsOSqs8pgqr72uDslbW3aBtAtmTu7FTtIOD5nuGYv5qIXvHTdbeXSVQ9guS4uF+2ysUU8oYWHCH7lVKCqEda4uNg7K/DIK0RAkOdv2i17HgdqWRxRGK7yjikDQZbYsWQHBbej6suoYWn8Ejm+Bwn8ytTlJUB72tvcjMrHos/uXbw03t32/RTP2KdRyLRSTStIxYcKVBlJxOw4LX7V4pnYwyxuPmClbLhjIOW4BZz6dEw1jOG01W34onHxsovQ087WXiYCDmSbnzstid14p+Oqd9E5OVAMLmAgPH4TvVqz8WMR8m9XV9SGgBkbbgZk+YVaindFUtkOTmuxK5yHCBmQ22dwRb5qkVzw+V7hsJNlaJL1TLX6zSFQ9guS4kXPEqehmlwFpw49yqejakMq7uNg7K/krTEHdI7Te422PAqLL09K9yiZIGtMobivlYr59o10NGD/wApz2+BwkL1ymmxPY29yBc9ij6e7Yw8bGvsfED9FMemdoyy30r5GEXw4dnasGkBK9rnOwhhadm1ZYJMYYQ67bbtoK1tLz4IHi/YAqtp9IzQ8mCirYzvZe6keTwkEDTEBYkkknf3WUBFK7VS7y5hBU1yXqbwuiDhjacmn8QV5c9Fgq3TuaNSGHLO5VNqagwaQ1m0tcCfzVy1ha27ui0DMnd2KhaRk1k737icu7coha0JVji/SFQ5gucRIv2lT0M0uAtOHHuVWoakR1ri42Dja/krNEHZnab3G2x4FRLSnpXuUTJAGmUNDr5WVx5C1mto8O+N2Hw2j6qncppg57W3uRmexWP/AGbn91UD+uPor0Y8kLmiItGIiIgIiICIiAiIgIiICIiAvETiRmLZ7F7XxB9REQEREBfHDJfV5ebAnsQVHlBVw0gDY4I3TSDIYQAAMgSfoFXZK6vIuXsLfhwtt5EKT5VMH2xkhza6JoGfAu/VfJ5Y9SLbT2LnveYnIdfHx1muy2eTtdT1LjDPTxCcC98IIeOzgexWhtPC6nLNWwx3IwYRhyPDvC5zC0sqopWHMG57tn5ro7WauF9t5Lh4m61rOxrG9fGcU/SmkY4pXR0dLBiZkZCwWB3gAbVpftarH9Kynkb8Loh9Vq0E1n9LM3uTx4qS0lI1zRgF1ja8xLo4+Osx2m9EMo6qLG2lha4ZPbgb0T5ZqXr6SB8bdbFG5rG5Y2ghotuvs2Kpcjg8VUw/AYwT33y+V1YOVkhbQusbXsD3XF/ktonrXLaMtiAl0y1rj9jpYWt+JzNv90WXql0ux7w2rp6ctJ+9g+73g3yWhouZt8xYbF4ryC44QbcVj5211xx1mq5t0XS7qeGx4Mb+iqPKXS8UExhpKeFjmfek1bb33huW7irJybld9hYXZ4bgdwOSokA1sjnPF8TiT2m621yREzOPlJyhqw67i2VuwtkY0j6ZK5aAqaOtY61LCyRv3mYGnbvBtmFA1lHC2ICMG5zJAWPkg1zNJBuzoOv2jL81EWiV70mqy6bbR00eN1JC+R5s1urbcntNtir/AO1az8DII2bmCMEBbnLCQiqj3tazIdpOf0CUs7NVY7e5UvaY9NOKlZ9vWhq2CaURVVLT43ZNe2MWJ4EHYVYnUVLCxzjBC1oFzZjd3gqFVB1w5gIcHAt775K5cpXkUtt7rA/K6tW217U5aRFukU/Sj3k/Z4Iom7jgBJ/RYIdIObIBURRStvndguPFZNFVLRkcljrXB7yWg+SymZdEcdcWiGkp3txCGMtcPhGYUHpesp6eUx01JC6Zu12AANv3C5KkuTBcafpbnm3cqh9pIqZC/N2sdc+K1meunNSNtktz9t1X/Nipnt3tMZz8bqwaIbRVceJtLC1wye0xtyPlmFXqupEjRgBd3BZuSJe2tcB910ZxDuIt9VWlp3try0rFdqltPGkpYwfskL5HmzW4G58STbYq06trSbhzI27mNYMI7NikeV0p+2Mv91rMu8k3+gWSmqmak3HS4WS9pj0rxViY7eNC18Uswiq6anLnZMkEYzPAgqyyUNJHG5zoIQwDEeg22Xguf1mInEy4cHDD33yVt5Z1LmUgaMjI8NPdtKtWdjtTlrFbdekJU6aleT9lghhZfIlgLj+i+Uul3NcBVwwzMJzdqwHDt4FeNF1LL2NrLxpF7XOIA2rObzraKVmF0hoaVzQ5kEJY4bmNsQfBQelKuKGUxUlJAZWbXlgAaTwsLkrb5GSONGA43DXkDuUJBOWVEmMXdrHXPitpnrpz1jZ7ZXaSrgLysp3N+Ex7fmp7RLKSqi1n2aEP2PbgabHvtmtHSVUxzG4QTfgF55KMcKiU7GFguO2+X5qlbTMtOSkRXYbWnTR0zMRpYnyPNmtwNz43Ntirx0tWX6LYI2bmiMEBbXK+UisZfNojFhwJJv8AQL1TTs1Njt4WUXtMeluKkTHbJoavgmlEVVS0+sd917YxZx4EHYVbtH0scQcI42MB24WgX8lzScOxtcwEODwW9911Gm2G6vxzsM+asVt16Z0RFoxEREBeHuILcr3P8le18QfUREBERAREQEREBERAREQEREBeJRdpHEFe18KCk8obRyxBwLgIgB3g/wCi0IngNY50Ztn4rJy000zWfZ2Rh7mWOsvbC7eAN44qvt0w8NIEY7TiJt4blhbj2ddXHzREZKTc7HVRtGwuGXZcLo7xeIgLmvJmSOaQwucYpXkFkoscwQcNjs2LodTOKelfJM8EMF3Ota/hxWla5GMeS/lOqFfCZo8HSxkC265W2LxZPjc3FYDyULpDlCaiUPbA1jiLEBxOLhfLasMulZHA9G2EbyVS1Na05shauSLi+aQgdEN6XaSRb6FTvKdhdRvAF+jmPJVHkLX/AL+WMmzntuBa4Ntue45q0cqdNCjgY7AHufkGk271eI6xja221VoHYxG1kZc7abZXX2omwxljmlrgM7qIZpCR73Pjhs29w1pNm9xWCrrZPxNwk7QSqTRvHN06Fyau+jyyuSG9n8lVymaInTsc3pNcdg3nf3b1Jcj60NoXPMl2MLi5pA6G857wdqrek+U5nkEjYWsIyPSPSG4HJXmuwxrfLanWt1YGJhAIAXjk20O0gSBmGuuezcPNV2TlE9wwiMDtxE/kpHkZW3rs3FrnNNha4dvIPDsVa0mJ1pycsWjITnKtuGaB5FwSR/BR0TXOLpGxOwYhY8LLPys5Rta91MImyWHScXWwu3Wy2hVxmlpA37m3fc5/JLU1HHy+MYlqqoxSMwjM/dvxvYfNWflFE77OLC9gcX8+C54dIObMwuyDHAm20WIK6RXaUEcAlNnhwGHde6RXI7Re/lbYV6J+MRta252m29fZpLMLSCHNAutEVw1ji2Ozb3AGwdxXyapc9uYwlyzmIdEXnFq5NvLoHu/Dis3uAF/ndVioGGWoD23diytxKm+Tlqelc8zExC7nNc0dA781VtKcovtMgc2BrTe1w43cNwIstc2OnNW3jbtKMa6IDGxzAQALb1n5LvL6w4Rk0OLjxzFvmq3JpOQixZa2y5Kk+RNZ/wDLc0uwuew2yuDYgkdh/ioiver35djE1ymFqmEkAg3A/RaMUbnFz2sdhxC3ZbavfK7lC0PdTNja8tAu/FYtdtyyUAzTUgb/AEdwdvSIB7diWrpx8vjGSkdIVXSZhbcuyaO3YFL8uA/Vw2uWjFi78rH6qoO0iRUMfIOixwJA3AEbFeeUmlYoaZsjmNlMmTGk2uDmT3WU1rkKcl/K2q5SkyasMjJIFyANqyVs2BjmubYgXOWxQlLpJzLlreiDlZx6N9114rK98jdgAJzzvfxVJp21+tGLvyFfemfw1pt5BYKh+Capuy93ZW7V95GVETaNz8ZAY4mQOtllx4WULpHlUZ3gtga03sCHG7hwIstJhhW2Tqaa4xWxsc0OAA71vcmJMUkoGzafyVQOlpH3GC1he5J/RS3IfSgNRJG7J723bwNtqite9XvyRMY3+VLcNRC8i4Nx/BR8TXOxSNidgxZHsC2OVvKFjXOphG2QgdJxdbA7dbLaFAR109rCF3S78+3YotVbj5MjEjPUYpY8IzdbDfiTYLotOLCy5A+udHO0u2McDltyIK61o+fWMDwbhwBB71alchnyX8pbaIiuzEREBERAREQEREBERAREQEREBERAREQF4lNmuPAFe1jqP6N/9k/RBybQj2yVTnzEcelxKus8dO2PNsYB35ZqiaBbHJKGS36Y3ZZj/VXCSihfGIze0d7Z5hc3L9zs4o+Km1bBFVO1ZyBDm23K+coagzaDfIdrmMJ9TVz/AEi4CofgFmt6Iv4K2mcv5NvLvwnCO4SgBb19Q5r+5RPJCBhL3vte9hf8vNT+mqaJ0RbZoy7FV+T0EUrXB18TDcfz4Ker6eB7Na/PCBmDty2LC0/J00r8YVHQ9SaesjePwvt4bD8lb/8AaSehS/3vo1USR1ySN+aunLx+KmoHHewn/C1dDkZ+TcMeobsva5F1F8qoGWLm2y4FetBQxYY5rkOBANzksPKKCKOPEL43nL9Vzx9zrmPi1dBVmGlrYT+OFzh3gLHoCijmkdrSA0CwubZqOifhJtvaR5ghSugKaKbE146TTdbWnIc1K7bHrTegm04D2OxAnMZZKJo6kwTMlac2HEFdKijhkiBfsY21wfkVRpQMRtsubKKW1flp4pjSLRLpSQH7rpb+G1XaGGHVbG2ttysueQyh1S0vvZxsc+yyuNNRxNY6IZtdY249qpyT2vw12FW5RwNZNdtrO4KYgqzLo6EE3MTnM8MrfIqH0+yJkojjvZozJ3lZ9Cv/AHEzc8iHW8P4K0/YpMf1Fq0PExrAMsVrkb1raXjbmRbwWPR8MYIl33sSSvtbBFH07HG/d/BYbDqycasVSW0VSwn78Tj4gKP5JxRumc59riwAP5LNXNwwvsdrCfAhQ+jaD7QS1rsJGa2j7XLk+fS86Yp4nxFoAvZUHR9SYKmOQbWOv+vyU5pTQxLGPbISGMAddx2qtqaHLv5hM17Wy6UkB+66Ynw2q7Qww6rY3ZtysueU8gdUtL72cbHysrjTUcTWOiGbXEG3HtVeSe1+GuwqvKKBrJrttZ3BZtJVOtoaS5uYsbPDoWWLT7ImSiOO9mjMnef5stFs1mWN7XJ87fotK/ayvHyletAwRmFoIachcZfNR3KmmYGOwgZZi1l70RFDgjmFg45Ela+noYYoS8N6b8vP+Cyie3TMfHUdoKYilrmXydDit3f6re5EwRulkfJhuLBt/nbtUDRVGASjP95GWeez6Kb5KU8M4kZICS0hwz/ngtrenJWNleK6KF0Ra5rQDlnYLmlHL9l0g0tOUclvDZ9Cr7WUVPNG10lyIxuPyK5vVPD5XuGQLjbzy+SisrXjExUsa/SsodbDrXHNXKJsZjvls23VDo3NkqyJCenvurRFTRCN0X4bjf3rPk9tuGPirfKWFrZA5u/bZXnkDVmSiwk3MbsHhtHyKomno443NjjJO8klWr/Zk793Uj+s0/I/otKemPJ9y8IiK7MREQEREBERAREQEREBERAREQEREBERAWOYXY4DbYrIvLthQcYmo56QxulZqz+G5Gdu4qZdp1mq6L3l5/Cb289686Xo3Vek3xl9msAA7Ba/5rdl5HRhl9Y8+Sx5JpuS6OLzzpA0OiquoaZI4TI1zjdwLdviVb26KnGgZKfVETF1wy4v/SA7b22Ks6Pr5dHVOFjrsc4Bwdst+RXQaiWVtFO7PGC8tNt18vktY7jYZWiYjty+k1tJOWyDCdjgCCR5HapHS2lmPiwROc4naXXy8150NoltTd8j3ZnipCr5MRRi4e/zCytNd7b0ryeOR+UHT8nKyWMPjgLmkZEOZ+qtXLLRc8tLRNjjLnRx2eLjLot7ewrS5E1Toq11OXXje02H9YWse+11beVLy2ke5uRDD+S138ubO8c50TKYHFst2tB3EbfArJXxy10wbA0vDRkC9tz25nNSGjtDMkb0sz2rFpHRbIzdvRc3MEHYsfOvlrqnjv4Y0hyXrxtpnepn6rVp2y0lR0xgcMnC42eByK6BofS8kujZJXdKWIOF+NhcFUCkoJarG8Ou69zfeStZmM7c9YnekrX6ZjMRbE9znEfivYeajaXQFXMwPihL2neHN/VazqJ7HWeC3O2ameRde+GtZHiOrku0jdfce9RWIj0tyWtb7kXXaGqoBjliMYvkS5u3zzUxR6ZYI/3j3YwNgvYrPyqY+fSWpc4hobl2D+Kyt5KRFmLG+/eFW8x6lfii8RtVcZST1kzjGzG7bYFoNvEhS1BoWrga/WQFoNjm5u7xWlpGlNI9skL3BzTcHeLbFcuUVY59FE5uyVoJPgCkzE1UmLVt37QdHOWEte44b7jmO/sWDStUZC1kZNr2uTmf4KQp9CRSi7y7FxBWppPQ0cbThJuOJWPWun55jJUaFqnRuwwkgx2HSbwy3qv07JqOfptwnY5twTbwORVz5N17zo+YC5fEHYfK4VZ0To4VRc+R7rl3meJW0ZFXPHla/TNpLSrDDghc5znZHFu81oQcmq17Q5kBc05ghzCD81NVfJiJgu17/ML5yPq3U9eKfGTHIHCx2XGYPfkUpMeoTy1v7sgK/Q9TT2fLEYxfIlzdvcCpik01GI/3j34x+EXsV85SPfVaTfE4kNY7C0cBtPmpBnJOEsvd17cUvMepOKLx3VWI6Wesmdq2Y3bbAgZeJF1mm5OVrGEvpy1ozJLmZfNetJ0ppJGvie4OBuDvBGxWHlxpJz6elDTZkzS91t9g2w7ukr1mJjpnesxPaC0LXCJuGR2FoOVs/osWlKh1VK1kXSbewxEC58VJ6K5NtljDnvdd2eW5aum9CNp2kscTbaCs9r5Npi/hn4YhyXrgD/8AGd6me5YaIzUNTd7cJ2ObiBNvA5FXDkVpN8tJLG9xc+L7t8zhIy+d1AaE0MK4vlllcCXHZbM9t1pM9MKxO9NnSfKCPUFsDpHvd8d7N89pUJScn6uZgfFCXtP4g5n6q0T8jomi4mk7jb9Fq8kXup9JOp8RMbmuy3XGYPeorML3i09ygKrRVVTObLLEWAOyJc3b4FTUWlIsFzKQfhF1m5UtfPpHUvcQxrbgDtWVvJmAsuMQIG5ypeY/LThi8RtVZdFLWTkRsxOP3WggG3iRmr1yB0XPTNnE8ZjxFuG5Bva/AqnaVpPszhJE4hwNxnsI2FdT0XPrYWSfGxrvMLSsxMdMeSs1t23ERFZQREQEREBERAREQEREBERAREQEREBERAXx2wr6vjthQUGuoJBpB8kJAL42nMb8wfoFJyOnkYGte0OG3LbnZNLgx4Khv4Mnj+qSM/BasFS9l5HHogG5/RcvLE+Ts4cmiB0pogmoF35tsXdpLg0D5/JdImjBp3NOwtw/kqHo+I1WkGYsYjIElhscWno34C6vs/8AQu/netuPfHtz8ueXShaMoZ4MTWuAwOINxfL/AEUlVNkmFw4Bo2i3Ys2kWljsTSBrOib8c/y+i1Z6kwtOI5HLbmSsr7rr47R4tHk9Qn9pMffIOOXHI3Vu5UQGSkewbSLjwsbfJRvJClvrJnX24W/U/l5Kd0lsb4rasdOO8/JTtHMljDXXBYd1l4r6Z7mmRzgWkXtZbUrHMlMOIBo6Y3GxvbNaVdVkN1RIPC3DtWExOu2LR4pLkdTWp6hrs8Vr9xBUNorRc8L5GNcGOY6243G4+St+gacR0LTveMR8f4WWlpFhjcJWm1xgN+O4/ktZ3xcvHMeaPrKZ87ALtFh0shme9QOjaAjSUTG7BI3P5/krHJOYGkutYi229+5feSNJjqZZ3A2aOhwu69/GwCrSZ1rzZjxynoHOrWTMNrgsN9xGYyXuJ0wYY3OGI5A27/0UtpKHWF433uO8KGjkc8GS43Wz2W7E5IOCYzERpegecDXOBeTtVhqKInRcDASS1lweKi2n7XVRsF7F1nEcN/yVvrmANa22Qyt5KaRMwz5bR5bCs0TZWWcXAsO6yxV0Mj2ue9wLSMhZbUjXNfqhsHSGdsjey1a6o6IjO3gNwWUx26omJrrd5HUerZLiN8QBtwGahoKCenklZEQA1+QIvkcx3q46Np9XS33ubcqL0kNXaRuRd0D37ltMT4uWkx5o2U1MgzlYwZfh4jt3qN0PQuGkYXkg2k3b8ipd8xgFyRhIsbnb3LY5J0wfNJMfw5N7CdvjYKtfbTlzGryi0a79oCaM2xixN9jgP0W1E6YRmMvGM5A271IaWgMgeG/eDsTfA/mMlFxTOfeUW3b9luITkiThmMxCaY0fIQ1rnB0hKz8pdHv/AGfQOGYjjId44bH5LJZ1ZVxsYSGl1nuHw/isrVpuEFrG2ysRbsyVuPcZcsxNlb0OJmsY7ENWWiw8Fi0tTS6t7pHhzCMl90eJGE0xzMZu3O127itblDXdEQ77bAdiymJ8nRseOtj/AGesOtnO4MAPicvotqg0ZLBJKyF4a0PuMQvkbH9Vv8j9GGnoS9335ukewbh+fitms6BEgIF+ib/Jbz6ctJjyYqhssobheGgAYhbbluUNovR//wDUbJiya7LtOE3UpPU/Z2EusG23m9+5ZuS8GJ0k5B22bft2n6KlfbXkmMxoco6FxrWysNi5uE34j6bV9hkmDDGXDHsBt3qU0nDjLiNrXXCimOc4F4N7kEG+SryR2vwTGYhtLULnYWucMRO3hxV95Px4KOBt72jGaqhYampjY0kgmziOG/5K8wtsLDYMgr8fpjzTGsiIi1YiIiAiIgIiICIiAiIgIiICIiAiIgIiIC+L6iDG6BhBBY0g7QQFido+AtwmGMt4FjbeVlsomGsMdLG03bGxpItcNAy4LIWgixAtwXpEGGSkicLOjY4bbFoKxv0bTuILoIiRsJjb+i2kQY4oWMFmNa0cGgAL06Np2gHvC9Ig130ULjd0UZNrXLASsf7Kpr3+zw3P/Tb+i3EQ14EbQLBoA4WyXl9PG4YXMaRwLQQsqINV+joHWxQRG2y7Gm3yWWKBjBZjGtHBoA+iyohrGYW3vhbfuCw/s6CxGoisdowNz+S2kQa0NBDGQWQxsI2FrGj6BZnRtO0A94XtEGF1JETcxsJ2XLQsf7Np7k6iK52nA3P5LaRMTrzgFrWFuFljkpY3Czo2OHAtBCzIiGq/RtO62KCI22XY02+SyxU7GCzGNaODQB9FlRB4MTfhHkFg/Z0FiNRFY7Rgbn8ltIgwQ0ULDdkUbTsu1oH0WR8TXfeaD3he0QaztHwF2IwxF3EsbfzssZ0RSn/60Gf/AE2/ot1ENeBG0CwaANlrZLy+mjcLOYwjgWghZUQar9G07rYoIjbZdjTb5LPHE1os1oaOAFl7RB41Tb3wtv3BYhQwhuERR4eGAW8rLYRBgiooWEFkUbSNha0BZl9RAREQEREBERARQJ5R2/5P+P8AgvH+8/8A0f8AH/lQWFfFXv8Aej/of4/8qxS8rsIv9n3j/mf5VGpxZl9VXj5XktB+z2uNms/yoeV//b/+T/KmmLQiq/8Avf8A9v8A+T/Kh5Yf9v8A+T/KmwZK0L4qrJyyIBP2e9h1n+VP98j/APn/APJ/lTTJWpFVf98z/wDm/wDJ/lU7ofSH2qES4MFyRa99nbYJpjeREUoEREBERAREQEREBERAREQEREBERAREQEREBERAREQEREBERAREQEREBERAREQEREBERAREQEREBERBRXrCVmccliKtKIY3LUrT0fH9VtPctKsPR8/oVmvD1Fk1vgtL7ZI9zhFG51uxbFY7BE4jaApWjw00IDYybAYyDbO28qaxpKGFPWts5zGkcNhXuGoDyRmCNrTtCl6ussG2Y5zn5gXVf0vJhkjla0h17OH5FTiNxtT/AHXdxQr443ae0fkjTkO4Ki76p7QsrhAAHOAxHYSoAq88kP8Agm/23fVTCLempr3/ABv9RTXv+N/qKs1ksrKKi6qqA42LiAcukc75jy2Lwa6p+B3rPBXGyWQVH7TUYTm4ODviOY/LLJeftVRePN+YGPM5HK/57/NXCyWQVGeqnBsxzjlfae3+Hmn2ioAk6Tyb9HPsB+pI8FbrJZBU4amYuIc53qPxOt8gFm17/jd6irNZLIKzr3/G71FNe/43eoqzWSyCs69/xu9RQTP+N3mVZrJZBX9a/wCJ3mViq6iVsT3Mc7EBcZqy2SymJydFWjq5iRfHa/bswA/+2S+/aZ7G5eDjtkb9HjtVosllbzj9CpCvqQOlG7ZmQ88Asj6qezSA/MXLQd/Ak7B/PfabJZT5x/EVT7dUdW7d+M8O7ivprKi9sLgOOI9ny2q1WSyecfxj/wBFW+11Dmvs1zHYbsu6+faNnzXkVlSCbtcc8ulsFv1Vrslk84/UCptranK7Hbr9I9mf1WaapmGHDiIv0szs7O3O/grNZLKJvG+hUft9Q4ZMeDa/3j5ZrIa2e4Aa/tOI5ZgW7crnwVqsllPnH8RVBW1FvuOvbe8raZO8gElwJGYuclYbJZVm0T+BX9c/4neZWfWO+J3mVM2SyqIbWO+J3mU1jvid5lTNksghtY74neZTWO+J3mVM2SyCG1jvid5lNY74neZUzZLIIbWO+J3mU1jvid5lTNksghtY74neZTWO+J3mVM2SyCG1jvid5lNY74neZUzZLIIbWO+J3mV4klfhNnOvbLNTlksgr7p5Q09JxcGi9t57B/O1faeeU3xud2bR3+Cn7JZBQ3OWIuXxxXh29TMhtIA2nJaFTJiA/vfkFvwmz2ngQVEvOY7/AMwqJbrohJ0DsdkpmamieAXC5vcDioQutZSLJsbANhsprKZYa5zJHhpaRYbb7O6y06ykaQwEkhpvnv716nhLXXLif7118fLdWt0MZ+648LfndeIz0W9wRz7Ai33gvED/AN24f1WnyP8AFZpZVeuSH/BN/tu+qoYcr5yQ/wCCb/ad9VME+k4iIrKCIiAiIgIiICIiAiIgIiICIiAiIgIiICIiAiIgIiICIiAiIgIiICIiAiIgIiICIiAiIgIiICIiAiIg5y4r4dhXw5piVJlL5I3o5GxOV1ospXukDWNc8i17DtP6KzaK0XrAJJB0fwt49vcpHA1uTQGgbQN38la0499s7cmekHT6Akc5usIDd4GZsvWnqLVuxN6LXbCNxts8bKefNgcCQTdpOW+x/iomqNRUPGJuGMH+jJyd/aWkcf6U85/Krua8HpLPSUj3wmS215wg/DYD6grenZE2ZsRaQ57S4XGWW0LLFSTsd94uY78JN/Lh4JHFvteb/pDSNc09IEHtWrGTu4EHzVu+zXFnC4PHeonSmiBGwvjGQzLb7O0foqW4ZjuExyRKLDl0HkYb0Lf7bvquc4l0TkT/AMA3+276rKPbSVgREVlRERAREQEREBERAREQEREBERAREQEREBERAREQEREBERAREQEREBERAREQEREBERAREQEREBERAREQc0ac1taNpTNKG/hGbjwCqY05L8LPI/qt2i5X1EAIZHCb7SWu9yrFe+yZ66dKe4NHABazBeYni1UV/LqqdkY4PS73LxFy1qmiwZDstctd7l0ReIhh4Svr8yLfgOX5piB8VQW8tKkC2CHf+F2/+8vo5a1I/wCXB6Xe5W+pU8JWv9nxB5dh6WI3dck775/kt6OIC4GwZKhjljUj8EO2+x3C3xL3/vrVYbYIc/6rvcn1IT4SvEgyaeJKxVABa4W/D+f8VS5OWlS4AGOHLg13uXl3LGpN+hDmLfdd7lMclUeEvNfBqpnN3bR3HYugchv+Ab/bf9VzCt0xJOWlzWAtFsgf1UnonlpU0kIhjZCWgk3c1xOfc4LmmI3pvE9duuouX849b1VP6X+9Ocet6qn9L/eg6gi5fzj1vVU/pf705x63qqf0v96DqCLl/OPW9VT+l/vTnHreqp/S/wB6DqCLl/OPW9VT+l/vTnHreqp/S/3oOoIuX849b1VP6X+9Ocet6qn9L/eg6gi5fzj1vVU/pf705x63qqf0v96DqCLl/OPW9VT+l/vTnHreqp/S/wB6DqCLl/OPW9VT+l/vTnHreqp/S/3oOoIuX849b1VP6X+9Ocet6qn9L/eg6gi5fzj1vVU/pf705x63qqf0v96DqCLl/OPW9VT+l/vTnHreqp/S/wB6DqCLl/OPW9VT+l/vTnHreqp/S/3oOoIuX849b1VP6X+9Ocet6qn9L/eg6gi5fzj1vVU/pf705x63qqf0v96DqCLl/OPW9VT+l/vTnHreqp/S/wB6DqCLl/OPW9VT+l/vTnHreqp/S/3oOoIuX849b1VP6X+9Ocet6qn9L/eg6gi5fzj1vVU/pf705x63qqf0v96DqCLl/OPW9VT+l/vTnHreqp/S/wB6DqCLl/OPW9VT+l/vTnHreqp/S/3oOoIuX849b1VP6X+9Ocet6qn9L/eg6gi5fzj1vVU/pf705x63qqf0v96DqCLl/OPW9VT+l/vTnHreqp/S/wB6DqCLl/OPW9VT+l/vTnHreqp/S/3oKeiIgIiICIiAiIgIiICIiAiIgIiICIiAiIgIiICIiAiIgIiICIiAiIgIiICIiAiIgIiICIiAiIgIiICIiAiIgIiICIiAiIgIiICIiAiIgIiICIiAiIgIiICIiAiIgIiICIiAiIgIiICIiAiIgIiICIiAiIgIiICIiAiIgIiICIiAiIgIiICIiAiIgIiICIiAiIgIiICIiAiIgIiICIiAiIgIiICIiAiIgIiICIiAiIgIiICIiAiIgIiICIiAiIgIiICIiAiIgIiICIiAiIgIiICIiAiIgIiICIiAiIgIiICIiD//2Q==\n"
                },
                "metadata": {}
              }
            ]
          }
        },
        "535abb051d3e494c9326d2fa5f48e417": {
          "model_module": "@jupyter-widgets/base",
          "model_name": "LayoutModel",
          "model_module_version": "1.2.0",
          "state": {
            "_model_module": "@jupyter-widgets/base",
            "_model_module_version": "1.2.0",
            "_model_name": "LayoutModel",
            "_view_count": null,
            "_view_module": "@jupyter-widgets/base",
            "_view_module_version": "1.2.0",
            "_view_name": "LayoutView",
            "align_content": null,
            "align_items": null,
            "align_self": null,
            "border": null,
            "bottom": null,
            "display": null,
            "flex": null,
            "flex_flow": null,
            "grid_area": null,
            "grid_auto_columns": null,
            "grid_auto_flow": null,
            "grid_auto_rows": null,
            "grid_column": null,
            "grid_gap": null,
            "grid_row": null,
            "grid_template_areas": null,
            "grid_template_columns": null,
            "grid_template_rows": null,
            "height": null,
            "justify_content": null,
            "justify_items": null,
            "left": null,
            "margin": null,
            "max_height": null,
            "max_width": null,
            "min_height": null,
            "min_width": null,
            "object_fit": null,
            "object_position": null,
            "order": null,
            "overflow": null,
            "overflow_x": null,
            "overflow_y": null,
            "padding": null,
            "right": null,
            "top": null,
            "visibility": null,
            "width": null
          }
        }
      }
    }
  },
  "cells": [
    {
      "cell_type": "markdown",
      "metadata": {
        "id": "view-in-github",
        "colab_type": "text"
      },
      "source": [
        "<a href=\"https://colab.research.google.com/github/DL4CV-NPTEL/Deep-Learning-For-Computer-Vision/blob/main/notebooks/Week_11/Week_11_Lecture_4.ipynb\" target=\"_parent\"><img src=\"https://colab.research.google.com/assets/colab-badge.svg\" alt=\"Open In Colab\"/></a>"
      ]
    },
    {
      "cell_type": "markdown",
      "source": [
        "# Lecture 4: Deep Generative Models: Image Applications"
      ],
      "metadata": {
        "id": "Xd-svvuYs1bf"
      }
    },
    {
      "cell_type": "code",
      "source": [
        "#@title \n",
        "from ipywidgets import widgets\n",
        "out1 = widgets.Output()\n",
        "with out1:\n",
        "  from IPython.display import YouTubeVideo\n",
        "  video = YouTubeVideo(id=f\"R9tEJhUfFL4\", width=854, height=480, fs=1, rel=0)\n",
        "  print(\"Video available at https://youtube.com/watch?v=\" + video.id)\n",
        "  display(video)\n",
        "display(out1)"
      ],
      "metadata": {
        "colab": {
          "base_uri": "https://localhost:8080/",
          "height": 519,
          "referenced_widgets": [
            "b333a68ec33a4c76813a0209649b3391",
            "535abb051d3e494c9326d2fa5f48e417"
          ]
        },
        "cellView": "form",
        "id": "8txKI-rGs5Do",
        "outputId": "a2b0de60-06f3-4134-8616-59cdc81ce99b"
      },
      "execution_count": 1,
      "outputs": [
        {
          "output_type": "display_data",
          "data": {
            "text/plain": [
              "Output()"
            ],
            "application/vnd.jupyter.widget-view+json": {
              "version_major": 2,
              "version_minor": 0,
              "model_id": "b333a68ec33a4c76813a0209649b3391"
            }
          },
          "metadata": {}
        }
      ]
    },
    {
      "cell_type": "code",
      "source": [
        "#@title \n",
        "from IPython import display as IPyDisplay\n",
        "IPyDisplay.HTML(\n",
        "    f\"\"\"\n",
        "  <div>\n",
        "    <a href= \"https://github.com/DL4CV-NPTEL/Deep-Learning-For-Computer-Vision/blob/main/Slides/Week_11/DL4CV_Week11_Part04.pdf\" target=\"_blank\">\n",
        "    <img src=\"https://github.com/DL4CV-NPTEL/Deep-Learning-For-Computer-Vision/blob/main/Data/Slides_Logo.png?raw=1\"\n",
        "  alt=\"button link to Airtable\" style=\"width:200px\"></a>\n",
        "    </div>\"\"\" )"
      ],
      "metadata": {
        "colab": {
          "base_uri": "https://localhost:8080/",
          "height": 100
        },
        "cellView": "form",
        "id": "xEWtSA4Hs9Am",
        "outputId": "6e916864-96fc-4fb5-ac91-eb4429465525"
      },
      "execution_count": 2,
      "outputs": [
        {
          "output_type": "execute_result",
          "data": {
            "text/plain": [
              "<IPython.core.display.HTML object>"
            ],
            "text/html": [
              "\n",
              "  <div>\n",
              "    <a href= \"https://github.com/DL4CV-NPTEL/Deep-Learning-For-Computer-Vision/blob/main/Slides/Week_11/DL4CV_Week11_Part04.pdf\" target=\"_blank\">\n",
              "    <img src=\"https://github.com/DL4CV-NPTEL/Deep-Learning-For-Computer-Vision/blob/main/Data/Slides_Logo.png?raw=1\"\n",
              "  alt=\"button link to Airtable\" style=\"width:200px\"></a>\n",
              "    </div>"
            ]
          },
          "metadata": {},
          "execution_count": 2
        }
      ]
    },
    {
      "cell_type": "code",
      "source": [
        ""
      ],
      "metadata": {
        "id": "UfVW6yYKs_bF"
      },
      "execution_count": null,
      "outputs": []
    }
  ]
}