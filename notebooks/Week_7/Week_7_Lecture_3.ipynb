{
  "nbformat": 4,
  "nbformat_minor": 0,
  "metadata": {
    "colab": {
      "name": "Week_7_Lecture_3.ipynb",
      "provenance": [],
      "include_colab_link": true
    },
    "kernelspec": {
      "name": "python3",
      "display_name": "Python 3"
    },
    "language_info": {
      "name": "python"
    },
    "widgets": {
      "application/vnd.jupyter.widget-state+json": {
        "411b8cfa617a44c2ac5a234ff6ee2730": {
          "model_module": "@jupyter-widgets/output",
          "model_name": "OutputModel",
          "model_module_version": "1.0.0",
          "state": {
            "_dom_classes": [],
            "_model_module": "@jupyter-widgets/output",
            "_model_module_version": "1.0.0",
            "_model_name": "OutputModel",
            "_view_count": null,
            "_view_module": "@jupyter-widgets/output",
            "_view_module_version": "1.0.0",
            "_view_name": "OutputView",
            "layout": "IPY_MODEL_d4e511ecdc3c446b992405983a8debac",
            "msg_id": "",
            "outputs": [
              {
                "output_type": "stream",
                "name": "stdout",
                "text": [
                  "Video available at https://youtube.com/watch?v=JI-bxTnnSTg\n"
                ]
              },
              {
                "output_type": "display_data",
                "data": {
                  "text/plain": "<IPython.lib.display.YouTubeVideo at 0x7f2eac47bb90>",
                  "text/html": "\n        <iframe\n            width=\"854\"\n            height=\"480\"\n            src=\"https://www.youtube.com/embed/JI-bxTnnSTg?fs=1&rel=0\"\n            frameborder=\"0\"\n            allowfullscreen\n        ></iframe>\n        ",
                  "image/jpeg": "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\n"
                },
                "metadata": {}
              }
            ]
          }
        },
        "d4e511ecdc3c446b992405983a8debac": {
          "model_module": "@jupyter-widgets/base",
          "model_name": "LayoutModel",
          "model_module_version": "1.2.0",
          "state": {
            "_model_module": "@jupyter-widgets/base",
            "_model_module_version": "1.2.0",
            "_model_name": "LayoutModel",
            "_view_count": null,
            "_view_module": "@jupyter-widgets/base",
            "_view_module_version": "1.2.0",
            "_view_name": "LayoutView",
            "align_content": null,
            "align_items": null,
            "align_self": null,
            "border": null,
            "bottom": null,
            "display": null,
            "flex": null,
            "flex_flow": null,
            "grid_area": null,
            "grid_auto_columns": null,
            "grid_auto_flow": null,
            "grid_auto_rows": null,
            "grid_column": null,
            "grid_gap": null,
            "grid_row": null,
            "grid_template_areas": null,
            "grid_template_columns": null,
            "grid_template_rows": null,
            "height": null,
            "justify_content": null,
            "justify_items": null,
            "left": null,
            "margin": null,
            "max_height": null,
            "max_width": null,
            "min_height": null,
            "min_width": null,
            "object_fit": null,
            "object_position": null,
            "order": null,
            "overflow": null,
            "overflow_x": null,
            "overflow_y": null,
            "padding": null,
            "right": null,
            "top": null,
            "visibility": null,
            "width": null
          }
        }
      }
    }
  },
  "cells": [
    {
      "cell_type": "markdown",
      "metadata": {
        "id": "view-in-github",
        "colab_type": "text"
      },
      "source": [
        "<a href=\"https://colab.research.google.com/github/DL4CV-NPTEL/Deep-Learning-For-Computer-Vision/blob/main/notebooks/Week_7/Week_7_Lecture_3.ipynb\" target=\"_parent\"><img src=\"https://colab.research.google.com/assets/colab-badge.svg\" alt=\"Open In Colab\"/></a>"
      ]
    },
    {
      "cell_type": "markdown",
      "source": [
        "# Lecture 3: CNNs for Object Detection-II\n"
      ],
      "metadata": {
        "id": "5p8aGbdxc1Nz"
      }
    },
    {
      "cell_type": "code",
      "execution_count": 45,
      "metadata": {
        "colab": {
          "base_uri": "https://localhost:8080/",
          "height": 539,
          "referenced_widgets": [
            "411b8cfa617a44c2ac5a234ff6ee2730",
            "d4e511ecdc3c446b992405983a8debac"
          ]
        },
        "id": "W5BZQI44cxz_",
        "outputId": "0690eabc-6231-43f4-9154-7d9d91991260",
        "cellView": "form"
      },
      "outputs": [
        {
          "output_type": "display_data",
          "data": {
            "text/plain": [
              "Output()"
            ],
            "application/vnd.jupyter.widget-view+json": {
              "version_major": 2,
              "version_minor": 0,
              "model_id": "411b8cfa617a44c2ac5a234ff6ee2730"
            }
          },
          "metadata": {}
        }
      ],
      "source": [
        "#@title \n",
        "from ipywidgets import widgets\n",
        "out1 = widgets.Output()\n",
        "with out1:\n",
        "  from IPython.display import YouTubeVideo\n",
        "  video = YouTubeVideo(id=f\"JI-bxTnnSTg\", width=854, height=480, fs=1, rel=0)\n",
        "  print(\"Video available at https://youtube.com/watch?v=\" + video.id)\n",
        "  display(video)\n",
        "display(out1)"
      ]
    },
    {
      "cell_type": "code",
      "source": [
        "#@title \n",
        "from IPython import display as IPyDisplay\n",
        "IPyDisplay.HTML(\n",
        "    f\"\"\"\n",
        "  <div>\n",
        "    <a href= \"https://github.com/DL4CV-NPTEL/Deep-Learning-For-Computer-Vision/blob/main/Slides/Week_7/DL4CV_Week07_Part02.pdf\" target=\"_blank\">\n",
        "    <img src=\"https://github.com/DL4CV-NPTEL/Deep-Learning-For-Computer-Vision/blob/main/Data/Slides_Logo.png?raw=1\"\n",
        "  alt=\"button link to Airtable\" style=\"width:200px\"></a>\n",
        "    </div>\"\"\" )"
      ],
      "metadata": {
        "colab": {
          "base_uri": "https://localhost:8080/",
          "height": 100
        },
        "id": "bJQjZzwxdQch",
        "outputId": "693d709f-388c-4a1d-f8cf-4a2c9e04928a",
        "cellView": "form"
      },
      "execution_count": 46,
      "outputs": [
        {
          "output_type": "execute_result",
          "data": {
            "text/plain": [
              "<IPython.core.display.HTML object>"
            ],
            "text/html": [
              "\n",
              "  <div>\n",
              "    <a href= \"https://github.com/DL4CV-NPTEL/Deep-Learning-For-Computer-Vision/blob/main/Slides/Week_7/DL4CV_Week07_Part02.pdf\" target=\"_blank\">\n",
              "    <img src=\"https://github.com/DL4CV-NPTEL/Deep-Learning-For-Computer-Vision/blob/main/Data/Slides_Logo.png?raw=1\"\n",
              "  alt=\"button link to Airtable\" style=\"width:200px\"></a>\n",
              "    </div>"
            ]
          },
          "metadata": {},
          "execution_count": 46
        }
      ]
    }
  ]
}