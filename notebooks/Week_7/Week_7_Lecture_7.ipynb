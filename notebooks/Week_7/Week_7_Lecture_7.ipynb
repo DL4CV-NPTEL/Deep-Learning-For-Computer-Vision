{
  "nbformat": 4,
  "nbformat_minor": 0,
  "metadata": {
    "colab": {
      "name": "Week_7_Lecture_7.ipynb",
      "provenance": [],
      "include_colab_link": true
    },
    "kernelspec": {
      "name": "python3",
      "display_name": "Python 3"
    },
    "language_info": {
      "name": "python"
    },
    "widgets": {
      "application/vnd.jupyter.widget-state+json": {
        "f52d2d0f3c4c486580bc9fd8624d75b7": {
          "model_module": "@jupyter-widgets/output",
          "model_name": "OutputModel",
          "model_module_version": "1.0.0",
          "state": {
            "_dom_classes": [],
            "_model_module": "@jupyter-widgets/output",
            "_model_module_version": "1.0.0",
            "_model_name": "OutputModel",
            "_view_count": null,
            "_view_module": "@jupyter-widgets/output",
            "_view_module_version": "1.0.0",
            "_view_name": "OutputView",
            "layout": "IPY_MODEL_06c6a3770f054d83b21d163ee76eac1a",
            "msg_id": "",
            "outputs": [
              {
                "output_type": "stream",
                "name": "stdout",
                "text": [
                  "Video available at https://youtube.com/watch?v=q8tB0jviYzU\n"
                ]
              },
              {
                "output_type": "display_data",
                "data": {
                  "text/plain": "<IPython.lib.display.YouTubeVideo at 0x7fc2b2390450>",
                  "text/html": "\n        <iframe\n            width=\"854\"\n            height=\"480\"\n            src=\"https://www.youtube.com/embed/q8tB0jviYzU?fs=1&rel=0\"\n            frameborder=\"0\"\n            allowfullscreen\n        ></iframe>\n        ",
                  "image/jpeg": "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\n"
                },
                "metadata": {}
              }
            ]
          }
        },
        "06c6a3770f054d83b21d163ee76eac1a": {
          "model_module": "@jupyter-widgets/base",
          "model_name": "LayoutModel",
          "model_module_version": "1.2.0",
          "state": {
            "_model_module": "@jupyter-widgets/base",
            "_model_module_version": "1.2.0",
            "_model_name": "LayoutModel",
            "_view_count": null,
            "_view_module": "@jupyter-widgets/base",
            "_view_module_version": "1.2.0",
            "_view_name": "LayoutView",
            "align_content": null,
            "align_items": null,
            "align_self": null,
            "border": null,
            "bottom": null,
            "display": null,
            "flex": null,
            "flex_flow": null,
            "grid_area": null,
            "grid_auto_columns": null,
            "grid_auto_flow": null,
            "grid_auto_rows": null,
            "grid_column": null,
            "grid_gap": null,
            "grid_row": null,
            "grid_template_areas": null,
            "grid_template_columns": null,
            "grid_template_rows": null,
            "height": null,
            "justify_content": null,
            "justify_items": null,
            "left": null,
            "margin": null,
            "max_height": null,
            "max_width": null,
            "min_height": null,
            "min_width": null,
            "object_fit": null,
            "object_position": null,
            "order": null,
            "overflow": null,
            "overflow_x": null,
            "overflow_y": null,
            "padding": null,
            "right": null,
            "top": null,
            "visibility": null,
            "width": null
          }
        }
      }
    }
  },
  "cells": [
    {
      "cell_type": "markdown",
      "metadata": {
        "id": "view-in-github",
        "colab_type": "text"
      },
      "source": [
        "<a href=\"https://colab.research.google.com/github/DL4CV-NPTEL/Deep-Learning-For-Computer-Vision/blob/main/notebooks/Week_7/Week_7_Lecture_7.ipynb\" target=\"_parent\"><img src=\"https://colab.research.google.com/assets/colab-badge.svg\" alt=\"Open In Colab\"/></a>"
      ]
    },
    {
      "cell_type": "markdown",
      "source": [
        "# Lecture 7: CNNs for Human Understanding: Human Pose and Crowd\n"
      ],
      "metadata": {
        "id": "5p8aGbdxc1Nz"
      }
    },
    {
      "cell_type": "code",
      "execution_count": 1,
      "metadata": {
        "colab": {
          "base_uri": "https://localhost:8080/",
          "height": 539,
          "referenced_widgets": [
            "f52d2d0f3c4c486580bc9fd8624d75b7",
            "06c6a3770f054d83b21d163ee76eac1a"
          ]
        },
        "id": "W5BZQI44cxz_",
        "outputId": "c507f4fa-87ec-4bd6-9f36-6366c5f3a577",
        "cellView": "form"
      },
      "outputs": [
        {
          "output_type": "display_data",
          "data": {
            "text/plain": [
              "Output()"
            ],
            "application/vnd.jupyter.widget-view+json": {
              "version_major": 2,
              "version_minor": 0,
              "model_id": "f52d2d0f3c4c486580bc9fd8624d75b7"
            }
          },
          "metadata": {}
        }
      ],
      "source": [
        "#@title \n",
        "from ipywidgets import widgets\n",
        "out1 = widgets.Output()\n",
        "with out1:\n",
        "  from IPython.display import YouTubeVideo\n",
        "  video = YouTubeVideo(id=f\"q8tB0jviYzU\", width=854, height=480, fs=1, rel=0)\n",
        "  print(\"Video available at https://youtube.com/watch?v=\" + video.id)\n",
        "  display(video)\n",
        "display(out1)"
      ]
    },
    {
      "cell_type": "code",
      "source": [
        "#@title \n",
        "from IPython import display as IPyDisplay\n",
        "IPyDisplay.HTML(\n",
        "    f\"\"\"\n",
        "  <div>\n",
        "    <a href= \"https://github.com/DL4CV-NPTEL/Deep-Learning-For-Computer-Vision/blob/main/Slides/Week_7/DL4CV_Week07_Part05.pdf\" target=\"_blank\">\n",
        "    <img src=\"https://github.com/DL4CV-NPTEL/Deep-Learning-For-Computer-Vision/blob/main/Data/Slides_Logo.png?raw=1\"\n",
        "  alt=\"button link to Airtable\" style=\"width:200px\"></a>\n",
        "    </div>\"\"\" )"
      ],
      "metadata": {
        "colab": {
          "base_uri": "https://localhost:8080/",
          "height": 100
        },
        "id": "bJQjZzwxdQch",
        "outputId": "9c2e1e97-18b5-4cb1-8ac4-62e5101716b1",
        "cellView": "form"
      },
      "execution_count": 2,
      "outputs": [
        {
          "output_type": "execute_result",
          "data": {
            "text/plain": [
              "<IPython.core.display.HTML object>"
            ],
            "text/html": [
              "\n",
              "  <div>\n",
              "    <a href= \"https://github.com/DL4CV-NPTEL/Deep-Learning-For-Computer-Vision/blob/main/Slides/Week_7/DL4CV_Week07_Part05.pdf\" target=\"_blank\">\n",
              "    <img src=\"https://github.com/DL4CV-NPTEL/Deep-Learning-For-Computer-Vision/blob/main/Data/Slides_Logo.png?raw=1\"\n",
              "  alt=\"button link to Airtable\" style=\"width:200px\"></a>\n",
              "    </div>"
            ]
          },
          "metadata": {},
          "execution_count": 2
        }
      ]
    }
  ]
}