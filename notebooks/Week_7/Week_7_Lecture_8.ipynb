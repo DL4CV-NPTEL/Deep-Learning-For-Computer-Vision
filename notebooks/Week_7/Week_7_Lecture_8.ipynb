{
  "nbformat": 4,
  "nbformat_minor": 0,
  "metadata": {
    "colab": {
      "name": "Week_7_Lecture_8.ipynb",
      "provenance": [],
      "include_colab_link": true
    },
    "kernelspec": {
      "name": "python3",
      "display_name": "Python 3"
    },
    "language_info": {
      "name": "python"
    },
    "widgets": {
      "application/vnd.jupyter.widget-state+json": {
        "ab4dfba78f2542cfbb1725da67ddda61": {
          "model_module": "@jupyter-widgets/output",
          "model_name": "OutputModel",
          "model_module_version": "1.0.0",
          "state": {
            "_dom_classes": [],
            "_model_module": "@jupyter-widgets/output",
            "_model_module_version": "1.0.0",
            "_model_name": "OutputModel",
            "_view_count": null,
            "_view_module": "@jupyter-widgets/output",
            "_view_module_version": "1.0.0",
            "_view_name": "OutputView",
            "layout": "IPY_MODEL_6886a56791294f30ba7320d91919602a",
            "msg_id": "",
            "outputs": [
              {
                "output_type": "stream",
                "name": "stdout",
                "text": [
                  "Video available at https://youtube.com/watch?v=KbmoTrbSNw8\n"
                ]
              },
              {
                "output_type": "display_data",
                "data": {
                  "text/plain": "<IPython.lib.display.YouTubeVideo at 0x7f2eac9a3f90>",
                  "text/html": "\n        <iframe\n            width=\"854\"\n            height=\"480\"\n            src=\"https://www.youtube.com/embed/KbmoTrbSNw8?fs=1&rel=0\"\n            frameborder=\"0\"\n            allowfullscreen\n        ></iframe>\n        ",
                  "image/jpeg": "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\n"
                },
                "metadata": {}
              }
            ]
          }
        },
        "6886a56791294f30ba7320d91919602a": {
          "model_module": "@jupyter-widgets/base",
          "model_name": "LayoutModel",
          "model_module_version": "1.2.0",
          "state": {
            "_model_module": "@jupyter-widgets/base",
            "_model_module_version": "1.2.0",
            "_model_name": "LayoutModel",
            "_view_count": null,
            "_view_module": "@jupyter-widgets/base",
            "_view_module_version": "1.2.0",
            "_view_name": "LayoutView",
            "align_content": null,
            "align_items": null,
            "align_self": null,
            "border": null,
            "bottom": null,
            "display": null,
            "flex": null,
            "flex_flow": null,
            "grid_area": null,
            "grid_auto_columns": null,
            "grid_auto_flow": null,
            "grid_auto_rows": null,
            "grid_column": null,
            "grid_gap": null,
            "grid_row": null,
            "grid_template_areas": null,
            "grid_template_columns": null,
            "grid_template_rows": null,
            "height": null,
            "justify_content": null,
            "justify_items": null,
            "left": null,
            "margin": null,
            "max_height": null,
            "max_width": null,
            "min_height": null,
            "min_width": null,
            "object_fit": null,
            "object_position": null,
            "order": null,
            "overflow": null,
            "overflow_x": null,
            "overflow_y": null,
            "padding": null,
            "right": null,
            "top": null,
            "visibility": null,
            "width": null
          }
        }
      }
    }
  },
  "cells": [
    {
      "cell_type": "markdown",
      "metadata": {
        "id": "view-in-github",
        "colab_type": "text"
      },
      "source": [
        "<a href=\"https://colab.research.google.com/github/DL4CV-NPTEL/Deep-Learning-For-Computer-Vision/blob/main/notebooks/Week_7/Week_7_Lecture_8.ipynb\" target=\"_parent\"><img src=\"https://colab.research.google.com/assets/colab-badge.svg\" alt=\"Open In Colab\"/></a>"
      ]
    },
    {
      "cell_type": "markdown",
      "source": [
        "# Lecture 8: CNNs for Other Image Tasks \n"
      ],
      "metadata": {
        "id": "5p8aGbdxc1Nz"
      }
    },
    {
      "cell_type": "code",
      "execution_count": 54,
      "metadata": {
        "colab": {
          "base_uri": "https://localhost:8080/",
          "height": 539,
          "referenced_widgets": [
            "ab4dfba78f2542cfbb1725da67ddda61",
            "6886a56791294f30ba7320d91919602a"
          ]
        },
        "id": "W5BZQI44cxz_",
        "outputId": "9592e4de-5530-4fe2-a7e2-4abb4d01e39e",
        "cellView": "form"
      },
      "outputs": [
        {
          "output_type": "display_data",
          "data": {
            "text/plain": [
              "Output()"
            ],
            "application/vnd.jupyter.widget-view+json": {
              "version_major": 2,
              "version_minor": 0,
              "model_id": "ab4dfba78f2542cfbb1725da67ddda61"
            }
          },
          "metadata": {}
        }
      ],
      "source": [
        "#@title \n",
        "from ipywidgets import widgets\n",
        "out1 = widgets.Output()\n",
        "with out1:\n",
        "  from IPython.display import YouTubeVideo\n",
        "  video = YouTubeVideo(id=f\"KbmoTrbSNw8\", width=854, height=480, fs=1, rel=0)\n",
        "  print(\"Video available at https://youtube.com/watch?v=\" + video.id)\n",
        "  display(video)\n",
        "display(out1)"
      ]
    },
    {
      "cell_type": "code",
      "source": [
        "#@title \n",
        "from IPython import display as IPyDisplay\n",
        "IPyDisplay.HTML(\n",
        "    f\"\"\"\n",
        "  <div>\n",
        "    <a href= \"https://github.com/DL4CV-NPTEL/Deep-Learning-For-Computer-Vision/blob/main/Slides/Week_7/DL4CV_Week07_Part06.pdf\" target=\"_blank\">\n",
        "    <img src=\"https://github.com/DL4CV-NPTEL/Deep-Learning-For-Computer-Vision/blob/main/Data/Slides_Logo.png?raw=1\"\n",
        "  alt=\"button link to Airtable\" style=\"width:200px\"></a>\n",
        "    </div>\"\"\" )"
      ],
      "metadata": {
        "colab": {
          "base_uri": "https://localhost:8080/",
          "height": 100
        },
        "id": "bJQjZzwxdQch",
        "outputId": "5b48ee5c-b28e-4ec2-bb76-5d7b84e297eb",
        "cellView": "form"
      },
      "execution_count": 55,
      "outputs": [
        {
          "output_type": "execute_result",
          "data": {
            "text/plain": [
              "<IPython.core.display.HTML object>"
            ],
            "text/html": [
              "\n",
              "  <div>\n",
              "    <a href= \"https://github.com/DL4CV-NPTEL/Deep-Learning-For-Computer-Vision/blob/main/Slides/Week_7/DL4CV_Week07_Part06.pdf\" target=\"_blank\">\n",
              "    <img src=\"https://github.com/DL4CV-NPTEL/Deep-Learning-For-Computer-Vision/blob/main/Data/Slides_Logo.png?raw=1\"\n",
              "  alt=\"button link to Airtable\" style=\"width:200px\"></a>\n",
              "    </div>"
            ]
          },
          "metadata": {},
          "execution_count": 55
        }
      ]
    }
  ]
}