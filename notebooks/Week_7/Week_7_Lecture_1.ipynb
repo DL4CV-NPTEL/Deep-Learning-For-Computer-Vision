{
  "nbformat": 4,
  "nbformat_minor": 0,
  "metadata": {
    "colab": {
      "name": "Week_7_Lecture_1.ipynb",
      "provenance": [],
      "include_colab_link": true
    },
    "kernelspec": {
      "name": "python3",
      "display_name": "Python 3"
    },
    "language_info": {
      "name": "python"
    },
    "widgets": {
      "application/vnd.jupyter.widget-state+json": {
        "36f1090d2c3848ec837686b86c9e252a": {
          "model_module": "@jupyter-widgets/output",
          "model_name": "OutputModel",
          "model_module_version": "1.0.0",
          "state": {
            "_dom_classes": [],
            "_model_module": "@jupyter-widgets/output",
            "_model_module_version": "1.0.0",
            "_model_name": "OutputModel",
            "_view_count": null,
            "_view_module": "@jupyter-widgets/output",
            "_view_module_version": "1.0.0",
            "_view_name": "OutputView",
            "layout": "IPY_MODEL_7ad9965a0318489d875f7d5bfe5620c4",
            "msg_id": "",
            "outputs": [
              {
                "output_type": "stream",
                "name": "stdout",
                "text": [
                  "Video available at https://youtube.com/watch?v=yqyLWUKftI0\n"
                ]
              },
              {
                "output_type": "display_data",
                "data": {
                  "text/plain": "<IPython.lib.display.YouTubeVideo at 0x7f2eb24ed9d0>",
                  "text/html": "\n        <iframe\n            width=\"854\"\n            height=\"480\"\n            src=\"https://www.youtube.com/embed/yqyLWUKftI0?fs=1&rel=0\"\n            frameborder=\"0\"\n            allowfullscreen\n        ></iframe>\n        ",
                  "image/jpeg": "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\n"
                },
                "metadata": {}
              }
            ]
          }
        },
        "7ad9965a0318489d875f7d5bfe5620c4": {
          "model_module": "@jupyter-widgets/base",
          "model_name": "LayoutModel",
          "model_module_version": "1.2.0",
          "state": {
            "_model_module": "@jupyter-widgets/base",
            "_model_module_version": "1.2.0",
            "_model_name": "LayoutModel",
            "_view_count": null,
            "_view_module": "@jupyter-widgets/base",
            "_view_module_version": "1.2.0",
            "_view_name": "LayoutView",
            "align_content": null,
            "align_items": null,
            "align_self": null,
            "border": null,
            "bottom": null,
            "display": null,
            "flex": null,
            "flex_flow": null,
            "grid_area": null,
            "grid_auto_columns": null,
            "grid_auto_flow": null,
            "grid_auto_rows": null,
            "grid_column": null,
            "grid_gap": null,
            "grid_row": null,
            "grid_template_areas": null,
            "grid_template_columns": null,
            "grid_template_rows": null,
            "height": null,
            "justify_content": null,
            "justify_items": null,
            "left": null,
            "margin": null,
            "max_height": null,
            "max_width": null,
            "min_height": null,
            "min_width": null,
            "object_fit": null,
            "object_position": null,
            "order": null,
            "overflow": null,
            "overflow_x": null,
            "overflow_y": null,
            "padding": null,
            "right": null,
            "top": null,
            "visibility": null,
            "width": null
          }
        }
      }
    }
  },
  "cells": [
    {
      "cell_type": "markdown",
      "metadata": {
        "id": "view-in-github",
        "colab_type": "text"
      },
      "source": [
        "<a href=\"https://colab.research.google.com/github/DL4CV-NPTEL/Deep-Learning-For-Computer-Vision/blob/main/notebooks/Week_7/Week_7_Lecture_1.ipynb\" target=\"_parent\"><img src=\"https://colab.research.google.com/assets/colab-badge.svg\" alt=\"Open In Colab\"/></a>"
      ]
    },
    {
      "cell_type": "markdown",
      "source": [
        "# Lecture 1: CNNs for Object Detection-I - Part 01\n"
      ],
      "metadata": {
        "id": "5p8aGbdxc1Nz"
      }
    },
    {
      "cell_type": "code",
      "execution_count": 57,
      "metadata": {
        "colab": {
          "base_uri": "https://localhost:8080/",
          "height": 539,
          "referenced_widgets": [
            "36f1090d2c3848ec837686b86c9e252a",
            "7ad9965a0318489d875f7d5bfe5620c4"
          ]
        },
        "id": "W5BZQI44cxz_",
        "outputId": "2752f60e-4aa0-4a56-c30e-e4221ad79e01",
        "cellView": "form"
      },
      "outputs": [
        {
          "output_type": "display_data",
          "data": {
            "text/plain": [
              "Output()"
            ],
            "application/vnd.jupyter.widget-view+json": {
              "version_major": 2,
              "version_minor": 0,
              "model_id": "36f1090d2c3848ec837686b86c9e252a"
            }
          },
          "metadata": {}
        }
      ],
      "source": [
        "#@title \n",
        "from ipywidgets import widgets\n",
        "out1 = widgets.Output()\n",
        "with out1:\n",
        "  from IPython.display import YouTubeVideo\n",
        "  video = YouTubeVideo(id=f\"yqyLWUKftI0\", width=854, height=480, fs=1, rel=0)\n",
        "  print(\"Video available at https://youtube.com/watch?v=\" + video.id)\n",
        "  display(video)\n",
        "display(out1)"
      ]
    },
    {
      "cell_type": "code",
      "source": [
        "#@title \n",
        "from IPython import display as IPyDisplay\n",
        "IPyDisplay.HTML(\n",
        "    f\"\"\"\n",
        "  <div>\n",
        "    <a href= \"https://github.com/DL4CV-NPTEL/Deep-Learning-For-Computer-Vision/blob/main/Slides/Week_7/DL4CV_Week07_Part01.pdf\" target=\"_blank\">\n",
        "    <img src=\"https://github.com/DL4CV-NPTEL/Deep-Learning-For-Computer-Vision/blob/main/Data/Slides_Logo.png?raw=1\"\n",
        "  alt=\"button link to Airtable\" style=\"width:200px\"></a>\n",
        "    </div>\"\"\" )"
      ],
      "metadata": {
        "colab": {
          "base_uri": "https://localhost:8080/",
          "height": 100
        },
        "id": "bJQjZzwxdQch",
        "outputId": "ca649881-d647-4938-c68d-9880454171b4",
        "cellView": "form"
      },
      "execution_count": 58,
      "outputs": [
        {
          "output_type": "execute_result",
          "data": {
            "text/plain": [
              "<IPython.core.display.HTML object>"
            ],
            "text/html": [
              "\n",
              "  <div>\n",
              "    <a href= \"https://github.com/DL4CV-NPTEL/Deep-Learning-For-Computer-Vision/blob/main/Slides/Week_7/DL4CV_Week07_Part01.pdf\" target=\"_blank\">\n",
              "    <img src=\"https://github.com/DL4CV-NPTEL/Deep-Learning-For-Computer-Vision/blob/main/Data/Slides_Logo.png?raw=1\"\n",
              "  alt=\"button link to Airtable\" style=\"width:200px\"></a>\n",
              "    </div>"
            ]
          },
          "metadata": {},
          "execution_count": 58
        }
      ]
    }
  ]
}