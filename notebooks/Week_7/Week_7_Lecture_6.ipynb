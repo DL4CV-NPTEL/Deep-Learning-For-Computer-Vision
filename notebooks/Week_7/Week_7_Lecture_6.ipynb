{
  "nbformat": 4,
  "nbformat_minor": 0,
  "metadata": {
    "colab": {
      "name": "Week_7_Lecture_6.ipynb",
      "provenance": [],
      "include_colab_link": true
    },
    "kernelspec": {
      "name": "python3",
      "display_name": "Python 3"
    },
    "language_info": {
      "name": "python"
    },
    "widgets": {
      "application/vnd.jupyter.widget-state+json": {
        "232fc8c5551944fb8914d3701a6fa4a8": {
          "model_module": "@jupyter-widgets/output",
          "model_name": "OutputModel",
          "model_module_version": "1.0.0",
          "state": {
            "_dom_classes": [],
            "_model_module": "@jupyter-widgets/output",
            "_model_module_version": "1.0.0",
            "_model_name": "OutputModel",
            "_view_count": null,
            "_view_module": "@jupyter-widgets/output",
            "_view_module_version": "1.0.0",
            "_view_name": "OutputView",
            "layout": "IPY_MODEL_3942c75720ca4beb9c4ff5c06afa3f8d",
            "msg_id": "",
            "outputs": [
              {
                "output_type": "stream",
                "name": "stdout",
                "text": [
                  "Video available at https://youtube.com/watch?v=k4mNPA7WOVs\n"
                ]
              },
              {
                "output_type": "display_data",
                "data": {
                  "text/plain": "<IPython.lib.display.YouTubeVideo at 0x7f2eac47fb10>",
                  "text/html": "\n        <iframe\n            width=\"854\"\n            height=\"480\"\n            src=\"https://www.youtube.com/embed/k4mNPA7WOVs?fs=1&rel=0\"\n            frameborder=\"0\"\n            allowfullscreen\n        ></iframe>\n        ",
                  "image/jpeg": "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\n"
                },
                "metadata": {}
              }
            ]
          }
        },
        "3942c75720ca4beb9c4ff5c06afa3f8d": {
          "model_module": "@jupyter-widgets/base",
          "model_name": "LayoutModel",
          "model_module_version": "1.2.0",
          "state": {
            "_model_module": "@jupyter-widgets/base",
            "_model_module_version": "1.2.0",
            "_model_name": "LayoutModel",
            "_view_count": null,
            "_view_module": "@jupyter-widgets/base",
            "_view_module_version": "1.2.0",
            "_view_name": "LayoutView",
            "align_content": null,
            "align_items": null,
            "align_self": null,
            "border": null,
            "bottom": null,
            "display": null,
            "flex": null,
            "flex_flow": null,
            "grid_area": null,
            "grid_auto_columns": null,
            "grid_auto_flow": null,
            "grid_auto_rows": null,
            "grid_column": null,
            "grid_gap": null,
            "grid_row": null,
            "grid_template_areas": null,
            "grid_template_columns": null,
            "grid_template_rows": null,
            "height": null,
            "justify_content": null,
            "justify_items": null,
            "left": null,
            "margin": null,
            "max_height": null,
            "max_width": null,
            "min_height": null,
            "min_width": null,
            "object_fit": null,
            "object_position": null,
            "order": null,
            "overflow": null,
            "overflow_x": null,
            "overflow_y": null,
            "padding": null,
            "right": null,
            "top": null,
            "visibility": null,
            "width": null
          }
        }
      }
    }
  },
  "cells": [
    {
      "cell_type": "markdown",
      "metadata": {
        "id": "view-in-github",
        "colab_type": "text"
      },
      "source": [
        "<a href=\"https://colab.research.google.com/github/DL4CV-NPTEL/Deep-Learning-For-Computer-Vision/blob/main/notebooks/Week_7/Week_7_Lecture_6.ipynb\" target=\"_parent\"><img src=\"https://colab.research.google.com/assets/colab-badge.svg\" alt=\"Open In Colab\"/></a>"
      ]
    },
    {
      "cell_type": "markdown",
      "source": [
        "# Lecture 6: CNNs for Human Understanding: Faces -Part 02\n"
      ],
      "metadata": {
        "id": "5p8aGbdxc1Nz"
      }
    },
    {
      "cell_type": "code",
      "execution_count": 51,
      "metadata": {
        "colab": {
          "base_uri": "https://localhost:8080/",
          "height": 539,
          "referenced_widgets": [
            "232fc8c5551944fb8914d3701a6fa4a8",
            "3942c75720ca4beb9c4ff5c06afa3f8d"
          ]
        },
        "id": "W5BZQI44cxz_",
        "outputId": "4205f2c7-c132-405c-b897-b0eb52802b16",
        "cellView": "form"
      },
      "outputs": [
        {
          "output_type": "display_data",
          "data": {
            "text/plain": [
              "Output()"
            ],
            "application/vnd.jupyter.widget-view+json": {
              "version_major": 2,
              "version_minor": 0,
              "model_id": "232fc8c5551944fb8914d3701a6fa4a8"
            }
          },
          "metadata": {}
        }
      ],
      "source": [
        "#@title \n",
        "from ipywidgets import widgets\n",
        "out1 = widgets.Output()\n",
        "with out1:\n",
        "  from IPython.display import YouTubeVideo\n",
        "  video = YouTubeVideo(id=f\"k4mNPA7WOVs\", width=854, height=480, fs=1, rel=0)\n",
        "  print(\"Video available at https://youtube.com/watch?v=\" + video.id)\n",
        "  display(video)\n",
        "display(out1)"
      ]
    },
    {
      "cell_type": "code",
      "source": [
        "#@title \n",
        "from IPython import display as IPyDisplay\n",
        "IPyDisplay.HTML(\n",
        "    f\"\"\"\n",
        "  <div>\n",
        "    <a href= \"https://github.com/DL4CV-NPTEL/Deep-Learning-For-Computer-Vision/blob/main/Slides/Week_7/DL4CV_Week07_Part04.pdf\" target=\"_blank\">\n",
        "    <img src=\"https://github.com/DL4CV-NPTEL/Deep-Learning-For-Computer-Vision/blob/main/Data/Slides_Logo.png?raw=1\"\n",
        "  alt=\"button link to Airtable\" style=\"width:200px\"></a>\n",
        "    </div>\"\"\" )"
      ],
      "metadata": {
        "colab": {
          "base_uri": "https://localhost:8080/",
          "height": 100
        },
        "id": "bJQjZzwxdQch",
        "outputId": "36785b62-6982-423c-ddd8-b8ef4cbfeaa5",
        "cellView": "form"
      },
      "execution_count": 50,
      "outputs": [
        {
          "output_type": "execute_result",
          "data": {
            "text/plain": [
              "<IPython.core.display.HTML object>"
            ],
            "text/html": [
              "\n",
              "  <div>\n",
              "    <a href= \"https://github.com/DL4CV-NPTEL/Deep-Learning-For-Computer-Vision/blob/main/Slides/Week_7/DL4CV_Week07_Part04.pdf\" target=\"_blank\">\n",
              "    <img src=\"https://github.com/DL4CV-NPTEL/Deep-Learning-For-Computer-Vision/blob/main/Data/Slides_Logo.png?raw=1\"\n",
              "  alt=\"button link to Airtable\" style=\"width:200px\"></a>\n",
              "    </div>"
            ]
          },
          "metadata": {},
          "execution_count": 50
        }
      ]
    }
  ]
}