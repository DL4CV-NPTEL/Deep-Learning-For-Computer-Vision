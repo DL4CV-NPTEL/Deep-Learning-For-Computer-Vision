{
  "nbformat": 4,
  "nbformat_minor": 0,
  "metadata": {
    "colab": {
      "name": "Week_7_Lecture_5.ipynb",
      "provenance": [],
      "include_colab_link": true
    },
    "kernelspec": {
      "name": "python3",
      "display_name": "Python 3"
    },
    "language_info": {
      "name": "python"
    },
    "widgets": {
      "application/vnd.jupyter.widget-state+json": {
        "ce4cedbe375d43d29cacdd94c0d8544e": {
          "model_module": "@jupyter-widgets/output",
          "model_name": "OutputModel",
          "model_module_version": "1.0.0",
          "state": {
            "_dom_classes": [],
            "_model_module": "@jupyter-widgets/output",
            "_model_module_version": "1.0.0",
            "_model_name": "OutputModel",
            "_view_count": null,
            "_view_module": "@jupyter-widgets/output",
            "_view_module_version": "1.0.0",
            "_view_name": "OutputView",
            "layout": "IPY_MODEL_2f15587a5b3641f3a8f50fa3208cd58e",
            "msg_id": "",
            "outputs": [
              {
                "output_type": "stream",
                "name": "stdout",
                "text": [
                  "Video available at https://youtube.com/watch?v=q5Up_IPfYuw\n"
                ]
              },
              {
                "output_type": "display_data",
                "data": {
                  "text/plain": "<IPython.lib.display.YouTubeVideo at 0x7f8563690d90>",
                  "text/html": "\n        <iframe\n            width=\"854\"\n            height=\"480\"\n            src=\"https://www.youtube.com/embed/q5Up_IPfYuw?fs=1&rel=0\"\n            frameborder=\"0\"\n            allowfullscreen\n        ></iframe>\n        ",
                  "image/jpeg": "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\n"
                },
                "metadata": {}
              }
            ]
          }
        },
        "2f15587a5b3641f3a8f50fa3208cd58e": {
          "model_module": "@jupyter-widgets/base",
          "model_name": "LayoutModel",
          "model_module_version": "1.2.0",
          "state": {
            "_model_module": "@jupyter-widgets/base",
            "_model_module_version": "1.2.0",
            "_model_name": "LayoutModel",
            "_view_count": null,
            "_view_module": "@jupyter-widgets/base",
            "_view_module_version": "1.2.0",
            "_view_name": "LayoutView",
            "align_content": null,
            "align_items": null,
            "align_self": null,
            "border": null,
            "bottom": null,
            "display": null,
            "flex": null,
            "flex_flow": null,
            "grid_area": null,
            "grid_auto_columns": null,
            "grid_auto_flow": null,
            "grid_auto_rows": null,
            "grid_column": null,
            "grid_gap": null,
            "grid_row": null,
            "grid_template_areas": null,
            "grid_template_columns": null,
            "grid_template_rows": null,
            "height": null,
            "justify_content": null,
            "justify_items": null,
            "left": null,
            "margin": null,
            "max_height": null,
            "max_width": null,
            "min_height": null,
            "min_width": null,
            "object_fit": null,
            "object_position": null,
            "order": null,
            "overflow": null,
            "overflow_x": null,
            "overflow_y": null,
            "padding": null,
            "right": null,
            "top": null,
            "visibility": null,
            "width": null
          }
        }
      }
    }
  },
  "cells": [
    {
      "cell_type": "markdown",
      "metadata": {
        "id": "view-in-github",
        "colab_type": "text"
      },
      "source": [
        "<a href=\"https://colab.research.google.com/github/DL4CV-NPTEL/Deep-Learning-For-Computer-Vision/blob/main/notebooks/Week_7/Week_7_Lecture_5.ipynb\" target=\"_parent\"><img src=\"https://colab.research.google.com/assets/colab-badge.svg\" alt=\"Open In Colab\"/></a>"
      ]
    },
    {
      "cell_type": "markdown",
      "source": [
        "# Lecture 5: CNNs for Human Understanding: Faces -Part 01\n"
      ],
      "metadata": {
        "id": "5p8aGbdxc1Nz"
      }
    },
    {
      "cell_type": "code",
      "execution_count": 1,
      "metadata": {
        "colab": {
          "base_uri": "https://localhost:8080/",
          "height": 539,
          "referenced_widgets": [
            "ce4cedbe375d43d29cacdd94c0d8544e",
            "2f15587a5b3641f3a8f50fa3208cd58e"
          ]
        },
        "id": "W5BZQI44cxz_",
        "outputId": "cfe8d36e-32ff-48b7-feee-dfc6a4fd2095",
        "cellView": "form"
      },
      "outputs": [
        {
          "output_type": "display_data",
          "data": {
            "text/plain": [
              "Output()"
            ],
            "application/vnd.jupyter.widget-view+json": {
              "version_major": 2,
              "version_minor": 0,
              "model_id": "ce4cedbe375d43d29cacdd94c0d8544e"
            }
          },
          "metadata": {}
        }
      ],
      "source": [
        "#@title \n",
        "from ipywidgets import widgets\n",
        "out1 = widgets.Output()\n",
        "with out1:\n",
        "  from IPython.display import YouTubeVideo\n",
        "  video = YouTubeVideo(id=f\"q5Up_IPfYuw\", width=854, height=480, fs=1, rel=0)\n",
        "  print(\"Video available at https://youtube.com/watch?v=\" + video.id)\n",
        "  display(video)\n",
        "display(out1)"
      ]
    },
    {
      "cell_type": "code",
      "source": [
        "#@title \n",
        "from IPython import display as IPyDisplay\n",
        "IPyDisplay.HTML(\n",
        "    f\"\"\"\n",
        "  <div>\n",
        "    <a href= \"https://github.com/DL4CV-NPTEL/Deep-Learning-For-Computer-Vision/blob/main/Slides/Week_7/DL4CV_Week07_Part04.pdf\" target=\"_blank\">\n",
        "    <img src=\"https://github.com/DL4CV-NPTEL/Deep-Learning-For-Computer-Vision/blob/main/Data/Slides_Logo.png?raw=1\"\n",
        "  alt=\"button link to Airtable\" style=\"width:200px\"></a>\n",
        "    </div>\"\"\" )"
      ],
      "metadata": {
        "colab": {
          "base_uri": "https://localhost:8080/",
          "height": 100
        },
        "id": "bJQjZzwxdQch",
        "outputId": "36785b62-6982-423c-ddd8-b8ef4cbfeaa5",
        "cellView": "form"
      },
      "execution_count": null,
      "outputs": [
        {
          "output_type": "execute_result",
          "data": {
            "text/plain": [
              "<IPython.core.display.HTML object>"
            ],
            "text/html": [
              "\n",
              "  <div>\n",
              "    <a href= \"https://github.com/DL4CV-NPTEL/Deep-Learning-For-Computer-Vision/blob/main/Slides/Week_7/DL4CV_Week07_Part04.pdf\" target=\"_blank\">\n",
              "    <img src=\"https://github.com/DL4CV-NPTEL/Deep-Learning-For-Computer-Vision/blob/main/Data/Slides_Logo.png?raw=1\"\n",
              "  alt=\"button link to Airtable\" style=\"width:200px\"></a>\n",
              "    </div>"
            ]
          },
          "metadata": {},
          "execution_count": 50
        }
      ]
    }
  ]
}