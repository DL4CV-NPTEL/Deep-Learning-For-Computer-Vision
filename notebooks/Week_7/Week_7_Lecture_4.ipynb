{
  "nbformat": 4,
  "nbformat_minor": 0,
  "metadata": {
    "colab": {
      "name": "Week_7_Lecture_4.ipynb",
      "provenance": [],
      "include_colab_link": true
    },
    "kernelspec": {
      "name": "python3",
      "display_name": "Python 3"
    },
    "language_info": {
      "name": "python"
    },
    "widgets": {
      "application/vnd.jupyter.widget-state+json": {
        "af101444f5f7416dad01e205ea1cfaec": {
          "model_module": "@jupyter-widgets/output",
          "model_name": "OutputModel",
          "model_module_version": "1.0.0",
          "state": {
            "_dom_classes": [],
            "_model_module": "@jupyter-widgets/output",
            "_model_module_version": "1.0.0",
            "_model_name": "OutputModel",
            "_view_count": null,
            "_view_module": "@jupyter-widgets/output",
            "_view_module_version": "1.0.0",
            "_view_name": "OutputView",
            "layout": "IPY_MODEL_a418912d044f4ce4948147ce3f0372e3",
            "msg_id": "",
            "outputs": [
              {
                "output_type": "stream",
                "name": "stdout",
                "text": [
                  "Video available at https://youtube.com/watch?v=4zuAYazbCQ0\n"
                ]
              },
              {
                "output_type": "display_data",
                "data": {
                  "text/plain": "<IPython.lib.display.YouTubeVideo at 0x7f2eac4cde90>",
                  "text/html": "\n        <iframe\n            width=\"854\"\n            height=\"480\"\n            src=\"https://www.youtube.com/embed/4zuAYazbCQ0?fs=1&rel=0\"\n            frameborder=\"0\"\n            allowfullscreen\n        ></iframe>\n        ",
                  "image/jpeg": "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\n"
                },
                "metadata": {}
              }
            ]
          }
        },
        "a418912d044f4ce4948147ce3f0372e3": {
          "model_module": "@jupyter-widgets/base",
          "model_name": "LayoutModel",
          "model_module_version": "1.2.0",
          "state": {
            "_model_module": "@jupyter-widgets/base",
            "_model_module_version": "1.2.0",
            "_model_name": "LayoutModel",
            "_view_count": null,
            "_view_module": "@jupyter-widgets/base",
            "_view_module_version": "1.2.0",
            "_view_name": "LayoutView",
            "align_content": null,
            "align_items": null,
            "align_self": null,
            "border": null,
            "bottom": null,
            "display": null,
            "flex": null,
            "flex_flow": null,
            "grid_area": null,
            "grid_auto_columns": null,
            "grid_auto_flow": null,
            "grid_auto_rows": null,
            "grid_column": null,
            "grid_gap": null,
            "grid_row": null,
            "grid_template_areas": null,
            "grid_template_columns": null,
            "grid_template_rows": null,
            "height": null,
            "justify_content": null,
            "justify_items": null,
            "left": null,
            "margin": null,
            "max_height": null,
            "max_width": null,
            "min_height": null,
            "min_width": null,
            "object_fit": null,
            "object_position": null,
            "order": null,
            "overflow": null,
            "overflow_x": null,
            "overflow_y": null,
            "padding": null,
            "right": null,
            "top": null,
            "visibility": null,
            "width": null
          }
        },
        "cfe68ea966d74c888dece60d2012c707": {
          "model_module": "@jupyter-widgets/controls",
          "model_name": "HBoxModel",
          "model_module_version": "1.5.0",
          "state": {
            "_dom_classes": [],
            "_model_module": "@jupyter-widgets/controls",
            "_model_module_version": "1.5.0",
            "_model_name": "HBoxModel",
            "_view_count": null,
            "_view_module": "@jupyter-widgets/controls",
            "_view_module_version": "1.5.0",
            "_view_name": "HBoxView",
            "box_style": "",
            "children": [
              "IPY_MODEL_57d71d9e15c7476a80eedbe308108155",
              "IPY_MODEL_40180a4e7195434db2cc19ad1cad2c1f",
              "IPY_MODEL_771e06e00b664912a903d099106a9cd5"
            ],
            "layout": "IPY_MODEL_0e74f878424744f481c2e6d64531b324"
          }
        },
        "57d71d9e15c7476a80eedbe308108155": {
          "model_module": "@jupyter-widgets/controls",
          "model_name": "HTMLModel",
          "model_module_version": "1.5.0",
          "state": {
            "_dom_classes": [],
            "_model_module": "@jupyter-widgets/controls",
            "_model_module_version": "1.5.0",
            "_model_name": "HTMLModel",
            "_view_count": null,
            "_view_module": "@jupyter-widgets/controls",
            "_view_module_version": "1.5.0",
            "_view_name": "HTMLView",
            "description": "",
            "description_tooltip": null,
            "layout": "IPY_MODEL_7f9f895bf6644c24bc0783b02e38bb92",
            "placeholder": "​",
            "style": "IPY_MODEL_cfc1fa843ea34674ba635dd6e1bb9ce2",
            "value": "100%"
          }
        },
        "40180a4e7195434db2cc19ad1cad2c1f": {
          "model_module": "@jupyter-widgets/controls",
          "model_name": "FloatProgressModel",
          "model_module_version": "1.5.0",
          "state": {
            "_dom_classes": [],
            "_model_module": "@jupyter-widgets/controls",
            "_model_module_version": "1.5.0",
            "_model_name": "FloatProgressModel",
            "_view_count": null,
            "_view_module": "@jupyter-widgets/controls",
            "_view_module_version": "1.5.0",
            "_view_name": "ProgressView",
            "bar_style": "success",
            "description": "",
            "description_tooltip": null,
            "layout": "IPY_MODEL_ee9411697f664bd2ae35a0d0ccc6cf6d",
            "max": 46830571,
            "min": 0,
            "orientation": "horizontal",
            "style": "IPY_MODEL_a98808828e3b46cea9ded61322a4629f",
            "value": 46830571
          }
        },
        "771e06e00b664912a903d099106a9cd5": {
          "model_module": "@jupyter-widgets/controls",
          "model_name": "HTMLModel",
          "model_module_version": "1.5.0",
          "state": {
            "_dom_classes": [],
            "_model_module": "@jupyter-widgets/controls",
            "_model_module_version": "1.5.0",
            "_model_name": "HTMLModel",
            "_view_count": null,
            "_view_module": "@jupyter-widgets/controls",
            "_view_module_version": "1.5.0",
            "_view_name": "HTMLView",
            "description": "",
            "description_tooltip": null,
            "layout": "IPY_MODEL_31a07312c28d46bb906012fb15843087",
            "placeholder": "​",
            "style": "IPY_MODEL_74711ee23478483991305ab04079c089",
            "value": " 44.7M/44.7M [00:00&lt;00:00, 108MB/s]"
          }
        },
        "0e74f878424744f481c2e6d64531b324": {
          "model_module": "@jupyter-widgets/base",
          "model_name": "LayoutModel",
          "model_module_version": "1.2.0",
          "state": {
            "_model_module": "@jupyter-widgets/base",
            "_model_module_version": "1.2.0",
            "_model_name": "LayoutModel",
            "_view_count": null,
            "_view_module": "@jupyter-widgets/base",
            "_view_module_version": "1.2.0",
            "_view_name": "LayoutView",
            "align_content": null,
            "align_items": null,
            "align_self": null,
            "border": null,
            "bottom": null,
            "display": null,
            "flex": null,
            "flex_flow": null,
            "grid_area": null,
            "grid_auto_columns": null,
            "grid_auto_flow": null,
            "grid_auto_rows": null,
            "grid_column": null,
            "grid_gap": null,
            "grid_row": null,
            "grid_template_areas": null,
            "grid_template_columns": null,
            "grid_template_rows": null,
            "height": null,
            "justify_content": null,
            "justify_items": null,
            "left": null,
            "margin": null,
            "max_height": null,
            "max_width": null,
            "min_height": null,
            "min_width": null,
            "object_fit": null,
            "object_position": null,
            "order": null,
            "overflow": null,
            "overflow_x": null,
            "overflow_y": null,
            "padding": null,
            "right": null,
            "top": null,
            "visibility": null,
            "width": null
          }
        },
        "7f9f895bf6644c24bc0783b02e38bb92": {
          "model_module": "@jupyter-widgets/base",
          "model_name": "LayoutModel",
          "model_module_version": "1.2.0",
          "state": {
            "_model_module": "@jupyter-widgets/base",
            "_model_module_version": "1.2.0",
            "_model_name": "LayoutModel",
            "_view_count": null,
            "_view_module": "@jupyter-widgets/base",
            "_view_module_version": "1.2.0",
            "_view_name": "LayoutView",
            "align_content": null,
            "align_items": null,
            "align_self": null,
            "border": null,
            "bottom": null,
            "display": null,
            "flex": null,
            "flex_flow": null,
            "grid_area": null,
            "grid_auto_columns": null,
            "grid_auto_flow": null,
            "grid_auto_rows": null,
            "grid_column": null,
            "grid_gap": null,
            "grid_row": null,
            "grid_template_areas": null,
            "grid_template_columns": null,
            "grid_template_rows": null,
            "height": null,
            "justify_content": null,
            "justify_items": null,
            "left": null,
            "margin": null,
            "max_height": null,
            "max_width": null,
            "min_height": null,
            "min_width": null,
            "object_fit": null,
            "object_position": null,
            "order": null,
            "overflow": null,
            "overflow_x": null,
            "overflow_y": null,
            "padding": null,
            "right": null,
            "top": null,
            "visibility": null,
            "width": null
          }
        },
        "cfc1fa843ea34674ba635dd6e1bb9ce2": {
          "model_module": "@jupyter-widgets/controls",
          "model_name": "DescriptionStyleModel",
          "model_module_version": "1.5.0",
          "state": {
            "_model_module": "@jupyter-widgets/controls",
            "_model_module_version": "1.5.0",
            "_model_name": "DescriptionStyleModel",
            "_view_count": null,
            "_view_module": "@jupyter-widgets/base",
            "_view_module_version": "1.2.0",
            "_view_name": "StyleView",
            "description_width": ""
          }
        },
        "ee9411697f664bd2ae35a0d0ccc6cf6d": {
          "model_module": "@jupyter-widgets/base",
          "model_name": "LayoutModel",
          "model_module_version": "1.2.0",
          "state": {
            "_model_module": "@jupyter-widgets/base",
            "_model_module_version": "1.2.0",
            "_model_name": "LayoutModel",
            "_view_count": null,
            "_view_module": "@jupyter-widgets/base",
            "_view_module_version": "1.2.0",
            "_view_name": "LayoutView",
            "align_content": null,
            "align_items": null,
            "align_self": null,
            "border": null,
            "bottom": null,
            "display": null,
            "flex": null,
            "flex_flow": null,
            "grid_area": null,
            "grid_auto_columns": null,
            "grid_auto_flow": null,
            "grid_auto_rows": null,
            "grid_column": null,
            "grid_gap": null,
            "grid_row": null,
            "grid_template_areas": null,
            "grid_template_columns": null,
            "grid_template_rows": null,
            "height": null,
            "justify_content": null,
            "justify_items": null,
            "left": null,
            "margin": null,
            "max_height": null,
            "max_width": null,
            "min_height": null,
            "min_width": null,
            "object_fit": null,
            "object_position": null,
            "order": null,
            "overflow": null,
            "overflow_x": null,
            "overflow_y": null,
            "padding": null,
            "right": null,
            "top": null,
            "visibility": null,
            "width": null
          }
        },
        "a98808828e3b46cea9ded61322a4629f": {
          "model_module": "@jupyter-widgets/controls",
          "model_name": "ProgressStyleModel",
          "model_module_version": "1.5.0",
          "state": {
            "_model_module": "@jupyter-widgets/controls",
            "_model_module_version": "1.5.0",
            "_model_name": "ProgressStyleModel",
            "_view_count": null,
            "_view_module": "@jupyter-widgets/base",
            "_view_module_version": "1.2.0",
            "_view_name": "StyleView",
            "bar_color": null,
            "description_width": ""
          }
        },
        "31a07312c28d46bb906012fb15843087": {
          "model_module": "@jupyter-widgets/base",
          "model_name": "LayoutModel",
          "model_module_version": "1.2.0",
          "state": {
            "_model_module": "@jupyter-widgets/base",
            "_model_module_version": "1.2.0",
            "_model_name": "LayoutModel",
            "_view_count": null,
            "_view_module": "@jupyter-widgets/base",
            "_view_module_version": "1.2.0",
            "_view_name": "LayoutView",
            "align_content": null,
            "align_items": null,
            "align_self": null,
            "border": null,
            "bottom": null,
            "display": null,
            "flex": null,
            "flex_flow": null,
            "grid_area": null,
            "grid_auto_columns": null,
            "grid_auto_flow": null,
            "grid_auto_rows": null,
            "grid_column": null,
            "grid_gap": null,
            "grid_row": null,
            "grid_template_areas": null,
            "grid_template_columns": null,
            "grid_template_rows": null,
            "height": null,
            "justify_content": null,
            "justify_items": null,
            "left": null,
            "margin": null,
            "max_height": null,
            "max_width": null,
            "min_height": null,
            "min_width": null,
            "object_fit": null,
            "object_position": null,
            "order": null,
            "overflow": null,
            "overflow_x": null,
            "overflow_y": null,
            "padding": null,
            "right": null,
            "top": null,
            "visibility": null,
            "width": null
          }
        },
        "74711ee23478483991305ab04079c089": {
          "model_module": "@jupyter-widgets/controls",
          "model_name": "DescriptionStyleModel",
          "model_module_version": "1.5.0",
          "state": {
            "_model_module": "@jupyter-widgets/controls",
            "_model_module_version": "1.5.0",
            "_model_name": "DescriptionStyleModel",
            "_view_count": null,
            "_view_module": "@jupyter-widgets/base",
            "_view_module_version": "1.2.0",
            "_view_name": "StyleView",
            "description_width": ""
          }
        }
      }
    },
    "accelerator": "GPU",
    "gpuClass": "standard"
  },
  "cells": [
    {
      "cell_type": "markdown",
      "metadata": {
        "id": "view-in-github",
        "colab_type": "text"
      },
      "source": [
        "<a href=\"https://colab.research.google.com/github/DL4CV-NPTEL/Deep-Learning-For-Computer-Vision/blob/main/notebooks/Week_7/Week_7_Lecture_4.ipynb\" target=\"_parent\"><img src=\"https://colab.research.google.com/assets/colab-badge.svg\" alt=\"Open In Colab\"/></a>"
      ]
    },
    {
      "cell_type": "markdown",
      "source": [
        "# Lecture 4: CNNs for Segmentation <sup><mark style=\"background-color:gold\">Code</mark> </sup>\n"
      ],
      "metadata": {
        "id": "5p8aGbdxc1Nz"
      }
    },
    {
      "cell_type": "code",
      "execution_count": null,
      "metadata": {
        "colab": {
          "base_uri": "https://localhost:8080/",
          "height": 539,
          "referenced_widgets": [
            "af101444f5f7416dad01e205ea1cfaec",
            "a418912d044f4ce4948147ce3f0372e3"
          ]
        },
        "id": "W5BZQI44cxz_",
        "outputId": "c50faca8-ca30-46fe-e31b-215a32a797ea",
        "cellView": "form"
      },
      "outputs": [
        {
          "output_type": "display_data",
          "data": {
            "text/plain": [
              "Output()"
            ],
            "application/vnd.jupyter.widget-view+json": {
              "version_major": 2,
              "version_minor": 0,
              "model_id": "af101444f5f7416dad01e205ea1cfaec"
            }
          },
          "metadata": {}
        }
      ],
      "source": [
        "#@title \n",
        "from ipywidgets import widgets\n",
        "out1 = widgets.Output()\n",
        "with out1:\n",
        "  from IPython.display import YouTubeVideo\n",
        "  video = YouTubeVideo(id=f\"4zuAYazbCQ0\", width=854, height=480, fs=1, rel=0)\n",
        "  print(\"Video available at https://youtube.com/watch?v=\" + video.id)\n",
        "  display(video)\n",
        "display(out1)"
      ]
    },
    {
      "cell_type": "code",
      "source": [
        "#@title \n",
        "from IPython import display as IPyDisplay\n",
        "IPyDisplay.HTML(\n",
        "    f\"\"\"\n",
        "  <div>\n",
        "    <a href= \"https://github.com/DL4CV-NPTEL/Deep-Learning-For-Computer-Vision/blob/main/Slides/Week_7/DL4CV_Week07_Part03.pdf\" target=\"_blank\">\n",
        "    <img src=\"https://github.com/DL4CV-NPTEL/Deep-Learning-For-Computer-Vision/blob/main/Data/Slides_Logo.png?raw=1\"\n",
        "  alt=\"button link to Airtable\" style=\"width:200px\"></a>\n",
        "    </div>\"\"\" )"
      ],
      "metadata": {
        "colab": {
          "base_uri": "https://localhost:8080/",
          "height": 100
        },
        "id": "bJQjZzwxdQch",
        "outputId": "f7ea4d5e-59bb-4651-fc09-d449fff93acd",
        "cellView": "form"
      },
      "execution_count": null,
      "outputs": [
        {
          "output_type": "execute_result",
          "data": {
            "text/plain": [
              "<IPython.core.display.HTML object>"
            ],
            "text/html": [
              "\n",
              "  <div>\n",
              "    <a href= \"https://github.com/DL4CV-NPTEL/Deep-Learning-For-Computer-Vision/blob/main/Slides/Week_7/DL4CV_Week07_Part03.pdf\" target=\"_blank\">\n",
              "    <img src=\"https://github.com/DL4CV-NPTEL/Deep-Learning-For-Computer-Vision/blob/main/Data/Slides_Logo.png?raw=1\"\n",
              "  alt=\"button link to Airtable\" style=\"width:200px\"></a>\n",
              "    </div>"
            ]
          },
          "metadata": {},
          "execution_count": 48
        }
      ]
    },
    {
      "cell_type": "markdown",
      "metadata": {
        "id": "N90-BlegJZfs"
      },
      "source": [
        "## Enabling GPU on Colab\n",
        "\n",
        "Need to enable GPU from Notebook settings\n",
        "\n",
        "- Navigate to Edit-Notebook settings menu\n",
        "- Select GPU from the Hardware Accelerator dropdown list\n"
      ]
    },
    {
      "cell_type": "code",
      "metadata": {
        "id": "HCitpQdkJNdI",
        "colab": {
          "base_uri": "https://localhost:8080/"
        },
        "outputId": "668690b8-ed52-470f-980e-2647131de836"
      },
      "source": [
        "import torch\n",
        "\n",
        "if not torch.cuda.is_available():\n",
        "  raise Exception(\"GPU not availalbe. CPU training will be too slow.\")\n",
        "\n",
        "print(\"device name\", torch.cuda.get_device_name(0))"
      ],
      "execution_count": 1,
      "outputs": [
        {
          "output_type": "stream",
          "name": "stdout",
          "text": [
            "device name Tesla T4\n"
          ]
        }
      ]
    },
    {
      "cell_type": "markdown",
      "source": [
        "## Helper functions"
      ],
      "metadata": {
        "id": "QltS0DlXrMLy"
      }
    },
    {
      "cell_type": "code",
      "source": [
        "import matplotlib.pyplot as plt\n",
        "import numpy as np\n",
        "\n",
        "def plot_img_array(img_array, ncol=3):\n",
        "    nrow = len(img_array) // ncol\n",
        "\n",
        "    f, plots = plt.subplots(nrow, ncol, sharex='all', sharey='all', figsize=(ncol * 4, nrow * 4))\n",
        "\n",
        "    for i in range(len(img_array)):\n",
        "        plots[i // ncol, i % ncol]\n",
        "        plots[i // ncol, i % ncol].imshow(img_array[i])\n",
        "\n",
        "from functools import reduce\n",
        "def plot_side_by_side(img_arrays):\n",
        "    flatten_list = reduce(lambda x,y: x+y, zip(*img_arrays))\n",
        "\n",
        "    plot_img_array(np.array(flatten_list), ncol=len(img_arrays))\n",
        "\n",
        "import itertools\n",
        "def plot_errors(results_dict, title):\n",
        "    markers = itertools.cycle(('+', 'x', 'o'))\n",
        "\n",
        "    plt.title('{}'.format(title))\n",
        "\n",
        "    for label, result in sorted(results_dict.items()):\n",
        "        plt.plot(result, marker=next(markers), label=label)\n",
        "        plt.ylabel('dice_coef')\n",
        "        plt.xlabel('epoch')\n",
        "        plt.legend(loc=3, bbox_to_anchor=(1, 0))\n",
        "\n",
        "    plt.show()\n",
        "\n",
        "def masks_to_colorimg(masks):\n",
        "    colors = np.asarray([(201, 58, 64), (242, 207, 1), (0, 152, 75), (101, 172, 228),(56, 34, 132), (160, 194, 56)])\n",
        "\n",
        "    colorimg = np.ones((masks.shape[1], masks.shape[2], 3), dtype=np.float32) * 255\n",
        "    channels, height, width = masks.shape\n",
        "\n",
        "    for y in range(height):\n",
        "        for x in range(width):\n",
        "            selected_colors = colors[masks[:,y,x] > 0.5]\n",
        "\n",
        "            if len(selected_colors) > 0:\n",
        "                colorimg[y,x,:] = np.mean(selected_colors, axis=0)\n",
        "\n",
        "    return colorimg.astype(np.uint8)"
      ],
      "metadata": {
        "id": "2xSj29dKrGT9"
      },
      "execution_count": 8,
      "outputs": []
    },
    {
      "cell_type": "markdown",
      "source": [
        "## Simulate data"
      ],
      "metadata": {
        "id": "mu43cw8ErE2O"
      }
    },
    {
      "cell_type": "code",
      "source": [
        "import numpy as np\n",
        "import random\n",
        "\n",
        "def generate_random_data(height, width, count):\n",
        "    x, y = zip(*[generate_img_and_mask(height, width) for i in range(0, count)])\n",
        "\n",
        "    X = np.asarray(x) * 255\n",
        "    X = X.repeat(3, axis=1).transpose([0, 2, 3, 1]).astype(np.uint8)\n",
        "    Y = np.asarray(y)\n",
        "\n",
        "    return X, Y\n",
        "\n",
        "def generate_img_and_mask(height, width):\n",
        "    shape = (height, width)\n",
        "\n",
        "    triangle_location = get_random_location(*shape)\n",
        "    circle_location1 = get_random_location(*shape, zoom=0.7)\n",
        "    circle_location2 = get_random_location(*shape, zoom=0.5)\n",
        "    mesh_location = get_random_location(*shape)\n",
        "    square_location = get_random_location(*shape, zoom=0.8)\n",
        "    plus_location = get_random_location(*shape, zoom=1.2)\n",
        "\n",
        "    # Create input image\n",
        "    arr = np.zeros(shape, dtype=bool)\n",
        "    arr = add_triangle(arr, *triangle_location)\n",
        "    arr = add_circle(arr, *circle_location1)\n",
        "    arr = add_circle(arr, *circle_location2, fill=True)\n",
        "    arr = add_mesh_square(arr, *mesh_location)\n",
        "    arr = add_filled_square(arr, *square_location)\n",
        "    arr = add_plus(arr, *plus_location)\n",
        "    arr = np.reshape(arr, (1, height, width)).astype(np.float32)\n",
        "\n",
        "    # Create target masks\n",
        "    masks = np.asarray([\n",
        "        add_filled_square(np.zeros(shape, dtype=bool), *square_location),\n",
        "        add_circle(np.zeros(shape, dtype=bool), *circle_location2, fill=True),\n",
        "        add_triangle(np.zeros(shape, dtype=bool), *triangle_location),\n",
        "        add_circle(np.zeros(shape, dtype=bool), *circle_location1),\n",
        "         add_filled_square(np.zeros(shape, dtype=bool), *mesh_location),\n",
        "        # add_mesh_square(np.zeros(shape, dtype=bool), *mesh_location),\n",
        "        add_plus(np.zeros(shape, dtype=bool), *plus_location)\n",
        "    ]).astype(np.float32)\n",
        "\n",
        "    return arr, masks\n",
        "\n",
        "def add_square(arr, x, y, size):\n",
        "    s = int(size / 2)\n",
        "    arr[x-s,y-s:y+s] = True\n",
        "    arr[x+s,y-s:y+s] = True\n",
        "    arr[x-s:x+s,y-s] = True\n",
        "    arr[x-s:x+s,y+s] = True\n",
        "\n",
        "    return arr\n",
        "\n",
        "def add_filled_square(arr, x, y, size):\n",
        "    s = int(size / 2)\n",
        "\n",
        "    xx, yy = np.mgrid[:arr.shape[0], :arr.shape[1]]\n",
        "\n",
        "    return np.logical_or(arr, logical_and([xx > x - s, xx < x + s, yy > y - s, yy < y + s]))\n",
        "\n",
        "def logical_and(arrays):\n",
        "    new_array = np.ones(arrays[0].shape, dtype=bool)\n",
        "    for a in arrays:\n",
        "        new_array = np.logical_and(new_array, a)\n",
        "\n",
        "    return new_array\n",
        "\n",
        "def add_mesh_square(arr, x, y, size):\n",
        "    s = int(size / 2)\n",
        "\n",
        "    xx, yy = np.mgrid[:arr.shape[0], :arr.shape[1]]\n",
        "\n",
        "    return np.logical_or(arr, logical_and([xx > x - s, xx < x + s, xx % 2 == 1, yy > y - s, yy < y + s, yy % 2 == 1]))\n",
        "\n",
        "def add_triangle(arr, x, y, size):\n",
        "    s = int(size / 2)\n",
        "\n",
        "    triangle = np.tril(np.ones((size, size), dtype=bool))\n",
        "\n",
        "    arr[x-s:x-s+triangle.shape[0],y-s:y-s+triangle.shape[1]] = triangle\n",
        "\n",
        "    return arr\n",
        "\n",
        "def add_circle(arr, x, y, size, fill=False):\n",
        "    xx, yy = np.mgrid[:arr.shape[0], :arr.shape[1]]\n",
        "    circle = np.sqrt((xx - x) ** 2 + (yy - y) ** 2)\n",
        "    new_arr = np.logical_or(arr, np.logical_and(circle < size, circle >= size * 0.7 if not fill else True))\n",
        "\n",
        "    return new_arr\n",
        "\n",
        "def add_plus(arr, x, y, size):\n",
        "    s = int(size / 2)\n",
        "    arr[x-1:x+1,y-s:y+s] = True\n",
        "    arr[x-s:x+s,y-1:y+1] = True\n",
        "\n",
        "    return arr\n",
        "\n",
        "def get_random_location(width, height, zoom=1.0):\n",
        "    x = int(width * random.uniform(0.1, 0.9))\n",
        "    y = int(height * random.uniform(0.1, 0.9))\n",
        "\n",
        "    size = int(min(width, height) * random.uniform(0.06, 0.12) * zoom)\n",
        "\n",
        "    return (x, y, size)"
      ],
      "metadata": {
        "id": "fSCsjUeTq5TP"
      },
      "execution_count": 9,
      "outputs": []
    },
    {
      "cell_type": "markdown",
      "metadata": {
        "id": "v8nZ6_mKMsJs"
      },
      "source": [
        "## Synthetic images for demo training"
      ]
    },
    {
      "cell_type": "code",
      "metadata": {
        "id": "6qt0VHVZ_53z",
        "colab": {
          "base_uri": "https://localhost:8080/"
        },
        "outputId": "d6fdb253-1b5a-40a0-e755-6dc96b7d6a10"
      },
      "source": [
        "import matplotlib.pyplot as plt\n",
        "import numpy as np\n",
        "\n",
        "\n",
        "# Generate some random images\n",
        "input_images, target_masks = generate_random_data(192, 192, count=3)\n",
        "\n",
        "print(\"input_images shape and range\", input_images.shape, input_images.min(), input_images.max())\n",
        "print(\"target_masks shape and range\", target_masks.shape, target_masks.min(), target_masks.max())\n",
        "\n",
        "# Change channel-order and make 3 channels for matplot\n",
        "input_images_rgb = [x.astype(np.uint8) for x in input_images]\n",
        "\n",
        "# Map each channel (i.e. class) to each color\n",
        "target_masks_rgb = [masks_to_colorimg(x) for x in target_masks]"
      ],
      "execution_count": 10,
      "outputs": [
        {
          "output_type": "stream",
          "name": "stdout",
          "text": [
            "input_images shape and range (3, 192, 192, 3) 0 255\n",
            "target_masks shape and range (3, 6, 192, 192) 0.0 1.0\n"
          ]
        }
      ]
    },
    {
      "cell_type": "markdown",
      "metadata": {
        "id": "t16ni593BSUE"
      },
      "source": [
        "## Left: Input image (black and white), Right: Target mask (6ch)"
      ]
    },
    {
      "cell_type": "code",
      "metadata": {
        "id": "Dzjh6C1HBTCb",
        "colab": {
          "base_uri": "https://localhost:8080/",
          "height": 704
        },
        "outputId": "18f753dc-9b5f-4fa4-8e1d-4f408cdc5a37"
      },
      "source": [
        "plot_side_by_side([input_images_rgb, target_masks_rgb])"
      ],
      "execution_count": 12,
      "outputs": [
        {
          "output_type": "display_data",
          "data": {
            "text/plain": [
              "<Figure size 576x864 with 6 Axes>"
            ],
            "image/png": "[encoded data removed]"
          },
          "metadata": {
            "needs_background": "light"
          }
        }
      ]
    },
    {
      "cell_type": "markdown",
      "metadata": {
        "id": "Qg2FqLRGBEJT"
      },
      "source": [
        "## Prepare Dataset and DataLoader"
      ]
    },
    {
      "cell_type": "code",
      "metadata": {
        "id": "_-UTr03eAROb"
      },
      "source": [
        "from torch.utils.data import Dataset, DataLoader\n",
        "from torchvision import transforms, datasets, models\n",
        "\n",
        "class SimDataset(Dataset):\n",
        "  def __init__(self, count, transform=None):\n",
        "    self.input_images, self.target_masks = generate_random_data(192, 192, count=count)\n",
        "    self.transform = transform\n",
        "\n",
        "  def __len__(self):\n",
        "    return len(self.input_images)\n",
        "\n",
        "  def __getitem__(self, idx):\n",
        "    image = self.input_images[idx]\n",
        "    mask = self.target_masks[idx]\n",
        "    if self.transform:\n",
        "      image = self.transform(image)\n",
        "\n",
        "    return [image, mask]\n",
        "\n",
        "# use the same transformations for train/val in this example\n",
        "trans = transforms.Compose([\n",
        "  transforms.ToTensor(),\n",
        "  transforms.Normalize([0.485, 0.456, 0.406], [0.229, 0.224, 0.225]) # imagenet\n",
        "])\n",
        "\n",
        "train_set = SimDataset(2000, transform = trans)\n",
        "val_set = SimDataset(200, transform = trans)\n",
        "\n",
        "image_datasets = {\n",
        "  'train': train_set, 'val': val_set\n",
        "}\n",
        "\n",
        "batch_size = 25\n",
        "\n",
        "dataloaders = {\n",
        "  'train': DataLoader(train_set, batch_size=batch_size, shuffle=True, num_workers=0),\n",
        "  'val': DataLoader(val_set, batch_size=batch_size, shuffle=True, num_workers=0)\n",
        "}"
      ],
      "execution_count": 14,
      "outputs": []
    },
    {
      "cell_type": "markdown",
      "metadata": {
        "id": "BtkJTyxGB-XB"
      },
      "source": [
        "## Check the outputs from DataLoader"
      ]
    },
    {
      "cell_type": "code",
      "metadata": {
        "id": "CRIOwoQvBKPm",
        "colab": {
          "base_uri": "https://localhost:8080/",
          "height": 304
        },
        "outputId": "5764f943-f0ad-486a-9670-8d58549610f9"
      },
      "source": [
        "import torchvision.utils\n",
        "\n",
        "def reverse_transform(inp):\n",
        "  inp = inp.numpy().transpose((1, 2, 0))\n",
        "  mean = np.array([0.485, 0.456, 0.406])\n",
        "  std = np.array([0.229, 0.224, 0.225])\n",
        "  inp = std * inp + mean\n",
        "  inp = np.clip(inp, 0, 1)\n",
        "  inp = (inp * 255).astype(np.uint8)\n",
        "\n",
        "  return inp\n",
        "\n",
        "# Get a batch of training data\n",
        "inputs, masks = next(iter(dataloaders['train']))\n",
        "\n",
        "print(inputs.shape, masks.shape)\n",
        "\n",
        "plt.imshow(reverse_transform(inputs[3]))"
      ],
      "execution_count": 15,
      "outputs": [
        {
          "output_type": "stream",
          "name": "stdout",
          "text": [
            "torch.Size([25, 3, 192, 192]) torch.Size([25, 6, 192, 192])\n"
          ]
        },
        {
          "output_type": "execute_result",
          "data": {
            "text/plain": [
              "<matplotlib.image.AxesImage at 0x7f6746d9fb50>"
            ]
          },
          "metadata": {},
          "execution_count": 15
        },
        {
          "output_type": "display_data",
          "data": {
            "text/plain": [
              "<Figure size 432x288 with 1 Axes>"
            ],
            "image/png": "[encoded data removed]"
          },
          "metadata": {
            "needs_background": "light"
          }
        }
      ]
    },
    {
      "cell_type": "markdown",
      "metadata": {
        "id": "E7XRZIKtCN8E"
      },
      "source": [
        "## Define a UNet module"
      ]
    },
    {
      "cell_type": "code",
      "metadata": {
        "id": "b8EJl0hcC5DH"
      },
      "source": [
        "import torch.nn as nn\n",
        "import torchvision.models\n",
        "\n",
        "\n",
        "def convrelu(in_channels, out_channels, kernel, padding):\n",
        "  return nn.Sequential(\n",
        "    nn.Conv2d(in_channels, out_channels, kernel, padding=padding),\n",
        "    nn.ReLU(inplace=True),\n",
        "  )\n",
        "\n",
        "\n",
        "class ResNetUNet(nn.Module):\n",
        "  def __init__(self, n_class):\n",
        "    super().__init__()\n",
        "\n",
        "    self.base_model = torchvision.models.resnet18(pretrained=True)\n",
        "    self.base_layers = list(self.base_model.children())\n",
        "\n",
        "    self.layer0 = nn.Sequential(*self.base_layers[:3]) # size=(N, 64, x.H/2, x.W/2)\n",
        "    self.layer0_1x1 = convrelu(64, 64, 1, 0)\n",
        "    self.layer1 = nn.Sequential(*self.base_layers[3:5]) # size=(N, 64, x.H/4, x.W/4)\n",
        "    self.layer1_1x1 = convrelu(64, 64, 1, 0)\n",
        "    self.layer2 = self.base_layers[5]  # size=(N, 128, x.H/8, x.W/8)\n",
        "    self.layer2_1x1 = convrelu(128, 128, 1, 0)\n",
        "    self.layer3 = self.base_layers[6]  # size=(N, 256, x.H/16, x.W/16)\n",
        "    self.layer3_1x1 = convrelu(256, 256, 1, 0)\n",
        "    self.layer4 = self.base_layers[7]  # size=(N, 512, x.H/32, x.W/32)\n",
        "    self.layer4_1x1 = convrelu(512, 512, 1, 0)\n",
        "\n",
        "    self.upsample = nn.Upsample(scale_factor=2, mode='bilinear', align_corners=True)\n",
        "\n",
        "    self.conv_up3 = convrelu(256 + 512, 512, 3, 1)\n",
        "    self.conv_up2 = convrelu(128 + 512, 256, 3, 1)\n",
        "    self.conv_up1 = convrelu(64 + 256, 256, 3, 1)\n",
        "    self.conv_up0 = convrelu(64 + 256, 128, 3, 1)\n",
        "\n",
        "    self.conv_original_size0 = convrelu(3, 64, 3, 1)\n",
        "    self.conv_original_size1 = convrelu(64, 64, 3, 1)\n",
        "    self.conv_original_size2 = convrelu(64 + 128, 64, 3, 1)\n",
        "\n",
        "    self.conv_last = nn.Conv2d(64, n_class, 1)\n",
        "\n",
        "  def forward(self, input):\n",
        "    x_original = self.conv_original_size0(input)\n",
        "    x_original = self.conv_original_size1(x_original)\n",
        "\n",
        "    layer0 = self.layer0(input)\n",
        "    layer1 = self.layer1(layer0)\n",
        "    layer2 = self.layer2(layer1)\n",
        "    layer3 = self.layer3(layer2)\n",
        "    layer4 = self.layer4(layer3)\n",
        "\n",
        "    layer4 = self.layer4_1x1(layer4)\n",
        "    x = self.upsample(layer4)\n",
        "    layer3 = self.layer3_1x1(layer3)\n",
        "    x = torch.cat([x, layer3], dim=1)\n",
        "    x = self.conv_up3(x)\n",
        "\n",
        "    x = self.upsample(x)\n",
        "    layer2 = self.layer2_1x1(layer2)\n",
        "    x = torch.cat([x, layer2], dim=1)\n",
        "    x = self.conv_up2(x)\n",
        "\n",
        "    x = self.upsample(x)\n",
        "    layer1 = self.layer1_1x1(layer1)\n",
        "    x = torch.cat([x, layer1], dim=1)\n",
        "    x = self.conv_up1(x)\n",
        "\n",
        "    x = self.upsample(x)\n",
        "    layer0 = self.layer0_1x1(layer0)\n",
        "    x = torch.cat([x, layer0], dim=1)\n",
        "    x = self.conv_up0(x)\n",
        "\n",
        "    x = self.upsample(x)\n",
        "    x = torch.cat([x, x_original], dim=1)\n",
        "    x = self.conv_original_size2(x)\n",
        "\n",
        "    out = self.conv_last(x)\n",
        "\n",
        "    return out"
      ],
      "execution_count": 16,
      "outputs": []
    },
    {
      "cell_type": "markdown",
      "metadata": {
        "id": "gJ65Br1oDCOX"
      },
      "source": [
        "## Instantiate the UNet model\n",
        "\n",
        "- Move the model to GPU if available\n",
        "- Show model summaries"
      ]
    },
    {
      "cell_type": "code",
      "metadata": {
        "id": "bY0Vk2VDCAiz",
        "colab": {
          "base_uri": "https://localhost:8080/",
          "height": 173,
          "referenced_widgets": [
            "cfe68ea966d74c888dece60d2012c707",
            "57d71d9e15c7476a80eedbe308108155",
            "40180a4e7195434db2cc19ad1cad2c1f",
            "771e06e00b664912a903d099106a9cd5",
            "0e74f878424744f481c2e6d64531b324",
            "7f9f895bf6644c24bc0783b02e38bb92",
            "cfc1fa843ea34674ba635dd6e1bb9ce2",
            "ee9411697f664bd2ae35a0d0ccc6cf6d",
            "a98808828e3b46cea9ded61322a4629f",
            "31a07312c28d46bb906012fb15843087",
            "74711ee23478483991305ab04079c089"
          ]
        },
        "outputId": "479f29f4-4f98-4f3c-9afb-36d7b4521053"
      },
      "source": [
        "import torch\n",
        "import torch.nn as nn\n",
        "\n",
        "\n",
        "device = torch.device('cuda' if torch.cuda.is_available() else 'cpu')\n",
        "print('device', device)\n",
        "\n",
        "model = ResNetUNet(6)\n",
        "model = model.to(device)"
      ],
      "execution_count": 18,
      "outputs": [
        {
          "output_type": "stream",
          "name": "stdout",
          "text": [
            "device cuda\n"
          ]
        },
        {
          "output_type": "stream",
          "name": "stderr",
          "text": [
            "/usr/local/lib/python3.7/dist-packages/torchvision/models/_utils.py:209: UserWarning: The parameter 'pretrained' is deprecated since 0.13 and will be removed in 0.15, please use 'weights' instead.\n",
            "  f\"The parameter '{pretrained_param}' is deprecated since 0.13 and will be removed in 0.15, \"\n",
            "/usr/local/lib/python3.7/dist-packages/torchvision/models/_utils.py:223: UserWarning: Arguments other than a weight enum or `None` for 'weights' are deprecated since 0.13 and will be removed in 0.15. The current behavior is equivalent to passing `weights=ResNet18_Weights.IMAGENET1K_V1`. You can also use `weights=ResNet18_Weights.DEFAULT` to get the most up-to-date weights.\n",
            "  warnings.warn(msg)\n",
            "Downloading: \"https://download.pytorch.org/models/resnet18-f37072fd.pth\" to /root/.cache/torch/hub/checkpoints/resnet18-f37072fd.pth\n"
          ]
        },
        {
          "output_type": "display_data",
          "data": {
            "text/plain": [
              "  0%|          | 0.00/44.7M [00:00<?, ?B/s]"
            ],
            "application/vnd.jupyter.widget-view+json": {
              "version_major": 2,
              "version_minor": 0,
              "model_id": "cfe68ea966d74c888dece60d2012c707"
            }
          },
          "metadata": {}
        }
      ]
    },
    {
      "cell_type": "code",
      "metadata": {
        "id": "RaZdFgOnGA_p",
        "colab": {
          "base_uri": "https://localhost:8080/"
        },
        "outputId": "b5b3a528-b711-471f-9341-ee8bdf85edcb"
      },
      "source": [
        "model"
      ],
      "execution_count": 19,
      "outputs": [
        {
          "output_type": "execute_result",
          "data": {
            "text/plain": [
              "ResNetUNet(\n",
              "  (base_model): ResNet(\n",
              "    (conv1): Conv2d(3, 64, kernel_size=(7, 7), stride=(2, 2), padding=(3, 3), bias=False)\n",
              "    (bn1): BatchNorm2d(64, eps=1e-05, momentum=0.1, affine=True, track_running_stats=True)\n",
              "    (relu): ReLU(inplace=True)\n",
              "    (maxpool): MaxPool2d(kernel_size=3, stride=2, padding=1, dilation=1, ceil_mode=False)\n",
              "    (layer1): Sequential(\n",
              "      (0): BasicBlock(\n",
              "        (conv1): Conv2d(64, 64, kernel_size=(3, 3), stride=(1, 1), padding=(1, 1), bias=False)\n",
              "        (bn1): BatchNorm2d(64, eps=1e-05, momentum=0.1, affine=True, track_running_stats=True)\n",
              "        (relu): ReLU(inplace=True)\n",
              "        (conv2): Conv2d(64, 64, kernel_size=(3, 3), stride=(1, 1), padding=(1, 1), bias=False)\n",
              "        (bn2): BatchNorm2d(64, eps=1e-05, momentum=0.1, affine=True, track_running_stats=True)\n",
              "      )\n",
              "      (1): BasicBlock(\n",
              "        (conv1): Conv2d(64, 64, kernel_size=(3, 3), stride=(1, 1), padding=(1, 1), bias=False)\n",
              "        (bn1): BatchNorm2d(64, eps=1e-05, momentum=0.1, affine=True, track_running_stats=True)\n",
              "        (relu): ReLU(inplace=True)\n",
              "        (conv2): Conv2d(64, 64, kernel_size=(3, 3), stride=(1, 1), padding=(1, 1), bias=False)\n",
              "        (bn2): BatchNorm2d(64, eps=1e-05, momentum=0.1, affine=True, track_running_stats=True)\n",
              "      )\n",
              "    )\n",
              "    (layer2): Sequential(\n",
              "      (0): BasicBlock(\n",
              "        (conv1): Conv2d(64, 128, kernel_size=(3, 3), stride=(2, 2), padding=(1, 1), bias=False)\n",
              "        (bn1): BatchNorm2d(128, eps=1e-05, momentum=0.1, affine=True, track_running_stats=True)\n",
              "        (relu): ReLU(inplace=True)\n",
              "        (conv2): Conv2d(128, 128, kernel_size=(3, 3), stride=(1, 1), padding=(1, 1), bias=False)\n",
              "        (bn2): BatchNorm2d(128, eps=1e-05, momentum=0.1, affine=True, track_running_stats=True)\n",
              "        (downsample): Sequential(\n",
              "          (0): Conv2d(64, 128, kernel_size=(1, 1), stride=(2, 2), bias=False)\n",
              "          (1): BatchNorm2d(128, eps=1e-05, momentum=0.1, affine=True, track_running_stats=True)\n",
              "        )\n",
              "      )\n",
              "      (1): BasicBlock(\n",
              "        (conv1): Conv2d(128, 128, kernel_size=(3, 3), stride=(1, 1), padding=(1, 1), bias=False)\n",
              "        (bn1): BatchNorm2d(128, eps=1e-05, momentum=0.1, affine=True, track_running_stats=True)\n",
              "        (relu): ReLU(inplace=True)\n",
              "        (conv2): Conv2d(128, 128, kernel_size=(3, 3), stride=(1, 1), padding=(1, 1), bias=False)\n",
              "        (bn2): BatchNorm2d(128, eps=1e-05, momentum=0.1, affine=True, track_running_stats=True)\n",
              "      )\n",
              "    )\n",
              "    (layer3): Sequential(\n",
              "      (0): BasicBlock(\n",
              "        (conv1): Conv2d(128, 256, kernel_size=(3, 3), stride=(2, 2), padding=(1, 1), bias=False)\n",
              "        (bn1): BatchNorm2d(256, eps=1e-05, momentum=0.1, affine=True, track_running_stats=True)\n",
              "        (relu): ReLU(inplace=True)\n",
              "        (conv2): Conv2d(256, 256, kernel_size=(3, 3), stride=(1, 1), padding=(1, 1), bias=False)\n",
              "        (bn2): BatchNorm2d(256, eps=1e-05, momentum=0.1, affine=True, track_running_stats=True)\n",
              "        (downsample): Sequential(\n",
              "          (0): Conv2d(128, 256, kernel_size=(1, 1), stride=(2, 2), bias=False)\n",
              "          (1): BatchNorm2d(256, eps=1e-05, momentum=0.1, affine=True, track_running_stats=True)\n",
              "        )\n",
              "      )\n",
              "      (1): BasicBlock(\n",
              "        (conv1): Conv2d(256, 256, kernel_size=(3, 3), stride=(1, 1), padding=(1, 1), bias=False)\n",
              "        (bn1): BatchNorm2d(256, eps=1e-05, momentum=0.1, affine=True, track_running_stats=True)\n",
              "        (relu): ReLU(inplace=True)\n",
              "        (conv2): Conv2d(256, 256, kernel_size=(3, 3), stride=(1, 1), padding=(1, 1), bias=False)\n",
              "        (bn2): BatchNorm2d(256, eps=1e-05, momentum=0.1, affine=True, track_running_stats=True)\n",
              "      )\n",
              "    )\n",
              "    (layer4): Sequential(\n",
              "      (0): BasicBlock(\n",
              "        (conv1): Conv2d(256, 512, kernel_size=(3, 3), stride=(2, 2), padding=(1, 1), bias=False)\n",
              "        (bn1): BatchNorm2d(512, eps=1e-05, momentum=0.1, affine=True, track_running_stats=True)\n",
              "        (relu): ReLU(inplace=True)\n",
              "        (conv2): Conv2d(512, 512, kernel_size=(3, 3), stride=(1, 1), padding=(1, 1), bias=False)\n",
              "        (bn2): BatchNorm2d(512, eps=1e-05, momentum=0.1, affine=True, track_running_stats=True)\n",
              "        (downsample): Sequential(\n",
              "          (0): Conv2d(256, 512, kernel_size=(1, 1), stride=(2, 2), bias=False)\n",
              "          (1): BatchNorm2d(512, eps=1e-05, momentum=0.1, affine=True, track_running_stats=True)\n",
              "        )\n",
              "      )\n",
              "      (1): BasicBlock(\n",
              "        (conv1): Conv2d(512, 512, kernel_size=(3, 3), stride=(1, 1), padding=(1, 1), bias=False)\n",
              "        (bn1): BatchNorm2d(512, eps=1e-05, momentum=0.1, affine=True, track_running_stats=True)\n",
              "        (relu): ReLU(inplace=True)\n",
              "        (conv2): Conv2d(512, 512, kernel_size=(3, 3), stride=(1, 1), padding=(1, 1), bias=False)\n",
              "        (bn2): BatchNorm2d(512, eps=1e-05, momentum=0.1, affine=True, track_running_stats=True)\n",
              "      )\n",
              "    )\n",
              "    (avgpool): AdaptiveAvgPool2d(output_size=(1, 1))\n",
              "    (fc): Linear(in_features=512, out_features=1000, bias=True)\n",
              "  )\n",
              "  (layer0): Sequential(\n",
              "    (0): Conv2d(3, 64, kernel_size=(7, 7), stride=(2, 2), padding=(3, 3), bias=False)\n",
              "    (1): BatchNorm2d(64, eps=1e-05, momentum=0.1, affine=True, track_running_stats=True)\n",
              "    (2): ReLU(inplace=True)\n",
              "  )\n",
              "  (layer0_1x1): Sequential(\n",
              "    (0): Conv2d(64, 64, kernel_size=(1, 1), stride=(1, 1))\n",
              "    (1): ReLU(inplace=True)\n",
              "  )\n",
              "  (layer1): Sequential(\n",
              "    (0): MaxPool2d(kernel_size=3, stride=2, padding=1, dilation=1, ceil_mode=False)\n",
              "    (1): Sequential(\n",
              "      (0): BasicBlock(\n",
              "        (conv1): Conv2d(64, 64, kernel_size=(3, 3), stride=(1, 1), padding=(1, 1), bias=False)\n",
              "        (bn1): BatchNorm2d(64, eps=1e-05, momentum=0.1, affine=True, track_running_stats=True)\n",
              "        (relu): ReLU(inplace=True)\n",
              "        (conv2): Conv2d(64, 64, kernel_size=(3, 3), stride=(1, 1), padding=(1, 1), bias=False)\n",
              "        (bn2): BatchNorm2d(64, eps=1e-05, momentum=0.1, affine=True, track_running_stats=True)\n",
              "      )\n",
              "      (1): BasicBlock(\n",
              "        (conv1): Conv2d(64, 64, kernel_size=(3, 3), stride=(1, 1), padding=(1, 1), bias=False)\n",
              "        (bn1): BatchNorm2d(64, eps=1e-05, momentum=0.1, affine=True, track_running_stats=True)\n",
              "        (relu): ReLU(inplace=True)\n",
              "        (conv2): Conv2d(64, 64, kernel_size=(3, 3), stride=(1, 1), padding=(1, 1), bias=False)\n",
              "        (bn2): BatchNorm2d(64, eps=1e-05, momentum=0.1, affine=True, track_running_stats=True)\n",
              "      )\n",
              "    )\n",
              "  )\n",
              "  (layer1_1x1): Sequential(\n",
              "    (0): Conv2d(64, 64, kernel_size=(1, 1), stride=(1, 1))\n",
              "    (1): ReLU(inplace=True)\n",
              "  )\n",
              "  (layer2): Sequential(\n",
              "    (0): BasicBlock(\n",
              "      (conv1): Conv2d(64, 128, kernel_size=(3, 3), stride=(2, 2), padding=(1, 1), bias=False)\n",
              "      (bn1): BatchNorm2d(128, eps=1e-05, momentum=0.1, affine=True, track_running_stats=True)\n",
              "      (relu): ReLU(inplace=True)\n",
              "      (conv2): Conv2d(128, 128, kernel_size=(3, 3), stride=(1, 1), padding=(1, 1), bias=False)\n",
              "      (bn2): BatchNorm2d(128, eps=1e-05, momentum=0.1, affine=True, track_running_stats=True)\n",
              "      (downsample): Sequential(\n",
              "        (0): Conv2d(64, 128, kernel_size=(1, 1), stride=(2, 2), bias=False)\n",
              "        (1): BatchNorm2d(128, eps=1e-05, momentum=0.1, affine=True, track_running_stats=True)\n",
              "      )\n",
              "    )\n",
              "    (1): BasicBlock(\n",
              "      (conv1): Conv2d(128, 128, kernel_size=(3, 3), stride=(1, 1), padding=(1, 1), bias=False)\n",
              "      (bn1): BatchNorm2d(128, eps=1e-05, momentum=0.1, affine=True, track_running_stats=True)\n",
              "      (relu): ReLU(inplace=True)\n",
              "      (conv2): Conv2d(128, 128, kernel_size=(3, 3), stride=(1, 1), padding=(1, 1), bias=False)\n",
              "      (bn2): BatchNorm2d(128, eps=1e-05, momentum=0.1, affine=True, track_running_stats=True)\n",
              "    )\n",
              "  )\n",
              "  (layer2_1x1): Sequential(\n",
              "    (0): Conv2d(128, 128, kernel_size=(1, 1), stride=(1, 1))\n",
              "    (1): ReLU(inplace=True)\n",
              "  )\n",
              "  (layer3): Sequential(\n",
              "    (0): BasicBlock(\n",
              "      (conv1): Conv2d(128, 256, kernel_size=(3, 3), stride=(2, 2), padding=(1, 1), bias=False)\n",
              "      (bn1): BatchNorm2d(256, eps=1e-05, momentum=0.1, affine=True, track_running_stats=True)\n",
              "      (relu): ReLU(inplace=True)\n",
              "      (conv2): Conv2d(256, 256, kernel_size=(3, 3), stride=(1, 1), padding=(1, 1), bias=False)\n",
              "      (bn2): BatchNorm2d(256, eps=1e-05, momentum=0.1, affine=True, track_running_stats=True)\n",
              "      (downsample): Sequential(\n",
              "        (0): Conv2d(128, 256, kernel_size=(1, 1), stride=(2, 2), bias=False)\n",
              "        (1): BatchNorm2d(256, eps=1e-05, momentum=0.1, affine=True, track_running_stats=True)\n",
              "      )\n",
              "    )\n",
              "    (1): BasicBlock(\n",
              "      (conv1): Conv2d(256, 256, kernel_size=(3, 3), stride=(1, 1), padding=(1, 1), bias=False)\n",
              "      (bn1): BatchNorm2d(256, eps=1e-05, momentum=0.1, affine=True, track_running_stats=True)\n",
              "      (relu): ReLU(inplace=True)\n",
              "      (conv2): Conv2d(256, 256, kernel_size=(3, 3), stride=(1, 1), padding=(1, 1), bias=False)\n",
              "      (bn2): BatchNorm2d(256, eps=1e-05, momentum=0.1, affine=True, track_running_stats=True)\n",
              "    )\n",
              "  )\n",
              "  (layer3_1x1): Sequential(\n",
              "    (0): Conv2d(256, 256, kernel_size=(1, 1), stride=(1, 1))\n",
              "    (1): ReLU(inplace=True)\n",
              "  )\n",
              "  (layer4): Sequential(\n",
              "    (0): BasicBlock(\n",
              "      (conv1): Conv2d(256, 512, kernel_size=(3, 3), stride=(2, 2), padding=(1, 1), bias=False)\n",
              "      (bn1): BatchNorm2d(512, eps=1e-05, momentum=0.1, affine=True, track_running_stats=True)\n",
              "      (relu): ReLU(inplace=True)\n",
              "      (conv2): Conv2d(512, 512, kernel_size=(3, 3), stride=(1, 1), padding=(1, 1), bias=False)\n",
              "      (bn2): BatchNorm2d(512, eps=1e-05, momentum=0.1, affine=True, track_running_stats=True)\n",
              "      (downsample): Sequential(\n",
              "        (0): Conv2d(256, 512, kernel_size=(1, 1), stride=(2, 2), bias=False)\n",
              "        (1): BatchNorm2d(512, eps=1e-05, momentum=0.1, affine=True, track_running_stats=True)\n",
              "      )\n",
              "    )\n",
              "    (1): BasicBlock(\n",
              "      (conv1): Conv2d(512, 512, kernel_size=(3, 3), stride=(1, 1), padding=(1, 1), bias=False)\n",
              "      (bn1): BatchNorm2d(512, eps=1e-05, momentum=0.1, affine=True, track_running_stats=True)\n",
              "      (relu): ReLU(inplace=True)\n",
              "      (conv2): Conv2d(512, 512, kernel_size=(3, 3), stride=(1, 1), padding=(1, 1), bias=False)\n",
              "      (bn2): BatchNorm2d(512, eps=1e-05, momentum=0.1, affine=True, track_running_stats=True)\n",
              "    )\n",
              "  )\n",
              "  (layer4_1x1): Sequential(\n",
              "    (0): Conv2d(512, 512, kernel_size=(1, 1), stride=(1, 1))\n",
              "    (1): ReLU(inplace=True)\n",
              "  )\n",
              "  (upsample): Upsample(scale_factor=2.0, mode=bilinear)\n",
              "  (conv_up3): Sequential(\n",
              "    (0): Conv2d(768, 512, kernel_size=(3, 3), stride=(1, 1), padding=(1, 1))\n",
              "    (1): ReLU(inplace=True)\n",
              "  )\n",
              "  (conv_up2): Sequential(\n",
              "    (0): Conv2d(640, 256, kernel_size=(3, 3), stride=(1, 1), padding=(1, 1))\n",
              "    (1): ReLU(inplace=True)\n",
              "  )\n",
              "  (conv_up1): Sequential(\n",
              "    (0): Conv2d(320, 256, kernel_size=(3, 3), stride=(1, 1), padding=(1, 1))\n",
              "    (1): ReLU(inplace=True)\n",
              "  )\n",
              "  (conv_up0): Sequential(\n",
              "    (0): Conv2d(320, 128, kernel_size=(3, 3), stride=(1, 1), padding=(1, 1))\n",
              "    (1): ReLU(inplace=True)\n",
              "  )\n",
              "  (conv_original_size0): Sequential(\n",
              "    (0): Conv2d(3, 64, kernel_size=(3, 3), stride=(1, 1), padding=(1, 1))\n",
              "    (1): ReLU(inplace=True)\n",
              "  )\n",
              "  (conv_original_size1): Sequential(\n",
              "    (0): Conv2d(64, 64, kernel_size=(3, 3), stride=(1, 1), padding=(1, 1))\n",
              "    (1): ReLU(inplace=True)\n",
              "  )\n",
              "  (conv_original_size2): Sequential(\n",
              "    (0): Conv2d(192, 64, kernel_size=(3, 3), stride=(1, 1), padding=(1, 1))\n",
              "    (1): ReLU(inplace=True)\n",
              "  )\n",
              "  (conv_last): Conv2d(64, 6, kernel_size=(1, 1), stride=(1, 1))\n",
              ")"
            ]
          },
          "metadata": {},
          "execution_count": 19
        }
      ]
    },
    {
      "cell_type": "code",
      "metadata": {
        "id": "MoVYhHpbCSdY",
        "colab": {
          "base_uri": "https://localhost:8080/"
        },
        "outputId": "957dace1-f398-4442-9710-cd5bbb44e95c"
      },
      "source": [
        "from torchsummary import summary\n",
        "summary(model, input_size=(3, 224, 224))"
      ],
      "execution_count": 20,
      "outputs": [
        {
          "output_type": "stream",
          "name": "stdout",
          "text": [
            "----------------------------------------------------------------\n",
            "        Layer (type)               Output Shape         Param #\n",
            "================================================================\n",
            "            Conv2d-1         [-1, 64, 224, 224]           1,792\n",
            "              ReLU-2         [-1, 64, 224, 224]               0\n",
            "            Conv2d-3         [-1, 64, 224, 224]          36,928\n",
            "              ReLU-4         [-1, 64, 224, 224]               0\n",
            "            Conv2d-5         [-1, 64, 112, 112]           9,408\n",
            "            Conv2d-6         [-1, 64, 112, 112]           9,408\n",
            "       BatchNorm2d-7         [-1, 64, 112, 112]             128\n",
            "       BatchNorm2d-8         [-1, 64, 112, 112]             128\n",
            "              ReLU-9         [-1, 64, 112, 112]               0\n",
            "             ReLU-10         [-1, 64, 112, 112]               0\n",
            "        MaxPool2d-11           [-1, 64, 56, 56]               0\n",
            "        MaxPool2d-12           [-1, 64, 56, 56]               0\n",
            "           Conv2d-13           [-1, 64, 56, 56]          36,864\n",
            "           Conv2d-14           [-1, 64, 56, 56]          36,864\n",
            "      BatchNorm2d-15           [-1, 64, 56, 56]             128\n",
            "      BatchNorm2d-16           [-1, 64, 56, 56]             128\n",
            "             ReLU-17           [-1, 64, 56, 56]               0\n",
            "             ReLU-18           [-1, 64, 56, 56]               0\n",
            "           Conv2d-19           [-1, 64, 56, 56]          36,864\n",
            "           Conv2d-20           [-1, 64, 56, 56]          36,864\n",
            "      BatchNorm2d-21           [-1, 64, 56, 56]             128\n",
            "      BatchNorm2d-22           [-1, 64, 56, 56]             128\n",
            "             ReLU-23           [-1, 64, 56, 56]               0\n",
            "             ReLU-24           [-1, 64, 56, 56]               0\n",
            "       BasicBlock-25           [-1, 64, 56, 56]               0\n",
            "       BasicBlock-26           [-1, 64, 56, 56]               0\n",
            "           Conv2d-27           [-1, 64, 56, 56]          36,864\n",
            "           Conv2d-28           [-1, 64, 56, 56]          36,864\n",
            "      BatchNorm2d-29           [-1, 64, 56, 56]             128\n",
            "      BatchNorm2d-30           [-1, 64, 56, 56]             128\n",
            "             ReLU-31           [-1, 64, 56, 56]               0\n",
            "             ReLU-32           [-1, 64, 56, 56]               0\n",
            "           Conv2d-33           [-1, 64, 56, 56]          36,864\n",
            "           Conv2d-34           [-1, 64, 56, 56]          36,864\n",
            "      BatchNorm2d-35           [-1, 64, 56, 56]             128\n",
            "      BatchNorm2d-36           [-1, 64, 56, 56]             128\n",
            "             ReLU-37           [-1, 64, 56, 56]               0\n",
            "             ReLU-38           [-1, 64, 56, 56]               0\n",
            "       BasicBlock-39           [-1, 64, 56, 56]               0\n",
            "       BasicBlock-40           [-1, 64, 56, 56]               0\n",
            "           Conv2d-41          [-1, 128, 28, 28]          73,728\n",
            "           Conv2d-42          [-1, 128, 28, 28]          73,728\n",
            "      BatchNorm2d-43          [-1, 128, 28, 28]             256\n",
            "      BatchNorm2d-44          [-1, 128, 28, 28]             256\n",
            "             ReLU-45          [-1, 128, 28, 28]               0\n",
            "             ReLU-46          [-1, 128, 28, 28]               0\n",
            "           Conv2d-47          [-1, 128, 28, 28]         147,456\n",
            "           Conv2d-48          [-1, 128, 28, 28]         147,456\n",
            "      BatchNorm2d-49          [-1, 128, 28, 28]             256\n",
            "      BatchNorm2d-50          [-1, 128, 28, 28]             256\n",
            "           Conv2d-51          [-1, 128, 28, 28]           8,192\n",
            "           Conv2d-52          [-1, 128, 28, 28]           8,192\n",
            "      BatchNorm2d-53          [-1, 128, 28, 28]             256\n",
            "      BatchNorm2d-54          [-1, 128, 28, 28]             256\n",
            "             ReLU-55          [-1, 128, 28, 28]               0\n",
            "             ReLU-56          [-1, 128, 28, 28]               0\n",
            "       BasicBlock-57          [-1, 128, 28, 28]               0\n",
            "       BasicBlock-58          [-1, 128, 28, 28]               0\n",
            "           Conv2d-59          [-1, 128, 28, 28]         147,456\n",
            "           Conv2d-60          [-1, 128, 28, 28]         147,456\n",
            "      BatchNorm2d-61          [-1, 128, 28, 28]             256\n",
            "      BatchNorm2d-62          [-1, 128, 28, 28]             256\n",
            "             ReLU-63          [-1, 128, 28, 28]               0\n",
            "             ReLU-64          [-1, 128, 28, 28]               0\n",
            "           Conv2d-65          [-1, 128, 28, 28]         147,456\n",
            "           Conv2d-66          [-1, 128, 28, 28]         147,456\n",
            "      BatchNorm2d-67          [-1, 128, 28, 28]             256\n",
            "      BatchNorm2d-68          [-1, 128, 28, 28]             256\n",
            "             ReLU-69          [-1, 128, 28, 28]               0\n",
            "             ReLU-70          [-1, 128, 28, 28]               0\n",
            "       BasicBlock-71          [-1, 128, 28, 28]               0\n",
            "       BasicBlock-72          [-1, 128, 28, 28]               0\n",
            "           Conv2d-73          [-1, 256, 14, 14]         294,912\n",
            "           Conv2d-74          [-1, 256, 14, 14]         294,912\n",
            "      BatchNorm2d-75          [-1, 256, 14, 14]             512\n",
            "      BatchNorm2d-76          [-1, 256, 14, 14]             512\n",
            "             ReLU-77          [-1, 256, 14, 14]               0\n",
            "             ReLU-78          [-1, 256, 14, 14]               0\n",
            "           Conv2d-79          [-1, 256, 14, 14]         589,824\n",
            "           Conv2d-80          [-1, 256, 14, 14]         589,824\n",
            "      BatchNorm2d-81          [-1, 256, 14, 14]             512\n",
            "      BatchNorm2d-82          [-1, 256, 14, 14]             512\n",
            "           Conv2d-83          [-1, 256, 14, 14]          32,768\n",
            "           Conv2d-84          [-1, 256, 14, 14]          32,768\n",
            "      BatchNorm2d-85          [-1, 256, 14, 14]             512\n",
            "      BatchNorm2d-86          [-1, 256, 14, 14]             512\n",
            "             ReLU-87          [-1, 256, 14, 14]               0\n",
            "             ReLU-88          [-1, 256, 14, 14]               0\n",
            "       BasicBlock-89          [-1, 256, 14, 14]               0\n",
            "       BasicBlock-90          [-1, 256, 14, 14]               0\n",
            "           Conv2d-91          [-1, 256, 14, 14]         589,824\n",
            "           Conv2d-92          [-1, 256, 14, 14]         589,824\n",
            "      BatchNorm2d-93          [-1, 256, 14, 14]             512\n",
            "      BatchNorm2d-94          [-1, 256, 14, 14]             512\n",
            "             ReLU-95          [-1, 256, 14, 14]               0\n",
            "             ReLU-96          [-1, 256, 14, 14]               0\n",
            "           Conv2d-97          [-1, 256, 14, 14]         589,824\n",
            "           Conv2d-98          [-1, 256, 14, 14]         589,824\n",
            "      BatchNorm2d-99          [-1, 256, 14, 14]             512\n",
            "     BatchNorm2d-100          [-1, 256, 14, 14]             512\n",
            "            ReLU-101          [-1, 256, 14, 14]               0\n",
            "            ReLU-102          [-1, 256, 14, 14]               0\n",
            "      BasicBlock-103          [-1, 256, 14, 14]               0\n",
            "      BasicBlock-104          [-1, 256, 14, 14]               0\n",
            "          Conv2d-105            [-1, 512, 7, 7]       1,179,648\n",
            "          Conv2d-106            [-1, 512, 7, 7]       1,179,648\n",
            "     BatchNorm2d-107            [-1, 512, 7, 7]           1,024\n",
            "     BatchNorm2d-108            [-1, 512, 7, 7]           1,024\n",
            "            ReLU-109            [-1, 512, 7, 7]               0\n",
            "            ReLU-110            [-1, 512, 7, 7]               0\n",
            "          Conv2d-111            [-1, 512, 7, 7]       2,359,296\n",
            "          Conv2d-112            [-1, 512, 7, 7]       2,359,296\n",
            "     BatchNorm2d-113            [-1, 512, 7, 7]           1,024\n",
            "     BatchNorm2d-114            [-1, 512, 7, 7]           1,024\n",
            "          Conv2d-115            [-1, 512, 7, 7]         131,072\n",
            "          Conv2d-116            [-1, 512, 7, 7]         131,072\n",
            "     BatchNorm2d-117            [-1, 512, 7, 7]           1,024\n",
            "     BatchNorm2d-118            [-1, 512, 7, 7]           1,024\n",
            "            ReLU-119            [-1, 512, 7, 7]               0\n",
            "            ReLU-120            [-1, 512, 7, 7]               0\n",
            "      BasicBlock-121            [-1, 512, 7, 7]               0\n",
            "      BasicBlock-122            [-1, 512, 7, 7]               0\n",
            "          Conv2d-123            [-1, 512, 7, 7]       2,359,296\n",
            "          Conv2d-124            [-1, 512, 7, 7]       2,359,296\n",
            "     BatchNorm2d-125            [-1, 512, 7, 7]           1,024\n",
            "     BatchNorm2d-126            [-1, 512, 7, 7]           1,024\n",
            "            ReLU-127            [-1, 512, 7, 7]               0\n",
            "            ReLU-128            [-1, 512, 7, 7]               0\n",
            "          Conv2d-129            [-1, 512, 7, 7]       2,359,296\n",
            "          Conv2d-130            [-1, 512, 7, 7]       2,359,296\n",
            "     BatchNorm2d-131            [-1, 512, 7, 7]           1,024\n",
            "     BatchNorm2d-132            [-1, 512, 7, 7]           1,024\n",
            "            ReLU-133            [-1, 512, 7, 7]               0\n",
            "            ReLU-134            [-1, 512, 7, 7]               0\n",
            "      BasicBlock-135            [-1, 512, 7, 7]               0\n",
            "      BasicBlock-136            [-1, 512, 7, 7]               0\n",
            "          Conv2d-137            [-1, 512, 7, 7]         262,656\n",
            "            ReLU-138            [-1, 512, 7, 7]               0\n",
            "        Upsample-139          [-1, 512, 14, 14]               0\n",
            "          Conv2d-140          [-1, 256, 14, 14]          65,792\n",
            "            ReLU-141          [-1, 256, 14, 14]               0\n",
            "          Conv2d-142          [-1, 512, 14, 14]       3,539,456\n",
            "            ReLU-143          [-1, 512, 14, 14]               0\n",
            "        Upsample-144          [-1, 512, 28, 28]               0\n",
            "          Conv2d-145          [-1, 128, 28, 28]          16,512\n",
            "            ReLU-146          [-1, 128, 28, 28]               0\n",
            "          Conv2d-147          [-1, 256, 28, 28]       1,474,816\n",
            "            ReLU-148          [-1, 256, 28, 28]               0\n",
            "        Upsample-149          [-1, 256, 56, 56]               0\n",
            "          Conv2d-150           [-1, 64, 56, 56]           4,160\n",
            "            ReLU-151           [-1, 64, 56, 56]               0\n",
            "          Conv2d-152          [-1, 256, 56, 56]         737,536\n",
            "            ReLU-153          [-1, 256, 56, 56]               0\n",
            "        Upsample-154        [-1, 256, 112, 112]               0\n",
            "          Conv2d-155         [-1, 64, 112, 112]           4,160\n",
            "            ReLU-156         [-1, 64, 112, 112]               0\n",
            "          Conv2d-157        [-1, 128, 112, 112]         368,768\n",
            "            ReLU-158        [-1, 128, 112, 112]               0\n",
            "        Upsample-159        [-1, 128, 224, 224]               0\n",
            "          Conv2d-160         [-1, 64, 224, 224]         110,656\n",
            "            ReLU-161         [-1, 64, 224, 224]               0\n",
            "          Conv2d-162          [-1, 6, 224, 224]             390\n",
            "================================================================\n",
            "Total params: 28,976,646\n",
            "Trainable params: 28,976,646\n",
            "Non-trainable params: 0\n",
            "----------------------------------------------------------------\n",
            "Input size (MB): 0.57\n",
            "Forward/backward pass size (MB): 417.65\n",
            "Params size (MB): 110.54\n",
            "Estimated Total Size (MB): 528.76\n",
            "----------------------------------------------------------------\n"
          ]
        }
      ]
    },
    {
      "cell_type": "markdown",
      "source": [
        "## Loss"
      ],
      "metadata": {
        "id": "V5GOwTSCsQcz"
      }
    },
    {
      "cell_type": "code",
      "source": [
        "def dice_loss(pred, target, smooth = 1.):\n",
        "    pred = pred.contiguous()\n",
        "    target = target.contiguous()    \n",
        "\n",
        "    intersection = (pred * target).sum(dim=2).sum(dim=2)\n",
        "    \n",
        "    loss = (1 - ((2. * intersection + smooth) / (pred.sum(dim=2).sum(dim=2) + target.sum(dim=2).sum(dim=2) + smooth)))\n",
        "    \n",
        "    return loss.mean()"
      ],
      "metadata": {
        "id": "hTdKasYosO3a"
      },
      "execution_count": 21,
      "outputs": []
    },
    {
      "cell_type": "markdown",
      "metadata": {
        "id": "H7rAEQCUEI2v"
      },
      "source": [
        "## Define the main training loop"
      ]
    },
    {
      "cell_type": "code",
      "metadata": {
        "id": "tjt9JeTuDY6D"
      },
      "source": [
        "from collections import defaultdict\n",
        "import torch.nn.functional as F\n",
        "\n",
        "\n",
        "checkpoint_path = \"checkpoint.pth\"\n",
        "\n",
        "def calc_loss(pred, target, metrics, bce_weight=0.5):\n",
        "    bce = F.binary_cross_entropy_with_logits(pred, target)\n",
        "\n",
        "    pred = torch.sigmoid(pred)\n",
        "    dice = dice_loss(pred, target)\n",
        "\n",
        "    loss = bce * bce_weight + dice * (1 - bce_weight)\n",
        "\n",
        "    metrics['bce'] += bce.data.cpu().numpy() * target.size(0)\n",
        "    metrics['dice'] += dice.data.cpu().numpy() * target.size(0)\n",
        "    metrics['loss'] += loss.data.cpu().numpy() * target.size(0)\n",
        "\n",
        "    return loss\n",
        "\n",
        "def print_metrics(metrics, epoch_samples, phase):\n",
        "    outputs = []\n",
        "    for k in metrics.keys():\n",
        "        outputs.append(\"{}: {:4f}\".format(k, metrics[k] / epoch_samples))\n",
        "\n",
        "    print(\"{}: {}\".format(phase, \", \".join(outputs)))\n",
        "\n",
        "def train_model(model, optimizer, scheduler, num_epochs=25):\n",
        "    best_loss = 1e10\n",
        "\n",
        "    for epoch in range(num_epochs):\n",
        "        print('Epoch {}/{}'.format(epoch, num_epochs - 1))\n",
        "        print('-' * 10)\n",
        "\n",
        "        since = time.time()\n",
        "\n",
        "        # Each epoch has a training and validation phase\n",
        "        for phase in ['train', 'val']:\n",
        "            if phase == 'train':\n",
        "                model.train()  # Set model to training mode\n",
        "            else:\n",
        "                model.eval()   # Set model to evaluate mode\n",
        "\n",
        "            metrics = defaultdict(float)\n",
        "            epoch_samples = 0\n",
        "\n",
        "            for inputs, labels in dataloaders[phase]:\n",
        "                inputs = inputs.to(device)\n",
        "                labels = labels.to(device)\n",
        "\n",
        "                # zero the parameter gradients\n",
        "                optimizer.zero_grad()\n",
        "\n",
        "                # forward\n",
        "                # track history if only in train\n",
        "                with torch.set_grad_enabled(phase == 'train'):\n",
        "                    outputs = model(inputs)\n",
        "                    loss = calc_loss(outputs, labels, metrics)\n",
        "\n",
        "                    # backward + optimize only if in training phase\n",
        "                    if phase == 'train':\n",
        "                        loss.backward()\n",
        "                        optimizer.step()\n",
        "\n",
        "                # statistics\n",
        "                epoch_samples += inputs.size(0)\n",
        "\n",
        "            print_metrics(metrics, epoch_samples, phase)\n",
        "            epoch_loss = metrics['loss'] / epoch_samples\n",
        "\n",
        "            if phase == 'train':\n",
        "              scheduler.step()\n",
        "              for param_group in optimizer.param_groups:\n",
        "                  print(\"LR\", param_group['lr'])\n",
        "\n",
        "            # save the model weights\n",
        "            if phase == 'val' and epoch_loss < best_loss:\n",
        "                print(f\"saving best model to {checkpoint_path}\")\n",
        "                best_loss = epoch_loss\n",
        "                torch.save(model.state_dict(), checkpoint_path)\n",
        "\n",
        "        time_elapsed = time.time() - since\n",
        "        print('{:.0f}m {:.0f}s'.format(time_elapsed // 60, time_elapsed % 60))\n",
        "\n",
        "    print('Best val loss: {:4f}'.format(best_loss))\n",
        "\n",
        "    # load best model weights\n",
        "    model.load_state_dict(torch.load(checkpoint_path))\n",
        "    return model"
      ],
      "execution_count": 22,
      "outputs": []
    },
    {
      "cell_type": "markdown",
      "metadata": {
        "id": "adcdAu9ZEOLG"
      },
      "source": [
        "## Training"
      ]
    },
    {
      "cell_type": "code",
      "metadata": {
        "id": "RfxgL303EMiy",
        "colab": {
          "base_uri": "https://localhost:8080/"
        },
        "outputId": "29ba9f0d-da15-466c-f2ec-3319c7d4f581"
      },
      "source": [
        "import torch\n",
        "import torch.optim as optim\n",
        "from torch.optim import lr_scheduler\n",
        "import time\n",
        "\n",
        "num_class = 6\n",
        "model = ResNetUNet(num_class).to(device)\n",
        "\n",
        "# freeze backbone layers\n",
        "for l in model.base_layers:\n",
        "  for param in l.parameters():\n",
        "    param.requires_grad = False\n",
        "\n",
        "optimizer_ft = optim.Adam(filter(lambda p: p.requires_grad, model.parameters()), lr=1e-4)\n",
        "\n",
        "exp_lr_scheduler = lr_scheduler.StepLR(optimizer_ft, step_size=8, gamma=0.1)\n",
        "\n",
        "model = train_model(model, optimizer_ft, exp_lr_scheduler, num_epochs=5)"
      ],
      "execution_count": 23,
      "outputs": [
        {
          "output_type": "stream",
          "name": "stdout",
          "text": [
            "Epoch 0/4\n",
            "----------\n",
            "train: bce: 0.110995, dice: 0.966442, loss: 0.538718\n",
            "LR 0.0001\n",
            "val: bce: 0.019260, dice: 0.787199, loss: 0.403230\n",
            "saving best model to checkpoint.pth\n",
            "0m 40s\n",
            "Epoch 1/4\n",
            "----------\n",
            "train: bce: 0.016470, dice: 0.547174, loss: 0.281822\n",
            "LR 0.0001\n",
            "val: bce: 0.014601, dice: 0.382702, loss: 0.198652\n",
            "saving best model to checkpoint.pth\n",
            "0m 41s\n",
            "Epoch 2/4\n",
            "----------\n",
            "train: bce: 0.013004, dice: 0.247424, loss: 0.130214\n",
            "LR 0.0001\n",
            "val: bce: 0.010806, dice: 0.188470, loss: 0.099638\n",
            "saving best model to checkpoint.pth\n",
            "0m 42s\n",
            "Epoch 3/4\n",
            "----------\n",
            "train: bce: 0.006326, dice: 0.140323, loss: 0.073324\n",
            "LR 0.0001\n",
            "val: bce: 0.002506, dice: 0.079114, loss: 0.040810\n",
            "saving best model to checkpoint.pth\n",
            "0m 42s\n",
            "Epoch 4/4\n",
            "----------\n",
            "train: bce: 0.001846, dice: 0.059554, loss: 0.030700\n",
            "LR 0.0001\n",
            "val: bce: 0.001796, dice: 0.054700, loss: 0.028248\n",
            "saving best model to checkpoint.pth\n",
            "0m 43s\n",
            "Best val loss: 0.028248\n"
          ]
        }
      ]
    },
    {
      "cell_type": "markdown",
      "metadata": {
        "id": "lcRgjfk5D-kP"
      },
      "source": [
        "## Predict new images using the trained model"
      ]
    },
    {
      "cell_type": "code",
      "metadata": {
        "id": "xXRtpxHRET-v",
        "colab": {
          "base_uri": "https://localhost:8080/"
        },
        "outputId": "0656dcb2-67f2-49c5-cb36-bce5dd15953a"
      },
      "source": [
        "import math\n",
        "\n",
        "model.eval()   # Set model to the evaluation mode\n",
        "\n",
        "# Create a new simulation dataset for testing\n",
        "test_dataset = SimDataset(3, transform = trans)\n",
        "test_loader = DataLoader(test_dataset, batch_size=3, shuffle=False, num_workers=0)\n",
        "\n",
        "# Get the first batch\n",
        "inputs, labels = next(iter(test_loader))\n",
        "inputs = inputs.to(device)\n",
        "labels = labels.to(device)\n",
        "print('inputs.shape', inputs.shape)\n",
        "print('labels.shape', labels.shape)\n",
        "\n",
        "# Predict\n",
        "pred = model(inputs)\n",
        "# The loss functions include the sigmoid function.\n",
        "pred = torch.sigmoid(pred)\n",
        "pred = pred.data.cpu().numpy()\n",
        "print('pred.shape', pred.shape)\n",
        "\n",
        "# Change channel-order and make 3 channels for matplot\n",
        "input_images_rgb = [reverse_transform(x) for x in inputs.cpu()]\n",
        "\n",
        "# Map each channel (i.e. class) to each color\n",
        "target_masks_rgb = [masks_to_colorimg(x) for x in labels.cpu().numpy()]\n",
        "pred_rgb = [masks_to_colorimg(x) for x in pred]"
      ],
      "execution_count": 24,
      "outputs": [
        {
          "output_type": "stream",
          "name": "stdout",
          "text": [
            "inputs.shape torch.Size([3, 3, 192, 192])\n",
            "labels.shape torch.Size([3, 6, 192, 192])\n",
            "pred.shape (3, 6, 192, 192)\n"
          ]
        }
      ]
    },
    {
      "cell_type": "markdown",
      "metadata": {
        "id": "XPQyJc4YD39T"
      },
      "source": [
        "## Left: Input image, Middle: Correct mask (Ground-truth), Rigth: Predicted mask"
      ]
    },
    {
      "cell_type": "code",
      "metadata": {
        "id": "z6dkJZLBCv4t",
        "colab": {
          "base_uri": "https://localhost:8080/",
          "height": 704
        },
        "outputId": "5edcfff3-925d-4d24-e2e0-0da7e264ef19"
      },
      "source": [
        "plot_side_by_side([input_images_rgb, target_masks_rgb, pred_rgb])"
      ],
      "execution_count": 25,
      "outputs": [
        {
          "output_type": "display_data",
          "data": {
            "text/plain": [
              "<Figure size 864x864 with 9 Axes>"
            ],
            "image/png": "[encoded data removed]"
          },
          "metadata": {
            "needs_background": "light"
          }
        }
      ]
    },
    {
      "cell_type": "markdown",
      "metadata": {
        "id": "JPG4VNTnFr3p"
      },
      "source": [
        "## Next steps\n",
        "\n",
        "Try tweaking the hyper-parameters for better accuracy e.g.\n",
        "\n",
        "- learning rates and schedules\n",
        "- loss weights\n",
        "- unfreezing layers\n",
        "- batch size\n",
        "- etc."
      ]
    },
    {
      "cell_type": "markdown",
      "source": [
        "**Acknowledgements**\n",
        "\n",
        "https://github.com/usuyama/pytorch-unet"
      ],
      "metadata": {
        "id": "WMD9lfmXsgwC"
      }
    },
    {
      "cell_type": "code",
      "metadata": {
        "id": "7VHV2fS4GRd-"
      },
      "source": [],
      "execution_count": null,
      "outputs": []
    }
  ]
}