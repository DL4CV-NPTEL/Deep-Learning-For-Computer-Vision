{
  "nbformat": 4,
  "nbformat_minor": 0,
  "metadata": {
    "colab": {
      "name": "Week_7_Lecture_4.ipynb",
      "provenance": [],
      "include_colab_link": true
    },
    "kernelspec": {
      "name": "python3",
      "display_name": "Python 3"
    },
    "language_info": {
      "name": "python"
    },
    "widgets": {
      "application/vnd.jupyter.widget-state+json": {
        "af101444f5f7416dad01e205ea1cfaec": {
          "model_module": "@jupyter-widgets/output",
          "model_name": "OutputModel",
          "model_module_version": "1.0.0",
          "state": {
            "_dom_classes": [],
            "_model_module": "@jupyter-widgets/output",
            "_model_module_version": "1.0.0",
            "_model_name": "OutputModel",
            "_view_count": null,
            "_view_module": "@jupyter-widgets/output",
            "_view_module_version": "1.0.0",
            "_view_name": "OutputView",
            "layout": "IPY_MODEL_a418912d044f4ce4948147ce3f0372e3",
            "msg_id": "",
            "outputs": [
              {
                "output_type": "stream",
                "name": "stdout",
                "text": [
                  "Video available at https://youtube.com/watch?v=4zuAYazbCQ0\n"
                ]
              },
              {
                "output_type": "display_data",
                "data": {
                  "text/plain": "<IPython.lib.display.YouTubeVideo at 0x7f2eac4cde90>",
                  "text/html": "\n        <iframe\n            width=\"854\"\n            height=\"480\"\n            src=\"https://www.youtube.com/embed/4zuAYazbCQ0?fs=1&rel=0\"\n            frameborder=\"0\"\n            allowfullscreen\n        ></iframe>\n        ",
                  "image/jpeg": "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\n"
                },
                "metadata": {}
              }
            ]
          }
        },
        "a418912d044f4ce4948147ce3f0372e3": {
          "model_module": "@jupyter-widgets/base",
          "model_name": "LayoutModel",
          "model_module_version": "1.2.0",
          "state": {
            "_model_module": "@jupyter-widgets/base",
            "_model_module_version": "1.2.0",
            "_model_name": "LayoutModel",
            "_view_count": null,
            "_view_module": "@jupyter-widgets/base",
            "_view_module_version": "1.2.0",
            "_view_name": "LayoutView",
            "align_content": null,
            "align_items": null,
            "align_self": null,
            "border": null,
            "bottom": null,
            "display": null,
            "flex": null,
            "flex_flow": null,
            "grid_area": null,
            "grid_auto_columns": null,
            "grid_auto_flow": null,
            "grid_auto_rows": null,
            "grid_column": null,
            "grid_gap": null,
            "grid_row": null,
            "grid_template_areas": null,
            "grid_template_columns": null,
            "grid_template_rows": null,
            "height": null,
            "justify_content": null,
            "justify_items": null,
            "left": null,
            "margin": null,
            "max_height": null,
            "max_width": null,
            "min_height": null,
            "min_width": null,
            "object_fit": null,
            "object_position": null,
            "order": null,
            "overflow": null,
            "overflow_x": null,
            "overflow_y": null,
            "padding": null,
            "right": null,
            "top": null,
            "visibility": null,
            "width": null
          }
        }
      }
    }
  },
  "cells": [
    {
      "cell_type": "markdown",
      "metadata": {
        "id": "view-in-github",
        "colab_type": "text"
      },
      "source": [
        "<a href=\"https://colab.research.google.com/github/DL4CV-NPTEL/Deep-Learning-For-Computer-Vision/blob/main/notebooks/Week_7/Week_7_Lecture_4.ipynb\" target=\"_parent\"><img src=\"https://colab.research.google.com/assets/colab-badge.svg\" alt=\"Open In Colab\"/></a>"
      ]
    },
    {
      "cell_type": "markdown",
      "source": [
        "# Lecture 4: CNNs for Segmentation\n"
      ],
      "metadata": {
        "id": "5p8aGbdxc1Nz"
      }
    },
    {
      "cell_type": "code",
      "execution_count": 47,
      "metadata": {
        "colab": {
          "base_uri": "https://localhost:8080/",
          "height": 539,
          "referenced_widgets": [
            "af101444f5f7416dad01e205ea1cfaec",
            "a418912d044f4ce4948147ce3f0372e3"
          ]
        },
        "id": "W5BZQI44cxz_",
        "outputId": "c50faca8-ca30-46fe-e31b-215a32a797ea",
        "cellView": "form"
      },
      "outputs": [
        {
          "output_type": "display_data",
          "data": {
            "text/plain": [
              "Output()"
            ],
            "application/vnd.jupyter.widget-view+json": {
              "version_major": 2,
              "version_minor": 0,
              "model_id": "af101444f5f7416dad01e205ea1cfaec"
            }
          },
          "metadata": {}
        }
      ],
      "source": [
        "#@title \n",
        "from ipywidgets import widgets\n",
        "out1 = widgets.Output()\n",
        "with out1:\n",
        "  from IPython.display import YouTubeVideo\n",
        "  video = YouTubeVideo(id=f\"4zuAYazbCQ0\", width=854, height=480, fs=1, rel=0)\n",
        "  print(\"Video available at https://youtube.com/watch?v=\" + video.id)\n",
        "  display(video)\n",
        "display(out1)"
      ]
    },
    {
      "cell_type": "code",
      "source": [
        "#@title \n",
        "from IPython import display as IPyDisplay\n",
        "IPyDisplay.HTML(\n",
        "    f\"\"\"\n",
        "  <div>\n",
        "    <a href= \"https://github.com/DL4CV-NPTEL/Deep-Learning-For-Computer-Vision/blob/main/Slides/Week_7/DL4CV_Week07_Part03.pdf\" target=\"_blank\">\n",
        "    <img src=\"https://github.com/DL4CV-NPTEL/Deep-Learning-For-Computer-Vision/blob/main/Data/Slides_Logo.png?raw=1\"\n",
        "  alt=\"button link to Airtable\" style=\"width:200px\"></a>\n",
        "    </div>\"\"\" )"
      ],
      "metadata": {
        "colab": {
          "base_uri": "https://localhost:8080/",
          "height": 100
        },
        "id": "bJQjZzwxdQch",
        "outputId": "f7ea4d5e-59bb-4651-fc09-d449fff93acd",
        "cellView": "form"
      },
      "execution_count": 48,
      "outputs": [
        {
          "output_type": "execute_result",
          "data": {
            "text/plain": [
              "<IPython.core.display.HTML object>"
            ],
            "text/html": [
              "\n",
              "  <div>\n",
              "    <a href= \"https://github.com/DL4CV-NPTEL/Deep-Learning-For-Computer-Vision/blob/main/Slides/Week_7/DL4CV_Week07_Part03.pdf\" target=\"_blank\">\n",
              "    <img src=\"https://github.com/DL4CV-NPTEL/Deep-Learning-For-Computer-Vision/blob/main/Data/Slides_Logo.png?raw=1\"\n",
              "  alt=\"button link to Airtable\" style=\"width:200px\"></a>\n",
              "    </div>"
            ]
          },
          "metadata": {},
          "execution_count": 48
        }
      ]
    }
  ]
}