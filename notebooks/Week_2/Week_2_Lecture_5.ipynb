{
  "nbformat": 4,
  "nbformat_minor": 0,
  "metadata": {
    "colab": {
      "name": "Week_2_Lecture_5.ipynb",
      "provenance": [],
      "include_colab_link": true
    },
    "kernelspec": {
      "name": "python3",
      "display_name": "Python 3"
    },
    "language_info": {
      "name": "python"
    },
    "widgets": {
      "application/vnd.jupyter.widget-state+json": {
        "dc9c634dc17a4541827cfec5e0869570": {
          "model_module": "@jupyter-widgets/output",
          "model_name": "OutputModel",
          "model_module_version": "1.0.0",
          "state": {
            "_dom_classes": [],
            "_model_module": "@jupyter-widgets/output",
            "_model_module_version": "1.0.0",
            "_model_name": "OutputModel",
            "_view_count": null,
            "_view_module": "@jupyter-widgets/output",
            "_view_module_version": "1.0.0",
            "_view_name": "OutputView",
            "layout": "IPY_MODEL_5d458e0546574c29a060fb9cdd44c454",
            "msg_id": "",
            "outputs": [
              {
                "output_type": "stream",
                "name": "stdout",
                "text": [
                  "Video available at https://youtube.com/watch?v=0HbRnFTOOms\n"
                ]
              },
              {
                "output_type": "display_data",
                "data": {
                  "text/plain": "<IPython.lib.display.YouTubeVideo at 0x7fa0b5c6c690>",
                  "text/html": "\n        <iframe\n            width=\"854\"\n            height=\"480\"\n            src=\"https://www.youtube.com/embed/0HbRnFTOOms?fs=1&rel=0\"\n            frameborder=\"0\"\n            allowfullscreen\n        ></iframe>\n        ",
                  "image/jpeg": "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\n"
                },
                "metadata": {}
              }
            ]
          }
        },
        "5d458e0546574c29a060fb9cdd44c454": {
          "model_module": "@jupyter-widgets/base",
          "model_name": "LayoutModel",
          "model_module_version": "1.2.0",
          "state": {
            "_model_module": "@jupyter-widgets/base",
            "_model_module_version": "1.2.0",
            "_model_name": "LayoutModel",
            "_view_count": null,
            "_view_module": "@jupyter-widgets/base",
            "_view_module_version": "1.2.0",
            "_view_name": "LayoutView",
            "align_content": null,
            "align_items": null,
            "align_self": null,
            "border": null,
            "bottom": null,
            "display": null,
            "flex": null,
            "flex_flow": null,
            "grid_area": null,
            "grid_auto_columns": null,
            "grid_auto_flow": null,
            "grid_auto_rows": null,
            "grid_column": null,
            "grid_gap": null,
            "grid_row": null,
            "grid_template_areas": null,
            "grid_template_columns": null,
            "grid_template_rows": null,
            "height": null,
            "justify_content": null,
            "justify_items": null,
            "left": null,
            "margin": null,
            "max_height": null,
            "max_width": null,
            "min_height": null,
            "min_width": null,
            "object_fit": null,
            "object_position": null,
            "order": null,
            "overflow": null,
            "overflow_x": null,
            "overflow_y": null,
            "padding": null,
            "right": null,
            "top": null,
            "visibility": null,
            "width": null
          }
        }
      }
    }
  },
  "cells": [
    {
      "cell_type": "markdown",
      "metadata": {
        "id": "view-in-github",
        "colab_type": "text"
      },
      "source": [
        "<a href=\"https://colab.research.google.com/github/DL4CV-NPTEL/Deep-Learning-For-Computer-Vision/blob/main/notebooks/Week_2/Week_2_Lecture_5.ipynb\" target=\"_parent\"><img src=\"https://colab.research.google.com/assets/colab-badge.svg\" alt=\"Open In Colab\"/></a>"
      ]
    },
    {
      "cell_type": "markdown",
      "source": [
        "# Lecture 5: Image Segmentation"
      ],
      "metadata": {
        "id": "3JdIPfdtt2TU"
      }
    },
    {
      "cell_type": "code",
      "source": [
        "#@title \n",
        "from ipywidgets import widgets\n",
        "out1 = widgets.Output()\n",
        "with out1:\n",
        "  from IPython.display import YouTubeVideo\n",
        "  video = YouTubeVideo(id=f\"0HbRnFTOOms\", width=854, height=480, fs=1, rel=0)\n",
        "  print(\"Video available at https://youtube.com/watch?v=\" + video.id)\n",
        "  display(video)\n",
        "display(out1)"
      ],
      "metadata": {
        "colab": {
          "base_uri": "https://localhost:8080/",
          "height": 519,
          "referenced_widgets": [
            "dc9c634dc17a4541827cfec5e0869570",
            "5d458e0546574c29a060fb9cdd44c454"
          ]
        },
        "cellView": "form",
        "id": "rA0FZ1_3t3nO",
        "outputId": "db8ad35e-1c22-4b76-8c15-f57ab847397b"
      },
      "execution_count": 19,
      "outputs": [
        {
          "output_type": "display_data",
          "data": {
            "text/plain": [
              "Output()"
            ],
            "application/vnd.jupyter.widget-view+json": {
              "version_major": 2,
              "version_minor": 0,
              "model_id": "dc9c634dc17a4541827cfec5e0869570"
            }
          },
          "metadata": {}
        }
      ]
    },
    {
      "cell_type": "code",
      "source": [
        "#@title \n",
        "from IPython import display as IPyDisplay\n",
        "IPyDisplay.HTML(\n",
        "    f\"\"\"\n",
        "  <div>\n",
        "    <a href= \"https://github.com/DL4CV-NPTEL/Deep-Learning-For-Computer-Vision/blob/main/Slides/Week_2/DL4CV_Week02_Part05.pdf\" target=\"_blank\">\n",
        "    <img src=\"https://github.com/DL4CV-NPTEL/Deep-Learning-For-Computer-Vision/blob/main/Data/Slides_Logo.png?raw=1\"\n",
        "  alt=\"button link to Airtable\" style=\"width:200px\"></a>\n",
        "    </div>\"\"\" )"
      ],
      "metadata": {
        "colab": {
          "base_uri": "https://localhost:8080/",
          "height": 100
        },
        "cellView": "form",
        "id": "WrHo4zh4t_Km",
        "outputId": "f6bf4421-2e4a-47f3-a7cf-56fd917e7c01"
      },
      "execution_count": 20,
      "outputs": [
        {
          "output_type": "execute_result",
          "data": {
            "text/plain": [
              "<IPython.core.display.HTML object>"
            ],
            "text/html": [
              "\n",
              "  <div>\n",
              "    <a href= \"https://github.com/DL4CV-NPTEL/Deep-Learning-For-Computer-Vision/blob/main/Slides/Week_2/DL4CV_Week02_Part05.pdf\" target=\"_blank\">\n",
              "    <img src=\"https://github.com/DL4CV-NPTEL/Deep-Learning-For-Computer-Vision/blob/main/Data/Slides_Logo.png?raw=1\"\n",
              "  alt=\"button link to Airtable\" style=\"width:200px\"></a>\n",
              "    </div>"
            ]
          },
          "metadata": {},
          "execution_count": 20
        }
      ]
    },
    {
      "cell_type": "code",
      "source": [
        ""
      ],
      "metadata": {
        "id": "wvT7F0cyuLI4"
      },
      "execution_count": null,
      "outputs": []
    }
  ]
}