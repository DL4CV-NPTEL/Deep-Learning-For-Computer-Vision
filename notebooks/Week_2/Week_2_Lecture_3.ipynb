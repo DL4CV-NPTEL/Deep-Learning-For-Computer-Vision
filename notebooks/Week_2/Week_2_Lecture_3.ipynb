{
  "nbformat": 4,
  "nbformat_minor": 0,
  "metadata": {
    "colab": {
      "name": "Week_2_Lecture_3.ipynb",
      "provenance": [],
      "include_colab_link": true
    },
    "kernelspec": {
      "name": "python3",
      "display_name": "Python 3"
    },
    "language_info": {
      "name": "python"
    },
    "widgets": {
      "application/vnd.jupyter.widget-state+json": {
        "3b92d102ff0941cb9d7c97a1dd84bb10": {
          "model_module": "@jupyter-widgets/output",
          "model_name": "OutputModel",
          "model_module_version": "1.0.0",
          "state": {
            "_dom_classes": [],
            "_model_module": "@jupyter-widgets/output",
            "_model_module_version": "1.0.0",
            "_model_name": "OutputModel",
            "_view_count": null,
            "_view_module": "@jupyter-widgets/output",
            "_view_module_version": "1.0.0",
            "_view_name": "OutputView",
            "layout": "IPY_MODEL_f969d2fc29fc4dd6a6b69230d53b522c",
            "msg_id": "",
            "outputs": [
              {
                "output_type": "stream",
                "name": "stdout",
                "text": [
                  "Video available at https://youtube.com/watch?v=f4mL4Thr9hc\n"
                ]
              },
              {
                "output_type": "display_data",
                "data": {
                  "text/plain": "<IPython.lib.display.YouTubeVideo at 0x7fa0bbe0d210>",
                  "text/html": "\n        <iframe\n            width=\"854\"\n            height=\"480\"\n            src=\"https://www.youtube.com/embed/f4mL4Thr9hc?fs=1&rel=0\"\n            frameborder=\"0\"\n            allowfullscreen\n        ></iframe>\n        ",
                  "image/jpeg": "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\n"
                },
                "metadata": {}
              }
            ]
          }
        },
        "f969d2fc29fc4dd6a6b69230d53b522c": {
          "model_module": "@jupyter-widgets/base",
          "model_name": "LayoutModel",
          "model_module_version": "1.2.0",
          "state": {
            "_model_module": "@jupyter-widgets/base",
            "_model_module_version": "1.2.0",
            "_model_name": "LayoutModel",
            "_view_count": null,
            "_view_module": "@jupyter-widgets/base",
            "_view_module_version": "1.2.0",
            "_view_name": "LayoutView",
            "align_content": null,
            "align_items": null,
            "align_self": null,
            "border": null,
            "bottom": null,
            "display": null,
            "flex": null,
            "flex_flow": null,
            "grid_area": null,
            "grid_auto_columns": null,
            "grid_auto_flow": null,
            "grid_auto_rows": null,
            "grid_column": null,
            "grid_gap": null,
            "grid_row": null,
            "grid_template_areas": null,
            "grid_template_columns": null,
            "grid_template_rows": null,
            "height": null,
            "justify_content": null,
            "justify_items": null,
            "left": null,
            "margin": null,
            "max_height": null,
            "max_width": null,
            "min_height": null,
            "min_width": null,
            "object_fit": null,
            "object_position": null,
            "order": null,
            "overflow": null,
            "overflow_x": null,
            "overflow_y": null,
            "padding": null,
            "right": null,
            "top": null,
            "visibility": null,
            "width": null
          }
        }
      }
    }
  },
  "cells": [
    {
      "cell_type": "markdown",
      "metadata": {
        "id": "view-in-github",
        "colab_type": "text"
      },
      "source": [
        "<a href=\"https://colab.research.google.com/github/DL4CV-NPTEL/Deep-Learning-For-Computer-Vision/blob/main/notebooks/Week_2/Week_2_Lecture_3.ipynb\" target=\"_parent\"><img src=\"https://colab.research.google.com/assets/colab-badge.svg\" alt=\"Open In Colab\"/></a>"
      ]
    },
    {
      "cell_type": "markdown",
      "source": [
        "# Lecture 3: Scale Space, Image Pyramids and Filter Banks"
      ],
      "metadata": {
        "id": "3JdIPfdtt2TU"
      }
    },
    {
      "cell_type": "code",
      "source": [
        "#@title \n",
        "from ipywidgets import widgets\n",
        "out1 = widgets.Output()\n",
        "with out1:\n",
        "  from IPython.display import YouTubeVideo\n",
        "  video = YouTubeVideo(id=f\"f4mL4Thr9hc\", width=854, height=480, fs=1, rel=0)\n",
        "  print(\"Video available at https://youtube.com/watch?v=\" + video.id)\n",
        "  display(video)\n",
        "display(out1)"
      ],
      "metadata": {
        "colab": {
          "base_uri": "https://localhost:8080/",
          "height": 519,
          "referenced_widgets": [
            "3b92d102ff0941cb9d7c97a1dd84bb10",
            "f969d2fc29fc4dd6a6b69230d53b522c"
          ]
        },
        "cellView": "form",
        "id": "rA0FZ1_3t3nO",
        "outputId": "21e37d29-1d1c-443c-faf4-2ae5551cd9f4"
      },
      "execution_count": 15,
      "outputs": [
        {
          "output_type": "display_data",
          "data": {
            "text/plain": [
              "Output()"
            ],
            "application/vnd.jupyter.widget-view+json": {
              "version_major": 2,
              "version_minor": 0,
              "model_id": "3b92d102ff0941cb9d7c97a1dd84bb10"
            }
          },
          "metadata": {}
        }
      ]
    },
    {
      "cell_type": "code",
      "source": [
        "#@title \n",
        "from IPython import display as IPyDisplay\n",
        "IPyDisplay.HTML(\n",
        "    f\"\"\"\n",
        "  <div>\n",
        "    <a href= \"https://github.com/DL4CV-NPTEL/Deep-Learning-For-Computer-Vision/blob/main/Slides/Week_2/DL4CV_Week02_Part03.pdf\" target=\"_blank\">\n",
        "    <img src=\"https://github.com/DL4CV-NPTEL/Deep-Learning-For-Computer-Vision/blob/main/Data/Slides_Logo.png?raw=1\"\n",
        "  alt=\"button link to Airtable\" style=\"width:200px\"></a>\n",
        "    </div>\"\"\" )"
      ],
      "metadata": {
        "colab": {
          "base_uri": "https://localhost:8080/",
          "height": 100
        },
        "cellView": "form",
        "id": "WrHo4zh4t_Km",
        "outputId": "9187c3c8-4c39-43a2-ce0c-f1e65c5e3ad6"
      },
      "execution_count": 16,
      "outputs": [
        {
          "output_type": "execute_result",
          "data": {
            "text/plain": [
              "<IPython.core.display.HTML object>"
            ],
            "text/html": [
              "\n",
              "  <div>\n",
              "    <a href= \"https://github.com/DL4CV-NPTEL/Deep-Learning-For-Computer-Vision/blob/main/Slides/Week_2/DL4CV_Week02_Part03.pdf\" target=\"_blank\">\n",
              "    <img src=\"https://github.com/DL4CV-NPTEL/Deep-Learning-For-Computer-Vision/blob/main/Data/Slides_Logo.png?raw=1\"\n",
              "  alt=\"button link to Airtable\" style=\"width:200px\"></a>\n",
              "    </div>"
            ]
          },
          "metadata": {},
          "execution_count": 16
        }
      ]
    },
    {
      "cell_type": "code",
      "source": [
        ""
      ],
      "metadata": {
        "id": "wvT7F0cyuLI4"
      },
      "execution_count": null,
      "outputs": []
    }
  ]
}