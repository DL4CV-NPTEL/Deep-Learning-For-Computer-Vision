{
  "nbformat": 4,
  "nbformat_minor": 0,
  "metadata": {
    "colab": {
      "name": "Week_2_Lecture_6.ipynb",
      "provenance": [],
      "include_colab_link": true
    },
    "kernelspec": {
      "name": "python3",
      "display_name": "Python 3"
    },
    "language_info": {
      "name": "python"
    },
    "widgets": {
      "application/vnd.jupyter.widget-state+json": {
        "593abf03fa334e47801e7c2ff2365a8f": {
          "model_module": "@jupyter-widgets/output",
          "model_name": "OutputModel",
          "model_module_version": "1.0.0",
          "state": {
            "_dom_classes": [],
            "_model_module": "@jupyter-widgets/output",
            "_model_module_version": "1.0.0",
            "_model_name": "OutputModel",
            "_view_count": null,
            "_view_module": "@jupyter-widgets/output",
            "_view_module_version": "1.0.0",
            "_view_name": "OutputView",
            "layout": "IPY_MODEL_77be23c811bf4b989a9588dcdb2d37ba",
            "msg_id": "",
            "outputs": [
              {
                "output_type": "stream",
                "name": "stdout",
                "text": [
                  "Video available at https://youtube.com/watch?v=hBMOK2YCpXc\n"
                ]
              },
              {
                "output_type": "display_data",
                "data": {
                  "text/plain": "<IPython.lib.display.YouTubeVideo at 0x7fa0b6113750>",
                  "text/html": "\n        <iframe\n            width=\"854\"\n            height=\"480\"\n            src=\"https://www.youtube.com/embed/hBMOK2YCpXc?fs=1&rel=0\"\n            frameborder=\"0\"\n            allowfullscreen\n        ></iframe>\n        ",
                  "image/jpeg": "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\n"
                },
                "metadata": {}
              }
            ]
          }
        },
        "77be23c811bf4b989a9588dcdb2d37ba": {
          "model_module": "@jupyter-widgets/base",
          "model_name": "LayoutModel",
          "model_module_version": "1.2.0",
          "state": {
            "_model_module": "@jupyter-widgets/base",
            "_model_module_version": "1.2.0",
            "_model_name": "LayoutModel",
            "_view_count": null,
            "_view_module": "@jupyter-widgets/base",
            "_view_module_version": "1.2.0",
            "_view_name": "LayoutView",
            "align_content": null,
            "align_items": null,
            "align_self": null,
            "border": null,
            "bottom": null,
            "display": null,
            "flex": null,
            "flex_flow": null,
            "grid_area": null,
            "grid_auto_columns": null,
            "grid_auto_flow": null,
            "grid_auto_rows": null,
            "grid_column": null,
            "grid_gap": null,
            "grid_row": null,
            "grid_template_areas": null,
            "grid_template_columns": null,
            "grid_template_rows": null,
            "height": null,
            "justify_content": null,
            "justify_items": null,
            "left": null,
            "margin": null,
            "max_height": null,
            "max_width": null,
            "min_height": null,
            "min_width": null,
            "object_fit": null,
            "object_position": null,
            "order": null,
            "overflow": null,
            "overflow_x": null,
            "overflow_y": null,
            "padding": null,
            "right": null,
            "top": null,
            "visibility": null,
            "width": null
          }
        }
      }
    }
  },
  "cells": [
    {
      "cell_type": "markdown",
      "metadata": {
        "id": "view-in-github",
        "colab_type": "text"
      },
      "source": [
        "<a href=\"https://colab.research.google.com/github/DL4CV-NPTEL/Deep-Learning-For-Computer-Vision/blob/main/notebooks/Week_2/Week_2_Lecture_6.ipynb\" target=\"_parent\"><img src=\"https://colab.research.google.com/assets/colab-badge.svg\" alt=\"Open In Colab\"/></a>"
      ]
    },
    {
      "cell_type": "markdown",
      "source": [
        "# Lecture 6: Other Feature Spaces"
      ],
      "metadata": {
        "id": "3JdIPfdtt2TU"
      }
    },
    {
      "cell_type": "code",
      "source": [
        "#@title \n",
        "from ipywidgets import widgets\n",
        "out1 = widgets.Output()\n",
        "with out1:\n",
        "  from IPython.display import YouTubeVideo\n",
        "  video = YouTubeVideo(id=f\"hBMOK2YCpXc\", width=854, height=480, fs=1, rel=0)\n",
        "  print(\"Video available at https://youtube.com/watch?v=\" + video.id)\n",
        "  display(video)\n",
        "display(out1)"
      ],
      "metadata": {
        "colab": {
          "base_uri": "https://localhost:8080/",
          "height": 519,
          "referenced_widgets": [
            "593abf03fa334e47801e7c2ff2365a8f",
            "77be23c811bf4b989a9588dcdb2d37ba"
          ]
        },
        "cellView": "form",
        "id": "rA0FZ1_3t3nO",
        "outputId": "2bf0595e-a6a9-4bfd-faaa-26bf88ba0a60"
      },
      "execution_count": 21,
      "outputs": [
        {
          "output_type": "display_data",
          "data": {
            "text/plain": [
              "Output()"
            ],
            "application/vnd.jupyter.widget-view+json": {
              "version_major": 2,
              "version_minor": 0,
              "model_id": "593abf03fa334e47801e7c2ff2365a8f"
            }
          },
          "metadata": {}
        }
      ]
    },
    {
      "cell_type": "code",
      "source": [
        "#@title \n",
        "from IPython import display as IPyDisplay\n",
        "IPyDisplay.HTML(\n",
        "    f\"\"\"\n",
        "  <div>\n",
        "    <a href= \"https://github.com/DL4CV-NPTEL/Deep-Learning-For-Computer-Vision/blob/main/Slides/Week_2/DL4CV_Week02_Part06.pdf\" target=\"_blank\">\n",
        "    <img src=\"https://github.com/DL4CV-NPTEL/Deep-Learning-For-Computer-Vision/blob/main/Data/Slides_Logo.png?raw=1\"\n",
        "  alt=\"button link to Airtable\" style=\"width:200px\"></a>\n",
        "    </div>\"\"\" )"
      ],
      "metadata": {
        "colab": {
          "base_uri": "https://localhost:8080/",
          "height": 100
        },
        "cellView": "form",
        "id": "WrHo4zh4t_Km",
        "outputId": "bdea58ef-524c-4a0d-82bd-3694dabb85ed"
      },
      "execution_count": 22,
      "outputs": [
        {
          "output_type": "execute_result",
          "data": {
            "text/plain": [
              "<IPython.core.display.HTML object>"
            ],
            "text/html": [
              "\n",
              "  <div>\n",
              "    <a href= \"https://github.com/DL4CV-NPTEL/Deep-Learning-For-Computer-Vision/blob/main/Slides/Week_2/DL4CV_Week02_Part06.pdf\" target=\"_blank\">\n",
              "    <img src=\"https://github.com/DL4CV-NPTEL/Deep-Learning-For-Computer-Vision/blob/main/Data/Slides_Logo.png?raw=1\"\n",
              "  alt=\"button link to Airtable\" style=\"width:200px\"></a>\n",
              "    </div>"
            ]
          },
          "metadata": {},
          "execution_count": 22
        }
      ]
    },
    {
      "cell_type": "code",
      "source": [
        ""
      ],
      "metadata": {
        "id": "wvT7F0cyuLI4"
      },
      "execution_count": null,
      "outputs": []
    }
  ]
}