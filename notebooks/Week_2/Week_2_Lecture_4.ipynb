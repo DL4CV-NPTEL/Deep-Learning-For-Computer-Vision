{
  "nbformat": 4,
  "nbformat_minor": 0,
  "metadata": {
    "colab": {
      "name": "Week_2_Lecture_4.ipynb",
      "provenance": [],
      "include_colab_link": true
    },
    "kernelspec": {
      "name": "python3",
      "display_name": "Python 3"
    },
    "language_info": {
      "name": "python"
    },
    "widgets": {
      "application/vnd.jupyter.widget-state+json": {
        "2b7b7195ab4c44fa9946a80da3bfff13": {
          "model_module": "@jupyter-widgets/output",
          "model_name": "OutputModel",
          "model_module_version": "1.0.0",
          "state": {
            "_dom_classes": [],
            "_model_module": "@jupyter-widgets/output",
            "_model_module_version": "1.0.0",
            "_model_name": "OutputModel",
            "_view_count": null,
            "_view_module": "@jupyter-widgets/output",
            "_view_module_version": "1.0.0",
            "_view_name": "OutputView",
            "layout": "IPY_MODEL_525ec321e9af4336aa1a074e5ca34b76",
            "msg_id": "",
            "outputs": [
              {
                "output_type": "stream",
                "name": "stdout",
                "text": [
                  "Video available at https://youtube.com/watch?v=gEoWMLXk0Ys\n"
                ]
              },
              {
                "output_type": "display_data",
                "data": {
                  "text/plain": "<IPython.lib.display.YouTubeVideo at 0x7fa0b7b63d90>",
                  "text/html": "\n        <iframe\n            width=\"854\"\n            height=\"480\"\n            src=\"https://www.youtube.com/embed/gEoWMLXk0Ys?fs=1&rel=0\"\n            frameborder=\"0\"\n            allowfullscreen\n        ></iframe>\n        ",
                  "image/jpeg": "/9j/4AAQSkZJRgABAQAAAQABAAD/2wCEABALDBoYFhsaGRodHRsfJColIyIiIzElLicvLic1MDAxMi01QFBFNThLOTAtRWFFS1NWW11bN0JlbWRYbFBZW1cBERISGRYZMBsbL1c+OUJdV1dXV1dXV1ddV11XV1dXV11dV1dXV11XV1dXV1dXV19XXV1XV1dXV1dXV1dXV1dXV//AABEIAWgB4AMBIgACEQEDEQH/xAAbAAEAAQUBAAAAAAAAAAAAAAAABQECAwQGB//EAE0QAAIBAgIDCwkGBAQEBQUAAAABAgMRBCEFEjETFEFRUlNhkZKh0gYVFhciMmJxgVSUscHT4TNCctEjguLwJDRzskNks8LxB2OToqP/xAAZAQEAAwEBAAAAAAAAAAAAAAAAAQIDBAX/xAAuEQEAAgIBAgMGBQUAAAAAAAAAAQIDESESMQQTQSIyUZHR8GFxgaGxQlLB4fH/2gAMAwEAAhEDEQA/APPwAAAAAAAAAAAAAAAAAAAAAAAAAAAAAAAAAAAAAAAAAAAAAAAAAAAAAAAAAAAAAAAAAAAAAAAAAAAAAAAAAAAAAAAAAAAAAAAAAAAAAAAAAAAAAAAAAAAAAAAAAAAAAAAAAAAAAAAAAAAAAAAAAAAAAAAAAAAAAAAAdB6IYnl0e1Lwj0QxPLo9qXhA58HQeiGJ5dHtS8I9EMTy6Pal4QOfB0HohieXR7UvCPRDE8uj2peEDnwdB6IYnl0e1Lwj0QxPLo9qXhA58HQeiGJ5dHtS8I9EMTy6Pal4QOfB0HohieXR7UvCPRDE8uj2peEDnwdB6IYnl0e1Lwj0QxPLo9qXhA58HQeiGJ5dHtS8I9EMTy6Pal4QOfB0HohieXR7UvCPRDE8uj2peEDnwdB6IYnl0e1Lwj0QxPLo9qXhA58HQeiGJ5dHtS8I9EMTy6Pal4QOfB0HohieXR7UvCPRDE8uj2peEDnwdB6IYnl0e1Lwj0QxPLo9qXhA58HRw8i8TJXU6Pal4S70IxXOUO1Lwgc0DpfQjFc5Q7UvCPQjFc5Q7UvCBzQOl9CMVzlDtS8I9CMVzlDtS8IHNA6X0IxXOUO1Lwj0IxXOUO1Lwgc0DpfQjFc5Q7UvCPQjFc5Q7UvCBzQOl9CMVzlDtS8I9CMVzlDtS8IHNA6X0IxXOUO1Lwj0IxXOUO1Lwgc0DpfQjFc5Q7UvCPQjFc5Q7UvCBzQOl9CMVzlDtS8I9CMVzlDtS8IHNA6X0IxXOUO1Lwj0IxXOUO1Lwgc0DpfQjFc5Q7UvCPQjFc5Q7UvCBzQOl9CMVzlDtS8I9CMVzlDtS8IHNA6X0IxXOUO1Lwj0IxXOUO1Lwgc0Dq6H/wBP8XUvaph8uOUvCZfVxjedw3an4AOPB2Hq4xvO4btT8A9XGN53DdqfgA48HYerjG87hu1PwD1cY3ncN2p+ADjwdh6uMbzuG7U/APVxjedw3an4AO281fH3fuPNXx937kkatDHKpK0YVHBtpVLLVdtvDe2TztYJiJlr+avj7v3Hmr4+79y9aWptU9SFSbqRc4qMc7JpNvPjaK19Jqmk5UqyT1V7q2ydktu24T0W+DH5q+Pu/ceavj7v3N6hV1462rKHRJWZixOMVOUYKE5zkm1GCV7K127tLhQRETM6a3mr4+79x5q+Pu/ckKctaKdmrq9mrNfNFK9VU4SnL3Yxcn8krsI1zpoeavj7v3Hmr4+79yRi7pNbHmVAjfNXx937jzV8fd+5JACN81fH3fuPNXx937kkYsViI0qc6k76sFd2zYI57NLzV8fd+481fH3fubeHxLqNrc6kLcM0lf5ZmZzSaTaTexXzdttgnWkd5q+Pu/ceavj7v3JIBCN81fH3fuPNXx937kkAI3zV8fd+481fH3fuZKOlac1GWrUjCbtGco+y3eyV75XfGbzCZrMd0b5q+Pu/ceavj7v3JGMk0mndNXTWd0VCEb5q+Pu/ceavj7v3N5Vk9TVvJTV1KKvG1r+8ss+DjMgGlT0fqq2t3F28vi7jbAGpvL4u4by+LuNsAam8vi7hvL4u42wBqby+LuG8vi7jbAGpvL4u4by+LuNsAam8vi7hvL4u42wBqby+LuG8vi7jbAGpvL4u4by+LuNsAam8vi7hvL4u42wBqby+LuG8vi7jbAGpvL4u4by+LuNsAam8vi7hvL4u42wBqby+LuG8vi7jbAFMHR1L53vY2THS4S8CpQwYzFRowcpfTpf5ERRq4nFSbhLUpp5ys7ZWyVn7WTeadrr6FZtqdQtFeNp4EdDByjF7nWnOayetNbemysns4C/BaRjUluUlKFWO2M1a/Snsf0JhGvg3wUKkoa5D0Y6teCoRrwi5ydWE4tQSabum8r61vdfCya1GNRhetunbntH4GpfC6yqU9WhNSayabnGyff1EhpSjKVGEYqUmqtF8bsqkW2/pmSOoxqMJnJMzEsE0t0hdSvaVmr6q2XvwX2Wv09JqaTjBuLkq6kk9WpRjJtX4PZv0bVbIktRjUYVrbU7QkIzcqbxMKsnucNXUTspXetfVyT93N5GtWhWnOtq0qkVKlXjKNpO8v5PaeTbztbZex0moxqMjTSMuudIFUK2+LuU07x3O1OUlqqKTTkmopX1rpq/da/StKtaEn/iTjrWhCnPVle1k3GV4yyyk8ldk3qMajGkebzE6c/Q1pV5OMarqLESzvLUULZpu+r0W23szFThXlumpTqU4yhByjaad1U9tKUtstW6urcB0cMOo31YpXd3bhb4S7UY0t534OfxdBy1NzVWFD27p06knrPVs9W6kla9nsTv8ze0rSnPA1YJSlN07Wtm38uMktRjUY0rOTt+CHnJSpyjTWKc/Z1ddTjaV8neStZcPRcwb2evh5VYVZShOaqNazvJq6krfydy2PhJ/UY1GNHmuenhKu5a3+Jd1puonrT9hSnq2gmnb3XZd5SrhKrp1LbtJxoLc37UXrqUmsr7bau27ttOi1GNRjS0ZpQdalKm6sVTqTpOdO2c5W9l60ss5K6V0uFm9odTWHgqmspLWXtXTspvV257LG9qMajClsm66c/QjOWCjhlTqxm1qybg4qC1ruWs1Z2Wy3DYrDC1JVqiqOpdupkoS1ZQaeqte+rb3crXuulsn9RjUY0t52t6hzLw83SoJKrCmqbTW51JSVTLOyafHZ7Fn0G9To3qTVWFWVRt6svaUdVxss07LhuuP6ExqMajGicsy53DUKsaFCNGNSE40qilraytU3NJe9wX2cBdOhKUZKjCvCD3JPWclK+6rWavn7t7vYzoNRjUY0nzp3vTQ0ZSlBVYtSUVVlqa137Nk8m+C9zdLtRjUZLGZ3O1oLtRjUYQtBdqMajAtBdqMajAtBdqMajAtBdqMajAtBdqMajAtBdqMajAtBdqMajAtBdqMajAtBdqMajAtBdqMajAtBdqMajAupcJeW042LgOe07NzrRpptP2YprbFzdr3V7bVtTRv4qrHDqChUhFRWrqSaSsujb839TV05RcalOtZuMZRb4fdlfhyV18jZxNOPsqjF3mr3hJxWq23k07ZtvPpvmZV7y0ntDRw+lo3mo1Ia0pO+tJK3tyyXBstn+N0W+UNCO4U8RCac6bSdRNbONv524VtK4TBShKcoa7cfZa1pKyU5WW33bZ8a6c0XeUEqccIlCLvUcUltlZZ8pPLofCaNKa8yOlKaIxm+MPTq5XaztbanZ7G+FcZukT5MU3HBwvf2nJq+te2s+UrksSwtrc6ChU16+MhTajJvWedoxlN242op2XSwhsAoAKgomAALVUV0r7U2vp0lwFShgxOMhScVJyvK7SjGU3ZWu7RTdldZ9KM6AqULFVjruF/aSUmuhtpPuZTEYiNOOtJu17Kycm3xJLNgZQWUqinFSV7PjTi/qnmi4AAAKgACgKgAAAAAAoCoAFCoAFCoAAACgKgAAAKAqAKAqAAAAoCoAFCoAFCoAAACgKgCgKgCypTU4uMldPgNSlB4dWlNOlfJykk4dGe1fW5djsduMqd1eMm7viS4TUjpeUnBblfWim0m285NcXRwmc3rE6nuvFLTC+vpXDUNe09aTd3GF5u9uJX1V3ZkNDCV9I1VUqwdOhwa1ndfCnrJ34ZeySrxLp7o9wpLcrbHwy2WyNmjjpOdOMopa+tylbVSeySQ8yvZeN1jiP1blOmoRUYpKMUkkuBLYi8oVNGIaM6VSFedSEVNTjGLTlquLi3b6PW7uG5vACFlgK7cvatdyvJTftp1FKOX8urG6D0bV1kr3j7cc5tpRcptW4U7SS4dnQTQAhaej6qp5XjKNGEIR3R2Uk5az+qtmZIYWs6ilUjrR1pNR3RrUvO6fTl1bFtZLACEho2sqahH2ElNO1R53qRafR7Kl/tmvi6VSFSEHujppuVouTbTq3UYu+bsrNO+TyOjKAR+lMNKpquEG5pSUZxqajg3bri7K6z2LJmKWFrLdPZjOcv53NpNXj7OrdWsk/9tksAIHzbiLK8v5YKSUs5KM6jtd9Eo/O1jfr4ZuhCEoyqOOr/AD6srpbVJWz6uE3wBARw2IdZRk5NxhSevrtKP+LUb2ZTeqkn9OMupYLE5uoo6rcXKnGbs/ZmpWb6XB57bcBOlAI3BYSrCvKc3KzTt7d1Z2srWvlZ5/XhJIFQAAAAAAAAAAAAAAAAAAAAAAAAAAAAAAAAAAAAAAAAAAAAAAAAAAAx1KMZNOSTava/SrMtpYaEHeMUstXLive3eZQRqO6dyxSw0HrXinr21um2wxvR9GyWorLZ9TZA6Y+BuRKysipQqSgAAAAAAAAAKAVBr4TEqtHXjGSg/dbt7S410fM2AmY1xLDip1IwbpQjOeVoylqLpzs/wNDfWO+yUfvD/TJQNhCL31jvslH7w/0xvrHfZKP3l/pmHH+UMINxprXlx/yr+5EVdP4hvKaj0KK/MytmrDqx+Ey3jetfmnd9Y77JR+8v9MrvrHfZKP3h/pnOx8o8TBq8lJX2OK/ImdHeUlOo1Gqtzk9j2xf14PqTXLWVb+GyU7w2d9Y77JR+8P8ATG+sd9ko/eH+mSdypo50XvrHfZKP3h/pjfWO+yUfvD/TJQARe+sd9ko/eH+mN9Y77JR+8P8ATJQARW+8d9ko/eH+mI4zGtXWFoNP/wAy/wBMkqt9WVttnYhMPHHKzkpt5XTlC1txhfY9rmp59PEBtb6x32Sj94f6ZgxWlcVRjrVMPQiti/4htt8SW53b+RjxWIxEG4wjUlUmludOUo3tZuV2nZW9lXf0buW0cBiVU15606mrq7o3FrbF+yrrVTV07Z5cORC8VjW7MmG0tjaqusAkvirpda1bour6Tx0FfeCklya6fdq3LakMbruynqpTa9qG29LV4dllV/3Y2dGV5TqVNaUmuDOLXvPPJuzs45O2z5kp6q/2x+/1aeF07iKstWOHoqfDCddwkv8AK6Zub6x32Sj94f6Zk0rgVXjCLgpJSu2rayVn7rex3tms7XNWjTxWFgm3LEU9soN3qQ/pf86S4HmQdNbdvv8AVm31jvslH7w/0xvrHfZKP3h/pm7hMVCtBTpyUov/AHZrgfQY8bpClQS3SWcsoxScpSfRFZslTpnetctbfWO+yUfvD/TG+sd9ko/eH+mU89PbvXF249zX4Xv3Gxg9KUazcYT9tbYSTjJf5XmFpx2jnTBvrHfZKP3h/pjfWO+yUfvD/TJMqFEXvrHfZKP3h/pjfWO+yUfvD/TJQARe+sd9ko/eH+mN9Y77JR+8P9MlABF76x32Sj94f6Zir4zSC1NXB0neSTtXvZcL9xW7/kTJQAthUoVAAAAAAAAAAAAUKlABqaU3Te9Xcr7pqvVtt+nSWaVk1DJtbdmXAcvisfWp1LwqzTu+G628TOa2eItNNOrBgm87hm8lXX3y/wCJueq9fWva/Bt4b/mdgcXjdNYicYrX1U4pvVVr/U39H1pu15yefC3xRKTnjHHxb+Iw2vPXOodKVKIqdjzgAAAAAAAAw4qLdKaW1xaXUZigGto2SeHotbHTjbso2jR0L/ytNclOHZbj+RvBa/FpUOX8pdKSanQpO2TUmuF22HQaQxG5UZ1OSsvnwd5wd283m3tZz5r9PEO3wWCMkza3opCesk+NXDEFa6+q+v7iTOSYevWeGDEe6+jPqdy2Qrv2ZfJlsmWjsxt3l0fkxpqSmsPVldPKDfA+I608qc3F3Ts1mmel6LxW74enU4ZRz+ex952YrbjUvI8RSK23DbBQi8b5QYei3HWdSaycaa1rPib2L6s0mdOeImZ1CUBzb8rP/Lu3TUV+5GTD+VtFu1WnUp9Pvruz7iIvWfVpOHJHesugMeJrxpU5VJu0Ypt/QYfEQqwU6c4zg9kou6GIw8akdWaurxlbpjJSXekWZxrfLV0bh5e1Wqr/ABalrrkR/lgvlw9LZvAqCZ3O1BYqAhQFSgEPpanva+Ko5TyU6fBWu7JWX8/E19TWwOKoUqW+69RSr1E9bL2o2dnTjHalFtLvZt6Si6uLoUotLUUqzurq6tGOX+ZnMaaopY2reWs7JSySV3FXsvlYzvbpjbuw08yIpM8z/Hwb+I8pq8pXgoQjwJrWf1ew0qumnVdsTTjNLZOHsVIdMZX7jSvkas5Zv5L8zmjJbfLtnw+KsR0w7fRWlHeEKk1Up1P4Na1tZ8MJrgmu8lqGJhUc1F3cJasstjsnbvRxPkrNValXC1FrU6kde3FKLWa4nms+hHReTqd8XduVq8o6z2vVjFNvqOqs7h5mSkcz8E0AC7nAAAAAAAAAAAAAAAAAAAKFSgGhpb+H9H+ByGkPf+svxO2xuH3SNr229+REVPJxTnedXK7ySs83xs4b4bzkmYjh3+FzUxx7Uuar/wAv9CJvR35v/wBpvYnybozitSUotKyd9ZP5oy4bRDh/OnnxdC/sUy4LzGohrk8TjvTUSlipQqei8sAAAAAAAAKFSgGnozKNSPJq1O+Wt+DRumjgo6tXErjnGXXTivyN4LX7ofynlbCtccop/icimdh5S0XPCStti1Lv/c4yMuviOPPHtPW8BaIpr8VZvK62otc01dbGVbNdZSa4Hmvz/wB9JlHZ1zOp/Mrv2WWzZbXeX1X4otnItEMbW5lZN8B3nkbNvB24pyS7n+ZwUVwvhOop13h9F04Rdp4iUs1k1H+Z9SS+qN6TrlwZom+oj1lXTmnpVZ7jRbjRu4ymnZzavknwR/H5bYqKSSSSSXAiydP2Ullq2a+hkWaTOe95vy9PBhri9mFsjBJ2mulfh/8AJnma1R+1H6/gVqtk7M+Dx1TDVN0ouzfvRfuz6Gvz2neaJ0nDFUlUhk9kovbF8T/3sPOps3/J3SO98VG79iq1Cf191/R9zZ04r+kvN8Vij3oehlSgOl5yoIzGafw1FuMqmtNfywTm187bPqanpXQ5ut2Y+IibRHdeMdrdoTxQiMJ5S4Wq1HXdOT4Kice/Z3kvclWYmO6Npq+kKr4qFNdc5/2OY8oabhjKt9ktWS+Wql+KZ09N20jUXKoQfVOa/NFunNE75gnFqNWHut7HfbF9BnevVXTpx5PLyRM/CHCVJbH9DXnLNm5jMDVpy1alOcH8nZ/JrJmPCaLrV5Wp05yzzb9mK+cmc0Ul33zRrcSkfI1NYqdR+7ClJyfFmrfg+o6nyZi95wnL3qjlUf8Amk3+FiPraPjgNG1op61WotWUtl5S9lJdCuaWI07NQjQw8tSnTjGGva7lZWur7Fl8zo3FI5cUUtmj2fWf4/67IHn09LYmNmq9TJ8q/cyf0D5R7tNUa9lUfuyWSl0W4H+JNctbKZfDXxxuXRgoVNHMAAAAAAAAAAAAAAAAFGVKAaFTBym3KdOi27Z3lwceRZ5tTedKj87yfR+BJAnciN83bFuVGyyWcuMo9HX20aOaV1eXBks7cViTBPVI18LCcVquMIxWxRbfD0o2ShUqAAAAAAAABQqUA0aN1jKy4JUqbXzUpp/kb5oVJ2xtNculP/8AWUPEb4Wt6MdampxlF7JJp/U4HHYR0qkqclnF5PjXA0egkdpfRUcTHbq1I+7L8n0GWSnVHDfw2by7antLhJNrp7mYKlRa0c7bduX4m9jcLUoy1akJJ8HE/k+E1NVt3fyS4jm1ru9ObdUezLDUd3HPhv3GOcle11xmXUTbdlxbDNgcBUrVHGlByeWaWS+b4C0QwtM95U0dgpYitGlD+Z5viXCyc8o7LEwpRVo0aUYx/wAzd+6MTodCaHjhYcqpL3pfkug5vylyx077HCDv2l+RpeuqSxw5ItmhoplqlZ2+qKXLKqbWW1Zo5Yetb4wrNmCb9qP1/AuVS6uYZy9tfJ/kWiGd7cKzZgk+J2yL5yMa4WzSvDlyzvh6rhat6NOcrK8IyfRldnI6X09LEzdOlKUKFveWUqn12qPezZ09jnvbD4aLtulOMqn9CSy+r7kyBnGzjLiyfyZplya9mGHhfDxaPMt2Xxioq0UklwIo2XmORyPXnWmBvOUXmtpIaJ03UwjSzqUOGntcemDf4bPkRz9/6fmWzZrW01lxZcdbxqXdYrFQ18PjaclKi04TkuCE2mpPitJK/wAzbrY5xSklk3JJWbfs3zyy2rhOV8k8at0lhKlnSrJ6qezWt7S+qu/p0k5BvB3hVg6mH2RqpazguTNLP/N1nZE75eZam/Z9Y/dJzryhJqSvF+7q7W+LPLjZiljJOMXCm7yjKUYtrga4U7cJC1NMwTlNPA3fDu7k3bZdKN7mTCaRxeLypU4U4NWVe0rJWz1YySbezoJ3CPIvrc8NDylxkq71NkKLippcNSSeV+iKl1kTkszp9LaFhSwMo0k9aDVSUnnKdr3bfC7NnKSllmcuaJ29Lwl69MxHotry/wB/U1p1XFqUXaUWmnxNZounLJfP8GYo05VJKMc5SerFdLyRSscrZrxMPWaM9aEZcaT60XllKGrGMdtkl1IuO54qoKFQAAAAAAAAAAAAAAAAAAAAAAAAAAAAAAAABQqUA0MVH/i8NLoqx61F/wDtJAjtIytXwnTUkv8A+cv7EiQvbtX8v8yGDF4ynRjr1ZxhHjbsZpPIgdBYaOIisbWWvUqOTipZqnFNpRiuDZtCa1iYm09l9bSrrx1aODqV4cc0qcX0py29RG1NBVajvHDUaXRu0n+CsTUMVJwoTam51c7RaSXsuVmm9itbjua2F0lOODoyhCNSe4U6tRym4L21wNJttvWysRNd91ozdPux/KOo6BnS97C0q1uBV5L8YkrR0mqMVGphK1FfBBTivrC/4F2KnW3eEI2jOpQm5Wd0pRnC1m0r+/JXsvoZ67qKNCm5tVJTWtKPFG8pcGxpW+oiuuxOXq96P5bGExlKtHWpTjOPGncgPLDCfwq/Ar05/XOL67r/ADEhTrQWkJU5UoKbp60KkdrjfNS+uwksTh41acqc1eMlZoTHVGkRPl3i0POM10rv/cprJ7Da0hgZ4apudTNP3J8tf340aVRLa+s4prqdS9muSJrus8MccnJdN+tGJv2n0IvjB5u7V+PMxxi83fb0FtMZtOo4WvN/I2dH4R169Oiv55WfRHbJ9VzXhDJbXfgXC3wdJ3fkvoR4eDq1UlVmrW5EeL5vh/Y1pXcuXLfpj8ZQGlquvjK74IyVOPyjFfm5GuXY3LE4hPaqs+93Mdznye/L0vD68qsfgqpZW4UY5strSt7XFt+RRyIXidcMUn7X0/Mtmyjl7b+SLJysX0wtbiV2GqyhWhOO2EotfSR6ueTUMpRb41+J6ydOPs8vPHO2LetO99zhfj1UZUipQ1YTMz3GcnpbyXmm5Yazi/8Aw3lb+l7LdDJvE4mootxvrXn7OWSSlZv52TKYrE6kpKFS9rXgrNxzTv8ALV1r340VtWLd1qZLUndXGejuLbS3vJdLlHvzOk8n/JpYZqrVcZVV7qXuwyz+b6SVhiJymo6sdXNSd3fZttbZnkY4VKsY7rOSVNQbceG64bkRSIWvmtbhq6f03va1OnZ1ZZ55qCeV2uHoXzOWqY2s25SrVW3w67XcskY61WVSc5zetKTd2+jJfgY5TyOXJkmZ4er4fw9KUiZjcy28Bp6vh5X15VIXzhN3v8pPNPuO5wOMhXpRq03eMl1cafSmeYTlt+Z1nkHVk6deP8qkmvm1Z/gjbFaZ4lx+Kx1j2qurBQqbuEAAAAAAAAAAAAAAAAAAAAAAAAAAAAAChUoBGaW/j4L/AKz/APSmShFaX/j4L/rP/wBORKkNLe7X79ZUZCKFbBTnqU5VsNOTlqw9+m3tSj/NG/FsJwoEVt0/kiaOnME5fxIQnwqcXBrrRfSxmDpxit2oWjlH245LgS+RIVKMJq0oxkulJmBaMw977hSv/RH+w5TvH8J+/wBGhLTuDVRyVXXnbVShGUsr3ysuF/giyrjK9eS3vhXBq6VavFR1U9urHayahSjFWjFJdCsXDlPVSO0fP7ho6N0ZGgpO7nVnnOpLbJ/kuJG82CFx7li8Q8LFtUaaUq7WTlf3aafBxsdkRu87mTSGk8HWUqMk8RxxpwlOz401sfSmcridGz1r0KGKlG+yrS1WvqtvUd5BU6OrSpwSybUYq2S4e9GOWPSlJOLjqQdSd9qV2l16sn9CJrvu0plrT3Y+cvP6uDxCT/4av/8AjZbg8NuktSVSnQ/6zcX1Wz6z0qNeLgpXSXS1k+J9JqYvEUtZRqKM6c4SknbWXstXXT7y6mU8qGk+K36aamhfJ+hh7VE91qcFR7F/Sti+e3pJo5+eGjTpLEYOUqV2ludtaEm5KNnBvLN7YtfU3sNpZ68aWIpujVeSvnCf9M9j+TzNI4YTXq5id/y5nylwm54yT2KslNP4ktWS7ov6kXrW29Z3enNGb6oOKaVSL1qcuKXE+h7GcNJNSlGcXGcXaUXtTObNTU7eh4TLuvT6wslmYKb9m3FddTL5xSzTa+RhipJbVx5oyiOHRa87Wp5y/wB8BY838ivtJXy4yqha130WSzb4ull9OabN3Q2D3fFUaVrrW1pf0xzffZfU9NIHyW0M8NTdSorVqlrrkR4I/Phf7E+dVI1Dz8t+qwUKgszUsErFQBRoWKlAPPNJ4Z0MRVpvZrOS/pk7p/ivoR855noOmdDwxUVd6lSPuzWf0a4UcnX8mcWpNbnGfFKMo277M5b4p3uHp4vFR0RWe8IGT72ztfIXDyjRq1HkpySj06qzfW2voR+jvJCrKSde1KC2xi05P6rJd52lCjGnCMIJRjFWSXAjXHTXLmz5YtxC8qAauUAAAAAAAAAAAAAAAAAAAAAAAAAAAAAChUoBE6Wf/F4Ff/cm+qm/7kuQ2nnq1MHU4I10m+JSi0TBENL+7X79VQY6yk4SUJKMmspNa1nx24SO3pjftlL7v/rJZpUEXvTG/bKX3f8A1jemN+2Uvu/+sCUBF70xv2yl93/1jemN+2Uvu/8ArAkyEdXeeJqyq/wK8lJVORO1mpcSdlZmxvTG/bKX3f8A1mDFUcVCP+Ji6bUnq23q5XybtZTfAmQvW2u/aUi6V57rBp60FHPY1e6af1fzNDzS4vVUsp0oU5y49SblLtKUjRwmi6tBvctIQgm/4bpWim3wRcss+IVK2kvZlTrYWpTk7RaVm3xJN7cnwja3RE+7P+EnU0W5wUZuEnubhdxvZvbNLjZmlhE69FpJQpQnwWzlqpLqUu4556Ux97KUbpXd4U0lnbbunHkbVCWk21ulfC008llrPPZls4Hw8A2jy59Zj5prE0P4VtWNOnLWktmSi7fKzs/oa2E0jviu1SSlQgnrVLZSndWUXwpK92R+I8m8RWadXG7olnqSpex2VJG7TwGLhFRjiqMYrJJYayX01wT0VjjmUrKSSbbslm2zldL4vR+L/wDEmqkclVp05O3Q8rSX+0bGnaOLhhK0p4qnKOrZxVDVbTdnnru20y4fDYunGnRhiqWUE0t75RSyzev/ALzE88LU6a16p+jia84Ql76qLglFSXXGSuu8tVVTyipNvgUWdjVqYvXqKWJp/wCFSU3HcE760pJL39vsd5SeiJVHFOphZa1895p7NvtKW2/SZTih0R4qutan7+Tn8LoPFV8o0XCL/mqewurb3HVaF8mqeGaqTe61lsk1ZR/pXB83mRK0Gnr7hjaSnFNtUYtNW+VT8jNo2hipyjGOkKrvCM7ypRks1fhkXrWKsr3i/wDV+3/XWFTnqNHSFS0o4qnaM5R9qlbW1W48D2XXQS2LpVpRiqVWFKS95unrp5cCurFmFq69dtsEVvTG/bKX3f8A1mOvTxdNJyxlPN2VsM22+hKdyVUyCFtibX3/AELJJu9BKyey/t5XKuOKvbf9C99X+AtvF/E2gTJirVNXVS2ylZdTf5EVGOKes1j6NoZSe4ZL5vXLakcRlGWPw71rJJ0E73zWWv0AbNPE1J1ZpNJwjk3F2vryTyvn7q4eEyQxFSevFJKUbbGsnZXWe3PW6iPlgas43eMw0oWt/wAunG178u3A+8z0sBikk4Yqgk1k44ZbNq2T2ZgZ8RjNaFRRjKypykp3Vsr2aV77UVWJrak5OMY31VTbzu5WSur8bNeWjcW4yjvqlaV07Ya177f5zJgcFiVVm8RXp1qd04RVLV1Wks9rtnfj+gEmipQqAAAAAAAAAAAAAAAAAAAAAAAAAAAAAAChUAaukMDHEUnSndJ2d4uzTTumiO8yV+DH17dNn3k2CNL1yWrGoQc9AVJK08dimuFKSiTFClqQjG7eqkryd27cb4zIBotktaNSAAlQAAAwYrCQq6qmlKMZa1mk08ms0/mZwBHVdEQlf2pJuSldWuve2Pg95l1TRkZRjFylaOsuDNSlrW6NizWZvgCLqaGUo6u6zSaUXayyWSWS4istC03Z60snfg2WzXyvd/NskwBQFQBE+VH/ACFf+lf9yNuGHzVSLSlKEYu6umldr8X1jSmD3xh6lK9nONk+J8BGU6WlNVR1sLBJJXWtJuxHq2iItTW9c/Rm8zxi4wjdQdOnBtKz/wAKTa2bL6zz6DflhtahuUpN3jquXHlZuxG7w0g9uOjHojQi/wAR5lry9/H13/QlD8BtHl1j+qP3+jenh3GnVcc5zjZJKy92ySXAjJSpxpUowTitWCim+hWVyN9HIv38Ti5rilV/Yuj5LYPbKk5PjlOT/McnTj/un5f7ZKGkcLh6UKc8TSbhGzesrt8LsntZk0XpNYl1JQi9yi0oTaa18s7J8CyMlHRGGp+7QpL/ACp97NxJLYOUTNNcbDBjMKq0NVvK980pL6p5GwaeNpVpNOlXjSSWalBSv03urEqRG5a60LBS1lOetwN2k07We1Z3RctDwu/ak8mlsyTbfF0vM0J42ztPStGPRGNNPvbLd2ws37Wkqk+iNWMf+xIjbWMU/cT9EpDRsY05Q15ZuLTsstS2rwZ7FtMcdERSsqkkr32R22s3s4uo0XT0c/enKfzqVZfmWujozkd1QbPL/P5f7b0dCU9Vpzm7p3be1t3T+az7TN/DUVThGC2Ig6VDR0pqMFNSbstV1Y/gTOEwipJpSqSTd/bm526E3nYK2rFfj+sNkoVBLMAAAAAAAAAAAAAAAAAAAAAAAAKFTRxDk61pboqeqnHUvnK7vrNbLK23LN7QN0EVvzFK16UVlG9oydta13lt1bvLa7cCLcLWxF466krqTleDl/KpJKzyzm1/ksBLg1MfKS3NLX1G3ruCbdtV22Zq7tmjRhLFJ3tKVlaMXfLa/aaftbYJ5cEgJkGhjIVpSpwg7ezJykm4q+SWy/G3a/BtNZ4rFWT3P3W+CXRH2lbPbrezxW6QJgqY6Dk4Rc0lJpXS2XtntMgAAAAAAAAAAAAAAAAAAAAAAAAAAAAAALZwUk00mnk087lwAwwwtOPu04L5RSMiguJFwCdzKlgVAQoCoAAAAAAAAAAAAUKkXpyrKEYasmrt7HYCUBybxdXnJ9plHiqvOT7TKzOh1pQ5DflXnJ9pmni9IVksqtT3ZP3mR1DuypxMMbWt/Fqdpld/Vudn2mOodqDit+1udqdph42tztTtMdQ7UHEvG1udqdph42tztTtMdY7YoYt9U+ch2kN9U+ch2kXGUGLfVPnIdpDfVPnIdpAZQYt9U+ch2kN9U+ch2kBlBi31T5yHaQ31T5yHaQGUqYd9U+ch2kN9U+ch2kBmBh31T5yHaQ31T5yHaQGYGHfVPnIdpDfVPnIdpAZgYd9U+ch2kN9U+ch2kBmBh31T5yHaQWJp8uPaQGYGLfFPlx60N8U+XHrQGUGLfFPlx60N8U+XHrQGUGLfFPlx60N8U+XHrQGUGLfFPlx60N80+XHrQGUGLfFPlx60N8U+XHrQGUGLfFPlx60N8U+XHrQGUGLfFPlx60N8U+XHrQGUGLfFPlx60N8U+XHrQGUGLfFPlx60V3eHLj1oDIDHu8OVHrG7w5UesDIDHu8OVHrG7w5UesDIDHu8OVHrG7w5UesDIDHu8OVHrG7w5UesDIDHu8OVHrG7w5UesDIDHu8OVHrG7w5UesDIRHlB7sPm/wAiT3eHKj1kRp+onGnZp5vY/kBDthyLLlre0zlBJmhjqiinfk/i/wBjcbNGpQ3bFU6XA1d/JXZERyloqtWrTtDWb4Im1Q0Ji767erw7TtNH4GFGLajFdJix9enD36kY342Wmfgq42WLrUZKNaOT4TfoV41I60djK6ccZ0ZOLUrZproInQMn7avlZMiY42lMNhhlCiXTeZpcuPUPM0uXHqJkG4hvM0uXHqHmaXLj1EyAIbzNLlx6jFW0FUk42qpcDyea29eXU2TwA5zzDiLZV4bORwl1PQNZSTdZNcKttyX5o6EAc4vJ6raot2XtJ6u32W2/7oyR0DUVNx3VXd7Ozyu8ifAHOvydqO96qtrJrbktdu3U0voJ+T9Vu+7K3Ek0vda/NdR0QAhloads5x6h5mly49RMgCG8zS5ceoeZpcuPUTIAhvM0uXHqLo6Ikv549RLgCK81S5S6h5qlyl1EqAIrzVLlLqHmqXKXUSoAiJ6Jk4ta6V1a9nkYFoSr7X+JFNxSvm87bbE8C0WmBAy0HVtH/GWtGFr2dnLLOzC0NiL3daNuLV+XR0PrJ4E+ZIg6Oh66acq0WrZrVtmYY6BrqNlXivZSeTd3q21rvZmdEB5kiA8zYjO9aO3K0bcOzZxFY6GxF7utDastXg4f2/MngOufuBFeapcpdQ81S5S6iVBQRXmqXKXUPNUuUuolQBFeapcpdRkWjpW95dRIgCO83S5SHm6XKRIgCO83S5SHm6XKRIgCO83S5SHm6XKRIgCO83S5SHm6XKRIgCO83S5SHm6XKRIgCO83S5SHm6XKRIgCO83S5SIzTWHdNQu073/I6Qg/Kf3aXzf5ESIJSLWyhQpKCsmqbmtqnFW47p3/AANSjKW/ITjwNrrp3/E2sXO1BLjm31RX9zQws9WvTb5f4RsRtMcpCOHxNWspNyXDm3kuK2xGzpXRrqVlml7Oz92b+Ix+yMbQj70pfh9CLxmJnJ3dTWjb+VbS/chijo2dNPX2Ws0zVwGH3OLXDfP8jfhiJThm3bp2mtOpwFLTwL2Y6jy+odUsqVFw8ZRL0YAHQgAAAAAAAAAAAAAAAAAAAAAAAAAAAAAAAAAAAAAAAAAAAAAAAAAAAAAAAAAAAAACC8p/dpfN/gidILyo2UvnL8ERPYQCEY3KcBfTi3kldmaGlitduKSvHPPiZrUl7a+c33ky8G8tZpF1HQ8Iq93KST4bbczSMN59FPNrC2hiouKjUWSyvYvryoxhnWbXBGNkU0tShSpU9lk/aXC09rXy2/Qj62jH71N3T+oms04lNL9XMKyrKTShsNd14u7TTSdvqZacNTbtNDRuHzrvgcr/AC4ymupaZ0zObKt3FWjJZ2uugxp/iJrpaJepg8v9Y+N5rDdmfjHrHxvNYbsz8Zoh6gDy/wBY+N5rDdmfjHrHxvNYbsz8YHqAPL/WPjeaw3Zn4x6x8bzWG7M/GB6gDy/1j43msN2Z+MesfG81huzPxgeoA8v9Y+N5rDdmfjHrHxvNYbsz8YHqAPL/AFj43msN2Z+MesfG81huzPxgeoA8v9Y+N5rDdmfjHrHxvNYbsz8YHqAPL/WPjeaw3Zn4x6x8bzWG7M/GB6gDy/1j43msN2Z+MesfG81huzPxgeoA8v8AWPjeaw3Zn4x6x8bzWG7M/GB6gDy/1j43msN2Z+MesfG81huzPxgeoA8v9Y+N5rDdmfjHrHxvNYbsz8YHqAPL/WPjeaw3Zn4x6x8bzWG7M/GB6gDy/wBY+N5rDdmfjHrHxvNYbsz8YHqAPL/WPjeaw3Zn4x6x8bzWG7M/GB6gDy/1j43msN2Z+MesfG81huzPxgeoA8v9Y+N5rDdmfjHrHxvNYbsz8YHqAPL/AFj43msN2Z+MesfG81huzPxgeoA8v9Y+N5rDdmfjHrHxvNYbsz8YHqAPL/WPjeaw3Zn4x6x8bzWG7M/GB6gDy/1j43msN2Z+MesfG81huzPxgeoA8v8AWPjeaw3Zn4x6x8bzWG7M/GB6gDy/1j43msN2Z+MesfG81huzPxgeoA8v9Y+N5rDdmfjHrHxvNYbsz8YHqBBeVHu0vnL8EcZ6x8bzWG7M/GamP8t8ViFFTp0Fq3tqxlw/ORE9hP0qbm1FbWSsYxppJcOXzOEw/lbiKd7Qo58cZeIun5YYmTi3Cj7Oz2ZeI1xTWkbnuxyVtbt2d27PJ7DGouPu5x4v7HEvyyxPIo9mXiK+meJ5FHsy8Rv5tWXk2dFisFKpio17KaSs4yduBq1uI29C4aM/8LXtJL3Jbfn8jkX5Y4jm6PZl4jDU8qa7qQqKNKM4O6cVJfR+1sMb9Fmla3h3uM0RTp51Zt32Rgs39Tm6WNcJzhTpxVJybzu3xbfoRlTyyxMr3jSu+G0r/wDcaVPT1WLvqU380/7lY6a9lpi093ZYWN2Za2ChNZrPjWTOSXlZiORR7MvEXLyvxPIo9mXiNOqnqp0W9HPgAwdAAAAAAAAAAAAAAAAAAAAAAAAAAAAAAAAAAAAAAAAAAAAAAAAAAAAAAAAAAAAAAAAAAAAAAAAAAAAAAAAAAAAAAAAAAAAAAAAAAAAAAAAAAAAAAAAAAAAAAAAAAAAAAAAAAAAAAAAAAAAAAAAAAAAAAAAAAAAAAAAAAAAAAAAAAAAAAAAAAAAAAAAAAAAAAAAAAAAAAAAAAAAAAAAAAAAAAAAAAAAAAAAAAAAAAAAAAAAAA//Z\n"
                },
                "metadata": {}
              }
            ]
          }
        },
        "525ec321e9af4336aa1a074e5ca34b76": {
          "model_module": "@jupyter-widgets/base",
          "model_name": "LayoutModel",
          "model_module_version": "1.2.0",
          "state": {
            "_model_module": "@jupyter-widgets/base",
            "_model_module_version": "1.2.0",
            "_model_name": "LayoutModel",
            "_view_count": null,
            "_view_module": "@jupyter-widgets/base",
            "_view_module_version": "1.2.0",
            "_view_name": "LayoutView",
            "align_content": null,
            "align_items": null,
            "align_self": null,
            "border": null,
            "bottom": null,
            "display": null,
            "flex": null,
            "flex_flow": null,
            "grid_area": null,
            "grid_auto_columns": null,
            "grid_auto_flow": null,
            "grid_auto_rows": null,
            "grid_column": null,
            "grid_gap": null,
            "grid_row": null,
            "grid_template_areas": null,
            "grid_template_columns": null,
            "grid_template_rows": null,
            "height": null,
            "justify_content": null,
            "justify_items": null,
            "left": null,
            "margin": null,
            "max_height": null,
            "max_width": null,
            "min_height": null,
            "min_width": null,
            "object_fit": null,
            "object_position": null,
            "order": null,
            "overflow": null,
            "overflow_x": null,
            "overflow_y": null,
            "padding": null,
            "right": null,
            "top": null,
            "visibility": null,
            "width": null
          }
        }
      }
    }
  },
  "cells": [
    {
      "cell_type": "markdown",
      "metadata": {
        "id": "view-in-github",
        "colab_type": "text"
      },
      "source": [
        "<a href=\"https://colab.research.google.com/github/DL4CV-NPTEL/Deep-Learning-For-Computer-Vision/blob/main/notebooks/Week_2/Week_2_Lecture_4.ipynb\" target=\"_parent\"><img src=\"https://colab.research.google.com/assets/colab-badge.svg\" alt=\"Open In Colab\"/></a>"
      ]
    },
    {
      "cell_type": "markdown",
      "source": [
        "# Lecture 4: SIFT and Variants"
      ],
      "metadata": {
        "id": "3JdIPfdtt2TU"
      }
    },
    {
      "cell_type": "code",
      "source": [
        "#@title \n",
        "from ipywidgets import widgets\n",
        "out1 = widgets.Output()\n",
        "with out1:\n",
        "  from IPython.display import YouTubeVideo\n",
        "  video = YouTubeVideo(id=f\"gEoWMLXk0Ys\", width=854, height=480, fs=1, rel=0)\n",
        "  print(\"Video available at https://youtube.com/watch?v=\" + video.id)\n",
        "  display(video)\n",
        "display(out1)"
      ],
      "metadata": {
        "colab": {
          "base_uri": "https://localhost:8080/",
          "height": 519,
          "referenced_widgets": [
            "2b7b7195ab4c44fa9946a80da3bfff13",
            "525ec321e9af4336aa1a074e5ca34b76"
          ]
        },
        "cellView": "form",
        "id": "rA0FZ1_3t3nO",
        "outputId": "a68cb89b-c25f-4364-f017-13188675f965"
      },
      "execution_count": 17,
      "outputs": [
        {
          "output_type": "display_data",
          "data": {
            "text/plain": [
              "Output()"
            ],
            "application/vnd.jupyter.widget-view+json": {
              "version_major": 2,
              "version_minor": 0,
              "model_id": "2b7b7195ab4c44fa9946a80da3bfff13"
            }
          },
          "metadata": {}
        }
      ]
    },
    {
      "cell_type": "code",
      "source": [
        "#@title \n",
        "from IPython import display as IPyDisplay\n",
        "IPyDisplay.HTML(\n",
        "    f\"\"\"\n",
        "  <div>\n",
        "    <a href= \"https://github.com/DL4CV-NPTEL/Deep-Learning-For-Computer-Vision/blob/main/Slides/Week_2/DL4CV_Week02_Part04.pdf\" target=\"_blank\">\n",
        "    <img src=\"https://github.com/DL4CV-NPTEL/Deep-Learning-For-Computer-Vision/blob/main/Data/Slides_Logo.png?raw=1\"\n",
        "  alt=\"button link to Airtable\" style=\"width:200px\"></a>\n",
        "    </div>\"\"\" )"
      ],
      "metadata": {
        "colab": {
          "base_uri": "https://localhost:8080/",
          "height": 100
        },
        "cellView": "form",
        "id": "WrHo4zh4t_Km",
        "outputId": "863b544f-9ba0-457b-8c04-673684569a3f"
      },
      "execution_count": 18,
      "outputs": [
        {
          "output_type": "execute_result",
          "data": {
            "text/plain": [
              "<IPython.core.display.HTML object>"
            ],
            "text/html": [
              "\n",
              "  <div>\n",
              "    <a href= \"https://github.com/DL4CV-NPTEL/Deep-Learning-For-Computer-Vision/blob/main/Slides/Week_2/DL4CV_Week02_Part04.pdf\" target=\"_blank\">\n",
              "    <img src=\"https://github.com/DL4CV-NPTEL/Deep-Learning-For-Computer-Vision/blob/main/Data/Slides_Logo.png?raw=1\"\n",
              "  alt=\"button link to Airtable\" style=\"width:200px\"></a>\n",
              "    </div>"
            ]
          },
          "metadata": {},
          "execution_count": 18
        }
      ]
    },
    {
      "cell_type": "code",
      "source": [
        ""
      ],
      "metadata": {
        "id": "wvT7F0cyuLI4"
      },
      "execution_count": null,
      "outputs": []
    }
  ]
}