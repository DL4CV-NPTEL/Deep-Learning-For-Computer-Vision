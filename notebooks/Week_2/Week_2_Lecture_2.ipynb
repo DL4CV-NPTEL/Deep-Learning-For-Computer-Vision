{
  "nbformat": 4,
  "nbformat_minor": 0,
  "metadata": {
    "colab": {
      "name": "Week_2_Lecture_2.ipynb",
      "provenance": [],
      "authorship_tag": "ABX9TyP/YjKQZPrMnpHAxu9cgVBq",
      "include_colab_link": true
    },
    "kernelspec": {
      "name": "python3",
      "display_name": "Python 3"
    },
    "language_info": {
      "name": "python"
    },
    "widgets": {
      "application/vnd.jupyter.widget-state+json": {
        "779ade32885c404b8ed6d6025a364deb": {
          "model_module": "@jupyter-widgets/output",
          "model_name": "OutputModel",
          "model_module_version": "1.0.0",
          "state": {
            "_dom_classes": [],
            "_model_module": "@jupyter-widgets/output",
            "_model_module_version": "1.0.0",
            "_model_name": "OutputModel",
            "_view_count": null,
            "_view_module": "@jupyter-widgets/output",
            "_view_module_version": "1.0.0",
            "_view_name": "OutputView",
            "layout": "IPY_MODEL_39b060741bd342dab45b73d201a92746",
            "msg_id": "",
            "outputs": [
              {
                "output_type": "stream",
                "name": "stdout",
                "text": [
                  "Video available at https://youtube.com/watch?v=1E44Sw8-RG0\n"
                ]
              },
              {
                "output_type": "display_data",
                "data": {
                  "text/plain": "<IPython.lib.display.YouTubeVideo at 0x7fe9b3978fd0>",
                  "text/html": "\n        <iframe\n            width=\"854\"\n            height=\"480\"\n            src=\"https://www.youtube.com/embed/1E44Sw8-RG0?fs=1&rel=0\"\n            frameborder=\"0\"\n            allowfullscreen\n        ></iframe>\n        ",
                  "image/jpeg": "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\n"
                },
                "metadata": {}
              }
            ]
          }
        },
        "39b060741bd342dab45b73d201a92746": {
          "model_module": "@jupyter-widgets/base",
          "model_name": "LayoutModel",
          "model_module_version": "1.2.0",
          "state": {
            "_model_module": "@jupyter-widgets/base",
            "_model_module_version": "1.2.0",
            "_model_name": "LayoutModel",
            "_view_count": null,
            "_view_module": "@jupyter-widgets/base",
            "_view_module_version": "1.2.0",
            "_view_name": "LayoutView",
            "align_content": null,
            "align_items": null,
            "align_self": null,
            "border": null,
            "bottom": null,
            "display": null,
            "flex": null,
            "flex_flow": null,
            "grid_area": null,
            "grid_auto_columns": null,
            "grid_auto_flow": null,
            "grid_auto_rows": null,
            "grid_column": null,
            "grid_gap": null,
            "grid_row": null,
            "grid_template_areas": null,
            "grid_template_columns": null,
            "grid_template_rows": null,
            "height": null,
            "justify_content": null,
            "justify_items": null,
            "left": null,
            "margin": null,
            "max_height": null,
            "max_width": null,
            "min_height": null,
            "min_width": null,
            "object_fit": null,
            "object_position": null,
            "order": null,
            "overflow": null,
            "overflow_x": null,
            "overflow_y": null,
            "padding": null,
            "right": null,
            "top": null,
            "visibility": null,
            "width": null
          }
        }
      }
    }
  },
  "cells": [
    {
      "cell_type": "markdown",
      "metadata": {
        "id": "view-in-github",
        "colab_type": "text"
      },
      "source": [
        "<a href=\"https://colab.research.google.com/github/DL4CV-NPTEL/Deep-Learning-For-Computer-Vision/blob/main/notebooks/Week_2/Week_2_Lecture_2.ipynb\" target=\"_parent\"><img src=\"https://colab.research.google.com/assets/colab-badge.svg\" alt=\"Open In Colab\"/></a>"
      ]
    },
    {
      "cell_type": "markdown",
      "source": [
        "# Lecture 2: From Edges to Blobs and Corners"
      ],
      "metadata": {
        "id": "QgVwbF0-pfgi"
      }
    },
    {
      "cell_type": "code",
      "execution_count": 1,
      "metadata": {
        "colab": {
          "base_uri": "https://localhost:8080/",
          "height": 519,
          "referenced_widgets": [
            "779ade32885c404b8ed6d6025a364deb",
            "39b060741bd342dab45b73d201a92746"
          ]
        },
        "cellView": "form",
        "id": "Rtsh0O7ppQPC",
        "outputId": "c019f47b-5f90-43e3-b41f-49797c079b11"
      },
      "outputs": [
        {
          "output_type": "display_data",
          "data": {
            "text/plain": [
              "Output()"
            ],
            "application/vnd.jupyter.widget-view+json": {
              "version_major": 2,
              "version_minor": 0,
              "model_id": "779ade32885c404b8ed6d6025a364deb"
            }
          },
          "metadata": {}
        }
      ],
      "source": [
        "#@title \n",
        "from ipywidgets import widgets\n",
        "out1 = widgets.Output()\n",
        "with out1:\n",
        "  from IPython.display import YouTubeVideo\n",
        "  video = YouTubeVideo(id=f\"1E44Sw8-RG0\", width=854, height=480, fs=1, rel=0)\n",
        "  print(\"Video available at https://youtube.com/watch?v=\" + video.id)\n",
        "  display(video)\n",
        "display(out1)"
      ]
    },
    {
      "cell_type": "code",
      "source": [
        "#@title \n",
        "from IPython import display as IPyDisplay\n",
        "IPyDisplay.HTML(\n",
        "    f\"\"\"\n",
        "  <div>\n",
        "    <a href= \"https://github.com/DL4CV-NPTEL/Deep-Learning-For-Computer-Vision/blob/main/Slides/Week_2/DL4CV_Week02_Part02.pdf\" target=\"_blank\">\n",
        "    <img src=\"https://github.com/DL4CV-NPTEL/Deep-Learning-For-Computer-Vision/blob/main/Data/Slides_Logo.png?raw=1\"\n",
        "  alt=\"button link to Airtable\" style=\"width:200px\"></a>\n",
        "    </div>\"\"\" )"
      ],
      "metadata": {
        "colab": {
          "base_uri": "https://localhost:8080/",
          "height": 100
        },
        "cellView": "form",
        "id": "N3xbDa2Hp7ck",
        "outputId": "24d8c326-b3fa-4a2e-c549-b0d19d6be66b"
      },
      "execution_count": 2,
      "outputs": [
        {
          "output_type": "execute_result",
          "data": {
            "text/plain": [
              "<IPython.core.display.HTML object>"
            ],
            "text/html": [
              "\n",
              "  <div>\n",
              "    <a href= \"https://github.com/DL4CV-NPTEL/Deep-Learning-For-Computer-Vision/blob/main/Slides/Week_2/DL4CV_Week02_Part02.pdf\" target=\"_blank\">\n",
              "    <img src=\"https://github.com/DL4CV-NPTEL/Deep-Learning-For-Computer-Vision/blob/main/Data/Slides_Logo.png?raw=1\"\n",
              "  alt=\"button link to Airtable\" style=\"width:200px\"></a>\n",
              "    </div>"
            ]
          },
          "metadata": {},
          "execution_count": 2
        }
      ]
    },
    {
      "cell_type": "code",
      "source": [
        ""
      ],
      "metadata": {
        "id": "Vkcyw8VkqPh4"
      },
      "execution_count": null,
      "outputs": []
    }
  ]
}